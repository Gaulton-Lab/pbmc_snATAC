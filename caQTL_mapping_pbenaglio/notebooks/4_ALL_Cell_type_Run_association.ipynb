{
 "cells": [
  {
   "cell_type": "code",
   "execution_count": 1,
   "metadata": {},
   "outputs": [],
   "source": [
    "suppressPackageStartupMessages(library(dplyr))\n",
    "suppressPackageStartupMessages(library(rasqualTools))\n",
    "suppressPackageStartupMessages(library(stringr))\n",
    "suppressPackageStartupMessages(library(parallel))"
   ]
  },
  {
   "cell_type": "code",
   "execution_count": 2,
   "metadata": {},
   "outputs": [],
   "source": [
    "coln = c('Feature','rsID','Chromosome','position','Ref' ,'Alt' ,'Af','HWEChi_square' ,'IA','Log10_qval','Chi_square',\n",
    "        'Effect_size','Sequencing_mapping_error_rate','Ref_allele_bias' ,'Overdispersion','SNPid_within_region',\n",
    "        'No_fSNPs','No_tested_SNPs','No_iterations_for_H0','No_iterations_for_H1',\"ties\",'Log_likelihood_H0',\n",
    "        'Convergence_status','r2_fSNPs','r2_rSNP')"
   ]
  },
  {
   "cell_type": "code",
   "execution_count": 14,
   "metadata": {},
   "outputs": [],
   "source": [
    "rasqual_caQTL = function(x, snp_counts, counts, offsets, covariates,  vcf=vcf_file, outdir, outlogdir,\n",
    "                         nsamples=13, lead=TRUE, permut=FALSE) \n",
    "{\n",
    "region  = paste0(snp_counts$chromosome_name[x], \":\",snp_counts$range_start[x] ,\"-\",snp_counts$range_end[x])\n",
    "outfile = paste0(outdir, \"/\",  snp_counts$gene_id[x])   \n",
    "\n",
    "outlog    = paste0(outlogdir,\"/\",  snp_counts$gene_id[x], \".log\")\n",
    "    \n",
    "system(paste(\"tabix\",  vcf, region, \"| $RASQUALDIR/bin/rasqual\", \n",
    "'-y', counts,\n",
    "'-k', offsets,\n",
    "'-x', covariates,\n",
    "\"-n\", nsamples,             \n",
    "'-j', indexes[x] ,\n",
    "'-l', snp_counts$cis_snp_count[x] ,\n",
    "'-m', snp_counts$feature_snp_count[x] , \n",
    "'-s', snp_counts$exon_starts[x],\n",
    "'-e', snp_counts$exon_ends[x] , \n",
    "'-f', snp_counts$gene_id[x],\n",
    " c(\"\",\"-t\" )  [(lead==TRUE) +1]   ,\n",
    " c(\"\",\"-r\" )  [(permut==TRUE) +1]   ,\n",
    "#'--min-coverage-depth 6',\n",
    "'>', outfile, \"2>\", outlog))\n",
    "    \n",
    "}"
   ]
  },
  {
   "cell_type": "code",
   "execution_count": 33,
   "metadata": {},
   "outputs": [],
   "source": [
    "###### set parmetes here ######\n",
    "maindir     = '/nfs/lab/projects/pbmc_snATAC/analysis_v2/rasqual/fine/'\n",
    "celltypes   = list.files(maindir)[!grepl(\".txt\", list.files(maindir))]\n",
    "P           =  FALSE ## permutation?  ## not necessary with the new vcf files\n",
    "folder_name = 'run2_perm2_lead'\n",
    "L           =  TRUE ## report only lead?\n",
    "nsamples    = 13\n",
    "####################################\n",
    "\n",
    "setwd(maindir)"
   ]
  },
  {
   "cell_type": "code",
   "execution_count": 34,
   "metadata": {},
   "outputs": [
    {
     "data": {
      "text/html": [
       "'run2_perm2_lead'"
      ],
      "text/latex": [
       "'run2\\_perm2\\_lead'"
      ],
      "text/markdown": [
       "'run2_perm2_lead'"
      ],
      "text/plain": [
       "[1] \"run2_perm2_lead\""
      ]
     },
     "metadata": {},
     "output_type": "display_data"
    }
   ],
   "source": [
    "folder_name"
   ]
  },
  {
   "cell_type": "code",
   "execution_count": null,
   "metadata": {},
   "outputs": [],
   "source": [
    "for (c in celltypes){\n",
    "\n",
    "cat (c, \"\\n\")\n",
    "counts      = paste0( c, \"/counts.\",c, \".bin\" )\n",
    "offsets     = paste0( c, \"/size_factors.\",c, \".bin\" )\n",
    "covariates  = paste0( c, \"/covariates.\",c, \".bin\" )\n",
    "\n",
    "inp = read.table(paste0( c, \"/counts.\",c, \".txt\" ), row.names=1)\n",
    "cm  = read.table(paste0( c,\"/\",c, \".count_matrix\" ), header=T, stringsAsFactors = F)\n",
    "\n",
    "peak_data = cm[,c(1,2,5,3,4)]\n",
    "peak_data$Strand = as.integer(1)\n",
    "colnames(peak_data) =  c('gene_id','chr','strand','exon_starts','exon_ends')\n",
    "peak_data$exon_starts = as.character(peak_data$exon_starts)\n",
    "peak_data$exon_ends = as.character(peak_data$exon_ends)\n",
    "\n",
    "vcf_dir = paste0(c, '/vcfs_peaksonly/' )\n",
    "    \n",
    "system(paste0(\"bcftools query -f '%CHROM\\\\t%POS\\\\t%ID\\\\n' \", \n",
    "              vcf_dir,  \"full.ase.filtered.vcf.gz > \",  vcf_dir, 'full.ase.filtered.snps'))\n",
    "   \n",
    "snps2           = read.table(paste0(vcf_dir, \"full.ase.filtered.snps\"))\n",
    "colnames(snps2) = c('chr','pos','snp_id')\n",
    "    \n",
    "snp_counts2 = countSnpsOverlapingExons(peak_data, snps2, cis_window = 10000)\n",
    "snp_counts2 = subset(snp_counts2, feature_snp_count>0 |  cis_snp_count> 0)\n",
    "snp_counts_sub = subset(snp_counts2, gene_id %in% rownames(inp))\n",
    "\n",
    "indexes =  match ( snp_counts_sub$gene_id,rownames(inp))\n",
    "\n",
    "cat(sum(rownames(inp[indexes,])!= snp_counts_sub$gene_id), \"\\n\")\n",
    "\n",
    "sp = split(snp_counts_sub, snp_counts_sub$chromosome_name)\n",
    "\n",
    "for ( n in 1:22){\n",
    "\n",
    "chrom  = paste0(\"chr\", n)\n",
    "outdir = paste( c, folder_name , chrom, sep =\"/\")\n",
    "system(paste('mkdir -p', outdir))\n",
    "outlogdir = paste0(outdir, \"/logs\")\n",
    "system(paste(\"mkdir\",outlogdir ))\n",
    "\n",
    "snp_counts_use = sp[[chrom]]\n",
    "indexes        =  match ( snp_counts_use$gene_id,rownames(inp))\n",
    "\n",
    "#vcf_file = paste0(vcf_dir,  'full.ase.filtered.vcf.gz' )\n",
    "    \n",
    "  ### vcfs to use for permuations  not for eur only\n",
    "#vcf_file = paste0(vcf_dir,  'full.ase.filtered.allelic.perm1.vcf.gz' )\n",
    "vcf_file = paste0(vcf_dir,  'full.ase.filtered.allelic.perm2.vcf.gz' )\n",
    "\n",
    "mclapply(1:nrow(snp_counts_use), function(x) rasqual_caQTL(x, snp_counts_use, counts, offsets, covariates, \n",
    "                                                           nsamples=nsamples, \n",
    "                                                           vcf=vcf_file, outdir=outdir, outlogdir=outlogdir ,\n",
    "                                                           lead=L, permut=P) , mc.cores = 40 )\n",
    "         }\n",
    "    \n",
    "    }"
   ]
  },
  {
   "cell_type": "code",
   "execution_count": null,
   "metadata": {},
   "outputs": [],
   "source": [
    "for (c in celltypes){\n",
    "    logdir = paste0( c, \"/\",folder_name , \"_logs\")\n",
    "    dir.create(logdir)\n",
    "for ( n in 1:22){\n",
    "        chrom  = paste0(\"chr\", n)\n",
    "        outdir = paste( c, folder_name , chrom, \"logs\",sep =\"/\")\n",
    "        files = na.omit(list.files(outdir)[sapply(paste(outdir, list.files(outdir),sep=\"/\"), file.size) >0])\n",
    " if(length(files)>0) {      \n",
    "    error_files= paste(outdir, files, sep=\"/\")\n",
    "     for (err in error_files){\n",
    "     system(paste(\"mv\", err, logdir))\n",
    "    }\n",
    "     }\n",
    "    system(paste(\"rm -r\",outdir ))\n",
    "    \n",
    "            }\n",
    "    \n",
    "    }"
   ]
  },
  {
   "cell_type": "code",
   "execution_count": null,
   "metadata": {},
   "outputs": [],
   "source": [
    "folder_name"
   ]
  },
  {
   "cell_type": "code",
   "execution_count": null,
   "metadata": {},
   "outputs": [],
   "source": [
    "compile_results = function(n,folder_name,outdir ){\n",
    "  \t    chrom  = paste0(\"chr\", n)\n",
    "        outdir = paste( c, folder_name , chrom, sep =\"/\")\n",
    "        system(paste0(\"cat \", outdir,  \"/* > \", c , \"/\", folder_name,\".results_chr\", n))\n",
    "    }\n",
    "\n",
    "\n",
    "for (c in celltypes){\n",
    "    cat (c, \"\\n\")\n",
    "    tabname = paste0(c, \"/Results_\", folder_name, \".tsv\")\n",
    "    \n",
    "        \n",
    " mclapply (1:22, function(x) compile_results(n=x,folder_name=folder_name,outdir=outdir))\n",
    "         \n",
    "        system(paste0(\"cat \", c , \"/\", folder_name,\".results_chr* > \", tabname))\n",
    "        system(paste0(\"rm \", c , \"/\", folder_name,\".results_chr*\"))\n",
    "         results           = read.table(tabname, fill=T)\n",
    "         colnames(results) = coln\n",
    "         results           = subset(results,results$rsID !=\"SKIPPED\")\n",
    "         results$P_VAl     = pchisq(results[,11], 1, lower=F)\n",
    "         write.table(results, tabname, sep=\"\\t\", quote=F)\n",
    "\n",
    "}\n"
   ]
  },
  {
   "cell_type": "code",
   "execution_count": 30,
   "metadata": {},
   "outputs": [
    {
     "data": {
      "text/html": [
       "'tReg'"
      ],
      "text/latex": [
       "'tReg'"
      ],
      "text/markdown": [
       "'tReg'"
      ],
      "text/plain": [
       "[1] \"tReg\""
      ]
     },
     "metadata": {},
     "output_type": "display_data"
    }
   ],
   "source": [
    "c"
   ]
  },
  {
   "cell_type": "code",
   "execution_count": 7,
   "metadata": {},
   "outputs": [],
   "source": [
    "for (c in celltypes){\n",
    "    for ( n in 1:22){\n",
    "        chrom  = paste0(\"chr\", n)\n",
    "        outdir = paste( c, folder_name , chrom, sep =\"/\")         \n",
    "        system(paste0(\"rm -r \", outdir))\n",
    "        \n",
    "            }\n",
    "    system(paste0(\"rm -r \", c, \"/\", folder_name))\n",
    " }"
   ]
  },
  {
   "cell_type": "markdown",
   "metadata": {},
   "source": [
    "### Calculte empirical q-value from the permutations.\n",
    "see: https://github.com/natsuhiko/rasqual/issues/21"
   ]
  },
  {
   "cell_type": "code",
   "execution_count": 39,
   "metadata": {},
   "outputs": [],
   "source": [
    "# q1 : real lead Q-value vector for all peaks from RASQUAL\n",
    "# q0 : permutated Q-value vector\n",
    "# alpha : FDR threshold\n",
    "# This function returns the P-value threshold corresponding to FDR=alpha.\n",
    "getFDR <-\n",
    "function(q1, q0, alpha=0.1, z=NULL, subset=NULL){\n",
    "\tif(is.null(z)){\n",
    "\t\ta=0\n",
    "\t\tfor(itr in 1:10){\n",
    "\t\t\ta=getFDR(q1,q0,alpha,rev(a+0:100/100^itr),subset)\n",
    "\t\t}\n",
    "\t\ta\n",
    "\t}else{\n",
    "\t\tif(!is.null(subset)){\n",
    "\t\t\tq1=q1[subset]\n",
    "\t\t\tq0=q0[subset]\n",
    "\t\t}\n",
    "\t\tq1=q1[!is.na(q1)]\n",
    "\t\tq0=q0[!is.na(q0)]\n",
    "\t\tx=NULL;\n",
    "\t\tfor(i in z){\n",
    "\t\t\tx=c(x,sum(q0<i)/length(q0)/(sum(q1<i)/length(q1)))\n",
    "\t\t};\n",
    "\t\tmax(c(0,z[x<alpha]),na.rm=T)\n",
    "\t}\n",
    "}\n"
   ]
  },
  {
   "cell_type": "code",
   "execution_count": 40,
   "metadata": {},
   "outputs": [],
   "source": [
    "df = data.frame()\n",
    "for (c in celltypes) {\n",
    "results       = read.table(paste0(c, \"/Results_run2_all.tsv\"), header=T, stringsAsFactors = F)\n",
    "random        = read.table(paste0(c, \"/Results_run2_perm1_lead.tsv\"), header=T, stringsAsFactors = F)\n",
    "random2       = read.table(paste0(c, \"/Results_run2_perm2_lead.tsv\"), header=T, stringsAsFactors = F)\n",
    "results       = results[order(results$P_VAl),]\n",
    "results_lead  = results[!duplicated(results$Feature),]\n",
    "    \n",
    "thresh10      = getFDR(10^(results_lead$Log10_qval), 10^(c(random$Log10_qval,random2$Log10_qval )), 0.1) \n",
    "thresh05       = getFDR(10^(results_lead$Log10_qval), 10^(c(random$Log10_qval,random2$Log10_qval )), 0.05) \n",
    "thresh01       = getFDR(10^(results_lead$Log10_qval), 10^(c(random$Log10_qval,random2$Log10_qval )), 0.01) \n",
    "\n",
    "results_lead$flag_fdr10 = 10^(results_lead$Log10_qval) < thresh10\n",
    "results_lead$flag_fdr05 = 10^(results_lead$Log10_qval) < thresh05\n",
    "results_lead$flag_fdr01 = 10^(results_lead$Log10_qval) < thresh01\n",
    "df = rbind(df, c(thresh10, sum(results_lead$flag_fdr10, na.rm=T) , \n",
    "                   thresh05, sum(results_lead$flag_fdr05, na.rm=T),\n",
    "                   thresh01, sum(results_lead$flag_fdr01, na.rm=T)))\n",
    "\n",
    "write.table(results_lead, paste0(c, \"/Results_run2_lead.tsv\"),sep=\"\\t\", quote=F, row.names=F)    \n",
    "\n",
    "}\n",
    "rownames(df) = celltypes\n",
    "colnames(df) = c('pval_fdr10%', 'caQTL_fdr10%', 'pval_fdr05%', 'caQTL_fdr05%','pval_fdr01%', 'caQTL_fdr01%')"
   ]
  },
  {
   "cell_type": "code",
   "execution_count": 41,
   "metadata": {},
   "outputs": [],
   "source": [
    "write.table(df, \"Summary_run2.txt\", quote=F)"
   ]
  },
  {
   "cell_type": "code",
   "execution_count": 42,
   "metadata": {},
   "outputs": [
    {
     "data": {
      "text/html": [
       "<table class=\"dataframe\">\n",
       "<caption>A data.frame: 15 × 6</caption>\n",
       "<thead>\n",
       "\t<tr><th></th><th scope=col>pval_fdr10%</th><th scope=col>caQTL_fdr10%</th><th scope=col>pval_fdr05%</th><th scope=col>caQTL_fdr05%</th><th scope=col>pval_fdr01%</th><th scope=col>caQTL_fdr01%</th></tr>\n",
       "\t<tr><th></th><th scope=col>&lt;dbl&gt;</th><th scope=col>&lt;dbl&gt;</th><th scope=col>&lt;dbl&gt;</th><th scope=col>&lt;dbl&gt;</th><th scope=col>&lt;dbl&gt;</th><th scope=col>&lt;dbl&gt;</th></tr>\n",
       "</thead>\n",
       "<tbody>\n",
       "\t<tr><th scope=row>act_cd4_t</th><td>0.06662887</td><td>1223</td><td>0.019745626</td><td> 695</td><td>3.118482e-04</td><td>204</td></tr>\n",
       "\t<tr><th scope=row>adaptive_NK</th><td>0.04633303</td><td>  43</td><td>0.026712583</td><td>  24</td><td>9.635394e-03</td><td>  8</td></tr>\n",
       "\t<tr><th scope=row>cDC</th><td>0.04756613</td><td>  62</td><td>0.025588090</td><td>  40</td><td>1.273165e-02</td><td> 32</td></tr>\n",
       "\t<tr><th scope=row>cMono</th><td>0.05576338</td><td>2874</td><td>0.013030244</td><td>1537</td><td>1.768825e-04</td><td>405</td></tr>\n",
       "\t<tr><th scope=row>cyto_cd8_t</th><td>0.05546999</td><td> 711</td><td>0.018113963</td><td> 418</td><td>1.983782e-04</td><td> 86</td></tr>\n",
       "\t<tr><th scope=row>cyto_nk</th><td>0.07221329</td><td> 989</td><td>0.036202942</td><td> 680</td><td>6.446909e-03</td><td>331</td></tr>\n",
       "\t<tr><th scope=row>iMono</th><td>0.11263825</td><td> 374</td><td>0.005887330</td><td>  67</td><td>1.289376e-04</td><td> 22</td></tr>\n",
       "\t<tr><th scope=row>mem_b</th><td>0.10447297</td><td> 342</td><td>0.038284657</td><td> 151</td><td>1.111574e-02</td><td> 75</td></tr>\n",
       "\t<tr><th scope=row>mem_cd8_t</th><td>0.06987100</td><td> 338</td><td>0.035336518</td><td> 206</td><td>9.627118e-03</td><td>101</td></tr>\n",
       "\t<tr><th scope=row>mkc</th><td>0.05356440</td><td>  52</td><td>0.037601777</td><td>  41</td><td>6.165448e-03</td><td>  9</td></tr>\n",
       "\t<tr><th scope=row>naive_b</th><td>0.08006852</td><td> 703</td><td>0.029131732</td><td> 384</td><td>3.190265e-07</td><td> 15</td></tr>\n",
       "\t<tr><th scope=row>naive_cd4_t</th><td>0.06247699</td><td> 785</td><td>0.009921798</td><td> 345</td><td>1.006990e-03</td><td>166</td></tr>\n",
       "\t<tr><th scope=row>naive_cd8_t</th><td>0.08755359</td><td> 456</td><td>0.035136654</td><td> 263</td><td>2.403931e-06</td><td> 12</td></tr>\n",
       "\t<tr><th scope=row>ncMono</th><td>0.08343182</td><td> 592</td><td>0.033712813</td><td> 339</td><td>8.250406e-04</td><td> 68</td></tr>\n",
       "\t<tr><th scope=row>tReg</th><td>0.07978532</td><td>  99</td><td>0.045881463</td><td>  62</td><td>1.695717e-02</td><td> 33</td></tr>\n",
       "</tbody>\n",
       "</table>\n"
      ],
      "text/latex": [
       "A data.frame: 15 × 6\n",
       "\\begin{tabular}{r|llllll}\n",
       "  & pval\\_fdr10\\% & caQTL\\_fdr10\\% & pval\\_fdr05\\% & caQTL\\_fdr05\\% & pval\\_fdr01\\% & caQTL\\_fdr01\\%\\\\\n",
       "  & <dbl> & <dbl> & <dbl> & <dbl> & <dbl> & <dbl>\\\\\n",
       "\\hline\n",
       "\tact\\_cd4\\_t & 0.06662887 & 1223 & 0.019745626 &  695 & 3.118482e-04 & 204\\\\\n",
       "\tadaptive\\_NK & 0.04633303 &   43 & 0.026712583 &   24 & 9.635394e-03 &   8\\\\\n",
       "\tcDC & 0.04756613 &   62 & 0.025588090 &   40 & 1.273165e-02 &  32\\\\\n",
       "\tcMono & 0.05576338 & 2874 & 0.013030244 & 1537 & 1.768825e-04 & 405\\\\\n",
       "\tcyto\\_cd8\\_t & 0.05546999 &  711 & 0.018113963 &  418 & 1.983782e-04 &  86\\\\\n",
       "\tcyto\\_nk & 0.07221329 &  989 & 0.036202942 &  680 & 6.446909e-03 & 331\\\\\n",
       "\tiMono & 0.11263825 &  374 & 0.005887330 &   67 & 1.289376e-04 &  22\\\\\n",
       "\tmem\\_b & 0.10447297 &  342 & 0.038284657 &  151 & 1.111574e-02 &  75\\\\\n",
       "\tmem\\_cd8\\_t & 0.06987100 &  338 & 0.035336518 &  206 & 9.627118e-03 & 101\\\\\n",
       "\tmkc & 0.05356440 &   52 & 0.037601777 &   41 & 6.165448e-03 &   9\\\\\n",
       "\tnaive\\_b & 0.08006852 &  703 & 0.029131732 &  384 & 3.190265e-07 &  15\\\\\n",
       "\tnaive\\_cd4\\_t & 0.06247699 &  785 & 0.009921798 &  345 & 1.006990e-03 & 166\\\\\n",
       "\tnaive\\_cd8\\_t & 0.08755359 &  456 & 0.035136654 &  263 & 2.403931e-06 &  12\\\\\n",
       "\tncMono & 0.08343182 &  592 & 0.033712813 &  339 & 8.250406e-04 &  68\\\\\n",
       "\ttReg & 0.07978532 &   99 & 0.045881463 &   62 & 1.695717e-02 &  33\\\\\n",
       "\\end{tabular}\n"
      ],
      "text/markdown": [
       "\n",
       "A data.frame: 15 × 6\n",
       "\n",
       "| <!--/--> | pval_fdr10% &lt;dbl&gt; | caQTL_fdr10% &lt;dbl&gt; | pval_fdr05% &lt;dbl&gt; | caQTL_fdr05% &lt;dbl&gt; | pval_fdr01% &lt;dbl&gt; | caQTL_fdr01% &lt;dbl&gt; |\n",
       "|---|---|---|---|---|---|---|\n",
       "| act_cd4_t | 0.06662887 | 1223 | 0.019745626 |  695 | 3.118482e-04 | 204 |\n",
       "| adaptive_NK | 0.04633303 |   43 | 0.026712583 |   24 | 9.635394e-03 |   8 |\n",
       "| cDC | 0.04756613 |   62 | 0.025588090 |   40 | 1.273165e-02 |  32 |\n",
       "| cMono | 0.05576338 | 2874 | 0.013030244 | 1537 | 1.768825e-04 | 405 |\n",
       "| cyto_cd8_t | 0.05546999 |  711 | 0.018113963 |  418 | 1.983782e-04 |  86 |\n",
       "| cyto_nk | 0.07221329 |  989 | 0.036202942 |  680 | 6.446909e-03 | 331 |\n",
       "| iMono | 0.11263825 |  374 | 0.005887330 |   67 | 1.289376e-04 |  22 |\n",
       "| mem_b | 0.10447297 |  342 | 0.038284657 |  151 | 1.111574e-02 |  75 |\n",
       "| mem_cd8_t | 0.06987100 |  338 | 0.035336518 |  206 | 9.627118e-03 | 101 |\n",
       "| mkc | 0.05356440 |   52 | 0.037601777 |   41 | 6.165448e-03 |   9 |\n",
       "| naive_b | 0.08006852 |  703 | 0.029131732 |  384 | 3.190265e-07 |  15 |\n",
       "| naive_cd4_t | 0.06247699 |  785 | 0.009921798 |  345 | 1.006990e-03 | 166 |\n",
       "| naive_cd8_t | 0.08755359 |  456 | 0.035136654 |  263 | 2.403931e-06 |  12 |\n",
       "| ncMono | 0.08343182 |  592 | 0.033712813 |  339 | 8.250406e-04 |  68 |\n",
       "| tReg | 0.07978532 |   99 | 0.045881463 |   62 | 1.695717e-02 |  33 |\n",
       "\n"
      ],
      "text/plain": [
       "            pval_fdr10% caQTL_fdr10% pval_fdr05% caQTL_fdr05% pval_fdr01% \n",
       "act_cd4_t   0.06662887  1223         0.019745626  695         3.118482e-04\n",
       "adaptive_NK 0.04633303    43         0.026712583   24         9.635394e-03\n",
       "cDC         0.04756613    62         0.025588090   40         1.273165e-02\n",
       "cMono       0.05576338  2874         0.013030244 1537         1.768825e-04\n",
       "cyto_cd8_t  0.05546999   711         0.018113963  418         1.983782e-04\n",
       "cyto_nk     0.07221329   989         0.036202942  680         6.446909e-03\n",
       "iMono       0.11263825   374         0.005887330   67         1.289376e-04\n",
       "mem_b       0.10447297   342         0.038284657  151         1.111574e-02\n",
       "mem_cd8_t   0.06987100   338         0.035336518  206         9.627118e-03\n",
       "mkc         0.05356440    52         0.037601777   41         6.165448e-03\n",
       "naive_b     0.08006852   703         0.029131732  384         3.190265e-07\n",
       "naive_cd4_t 0.06247699   785         0.009921798  345         1.006990e-03\n",
       "naive_cd8_t 0.08755359   456         0.035136654  263         2.403931e-06\n",
       "ncMono      0.08343182   592         0.033712813  339         8.250406e-04\n",
       "tReg        0.07978532    99         0.045881463   62         1.695717e-02\n",
       "            caQTL_fdr01%\n",
       "act_cd4_t   204         \n",
       "adaptive_NK   8         \n",
       "cDC          32         \n",
       "cMono       405         \n",
       "cyto_cd8_t   86         \n",
       "cyto_nk     331         \n",
       "iMono        22         \n",
       "mem_b        75         \n",
       "mem_cd8_t   101         \n",
       "mkc           9         \n",
       "naive_b      15         \n",
       "naive_cd4_t 166         \n",
       "naive_cd8_t  12         \n",
       "ncMono       68         \n",
       "tReg         33         "
      ]
     },
     "metadata": {},
     "output_type": "display_data"
    }
   ],
   "source": [
    "df"
   ]
  },
  {
   "cell_type": "code",
   "execution_count": 45,
   "metadata": {},
   "outputs": [
    {
     "data": {
      "text/html": [
       "<table class=\"dataframe\">\n",
       "<caption>A matrix: 29 × 6 of type chr</caption>\n",
       "<thead>\n",
       "\t<tr><th></th><th scope=col>13992</th><th scope=col>45610</th><th scope=col>75248</th><th scope=col>6249</th><th scope=col>49791</th><th scope=col>78240</th></tr>\n",
       "</thead>\n",
       "<tbody>\n",
       "\t<tr><th scope=row>Feature</th><td>chr11:18433609-18434198</td><td>chr19:54040398-54042103</td><td>chr6:32577458-32578288</td><td>chr1:38155996-38156519</td><td>chr2:232378786-232379625</td><td>chr7:134831931-134833621</td></tr>\n",
       "\t<tr><th scope=row>rsID</th><td>chr11:18433780:A:G     </td><td>chr19:54040861:G:C     </td><td>chr6:32577811:C:T     </td><td>chr1:38158211:C:T     </td><td>chr2:232379455:C:G      </td><td>chr7:134833578:C:T      </td></tr>\n",
       "\t<tr><th scope=row>Chromosome</th><td>chr11                  </td><td>chr19                  </td><td>chr6                  </td><td>chr1                  </td><td>chr2                    </td><td>chr7                    </td></tr>\n",
       "\t<tr><th scope=row>position</th><td> 18433780              </td><td> 54040861              </td><td> 32577811             </td><td> 38158211             </td><td>232379455               </td><td>134833578               </td></tr>\n",
       "\t<tr><th scope=row>Ref</th><td>A                      </td><td>G                      </td><td>C                     </td><td>C                     </td><td>C                       </td><td>C                       </td></tr>\n",
       "\t<tr><th scope=row>Alt</th><td>G                      </td><td>C                      </td><td>T                     </td><td>T                     </td><td>G                       </td><td>T                       </td></tr>\n",
       "\t<tr><th scope=row>Af</th><td>0.730769               </td><td>0.269231               </td><td>0.807692              </td><td>0.192308              </td><td>0.076923                </td><td>0.615385                </td></tr>\n",
       "\t<tr><th scope=row>HWEChi_square</th><td>1.764543               </td><td>1.764543               </td><td>0.859592              </td><td>0.736961              </td><td>0.090278                </td><td>5.078125                </td></tr>\n",
       "\t<tr><th scope=row>IA</th><td>0.989752               </td><td>0.985363               </td><td>0.992824              </td><td>0.999916              </td><td>0.999800                </td><td>0.998500                </td></tr>\n",
       "\t<tr><th scope=row>Log10_qval</th><td>-8.696323              </td><td>-5.878193              </td><td>-5.167434             </td><td>-4.353903             </td><td>-3.950358               </td><td>-4.463725               </td></tr>\n",
       "\t<tr><th scope=row>Chi_square</th><td>37.77188               </td><td>29.44405               </td><td>21.28423              </td><td>19.06573              </td><td>18.31885                </td><td>17.60660                </td></tr>\n",
       "\t<tr><th scope=row>Effect_size</th><td>0.162676               </td><td>0.896886               </td><td>0.780094              </td><td>0.277009              </td><td>0.140150                </td><td>0.728484                </td></tr>\n",
       "\t<tr><th scope=row>Sequencing_mapping_error_rate</th><td>0.000095               </td><td>0.000030               </td><td>0.000022              </td><td>0.000061              </td><td>0.000022                </td><td>0.000186                </td></tr>\n",
       "\t<tr><th scope=row>Ref_allele_bias</th><td>0.460267               </td><td>0.618565               </td><td>0.595923              </td><td>0.396967              </td><td>0.516563                </td><td>0.565080                </td></tr>\n",
       "\t<tr><th scope=row>Overdispersion</th><td>12.903810              </td><td> 1.097805              </td><td>16.863290             </td><td>22.660135             </td><td>18.031169               </td><td>29.576119               </td></tr>\n",
       "\t<tr><th scope=row>SNPid_within_region</th><td> 2                     </td><td> 4                     </td><td>20                    </td><td> 5                    </td><td> 4                      </td><td> 4                      </td></tr>\n",
       "\t<tr><th scope=row>No_fSNPs</th><td> 5                     </td><td>15                     </td><td>19                    </td><td> 3                    </td><td> 5                      </td><td> 5                      </td></tr>\n",
       "\t<tr><th scope=row>No_tested_SNPs</th><td> 5                     </td><td>23                     </td><td>43                    </td><td> 7                    </td><td> 6                      </td><td> 5                      </td></tr>\n",
       "\t<tr><th scope=row>No_iterations_for_H0</th><td> 6                     </td><td> 6                     </td><td> 5                    </td><td> 5                    </td><td>10                      </td><td> 4                      </td></tr>\n",
       "\t<tr><th scope=row>No_iterations_for_H1</th><td> 7                     </td><td>11                     </td><td> 6                    </td><td> 6                    </td><td>39                      </td><td> 4                      </td></tr>\n",
       "\t<tr><th scope=row>ties</th><td> 18433780              </td><td> 54040861              </td><td> 32577811             </td><td> 38158211             </td><td>232379455               </td><td>134833578               </td></tr>\n",
       "\t<tr><th scope=row>Log_likelihood_H0</th><td>17.826004              </td><td>14.293847              </td><td>10.050873             </td><td> 8.486104             </td><td> 9.088976               </td><td> 8.484899               </td></tr>\n",
       "\t<tr><th scope=row>Convergence_status</th><td>0                      </td><td>0                      </td><td>0                     </td><td>0                     </td><td>0                       </td><td>0                       </td></tr>\n",
       "\t<tr><th scope=row>r2_fSNPs</th><td>0.989259               </td><td>0.961724               </td><td>0.993264              </td><td>0.983108              </td><td>0.987931                </td><td>0.985034                </td></tr>\n",
       "\t<tr><th scope=row>r2_rSNP</th><td>0.976580               </td><td>0.687480               </td><td>0.989876              </td><td>0.988067              </td><td>0.598184                </td><td>0.981528                </td></tr>\n",
       "\t<tr><th scope=row>P_VAl</th><td>7.951999e-10           </td><td>5.755447e-08           </td><td>3.959749e-06          </td><td>1.262927e-05          </td><td>1.868488e-05            </td><td>2.716438e-05            </td></tr>\n",
       "\t<tr><th scope=row>flag_fdr10</th><td>TRUE                   </td><td>TRUE                   </td><td>TRUE                  </td><td>TRUE                  </td><td>TRUE                    </td><td>TRUE                    </td></tr>\n",
       "\t<tr><th scope=row>flag_fdr05</th><td>TRUE                   </td><td>TRUE                   </td><td>TRUE                  </td><td>TRUE                  </td><td>TRUE                    </td><td>TRUE                    </td></tr>\n",
       "\t<tr><th scope=row>flag_fdr01</th><td>TRUE                   </td><td>TRUE                   </td><td>TRUE                  </td><td>TRUE                  </td><td>TRUE                    </td><td>TRUE                    </td></tr>\n",
       "</tbody>\n",
       "</table>\n"
      ],
      "text/latex": [
       "A matrix: 29 × 6 of type chr\n",
       "\\begin{tabular}{r|llllll}\n",
       "  & 13992 & 45610 & 75248 & 6249 & 49791 & 78240\\\\\n",
       "\\hline\n",
       "\tFeature & chr11:18433609-18434198 & chr19:54040398-54042103 & chr6:32577458-32578288 & chr1:38155996-38156519 & chr2:232378786-232379625 & chr7:134831931-134833621\\\\\n",
       "\trsID & chr11:18433780:A:G      & chr19:54040861:G:C      & chr6:32577811:C:T      & chr1:38158211:C:T      & chr2:232379455:C:G       & chr7:134833578:C:T      \\\\\n",
       "\tChromosome & chr11                   & chr19                   & chr6                   & chr1                   & chr2                     & chr7                    \\\\\n",
       "\tposition &  18433780               &  54040861               &  32577811              &  38158211              & 232379455                & 134833578               \\\\\n",
       "\tRef & A                       & G                       & C                      & C                      & C                        & C                       \\\\\n",
       "\tAlt & G                       & C                       & T                      & T                      & G                        & T                       \\\\\n",
       "\tAf & 0.730769                & 0.269231                & 0.807692               & 0.192308               & 0.076923                 & 0.615385                \\\\\n",
       "\tHWEChi\\_square & 1.764543                & 1.764543                & 0.859592               & 0.736961               & 0.090278                 & 5.078125                \\\\\n",
       "\tIA & 0.989752                & 0.985363                & 0.992824               & 0.999916               & 0.999800                 & 0.998500                \\\\\n",
       "\tLog10\\_qval & -8.696323               & -5.878193               & -5.167434              & -4.353903              & -3.950358                & -4.463725               \\\\\n",
       "\tChi\\_square & 37.77188                & 29.44405                & 21.28423               & 19.06573               & 18.31885                 & 17.60660                \\\\\n",
       "\tEffect\\_size & 0.162676                & 0.896886                & 0.780094               & 0.277009               & 0.140150                 & 0.728484                \\\\\n",
       "\tSequencing\\_mapping\\_error\\_rate & 0.000095                & 0.000030                & 0.000022               & 0.000061               & 0.000022                 & 0.000186                \\\\\n",
       "\tRef\\_allele\\_bias & 0.460267                & 0.618565                & 0.595923               & 0.396967               & 0.516563                 & 0.565080                \\\\\n",
       "\tOverdispersion & 12.903810               &  1.097805               & 16.863290              & 22.660135              & 18.031169                & 29.576119               \\\\\n",
       "\tSNPid\\_within\\_region &  2                      &  4                      & 20                     &  5                     &  4                       &  4                      \\\\\n",
       "\tNo\\_fSNPs &  5                      & 15                      & 19                     &  3                     &  5                       &  5                      \\\\\n",
       "\tNo\\_tested\\_SNPs &  5                      & 23                      & 43                     &  7                     &  6                       &  5                      \\\\\n",
       "\tNo\\_iterations\\_for\\_H0 &  6                      &  6                      &  5                     &  5                     & 10                       &  4                      \\\\\n",
       "\tNo\\_iterations\\_for\\_H1 &  7                      & 11                      &  6                     &  6                     & 39                       &  4                      \\\\\n",
       "\tties &  18433780               &  54040861               &  32577811              &  38158211              & 232379455                & 134833578               \\\\\n",
       "\tLog\\_likelihood\\_H0 & 17.826004               & 14.293847               & 10.050873              &  8.486104              &  9.088976                &  8.484899               \\\\\n",
       "\tConvergence\\_status & 0                       & 0                       & 0                      & 0                      & 0                        & 0                       \\\\\n",
       "\tr2\\_fSNPs & 0.989259                & 0.961724                & 0.993264               & 0.983108               & 0.987931                 & 0.985034                \\\\\n",
       "\tr2\\_rSNP & 0.976580                & 0.687480                & 0.989876               & 0.988067               & 0.598184                 & 0.981528                \\\\\n",
       "\tP\\_VAl & 7.951999e-10            & 5.755447e-08            & 3.959749e-06           & 1.262927e-05           & 1.868488e-05             & 2.716438e-05            \\\\\n",
       "\tflag\\_fdr10 & TRUE                    & TRUE                    & TRUE                   & TRUE                   & TRUE                     & TRUE                    \\\\\n",
       "\tflag\\_fdr05 & TRUE                    & TRUE                    & TRUE                   & TRUE                   & TRUE                     & TRUE                    \\\\\n",
       "\tflag\\_fdr01 & TRUE                    & TRUE                    & TRUE                   & TRUE                   & TRUE                     & TRUE                    \\\\\n",
       "\\end{tabular}\n"
      ],
      "text/markdown": [
       "\n",
       "A matrix: 29 × 6 of type chr\n",
       "\n",
       "| <!--/--> | 13992 | 45610 | 75248 | 6249 | 49791 | 78240 |\n",
       "|---|---|---|---|---|---|---|\n",
       "| Feature | chr11:18433609-18434198 | chr19:54040398-54042103 | chr6:32577458-32578288 | chr1:38155996-38156519 | chr2:232378786-232379625 | chr7:134831931-134833621 |\n",
       "| rsID | chr11:18433780:A:G      | chr19:54040861:G:C      | chr6:32577811:C:T      | chr1:38158211:C:T      | chr2:232379455:C:G       | chr7:134833578:C:T       |\n",
       "| Chromosome | chr11                   | chr19                   | chr6                   | chr1                   | chr2                     | chr7                     |\n",
       "| position |  18433780               |  54040861               |  32577811              |  38158211              | 232379455                | 134833578                |\n",
       "| Ref | A                       | G                       | C                      | C                      | C                        | C                        |\n",
       "| Alt | G                       | C                       | T                      | T                      | G                        | T                        |\n",
       "| Af | 0.730769                | 0.269231                | 0.807692               | 0.192308               | 0.076923                 | 0.615385                 |\n",
       "| HWEChi_square | 1.764543                | 1.764543                | 0.859592               | 0.736961               | 0.090278                 | 5.078125                 |\n",
       "| IA | 0.989752                | 0.985363                | 0.992824               | 0.999916               | 0.999800                 | 0.998500                 |\n",
       "| Log10_qval | -8.696323               | -5.878193               | -5.167434              | -4.353903              | -3.950358                | -4.463725                |\n",
       "| Chi_square | 37.77188                | 29.44405                | 21.28423               | 19.06573               | 18.31885                 | 17.60660                 |\n",
       "| Effect_size | 0.162676                | 0.896886                | 0.780094               | 0.277009               | 0.140150                 | 0.728484                 |\n",
       "| Sequencing_mapping_error_rate | 0.000095                | 0.000030                | 0.000022               | 0.000061               | 0.000022                 | 0.000186                 |\n",
       "| Ref_allele_bias | 0.460267                | 0.618565                | 0.595923               | 0.396967               | 0.516563                 | 0.565080                 |\n",
       "| Overdispersion | 12.903810               |  1.097805               | 16.863290              | 22.660135              | 18.031169                | 29.576119                |\n",
       "| SNPid_within_region |  2                      |  4                      | 20                     |  5                     |  4                       |  4                       |\n",
       "| No_fSNPs |  5                      | 15                      | 19                     |  3                     |  5                       |  5                       |\n",
       "| No_tested_SNPs |  5                      | 23                      | 43                     |  7                     |  6                       |  5                       |\n",
       "| No_iterations_for_H0 |  6                      |  6                      |  5                     |  5                     | 10                       |  4                       |\n",
       "| No_iterations_for_H1 |  7                      | 11                      |  6                     |  6                     | 39                       |  4                       |\n",
       "| ties |  18433780               |  54040861               |  32577811              |  38158211              | 232379455                | 134833578                |\n",
       "| Log_likelihood_H0 | 17.826004               | 14.293847               | 10.050873              |  8.486104              |  9.088976                |  8.484899                |\n",
       "| Convergence_status | 0                       | 0                       | 0                      | 0                      | 0                        | 0                        |\n",
       "| r2_fSNPs | 0.989259                | 0.961724                | 0.993264               | 0.983108               | 0.987931                 | 0.985034                 |\n",
       "| r2_rSNP | 0.976580                | 0.687480                | 0.989876               | 0.988067               | 0.598184                 | 0.981528                 |\n",
       "| P_VAl | 7.951999e-10            | 5.755447e-08            | 3.959749e-06           | 1.262927e-05           | 1.868488e-05             | 2.716438e-05             |\n",
       "| flag_fdr10 | TRUE                    | TRUE                    | TRUE                   | TRUE                   | TRUE                     | TRUE                     |\n",
       "| flag_fdr05 | TRUE                    | TRUE                    | TRUE                   | TRUE                   | TRUE                     | TRUE                     |\n",
       "| flag_fdr01 | TRUE                    | TRUE                    | TRUE                   | TRUE                   | TRUE                     | TRUE                     |\n",
       "\n"
      ],
      "text/plain": [
       "                              13992                   45610                  \n",
       "Feature                       chr11:18433609-18434198 chr19:54040398-54042103\n",
       "rsID                          chr11:18433780:A:G      chr19:54040861:G:C     \n",
       "Chromosome                    chr11                   chr19                  \n",
       "position                       18433780                54040861              \n",
       "Ref                           A                       G                      \n",
       "Alt                           G                       C                      \n",
       "Af                            0.730769                0.269231               \n",
       "HWEChi_square                 1.764543                1.764543               \n",
       "IA                            0.989752                0.985363               \n",
       "Log10_qval                    -8.696323               -5.878193              \n",
       "Chi_square                    37.77188                29.44405               \n",
       "Effect_size                   0.162676                0.896886               \n",
       "Sequencing_mapping_error_rate 0.000095                0.000030               \n",
       "Ref_allele_bias               0.460267                0.618565               \n",
       "Overdispersion                12.903810                1.097805              \n",
       "SNPid_within_region            2                       4                     \n",
       "No_fSNPs                       5                      15                     \n",
       "No_tested_SNPs                 5                      23                     \n",
       "No_iterations_for_H0           6                       6                     \n",
       "No_iterations_for_H1           7                      11                     \n",
       "ties                           18433780                54040861              \n",
       "Log_likelihood_H0             17.826004               14.293847              \n",
       "Convergence_status            0                       0                      \n",
       "r2_fSNPs                      0.989259                0.961724               \n",
       "r2_rSNP                       0.976580                0.687480               \n",
       "P_VAl                         7.951999e-10            5.755447e-08           \n",
       "flag_fdr10                    TRUE                    TRUE                   \n",
       "flag_fdr05                    TRUE                    TRUE                   \n",
       "flag_fdr01                    TRUE                    TRUE                   \n",
       "                              75248                  6249                  \n",
       "Feature                       chr6:32577458-32578288 chr1:38155996-38156519\n",
       "rsID                          chr6:32577811:C:T      chr1:38158211:C:T     \n",
       "Chromosome                    chr6                   chr1                  \n",
       "position                       32577811               38158211             \n",
       "Ref                           C                      C                     \n",
       "Alt                           T                      T                     \n",
       "Af                            0.807692               0.192308              \n",
       "HWEChi_square                 0.859592               0.736961              \n",
       "IA                            0.992824               0.999916              \n",
       "Log10_qval                    -5.167434              -4.353903             \n",
       "Chi_square                    21.28423               19.06573              \n",
       "Effect_size                   0.780094               0.277009              \n",
       "Sequencing_mapping_error_rate 0.000022               0.000061              \n",
       "Ref_allele_bias               0.595923               0.396967              \n",
       "Overdispersion                16.863290              22.660135             \n",
       "SNPid_within_region           20                      5                    \n",
       "No_fSNPs                      19                      3                    \n",
       "No_tested_SNPs                43                      7                    \n",
       "No_iterations_for_H0           5                      5                    \n",
       "No_iterations_for_H1           6                      6                    \n",
       "ties                           32577811               38158211             \n",
       "Log_likelihood_H0             10.050873               8.486104             \n",
       "Convergence_status            0                      0                     \n",
       "r2_fSNPs                      0.993264               0.983108              \n",
       "r2_rSNP                       0.989876               0.988067              \n",
       "P_VAl                         3.959749e-06           1.262927e-05          \n",
       "flag_fdr10                    TRUE                   TRUE                  \n",
       "flag_fdr05                    TRUE                   TRUE                  \n",
       "flag_fdr01                    TRUE                   TRUE                  \n",
       "                              49791                    78240                   \n",
       "Feature                       chr2:232378786-232379625 chr7:134831931-134833621\n",
       "rsID                          chr2:232379455:C:G       chr7:134833578:C:T      \n",
       "Chromosome                    chr2                     chr7                    \n",
       "position                      232379455                134833578               \n",
       "Ref                           C                        C                       \n",
       "Alt                           G                        T                       \n",
       "Af                            0.076923                 0.615385                \n",
       "HWEChi_square                 0.090278                 5.078125                \n",
       "IA                            0.999800                 0.998500                \n",
       "Log10_qval                    -3.950358                -4.463725               \n",
       "Chi_square                    18.31885                 17.60660                \n",
       "Effect_size                   0.140150                 0.728484                \n",
       "Sequencing_mapping_error_rate 0.000022                 0.000186                \n",
       "Ref_allele_bias               0.516563                 0.565080                \n",
       "Overdispersion                18.031169                29.576119               \n",
       "SNPid_within_region            4                        4                      \n",
       "No_fSNPs                       5                        5                      \n",
       "No_tested_SNPs                 6                        5                      \n",
       "No_iterations_for_H0          10                        4                      \n",
       "No_iterations_for_H1          39                        4                      \n",
       "ties                          232379455                134833578               \n",
       "Log_likelihood_H0              9.088976                 8.484899               \n",
       "Convergence_status            0                        0                       \n",
       "r2_fSNPs                      0.987931                 0.985034                \n",
       "r2_rSNP                       0.598184                 0.981528                \n",
       "P_VAl                         1.868488e-05             2.716438e-05            \n",
       "flag_fdr10                    TRUE                     TRUE                    \n",
       "flag_fdr05                    TRUE                     TRUE                    \n",
       "flag_fdr01                    TRUE                     TRUE                    "
      ]
     },
     "metadata": {},
     "output_type": "display_data"
    }
   ],
   "source": [
    "t(head(results_lead))"
   ]
  },
  {
   "cell_type": "code",
   "execution_count": 71,
   "metadata": {
    "scrolled": false
   },
   "outputs": [
    {
     "data": {
      "image/png": "[encoded data removed]",
      "text/plain": [
       "Plot with title “bulk”"
      ]
     },
     "metadata": {
      "image/png": {
       "height": 420,
       "width": 420
      }
     },
     "output_type": "display_data"
    }
   ],
   "source": [
    "res = data.frame()\n",
    "par(mfrow=c(2,3))\n",
    "for (c in celltypes) {\n",
    "results_lead       = read.table(paste0(c, \"/Results_run1_lead.tsv\"), header=T, stringsAsFactors = F)\n",
    "random             = read.table(paste0(c, \"/Results_run1_perm1_lead.tsv\"), header=T, stringsAsFactors = F)\n",
    " \n",
    "p1 = sort(-results_lead[,10])\n",
    "p2 = sort(-random[,10])\n",
    "plot(p2, p1, pch=20, cex=0.6, xlab=\"Permuted Log10(qval)\", ylab=\"Log10(Q) caQTLs\", main=c)\n",
    "abline(0,1)\n",
    "    results_lead$cell =c\n",
    "   res= rbind(res,results_lead )\n",
    "    }"
   ]
  },
  {
   "cell_type": "code",
   "execution_count": null,
   "metadata": {},
   "outputs": [],
   "source": []
  }
 ],
 "metadata": {
  "kernelspec": {
   "display_name": "R",
   "language": "R",
   "name": "ir"
  },
  "language_info": {
   "codemirror_mode": "r",
   "file_extension": ".r",
   "mimetype": "text/x-r-source",
   "name": "R",
   "pygments_lexer": "r",
   "version": "3.6.0"
  }
 },
 "nbformat": 4,
 "nbformat_minor": 2
}
