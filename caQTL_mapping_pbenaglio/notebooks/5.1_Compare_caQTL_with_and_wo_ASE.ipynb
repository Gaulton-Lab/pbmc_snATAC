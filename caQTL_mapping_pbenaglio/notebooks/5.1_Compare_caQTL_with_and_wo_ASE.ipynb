{
 "cells": [
  {
   "cell_type": "code",
   "execution_count": 4,
   "metadata": {},
   "outputs": [],
   "source": [
    "library(tidyr)\n",
    "library(stringr)\n",
    "library(scales)"
   ]
  },
  {
   "cell_type": "code",
   "execution_count": 5,
   "metadata": {},
   "outputs": [],
   "source": [
    "setwd('/nfs/lab/projects/pbmc_snATAC/analysis_v2/rasqual_eur/')"
   ]
  },
  {
   "cell_type": "code",
   "execution_count": 6,
   "metadata": {},
   "outputs": [],
   "source": [
    "celltypes_macro = c('b', \"t\",'mono', 'nk')\n",
    "celltypes_micro = c('act_cd4_t' , 'adaptive_NK' , 'cDC' , 'cMono' , 'cyto_cd8_t' , \n",
    "                    'cyto_nk' , 'iMono' , 'mem_b' , 'mem_cd8_t' , 'mkc' , 'naive_b' , \n",
    "                    'naive_cd4_t' , 'naive_cd8_t' , 'ncMono' , 'tReg')"
   ]
  },
  {
   "cell_type": "code",
   "execution_count": 19,
   "metadata": {},
   "outputs": [],
   "source": [
    "rr = data.frame()\n",
    "np1 =  list()\n",
    "for (cc in celltypes_macro){\n",
    "res         =  read.table(paste0('broad/', cc, \"/Results_pop1_all.tsv\"), header=T, stringsAsFactors = F)\n",
    "reslead     =  read.table(paste0('broad/', cc, \"/Results_pop1_lead.tsv\"), header=T, stringsAsFactors = F)    \n",
    "res2        =  read.table(paste0('broad/', cc, \"/Results_run3_lead.tsv\"), header=T, stringsAsFactors = F)\n",
    "\n",
    "np1[[cc]]    = unique(reslead$Feature[reslead$flag_fdr10])\n",
    "    \n",
    "res$caQTL  = res$Feature %in% reslead$Feature[reslead$flag_fdr10]\n",
    "res        = subset(res,res$rsID !=\"SKIPPED\")\n",
    "res2 = subset(res2, flag_fdr10==T)  \n",
    "res2 = merge(res2, res[,c(\"Feature\", \"rsID\", \"Effect_size\",'caQTL')], by=c(\"Feature\", \"rsID\"))    \n",
    "res2$cell = cc    \n",
    "rr  = rbind(rr, res2)\n",
    "\n",
    "                     }\n",
    "macro = rr"
   ]
  },
  {
   "cell_type": "code",
   "execution_count": 20,
   "metadata": {},
   "outputs": [],
   "source": [
    "macro = subset(macro, Ref_allele_bias<0.8 & Ref_allele_bias >0.2 & Sequencing_mapping_error_rate<0.1)"
   ]
  },
  {
   "cell_type": "code",
   "execution_count": 21,
   "metadata": {},
   "outputs": [
    {
     "data": {
      "text/html": [
       "535"
      ],
      "text/latex": [
       "535"
      ],
      "text/markdown": [
       "535"
      ],
      "text/plain": [
       "[1] 535"
      ]
     },
     "metadata": {},
     "output_type": "display_data"
    }
   ],
   "source": [
    "length(unique(macro$Feature[macro$caQTL==TRUE]))"
   ]
  },
  {
   "cell_type": "code",
   "execution_count": 22,
   "metadata": {},
   "outputs": [
    {
     "data": {
      "text/html": [
       "<table class=\"dataframe\">\n",
       "<caption>A data.frame: 4 × 2</caption>\n",
       "<thead>\n",
       "\t<tr><th scope=col>cell</th><th scope=col>caQTL</th></tr>\n",
       "\t<tr><th scope=col>&lt;chr&gt;</th><th scope=col>&lt;int&gt;</th></tr>\n",
       "</thead>\n",
       "<tbody>\n",
       "\t<tr><td>b   </td><td>108</td></tr>\n",
       "\t<tr><td>mono</td><td>392</td></tr>\n",
       "\t<tr><td>nk  </td><td> 16</td></tr>\n",
       "\t<tr><td>t   </td><td> 51</td></tr>\n",
       "</tbody>\n",
       "</table>\n"
      ],
      "text/latex": [
       "A data.frame: 4 × 2\n",
       "\\begin{tabular}{ll}\n",
       " cell & caQTL\\\\\n",
       " <chr> & <int>\\\\\n",
       "\\hline\n",
       "\t b    & 108\\\\\n",
       "\t mono & 392\\\\\n",
       "\t nk   &  16\\\\\n",
       "\t t    &  51\\\\\n",
       "\\end{tabular}\n"
      ],
      "text/markdown": [
       "\n",
       "A data.frame: 4 × 2\n",
       "\n",
       "| cell &lt;chr&gt; | caQTL &lt;int&gt; |\n",
       "|---|---|\n",
       "| b    | 108 |\n",
       "| mono | 392 |\n",
       "| nk   |  16 |\n",
       "| t    |  51 |\n",
       "\n"
      ],
      "text/plain": [
       "  cell caQTL\n",
       "1 b    108  \n",
       "2 mono 392  \n",
       "3 nk    16  \n",
       "4 t     51  "
      ]
     },
     "metadata": {},
     "output_type": "display_data"
    }
   ],
   "source": [
    "aggregate(caQTL~cell, macro, sum)"
   ]
  },
  {
   "cell_type": "code",
   "execution_count": 23,
   "metadata": {},
   "outputs": [],
   "source": [
    "rr = data.frame()\n",
    "np2 =  list()\n",
    "for (cc in celltypes_micro){\n",
    "res         =  read.table(paste0('fine/', cc, \"/Results_pop1_all.tsv\"), header=T, stringsAsFactors = F)\n",
    "reslead     =  read.table(paste0('fine/', cc, \"/Results_pop1_lead.tsv\"), header=T, stringsAsFactors = F)    \n",
    "res2        =  read.table(paste0('fine/', cc, \"/Results_run3_lead.tsv\"), header=T, stringsAsFactors = F)\n",
    "np2[[cc]]    = unique(reslead$Feature[reslead$flag_fdr10])\n",
    "    \n",
    "res$caQTL  = res$Feature %in% reslead$Feature[reslead$flag_fdr10]\n",
    "res        = subset(res,res$rsID !=\"SKIPPED\")\n",
    "res2 = subset(res2, flag_fdr10==T)  \n",
    "res2 = merge(res2, res[,c(\"Feature\", \"rsID\", \"Effect_size\", \"caQTL\")], by=c(\"Feature\", \"rsID\")) \n",
    "res2$cell = cc    \n",
    "rr  = rbind(rr, res2)\n",
    "\n",
    "                     }\n",
    "micro = rr"
   ]
  },
  {
   "cell_type": "code",
   "execution_count": 24,
   "metadata": {},
   "outputs": [],
   "source": [
    "micro = subset(micro, Ref_allele_bias<0.8 & Ref_allele_bias >0.2 & Sequencing_mapping_error_rate<0.1)"
   ]
  },
  {
   "cell_type": "code",
   "execution_count": 25,
   "metadata": {},
   "outputs": [
    {
     "data": {
      "text/html": [
       "699"
      ],
      "text/latex": [
       "699"
      ],
      "text/markdown": [
       "699"
      ],
      "text/plain": [
       "[1] 699"
      ]
     },
     "metadata": {},
     "output_type": "display_data"
    }
   ],
   "source": [
    "length(unique(micro$Feature[micro$caQTL==TRUE]))"
   ]
  },
  {
   "cell_type": "code",
   "execution_count": 39,
   "metadata": {},
   "outputs": [
    {
     "data": {
      "text/html": [
       "<table class=\"dataframe\">\n",
       "<caption>A data.frame: 15 × 2</caption>\n",
       "<thead>\n",
       "\t<tr><th scope=col>cell</th><th scope=col>caQTL</th></tr>\n",
       "\t<tr><th scope=col>&lt;chr&gt;</th><th scope=col>&lt;int&gt;</th></tr>\n",
       "</thead>\n",
       "<tbody>\n",
       "\t<tr><td>act_cd4_t  </td><td> 25</td></tr>\n",
       "\t<tr><td>adaptive_NK</td><td>  3</td></tr>\n",
       "\t<tr><td>cDC        </td><td>  0</td></tr>\n",
       "\t<tr><td>cMono      </td><td>447</td></tr>\n",
       "\t<tr><td>cyto_cd8_t </td><td> 44</td></tr>\n",
       "\t<tr><td>cyto_nk    </td><td> 10</td></tr>\n",
       "\t<tr><td>iMono      </td><td>  4</td></tr>\n",
       "\t<tr><td>mem_b      </td><td> 38</td></tr>\n",
       "\t<tr><td>mem_cd8_t  </td><td> 28</td></tr>\n",
       "\t<tr><td>mkc        </td><td>  4</td></tr>\n",
       "\t<tr><td>naive_b    </td><td> 77</td></tr>\n",
       "\t<tr><td>naive_cd4_t</td><td> 70</td></tr>\n",
       "\t<tr><td>naive_cd8_t</td><td> 22</td></tr>\n",
       "\t<tr><td>ncMono     </td><td> 25</td></tr>\n",
       "\t<tr><td>tReg       </td><td> 13</td></tr>\n",
       "</tbody>\n",
       "</table>\n"
      ],
      "text/latex": [
       "A data.frame: 15 × 2\n",
       "\\begin{tabular}{ll}\n",
       " cell & caQTL\\\\\n",
       " <chr> & <int>\\\\\n",
       "\\hline\n",
       "\t act\\_cd4\\_t   &  25\\\\\n",
       "\t adaptive\\_NK &   3\\\\\n",
       "\t cDC         &   0\\\\\n",
       "\t cMono       & 447\\\\\n",
       "\t cyto\\_cd8\\_t  &  44\\\\\n",
       "\t cyto\\_nk     &  10\\\\\n",
       "\t iMono       &   4\\\\\n",
       "\t mem\\_b       &  38\\\\\n",
       "\t mem\\_cd8\\_t   &  28\\\\\n",
       "\t mkc         &   4\\\\\n",
       "\t naive\\_b     &  77\\\\\n",
       "\t naive\\_cd4\\_t &  70\\\\\n",
       "\t naive\\_cd8\\_t &  22\\\\\n",
       "\t ncMono      &  25\\\\\n",
       "\t tReg        &  13\\\\\n",
       "\\end{tabular}\n"
      ],
      "text/markdown": [
       "\n",
       "A data.frame: 15 × 2\n",
       "\n",
       "| cell &lt;chr&gt; | caQTL &lt;int&gt; |\n",
       "|---|---|\n",
       "| act_cd4_t   |  25 |\n",
       "| adaptive_NK |   3 |\n",
       "| cDC         |   0 |\n",
       "| cMono       | 447 |\n",
       "| cyto_cd8_t  |  44 |\n",
       "| cyto_nk     |  10 |\n",
       "| iMono       |   4 |\n",
       "| mem_b       |  38 |\n",
       "| mem_cd8_t   |  28 |\n",
       "| mkc         |   4 |\n",
       "| naive_b     |  77 |\n",
       "| naive_cd4_t |  70 |\n",
       "| naive_cd8_t |  22 |\n",
       "| ncMono      |  25 |\n",
       "| tReg        |  13 |\n",
       "\n"
      ],
      "text/plain": [
       "   cell        caQTL\n",
       "1  act_cd4_t    25  \n",
       "2  adaptive_NK   3  \n",
       "3  cDC           0  \n",
       "4  cMono       447  \n",
       "5  cyto_cd8_t   44  \n",
       "6  cyto_nk      10  \n",
       "7  iMono         4  \n",
       "8  mem_b        38  \n",
       "9  mem_cd8_t    28  \n",
       "10 mkc           4  \n",
       "11 naive_b      77  \n",
       "12 naive_cd4_t  70  \n",
       "13 naive_cd8_t  22  \n",
       "14 ncMono       25  \n",
       "15 tReg         13  "
      ]
     },
     "metadata": {},
     "output_type": "display_data"
    }
   ],
   "source": [
    "aggregate(caQTL~cell, micro, sum)"
   ]
  },
  {
   "cell_type": "code",
   "execution_count": 26,
   "metadata": {},
   "outputs": [],
   "source": [
    "sp1 = split(macro, macro$cell)"
   ]
  },
  {
   "cell_type": "code",
   "execution_count": 27,
   "metadata": {},
   "outputs": [],
   "source": [
    "sp2 = split(micro, micro$cell)"
   ]
  },
  {
   "cell_type": "code",
   "execution_count": 28,
   "metadata": {},
   "outputs": [],
   "source": [
    "disctot1 = sum(apply (macro[,c('Effect_size.x' , 'Effect_size.y')],1, function(x) sum(x>0.5)==1))  \n",
    "disctot2 = sum(apply (micro[,c('Effect_size.x' , 'Effect_size.y')],1, function(x) sum(x>0.5)==1))  \n",
    "  \n"
   ]
  },
  {
   "cell_type": "code",
   "execution_count": 29,
   "metadata": {},
   "outputs": [],
   "source": [
    "fract = (disctot1+ disctot2)/(nrow(macro) + nrow(micro)  )"
   ]
  },
  {
   "cell_type": "code",
   "execution_count": 30,
   "metadata": {},
   "outputs": [
    {
     "data": {
      "text/html": [
       "0.0308375800339736"
      ],
      "text/latex": [
       "0.0308375800339736"
      ],
      "text/markdown": [
       "0.0308375800339736"
      ],
      "text/plain": [
       "[1] 0.03083758"
      ]
     },
     "metadata": {},
     "output_type": "display_data"
    }
   ],
   "source": [
    "fract"
   ]
  },
  {
   "cell_type": "code",
   "execution_count": 36,
   "metadata": {},
   "outputs": [
    {
     "data": {
      "text/html": [
       "<style>\n",
       ".dl-inline {width: auto; margin:0; padding: 0}\n",
       ".dl-inline>dt, .dl-inline>dd {float: none; width: auto; display: inline-block}\n",
       ".dl-inline>dt::after {content: \":\\0020\"; padding-right: .5ex}\n",
       ".dl-inline>dt:not(:first-of-type) {padding-left: .5ex}\n",
       "</style><dl class=dl-inline><dt>b</dt><dd>0.0285285285285285</dd><dt>mono</dt><dd>0.028229255774166</dd><dt>nk</dt><dd>0.0285374554102259</dd><dt>t</dt><dd>0.0352443609022556</dd></dl>\n"
      ],
      "text/latex": [
       "\\begin{description*}\n",
       "\\item[b] 0.0285285285285285\n",
       "\\item[mono] 0.028229255774166\n",
       "\\item[nk] 0.0285374554102259\n",
       "\\item[t] 0.0352443609022556\n",
       "\\end{description*}\n"
      ],
      "text/markdown": [
       "b\n",
       ":   0.0285285285285285mono\n",
       ":   0.028229255774166nk\n",
       ":   0.0285374554102259t\n",
       ":   0.0352443609022556\n",
       "\n"
      ],
      "text/plain": [
       "         b       mono         nk          t \n",
       "0.02852853 0.02822926 0.02853746 0.03524436 "
      ]
     },
     "metadata": {},
     "output_type": "display_data"
    }
   ],
   "source": [
    "sapply(sp1, function(y) sum(apply (y[,c('Effect_size.x' , 'Effect_size.y')],1, function(x) sum(x>0.5)==1)) / nrow(y) )"
   ]
  },
  {
   "cell_type": "code",
   "execution_count": 38,
   "metadata": {},
   "outputs": [
    {
     "data": {
      "text/html": [
       "<style>\n",
       ".dl-inline {width: auto; margin:0; padding: 0}\n",
       ".dl-inline>dt, .dl-inline>dd {float: none; width: auto; display: inline-block}\n",
       ".dl-inline>dt::after {content: \":\\0020\"; padding-right: .5ex}\n",
       ".dl-inline>dt:not(:first-of-type) {padding-left: .5ex}\n",
       "</style><dl class=dl-inline><dt>act_cd4_t</dt><dd>0.0305741983594333</dd><dt>adaptive_NK</dt><dd>0</dd><dt>cDC</dt><dd>0.0555555555555556</dd><dt>cMono</dt><dd>0.0319619177150629</dd><dt>cyto_cd8_t</dt><dd>0.0418006430868167</dd><dt>cyto_nk</dt><dd>0.0256410256410256</dd><dt>iMono</dt><dd>0.0238095238095238</dd><dt>mem_b</dt><dd>0.0245398773006135</dd><dt>mem_cd8_t</dt><dd>0.0131578947368421</dd><dt>mkc</dt><dd>0.032258064516129</dd><dt>naive_b</dt><dd>0.0179487179487179</dd><dt>naive_cd4_t</dt><dd>0.0444104134762634</dd><dt>naive_cd8_t</dt><dd>0.0297619047619048</dd><dt>ncMono</dt><dd>0.0288065843621399</dd><dt>tReg</dt><dd>0.025974025974026</dd></dl>\n"
      ],
      "text/latex": [
       "\\begin{description*}\n",
       "\\item[act\\textbackslash{}\\_cd4\\textbackslash{}\\_t] 0.0305741983594333\n",
       "\\item[adaptive\\textbackslash{}\\_NK] 0\n",
       "\\item[cDC] 0.0555555555555556\n",
       "\\item[cMono] 0.0319619177150629\n",
       "\\item[cyto\\textbackslash{}\\_cd8\\textbackslash{}\\_t] 0.0418006430868167\n",
       "\\item[cyto\\textbackslash{}\\_nk] 0.0256410256410256\n",
       "\\item[iMono] 0.0238095238095238\n",
       "\\item[mem\\textbackslash{}\\_b] 0.0245398773006135\n",
       "\\item[mem\\textbackslash{}\\_cd8\\textbackslash{}\\_t] 0.0131578947368421\n",
       "\\item[mkc] 0.032258064516129\n",
       "\\item[naive\\textbackslash{}\\_b] 0.0179487179487179\n",
       "\\item[naive\\textbackslash{}\\_cd4\\textbackslash{}\\_t] 0.0444104134762634\n",
       "\\item[naive\\textbackslash{}\\_cd8\\textbackslash{}\\_t] 0.0297619047619048\n",
       "\\item[ncMono] 0.0288065843621399\n",
       "\\item[tReg] 0.025974025974026\n",
       "\\end{description*}\n"
      ],
      "text/markdown": [
       "act_cd4_t\n",
       ":   0.0305741983594333adaptive_NK\n",
       ":   0cDC\n",
       ":   0.0555555555555556cMono\n",
       ":   0.0319619177150629cyto_cd8_t\n",
       ":   0.0418006430868167cyto_nk\n",
       ":   0.0256410256410256iMono\n",
       ":   0.0238095238095238mem_b\n",
       ":   0.0245398773006135mem_cd8_t\n",
       ":   0.0131578947368421mkc\n",
       ":   0.032258064516129naive_b\n",
       ":   0.0179487179487179naive_cd4_t\n",
       ":   0.0444104134762634naive_cd8_t\n",
       ":   0.0297619047619048ncMono\n",
       ":   0.0288065843621399tReg\n",
       ":   0.025974025974026\n",
       "\n"
      ],
      "text/plain": [
       "  act_cd4_t adaptive_NK         cDC       cMono  cyto_cd8_t     cyto_nk \n",
       " 0.03057420  0.00000000  0.05555556  0.03196192  0.04180064  0.02564103 \n",
       "      iMono       mem_b   mem_cd8_t         mkc     naive_b naive_cd4_t \n",
       " 0.02380952  0.02453988  0.01315789  0.03225806  0.01794872  0.04441041 \n",
       "naive_cd8_t      ncMono        tReg \n",
       " 0.02976190  0.02880658  0.02597403 "
      ]
     },
     "metadata": {},
     "output_type": "display_data"
    }
   ],
   "source": [
    "sapply(sp2, function(y) sum(apply (y[,c('Effect_size.x' , 'Effect_size.y')],1, function(x) sum(x>0.5)==1)) / nrow(y) )"
   ]
  },
  {
   "cell_type": "code",
   "execution_count": 46,
   "metadata": {},
   "outputs": [
    {
     "data": {
      "text/html": [
       "<strong>png:</strong> 2"
      ],
      "text/latex": [
       "\\textbf{png:} 2"
      ],
      "text/markdown": [
       "**png:** 2"
      ],
      "text/plain": [
       "png \n",
       "  2 "
      ]
     },
     "metadata": {},
     "output_type": "display_data"
    }
   ],
   "source": [
    "pdf(\"../figures/Comparison_with_population_only_caQTL_all.pdf\", height = 10, width = 8)\n",
    "par(mfrow = c(5,4),  mar = c(4,4,2,2))\n",
    "for(i in 1:4){\n",
    "tab = sp1[[i]]\n",
    "plot(Effect_size.y~Effect_size.x, tab , pch=19, main = names(sp1)[i],cex=0.5, xlab=NA, ylab=NA,\n",
    "       xlim=c(0.1, 0.9), ylim=c(0.1, 0.9),col = tab$caQTL+1)\n",
    "     mtext( \"Population only effect\", side = 2, cex=0.7, line=2)\n",
    "           mtext( \"Combined population-ASE effect\", side=1, cex=0.7, line=2)\n",
    "    \n",
    "rect(0,0,0.5,0.5, col = alpha ('gray', 0.2))\n",
    "rect(0.5,0.5,1,1, col = alpha ('gray', 0.2))\n",
    "disc = sum(apply (tab[,c('Effect_size.x' , 'Effect_size.y')],1, function(x) sum(x>0.5)==1))  \n",
    "fract = disc/nrow(tab)    \n",
    "mtext(paste( \" \", round(fract,4)*100, \"% \\n discordant\"), line=-2, adj=0, cex=0.7)\n",
    "    }\n",
    "\n",
    "for(i in 1:15){\n",
    "tab = sp2[[i]]\n",
    "plot(Effect_size.y~Effect_size.x, tab , pch=19, main = names(sp2)[i],cex=0.5, xlab=NA, ylab=NA,\n",
    "       xlim=c(0.1, 0.9) , ylim=c(0.1, 0.9), col = tab$caQTL+1)\n",
    "     mtext( \"Population only effect\", side = 2, cex=0.7, line=2)\n",
    "           mtext( \"Combined population-ASE effect\", side=1, cex=0.7, line=2)\n",
    "    \n",
    "rect(0,0,0.5,0.5, col = alpha ('gray', 0.2))\n",
    "rect(0.5,0.5,1,1, col = alpha ('gray', 0.2))\n",
    "disc = sum(apply (tab[,c('Effect_size.x' , 'Effect_size.y')],1, function(x) sum(x>0.5)==1))  \n",
    "fract = disc/nrow(tab)    \n",
    "mtext(paste( \" \", round(fract,4)*100, \"% \\n discordant\"), line=-2, adj=0, cex=0.7)\n",
    "    }\n",
    "dev.off()\n",
    "                  "
   ]
  },
  {
   "cell_type": "code",
   "execution_count": 50,
   "metadata": {},
   "outputs": [],
   "source": [
    "tot = rbind(macro, micro)"
   ]
  },
  {
   "cell_type": "code",
   "execution_count": 53,
   "metadata": {},
   "outputs": [
    {
     "data": {
      "text/html": [
       "176"
      ],
      "text/latex": [
       "176"
      ],
      "text/markdown": [
       "176"
      ],
      "text/plain": [
       "[1] 176"
      ]
     },
     "metadata": {},
     "output_type": "display_data"
    }
   ],
   "source": [
    "sum(tot$Ref_allele_bias<0.25)"
   ]
  },
  {
   "cell_type": "code",
   "execution_count": 54,
   "metadata": {},
   "outputs": [
    {
     "data": {
      "text/html": [
       "0.0119136262099777"
      ],
      "text/latex": [
       "0.0119136262099777"
      ],
      "text/markdown": [
       "0.0119136262099777"
      ],
      "text/plain": [
       "[1] 0.01191363"
      ]
     },
     "metadata": {},
     "output_type": "display_data"
    }
   ],
   "source": [
    "176/nrow(tot)"
   ]
  },
  {
   "cell_type": "code",
   "execution_count": null,
   "metadata": {},
   "outputs": [],
   "source": []
  }
 ],
 "metadata": {
  "kernelspec": {
   "display_name": "R 4.1",
   "language": "R",
   "name": "ir41"
  },
  "language_info": {
   "codemirror_mode": "r",
   "file_extension": ".r",
   "mimetype": "text/x-r-source",
   "name": "R",
   "pygments_lexer": "r",
   "version": "4.1.1"
  }
 },
 "nbformat": 4,
 "nbformat_minor": 4
}
