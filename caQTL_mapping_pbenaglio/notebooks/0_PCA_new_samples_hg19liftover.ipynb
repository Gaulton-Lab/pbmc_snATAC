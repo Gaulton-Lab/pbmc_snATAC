{
 "cells": [
  {
   "cell_type": "markdown",
   "id": "initial-wayne",
   "metadata": {},
   "source": [
    "## PCA"
   ]
  },
  {
   "cell_type": "code",
   "execution_count": 27,
   "id": "general-trick",
   "metadata": {},
   "outputs": [],
   "source": [
    "setwd(\"/nfs/lab/projects/pbmc_snATAC/pipeline/snp_array/pca_liftoverhg19//\")"
   ]
  },
  {
   "cell_type": "code",
   "execution_count": 28,
   "id": "expanded-focus",
   "metadata": {},
   "outputs": [],
   "source": [
    "samp = read.table(\"../1kg_population_sample_table.tsv\", sep=\"\\t\", header=T)"
   ]
  },
  {
   "cell_type": "code",
   "execution_count": 29,
   "id": "possible-savannah",
   "metadata": {},
   "outputs": [],
   "source": [
    "sup = read.table(\"../1kg_super_population_table.tsv\", sep=\"\\t\", header=T)"
   ]
  },
  {
   "cell_type": "code",
   "execution_count": 30,
   "id": "manufactured-irish",
   "metadata": {},
   "outputs": [],
   "source": [
    "samp = merge(samp, sup, by.x=2, by.y=1)"
   ]
  },
  {
   "cell_type": "code",
   "execution_count": 31,
   "id": "nonprofit-accommodation",
   "metadata": {},
   "outputs": [
    {
     "data": {
      "text/html": [
       "<table class=\"dataframe\">\n",
       "<caption>A data.frame: 6 × 3</caption>\n",
       "<thead>\n",
       "\t<tr><th></th><th scope=col>Population</th><th scope=col>Sample</th><th scope=col>SuperPopulation.Code</th></tr>\n",
       "\t<tr><th></th><th scope=col>&lt;fct&gt;</th><th scope=col>&lt;fct&gt;</th><th scope=col>&lt;fct&gt;</th></tr>\n",
       "</thead>\n",
       "<tbody>\n",
       "\t<tr><th scope=row>1</th><td>ACB</td><td>HG02308</td><td>AFR</td></tr>\n",
       "\t<tr><th scope=row>2</th><td>ACB</td><td>HG02255</td><td>AFR</td></tr>\n",
       "\t<tr><th scope=row>3</th><td>ACB</td><td>HG02111</td><td>AFR</td></tr>\n",
       "\t<tr><th scope=row>4</th><td>ACB</td><td>HG02480</td><td>AFR</td></tr>\n",
       "\t<tr><th scope=row>5</th><td>ACB</td><td>HG01894</td><td>AFR</td></tr>\n",
       "\t<tr><th scope=row>6</th><td>ACB</td><td>HG02478</td><td>AFR</td></tr>\n",
       "</tbody>\n",
       "</table>\n"
      ],
      "text/latex": [
       "A data.frame: 6 × 3\n",
       "\\begin{tabular}{r|lll}\n",
       "  & Population & Sample & SuperPopulation.Code\\\\\n",
       "  & <fct> & <fct> & <fct>\\\\\n",
       "\\hline\n",
       "\t1 & ACB & HG02308 & AFR\\\\\n",
       "\t2 & ACB & HG02255 & AFR\\\\\n",
       "\t3 & ACB & HG02111 & AFR\\\\\n",
       "\t4 & ACB & HG02480 & AFR\\\\\n",
       "\t5 & ACB & HG01894 & AFR\\\\\n",
       "\t6 & ACB & HG02478 & AFR\\\\\n",
       "\\end{tabular}\n"
      ],
      "text/markdown": [
       "\n",
       "A data.frame: 6 × 3\n",
       "\n",
       "| <!--/--> | Population &lt;fct&gt; | Sample &lt;fct&gt; | SuperPopulation.Code &lt;fct&gt; |\n",
       "|---|---|---|---|\n",
       "| 1 | ACB | HG02308 | AFR |\n",
       "| 2 | ACB | HG02255 | AFR |\n",
       "| 3 | ACB | HG02111 | AFR |\n",
       "| 4 | ACB | HG02480 | AFR |\n",
       "| 5 | ACB | HG01894 | AFR |\n",
       "| 6 | ACB | HG02478 | AFR |\n",
       "\n"
      ],
      "text/plain": [
       "  Population Sample  SuperPopulation.Code\n",
       "1 ACB        HG02308 AFR                 \n",
       "2 ACB        HG02255 AFR                 \n",
       "3 ACB        HG02111 AFR                 \n",
       "4 ACB        HG02480 AFR                 \n",
       "5 ACB        HG01894 AFR                 \n",
       "6 ACB        HG02478 AFR                 "
      ]
     },
     "metadata": {},
     "output_type": "display_data"
    }
   ],
   "source": [
    "head(samp)"
   ]
  },
  {
   "cell_type": "code",
   "execution_count": 32,
   "id": "behind-automation",
   "metadata": {},
   "outputs": [],
   "source": [
    "pcs = read.table(\"all_pbmc_1KGP_ALL_HRC.eigenvec\", header=T)"
   ]
  },
  {
   "cell_type": "code",
   "execution_count": 33,
   "id": "adjacent-collins",
   "metadata": {},
   "outputs": [
    {
     "data": {
      "text/html": [
       "2504"
      ],
      "text/latex": [
       "2504"
      ],
      "text/markdown": [
       "2504"
      ],
      "text/plain": [
       "[1] 2504"
      ]
     },
     "metadata": {},
     "output_type": "display_data"
    }
   ],
   "source": [
    "nrow(pcs)-19"
   ]
  },
  {
   "cell_type": "code",
   "execution_count": 34,
   "id": "compressed-mobile",
   "metadata": {},
   "outputs": [],
   "source": [
    "df = data.frame(Sample= pcs$IID[1:19], SuperPopulation.Code=\"PBMC\")"
   ]
  },
  {
   "cell_type": "code",
   "execution_count": 35,
   "id": "correct-brook",
   "metadata": {},
   "outputs": [],
   "source": [
    "samp2 = rbind(samp[,2:3], df)"
   ]
  },
  {
   "cell_type": "code",
   "execution_count": 36,
   "id": "accurate-simon",
   "metadata": {},
   "outputs": [
    {
     "data": {
      "text/plain": [
       "\n",
       " AFR  AMR  EAS  EUR  SAS PBMC \n",
       "1018  535  617  669  661   19 "
      ]
     },
     "metadata": {},
     "output_type": "display_data"
    }
   ],
   "source": [
    "table(samp2$SuperPopulation.Code)"
   ]
  },
  {
   "cell_type": "code",
   "execution_count": 37,
   "id": "intensive-quilt",
   "metadata": {},
   "outputs": [
    {
     "data": {
      "text/plain": [
       "\n",
       "   1    2    3    4    5    6 \n",
       "1018  535  617  669  661   19 "
      ]
     },
     "metadata": {},
     "output_type": "display_data"
    }
   ],
   "source": [
    "table(as.numeric(samp2$SuperPopulation.Code))"
   ]
  },
  {
   "cell_type": "code",
   "execution_count": 38,
   "id": "adjusted-paraguay",
   "metadata": {},
   "outputs": [],
   "source": [
    "col = rainbow(6)"
   ]
  },
  {
   "cell_type": "code",
   "execution_count": 39,
   "id": "invalid-fossil",
   "metadata": {},
   "outputs": [],
   "source": [
    "pbmcs = subset(pcs, grepl(\"PBMC\", pcs$IID))"
   ]
  },
  {
   "cell_type": "code",
   "execution_count": 40,
   "id": "broadband-reasoning",
   "metadata": {},
   "outputs": [],
   "source": [
    "pbmcs$samp = stringr::str_split_fixed(pbmcs$IID, \"-\", 2)[,2]"
   ]
  },
  {
   "cell_type": "code",
   "execution_count": 41,
   "id": "sitting-weekly",
   "metadata": {},
   "outputs": [],
   "source": [
    "var = readLines(\"all_pbmc_1KGP_ALL_HRC.eigenval\")\n",
    "\n",
    "var_expl =paste0( \"PC\", 1:20, \" (\",round((as.numeric(var)/sum(as.numeric(var)))*100,1), \"%)\")"
   ]
  },
  {
   "cell_type": "code",
   "execution_count": 43,
   "id": "instrumental-handy",
   "metadata": {},
   "outputs": [
    {
     "data": {
      "text/html": [
       "<strong>png:</strong> 2"
      ],
      "text/latex": [
       "\\textbf{png:} 2"
      ],
      "text/markdown": [
       "**png:** 2"
      ],
      "text/plain": [
       "png \n",
       "  2 "
      ]
     },
     "metadata": {},
     "output_type": "display_data"
    }
   ],
   "source": [
    "pdf(\"PCA_pops_hg19_liftover.pdf\")\n",
    "par(mfrow=c(2,2), mar=c(4,4,1,1))\n",
    "plot(PC2~PC1, pcs, pch=21, bg =  col[as.numeric(samp2$SuperPopulation.Code[match(pcs$IID, samp2$Sample)])], xlab=var_expl[1], ylab=var_expl[2])\n",
    "legend(\"topright\", legend = levels(samp2$SuperPopulation.Code), pch = 21, pt.bg = col )\n",
    "plot(PC2~PC1, pbmcs, pch=21, bg =  6)\n",
    "text (PC2~PC1, pbmcs, labels= pbmcs$samp, pos=4)\n",
    " plot(PC4~PC3, pcs, pch=21, bg =  col[as.numeric(samp2$SuperPopulation.Code[match(pcs$IID, samp2$Sample)])], xlab=var_expl[3], ylab=var_expl[4])\n",
    "legend(\"topleft\", legend = levels(samp2$SuperPopulation.Code), pch = 21, pt.bg = col )\n",
    "plot(PC4~PC3, pbmcs, pch=21, bg =  6)\n",
    "text (PC4~PC3, pbmcs, labels= pbmcs$samp, pos=2)\n",
    "dev.off()"
   ]
  },
  {
   "cell_type": "code",
   "execution_count": 44,
   "id": "developmental-immunology",
   "metadata": {},
   "outputs": [
    {
     "data": {
      "text/html": [
       "<style>\n",
       ".list-inline {list-style: none; margin:0; padding: 0}\n",
       ".list-inline>li {display: inline-block}\n",
       ".list-inline>li:not(:last-child)::after {content: \"\\00b7\"; padding: 0 .5ex}\n",
       "</style>\n",
       "<ol class=list-inline><li>'PC1 (45.6%)'</li><li>'PC2 (27.3%)'</li><li>'PC3 (8.6%)'</li><li>'PC4 (6.6%)'</li><li>'PC5 (1.6%)'</li><li>'PC6 (1.2%)'</li><li>'PC7 (1.1%)'</li><li>'PC8 (0.8%)'</li><li>'PC9 (0.7%)'</li><li>'PC10 (0.7%)'</li><li>'PC11 (0.7%)'</li><li>'PC12 (0.6%)'</li><li>'PC13 (0.6%)'</li><li>'PC14 (0.6%)'</li><li>'PC15 (0.6%)'</li><li>'PC16 (0.6%)'</li><li>'PC17 (0.5%)'</li><li>'PC18 (0.5%)'</li><li>'PC19 (0.5%)'</li><li>'PC20 (0.5%)'</li></ol>\n"
      ],
      "text/latex": [
       "\\begin{enumerate*}\n",
       "\\item 'PC1 (45.6\\%)'\n",
       "\\item 'PC2 (27.3\\%)'\n",
       "\\item 'PC3 (8.6\\%)'\n",
       "\\item 'PC4 (6.6\\%)'\n",
       "\\item 'PC5 (1.6\\%)'\n",
       "\\item 'PC6 (1.2\\%)'\n",
       "\\item 'PC7 (1.1\\%)'\n",
       "\\item 'PC8 (0.8\\%)'\n",
       "\\item 'PC9 (0.7\\%)'\n",
       "\\item 'PC10 (0.7\\%)'\n",
       "\\item 'PC11 (0.7\\%)'\n",
       "\\item 'PC12 (0.6\\%)'\n",
       "\\item 'PC13 (0.6\\%)'\n",
       "\\item 'PC14 (0.6\\%)'\n",
       "\\item 'PC15 (0.6\\%)'\n",
       "\\item 'PC16 (0.6\\%)'\n",
       "\\item 'PC17 (0.5\\%)'\n",
       "\\item 'PC18 (0.5\\%)'\n",
       "\\item 'PC19 (0.5\\%)'\n",
       "\\item 'PC20 (0.5\\%)'\n",
       "\\end{enumerate*}\n"
      ],
      "text/markdown": [
       "1. 'PC1 (45.6%)'\n",
       "2. 'PC2 (27.3%)'\n",
       "3. 'PC3 (8.6%)'\n",
       "4. 'PC4 (6.6%)'\n",
       "5. 'PC5 (1.6%)'\n",
       "6. 'PC6 (1.2%)'\n",
       "7. 'PC7 (1.1%)'\n",
       "8. 'PC8 (0.8%)'\n",
       "9. 'PC9 (0.7%)'\n",
       "10. 'PC10 (0.7%)'\n",
       "11. 'PC11 (0.7%)'\n",
       "12. 'PC12 (0.6%)'\n",
       "13. 'PC13 (0.6%)'\n",
       "14. 'PC14 (0.6%)'\n",
       "15. 'PC15 (0.6%)'\n",
       "16. 'PC16 (0.6%)'\n",
       "17. 'PC17 (0.5%)'\n",
       "18. 'PC18 (0.5%)'\n",
       "19. 'PC19 (0.5%)'\n",
       "20. 'PC20 (0.5%)'\n",
       "\n",
       "\n"
      ],
      "text/plain": [
       " [1] \"PC1 (45.6%)\" \"PC2 (27.3%)\" \"PC3 (8.6%)\"  \"PC4 (6.6%)\"  \"PC5 (1.6%)\" \n",
       " [6] \"PC6 (1.2%)\"  \"PC7 (1.1%)\"  \"PC8 (0.8%)\"  \"PC9 (0.7%)\"  \"PC10 (0.7%)\"\n",
       "[11] \"PC11 (0.7%)\" \"PC12 (0.6%)\" \"PC13 (0.6%)\" \"PC14 (0.6%)\" \"PC15 (0.6%)\"\n",
       "[16] \"PC16 (0.6%)\" \"PC17 (0.5%)\" \"PC18 (0.5%)\" \"PC19 (0.5%)\" \"PC20 (0.5%)\""
      ]
     },
     "metadata": {},
     "output_type": "display_data"
    }
   ],
   "source": [
    "var_expl"
   ]
  },
  {
   "cell_type": "code",
   "execution_count": 45,
   "id": "considered-california",
   "metadata": {},
   "outputs": [
    {
     "data": {
      "text/html": [
       "<strong>png:</strong> 2"
      ],
      "text/latex": [
       "\\textbf{png:} 2"
      ],
      "text/markdown": [
       "**png:** 2"
      ],
      "text/plain": [
       "png \n",
       "  2 "
      ]
     },
     "metadata": {},
     "output_type": "display_data"
    }
   ],
   "source": [
    "pdf(\"PCA_pops_hg19_liftover_12pcs.pdf\", height = 10, width = 10)\n",
    "par(mfrow=c(2,2), mar=c(4,4,1,1))\n",
    "plot(PC2~PC1, pcs, pch=21, bg =  col[as.numeric(samp2$SuperPopulation.Code[match(pcs$IID, samp2$Sample)])], xlab=var_expl[1], ylab=var_expl[2])\n",
    "legend(\"topright\", legend = levels(samp2$SuperPopulation.Code), pch = 21, pt.bg = col )\n",
    "\n",
    "\n",
    "plot(PC4~PC3, pcs, pch=21, bg =  col[as.numeric(samp2$SuperPopulation.Code[match(pcs$IID, samp2$Sample)])], xlab=var_expl[3], ylab=var_expl[4])\n",
    "legend(\"topleft\", legend = levels(samp2$SuperPopulation.Code), pch = 21, pt.bg = col )\n",
    "\n",
    "\n",
    "plot(PC6~PC5, pcs, pch=21, bg =  col[as.numeric(samp2$SuperPopulation.Code[match(pcs$IID, samp2$Sample)])], xlab=var_expl[5], ylab=var_expl[6])\n",
    "legend(\"topright\", legend = levels(samp2$SuperPopulation.Code), pch = 21, pt.bg = col )\n",
    "\n",
    "\n",
    "plot(PC8~PC7, pcs, pch=21, bg =  col[as.numeric(samp2$SuperPopulation.Code[match(pcs$IID, samp2$Sample)])], xlab=var_expl[7], ylab=var_expl[8])\n",
    "legend(\"topright\", legend = levels(samp2$SuperPopulation.Code), pch = 21, pt.bg = col )\n",
    "\n",
    "plot(PC10~PC9, pcs, pch=21, bg =  col[as.numeric(samp2$SuperPopulation.Code[match(pcs$IID, samp2$Sample)])], xlab=var_expl[9], ylab=var_expl[10])\n",
    "legend(\"bottomright\", legend = levels(samp2$SuperPopulation.Code), pch = 21, pt.bg = col )\n",
    "\n",
    "plot(PC12~PC11, pcs, pch=21, bg =  col[as.numeric(samp2$SuperPopulation.Code[match(pcs$IID, samp2$Sample)])], xlab=var_expl[11], ylab=var_expl[12])\n",
    "legend(\"topright\", legend = levels(samp2$SuperPopulation.Code), pch = 21, pt.bg = col )\n",
    "dev.off()"
   ]
  },
  {
   "cell_type": "markdown",
   "id": "strong-crash",
   "metadata": {},
   "source": [
    "*Remove pbmc samples that are not included in the paper for the supp  figure*"
   ]
  },
  {
   "cell_type": "code",
   "execution_count": 46,
   "id": "genuine-louisiana",
   "metadata": {},
   "outputs": [],
   "source": [
    "setwd(\"/nfs/lab/projects/pbmc_snATAC/analysis_v2/figures/\")"
   ]
  },
  {
   "cell_type": "code",
   "execution_count": 47,
   "id": "informed-titanium",
   "metadata": {},
   "outputs": [],
   "source": [
    "pcs_sub = pcs[-c(10, 12:15,19),]"
   ]
  },
  {
   "cell_type": "code",
   "execution_count": 48,
   "id": "formed-share",
   "metadata": {},
   "outputs": [],
   "source": [
    "pbmcs_sub = pbmcs[-c(10,12:15,19),]"
   ]
  },
  {
   "cell_type": "code",
   "execution_count": 49,
   "id": "aboriginal-belly",
   "metadata": {},
   "outputs": [],
   "source": [
    "pcs_sub = pcs_sub[order(pcs_sub$IID, decreasing = T),]"
   ]
  },
  {
   "cell_type": "code",
   "execution_count": 65,
   "id": "surprised-certification",
   "metadata": {},
   "outputs": [
    {
     "data": {
      "text/html": [
       "<strong>png:</strong> 2"
      ],
      "text/latex": [
       "\\textbf{png:} 2"
      ],
      "text/markdown": [
       "**png:** 2"
      ],
      "text/plain": [
       "png \n",
       "  2 "
      ]
     },
     "metadata": {},
     "output_type": "display_data"
    }
   ],
   "source": [
    "pdf(\"PCA_pops_hg19_liftover.pdf\", width = 8.5, height = 10)\n",
    "par(mfrow=c(3,2), mar=c(4,5,2,2))\n",
    "plot(PC2~PC1, pcs_sub, pch=NA, bg =  col[as.numeric(samp2$SuperPopulation.Code[match(pcs_sub$IID, samp2$Sample)])], xlab=var_expl[1], ylab=var_expl[2])\n",
    "legend(\"bottomright\", legend = levels(samp2$SuperPopulation.Code), pch = 21, pt.bg = col , pt.cex=1.5)\n",
    "plot(PC2~PC1, pbmcs_sub, cex=1.5,pch=21, bg =  6)\n",
    "text (PC2~PC1, pbmcs_sub, labels= paste0('PBMC',pbmcs_sub$samp), pos=4, cex=1)\n",
    "\n",
    "plot(PC4~PC3, pcs_sub, pch=NA, bg =  col[as.numeric(samp2$SuperPopulation.Code[match(pcs_sub$IID, samp2$Sample)])], xlab=var_expl[3], ylab=var_expl[4])\n",
    "legend(\"topleft\", legend = levels(samp2$SuperPopulation.Code), pch = 21, pt.bg = col , pt.cex=1.5)\n",
    "plot(PC4~PC3, pbmcs_sub, cex=1.5,pch=21, bg =  6)\n",
    "text (PC4~PC3, pbmcs_sub, labels= paste0('PBMC',pbmcs_sub$samp), pos=4, cex=1)\n",
    "\n",
    " plot(PC6~PC5, pcs_sub, pch=NA, bg =  col[as.numeric(samp2$SuperPopulation.Code[match(pcs_sub$IID, samp2$Sample)])], xlab=var_expl[5], ylab=var_expl[6])\n",
    " legend(\"bottomleft\", legend = levels(samp2$SuperPopulation.Code), pch = 21, pt.bg = col , pt.cex=1.5)\n",
    " plot(PC6~PC5, pbmcs_sub , cex=1.5, pch=21, bg =  6)\n",
    " text (PC6~PC5, pbmcs_sub, labels= paste0('PBMC',pbmcs_sub$samp), pos=4)\n",
    "\n",
    "dev.off()"
   ]
  },
  {
   "cell_type": "code",
   "execution_count": 63,
   "id": "swedish-sleep",
   "metadata": {},
   "outputs": [
    {
     "data": {
      "text/html": [
       "<strong>png:</strong> 2"
      ],
      "text/latex": [
       "\\textbf{png:} 2"
      ],
      "text/markdown": [
       "**png:** 2"
      ],
      "text/plain": [
       "png \n",
       "  2 "
      ]
     },
     "metadata": {},
     "output_type": "display_data"
    },
    {
     "data": {
      "text/html": [
       "<strong>png:</strong> 2"
      ],
      "text/latex": [
       "\\textbf{png:} 2"
      ],
      "text/markdown": [
       "**png:** 2"
      ],
      "text/plain": [
       "png \n",
       "  2 "
      ]
     },
     "metadata": {},
     "output_type": "display_data"
    },
    {
     "data": {
      "text/html": [
       "<strong>png:</strong> 2"
      ],
      "text/latex": [
       "\\textbf{png:} 2"
      ],
      "text/markdown": [
       "**png:** 2"
      ],
      "text/plain": [
       "png \n",
       "  2 "
      ]
     },
     "metadata": {},
     "output_type": "display_data"
    }
   ],
   "source": [
    "png(\"PCA_pops_hg19_liftover_1.png\", width = 3.326, height = 2.5414, units = 'in', res = 300)\n",
    "par( mar=c(0,0,0,0))\n",
    "plot(PC2~PC1, pcs_sub, pch=21,  cex=1.1,\n",
    "     bg =  col[as.numeric(samp2$SuperPopulation.Code[match(pcs_sub$IID, samp2$Sample)])], xlab=var_expl[1], ylab=var_expl[2])\n",
    "dev.off()\n",
    "png(\"PCA_pops_hg19_liftover_2.png\", width = 3.326, height = 2.5414, units = 'in', res = 300)\n",
    "par( mar=c(0,0,0,0))\n",
    "plot(PC4~PC3, pcs_sub, pch=21,  cex=1.1,\n",
    "      bg =  col[as.numeric(samp2$SuperPopulation.Code[match(pcs_sub$IID, samp2$Sample)])], xlab=var_expl[3], ylab=var_expl[4])\n",
    "dev.off()\n",
    "png(\"PCA_pops_hg19_liftover_3.png\", width = 3.326, height = 2.5414, units = 'in', res = 300)\n",
    "par( mar=c(0,0,0,0))\n",
    "plot(PC6~PC5, pcs_sub, pch=21,  cex=1.1,\n",
    "      bg =  col[as.numeric(samp2$SuperPopulation.Code[match(pcs_sub$IID, samp2$Sample)])], xlab=var_expl[5], ylab=var_expl[6])\n",
    "dev.off()\n"
   ]
  },
  {
   "cell_type": "code",
   "execution_count": 52,
   "id": "destroyed-happening",
   "metadata": {},
   "outputs": [],
   "source": [
    "write.table(pbmcs_sub[,3:6], '/nfs/lab/projects/pbmc_snATAC/analysis_v2/rasqual/covariates/4_gt_pcs',\n",
    "            sep=\"\\t\", row.names=F, col.names=F, quote=F)"
   ]
  },
  {
   "cell_type": "code",
   "execution_count": 53,
   "id": "injured-crack",
   "metadata": {},
   "outputs": [],
   "source": [
    "write.table(pbmcs_sub[,3:8], '/nfs/lab/projects/pbmc_snATAC/analysis_v2/rasqual/covariates/6_gt_pcs',\n",
    "            sep=\"\\t\", row.names=F, col.names=F, quote=F)"
   ]
  },
  {
   "cell_type": "markdown",
   "id": "acoustic-purple",
   "metadata": {},
   "source": [
    "## Imputation results"
   ]
  },
  {
   "cell_type": "code",
   "execution_count": 58,
   "id": "fatal-genealogy",
   "metadata": {},
   "outputs": [],
   "source": [
    "library(data.table)"
   ]
  },
  {
   "cell_type": "code",
   "execution_count": 51,
   "id": "joint-steering",
   "metadata": {},
   "outputs": [],
   "source": [
    "setwd(\"/nfs/lab/projects/pbmc_snATAC/pipeline/snp_array/post_imputation_topmed\")"
   ]
  },
  {
   "cell_type": "code",
   "execution_count": 59,
   "id": "white-bernard",
   "metadata": {},
   "outputs": [],
   "source": [
    "info =fread(\"all_vars_topmend_imputation_info_test.txt\", header=T)"
   ]
  },
  {
   "cell_type": "code",
   "execution_count": 65,
   "id": "floral-cooler",
   "metadata": {},
   "outputs": [
    {
     "data": {
      "text/plain": [
       "   Min. 1st Qu.  Median    Mean 3rd Qu.    Max. \n",
       "0.00804 0.02719 0.12859 0.17002 0.28882 0.50000 "
      ]
     },
     "metadata": {},
     "output_type": "display_data"
    }
   ],
   "source": [
    "summary(info$MAF)"
   ]
  },
  {
   "cell_type": "code",
   "execution_count": 66,
   "id": "prompt-pillow",
   "metadata": {},
   "outputs": [
    {
     "data": {
      "text/plain": [
       "   Min. 1st Qu.  Median    Mean 3rd Qu.    Max. \n",
       " 0.3000  0.9902  0.9981  0.9733  0.9999  1.0000 "
      ]
     },
     "metadata": {},
     "output_type": "display_data"
    }
   ],
   "source": [
    "summary(info$Rsq)"
   ]
  },
  {
   "cell_type": "code",
   "execution_count": 63,
   "id": "heated-malaysia",
   "metadata": {},
   "outputs": [
    {
     "data": {
      "text/plain": [
       "\n",
       "Genotyped   Imputed \n",
       "  1325212   7762343 "
      ]
     },
     "metadata": {},
     "output_type": "display_data"
    }
   ],
   "source": [
    "table(info$Genotyped)"
   ]
  },
  {
   "cell_type": "code",
   "execution_count": 70,
   "id": "fifth-joshua",
   "metadata": {},
   "outputs": [
    {
     "data": {
      "text/html": [
       "237643"
      ],
      "text/latex": [
       "237643"
      ],
      "text/markdown": [
       "237643"
      ],
      "text/plain": [
       "[1] 237643"
      ]
     },
     "metadata": {},
     "output_type": "display_data"
    }
   ],
   "source": [
    "sum(info$Rsq <=0.7)"
   ]
  },
  {
   "cell_type": "code",
   "execution_count": 71,
   "id": "purple-relay",
   "metadata": {},
   "outputs": [
    {
     "data": {
      "text/html": [
       "40184"
      ],
      "text/latex": [
       "40184"
      ],
      "text/markdown": [
       "40184"
      ],
      "text/plain": [
       "[1] 40184"
      ]
     },
     "metadata": {},
     "output_type": "display_data"
    }
   ],
   "source": [
    "sum(info$MAF <=0.01)"
   ]
  },
  {
   "cell_type": "markdown",
   "id": "urban-section",
   "metadata": {},
   "source": [
    "##josh's"
   ]
  },
  {
   "cell_type": "code",
   "execution_count": 72,
   "id": "adjustable-plane",
   "metadata": {},
   "outputs": [],
   "source": [
    "jo = fread('/nfs/lab/projects/pbmc_snATAC/analysis/WASP/vcfs/PBMC.info.gz', header=T)"
   ]
  },
  {
   "cell_type": "code",
   "execution_count": 73,
   "id": "occupied-undergraduate",
   "metadata": {},
   "outputs": [
    {
     "data": {
      "text/html": [
       "<table class=\"dataframe\">\n",
       "<caption>A data.table: 6 × 13</caption>\n",
       "<thead>\n",
       "\t<tr><th scope=col>SNP</th><th scope=col>REF(0)</th><th scope=col>ALT(1)</th><th scope=col>ALT_Frq</th><th scope=col>MAF</th><th scope=col>AvgCall</th><th scope=col>Rsq</th><th scope=col>Genotyped</th><th scope=col>LooRsq</th><th scope=col>EmpR</th><th scope=col>EmpRsq</th><th scope=col>Dose0</th><th scope=col>Dose1</th></tr>\n",
       "\t<tr><th scope=col>&lt;chr&gt;</th><th scope=col>&lt;chr&gt;</th><th scope=col>&lt;chr&gt;</th><th scope=col>&lt;dbl&gt;</th><th scope=col>&lt;dbl&gt;</th><th scope=col>&lt;dbl&gt;</th><th scope=col>&lt;dbl&gt;</th><th scope=col>&lt;chr&gt;</th><th scope=col>&lt;chr&gt;</th><th scope=col>&lt;chr&gt;</th><th scope=col>&lt;chr&gt;</th><th scope=col>&lt;chr&gt;</th><th scope=col>&lt;chr&gt;</th></tr>\n",
       "</thead>\n",
       "<tbody>\n",
       "\t<tr><td>chr1:11171:CCTTG:C </td><td>CCTTG</td><td>C</td><td>0.04254</td><td>0.04254</td><td>0.97435</td><td>0.42699</td><td>Imputed</td><td>-</td><td>-</td><td>-</td><td>-</td><td>-</td></tr>\n",
       "\t<tr><td>chr1:73632:CA:C    </td><td>CA   </td><td>C</td><td>0.02869</td><td>0.02869</td><td>0.99734</td><td>0.91233</td><td>Imputed</td><td>-</td><td>-</td><td>-</td><td>-</td><td>-</td></tr>\n",
       "\t<tr><td>chr1:80346:C:G     </td><td>C    </td><td>G</td><td>0.11353</td><td>0.11353</td><td>0.93680</td><td>0.49070</td><td>Imputed</td><td>-</td><td>-</td><td>-</td><td>-</td><td>-</td></tr>\n",
       "\t<tr><td>chr1:98667:T:C     </td><td>T    </td><td>C</td><td>0.12921</td><td>0.12921</td><td>0.93492</td><td>0.51098</td><td>Imputed</td><td>-</td><td>-</td><td>-</td><td>-</td><td>-</td></tr>\n",
       "\t<tr><td>chr1:457841:A:C    </td><td>A    </td><td>C</td><td>0.05604</td><td>0.05604</td><td>0.97008</td><td>0.51532</td><td>Imputed</td><td>-</td><td>-</td><td>-</td><td>-</td><td>-</td></tr>\n",
       "\t<tr><td>chr1:607218:GAAGT:G</td><td>GAAGT</td><td>G</td><td>0.01337</td><td>0.01337</td><td>0.98663</td><td>0.41946</td><td>Imputed</td><td>-</td><td>-</td><td>-</td><td>-</td><td>-</td></tr>\n",
       "</tbody>\n",
       "</table>\n"
      ],
      "text/latex": [
       "A data.table: 6 × 13\n",
       "\\begin{tabular}{lllllllllllll}\n",
       " SNP & REF(0) & ALT(1) & ALT\\_Frq & MAF & AvgCall & Rsq & Genotyped & LooRsq & EmpR & EmpRsq & Dose0 & Dose1\\\\\n",
       " <chr> & <chr> & <chr> & <dbl> & <dbl> & <dbl> & <dbl> & <chr> & <chr> & <chr> & <chr> & <chr> & <chr>\\\\\n",
       "\\hline\n",
       "\t chr1:11171:CCTTG:C  & CCTTG & C & 0.04254 & 0.04254 & 0.97435 & 0.42699 & Imputed & - & - & - & - & -\\\\\n",
       "\t chr1:73632:CA:C     & CA    & C & 0.02869 & 0.02869 & 0.99734 & 0.91233 & Imputed & - & - & - & - & -\\\\\n",
       "\t chr1:80346:C:G      & C     & G & 0.11353 & 0.11353 & 0.93680 & 0.49070 & Imputed & - & - & - & - & -\\\\\n",
       "\t chr1:98667:T:C      & T     & C & 0.12921 & 0.12921 & 0.93492 & 0.51098 & Imputed & - & - & - & - & -\\\\\n",
       "\t chr1:457841:A:C     & A     & C & 0.05604 & 0.05604 & 0.97008 & 0.51532 & Imputed & - & - & - & - & -\\\\\n",
       "\t chr1:607218:GAAGT:G & GAAGT & G & 0.01337 & 0.01337 & 0.98663 & 0.41946 & Imputed & - & - & - & - & -\\\\\n",
       "\\end{tabular}\n"
      ],
      "text/markdown": [
       "\n",
       "A data.table: 6 × 13\n",
       "\n",
       "| SNP &lt;chr&gt; | REF(0) &lt;chr&gt; | ALT(1) &lt;chr&gt; | ALT_Frq &lt;dbl&gt; | MAF &lt;dbl&gt; | AvgCall &lt;dbl&gt; | Rsq &lt;dbl&gt; | Genotyped &lt;chr&gt; | LooRsq &lt;chr&gt; | EmpR &lt;chr&gt; | EmpRsq &lt;chr&gt; | Dose0 &lt;chr&gt; | Dose1 &lt;chr&gt; |\n",
       "|---|---|---|---|---|---|---|---|---|---|---|---|---|\n",
       "| chr1:11171:CCTTG:C  | CCTTG | C | 0.04254 | 0.04254 | 0.97435 | 0.42699 | Imputed | - | - | - | - | - |\n",
       "| chr1:73632:CA:C     | CA    | C | 0.02869 | 0.02869 | 0.99734 | 0.91233 | Imputed | - | - | - | - | - |\n",
       "| chr1:80346:C:G      | C     | G | 0.11353 | 0.11353 | 0.93680 | 0.49070 | Imputed | - | - | - | - | - |\n",
       "| chr1:98667:T:C      | T     | C | 0.12921 | 0.12921 | 0.93492 | 0.51098 | Imputed | - | - | - | - | - |\n",
       "| chr1:457841:A:C     | A     | C | 0.05604 | 0.05604 | 0.97008 | 0.51532 | Imputed | - | - | - | - | - |\n",
       "| chr1:607218:GAAGT:G | GAAGT | G | 0.01337 | 0.01337 | 0.98663 | 0.41946 | Imputed | - | - | - | - | - |\n",
       "\n"
      ],
      "text/plain": [
       "  SNP                 REF(0) ALT(1) ALT_Frq MAF     AvgCall Rsq     Genotyped\n",
       "1 chr1:11171:CCTTG:C  CCTTG  C      0.04254 0.04254 0.97435 0.42699 Imputed  \n",
       "2 chr1:73632:CA:C     CA     C      0.02869 0.02869 0.99734 0.91233 Imputed  \n",
       "3 chr1:80346:C:G      C      G      0.11353 0.11353 0.93680 0.49070 Imputed  \n",
       "4 chr1:98667:T:C      T      C      0.12921 0.12921 0.93492 0.51098 Imputed  \n",
       "5 chr1:457841:A:C     A      C      0.05604 0.05604 0.97008 0.51532 Imputed  \n",
       "6 chr1:607218:GAAGT:G GAAGT  G      0.01337 0.01337 0.98663 0.41946 Imputed  \n",
       "  LooRsq EmpR EmpRsq Dose0 Dose1\n",
       "1 -      -    -      -     -    \n",
       "2 -      -    -      -     -    \n",
       "3 -      -    -      -     -    \n",
       "4 -      -    -      -     -    \n",
       "5 -      -    -      -     -    \n",
       "6 -      -    -      -     -    "
      ]
     },
     "metadata": {},
     "output_type": "display_data"
    }
   ],
   "source": [
    "head(jo)"
   ]
  },
  {
   "cell_type": "code",
   "execution_count": 74,
   "id": "beneficial-salon",
   "metadata": {},
   "outputs": [
    {
     "data": {
      "text/html": [
       "196063"
      ],
      "text/latex": [
       "196063"
      ],
      "text/markdown": [
       "196063"
      ],
      "text/plain": [
       "[1] 196063"
      ]
     },
     "metadata": {},
     "output_type": "display_data"
    }
   ],
   "source": [
    "sum(jo$Rsq <=0.7)"
   ]
  },
  {
   "cell_type": "code",
   "execution_count": 76,
   "id": "yellow-messaging",
   "metadata": {},
   "outputs": [
    {
     "data": {
      "text/html": [
       "6421"
      ],
      "text/latex": [
       "6421"
      ],
      "text/markdown": [
       "6421"
      ],
      "text/plain": [
       "[1] 6421"
      ]
     },
     "metadata": {},
     "output_type": "display_data"
    }
   ],
   "source": [
    "sum(jo$MAF <=0.01)"
   ]
  },
  {
   "cell_type": "code",
   "execution_count": 83,
   "id": "thirty-illinois",
   "metadata": {},
   "outputs": [
    {
     "data": {
      "image/png": "[encoded data removed]",
      "text/plain": [
       "plot without title"
      ]
     },
     "metadata": {
      "image/png": {
       "height": 420,
       "width": 420
      }
     },
     "output_type": "display_data"
    }
   ],
   "source": [
    "par(mar=c(6,4,4,4))\n",
    "boxplot(pcs[,3:12], names = var_expl[1:10], las=2)"
   ]
  },
  {
   "cell_type": "code",
   "execution_count": null,
   "id": "greenhouse-maldives",
   "metadata": {},
   "outputs": [],
   "source": []
  }
 ],
 "metadata": {
  "kernelspec": {
   "display_name": "R 4.1",
   "language": "R",
   "name": "ir41"
  },
  "language_info": {
   "codemirror_mode": "r",
   "file_extension": ".r",
   "mimetype": "text/x-r-source",
   "name": "R",
   "pygments_lexer": "r",
   "version": "4.1.1"
  }
 },
 "nbformat": 4,
 "nbformat_minor": 5
}
