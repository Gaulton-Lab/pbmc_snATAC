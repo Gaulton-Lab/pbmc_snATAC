{
 "cells": [
  {
   "cell_type": "code",
   "execution_count": 1,
   "metadata": {},
   "outputs": [],
   "source": [
    "library(stringr)\n",
    "library(RColorBrewer)\n",
    "library(parallel)"
   ]
  },
  {
   "cell_type": "code",
   "execution_count": 2,
   "metadata": {},
   "outputs": [],
   "source": [
    "setwd(\"/nfs/lab/projects/pbmc_snATAC/analysis_v2\")"
   ]
  },
  {
   "cell_type": "code",
   "execution_count": 3,
   "metadata": {},
   "outputs": [],
   "source": [
    "barcode_list = read.table('peaks/pbmc1-15_clusterLabels.txt',   sep=\"\\t\",header=T)"
   ]
  },
  {
   "cell_type": "code",
   "execution_count": 4,
   "metadata": {},
   "outputs": [],
   "source": [
    "bc = str_split_fixed(barcode_list$X, \"\\\\_\",2)\n",
    "\n",
    "barcode_list$barcode = paste0(\"CB:Z:\", bc[,2], \"-1\")\n",
    "barcode_list = barcode_list[order(as.numeric(substring(barcode_list$sample,5))),]"
   ]
  },
  {
   "cell_type": "code",
   "execution_count": 6,
   "metadata": {},
   "outputs": [],
   "source": [
    "barcode_list$broad_populations_2 = gsub(\"cd8_\",\"\" ,barcode_list$broad_populations)\n",
    "barcode_list$broad_populations_2 = gsub(\"cd4_\",\"\" ,barcode_list$broad_populations_2)\n"
   ]
  },
  {
   "cell_type": "code",
   "execution_count": 10,
   "metadata": {},
   "outputs": [
    {
     "data": {
      "text/plain": [
       "             \n",
       "                  b   mkc  mono    nk   pDC plasma     t\n",
       "  act_cd4_t       0     0     0     0     0      0 15494\n",
       "  adaptive_NK     0     0     0   883     0      0     0\n",
       "  cDC             0     0   954     0     0      0     0\n",
       "  cMono           0     0 22208     0     0      0     0\n",
       "  cyto_cd8_t      0     0     0     0     0      0  8892\n",
       "  cyto_nk         0     0     0  8584     0      0     0\n",
       "  iMono           0     0  3330     0     0      0     0\n",
       "  mem_b        2158     0     0     0     0      0     0\n",
       "  mem_cd8_t       0     0     0     0     0      0  2494\n",
       "  mkc             0  1120     0     0     0      0     0\n",
       "  naive_b      5166     0     0     0     0      0     0\n",
       "  naive_cd4_t     0     0     0     0     0      0 11995\n",
       "  naive_cd8_t     0     0     0     0     0      0  5589\n",
       "  ncMono          0     0  4484     0     0      0     0\n",
       "  pDC             0     0     0     0   380      0     0\n",
       "  plasma          0     0     0     0     0    167     0\n",
       "  tReg            0     0     0     0     0      0  2104"
      ]
     },
     "metadata": {},
     "output_type": "display_data"
    }
   ],
   "source": [
    "table(barcode_list$fine_populations, barcode_list$broad_populations_2)"
   ]
  },
  {
   "cell_type": "code",
   "execution_count": 7,
   "metadata": {},
   "outputs": [
    {
     "data": {
      "text/plain": [
       "        \n",
       "             b cd4_t cd8_t   mkc  mono    nk   pDC plasma\n",
       "  b       7324     0     0     0     0     0     0      0\n",
       "  mkc        0     0     0  1120     0     0     0      0\n",
       "  mono       0     0     0     0 30976     0     0      0\n",
       "  nk         0     0     0     0     0  9467     0      0\n",
       "  pDC        0     0     0     0     0     0   380      0\n",
       "  plasma     0     0     0     0     0     0     0    167\n",
       "  t          0 29593 16975     0     0     0     0      0"
      ]
     },
     "metadata": {},
     "output_type": "display_data"
    }
   ],
   "source": [
    "table(barcode_list$broad_populations_2, barcode_list$broad_populations)"
   ]
  },
  {
   "cell_type": "code",
   "execution_count": 10,
   "metadata": {},
   "outputs": [],
   "source": [
    "write.table(barcode_list,'peaks/pbmc1-15_clusterLabels.txt',   sep=\"\\t\", quote=F)"
   ]
  },
  {
   "cell_type": "markdown",
   "metadata": {},
   "source": [
    "### Fine Populations"
   ]
  },
  {
   "cell_type": "code",
   "execution_count": 6,
   "metadata": {},
   "outputs": [],
   "source": [
    "tb = table(barcode_list$fine_populations, as.numeric(substring(barcode_list$sample,5)))"
   ]
  },
  {
   "cell_type": "code",
   "execution_count": 7,
   "metadata": {},
   "outputs": [
    {
     "data": {
      "text/html": [
       "<style>\n",
       ".dl-inline {width: auto; margin:0; padding: 0}\n",
       ".dl-inline>dt, .dl-inline>dd {float: none; width: auto; display: inline-block}\n",
       ".dl-inline>dt::after {content: \":\\0020\"; padding-right: .5ex}\n",
       ".dl-inline>dt:not(:first-of-type) {padding-left: .5ex}\n",
       "</style><dl class=dl-inline><dt>act_cd4_t</dt><dd>1096</dd><dt>adaptive_NK</dt><dd>54</dd><dt>cDC</dt><dd>59</dd><dt>cMono</dt><dd>1603</dd><dt>cyto_cd8_t</dt><dd>499</dd><dt>cyto_nk</dt><dd>522</dd><dt>iMono</dt><dd>80</dd><dt>mem_b</dt><dd>162</dd><dt>mem_cd8_t</dt><dd>151</dd><dt>mkc</dt><dd>62</dd><dt>naive_b</dt><dd>347</dd><dt>naive_cd4_t</dt><dd>623</dd><dt>naive_cd8_t</dt><dd>296</dd><dt>ncMono</dt><dd>286</dd><dt>pDC</dt><dd>28</dd><dt>plasma</dt><dd>10</dd><dt>tReg</dt><dd>146</dd></dl>\n"
      ],
      "text/latex": [
       "\\begin{description*}\n",
       "\\item[act\\textbackslash{}\\_cd4\\textbackslash{}\\_t] 1096\n",
       "\\item[adaptive\\textbackslash{}\\_NK] 54\n",
       "\\item[cDC] 59\n",
       "\\item[cMono] 1603\n",
       "\\item[cyto\\textbackslash{}\\_cd8\\textbackslash{}\\_t] 499\n",
       "\\item[cyto\\textbackslash{}\\_nk] 522\n",
       "\\item[iMono] 80\n",
       "\\item[mem\\textbackslash{}\\_b] 162\n",
       "\\item[mem\\textbackslash{}\\_cd8\\textbackslash{}\\_t] 151\n",
       "\\item[mkc] 62\n",
       "\\item[naive\\textbackslash{}\\_b] 347\n",
       "\\item[naive\\textbackslash{}\\_cd4\\textbackslash{}\\_t] 623\n",
       "\\item[naive\\textbackslash{}\\_cd8\\textbackslash{}\\_t] 296\n",
       "\\item[ncMono] 286\n",
       "\\item[pDC] 28\n",
       "\\item[plasma] 10\n",
       "\\item[tReg] 146\n",
       "\\end{description*}\n"
      ],
      "text/markdown": [
       "act_cd4_t\n",
       ":   1096adaptive_NK\n",
       ":   54cDC\n",
       ":   59cMono\n",
       ":   1603cyto_cd8_t\n",
       ":   499cyto_nk\n",
       ":   522iMono\n",
       ":   80mem_b\n",
       ":   162mem_cd8_t\n",
       ":   151mkc\n",
       ":   62naive_b\n",
       ":   347naive_cd4_t\n",
       ":   623naive_cd8_t\n",
       ":   296ncMono\n",
       ":   286pDC\n",
       ":   28plasma\n",
       ":   10tReg\n",
       ":   146\n",
       "\n"
      ],
      "text/plain": [
       "  act_cd4_t adaptive_NK         cDC       cMono  cyto_cd8_t     cyto_nk \n",
       "       1096          54          59        1603         499         522 \n",
       "      iMono       mem_b   mem_cd8_t         mkc     naive_b naive_cd4_t \n",
       "         80         162         151          62         347         623 \n",
       "naive_cd8_t      ncMono         pDC      plasma        tReg \n",
       "        296         286          28          10         146 "
      ]
     },
     "metadata": {},
     "output_type": "display_data"
    }
   ],
   "source": [
    "apply(tb,1,median)"
   ]
  },
  {
   "cell_type": "code",
   "execution_count": 8,
   "metadata": {},
   "outputs": [
    {
     "data": {
      "text/html": [
       "<style>\n",
       ".list-inline {list-style: none; margin:0; padding: 0}\n",
       ".list-inline>li {display: inline-block}\n",
       ".list-inline>li:not(:last-child)::after {content: \"\\00b7\"; padding: 0 .5ex}\n",
       "</style>\n",
       "<ol class=list-inline><li>'act_cd4_t'</li><li>'adaptive_NK'</li><li>'cDC'</li><li>'cMono'</li><li>'cyto_cd8_t'</li><li>'cyto_nk'</li><li>'iMono'</li><li>'mem_b'</li><li>'mem_cd8_t'</li><li>'mkc'</li><li>'naive_b'</li><li>'naive_cd4_t'</li><li>'naive_cd8_t'</li><li>'ncMono'</li><li>'tReg'</li></ol>\n"
      ],
      "text/latex": [
       "\\begin{enumerate*}\n",
       "\\item 'act\\_cd4\\_t'\n",
       "\\item 'adaptive\\_NK'\n",
       "\\item 'cDC'\n",
       "\\item 'cMono'\n",
       "\\item 'cyto\\_cd8\\_t'\n",
       "\\item 'cyto\\_nk'\n",
       "\\item 'iMono'\n",
       "\\item 'mem\\_b'\n",
       "\\item 'mem\\_cd8\\_t'\n",
       "\\item 'mkc'\n",
       "\\item 'naive\\_b'\n",
       "\\item 'naive\\_cd4\\_t'\n",
       "\\item 'naive\\_cd8\\_t'\n",
       "\\item 'ncMono'\n",
       "\\item 'tReg'\n",
       "\\end{enumerate*}\n"
      ],
      "text/markdown": [
       "1. 'act_cd4_t'\n",
       "2. 'adaptive_NK'\n",
       "3. 'cDC'\n",
       "4. 'cMono'\n",
       "5. 'cyto_cd8_t'\n",
       "6. 'cyto_nk'\n",
       "7. 'iMono'\n",
       "8. 'mem_b'\n",
       "9. 'mem_cd8_t'\n",
       "10. 'mkc'\n",
       "11. 'naive_b'\n",
       "12. 'naive_cd4_t'\n",
       "13. 'naive_cd8_t'\n",
       "14. 'ncMono'\n",
       "15. 'tReg'\n",
       "\n",
       "\n"
      ],
      "text/plain": [
       " [1] \"act_cd4_t\"   \"adaptive_NK\" \"cDC\"         \"cMono\"       \"cyto_cd8_t\" \n",
       " [6] \"cyto_nk\"     \"iMono\"       \"mem_b\"       \"mem_cd8_t\"   \"mkc\"        \n",
       "[11] \"naive_b\"     \"naive_cd4_t\" \"naive_cd8_t\" \"ncMono\"      \"tReg\"       "
      ]
     },
     "metadata": {},
     "output_type": "display_data"
    }
   ],
   "source": [
    "rownames(tb)[apply(tb,1,median)>50]"
   ]
  },
  {
   "cell_type": "code",
   "execution_count": 9,
   "metadata": {},
   "outputs": [
    {
     "data": {
      "image/png": "[encoded data removed]",
      "text/plain": [
       "plot without title"
      ]
     },
     "metadata": {
      "image/png": {
       "height": 420,
       "width": 420
      }
     },
     "output_type": "display_data"
    }
   ],
   "source": [
    "boxplot( Freq~Var1,as.data.frame((tb)), las=2)"
   ]
  },
  {
   "cell_type": "code",
   "execution_count": 10,
   "metadata": {},
   "outputs": [
    {
     "data": {
      "text/html": [
       "17"
      ],
      "text/latex": [
       "17"
      ],
      "text/markdown": [
       "17"
      ],
      "text/plain": [
       "[1] 17"
      ]
     },
     "metadata": {},
     "output_type": "display_data"
    },
    {
     "data": {
      "text/html": [
       "8"
      ],
      "text/latex": [
       "8"
      ],
      "text/markdown": [
       "8"
      ],
      "text/plain": [
       "[1] 8"
      ]
     },
     "metadata": {},
     "output_type": "display_data"
    }
   ],
   "source": [
    "length(unique(barcode_list$fine_populations))\n",
    "length(unique(barcode_list$broad_populations))"
   ]
  },
  {
   "cell_type": "code",
   "execution_count": 11,
   "metadata": {},
   "outputs": [],
   "source": [
    "make_cluster_bam = function(s, celltypes, sampdir, outdir) {\n",
    "    \n",
    "     sample      = paste0(\"pbmc\",s)\n",
    "     samp_outdir = paste0( outdir,  '/PBMC', s, '/fine')\n",
    "     system(paste('mkdir -p', samp_outdir))\n",
    "     setwd(samp_outdir)\n",
    "     bam         = paste0(sampdir, \"/PBMC\", s, '/final/PBMC', s, '.merged.rmdup.final.bam' )\n",
    "     system(paste(\"samtools view -H\", bam ,\"> SAM_header\"))\n",
    "   \n",
    "    for (cell in celltypes) {\n",
    "        \n",
    "        barcodes = barcode_list$barcode[barcode_list$sample==sample & barcode_list$fine_populations==cell]\n",
    "        writeLines(barcodes, cell)\n",
    "        system(paste('samtools view', bam , '| LC_ALL=C grep -F -f', cell , '> filtered_SAM_body'))\n",
    "        system(\"cat SAM_header filtered_SAM_body > filtered.sam\")\n",
    "        system(paste0(\"samtools view -b filtered.sam > \", sample, \"_\",cell, \".bam\"))\n",
    "        system('rm filtered.sam filtered_SAM_body')\n",
    "        system(paste0(\"samtools index \", sample, \"_\",cell, \".bam\"))\n",
    "}\n",
    "\n",
    "     \n",
    "}"
   ]
  },
  {
   "cell_type": "code",
   "execution_count": null,
   "metadata": {},
   "outputs": [],
   "source": [
    "ids = c(1:6, 8:10, 12:15)\n",
    "sampdir = \"/nfs/lab/projects/pbmc_snATAC/analysis_v2/wasp_peaks/singlecell/\"\n",
    "outdir  = \"/nfs/lab/projects/pbmc_snATAC/analysis_v2/cell_type_bam/\"\n",
    "celltypes = rownames(tb)[apply(tb,1,median)>50]\n",
    "mclapply(ids, function(x) make_cluster_bam(s=x, celltypes=celltypes, sampdir=sampdir ,outdir=outdir) , mc.cores = 32)  "
   ]
  },
  {
   "cell_type": "markdown",
   "metadata": {},
   "source": [
    "### Broad populations"
   ]
  },
  {
   "cell_type": "code",
   "execution_count": 8,
   "metadata": {},
   "outputs": [],
   "source": [
    "tb = table(barcode_list$broad_populations_2, as.numeric(substring(barcode_list$sample,5)))"
   ]
  },
  {
   "cell_type": "code",
   "execution_count": 9,
   "metadata": {},
   "outputs": [
    {
     "data": {
      "image/png": "[encoded data removed]",
      "text/plain": [
       "plot without title"
      ]
     },
     "metadata": {
      "image/png": {
       "height": 420,
       "width": 420
      }
     },
     "output_type": "display_data"
    }
   ],
   "source": [
    "boxplot( Freq~Var1,as.data.frame((tb)), las=2)"
   ]
  },
  {
   "cell_type": "code",
   "execution_count": 10,
   "metadata": {},
   "outputs": [],
   "source": [
    "make_cluster_bam = function(s, celltypes, sampdir, outdir) {\n",
    "    \n",
    "     sample      = paste0(\"pbmc\",s)\n",
    "     samp_outdir = paste0( outdir,  '/PBMC', s, '/broad')\n",
    "     system(paste('mkdir -p', samp_outdir))\n",
    "     setwd(samp_outdir)\n",
    "     bam         = paste0(sampdir, \"/PBMC\", s, '/final/PBMC', s, '.merged.rmdup.final.bam' )\n",
    "     system(paste(\"samtools view -H\", bam ,\"> SAM_header\"))\n",
    "   \n",
    "    for (cell in celltypes) {\n",
    "        \n",
    "        #barcodes = barcode_list$barcode[barcode_list$sample==sample & barcode_list$broad_populations==cell]\n",
    "        barcodes = barcode_list$barcode[barcode_list$sample==sample & barcode_list$broad_populations_2==cell]\n",
    "        writeLines(barcodes, cell)\n",
    "        system(paste('samtools view', bam , '| LC_ALL=C grep -F -f', cell , '> filtered_SAM_body'))\n",
    "        system(\"cat SAM_header filtered_SAM_body > filtered.sam\")\n",
    "        system(paste0(\"samtools view -b filtered.sam > \", sample, \"_\",cell, \".bam\"))\n",
    "        system('rm filtered.sam filtered_SAM_body')\n",
    "        system(paste0(\"samtools index \", sample, \"_\",cell, \".bam\"))\n",
    "}\n",
    "\n",
    "     \n",
    "}"
   ]
  },
  {
   "cell_type": "code",
   "execution_count": null,
   "metadata": {},
   "outputs": [],
   "source": [
    "ids = c(1:6, 8:10, 12:15)\n",
    "sampdir = \"/nfs/lab/projects/pbmc_snATAC/analysis_v2/wasp_peaks/singlecell/\"\n",
    "outdir  = \"/nfs/lab/projects/pbmc_snATAC/analysis_v2/cell_type_bam/\"\n",
    "celltypes = rownames(tb)[apply(tb,1,median)>100]\n",
    "mclapply(ids, function(x) make_cluster_bam(s=x, celltypes=celltypes, sampdir=sampdir ,outdir=outdir) , mc.cores = 32)  "
   ]
  },
  {
   "cell_type": "code",
   "execution_count": null,
   "metadata": {},
   "outputs": [],
   "source": [
    "ids = c(1:6, 8:10, 12:15)\n",
    "sampdir = \"/nfs/lab/projects/pbmc_snATAC/analysis_v2/wasp_peaks/singlecell/\"\n",
    "outdir  = \"/nfs/lab/projects/pbmc_snATAC/analysis_v2/cell_type_bam/\"\n",
    "celltypes = \"t\"\n",
    "mclapply(ids, function(x) make_cluster_bam(s=x, celltypes=celltypes, sampdir=sampdir ,outdir=outdir) , mc.cores = 32)  "
   ]
  }
 ],
 "metadata": {
  "kernelspec": {
   "display_name": "R 4.1",
   "language": "R",
   "name": "ir41"
  },
  "language_info": {
   "codemirror_mode": "r",
   "file_extension": ".r",
   "mimetype": "text/x-r-source",
   "name": "R",
   "pygments_lexer": "r",
   "version": "4.1.1"
  }
 },
 "nbformat": 4,
 "nbformat_minor": 2
}
