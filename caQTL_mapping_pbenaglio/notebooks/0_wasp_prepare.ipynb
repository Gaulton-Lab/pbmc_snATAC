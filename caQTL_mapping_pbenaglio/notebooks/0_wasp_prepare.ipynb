{
 "cells": [
  {
   "cell_type": "code",
   "execution_count": 1,
   "id": "positive-stream",
   "metadata": {},
   "outputs": [],
   "source": [
    "library(stringr)"
   ]
  },
  {
   "cell_type": "code",
   "execution_count": 2,
   "id": "physical-devon",
   "metadata": {},
   "outputs": [],
   "source": [
    "setwd('/nfs/lab/projects/pbmc_snATAC/analysis_v2/wasp')"
   ]
  },
  {
   "cell_type": "code",
   "execution_count": 3,
   "id": "august-economics",
   "metadata": {},
   "outputs": [],
   "source": [
    "bcs = read.table(\"pbmc1-15.clustering.FinalGood.Barcodes.txt\", header=T)"
   ]
  },
  {
   "cell_type": "code",
   "execution_count": 6,
   "id": "exclusive-volume",
   "metadata": {},
   "outputs": [],
   "source": [
    "bcs$index = toupper(bcs$sample)"
   ]
  },
  {
   "cell_type": "code",
   "execution_count": 7,
   "id": "secret-meter",
   "metadata": {},
   "outputs": [],
   "source": [
    "bcs$donor = str_split_fixed(bcs$index, \"_\", 2)[,1]"
   ]
  },
  {
   "cell_type": "code",
   "execution_count": 29,
   "id": "included-directive",
   "metadata": {},
   "outputs": [
    {
     "data": {
      "text/plain": [
       "\n",
       " PBMC1 PBMC10 PBMC12 PBMC13 PBMC14 PBMC15  PBMC2  PBMC3  PBMC4  PBMC5  PBMC6 \n",
       "  9111   6475   8113  12838   8392   8366   6894   6249   4597   4065   5119 \n",
       " PBMC8  PBMC9 \n",
       "  8562   7221 "
      ]
     },
     "metadata": {},
     "output_type": "display_data"
    }
   ],
   "source": [
    "table(bcs$donor)"
   ]
  },
  {
   "cell_type": "code",
   "execution_count": 12,
   "id": "simplified-notebook",
   "metadata": {},
   "outputs": [],
   "source": [
    "write.table(bcs[,2:3], \"PBMC.barcode.list.txt\", sep=\"\\t\", quote=F, row.names=F)"
   ]
  },
  {
   "cell_type": "code",
   "execution_count": 61,
   "id": "remarkable-poultry",
   "metadata": {},
   "outputs": [
    {
     "data": {
      "text/html": [
       "8366"
      ],
      "text/latex": [
       "8366"
      ],
      "text/markdown": [
       "8366"
      ],
      "text/plain": [
       "[1] 8366"
      ]
     },
     "metadata": {},
     "output_type": "display_data"
    },
    {
     "data": {
      "text/html": [
       "8210"
      ],
      "text/latex": [
       "8210"
      ],
      "text/markdown": [
       "8210"
      ],
      "text/plain": [
       "[1] 8210"
      ]
     },
     "metadata": {},
     "output_type": "display_data"
    }
   ],
   "source": [
    "x=15\n",
    "system(paste0(\"ls -lh PBMC\",x, \"/remap > pbmc\",x,\".txt\"))\n",
    "pb1 = read.table(paste0(\"pbmc\",x,\".txt\"), skip=1)\n",
    "pb1$bc = str_split_fixed(pb1$V9, \"\\\\.\",2)[,1]\n",
    "bc1 = bcs$index[bcs$donor==paste0(\"PBMC\",x)]\n",
    "\n",
    "sum(!duplicated(bc1))\n",
    "\n",
    "sum(!duplicated(pb1$bc))"
   ]
  },
  {
   "cell_type": "code",
   "execution_count": 55,
   "id": "driven-grocery",
   "metadata": {},
   "outputs": [
    {
     "data": {
      "text/html": [
       "<table class=\"dataframe\">\n",
       "<caption>A data.frame: 6 × 10</caption>\n",
       "<thead>\n",
       "\t<tr><th></th><th scope=col>V1</th><th scope=col>V2</th><th scope=col>V3</th><th scope=col>V4</th><th scope=col>V5</th><th scope=col>V6</th><th scope=col>V7</th><th scope=col>V8</th><th scope=col>V9</th><th scope=col>bc</th></tr>\n",
       "\t<tr><th></th><th scope=col>&lt;fct&gt;</th><th scope=col>&lt;int&gt;</th><th scope=col>&lt;fct&gt;</th><th scope=col>&lt;fct&gt;</th><th scope=col>&lt;fct&gt;</th><th scope=col>&lt;fct&gt;</th><th scope=col>&lt;int&gt;</th><th scope=col>&lt;fct&gt;</th><th scope=col>&lt;fct&gt;</th><th scope=col>&lt;chr&gt;</th></tr>\n",
       "</thead>\n",
       "<tbody>\n",
       "\t<tr><th scope=row>1</th><td>-rw-r--r--.</td><td>1</td><td>pbenaglio</td><td>cytok</td><td>3.4M</td><td>Aug</td><td>25</td><td>22:19</td><td>PBMC13_AAACGAAAGAATCAAC.possorted.keep.bam          </td><td>PBMC13_AAACGAAAGAATCAAC</td></tr>\n",
       "\t<tr><th scope=row>2</th><td>-rw-r--r--.</td><td>1</td><td>pbenaglio</td><td>cytok</td><td>18K </td><td>Aug</td><td>25</td><td>22:19</td><td>PBMC13_AAACGAAAGAATCAAC.possorted.remap.fq1.gz      </td><td>PBMC13_AAACGAAAGAATCAAC</td></tr>\n",
       "\t<tr><th scope=row>3</th><td>-rw-r--r--.</td><td>1</td><td>pbenaglio</td><td>cytok</td><td>18K </td><td>Aug</td><td>25</td><td>22:19</td><td>PBMC13_AAACGAAAGAATCAAC.possorted.remap.fq2.gz      </td><td>PBMC13_AAACGAAAGAATCAAC</td></tr>\n",
       "\t<tr><th scope=row>4</th><td>-rw-r--r--.</td><td>1</td><td>pbenaglio</td><td>cytok</td><td>75  </td><td>Aug</td><td>25</td><td>22:19</td><td>PBMC13_AAACGAAAGAATCAAC.possorted.remap.single.fq.gz</td><td>PBMC13_AAACGAAAGAATCAAC</td></tr>\n",
       "\t<tr><th scope=row>5</th><td>-rw-r--r--.</td><td>1</td><td>pbenaglio</td><td>cytok</td><td>260K</td><td>Aug</td><td>25</td><td>22:19</td><td>PBMC13_AAACGAAAGAATCAAC.possorted.to.remap.bam      </td><td>PBMC13_AAACGAAAGAATCAAC</td></tr>\n",
       "\t<tr><th scope=row>6</th><td>-rw-r--r--.</td><td>1</td><td>pbenaglio</td><td>cytok</td><td>18M </td><td>Aug</td><td>25</td><td>22:19</td><td>PBMC13_AAACGAAAGACAACGC.possorted.keep.bam          </td><td>PBMC13_AAACGAAAGACAACGC</td></tr>\n",
       "</tbody>\n",
       "</table>\n"
      ],
      "text/latex": [
       "A data.frame: 6 × 10\n",
       "\\begin{tabular}{r|llllllllll}\n",
       "  & V1 & V2 & V3 & V4 & V5 & V6 & V7 & V8 & V9 & bc\\\\\n",
       "  & <fct> & <int> & <fct> & <fct> & <fct> & <fct> & <int> & <fct> & <fct> & <chr>\\\\\n",
       "\\hline\n",
       "\t1 & -rw-r--r--. & 1 & pbenaglio & cytok & 3.4M & Aug & 25 & 22:19 & PBMC13\\_AAACGAAAGAATCAAC.possorted.keep.bam           & PBMC13\\_AAACGAAAGAATCAAC\\\\\n",
       "\t2 & -rw-r--r--. & 1 & pbenaglio & cytok & 18K  & Aug & 25 & 22:19 & PBMC13\\_AAACGAAAGAATCAAC.possorted.remap.fq1.gz       & PBMC13\\_AAACGAAAGAATCAAC\\\\\n",
       "\t3 & -rw-r--r--. & 1 & pbenaglio & cytok & 18K  & Aug & 25 & 22:19 & PBMC13\\_AAACGAAAGAATCAAC.possorted.remap.fq2.gz       & PBMC13\\_AAACGAAAGAATCAAC\\\\\n",
       "\t4 & -rw-r--r--. & 1 & pbenaglio & cytok & 75   & Aug & 25 & 22:19 & PBMC13\\_AAACGAAAGAATCAAC.possorted.remap.single.fq.gz & PBMC13\\_AAACGAAAGAATCAAC\\\\\n",
       "\t5 & -rw-r--r--. & 1 & pbenaglio & cytok & 260K & Aug & 25 & 22:19 & PBMC13\\_AAACGAAAGAATCAAC.possorted.to.remap.bam       & PBMC13\\_AAACGAAAGAATCAAC\\\\\n",
       "\t6 & -rw-r--r--. & 1 & pbenaglio & cytok & 18M  & Aug & 25 & 22:19 & PBMC13\\_AAACGAAAGACAACGC.possorted.keep.bam           & PBMC13\\_AAACGAAAGACAACGC\\\\\n",
       "\\end{tabular}\n"
      ],
      "text/markdown": [
       "\n",
       "A data.frame: 6 × 10\n",
       "\n",
       "| <!--/--> | V1 &lt;fct&gt; | V2 &lt;int&gt; | V3 &lt;fct&gt; | V4 &lt;fct&gt; | V5 &lt;fct&gt; | V6 &lt;fct&gt; | V7 &lt;int&gt; | V8 &lt;fct&gt; | V9 &lt;fct&gt; | bc &lt;chr&gt; |\n",
       "|---|---|---|---|---|---|---|---|---|---|---|\n",
       "| 1 | -rw-r--r--. | 1 | pbenaglio | cytok | 3.4M | Aug | 25 | 22:19 | PBMC13_AAACGAAAGAATCAAC.possorted.keep.bam           | PBMC13_AAACGAAAGAATCAAC |\n",
       "| 2 | -rw-r--r--. | 1 | pbenaglio | cytok | 18K  | Aug | 25 | 22:19 | PBMC13_AAACGAAAGAATCAAC.possorted.remap.fq1.gz       | PBMC13_AAACGAAAGAATCAAC |\n",
       "| 3 | -rw-r--r--. | 1 | pbenaglio | cytok | 18K  | Aug | 25 | 22:19 | PBMC13_AAACGAAAGAATCAAC.possorted.remap.fq2.gz       | PBMC13_AAACGAAAGAATCAAC |\n",
       "| 4 | -rw-r--r--. | 1 | pbenaglio | cytok | 75   | Aug | 25 | 22:19 | PBMC13_AAACGAAAGAATCAAC.possorted.remap.single.fq.gz | PBMC13_AAACGAAAGAATCAAC |\n",
       "| 5 | -rw-r--r--. | 1 | pbenaglio | cytok | 260K | Aug | 25 | 22:19 | PBMC13_AAACGAAAGAATCAAC.possorted.to.remap.bam       | PBMC13_AAACGAAAGAATCAAC |\n",
       "| 6 | -rw-r--r--. | 1 | pbenaglio | cytok | 18M  | Aug | 25 | 22:19 | PBMC13_AAACGAAAGACAACGC.possorted.keep.bam           | PBMC13_AAACGAAAGACAACGC |\n",
       "\n"
      ],
      "text/plain": [
       "  V1          V2 V3        V4    V5   V6  V7 V8   \n",
       "1 -rw-r--r--. 1  pbenaglio cytok 3.4M Aug 25 22:19\n",
       "2 -rw-r--r--. 1  pbenaglio cytok 18K  Aug 25 22:19\n",
       "3 -rw-r--r--. 1  pbenaglio cytok 18K  Aug 25 22:19\n",
       "4 -rw-r--r--. 1  pbenaglio cytok 75   Aug 25 22:19\n",
       "5 -rw-r--r--. 1  pbenaglio cytok 260K Aug 25 22:19\n",
       "6 -rw-r--r--. 1  pbenaglio cytok 18M  Aug 25 22:19\n",
       "  V9                                                   bc                     \n",
       "1 PBMC13_AAACGAAAGAATCAAC.possorted.keep.bam           PBMC13_AAACGAAAGAATCAAC\n",
       "2 PBMC13_AAACGAAAGAATCAAC.possorted.remap.fq1.gz       PBMC13_AAACGAAAGAATCAAC\n",
       "3 PBMC13_AAACGAAAGAATCAAC.possorted.remap.fq2.gz       PBMC13_AAACGAAAGAATCAAC\n",
       "4 PBMC13_AAACGAAAGAATCAAC.possorted.remap.single.fq.gz PBMC13_AAACGAAAGAATCAAC\n",
       "5 PBMC13_AAACGAAAGAATCAAC.possorted.to.remap.bam       PBMC13_AAACGAAAGAATCAAC\n",
       "6 PBMC13_AAACGAAAGACAACGC.possorted.keep.bam           PBMC13_AAACGAAAGACAACGC"
      ]
     },
     "metadata": {},
     "output_type": "display_data"
    }
   ],
   "source": [
    "head(pb1)"
   ]
  },
  {
   "cell_type": "code",
   "execution_count": 31,
   "id": "connected-immigration",
   "metadata": {},
   "outputs": [],
   "source": [
    "old = read.table('/nfs/lab/projects/pbmc_snATAC/pipeline/snATAC/combined_files/pbmc1to12/barcode_and_cluster_label_files/main_cluster_label_files/pbmc1to12.cluster_labels_v6_afterDoublet9_microGroups.txt', \n",
    "                          sep=\"\\t\",header=T)"
   ]
  },
  {
   "cell_type": "code",
   "execution_count": 33,
   "id": "sought-classic",
   "metadata": {},
   "outputs": [],
   "source": [
    "bar = str_split_fixed(old$index, \"\\\\_\",2)\n",
    "old$sample  = bar[,1]"
   ]
  },
  {
   "cell_type": "code",
   "execution_count": 34,
   "id": "valid-timber",
   "metadata": {},
   "outputs": [
    {
     "data": {
      "text/plain": [
       "\n",
       " pbmc1 pbmc10 pbmc12  pbmc2  pbmc3  pbmc4  pbmc5  pbmc6  pbmc8  pbmc9 \n",
       "  8506   6438   8712   6849   6459   4656   4075   5297   8673   7178 "
      ]
     },
     "metadata": {},
     "output_type": "display_data"
    }
   ],
   "source": [
    "table(old$sample)"
   ]
  },
  {
   "cell_type": "code",
   "execution_count": null,
   "id": "demographic-mainstream",
   "metadata": {},
   "outputs": [],
   "source": []
  }
 ],
 "metadata": {
  "kernelspec": {
   "display_name": "R",
   "language": "R",
   "name": "ir"
  },
  "language_info": {
   "codemirror_mode": "r",
   "file_extension": ".r",
   "mimetype": "text/x-r-source",
   "name": "R",
   "pygments_lexer": "r",
   "version": "3.6.0"
  }
 },
 "nbformat": 4,
 "nbformat_minor": 5
}
