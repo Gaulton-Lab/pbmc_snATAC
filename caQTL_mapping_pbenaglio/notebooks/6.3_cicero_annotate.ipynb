{
 "cells": [
  {
   "cell_type": "code",
   "execution_count": 1,
   "id": "4074da8d",
   "metadata": {},
   "outputs": [],
   "source": [
    "suppressPackageStartupMessages(library(data.table))\n",
    "suppressPackageStartupMessages(library(tidyr))\n",
    "suppressPackageStartupMessages(library(stringr))\n",
    "suppressPackageStartupMessages(library(RColorBrewer))"
   ]
  },
  {
   "cell_type": "code",
   "execution_count": 2,
   "id": "b6cb3cdd",
   "metadata": {},
   "outputs": [],
   "source": [
    "dir = '/nfs/lab/projects/pbmc_snATAC/analysis_v2/run_cicero_paola/'"
   ]
  },
  {
   "cell_type": "code",
   "execution_count": 3,
   "id": "b7a116d9",
   "metadata": {},
   "outputs": [],
   "source": [
    "setwd(dir)"
   ]
  },
  {
   "cell_type": "code",
   "execution_count": 4,
   "id": "81f8f234",
   "metadata": {},
   "outputs": [],
   "source": [
    "# infile   = \"final_conns/coaccessible.matrix\"\n",
    "# outfile  = \"final_conns/coaccessible.bedpe\"\n",
    "# annofile = \"final_conns/annotated.coaccessible.bedpe\"\n",
    "# B   = '/nfs/lab/publicdata/gencode_v19/gencode.v19.2kb_all_possible_transcripts.merged.bed'\n",
    "# sed = paste(\"awk -F \\\"\\\\t\\\" '{print $1,$2}'\", infile, \"| tail -n +2 | sed 's/_/\\\\t/g' | pgltools sort >\" , outfile) \n",
    "# pgl = paste('pgltools intersect1D -a', outfile ,'-b' , B,  '-wa -allA >', annofile)\n",
    "\n",
    "#system(sed)\n",
    "#system(pgl)"
   ]
  },
  {
   "cell_type": "code",
   "execution_count": 5,
   "id": "5dec9ac8",
   "metadata": {},
   "outputs": [],
   "source": [
    "cells = c(  'b', \"mono\", 't',\"nk\")"
   ]
  },
  {
   "cell_type": "code",
   "execution_count": 30,
   "id": "e64fca14",
   "metadata": {},
   "outputs": [],
   "source": [
    "anno       = read.table(annofile)\n",
    "anno$loops = paste(anno[,1],anno[,2],anno[,3],anno[,4],anno[,5],anno[,6], sep=\"_\")\n",
    "anno       = anno[!duplicated(anno),] #remoeve two prom of the same gene\n",
    "ag         = aggregate(V7~loops, anno, function(x) c(\"PP\", \"CP\") [((sum( x=='A')/length(x)) %in% c(0,1)) +1] )\n",
    "coac       = read.table(\"final_conns/coaccessible.matrix4s\", header=T)\n",
    "totc       = colSums(!is.na(coac[,cells]))\n",
    "coac$loops = paste(coac$Peak1, coac$Peak2, sep=\"_\")\n",
    "coac       = merge(coac, ag, by=\"loops\")\n",
    "coac       = merge(coac, anno[,7:9], by=\"loops\")\n",
    "colnames(coac)[8:10] = c(\"type\", \"prom_side\", \"genes\")"
   ]
  },
  {
   "cell_type": "code",
   "execution_count": 148,
   "id": "f6223b7b",
   "metadata": {},
   "outputs": [],
   "source": [
    "write.table(coac, \"final_conns/annotated.coaccessible.matrix4s\", sep=\"\\t\", quote=F, row.names=F)"
   ]
  },
  {
   "cell_type": "code",
   "execution_count": 149,
   "id": "3c181c85",
   "metadata": {},
   "outputs": [],
   "source": [
    "stats =  data.frame()\n",
    "for (ce in cells){\n",
    "    \n",
    "    mycel = coac[!is.na(coac[,ce]), c('loops', \"type\", ce)]\n",
    "    mycel = mycel[!duplicated(mycel),]\n",
    "    stats = rbind(stats, table(mycel$type)) \n",
    "}"
   ]
  },
  {
   "cell_type": "code",
   "execution_count": 150,
   "id": "bb109ce4",
   "metadata": {},
   "outputs": [],
   "source": [
    "colnames(stats) = c(\"CP\", \"PP\")\n",
    "rownames(stats) = cells"
   ]
  },
  {
   "cell_type": "code",
   "execution_count": 151,
   "id": "33394dd6",
   "metadata": {},
   "outputs": [],
   "source": [
    "stats$tot = totc"
   ]
  },
  {
   "cell_type": "code",
   "execution_count": 152,
   "id": "c72763e6",
   "metadata": {},
   "outputs": [
    {
     "data": {
      "text/html": [
       "<table class=\"dataframe\">\n",
       "<caption>A data.frame: 4 × 3</caption>\n",
       "<thead>\n",
       "\t<tr><th></th><th scope=col>CP</th><th scope=col>PP</th><th scope=col>tot</th></tr>\n",
       "\t<tr><th></th><th scope=col>&lt;int&gt;</th><th scope=col>&lt;int&gt;</th><th scope=col>&lt;dbl&gt;</th></tr>\n",
       "</thead>\n",
       "<tbody>\n",
       "\t<tr><th scope=row>b</th><td> 62155</td><td>25121</td><td>158935</td></tr>\n",
       "\t<tr><th scope=row>mono</th><td> 70975</td><td>36990</td><td>254692</td></tr>\n",
       "\t<tr><th scope=row>t</th><td>103296</td><td>30551</td><td>327048</td></tr>\n",
       "\t<tr><th scope=row>nk</th><td> 56467</td><td>31713</td><td>152213</td></tr>\n",
       "</tbody>\n",
       "</table>\n"
      ],
      "text/latex": [
       "A data.frame: 4 × 3\n",
       "\\begin{tabular}{r|lll}\n",
       "  & CP & PP & tot\\\\\n",
       "  & <int> & <int> & <dbl>\\\\\n",
       "\\hline\n",
       "\tb &  62155 & 25121 & 158935\\\\\n",
       "\tmono &  70975 & 36990 & 254692\\\\\n",
       "\tt & 103296 & 30551 & 327048\\\\\n",
       "\tnk &  56467 & 31713 & 152213\\\\\n",
       "\\end{tabular}\n"
      ],
      "text/markdown": [
       "\n",
       "A data.frame: 4 × 3\n",
       "\n",
       "| <!--/--> | CP &lt;int&gt; | PP &lt;int&gt; | tot &lt;dbl&gt; |\n",
       "|---|---|---|---|\n",
       "| b |  62155 | 25121 | 158935 |\n",
       "| mono |  70975 | 36990 | 254692 |\n",
       "| t | 103296 | 30551 | 327048 |\n",
       "| nk |  56467 | 31713 | 152213 |\n",
       "\n"
      ],
      "text/plain": [
       "     CP     PP    tot   \n",
       "b     62155 25121 158935\n",
       "mono  70975 36990 254692\n",
       "t    103296 30551 327048\n",
       "nk    56467 31713 152213"
      ]
     },
     "metadata": {},
     "output_type": "display_data"
    }
   ],
   "source": [
    "stats"
   ]
  },
  {
   "cell_type": "markdown",
   "id": "6f30b006",
   "metadata": {},
   "source": [
    "### filter for cell peaks No"
   ]
  },
  {
   "cell_type": "code",
   "execution_count": 141,
   "id": "c9cbcdfc",
   "metadata": {},
   "outputs": [],
   "source": [
    "#coacall       = read.table(infile, header=T)"
   ]
  },
  {
   "cell_type": "code",
   "execution_count": 142,
   "id": "d94091d1",
   "metadata": {},
   "outputs": [],
   "source": [
    "# statsf =  data.frame()\n",
    "# SUB    = data.frame()\n",
    "# for (ce in cells){\n",
    "# fbed = paste0('/nfs/lab/projects/pbmc_snATAC/analysis_v2/rasqual_eur/broad/', ce, '/' , ce, '.filtered.bed')\n",
    "\n",
    "# fpeaks = read.table(fbed)\n",
    "# fpeaks = paste(fpeaks[,1], fpeaks[,2]-1, fpeaks[,3], sep=\"_\")\n",
    "# mycel = coac[!is.na(coac[,ce]), c('loops', \"type\",'Peak1', 'Peak2', ce)]\n",
    "\n",
    "# mycel =subset(mycel, Peak1 %in% fpeaks & Peak2 %in% fpeaks)\n",
    "# mycel = mycel[!duplicated(mycel),c('loops', \"type\", ce)]\n",
    "\n",
    "# sub     = subset(coacall, Peak1 %in% fpeaks & Peak2 %in% fpeaks )\n",
    "# statsf  = rbind(statsf, c(table(mycel$type), sum(!is.na(sub[,ce]))))\n",
    "    \n",
    "# sub               = sub[, c('Peak1', 'Peak2', ce)]\n",
    "# colnames(sub) [3] = 'coacc'\n",
    "# sub$cell          = ce\n",
    "# sub               = sub[complete.cases(sub),]\n",
    "# SUB               = rbind(SUB, sub)\n",
    "#     }"
   ]
  },
  {
   "cell_type": "code",
   "execution_count": 143,
   "id": "ea9416d2",
   "metadata": {},
   "outputs": [],
   "source": [
    "#colnames(statsf) = colnames(stats)\n",
    "#rownames(statsf) = rownames(stats)"
   ]
  },
  {
   "cell_type": "code",
   "execution_count": 114,
   "id": "d1daaad6",
   "metadata": {},
   "outputs": [],
   "source": [
    "# widef  = spread(SUB, key=cell, value=coacc)\n",
    "# widef  = as.data.frame(widef)\n",
    "# write.table(widef, paste0('final_conns/peak_filtered.coaccessible.matrix'), sep= \"\\t\", quote=F, row.names=F)\n",
    "# coac = merge(widef, coac[,c('Peak1','Peak2','type','prom_side','genes')], by=c('Peak1','Peak2'))\n",
    "# write.table(coac, paste0('final_conns/peak_filtered.annotated.coaccessible.matrix'), sep= \"\\t\", quote=F, row.names=F)\n"
   ]
  },
  {
   "cell_type": "code",
   "execution_count": 164,
   "id": "645923d3",
   "metadata": {},
   "outputs": [
    {
     "data": {
      "text/html": [
       "<strong>png:</strong> 2"
      ],
      "text/latex": [
       "\\textbf{png:} 2"
      ],
      "text/markdown": [
       "**png:** 2"
      ],
      "text/plain": [
       "png \n",
       "  2 "
      ]
     },
     "metadata": {},
     "output_type": "display_data"
    }
   ],
   "source": [
    "pdf(\"../figures/SummaryCoaccessibleSites.pdf\")\n",
    "stat2  = round(stats/1000,1)  ## unfiltered\n",
    "#stat3 = statsf/1000  ## filtered for coverage\n",
    "par(xpd = TRUE, mfcol=c(3,3), las=2, mar = c(4,5,4,4))\n",
    "bp<-barplot(stat2[,3],  ylab =\"# coaccessible sites (x1e3)\",names.arg = cells,ylim=c(0,4e+2))\n",
    "text(bp, stat2[,3],labels=stat2[,3],pos=3)\n",
    "bp<-barplot(stat2[,1],  ylab =\"# coaccessible\\n enhancer-promoters(x1e3)\",names.arg = cells, ylim=c(0,120))\n",
    "text(bp, stat2[,1],labels=stat2[,1],pos=3)\n",
    "bp<-barplot(stat2[,2],  ylab =\"# coaccessible\\n promoter-promoters(x1e3)\",names.arg = cells,ylim=c(0,40))\n",
    "text(bp, stat2[,2],labels=stat2[,2],pos=3)\n",
    "# barplot(stat3[,3],  ylab =\"# coaccessible sites (x1e3)\",names.arg = cells,ylim=c(0,4e+2))\n",
    "# barplot(stat3[,1],  ylab =\"# coaccessible\\n enhancer-promoters(x1e3)\",names.arg = cells, ylim=c(0,1.2e+2))\n",
    "# barplot(stat3[,2],  ylab =\"# coaccessible\\n promoter-promoters(x1e3)\",names.arg = cells, ylim = c(0,40))\n",
    "dev.off()"
   ]
  },
  {
   "cell_type": "markdown",
   "id": "c9abcf79",
   "metadata": {},
   "source": [
    "### Annotate caQTLs"
   ]
  },
  {
   "cell_type": "code",
   "execution_count": 6,
   "id": "1319eb5c",
   "metadata": {},
   "outputs": [],
   "source": [
    "setwd('/nfs/lab/projects/pbmc_snATAC/analysis_v2/')"
   ]
  },
  {
   "cell_type": "code",
   "execution_count": 7,
   "id": "25746de4",
   "metadata": {},
   "outputs": [],
   "source": [
    "allqtls = read.table (\"summarized_caqtls/run3/EUR_caqtl_leads_run3.tsv\", header=T)\n",
    "allqtls = subset(allqtls, flag_fdr10==TRUE & exclude==FALSE)"
   ]
  },
  {
   "cell_type": "code",
   "execution_count": 8,
   "id": "55b6492c",
   "metadata": {},
   "outputs": [],
   "source": [
    "clrs = read.table(\"peaks/color_scheme.tsv\")\n",
    "clrs = rbind(clrs, matrix( c('orange2', 'b','tan4','nk','#7FC97F','mono', 'magenta4', \"t\"), ncol=2, byrow=T))\n",
    "\n",
    "colcol  = data.frame(celltypes = clrs$V2, \n",
    "                     group= c('mono', 'mono', 'mono', \"mono\",\"b\", \"b\", \"nk\", \"nk\",\n",
    "                               't','t','t','t','t','t','mkc','pDC', 'plasma','b','nk','mono','t'))"
   ]
  },
  {
   "cell_type": "code",
   "execution_count": 9,
   "id": "4585e096",
   "metadata": {},
   "outputs": [],
   "source": [
    "allqtls$group = colcol$group[match (allqtls$cell, colcol$celltypes  )]"
   ]
  },
  {
   "cell_type": "code",
   "execution_count": 10,
   "id": "c35803e8",
   "metadata": {},
   "outputs": [],
   "source": [
    "cells = c(  'b', \"mono\", 't',\"nk\")"
   ]
  },
  {
   "cell_type": "code",
   "execution_count": 11,
   "id": "73ecb662",
   "metadata": {},
   "outputs": [],
   "source": [
    "## 1) Annotate all peaks\n",
    "A = '/nfs/lab/publicdata/gencode_v19/gencode.v19.2kb_all_possible_transcripts.bed'\n",
    "B = paste0('peaks/pbmc.sorted.merged.bare.bed')\n",
    "C = paste0('peaks/pbmc.sorted.merged.prom.annot.bed')\n",
    "#system(paste(\"bedtools intersect -a\", A, \"-b\", B, \"-wa -wb >\", C))\n",
    "\n",
    "\n",
    "pran =read.table(C)\n",
    "pran$peak = paste0(pran[,5], \":\",pran[,6], \"-\",pran[,7])\n",
    "prang = aggregate(V4~peak, pran, function(b) paste(unique(b), collapse=\",\"))"
   ]
  },
  {
   "cell_type": "code",
   "execution_count": 12,
   "id": "652dbd88",
   "metadata": {},
   "outputs": [],
   "source": [
    "coac       = read.table(\"run_cicero_paola/final_conns/annotated.coaccessible.matrix4s\", header=T)"
   ]
  },
  {
   "cell_type": "code",
   "execution_count": 13,
   "id": "14082488",
   "metadata": {},
   "outputs": [
    {
     "data": {
      "text/html": [
       "<style>\n",
       ".list-inline {list-style: none; margin:0; padding: 0}\n",
       ".list-inline>li {display: inline-block}\n",
       ".list-inline>li:not(:last-child)::after {content: \"\\00b7\"; padding: 0 .5ex}\n",
       "</style>\n",
       "<ol class=list-inline><li>'b'</li><li>'mono'</li><li>'t'</li><li>'nk'</li></ol>\n"
      ],
      "text/latex": [
       "\\begin{enumerate*}\n",
       "\\item 'b'\n",
       "\\item 'mono'\n",
       "\\item 't'\n",
       "\\item 'nk'\n",
       "\\end{enumerate*}\n"
      ],
      "text/markdown": [
       "1. 'b'\n",
       "2. 'mono'\n",
       "3. 't'\n",
       "4. 'nk'\n",
       "\n",
       "\n"
      ],
      "text/plain": [
       "[1] \"b\"    \"mono\" \"t\"    \"nk\"  "
      ]
     },
     "metadata": {},
     "output_type": "display_data"
    }
   ],
   "source": [
    "cells"
   ]
  },
  {
   "cell_type": "code",
   "execution_count": 14,
   "id": "df27672c",
   "metadata": {},
   "outputs": [],
   "source": [
    "ptomoter_qtls  = data.frame()\n",
    "summary_annot  = data.frame()\n",
    "genes_enhancer =  data.frame()\n",
    "for (c in cells) {\n",
    "\n",
    "## 1) Select caQTL to test\n",
    "results = subset(allqtls, group==c)\n",
    "results$peak = gsub( \":|-\",  \"_\", results$Feature)\n",
    "results = results[!duplicated(results$Feature),]\n",
    "\n",
    "\n",
    "## 2) Pair with the coaccessible peak (only one qtl)\n",
    "cic   = coac[!is.na(coac[,c]), c('Peak1','Peak2', c)]\n",
    "\n",
    "caca = cic[apply(cic[,1:2], 1, function(x)  sum(x %in% results$peak)==2 ),] #### complex coaccessible ca qtls\n",
    "cic = cic[apply(cic[,1:2], 1, function(x)  sum(x %in% results$peak)==1 ),]\n",
    "cic$Feature  = unlist(apply(cic[,1:2],  1, function(x)  x [x %in% results$peak]))\n",
    "cic$coacPeak = unlist(apply(cic[,1:2], 1, function(x)  x [!(x %in% results$peak)]))\n",
    "cic = cic[!duplicated(cic),]                         \n",
    "\n",
    "fe = str_split_fixed(cic$Feature,\"_\",3)\n",
    "co = str_split_fixed(cic$coacPeak,\"_\",3)\n",
    "tab = data.frame(Feature = paste0(fe[,1],\":\" ,fe[,2],\"-\",fe[,3]), \n",
    "                 coacPeak = paste0(co[,1],\":\" ,co[,2],\"-\",co[,3]), coaccess = cic[,c], \n",
    "                 dist =abs(as.numeric(fe[,3]) - as.numeric(co[,3])) )\n",
    "\n",
    "\n",
    "tab$feature_gene = prang$V4[match(tab$Feature, prang$peak)]\n",
    "tab$coac_gene = prang$V4[match(tab$coacPeak, prang$peak)]\n",
    "tab$type =c( \"EP\",\"P\", \"PP\")  [rowSums(!is.na(tab[,c('feature_gene','coac_gene')])) + !(is.na(tab$feature_gene))]\n",
    "\n",
    "\n",
    "\n",
    "##remove connsections to the same gene\n",
    "tab = tab[!duplicated(tab[c(\"Feature\", 'feature_gene','coac_gene','type')]),]\n",
    "\n",
    "ag2        = aggregate(coac_gene~Feature, tab[tab$type==\"EP\",], function (x) paste(unique(x), collapse = \",\"))\n",
    "ag2$gene_n = sapply( ag2$coac_gene, function(x) str_count(x, ',')+1)\n",
    "ag2$gene_n[ag2$gene_n>5]<-\"6+\"\n",
    "tb2 = table(ag2$gene_n)\n",
    "\n",
    "## add promoter only\n",
    "remains = subset(results, !(Feature %in% tab$Feature))\n",
    "remains$feature_gene = prang$V4[match(remains$Feature, prang$peak)]\n",
    "remains$type = \"P\"\n",
    "remains = subset( remains, !is.na(remains$feature_gene))\n",
    "tab     = merge(tab, remains[,c('Feature', 'feature_gene', \"type\")], by=c('Feature', 'feature_gene', \"type\"), all=T)\n",
    "tab$group=c\n",
    "\n",
    "ag = aggregate(type~ Feature,tab, function(b) paste(unique(b), collapse=\",\"))\n",
    "ag$type[grepl(\"PP\", ag$type )]<-\"PP\"\n",
    "tb1 = table(ag$type)\n",
    "tb1[\"CC\"]<- sum(!duplicated(caca$Peak1, caca$Peak2))  ### complex cases\n",
    "\n",
    "\n",
    "tb1[\"NP\"] <- sum(!(results$Feature %in% tab$Feature)) - sum(!duplicated(caca$Peak1, caca$Peak2)) ## not promoter\n",
    "  \n",
    "               \n",
    "ptomoter_qtls  = rbind(ptomoter_qtls,tab)\n",
    "summary_annot  = rbind(summary_annot, tb1)\n",
    "genes_enhancer = rbind(genes_enhancer, tb2)\n",
    "               }"
   ]
  },
  {
   "cell_type": "code",
   "execution_count": 15,
   "id": "361db58e",
   "metadata": {},
   "outputs": [],
   "source": [
    "colnames(summary_annot)  = paste(c(2,1,3,4,5),names(tb1), sep=\"_\")\n",
    "colnames(genes_enhancer) = names(tb2)\n",
    "rownames(summary_annot)  = rownames(genes_enhancer) = cells"
   ]
  },
  {
   "cell_type": "code",
   "execution_count": 16,
   "id": "7901755c",
   "metadata": {},
   "outputs": [
    {
     "data": {
      "text/html": [
       "<table class=\"dataframe\">\n",
       "<caption>A data.frame: 4 × 5</caption>\n",
       "<thead>\n",
       "\t<tr><th></th><th scope=col>2_EP</th><th scope=col>1_P</th><th scope=col>3_PP</th><th scope=col>4_CC</th><th scope=col>5_NP</th></tr>\n",
       "\t<tr><th></th><th scope=col>&lt;int&gt;</th><th scope=col>&lt;int&gt;</th><th scope=col>&lt;int&gt;</th><th scope=col>&lt;int&gt;</th><th scope=col>&lt;int&gt;</th></tr>\n",
       "</thead>\n",
       "<tbody>\n",
       "\t<tr><th scope=row>b</th><td> 339</td><td> 49</td><td>149</td><td> 46</td><td> 176</td></tr>\n",
       "\t<tr><th scope=row>mono</th><td>1097</td><td>254</td><td>361</td><td>173</td><td>2052</td></tr>\n",
       "\t<tr><th scope=row>t</th><td>1256</td><td>200</td><td>498</td><td>351</td><td> 486</td></tr>\n",
       "\t<tr><th scope=row>nk</th><td> 379</td><td> 61</td><td>179</td><td> 38</td><td> 282</td></tr>\n",
       "</tbody>\n",
       "</table>\n"
      ],
      "text/latex": [
       "A data.frame: 4 × 5\n",
       "\\begin{tabular}{r|lllll}\n",
       "  & 2\\_EP & 1\\_P & 3\\_PP & 4\\_CC & 5\\_NP\\\\\n",
       "  & <int> & <int> & <int> & <int> & <int>\\\\\n",
       "\\hline\n",
       "\tb &  339 &  49 & 149 &  46 &  176\\\\\n",
       "\tmono & 1097 & 254 & 361 & 173 & 2052\\\\\n",
       "\tt & 1256 & 200 & 498 & 351 &  486\\\\\n",
       "\tnk &  379 &  61 & 179 &  38 &  282\\\\\n",
       "\\end{tabular}\n"
      ],
      "text/markdown": [
       "\n",
       "A data.frame: 4 × 5\n",
       "\n",
       "| <!--/--> | 2_EP &lt;int&gt; | 1_P &lt;int&gt; | 3_PP &lt;int&gt; | 4_CC &lt;int&gt; | 5_NP &lt;int&gt; |\n",
       "|---|---|---|---|---|---|\n",
       "| b |  339 |  49 | 149 |  46 |  176 |\n",
       "| mono | 1097 | 254 | 361 | 173 | 2052 |\n",
       "| t | 1256 | 200 | 498 | 351 |  486 |\n",
       "| nk |  379 |  61 | 179 |  38 |  282 |\n",
       "\n"
      ],
      "text/plain": [
       "     2_EP 1_P 3_PP 4_CC 5_NP\n",
       "b     339  49 149   46   176\n",
       "mono 1097 254 361  173  2052\n",
       "t    1256 200 498  351   486\n",
       "nk    379  61 179   38   282"
      ]
     },
     "metadata": {},
     "output_type": "display_data"
    }
   ],
   "source": [
    "summary_annot"
   ]
  },
  {
   "cell_type": "code",
   "execution_count": 17,
   "id": "d488e197",
   "metadata": {},
   "outputs": [
    {
     "data": {
      "text/html": [
       "<table class=\"dataframe\">\n",
       "<caption>A data.frame: 4 × 6</caption>\n",
       "<thead>\n",
       "\t<tr><th></th><th scope=col>1</th><th scope=col>2</th><th scope=col>3</th><th scope=col>4</th><th scope=col>5</th><th scope=col>6+</th></tr>\n",
       "\t<tr><th></th><th scope=col>&lt;int&gt;</th><th scope=col>&lt;int&gt;</th><th scope=col>&lt;int&gt;</th><th scope=col>&lt;int&gt;</th><th scope=col>&lt;int&gt;</th><th scope=col>&lt;int&gt;</th></tr>\n",
       "</thead>\n",
       "<tbody>\n",
       "\t<tr><th scope=row>b</th><td>120</td><td> 74</td><td> 51</td><td> 30</td><td>14</td><td> 50</td></tr>\n",
       "\t<tr><th scope=row>mono</th><td>514</td><td>250</td><td>123</td><td> 79</td><td>33</td><td> 98</td></tr>\n",
       "\t<tr><th scope=row>t</th><td>431</td><td>257</td><td>172</td><td>116</td><td>61</td><td>219</td></tr>\n",
       "\t<tr><th scope=row>nk</th><td>132</td><td>110</td><td> 45</td><td> 34</td><td>15</td><td> 43</td></tr>\n",
       "</tbody>\n",
       "</table>\n"
      ],
      "text/latex": [
       "A data.frame: 4 × 6\n",
       "\\begin{tabular}{r|llllll}\n",
       "  & 1 & 2 & 3 & 4 & 5 & 6+\\\\\n",
       "  & <int> & <int> & <int> & <int> & <int> & <int>\\\\\n",
       "\\hline\n",
       "\tb & 120 &  74 &  51 &  30 & 14 &  50\\\\\n",
       "\tmono & 514 & 250 & 123 &  79 & 33 &  98\\\\\n",
       "\tt & 431 & 257 & 172 & 116 & 61 & 219\\\\\n",
       "\tnk & 132 & 110 &  45 &  34 & 15 &  43\\\\\n",
       "\\end{tabular}\n"
      ],
      "text/markdown": [
       "\n",
       "A data.frame: 4 × 6\n",
       "\n",
       "| <!--/--> | 1 &lt;int&gt; | 2 &lt;int&gt; | 3 &lt;int&gt; | 4 &lt;int&gt; | 5 &lt;int&gt; | 6+ &lt;int&gt; |\n",
       "|---|---|---|---|---|---|---|\n",
       "| b | 120 |  74 |  51 |  30 | 14 |  50 |\n",
       "| mono | 514 | 250 | 123 |  79 | 33 |  98 |\n",
       "| t | 431 | 257 | 172 | 116 | 61 | 219 |\n",
       "| nk | 132 | 110 |  45 |  34 | 15 |  43 |\n",
       "\n"
      ],
      "text/plain": [
       "     1   2   3   4   5  6+ \n",
       "b    120  74  51  30 14  50\n",
       "mono 514 250 123  79 33  98\n",
       "t    431 257 172 116 61 219\n",
       "nk   132 110  45  34 15  43"
      ]
     },
     "metadata": {},
     "output_type": "display_data"
    }
   ],
   "source": [
    "genes_enhancer"
   ]
  },
  {
   "cell_type": "code",
   "execution_count": 18,
   "id": "710defbd",
   "metadata": {},
   "outputs": [
    {
     "data": {
      "text/html": [
       "<style>\n",
       ".dl-inline {width: auto; margin:0; padding: 0}\n",
       ".dl-inline>dt, .dl-inline>dd {float: none; width: auto; display: inline-block}\n",
       ".dl-inline>dt::after {content: \":\\0020\"; padding-right: .5ex}\n",
       ".dl-inline>dt:not(:first-of-type) {padding-left: .5ex}\n",
       "</style><dl class=dl-inline><dt>b</dt><dd>0.353982300884956</dd><dt>mono</dt><dd>0.468550592525068</dd><dt>t</dt><dd>0.343152866242038</dd><dt>nk</dt><dd>0.348284960422164</dd></dl>\n"
      ],
      "text/latex": [
       "\\begin{description*}\n",
       "\\item[b] 0.353982300884956\n",
       "\\item[mono] 0.468550592525068\n",
       "\\item[t] 0.343152866242038\n",
       "\\item[nk] 0.348284960422164\n",
       "\\end{description*}\n"
      ],
      "text/markdown": [
       "b\n",
       ":   0.353982300884956mono\n",
       ":   0.468550592525068t\n",
       ":   0.343152866242038nk\n",
       ":   0.348284960422164\n",
       "\n"
      ],
      "text/plain": [
       "        b      mono         t        nk \n",
       "0.3539823 0.4685506 0.3431529 0.3482850 "
      ]
     },
     "metadata": {},
     "output_type": "display_data"
    }
   ],
   "source": [
    "genes_enhancer[,1]/rowSums(genes_enhancer)"
   ]
  },
  {
   "cell_type": "code",
   "execution_count": 19,
   "id": "2a17e240",
   "metadata": {},
   "outputs": [],
   "source": [
    "write.table(ptomoter_qtls, \"summarized_caqtls/Promoter_associated_caQTLs.tsv\", sep=\"\\t\", row.names=F, quote=F)"
   ]
  },
  {
   "cell_type": "code",
   "execution_count": 20,
   "id": "c2bcc556",
   "metadata": {},
   "outputs": [],
   "source": [
    "pal = pal = brewer.pal(6,'RdYlBu')[c(1:3,5)]"
   ]
  },
  {
   "cell_type": "code",
   "execution_count": 21,
   "id": "2037b878",
   "metadata": {},
   "outputs": [],
   "source": [
    "toplot = t(summary_annot[, c(2,1,3,4)])"
   ]
  },
  {
   "cell_type": "code",
   "execution_count": 22,
   "id": "73d0efa2",
   "metadata": {},
   "outputs": [
    {
     "data": {
      "text/html": [
       "<table class=\"dataframe\">\n",
       "<caption>A matrix: 4 × 4 of type int</caption>\n",
       "<thead>\n",
       "\t<tr><th></th><th scope=col>b</th><th scope=col>mono</th><th scope=col>t</th><th scope=col>nk</th></tr>\n",
       "</thead>\n",
       "<tbody>\n",
       "\t<tr><th scope=row>1_P</th><td> 49</td><td> 254</td><td> 200</td><td> 61</td></tr>\n",
       "\t<tr><th scope=row>2_EP</th><td>339</td><td>1097</td><td>1256</td><td>379</td></tr>\n",
       "\t<tr><th scope=row>3_PP</th><td>149</td><td> 361</td><td> 498</td><td>179</td></tr>\n",
       "\t<tr><th scope=row>4_CC</th><td> 46</td><td> 173</td><td> 351</td><td> 38</td></tr>\n",
       "</tbody>\n",
       "</table>\n"
      ],
      "text/latex": [
       "A matrix: 4 × 4 of type int\n",
       "\\begin{tabular}{r|llll}\n",
       "  & b & mono & t & nk\\\\\n",
       "\\hline\n",
       "\t1\\_P &  49 &  254 &  200 &  61\\\\\n",
       "\t2\\_EP & 339 & 1097 & 1256 & 379\\\\\n",
       "\t3\\_PP & 149 &  361 &  498 & 179\\\\\n",
       "\t4\\_CC &  46 &  173 &  351 &  38\\\\\n",
       "\\end{tabular}\n"
      ],
      "text/markdown": [
       "\n",
       "A matrix: 4 × 4 of type int\n",
       "\n",
       "| <!--/--> | b | mono | t | nk |\n",
       "|---|---|---|---|---|\n",
       "| 1_P |  49 |  254 |  200 |  61 |\n",
       "| 2_EP | 339 | 1097 | 1256 | 379 |\n",
       "| 3_PP | 149 |  361 |  498 | 179 |\n",
       "| 4_CC |  46 |  173 |  351 |  38 |\n",
       "\n"
      ],
      "text/plain": [
       "     b   mono t    nk \n",
       "1_P   49  254  200  61\n",
       "2_EP 339 1097 1256 379\n",
       "3_PP 149  361  498 179\n",
       "4_CC  46  173  351  38"
      ]
     },
     "metadata": {},
     "output_type": "display_data"
    }
   ],
   "source": [
    "toplot"
   ]
  },
  {
   "cell_type": "code",
   "execution_count": 23,
   "id": "ed27f002",
   "metadata": {},
   "outputs": [
    {
     "data": {
      "text/html": [
       "<style>\n",
       ".dl-inline {width: auto; margin:0; padding: 0}\n",
       ".dl-inline>dt, .dl-inline>dd {float: none; width: auto; display: inline-block}\n",
       ".dl-inline>dt::after {content: \":\\0020\"; padding-right: .5ex}\n",
       ".dl-inline>dt:not(:first-of-type) {padding-left: .5ex}\n",
       "</style><dl class=dl-inline><dt>b</dt><dd>0.631284916201117</dd><dt>mono</dt><dd>0.640771028037383</dd><dt>t</dt><dd>0.642784032753327</dd><dt>nk</dt><dd>0.612277867528271</dd></dl>\n"
      ],
      "text/latex": [
       "\\begin{description*}\n",
       "\\item[b] 0.631284916201117\n",
       "\\item[mono] 0.640771028037383\n",
       "\\item[t] 0.642784032753327\n",
       "\\item[nk] 0.612277867528271\n",
       "\\end{description*}\n"
      ],
      "text/markdown": [
       "b\n",
       ":   0.631284916201117mono\n",
       ":   0.640771028037383t\n",
       ":   0.642784032753327nk\n",
       ":   0.612277867528271\n",
       "\n"
      ],
      "text/plain": [
       "        b      mono         t        nk \n",
       "0.6312849 0.6407710 0.6427840 0.6122779 "
      ]
     },
     "metadata": {},
     "output_type": "display_data"
    }
   ],
   "source": [
    "toplot[2,]/colSums(toplot[1:3,])"
   ]
  },
  {
   "cell_type": "code",
   "execution_count": 25,
   "id": "1754e6cc",
   "metadata": {},
   "outputs": [
    {
     "data": {
      "text/html": [
       "<strong>png:</strong> 2"
      ],
      "text/latex": [
       "\\textbf{png:} 2"
      ],
      "text/markdown": [
       "**png:** 2"
      ],
      "text/plain": [
       "png \n",
       "  2 "
      ]
     },
     "metadata": {},
     "output_type": "display_data"
    }
   ],
   "source": [
    "pdf(\"figures/caQTL_prom_annotat.pdf\")\n",
    "#layout(matrix(c(1,1,1,1,1,2,2,2,2,2,3,4,5,6,7,8,9,10,11,12), ncol=2, byrow = F))\n",
    "layout(matrix(c(1,1,1,1,1,    2,3,4,5,  6,6,6,7,7,7,8,8,8      ), ncol=2, byrow = F))\n",
    "par( las=2, mar = c(4,4,2,8))\n",
    "barplot(toplot, ylim=c(0,2500), ylab=\"# caQTL-peaks\", col=pal)\n",
    "legend(\"topleft\", legend = rownames(toplot), col=pal, pch=15, bty=F, pt.cex=2)\n",
    "#plot.new()\n",
    "par( las=1, mar = c(2,8,0,8))\n",
    "\n",
    "for( n in 1:4){  \n",
    "    barplot(as.matrix(genes_enhancer[n,]), ylim = c(0, max(genes_enhancer[n,]) + (max(genes_enhancer[n,]) /7 ) ) )\n",
    "    mtext(rownames(genes_enhancer[n,]),at = 1, line=-0.5)\n",
    "}\n",
    "\n",
    "# ### Add stats prom before\n",
    "# par(xpd = TRUE, las=2, mar = c(4,8,4,8))\n",
    "# bp<-barplot(stat2[,3],  ylab =\"# coaccessible sites (x1e3)\",names.arg = cells,ylim=c(0,4e+2))\n",
    "# text(bp, stat2[,3],labels=stat2[,3],pos=3)\n",
    "# bp<-barplot(stat2[,1],  ylab =\"# coaccessible\\n enhancer-promoters(x1e3)\",names.arg = cells, ylim=c(0,120))\n",
    "# text(bp, stat2[,1],labels=stat2[,1],pos=3)\n",
    "# bp<-barplot(stat2[,2],  ylab =\"# coaccessible\\n promoter-promoters(x1e3)\",names.arg = cells,ylim=c(0,40))\n",
    "# text(bp, stat2[,2],labels=stat2[,2],pos=3)\n",
    " dev.off()"
   ]
  },
  {
   "cell_type": "code",
   "execution_count": 29,
   "id": "7ff6e9e7",
   "metadata": {},
   "outputs": [],
   "source": [
    "ptomoter_qtls = read.table(\"summarized_caqtls/Promoter_associated_caQTLs.tsv\",header=T)"
   ]
  },
  {
   "cell_type": "code",
   "execution_count": 30,
   "id": "28af2bef",
   "metadata": {},
   "outputs": [
    {
     "data": {
      "text/html": [
       "3941"
      ],
      "text/latex": [
       "3941"
      ],
      "text/markdown": [
       "3941"
      ],
      "text/plain": [
       "[1] 3941"
      ]
     },
     "metadata": {},
     "output_type": "display_data"
    }
   ],
   "source": [
    "sum(!duplicated(ptomoter_qtls$Feature))"
   ]
  },
  {
   "cell_type": "code",
   "execution_count": 31,
   "id": "f70a32c8",
   "metadata": {},
   "outputs": [
    {
     "data": {
      "text/html": [
       "<table class=\"dataframe\">\n",
       "<caption>A data.frame: 6 × 8</caption>\n",
       "<thead>\n",
       "\t<tr><th></th><th scope=col>Feature</th><th scope=col>feature_gene</th><th scope=col>type</th><th scope=col>coacPeak</th><th scope=col>coaccess</th><th scope=col>dist</th><th scope=col>coac_gene</th><th scope=col>group</th></tr>\n",
       "\t<tr><th></th><th scope=col>&lt;chr&gt;</th><th scope=col>&lt;chr&gt;</th><th scope=col>&lt;chr&gt;</th><th scope=col>&lt;chr&gt;</th><th scope=col>&lt;dbl&gt;</th><th scope=col>&lt;dbl&gt;</th><th scope=col>&lt;chr&gt;</th><th scope=col>&lt;chr&gt;</th></tr>\n",
       "</thead>\n",
       "<tbody>\n",
       "\t<tr><th scope=row>1</th><td>chr1:100259360-100260023</td><td>NA      </td><td>EP</td><td>chr1:100816718-100819157</td><td>0.07022155</td><td>559134</td><td>CDC14A </td><td>b</td></tr>\n",
       "\t<tr><th scope=row>2</th><td>chr1:108742333-108743769</td><td>SLC25A24</td><td>P </td><td>chr1:108319627-108320549</td><td>0.09679502</td><td>423220</td><td>NA     </td><td>b</td></tr>\n",
       "\t<tr><th scope=row>3</th><td>chr1:108742333-108743769</td><td>SLC25A24</td><td>PP</td><td>chr1:108505820-108508658</td><td>0.15152870</td><td>235111</td><td>VAV3   </td><td>b</td></tr>\n",
       "\t<tr><th scope=row>4</th><td>chr1:108742333-108743769</td><td>SLC25A24</td><td>PP</td><td>chr1:109203136-109204341</td><td>0.10216564</td><td>460572</td><td>HENMT1 </td><td>b</td></tr>\n",
       "\t<tr><th scope=row>5</th><td>chr1:108742333-108743769</td><td>SLC25A24</td><td>PP</td><td>chr1:109234521-109236324</td><td>0.10582430</td><td>492555</td><td>PRPF38B</td><td>b</td></tr>\n",
       "\t<tr><th scope=row>6</th><td>chr1:1108854-1109596    </td><td>TTLL10  </td><td>P </td><td>chr1:1057321-1058169    </td><td>0.08439527</td><td> 51427</td><td>NA     </td><td>b</td></tr>\n",
       "</tbody>\n",
       "</table>\n"
      ],
      "text/latex": [
       "A data.frame: 6 × 8\n",
       "\\begin{tabular}{r|llllllll}\n",
       "  & Feature & feature\\_gene & type & coacPeak & coaccess & dist & coac\\_gene & group\\\\\n",
       "  & <chr> & <chr> & <chr> & <chr> & <dbl> & <dbl> & <chr> & <chr>\\\\\n",
       "\\hline\n",
       "\t1 & chr1:100259360-100260023 & NA       & EP & chr1:100816718-100819157 & 0.07022155 & 559134 & CDC14A  & b\\\\\n",
       "\t2 & chr1:108742333-108743769 & SLC25A24 & P  & chr1:108319627-108320549 & 0.09679502 & 423220 & NA      & b\\\\\n",
       "\t3 & chr1:108742333-108743769 & SLC25A24 & PP & chr1:108505820-108508658 & 0.15152870 & 235111 & VAV3    & b\\\\\n",
       "\t4 & chr1:108742333-108743769 & SLC25A24 & PP & chr1:109203136-109204341 & 0.10216564 & 460572 & HENMT1  & b\\\\\n",
       "\t5 & chr1:108742333-108743769 & SLC25A24 & PP & chr1:109234521-109236324 & 0.10582430 & 492555 & PRPF38B & b\\\\\n",
       "\t6 & chr1:1108854-1109596     & TTLL10   & P  & chr1:1057321-1058169     & 0.08439527 &  51427 & NA      & b\\\\\n",
       "\\end{tabular}\n"
      ],
      "text/markdown": [
       "\n",
       "A data.frame: 6 × 8\n",
       "\n",
       "| <!--/--> | Feature &lt;chr&gt; | feature_gene &lt;chr&gt; | type &lt;chr&gt; | coacPeak &lt;chr&gt; | coaccess &lt;dbl&gt; | dist &lt;dbl&gt; | coac_gene &lt;chr&gt; | group &lt;chr&gt; |\n",
       "|---|---|---|---|---|---|---|---|---|\n",
       "| 1 | chr1:100259360-100260023 | NA       | EP | chr1:100816718-100819157 | 0.07022155 | 559134 | CDC14A  | b |\n",
       "| 2 | chr1:108742333-108743769 | SLC25A24 | P  | chr1:108319627-108320549 | 0.09679502 | 423220 | NA      | b |\n",
       "| 3 | chr1:108742333-108743769 | SLC25A24 | PP | chr1:108505820-108508658 | 0.15152870 | 235111 | VAV3    | b |\n",
       "| 4 | chr1:108742333-108743769 | SLC25A24 | PP | chr1:109203136-109204341 | 0.10216564 | 460572 | HENMT1  | b |\n",
       "| 5 | chr1:108742333-108743769 | SLC25A24 | PP | chr1:109234521-109236324 | 0.10582430 | 492555 | PRPF38B | b |\n",
       "| 6 | chr1:1108854-1109596     | TTLL10   | P  | chr1:1057321-1058169     | 0.08439527 |  51427 | NA      | b |\n",
       "\n"
      ],
      "text/plain": [
       "  Feature                  feature_gene type coacPeak                \n",
       "1 chr1:100259360-100260023 NA           EP   chr1:100816718-100819157\n",
       "2 chr1:108742333-108743769 SLC25A24     P    chr1:108319627-108320549\n",
       "3 chr1:108742333-108743769 SLC25A24     PP   chr1:108505820-108508658\n",
       "4 chr1:108742333-108743769 SLC25A24     PP   chr1:109203136-109204341\n",
       "5 chr1:108742333-108743769 SLC25A24     PP   chr1:109234521-109236324\n",
       "6 chr1:1108854-1109596     TTLL10       P    chr1:1057321-1058169    \n",
       "  coaccess   dist   coac_gene group\n",
       "1 0.07022155 559134 CDC14A    b    \n",
       "2 0.09679502 423220 NA        b    \n",
       "3 0.15152870 235111 VAV3      b    \n",
       "4 0.10216564 460572 HENMT1    b    \n",
       "5 0.10582430 492555 PRPF38B   b    \n",
       "6 0.08439527  51427 NA        b    "
      ]
     },
     "metadata": {},
     "output_type": "display_data"
    }
   ],
   "source": [
    "head(ptomoter_qtls)"
   ]
  },
  {
   "cell_type": "code",
   "execution_count": 32,
   "id": "fe93788b",
   "metadata": {},
   "outputs": [],
   "source": [
    "ppp = subset(ptomoter_qtls, type!=\"EP\")"
   ]
  },
  {
   "cell_type": "code",
   "execution_count": 33,
   "id": "118acc81",
   "metadata": {},
   "outputs": [
    {
     "data": {
      "text/html": [
       "1281"
      ],
      "text/latex": [
       "1281"
      ],
      "text/markdown": [
       "1281"
      ],
      "text/plain": [
       "[1] 1281"
      ]
     },
     "metadata": {},
     "output_type": "display_data"
    }
   ],
   "source": [
    "sum(!duplicated(ppp$Feature))"
   ]
  },
  {
   "cell_type": "code",
   "execution_count": 35,
   "id": "93969b87",
   "metadata": {},
   "outputs": [
    {
     "data": {
      "text/html": [
       "0.185625271699754"
      ],
      "text/latex": [
       "0.185625271699754"
      ],
      "text/markdown": [
       "0.185625271699754"
      ],
      "text/plain": [
       "[1] 0.1856253"
      ]
     },
     "metadata": {},
     "output_type": "display_data"
    }
   ],
   "source": [
    "1281/6901"
   ]
  },
  {
   "cell_type": "code",
   "execution_count": 36,
   "id": "0271f324",
   "metadata": {},
   "outputs": [],
   "source": [
    "coc = read.table(\"run_cicero_paola/final_conns/annotated.coaccessible.matrix4s\", header=T)"
   ]
  },
  {
   "cell_type": "code",
   "execution_count": 37,
   "id": "2d7d9c5b",
   "metadata": {},
   "outputs": [
    {
     "data": {
      "text/html": [
       "84788"
      ],
      "text/latex": [
       "84788"
      ],
      "text/markdown": [
       "84788"
      ],
      "text/plain": [
       "[1] 84788"
      ]
     },
     "metadata": {},
     "output_type": "display_data"
    }
   ],
   "source": [
    "sum(!duplicated(coc$loops[coc$type=='PP']))"
   ]
  },
  {
   "cell_type": "code",
   "execution_count": 38,
   "id": "5d2b3ea4",
   "metadata": {},
   "outputs": [
    {
     "data": {
      "text/html": [
       "254771"
      ],
      "text/latex": [
       "254771"
      ],
      "text/markdown": [
       "254771"
      ],
      "text/plain": [
       "[1] 254771"
      ]
     },
     "metadata": {},
     "output_type": "display_data"
    }
   ],
   "source": [
    "sum(!duplicated(coc$loops[coc$type=='CP']))"
   ]
  },
  {
   "cell_type": "code",
   "execution_count": null,
   "id": "548389ae",
   "metadata": {},
   "outputs": [],
   "source": []
  }
 ],
 "metadata": {
  "kernelspec": {
   "display_name": "R 4.1",
   "language": "R",
   "name": "ir41"
  },
  "language_info": {
   "codemirror_mode": "r",
   "file_extension": ".r",
   "mimetype": "text/x-r-source",
   "name": "R",
   "pygments_lexer": "r",
   "version": "4.1.1"
  }
 },
 "nbformat": 4,
 "nbformat_minor": 5
}
