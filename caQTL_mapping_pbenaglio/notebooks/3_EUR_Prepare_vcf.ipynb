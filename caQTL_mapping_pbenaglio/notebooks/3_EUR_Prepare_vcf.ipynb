{
 "cells": [
  {
   "cell_type": "markdown",
   "id": "described-lambda",
   "metadata": {},
   "source": [
    "Requires that the ASE was calculated on all samples in the other notebook"
   ]
  },
  {
   "cell_type": "code",
   "execution_count": 1,
   "id": "answering-reproduction",
   "metadata": {},
   "outputs": [],
   "source": [
    "library(parallel)\n",
    "library(stringr)"
   ]
  },
  {
   "cell_type": "code",
   "execution_count": 2,
   "id": "deadly-timing",
   "metadata": {},
   "outputs": [],
   "source": [
    "homedir = '/nfs/lab/projects/pbmc_snATAC/analysis_v2/rasqual_eur/'"
   ]
  },
  {
   "cell_type": "code",
   "execution_count": 3,
   "id": "latin-stuff",
   "metadata": {},
   "outputs": [],
   "source": [
    "alldir = '/nfs/lab/projects/pbmc_snATAC/analysis_v2/rasqual/'"
   ]
  },
  {
   "cell_type": "code",
   "execution_count": 4,
   "id": "funny-chocolate",
   "metadata": {},
   "outputs": [],
   "source": [
    "setwd(homedir)"
   ]
  },
  {
   "cell_type": "code",
   "execution_count": 5,
   "id": "straight-chile",
   "metadata": {},
   "outputs": [],
   "source": [
    "filter_ase_vcf = function (reso = \"fine\"){\n",
    "   \n",
    "    celltypes = list.files(reso)[!grepl( \".txt\",list.files(reso))]\n",
    "    \n",
    "    for (cell in celltypes){\n",
    "        cat(cell,\"\\n\")\n",
    "        outdir  = paste(homedir, reso, cell, \"vcfs_peaksonly\", sep=\"/\")\n",
    "        invcf   = paste(alldir, reso, cell,\"vcfs_peaksonly/full.ase.filtered.vcf.gz\"  ,sep=\"/\")\n",
    "        outvcf  = paste(homedir, reso, cell,\"vcfs_peaksonly/full.ase.filtered.vcf.gz\"  ,sep=\"/\")\n",
    "        bed     = paste0(homedir, reso, \"/\",cell, \"/\" , cell, '.filtered.bed') \n",
    "         \n",
    "        system(paste(\"mkdir -p\", outdir))\n",
    "        \n",
    "        system(paste('bcftools view', invcf ,\n",
    "        '-R' , bed, \n",
    "        '-s PBMC2,PBMC3,PBMC4,PBMC5,PBMC8,PBMC9,PBMC10,PBMC12,PBMC13,PBMC14',\n",
    "        \"| /home/pbenaglio/bin/bcftools view -i \\'COUNT(GT=\\\"het\\\")>1\\' -Oz -o\", outvcf))\n",
    "        ### note a newer version (1.9) of bcftools was used to use the COUNT command.\n",
    "        \n",
    "        system(paste(\"tabix\", outvcf, \"-f\"))\n",
    "        \n",
    "    }\n",
    "    \n",
    "}"
   ]
  },
  {
   "cell_type": "code",
   "execution_count": 13,
   "id": "offshore-russian",
   "metadata": {},
   "outputs": [
    {
     "name": "stdout",
     "output_type": "stream",
     "text": [
      "act_cd4_t \n",
      "adaptive_NK \n",
      "cDC \n",
      "cMono \n",
      "cyto_cd8_t \n",
      "cyto_nk \n",
      "iMono \n",
      "mem_b \n",
      "mem_cd8_t \n",
      "mkc \n",
      "naive_b \n",
      "naive_cd4_t \n",
      "naive_cd8_t \n",
      "ncMono \n",
      "Summary_run1.txt \n",
      "tReg \n"
     ]
    }
   ],
   "source": [
    "filter_ase_vcf(reso=\"fine\")"
   ]
  },
  {
   "cell_type": "code",
   "execution_count": 14,
   "id": "prime-parade",
   "metadata": {},
   "outputs": [
    {
     "name": "stdout",
     "output_type": "stream",
     "text": [
      "b \n",
      "cd4_t \n",
      "cd8_t \n",
      "mono \n",
      "nk \n",
      "Summary_run1.txt \n"
     ]
    }
   ],
   "source": [
    "filter_ase_vcf(reso=\"broad\")"
   ]
  },
  {
   "cell_type": "code",
   "execution_count": 10,
   "id": "interracial-search",
   "metadata": {},
   "outputs": [
    {
     "name": "stdout",
     "output_type": "stream",
     "text": [
      "bulk \n"
     ]
    }
   ],
   "source": [
    "filter_ase_vcf(reso=\"bulk\")"
   ]
  },
  {
   "cell_type": "code",
   "execution_count": 6,
   "id": "guilty-caution",
   "metadata": {},
   "outputs": [
    {
     "name": "stdout",
     "output_type": "stream",
     "text": [
      "t \n"
     ]
    }
   ],
   "source": [
    "   celltypes = \"t\"\n",
    "   reso      = \"broad\"\n",
    "    \n",
    "    for (cell in celltypes){\n",
    "        cat(cell,\"\\n\")\n",
    "        outdir  = paste(homedir, reso, cell, \"vcfs_peaksonly\", sep=\"/\")\n",
    "        invcf   = paste(alldir, reso, cell,\"vcfs_peaksonly/full.ase.filtered.vcf.gz\"  ,sep=\"/\")\n",
    "        outvcf  = paste(homedir, reso, cell,\"vcfs_peaksonly/full.ase.filtered.vcf.gz\"  ,sep=\"/\")\n",
    "        bed     = paste0(homedir, reso, \"/\",cell, \"/\" , cell, '.filtered.bed') \n",
    "         \n",
    "        system(paste(\"mkdir -p\", outdir))\n",
    "        \n",
    "        system(paste('bcftools view', invcf ,\n",
    "        '-R' , bed, \n",
    "        '-s PBMC2,PBMC3,PBMC4,PBMC5,PBMC8,PBMC9,PBMC10,PBMC12,PBMC13,PBMC14',\n",
    "        \"| /home/pbenaglio/bin/bcftools view -i \\'COUNT(GT=\\\"het\\\")>1\\' -Oz -o\", outvcf))\n",
    "        ### note a newer version (1.9) of bcftools was used to use the COUNT command.\n",
    "        \n",
    "        system(paste(\"tabix\", outvcf, \"-f\"))\n",
    "}"
   ]
  }
 ],
 "metadata": {
  "kernelspec": {
   "display_name": "R 4.1",
   "language": "R",
   "name": "ir41"
  },
  "language_info": {
   "codemirror_mode": "r",
   "file_extension": ".r",
   "mimetype": "text/x-r-source",
   "name": "R",
   "pygments_lexer": "r",
   "version": "4.1.1"
  }
 },
 "nbformat": 4,
 "nbformat_minor": 5
}
