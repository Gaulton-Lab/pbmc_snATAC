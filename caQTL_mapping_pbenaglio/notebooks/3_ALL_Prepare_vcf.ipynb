{
 "cells": [
  {
   "cell_type": "code",
   "execution_count": 1,
   "metadata": {},
   "outputs": [],
   "source": [
    "library(parallel)\n",
    "library(stringr)"
   ]
  },
  {
   "cell_type": "code",
   "execution_count": 2,
   "metadata": {},
   "outputs": [],
   "source": [
    "vcf_dir  = '/nfs/lab/projects/pbmc_snATAC/pipeline/snp_array/final_vcfs/'\n",
    "homedir  = '/nfs/lab/projects/pbmc_snATAC/analysis_v2/rasqual/'\n",
    "sampdir  = '/nfs/lab/projects/pbmc_snATAC/analysis_v2/cell_type_bam/'\n",
    "samples  = paste0(\"PBMC\", c(1:6, 8:10,12:15))"
   ]
  },
  {
   "cell_type": "markdown",
   "metadata": {},
   "source": [
    "### FIlter original vcf files for just  snps in peaks, samples of interest, imputation quality, heterozygous genotype and removing indels"
   ]
  },
  {
   "cell_type": "code",
   "execution_count": 6,
   "metadata": {},
   "outputs": [],
   "source": [
    "filter_vcf = function(cell) {\n",
    "        \n",
    "    for (n in 1:22) {\n",
    "\n",
    "    vcf    = paste0(vcf_dir, \"/chr\",n ,'.PBMC.topmed.hg19.final.vcf.gz')\n",
    "    outdir = paste(homedir, reso, cell, \"vcfs_peaksonly\", sep=\"/\")    \n",
    "    system(paste(\"mkdir -p \",outdir  ) )   \n",
    "    outvcf = paste0(outdir, \"/chr\",n ,'.filt.vcf')\n",
    "    bed    = paste0(homedir, reso, \"/\",cell, \"/\" , cell, '.filtered.bed')\n",
    "        \n",
    "    system(paste('bcftools view', vcf ,\n",
    "    '-R' , bed, \n",
    "    \"-i \\'INFO/R2[0]>0.7\\' | bcftools view -g het --types snps -o\" , outvcf))\n",
    "}\n",
    "    }"
   ]
  },
  {
   "cell_type": "code",
   "execution_count": 7,
   "metadata": {},
   "outputs": [],
   "source": [
    "reso = \"broad\""
   ]
  },
  {
   "cell_type": "code",
   "execution_count": 8,
   "metadata": {},
   "outputs": [],
   "source": [
    "ids = c(1:6, 8:10,12:15)"
   ]
  },
  {
   "cell_type": "code",
   "execution_count": 11,
   "metadata": {},
   "outputs": [],
   "source": [
    "celltypes =list.files(paste(homedir,reso, sep=\"/\"))"
   ]
  },
  {
   "cell_type": "code",
   "execution_count": 13,
   "metadata": {},
   "outputs": [],
   "source": [
    "celltypes = celltypes[!grepl(\".txt\", celltypes)]"
   ]
  },
  {
   "cell_type": "code",
   "execution_count": 9,
   "metadata": {},
   "outputs": [],
   "source": [
    "celltypes = \"t\""
   ]
  },
  {
   "cell_type": "code",
   "execution_count": 10,
   "metadata": {},
   "outputs": [
    {
     "data": {
      "text/html": [
       "<ol>\n",
       "\t<li>NULL</li>\n",
       "</ol>\n"
      ],
      "text/latex": [
       "\\begin{enumerate}\n",
       "\\item NULL\n",
       "\\end{enumerate}\n"
      ],
      "text/markdown": [
       "1. NULL\n",
       "\n",
       "\n"
      ],
      "text/plain": [
       "[[1]]\n",
       "NULL\n"
      ]
     },
     "metadata": {},
     "output_type": "display_data"
    }
   ],
   "source": [
    "mclapply(celltypes, function(x) filter_vcf(x) , mc.cores = 32)"
   ]
  },
  {
   "cell_type": "code",
   "execution_count": 11,
   "metadata": {},
   "outputs": [],
   "source": [
    "for (cell in celltypes) {\n",
    "setwd(paste(homedir, reso, cell, \"vcfs_peaksonly\", sep=\"/\"))\n",
    "system(\"bcftools concat chr1.filt.vcf chr2.filt.vcf chr3.filt.vcf chr4.filt.vcf chr5.filt.vcf chr6.filt.vcf chr7.filt.vcf chr8.filt.vcf chr9.filt.vcf chr10.filt.vcf chr11.filt.vcf chr12.filt.vcf chr13.filt.vcf chr14.filt.vcf chr15.filt.vcf chr16.filt.vcf chr17.filt.vcf chr18.filt.vcf chr19.filt.vcf chr20.filt.vcf chr21.filt.vcf chr22.filt.vcf -Oz -o full.chr.vcf.gz\")\n",
    "#system(\"awk \\'{if($0 !~ /^#/) print \\\"chr\\\"$0; else print $0}\\' full.vcf > full.chr.vcf\")\n",
    "#system('bgzip full.chr.vcf -f')\n",
    "system('tabix full.chr.vcf.gz -f')\n",
    "    }"
   ]
  },
  {
   "cell_type": "code",
   "execution_count": 12,
   "metadata": {},
   "outputs": [],
   "source": [
    "for (cell in celltypes){\n",
    "new_vcf_dir = paste0(homedir, reso,\"/\" ,cell, \"/vcfs_peaksonly\" )    \n",
    "bam = paste0(sampdir, \"PBMC\", ids,\"/\", reso, '/pbmc', ids, \"_\", cell, \".bam\")\n",
    "writeLines(bam, paste(new_vcf_dir, 'bam.list.txt', sep=\"/\"))\n",
    "    }"
   ]
  },
  {
   "cell_type": "code",
   "execution_count": 13,
   "metadata": {},
   "outputs": [],
   "source": [
    "rasqual_ase = function (cell, reso){\n",
    "setwd(paste0(homedir, reso,\"/\" ,cell, \"/vcfs_peaksonly\" )  )\n",
    "system(\"rm full.ase*\")   ## remove older files \n",
    "system('sh $RASQUALDIR/src/ASVCF/createASVCF.sh paired_end bam.list.txt full.chr.vcf.gz full.ase.vcf.gz atac')\n",
    "system('/home/pbenaglio/bin/bcftools view full.ase.vcf.gz -i \\'COUNT(GT=\\\"het\\\")>1\\' -Oz -o full.ase.filtered.vcf.gz')\n",
    "system('tabix full.ase.filtered.vcf.gz -f')\n",
    "    }"
   ]
  },
  {
   "cell_type": "code",
   "execution_count": 14,
   "metadata": {},
   "outputs": [
    {
     "data": {
      "text/html": [
       "'/nfs/lab/projects/pbmc_snATAC/analysis_v2/rasqual/broad'"
      ],
      "text/latex": [
       "'/nfs/lab/projects/pbmc\\_snATAC/analysis\\_v2/rasqual/broad'"
      ],
      "text/markdown": [
       "'/nfs/lab/projects/pbmc_snATAC/analysis_v2/rasqual/broad'"
      ],
      "text/plain": [
       "[1] \"/nfs/lab/projects/pbmc_snATAC/analysis_v2/rasqual/broad\""
      ]
     },
     "metadata": {},
     "output_type": "display_data"
    }
   ],
   "source": [
    "paste0(homedir, reso)"
   ]
  },
  {
   "cell_type": "code",
   "execution_count": 15,
   "metadata": {},
   "outputs": [
    {
     "data": {
      "text/html": [
       "<ol>\n",
       "\t<li>0</li>\n",
       "</ol>\n"
      ],
      "text/latex": [
       "\\begin{enumerate}\n",
       "\\item 0\n",
       "\\end{enumerate}\n"
      ],
      "text/markdown": [
       "1. 0\n",
       "\n",
       "\n"
      ],
      "text/plain": [
       "[[1]]\n",
       "[1] 0\n"
      ]
     },
     "metadata": {},
     "output_type": "display_data"
    }
   ],
   "source": [
    "mclapply(celltypes, function (x) rasqual_ase(cell=x, reso=reso),mc.cores = 40)"
   ]
  },
  {
   "cell_type": "code",
   "execution_count": 16,
   "metadata": {},
   "outputs": [
    {
     "data": {
      "text/html": [
       "'/nfs/lab/projects/pbmc_snATAC/analysis_v2/rasqual/'"
      ],
      "text/latex": [
       "'/nfs/lab/projects/pbmc\\_snATAC/analysis\\_v2/rasqual/'"
      ],
      "text/markdown": [
       "'/nfs/lab/projects/pbmc_snATAC/analysis_v2/rasqual/'"
      ],
      "text/plain": [
       "[1] \"/nfs/lab/projects/pbmc_snATAC/analysis_v2/rasqual/\""
      ]
     },
     "metadata": {},
     "output_type": "display_data"
    }
   ],
   "source": [
    "homedir"
   ]
  },
  {
   "cell_type": "code",
   "execution_count": 17,
   "metadata": {},
   "outputs": [],
   "source": [
    "for (cell in celltypes){\n",
    "setwd(paste0(homedir,reso ,\"/\", cell, \"/vcfs_peaksonly\"))\n",
    "system( \"zgrep \\'#\\' full.ase.filtered.vcf.gz > header\") \n",
    "test = read.table('full.ase.filtered.vcf.gz')\n",
    "for(n in 1:2){\n",
    "for( i in 10:22){\n",
    "tabs  = str_split_fixed(test[,i], \"\\\\:\", 5)\n",
    "ac    = tabs[tabs[,1]==\"0|1\" | tabs[,1]==\"1|0\", 5]\n",
    "acs   = str_split(ac,\",\")\n",
    "acsp  = t(sapply(acs, sample))\n",
    "acsp  = apply(acsp, 1, str_flatten, collapse=\",\")\n",
    "tabs2 = tabs\n",
    "tabs2[tabs2[,1]==\"0|1\" | tabs2[,1]==\"1|0\", 5] <- acsp\n",
    "\n",
    "tt    =  apply(tabs2, 1, str_flatten, collapse=\":\")\n",
    "   \n",
    "    if (i ==10){\n",
    "        TT = tt  }else{\n",
    "        TT = cbind(TT,tt)}\n",
    "    }\n",
    "\n",
    "europ = c(2,3,4,5,7,8,9,10,11,12)\n",
    "shuff = sample(europ)\n",
    "\n",
    "if(n==1) {\n",
    "    perm =  c(6, shuff[1:4], 13, shuff[5:10],1)\n",
    "} else if(n==2) {\n",
    "    perm =  c(13, shuff[1:4], 1, shuff[5:10],6)}\n",
    "    \n",
    "TT = TT[,perm]\n",
    "testp = cbind(test[,1:9], TT)\n",
    "\n",
    "outfile = paste0(\"full.ase.filtered.allelic.perm\",n)\n",
    "setwd(paste0(homedir,reso ,\"/\", cell, \"/vcfs_peaksonly\"))\n",
    "write.table(testp, outfile, col.names=F, row.names=F, quote=F, sep=\"\\t\" )\n",
    "system(paste0('cat header ', outfile, ' > ', outfile, '.vcf'))\n",
    "system(paste0('bgzip ', outfile, '.vcf -f'))\n",
    "system(paste0('tabix ', outfile, '.vcf.gz -f'))\n",
    "system(paste(\"rm\", outfile))    \n",
    "    }\n",
    "    }"
   ]
  },
  {
   "cell_type": "code",
   "execution_count": null,
   "metadata": {},
   "outputs": [],
   "source": []
  }
 ],
 "metadata": {
  "kernelspec": {
   "display_name": "R 4.1",
   "language": "R",
   "name": "ir41"
  },
  "language_info": {
   "codemirror_mode": "r",
   "file_extension": ".r",
   "mimetype": "text/x-r-source",
   "name": "R",
   "pygments_lexer": "r",
   "version": "4.1.1"
  }
 },
 "nbformat": 4,
 "nbformat_minor": 2
}
