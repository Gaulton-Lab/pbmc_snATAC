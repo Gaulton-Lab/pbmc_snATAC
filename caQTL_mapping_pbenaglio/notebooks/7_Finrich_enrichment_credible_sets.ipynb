{
 "cells": [
  {
   "cell_type": "code",
   "execution_count": 1,
   "metadata": {},
   "outputs": [],
   "source": [
    "library(stringr)\n",
    "library(parallel)\n",
    "library(tidyr)"
   ]
  },
  {
   "cell_type": "code",
   "execution_count": 2,
   "metadata": {},
   "outputs": [],
   "source": [
    "traits = c( 'Asthma_child_onset.99credset.PPA.bed',\n",
    "            'Atopic_dermatitis.99credset.PPA.bed',\n",
    "            'Autoimmune_vitiligo.99credset.PPA.bed',\n",
    "            'Basophil_count.99credset.PPA.bed',\n",
    "            'Crohns_disease.99credset.PPA.bed',\n",
    "            'Eosinophil_count.99credset.PPA.bed',\n",
    "            'Gout.99credset.PPA.bed',\n",
    "            'Lymphocyte_count.99credset.PPA.bed',\n",
    "            'Monocyte_count.99credset.PPA.bed',\n",
    "            'Neutrophil_count.99credset.PPA.bed',\n",
    "            'Primary_sclerosing_cholangitis.99credset.PPA.bed',\n",
    "            'Rheumatoid_arthritis.99credset.PPA.bed',\n",
    "            'Selective_IgA_deficiency.99credset.PPA.bed',\n",
    "            'Systemic_lupus_erythematosus.99credset.PPA.bed',\n",
    "            'Type_1_diabetes.99credset.PPA.bed',\n",
    "            'Ulcerative_colitis.99credset.PPA.bed')"
   ]
  },
  {
   "cell_type": "code",
   "execution_count": 3,
   "metadata": {},
   "outputs": [],
   "source": [
    "fmdir = '/nfs/lab/projects/pbmc_snATAC/data/credible_sets/'"
   ]
  },
  {
   "cell_type": "code",
   "execution_count": 4,
   "metadata": {},
   "outputs": [],
   "source": [
    "out = '/nfs/lab/projects/pbmc_snATAC/analysis_v2/finrich/99credset_immune/'"
   ]
  },
  {
   "cell_type": "code",
   "execution_count": 5,
   "metadata": {},
   "outputs": [],
   "source": [
    "setwd('/nfs/lab/projects/pbmc_snATAC/analysis_v2')"
   ]
  },
  {
   "cell_type": "code",
   "execution_count": 6,
   "metadata": {},
   "outputs": [],
   "source": [
    "results = data.table::fread(\"summarized_caqtls/run3/EUR_caqtl_leads_run3.tsv\", header=T)"
   ]
  },
  {
   "cell_type": "code",
   "execution_count": 7,
   "metadata": {},
   "outputs": [],
   "source": [
    "celltypes = unique(results$cell)[unique(results$cell)!='bulk']"
   ]
  },
  {
   "cell_type": "code",
   "execution_count": 8,
   "metadata": {},
   "outputs": [],
   "source": [
    "outdir = '/nfs/lab/projects/pbmc_snATAC/analysis_v2/finrich/bedfiles/'"
   ]
  },
  {
   "cell_type": "code",
   "execution_count": 9,
   "metadata": {},
   "outputs": [],
   "source": [
    "for (c in celltypes) {\n",
    "cell_results      = subset(results, cell == c)\n",
    "step1 = str_split_fixed(cell_results$Feature, \"\\\\:\", 2 )\n",
    "bed   = cbind(step1[,1], str_split_fixed(step1[,2], \"\\\\-\", 2 ))\n",
    "\n",
    "write.table(bed[cell_results$flag_fdr10==TRUE & cell_results$exclude==FALSE,], paste0(outdir, c, \".caqtl_peaks.bed\"), sep=\"\\t\", quote=F, col.names=F, row.names=F)\n",
    "write.table(bed[cell_results$flag_fdr10==FALSE,], paste0(outdir, c, \".non_caqtl_peaks.bed\"), sep=\"\\t\", quote=F, col.names=F, row.names=F)\n",
    "\n",
    "    }\n"
   ]
  },
  {
   "cell_type": "code",
   "execution_count": 10,
   "metadata": {},
   "outputs": [],
   "source": [
    "beds_pos = paste0(outdir, list.files(outdir)[!(grepl(list.files(outdir),pattern = \".non_caqtl_peaks.bed\"))])\n",
    "beds_neg = paste0(outdir, list.files(outdir)[grepl(list.files(outdir),pattern = \".non_caqtl_peaks.bed\")])"
   ]
  },
  {
   "cell_type": "code",
   "execution_count": 11,
   "metadata": {},
   "outputs": [],
   "source": [
    "resdir   = '/nfs/lab/projects/pbmc_snATAC/analysis_v2/finrich/results/'"
   ]
  },
  {
   "cell_type": "code",
   "execution_count": 12,
   "metadata": {},
   "outputs": [],
   "source": [
    "outfiles = paste0(resdir, \n",
    "                  str_split_fixed(list.files(outdir)[grepl(list.files(outdir),pattern = \".non_caqtl_peaks.bed\")], \"\\\\.\", 2)[,1])"
   ]
  },
  {
   "cell_type": "code",
   "execution_count": 13,
   "metadata": {},
   "outputs": [],
   "source": [
    "for (tr in list.files(fmdir)){\n",
    "\n",
    " mclapply(1:length(outfiles), function(x) system(paste0(\n",
    "    \"finrich \", fmdir, tr, \" \", beds_pos[x],\" \" ,beds_neg[x], \n",
    "        \" --permutations 10000 --processes 8 > \", outfiles[x], \".\", tr, \".json\" )) ,mc.cores=32)\n",
    "}"
   ]
  },
  {
   "cell_type": "markdown",
   "metadata": {},
   "source": [
    "#### Read in the results"
   ]
  },
  {
   "cell_type": "code",
   "execution_count": 14,
   "metadata": {},
   "outputs": [],
   "source": [
    "library('rjson')"
   ]
  },
  {
   "cell_type": "code",
   "execution_count": 15,
   "metadata": {},
   "outputs": [],
   "source": [
    "infiles = list.files(resdir)[grepl(\"PPA\", list.files(resdir))]"
   ]
  },
  {
   "cell_type": "code",
   "execution_count": 16,
   "metadata": {},
   "outputs": [],
   "source": [
    "m = matrix(NA, nrow = length(infiles), ncol=6)\n",
    "for( rr in 1:length(infiles)) {\n",
    "    file= infiles[rr]\n",
    "    test = readLines(paste0(resdir,file))\n",
    "    if(length(test)==0){\n",
    "        m[rr,1:4] = NA} else {\n",
    "        \n",
    "    if ( grepl('Infinity' , test)== TRUE   ){\n",
    "    m[rr,1:4] = c(1,0,0,0)  \n",
    "    }else{\n",
    "    js = fromJSON(file =paste0(resdir,file))\n",
    "    m[rr,1:4] = unlist(js) [c(\"pval\", \"logOR\", \"conf_lower\", \"conf_upper\")]\n",
    "    }\n",
    "        }\n",
    "    m[rr,5:6] = str_split_fixed(file, \"\\\\.\", 6)[,1:2]\n",
    "}"
   ]
  },
  {
   "cell_type": "code",
   "execution_count": 17,
   "metadata": {},
   "outputs": [],
   "source": [
    "colnames(m) = c(\"pval\", \"logOR\", \"conf_lower\", \"conf_upper\", \"cell\", \"trait\")"
   ]
  },
  {
   "cell_type": "code",
   "execution_count": 18,
   "metadata": {},
   "outputs": [],
   "source": [
    "m2 = data.frame(m)"
   ]
  },
  {
   "cell_type": "code",
   "execution_count": 19,
   "metadata": {},
   "outputs": [],
   "source": [
    "macro = as.character(unique(m2$cell[m2$cell %in% c(\"t\", \"b\", \"nk\", \"mono\")]))\n",
    "micro = as.character(unique(m2$cell[!(m2$cell %in% c(\"t\", \"b\", \"nk\", \"mono\"))]))"
   ]
  },
  {
   "cell_type": "code",
   "execution_count": 20,
   "metadata": {},
   "outputs": [],
   "source": [
    "m2 = m2[complete.cases(m2),]"
   ]
  },
  {
   "cell_type": "code",
   "execution_count": 21,
   "metadata": {},
   "outputs": [],
   "source": [
    "wideor = spread(m2[,c('trait','cell','logOR' )],  cell, logOR)\n",
    "widepv = spread(m2[,c('trait','cell','pval' )],  cell, pval)\n",
    "wideor[is.na(wideor)] <-0\n",
    "widepv[is.na(widepv)] <-1\n",
    "or = apply(wideor[,-1], 2, as.numeric)\n",
    "pv = apply(widepv[,-1], 2, as.numeric)"
   ]
  },
  {
   "cell_type": "code",
   "execution_count": 22,
   "metadata": {},
   "outputs": [
    {
     "data": {
      "text/html": [
       "1e-04"
      ],
      "text/latex": [
       "1e-04"
      ],
      "text/markdown": [
       "1e-04"
      ],
      "text/plain": [
       "[1] 1e-04"
      ]
     },
     "metadata": {},
     "output_type": "display_data"
    }
   ],
   "source": [
    "min(pv[pv>0])"
   ]
  },
  {
   "cell_type": "code",
   "execution_count": 23,
   "metadata": {},
   "outputs": [],
   "source": [
    "pv[pv==0]<-min(pv[pv>0])"
   ]
  },
  {
   "cell_type": "code",
   "execution_count": 24,
   "metadata": {},
   "outputs": [],
   "source": [
    "rownames(pv) = rownames(or) = widepv$trait\n",
    "\n",
    "signedpv = -log10(pv)\n",
    "signedpv = signedpv*sign(or)"
   ]
  },
  {
   "cell_type": "code",
   "execution_count": 25,
   "metadata": {},
   "outputs": [],
   "source": [
    "library(pheatmap)"
   ]
  },
  {
   "cell_type": "code",
   "execution_count": 26,
   "metadata": {},
   "outputs": [],
   "source": [
    "ix = pv\n",
    "ix[pv<0.05]<-\"*\"\n",
    "ix[pv<0.005]<-\"**\"\n",
    "ix[pv<0.0005]<-\"X\"\n",
    "ix[pv>=0.05]<-\"\"\n",
    "\n",
    "traits = c( 'Monocyte_count','Eosinophil_count','Lymphocyte_count','Asthma_child_onset',\n",
    "            'Crohns_disease', 'Neutrophil_count','Ulcerative_colitis','Rheumatoid_arthritis',\n",
    "             \"Type_1_diabetes\",'Autoimmune_vitiligo','Basophil_count','Systemic_lupus_erythematosus',\n",
    "            'Gout','Atopic_dermatitis', 'Primary_sclerosing_cholangitis','Selective_IgA_deficiency')\n"
   ]
  },
  {
   "cell_type": "code",
   "execution_count": 27,
   "metadata": {},
   "outputs": [
    {
     "name": "stdout",
     "output_type": "stream",
     "text": [
      "act_cd4_t', 'adaptive_NK', 'cDC', 'cMono', 'cyto_cd8_t', 'cyto_nk', 'iMono', 'mem_b', 'mem_cd8_t', 'mkc', 'naive_b', 'naive_cd4_t', 'naive_cd8_t', 'ncMono', 'tReg"
     ]
    }
   ],
   "source": [
    "cat(paste(micro, collapse = \"\\', \\'\"))"
   ]
  },
  {
   "cell_type": "code",
   "execution_count": 28,
   "metadata": {},
   "outputs": [],
   "source": [
    "micro =c('naive_cd4_t', 'act_cd4_t', 'naive_cd8_t', 'cyto_cd8_t','mem_cd8_t','tReg',\n",
    "  'adaptive_NK','cyto_nk',  'cMono', 'ncMono', \n",
    "   'iMono', 'cDC', 'mem_b',   'naive_b', 'mkc')\n"
   ]
  },
  {
   "cell_type": "code",
   "execution_count": 29,
   "metadata": {},
   "outputs": [],
   "source": [
    "library(RColorBrewer)\n",
    "\n",
    "col = rev(colorRampPalette(brewer.pal(9, \"RdBu\"))(50))\n",
    "col = rev(colorRampPalette(brewer.pal(9, \"PuOr\"))(50))\n",
    "\n",
    "mat = as.matrix(or[traits,micro])\n",
    "pheatmap(mat,    show_colnames = TRUE, angle_col = 45, fontsize_col = 8,\n",
    "         show_rownames=TRUE, cluster_rows = F, cluster_cols = F,\n",
    "         col = col,  breaks=seq(-abs(max(mat)), abs(max(mat)), length.out=50) ,\n",
    "         cellheight = 8, cellwidth = 10, fontsize_row = 8, display_numbers= ix[traits,micro],\n",
    "          filename =  'figures/Heatmap_OR_subtypes.pdf'    \n",
    "        )\n",
    "\n",
    "mat=as.matrix(signedpv[traits,micro])\n",
    "pheatmap(mat,    show_colnames = TRUE, angle_col = 45,fontsize_col = 8,\n",
    "         show_rownames=TRUE, cluster_rows = F, cluster_cols = F,\n",
    "         col = col,  breaks=seq(-abs(max(mat)), abs(max(mat)), length.out=50) ,\n",
    "         cellheight = 8, cellwidth = 10, fontsize_row = 8, display_numbers= ix[traits,micro],\n",
    "          filename =  'figures/Heatmap_PV_subtypes.pdf',\n",
    "        )\n",
    "mat = as.matrix(or[traits,macro])\n",
    "pheatmap(mat,    show_colnames = TRUE, angle_col = 45,fontsize_col = 8,\n",
    "         show_rownames=TRUE, cluster_rows = F, cluster_cols = F,\n",
    "         col = col,  breaks=seq(-abs(max(mat)), abs(max(mat)), length.out=50) ,\n",
    "         cellheight = 8, cellwidth = 10, fontsize_row = 8, display_numbers= ix[traits,macro],\n",
    "          filename =  'figures/Heatmap_OR.pdf'    \n",
    "        )\n",
    "\n",
    "mat=as.matrix(signedpv[traits,macro])\n",
    "pheatmap(mat,    show_colnames = TRUE, angle_col = 45,fontsize_col = 8,\n",
    "         show_rownames=TRUE, cluster_rows = F, cluster_cols = F,\n",
    "         col = col,  breaks=seq(-abs(max(mat)), abs(max(mat)), length.out=50) ,\n",
    "         cellheight = 8, cellwidth = 10, fontsize_row = 8, display_numbers= ix[traits,macro],\n",
    "          filename =  'figures/Heatmap_PV.pdf',\n",
    "        )\n"
   ]
  },
  {
   "cell_type": "code",
   "execution_count": 30,
   "metadata": {},
   "outputs": [
    {
     "data": {
      "text/html": [
       "<table class=\"dataframe\">\n",
       "<caption>A matrix: 16 × 15 of type dbl</caption>\n",
       "<thead>\n",
       "\t<tr><th></th><th scope=col>naive_cd4_t</th><th scope=col>act_cd4_t</th><th scope=col>naive_cd8_t</th><th scope=col>cyto_cd8_t</th><th scope=col>mem_cd8_t</th><th scope=col>tReg</th><th scope=col>adaptive_NK</th><th scope=col>cyto_nk</th><th scope=col>cMono</th><th scope=col>ncMono</th><th scope=col>iMono</th><th scope=col>cDC</th><th scope=col>mem_b</th><th scope=col>naive_b</th><th scope=col>mkc</th></tr>\n",
       "</thead>\n",
       "<tbody>\n",
       "\t<tr><th scope=row>Monocyte_count</th><td>-3.60012874</td><td> 1.2391766</td><td>-2.96890879</td><td>-0.7289019</td><td>-2.8512349</td><td>-1.6534208</td><td> 0.0000000</td><td>-4.5041606</td><td> 1.0007816</td><td> 0.4258095</td><td> 0.0000000</td><td>-2.0116908</td><td>-1.6348490</td><td>-3.26760630</td><td> 1.1752220</td></tr>\n",
       "\t<tr><th scope=row>Eosinophil_count</th><td> 1.77536940</td><td> 2.0043113</td><td> 0.01802934</td><td>-0.5095369</td><td> 0.2813570</td><td> 0.6231183</td><td> 0.0000000</td><td>-0.3342661</td><td>-0.7489404</td><td>-2.8488269</td><td> 0.0000000</td><td> 0.0000000</td><td> 0.0000000</td><td> 0.06589922</td><td> 0.0000000</td></tr>\n",
       "\t<tr><th scope=row>Lymphocyte_count</th><td> 2.03223963</td><td> 1.4994188</td><td> 2.16015761</td><td> 1.3525184</td><td> 2.0510174</td><td> 3.2244201</td><td> 0.0000000</td><td>-0.4282907</td><td> 0.6300371</td><td> 2.7852329</td><td> 0.0000000</td><td> 3.3086488</td><td> 2.6420576</td><td> 2.49008187</td><td>-0.7110517</td></tr>\n",
       "\t<tr><th scope=row>Asthma_child_onset</th><td>-0.59388761</td><td> 1.3894306</td><td>-0.02541565</td><td> 1.9034175</td><td> 2.3881408</td><td> 1.2716449</td><td> 0.0000000</td><td> 0.3924459</td><td> 1.2255258</td><td>-0.9091417</td><td> 0.0000000</td><td> 0.4224073</td><td> 3.2793533</td><td>-2.80279922</td><td> 0.0000000</td></tr>\n",
       "\t<tr><th scope=row>Crohns_disease</th><td> 0.16981604</td><td> 0.9483895</td><td> 0.67495068</td><td> 0.9640044</td><td>-0.1156697</td><td>-1.3154639</td><td> 0.0000000</td><td> 0.5458632</td><td> 1.5894775</td><td> 0.5199925</td><td>-0.2811783</td><td> 0.0000000</td><td> 0.0000000</td><td>-2.53745757</td><td> 0.0000000</td></tr>\n",
       "\t<tr><th scope=row>Neutrophil_count</th><td>-0.83481738</td><td> 2.3699483</td><td>-0.96676064</td><td> 2.3121126</td><td> 0.0000000</td><td> 0.0000000</td><td> 0.0000000</td><td> 2.5532727</td><td> 1.9078642</td><td> 1.6861801</td><td> 2.2788806</td><td> 0.0000000</td><td> 0.0000000</td><td> 0.00000000</td><td> 0.0000000</td></tr>\n",
       "\t<tr><th scope=row>Ulcerative_colitis</th><td>-0.05451528</td><td>-0.5980586</td><td>-0.65556886</td><td>-1.3863797</td><td> 3.4831972</td><td> 0.0000000</td><td> 0.0000000</td><td>-1.0281177</td><td> 2.3756144</td><td> 1.0851989</td><td> 1.2124441</td><td> 0.0000000</td><td> 2.4568387</td><td> 0.00000000</td><td> 0.0000000</td></tr>\n",
       "\t<tr><th scope=row>Rheumatoid_arthritis</th><td> 0.00000000</td><td> 2.3368733</td><td> 0.35885920</td><td> 1.4794507</td><td> 3.1600465</td><td> 0.0000000</td><td> 0.0000000</td><td>-0.6131536</td><td> 0.5331701</td><td>-3.2064921</td><td> 0.0000000</td><td> 0.0000000</td><td>-0.7392045</td><td> 0.00000000</td><td> 0.0000000</td></tr>\n",
       "\t<tr><th scope=row>Type_1_diabetes</th><td> 1.25229679</td><td> 1.6202938</td><td> 2.07627693</td><td> 1.5179070</td><td>-1.6752181</td><td>-0.6804159</td><td> 0.0000000</td><td> 0.9188091</td><td> 0.9029120</td><td>-0.5174353</td><td>-2.6486752</td><td> 0.0000000</td><td> 0.0000000</td><td> 0.93113000</td><td> 0.0000000</td></tr>\n",
       "\t<tr><th scope=row>Autoimmune_vitiligo</th><td> 2.51308289</td><td> 1.3655552</td><td> 1.31409587</td><td> 0.8783528</td><td> 1.7607671</td><td> 2.5637350</td><td>-0.8017630</td><td>-1.0793436</td><td> 1.3396148</td><td> 0.0000000</td><td> 1.9073338</td><td> 0.0000000</td><td> 0.0000000</td><td>-2.46347655</td><td> 0.0000000</td></tr>\n",
       "\t<tr><th scope=row>Basophil_count</th><td> 1.19247971</td><td> 2.3131019</td><td> 1.39221486</td><td>-1.5216443</td><td> 0.0000000</td><td> 0.0000000</td><td> 0.0000000</td><td> 2.0462748</td><td> 2.1956015</td><td> 0.0000000</td><td> 0.0000000</td><td> 0.0000000</td><td> 0.0000000</td><td> 0.00000000</td><td> 0.0000000</td></tr>\n",
       "\t<tr><th scope=row>Systemic_lupus_erythematosus</th><td> 0.00000000</td><td>-1.9074000</td><td> 0.00000000</td><td>-1.3380766</td><td>-0.6332232</td><td> 0.0000000</td><td>-0.1069537</td><td> 2.0311125</td><td> 1.0056693</td><td> 0.1823280</td><td> 0.0000000</td><td> 0.0000000</td><td> 0.5032087</td><td> 0.10228707</td><td> 0.0000000</td></tr>\n",
       "\t<tr><th scope=row>Gout</th><td>-1.30443508</td><td>-1.7008315</td><td> 0.00000000</td><td> 0.0000000</td><td> 0.0000000</td><td> 0.0000000</td><td> 0.0000000</td><td> 0.0000000</td><td> 0.1433700</td><td> 0.0000000</td><td> 0.0000000</td><td> 0.0000000</td><td> 0.0000000</td><td> 0.00000000</td><td> 0.0000000</td></tr>\n",
       "\t<tr><th scope=row>Atopic_dermatitis</th><td>-1.27333896</td><td>-0.8577988</td><td> 0.00000000</td><td> 0.0000000</td><td> 0.0000000</td><td> 1.8748070</td><td> 0.0000000</td><td> 0.0000000</td><td> 1.9008353</td><td> 4.3323851</td><td> 0.0000000</td><td> 0.0000000</td><td> 0.0000000</td><td>-0.80773304</td><td> 0.0000000</td></tr>\n",
       "\t<tr><th scope=row>Primary_sclerosing_cholangitis</th><td> 0.00000000</td><td> 0.0000000</td><td> 0.00000000</td><td>-0.1294495</td><td> 0.0000000</td><td> 0.0000000</td><td> 0.0000000</td><td> 0.0000000</td><td> 1.7222057</td><td> 0.0000000</td><td> 0.0000000</td><td> 0.0000000</td><td> 0.0000000</td><td> 0.00000000</td><td> 0.0000000</td></tr>\n",
       "\t<tr><th scope=row>Selective_IgA_deficiency</th><td> 0.00000000</td><td> 0.0000000</td><td> 0.00000000</td><td> 0.0000000</td><td> 0.0000000</td><td> 0.0000000</td><td> 0.0000000</td><td> 0.0000000</td><td>-0.6528188</td><td> 0.0000000</td><td> 0.0000000</td><td> 0.0000000</td><td> 0.0000000</td><td> 0.00000000</td><td> 0.0000000</td></tr>\n",
       "</tbody>\n",
       "</table>\n"
      ],
      "text/latex": [
       "A matrix: 16 × 15 of type dbl\n",
       "\\begin{tabular}{r|lllllllllllllll}\n",
       "  & naive\\_cd4\\_t & act\\_cd4\\_t & naive\\_cd8\\_t & cyto\\_cd8\\_t & mem\\_cd8\\_t & tReg & adaptive\\_NK & cyto\\_nk & cMono & ncMono & iMono & cDC & mem\\_b & naive\\_b & mkc\\\\\n",
       "\\hline\n",
       "\tMonocyte\\_count & -3.60012874 &  1.2391766 & -2.96890879 & -0.7289019 & -2.8512349 & -1.6534208 &  0.0000000 & -4.5041606 &  1.0007816 &  0.4258095 &  0.0000000 & -2.0116908 & -1.6348490 & -3.26760630 &  1.1752220\\\\\n",
       "\tEosinophil\\_count &  1.77536940 &  2.0043113 &  0.01802934 & -0.5095369 &  0.2813570 &  0.6231183 &  0.0000000 & -0.3342661 & -0.7489404 & -2.8488269 &  0.0000000 &  0.0000000 &  0.0000000 &  0.06589922 &  0.0000000\\\\\n",
       "\tLymphocyte\\_count &  2.03223963 &  1.4994188 &  2.16015761 &  1.3525184 &  2.0510174 &  3.2244201 &  0.0000000 & -0.4282907 &  0.6300371 &  2.7852329 &  0.0000000 &  3.3086488 &  2.6420576 &  2.49008187 & -0.7110517\\\\\n",
       "\tAsthma\\_child\\_onset & -0.59388761 &  1.3894306 & -0.02541565 &  1.9034175 &  2.3881408 &  1.2716449 &  0.0000000 &  0.3924459 &  1.2255258 & -0.9091417 &  0.0000000 &  0.4224073 &  3.2793533 & -2.80279922 &  0.0000000\\\\\n",
       "\tCrohns\\_disease &  0.16981604 &  0.9483895 &  0.67495068 &  0.9640044 & -0.1156697 & -1.3154639 &  0.0000000 &  0.5458632 &  1.5894775 &  0.5199925 & -0.2811783 &  0.0000000 &  0.0000000 & -2.53745757 &  0.0000000\\\\\n",
       "\tNeutrophil\\_count & -0.83481738 &  2.3699483 & -0.96676064 &  2.3121126 &  0.0000000 &  0.0000000 &  0.0000000 &  2.5532727 &  1.9078642 &  1.6861801 &  2.2788806 &  0.0000000 &  0.0000000 &  0.00000000 &  0.0000000\\\\\n",
       "\tUlcerative\\_colitis & -0.05451528 & -0.5980586 & -0.65556886 & -1.3863797 &  3.4831972 &  0.0000000 &  0.0000000 & -1.0281177 &  2.3756144 &  1.0851989 &  1.2124441 &  0.0000000 &  2.4568387 &  0.00000000 &  0.0000000\\\\\n",
       "\tRheumatoid\\_arthritis &  0.00000000 &  2.3368733 &  0.35885920 &  1.4794507 &  3.1600465 &  0.0000000 &  0.0000000 & -0.6131536 &  0.5331701 & -3.2064921 &  0.0000000 &  0.0000000 & -0.7392045 &  0.00000000 &  0.0000000\\\\\n",
       "\tType\\_1\\_diabetes &  1.25229679 &  1.6202938 &  2.07627693 &  1.5179070 & -1.6752181 & -0.6804159 &  0.0000000 &  0.9188091 &  0.9029120 & -0.5174353 & -2.6486752 &  0.0000000 &  0.0000000 &  0.93113000 &  0.0000000\\\\\n",
       "\tAutoimmune\\_vitiligo &  2.51308289 &  1.3655552 &  1.31409587 &  0.8783528 &  1.7607671 &  2.5637350 & -0.8017630 & -1.0793436 &  1.3396148 &  0.0000000 &  1.9073338 &  0.0000000 &  0.0000000 & -2.46347655 &  0.0000000\\\\\n",
       "\tBasophil\\_count &  1.19247971 &  2.3131019 &  1.39221486 & -1.5216443 &  0.0000000 &  0.0000000 &  0.0000000 &  2.0462748 &  2.1956015 &  0.0000000 &  0.0000000 &  0.0000000 &  0.0000000 &  0.00000000 &  0.0000000\\\\\n",
       "\tSystemic\\_lupus\\_erythematosus &  0.00000000 & -1.9074000 &  0.00000000 & -1.3380766 & -0.6332232 &  0.0000000 & -0.1069537 &  2.0311125 &  1.0056693 &  0.1823280 &  0.0000000 &  0.0000000 &  0.5032087 &  0.10228707 &  0.0000000\\\\\n",
       "\tGout & -1.30443508 & -1.7008315 &  0.00000000 &  0.0000000 &  0.0000000 &  0.0000000 &  0.0000000 &  0.0000000 &  0.1433700 &  0.0000000 &  0.0000000 &  0.0000000 &  0.0000000 &  0.00000000 &  0.0000000\\\\\n",
       "\tAtopic\\_dermatitis & -1.27333896 & -0.8577988 &  0.00000000 &  0.0000000 &  0.0000000 &  1.8748070 &  0.0000000 &  0.0000000 &  1.9008353 &  4.3323851 &  0.0000000 &  0.0000000 &  0.0000000 & -0.80773304 &  0.0000000\\\\\n",
       "\tPrimary\\_sclerosing\\_cholangitis &  0.00000000 &  0.0000000 &  0.00000000 & -0.1294495 &  0.0000000 &  0.0000000 &  0.0000000 &  0.0000000 &  1.7222057 &  0.0000000 &  0.0000000 &  0.0000000 &  0.0000000 &  0.00000000 &  0.0000000\\\\\n",
       "\tSelective\\_IgA\\_deficiency &  0.00000000 &  0.0000000 &  0.00000000 &  0.0000000 &  0.0000000 &  0.0000000 &  0.0000000 &  0.0000000 & -0.6528188 &  0.0000000 &  0.0000000 &  0.0000000 &  0.0000000 &  0.00000000 &  0.0000000\\\\\n",
       "\\end{tabular}\n"
      ],
      "text/markdown": [
       "\n",
       "A matrix: 16 × 15 of type dbl\n",
       "\n",
       "| <!--/--> | naive_cd4_t | act_cd4_t | naive_cd8_t | cyto_cd8_t | mem_cd8_t | tReg | adaptive_NK | cyto_nk | cMono | ncMono | iMono | cDC | mem_b | naive_b | mkc |\n",
       "|---|---|---|---|---|---|---|---|---|---|---|---|---|---|---|---|\n",
       "| Monocyte_count | -3.60012874 |  1.2391766 | -2.96890879 | -0.7289019 | -2.8512349 | -1.6534208 |  0.0000000 | -4.5041606 |  1.0007816 |  0.4258095 |  0.0000000 | -2.0116908 | -1.6348490 | -3.26760630 |  1.1752220 |\n",
       "| Eosinophil_count |  1.77536940 |  2.0043113 |  0.01802934 | -0.5095369 |  0.2813570 |  0.6231183 |  0.0000000 | -0.3342661 | -0.7489404 | -2.8488269 |  0.0000000 |  0.0000000 |  0.0000000 |  0.06589922 |  0.0000000 |\n",
       "| Lymphocyte_count |  2.03223963 |  1.4994188 |  2.16015761 |  1.3525184 |  2.0510174 |  3.2244201 |  0.0000000 | -0.4282907 |  0.6300371 |  2.7852329 |  0.0000000 |  3.3086488 |  2.6420576 |  2.49008187 | -0.7110517 |\n",
       "| Asthma_child_onset | -0.59388761 |  1.3894306 | -0.02541565 |  1.9034175 |  2.3881408 |  1.2716449 |  0.0000000 |  0.3924459 |  1.2255258 | -0.9091417 |  0.0000000 |  0.4224073 |  3.2793533 | -2.80279922 |  0.0000000 |\n",
       "| Crohns_disease |  0.16981604 |  0.9483895 |  0.67495068 |  0.9640044 | -0.1156697 | -1.3154639 |  0.0000000 |  0.5458632 |  1.5894775 |  0.5199925 | -0.2811783 |  0.0000000 |  0.0000000 | -2.53745757 |  0.0000000 |\n",
       "| Neutrophil_count | -0.83481738 |  2.3699483 | -0.96676064 |  2.3121126 |  0.0000000 |  0.0000000 |  0.0000000 |  2.5532727 |  1.9078642 |  1.6861801 |  2.2788806 |  0.0000000 |  0.0000000 |  0.00000000 |  0.0000000 |\n",
       "| Ulcerative_colitis | -0.05451528 | -0.5980586 | -0.65556886 | -1.3863797 |  3.4831972 |  0.0000000 |  0.0000000 | -1.0281177 |  2.3756144 |  1.0851989 |  1.2124441 |  0.0000000 |  2.4568387 |  0.00000000 |  0.0000000 |\n",
       "| Rheumatoid_arthritis |  0.00000000 |  2.3368733 |  0.35885920 |  1.4794507 |  3.1600465 |  0.0000000 |  0.0000000 | -0.6131536 |  0.5331701 | -3.2064921 |  0.0000000 |  0.0000000 | -0.7392045 |  0.00000000 |  0.0000000 |\n",
       "| Type_1_diabetes |  1.25229679 |  1.6202938 |  2.07627693 |  1.5179070 | -1.6752181 | -0.6804159 |  0.0000000 |  0.9188091 |  0.9029120 | -0.5174353 | -2.6486752 |  0.0000000 |  0.0000000 |  0.93113000 |  0.0000000 |\n",
       "| Autoimmune_vitiligo |  2.51308289 |  1.3655552 |  1.31409587 |  0.8783528 |  1.7607671 |  2.5637350 | -0.8017630 | -1.0793436 |  1.3396148 |  0.0000000 |  1.9073338 |  0.0000000 |  0.0000000 | -2.46347655 |  0.0000000 |\n",
       "| Basophil_count |  1.19247971 |  2.3131019 |  1.39221486 | -1.5216443 |  0.0000000 |  0.0000000 |  0.0000000 |  2.0462748 |  2.1956015 |  0.0000000 |  0.0000000 |  0.0000000 |  0.0000000 |  0.00000000 |  0.0000000 |\n",
       "| Systemic_lupus_erythematosus |  0.00000000 | -1.9074000 |  0.00000000 | -1.3380766 | -0.6332232 |  0.0000000 | -0.1069537 |  2.0311125 |  1.0056693 |  0.1823280 |  0.0000000 |  0.0000000 |  0.5032087 |  0.10228707 |  0.0000000 |\n",
       "| Gout | -1.30443508 | -1.7008315 |  0.00000000 |  0.0000000 |  0.0000000 |  0.0000000 |  0.0000000 |  0.0000000 |  0.1433700 |  0.0000000 |  0.0000000 |  0.0000000 |  0.0000000 |  0.00000000 |  0.0000000 |\n",
       "| Atopic_dermatitis | -1.27333896 | -0.8577988 |  0.00000000 |  0.0000000 |  0.0000000 |  1.8748070 |  0.0000000 |  0.0000000 |  1.9008353 |  4.3323851 |  0.0000000 |  0.0000000 |  0.0000000 | -0.80773304 |  0.0000000 |\n",
       "| Primary_sclerosing_cholangitis |  0.00000000 |  0.0000000 |  0.00000000 | -0.1294495 |  0.0000000 |  0.0000000 |  0.0000000 |  0.0000000 |  1.7222057 |  0.0000000 |  0.0000000 |  0.0000000 |  0.0000000 |  0.00000000 |  0.0000000 |\n",
       "| Selective_IgA_deficiency |  0.00000000 |  0.0000000 |  0.00000000 |  0.0000000 |  0.0000000 |  0.0000000 |  0.0000000 |  0.0000000 | -0.6528188 |  0.0000000 |  0.0000000 |  0.0000000 |  0.0000000 |  0.00000000 |  0.0000000 |\n",
       "\n"
      ],
      "text/plain": [
       "                               naive_cd4_t act_cd4_t  naive_cd8_t cyto_cd8_t\n",
       "Monocyte_count                 -3.60012874  1.2391766 -2.96890879 -0.7289019\n",
       "Eosinophil_count                1.77536940  2.0043113  0.01802934 -0.5095369\n",
       "Lymphocyte_count                2.03223963  1.4994188  2.16015761  1.3525184\n",
       "Asthma_child_onset             -0.59388761  1.3894306 -0.02541565  1.9034175\n",
       "Crohns_disease                  0.16981604  0.9483895  0.67495068  0.9640044\n",
       "Neutrophil_count               -0.83481738  2.3699483 -0.96676064  2.3121126\n",
       "Ulcerative_colitis             -0.05451528 -0.5980586 -0.65556886 -1.3863797\n",
       "Rheumatoid_arthritis            0.00000000  2.3368733  0.35885920  1.4794507\n",
       "Type_1_diabetes                 1.25229679  1.6202938  2.07627693  1.5179070\n",
       "Autoimmune_vitiligo             2.51308289  1.3655552  1.31409587  0.8783528\n",
       "Basophil_count                  1.19247971  2.3131019  1.39221486 -1.5216443\n",
       "Systemic_lupus_erythematosus    0.00000000 -1.9074000  0.00000000 -1.3380766\n",
       "Gout                           -1.30443508 -1.7008315  0.00000000  0.0000000\n",
       "Atopic_dermatitis              -1.27333896 -0.8577988  0.00000000  0.0000000\n",
       "Primary_sclerosing_cholangitis  0.00000000  0.0000000  0.00000000 -0.1294495\n",
       "Selective_IgA_deficiency        0.00000000  0.0000000  0.00000000  0.0000000\n",
       "                               mem_cd8_t  tReg       adaptive_NK cyto_nk   \n",
       "Monocyte_count                 -2.8512349 -1.6534208  0.0000000  -4.5041606\n",
       "Eosinophil_count                0.2813570  0.6231183  0.0000000  -0.3342661\n",
       "Lymphocyte_count                2.0510174  3.2244201  0.0000000  -0.4282907\n",
       "Asthma_child_onset              2.3881408  1.2716449  0.0000000   0.3924459\n",
       "Crohns_disease                 -0.1156697 -1.3154639  0.0000000   0.5458632\n",
       "Neutrophil_count                0.0000000  0.0000000  0.0000000   2.5532727\n",
       "Ulcerative_colitis              3.4831972  0.0000000  0.0000000  -1.0281177\n",
       "Rheumatoid_arthritis            3.1600465  0.0000000  0.0000000  -0.6131536\n",
       "Type_1_diabetes                -1.6752181 -0.6804159  0.0000000   0.9188091\n",
       "Autoimmune_vitiligo             1.7607671  2.5637350 -0.8017630  -1.0793436\n",
       "Basophil_count                  0.0000000  0.0000000  0.0000000   2.0462748\n",
       "Systemic_lupus_erythematosus   -0.6332232  0.0000000 -0.1069537   2.0311125\n",
       "Gout                            0.0000000  0.0000000  0.0000000   0.0000000\n",
       "Atopic_dermatitis               0.0000000  1.8748070  0.0000000   0.0000000\n",
       "Primary_sclerosing_cholangitis  0.0000000  0.0000000  0.0000000   0.0000000\n",
       "Selective_IgA_deficiency        0.0000000  0.0000000  0.0000000   0.0000000\n",
       "                               cMono      ncMono     iMono      cDC       \n",
       "Monocyte_count                  1.0007816  0.4258095  0.0000000 -2.0116908\n",
       "Eosinophil_count               -0.7489404 -2.8488269  0.0000000  0.0000000\n",
       "Lymphocyte_count                0.6300371  2.7852329  0.0000000  3.3086488\n",
       "Asthma_child_onset              1.2255258 -0.9091417  0.0000000  0.4224073\n",
       "Crohns_disease                  1.5894775  0.5199925 -0.2811783  0.0000000\n",
       "Neutrophil_count                1.9078642  1.6861801  2.2788806  0.0000000\n",
       "Ulcerative_colitis              2.3756144  1.0851989  1.2124441  0.0000000\n",
       "Rheumatoid_arthritis            0.5331701 -3.2064921  0.0000000  0.0000000\n",
       "Type_1_diabetes                 0.9029120 -0.5174353 -2.6486752  0.0000000\n",
       "Autoimmune_vitiligo             1.3396148  0.0000000  1.9073338  0.0000000\n",
       "Basophil_count                  2.1956015  0.0000000  0.0000000  0.0000000\n",
       "Systemic_lupus_erythematosus    1.0056693  0.1823280  0.0000000  0.0000000\n",
       "Gout                            0.1433700  0.0000000  0.0000000  0.0000000\n",
       "Atopic_dermatitis               1.9008353  4.3323851  0.0000000  0.0000000\n",
       "Primary_sclerosing_cholangitis  1.7222057  0.0000000  0.0000000  0.0000000\n",
       "Selective_IgA_deficiency       -0.6528188  0.0000000  0.0000000  0.0000000\n",
       "                               mem_b      naive_b     mkc       \n",
       "Monocyte_count                 -1.6348490 -3.26760630  1.1752220\n",
       "Eosinophil_count                0.0000000  0.06589922  0.0000000\n",
       "Lymphocyte_count                2.6420576  2.49008187 -0.7110517\n",
       "Asthma_child_onset              3.2793533 -2.80279922  0.0000000\n",
       "Crohns_disease                  0.0000000 -2.53745757  0.0000000\n",
       "Neutrophil_count                0.0000000  0.00000000  0.0000000\n",
       "Ulcerative_colitis              2.4568387  0.00000000  0.0000000\n",
       "Rheumatoid_arthritis           -0.7392045  0.00000000  0.0000000\n",
       "Type_1_diabetes                 0.0000000  0.93113000  0.0000000\n",
       "Autoimmune_vitiligo             0.0000000 -2.46347655  0.0000000\n",
       "Basophil_count                  0.0000000  0.00000000  0.0000000\n",
       "Systemic_lupus_erythematosus    0.5032087  0.10228707  0.0000000\n",
       "Gout                            0.0000000  0.00000000  0.0000000\n",
       "Atopic_dermatitis               0.0000000 -0.80773304  0.0000000\n",
       "Primary_sclerosing_cholangitis  0.0000000  0.00000000  0.0000000\n",
       "Selective_IgA_deficiency        0.0000000  0.00000000  0.0000000"
      ]
     },
     "metadata": {},
     "output_type": "display_data"
    }
   ],
   "source": [
    "as.matrix(or[traits,micro])"
   ]
  },
  {
   "cell_type": "code",
   "execution_count": 31,
   "metadata": {},
   "outputs": [
    {
     "data": {
      "text/html": [
       "<table class=\"dataframe\">\n",
       "<caption>A matrix: 16 × 15 of type dbl</caption>\n",
       "<thead>\n",
       "\t<tr><th></th><th scope=col>naive_cd4_t</th><th scope=col>act_cd4_t</th><th scope=col>naive_cd8_t</th><th scope=col>cyto_cd8_t</th><th scope=col>mem_cd8_t</th><th scope=col>tReg</th><th scope=col>adaptive_NK</th><th scope=col>cyto_nk</th><th scope=col>cMono</th><th scope=col>ncMono</th><th scope=col>iMono</th><th scope=col>cDC</th><th scope=col>mem_b</th><th scope=col>naive_b</th><th scope=col>mkc</th></tr>\n",
       "</thead>\n",
       "<tbody>\n",
       "\t<tr><th scope=row>Monocyte_count</th><td>0.6992</td><td>0.0596</td><td>0.4547</td><td>0.3892</td><td>0.4006</td><td>0.1589</td><td>1.0000</td><td>0.8299</td><td>0.0608</td><td>0.2257</td><td>1.0000</td><td>0.1998</td><td>0.2468</td><td>0.5385</td><td>0.0598</td></tr>\n",
       "\t<tr><th scope=row>Eosinophil_count</th><td>0.0283</td><td>0.0029</td><td>0.2240</td><td>0.3886</td><td>0.1918</td><td>0.0996</td><td>1.0000</td><td>0.3803</td><td>0.6232</td><td>0.5694</td><td>1.0000</td><td>1.0000</td><td>1.0000</td><td>0.2468</td><td>1.0000</td></tr>\n",
       "\t<tr><th scope=row>Lymphocyte_count</th><td>0.0130</td><td>0.0168</td><td>0.0137</td><td>0.0515</td><td>0.0184</td><td>0.0045</td><td>1.0000</td><td>0.3924</td><td>0.1559</td><td>0.0023</td><td>1.0000</td><td>0.0157</td><td>0.0098</td><td>0.0127</td><td>0.0732</td></tr>\n",
       "\t<tr><th scope=row>Asthma_child_onset</th><td>0.3239</td><td>0.0540</td><td>0.1665</td><td>0.0283</td><td>0.0168</td><td>0.0648</td><td>1.0000</td><td>0.1925</td><td>0.0623</td><td>0.2723</td><td>1.0000</td><td>0.0705</td><td>0.0057</td><td>0.5357</td><td>1.0000</td></tr>\n",
       "\t<tr><th scope=row>Crohns_disease</th><td>0.2314</td><td>0.1131</td><td>0.1389</td><td>0.1288</td><td>0.2014</td><td>0.1921</td><td>1.0000</td><td>0.1889</td><td>0.0067</td><td>0.1599</td><td>0.0906</td><td>1.0000</td><td>1.0000</td><td>0.6009</td><td>1.0000</td></tr>\n",
       "\t<tr><th scope=row>Neutrophil_count</th><td>0.3099</td><td>0.0034</td><td>0.2342</td><td>0.0201</td><td>1.0000</td><td>1.0000</td><td>1.0000</td><td>0.0040</td><td>0.0024</td><td>0.0627</td><td>0.0193</td><td>1.0000</td><td>1.0000</td><td>1.0000</td><td>1.0000</td></tr>\n",
       "\t<tr><th scope=row>Ulcerative_colitis</th><td>0.2453</td><td>0.4422</td><td>0.2405</td><td>0.4701</td><td>0.0072</td><td>1.0000</td><td>1.0000</td><td>0.4174</td><td>0.0008</td><td>0.0871</td><td>0.0367</td><td>1.0000</td><td>0.0252</td><td>1.0000</td><td>1.0000</td></tr>\n",
       "\t<tr><th scope=row>Rheumatoid_arthritis</th><td>1.0000</td><td>0.0016</td><td>0.1527</td><td>0.0778</td><td>0.0009</td><td>1.0000</td><td>1.0000</td><td>0.3131</td><td>0.2218</td><td>0.3391</td><td>1.0000</td><td>1.0000</td><td>0.1427</td><td>1.0000</td><td>1.0000</td></tr>\n",
       "\t<tr><th scope=row>Type_1_diabetes</th><td>0.0882</td><td>0.0176</td><td>0.0309</td><td>0.0647</td><td>0.4345</td><td>0.1604</td><td>1.0000</td><td>0.1164</td><td>0.1091</td><td>0.2861</td><td>0.1356</td><td>1.0000</td><td>1.0000</td><td>0.0996</td><td>1.0000</td></tr>\n",
       "\t<tr><th scope=row>Autoimmune_vitiligo</th><td>0.0174</td><td>0.0692</td><td>0.0537</td><td>0.1049</td><td>0.0286</td><td>0.0132</td><td>0.0752</td><td>0.4254</td><td>0.0637</td><td>1.0000</td><td>0.0269</td><td>1.0000</td><td>1.0000</td><td>0.4641</td><td>1.0000</td></tr>\n",
       "\t<tr><th scope=row>Basophil_count</th><td>0.0855</td><td>0.0227</td><td>0.0469</td><td>0.2531</td><td>1.0000</td><td>1.0000</td><td>1.0000</td><td>0.0386</td><td>0.0084</td><td>1.0000</td><td>1.0000</td><td>1.0000</td><td>1.0000</td><td>1.0000</td><td>1.0000</td></tr>\n",
       "\t<tr><th scope=row>Systemic_lupus_erythematosus</th><td>1.0000</td><td>0.6840</td><td>1.0000</td><td>0.4555</td><td>0.2419</td><td>1.0000</td><td>0.0863</td><td>0.0183</td><td>0.0924</td><td>0.1887</td><td>1.0000</td><td>1.0000</td><td>0.1462</td><td>0.2142</td><td>1.0000</td></tr>\n",
       "\t<tr><th scope=row>Gout</th><td>0.2681</td><td>0.3609</td><td>1.0000</td><td>1.0000</td><td>1.0000</td><td>1.0000</td><td>1.0000</td><td>1.0000</td><td>0.1471</td><td>1.0000</td><td>1.0000</td><td>1.0000</td><td>1.0000</td><td>1.0000</td><td>1.0000</td></tr>\n",
       "\t<tr><th scope=row>Atopic_dermatitis</th><td>0.3339</td><td>0.3899</td><td>1.0000</td><td>1.0000</td><td>1.0000</td><td>0.0406</td><td>1.0000</td><td>1.0000</td><td>0.0482</td><td>0.0001</td><td>1.0000</td><td>1.0000</td><td>1.0000</td><td>0.1940</td><td>1.0000</td></tr>\n",
       "\t<tr><th scope=row>Primary_sclerosing_cholangitis</th><td>1.0000</td><td>1.0000</td><td>1.0000</td><td>0.1014</td><td>1.0000</td><td>1.0000</td><td>1.0000</td><td>1.0000</td><td>0.0550</td><td>1.0000</td><td>1.0000</td><td>1.0000</td><td>1.0000</td><td>1.0000</td><td>1.0000</td></tr>\n",
       "\t<tr><th scope=row>Selective_IgA_deficiency</th><td>1.0000</td><td>1.0000</td><td>1.0000</td><td>1.0000</td><td>1.0000</td><td>1.0000</td><td>1.0000</td><td>1.0000</td><td>0.2562</td><td>1.0000</td><td>1.0000</td><td>1.0000</td><td>1.0000</td><td>1.0000</td><td>1.0000</td></tr>\n",
       "</tbody>\n",
       "</table>\n"
      ],
      "text/latex": [
       "A matrix: 16 × 15 of type dbl\n",
       "\\begin{tabular}{r|lllllllllllllll}\n",
       "  & naive\\_cd4\\_t & act\\_cd4\\_t & naive\\_cd8\\_t & cyto\\_cd8\\_t & mem\\_cd8\\_t & tReg & adaptive\\_NK & cyto\\_nk & cMono & ncMono & iMono & cDC & mem\\_b & naive\\_b & mkc\\\\\n",
       "\\hline\n",
       "\tMonocyte\\_count & 0.6992 & 0.0596 & 0.4547 & 0.3892 & 0.4006 & 0.1589 & 1.0000 & 0.8299 & 0.0608 & 0.2257 & 1.0000 & 0.1998 & 0.2468 & 0.5385 & 0.0598\\\\\n",
       "\tEosinophil\\_count & 0.0283 & 0.0029 & 0.2240 & 0.3886 & 0.1918 & 0.0996 & 1.0000 & 0.3803 & 0.6232 & 0.5694 & 1.0000 & 1.0000 & 1.0000 & 0.2468 & 1.0000\\\\\n",
       "\tLymphocyte\\_count & 0.0130 & 0.0168 & 0.0137 & 0.0515 & 0.0184 & 0.0045 & 1.0000 & 0.3924 & 0.1559 & 0.0023 & 1.0000 & 0.0157 & 0.0098 & 0.0127 & 0.0732\\\\\n",
       "\tAsthma\\_child\\_onset & 0.3239 & 0.0540 & 0.1665 & 0.0283 & 0.0168 & 0.0648 & 1.0000 & 0.1925 & 0.0623 & 0.2723 & 1.0000 & 0.0705 & 0.0057 & 0.5357 & 1.0000\\\\\n",
       "\tCrohns\\_disease & 0.2314 & 0.1131 & 0.1389 & 0.1288 & 0.2014 & 0.1921 & 1.0000 & 0.1889 & 0.0067 & 0.1599 & 0.0906 & 1.0000 & 1.0000 & 0.6009 & 1.0000\\\\\n",
       "\tNeutrophil\\_count & 0.3099 & 0.0034 & 0.2342 & 0.0201 & 1.0000 & 1.0000 & 1.0000 & 0.0040 & 0.0024 & 0.0627 & 0.0193 & 1.0000 & 1.0000 & 1.0000 & 1.0000\\\\\n",
       "\tUlcerative\\_colitis & 0.2453 & 0.4422 & 0.2405 & 0.4701 & 0.0072 & 1.0000 & 1.0000 & 0.4174 & 0.0008 & 0.0871 & 0.0367 & 1.0000 & 0.0252 & 1.0000 & 1.0000\\\\\n",
       "\tRheumatoid\\_arthritis & 1.0000 & 0.0016 & 0.1527 & 0.0778 & 0.0009 & 1.0000 & 1.0000 & 0.3131 & 0.2218 & 0.3391 & 1.0000 & 1.0000 & 0.1427 & 1.0000 & 1.0000\\\\\n",
       "\tType\\_1\\_diabetes & 0.0882 & 0.0176 & 0.0309 & 0.0647 & 0.4345 & 0.1604 & 1.0000 & 0.1164 & 0.1091 & 0.2861 & 0.1356 & 1.0000 & 1.0000 & 0.0996 & 1.0000\\\\\n",
       "\tAutoimmune\\_vitiligo & 0.0174 & 0.0692 & 0.0537 & 0.1049 & 0.0286 & 0.0132 & 0.0752 & 0.4254 & 0.0637 & 1.0000 & 0.0269 & 1.0000 & 1.0000 & 0.4641 & 1.0000\\\\\n",
       "\tBasophil\\_count & 0.0855 & 0.0227 & 0.0469 & 0.2531 & 1.0000 & 1.0000 & 1.0000 & 0.0386 & 0.0084 & 1.0000 & 1.0000 & 1.0000 & 1.0000 & 1.0000 & 1.0000\\\\\n",
       "\tSystemic\\_lupus\\_erythematosus & 1.0000 & 0.6840 & 1.0000 & 0.4555 & 0.2419 & 1.0000 & 0.0863 & 0.0183 & 0.0924 & 0.1887 & 1.0000 & 1.0000 & 0.1462 & 0.2142 & 1.0000\\\\\n",
       "\tGout & 0.2681 & 0.3609 & 1.0000 & 1.0000 & 1.0000 & 1.0000 & 1.0000 & 1.0000 & 0.1471 & 1.0000 & 1.0000 & 1.0000 & 1.0000 & 1.0000 & 1.0000\\\\\n",
       "\tAtopic\\_dermatitis & 0.3339 & 0.3899 & 1.0000 & 1.0000 & 1.0000 & 0.0406 & 1.0000 & 1.0000 & 0.0482 & 0.0001 & 1.0000 & 1.0000 & 1.0000 & 0.1940 & 1.0000\\\\\n",
       "\tPrimary\\_sclerosing\\_cholangitis & 1.0000 & 1.0000 & 1.0000 & 0.1014 & 1.0000 & 1.0000 & 1.0000 & 1.0000 & 0.0550 & 1.0000 & 1.0000 & 1.0000 & 1.0000 & 1.0000 & 1.0000\\\\\n",
       "\tSelective\\_IgA\\_deficiency & 1.0000 & 1.0000 & 1.0000 & 1.0000 & 1.0000 & 1.0000 & 1.0000 & 1.0000 & 0.2562 & 1.0000 & 1.0000 & 1.0000 & 1.0000 & 1.0000 & 1.0000\\\\\n",
       "\\end{tabular}\n"
      ],
      "text/markdown": [
       "\n",
       "A matrix: 16 × 15 of type dbl\n",
       "\n",
       "| <!--/--> | naive_cd4_t | act_cd4_t | naive_cd8_t | cyto_cd8_t | mem_cd8_t | tReg | adaptive_NK | cyto_nk | cMono | ncMono | iMono | cDC | mem_b | naive_b | mkc |\n",
       "|---|---|---|---|---|---|---|---|---|---|---|---|---|---|---|---|\n",
       "| Monocyte_count | 0.6992 | 0.0596 | 0.4547 | 0.3892 | 0.4006 | 0.1589 | 1.0000 | 0.8299 | 0.0608 | 0.2257 | 1.0000 | 0.1998 | 0.2468 | 0.5385 | 0.0598 |\n",
       "| Eosinophil_count | 0.0283 | 0.0029 | 0.2240 | 0.3886 | 0.1918 | 0.0996 | 1.0000 | 0.3803 | 0.6232 | 0.5694 | 1.0000 | 1.0000 | 1.0000 | 0.2468 | 1.0000 |\n",
       "| Lymphocyte_count | 0.0130 | 0.0168 | 0.0137 | 0.0515 | 0.0184 | 0.0045 | 1.0000 | 0.3924 | 0.1559 | 0.0023 | 1.0000 | 0.0157 | 0.0098 | 0.0127 | 0.0732 |\n",
       "| Asthma_child_onset | 0.3239 | 0.0540 | 0.1665 | 0.0283 | 0.0168 | 0.0648 | 1.0000 | 0.1925 | 0.0623 | 0.2723 | 1.0000 | 0.0705 | 0.0057 | 0.5357 | 1.0000 |\n",
       "| Crohns_disease | 0.2314 | 0.1131 | 0.1389 | 0.1288 | 0.2014 | 0.1921 | 1.0000 | 0.1889 | 0.0067 | 0.1599 | 0.0906 | 1.0000 | 1.0000 | 0.6009 | 1.0000 |\n",
       "| Neutrophil_count | 0.3099 | 0.0034 | 0.2342 | 0.0201 | 1.0000 | 1.0000 | 1.0000 | 0.0040 | 0.0024 | 0.0627 | 0.0193 | 1.0000 | 1.0000 | 1.0000 | 1.0000 |\n",
       "| Ulcerative_colitis | 0.2453 | 0.4422 | 0.2405 | 0.4701 | 0.0072 | 1.0000 | 1.0000 | 0.4174 | 0.0008 | 0.0871 | 0.0367 | 1.0000 | 0.0252 | 1.0000 | 1.0000 |\n",
       "| Rheumatoid_arthritis | 1.0000 | 0.0016 | 0.1527 | 0.0778 | 0.0009 | 1.0000 | 1.0000 | 0.3131 | 0.2218 | 0.3391 | 1.0000 | 1.0000 | 0.1427 | 1.0000 | 1.0000 |\n",
       "| Type_1_diabetes | 0.0882 | 0.0176 | 0.0309 | 0.0647 | 0.4345 | 0.1604 | 1.0000 | 0.1164 | 0.1091 | 0.2861 | 0.1356 | 1.0000 | 1.0000 | 0.0996 | 1.0000 |\n",
       "| Autoimmune_vitiligo | 0.0174 | 0.0692 | 0.0537 | 0.1049 | 0.0286 | 0.0132 | 0.0752 | 0.4254 | 0.0637 | 1.0000 | 0.0269 | 1.0000 | 1.0000 | 0.4641 | 1.0000 |\n",
       "| Basophil_count | 0.0855 | 0.0227 | 0.0469 | 0.2531 | 1.0000 | 1.0000 | 1.0000 | 0.0386 | 0.0084 | 1.0000 | 1.0000 | 1.0000 | 1.0000 | 1.0000 | 1.0000 |\n",
       "| Systemic_lupus_erythematosus | 1.0000 | 0.6840 | 1.0000 | 0.4555 | 0.2419 | 1.0000 | 0.0863 | 0.0183 | 0.0924 | 0.1887 | 1.0000 | 1.0000 | 0.1462 | 0.2142 | 1.0000 |\n",
       "| Gout | 0.2681 | 0.3609 | 1.0000 | 1.0000 | 1.0000 | 1.0000 | 1.0000 | 1.0000 | 0.1471 | 1.0000 | 1.0000 | 1.0000 | 1.0000 | 1.0000 | 1.0000 |\n",
       "| Atopic_dermatitis | 0.3339 | 0.3899 | 1.0000 | 1.0000 | 1.0000 | 0.0406 | 1.0000 | 1.0000 | 0.0482 | 0.0001 | 1.0000 | 1.0000 | 1.0000 | 0.1940 | 1.0000 |\n",
       "| Primary_sclerosing_cholangitis | 1.0000 | 1.0000 | 1.0000 | 0.1014 | 1.0000 | 1.0000 | 1.0000 | 1.0000 | 0.0550 | 1.0000 | 1.0000 | 1.0000 | 1.0000 | 1.0000 | 1.0000 |\n",
       "| Selective_IgA_deficiency | 1.0000 | 1.0000 | 1.0000 | 1.0000 | 1.0000 | 1.0000 | 1.0000 | 1.0000 | 0.2562 | 1.0000 | 1.0000 | 1.0000 | 1.0000 | 1.0000 | 1.0000 |\n",
       "\n"
      ],
      "text/plain": [
       "                               naive_cd4_t act_cd4_t naive_cd8_t cyto_cd8_t\n",
       "Monocyte_count                 0.6992      0.0596    0.4547      0.3892    \n",
       "Eosinophil_count               0.0283      0.0029    0.2240      0.3886    \n",
       "Lymphocyte_count               0.0130      0.0168    0.0137      0.0515    \n",
       "Asthma_child_onset             0.3239      0.0540    0.1665      0.0283    \n",
       "Crohns_disease                 0.2314      0.1131    0.1389      0.1288    \n",
       "Neutrophil_count               0.3099      0.0034    0.2342      0.0201    \n",
       "Ulcerative_colitis             0.2453      0.4422    0.2405      0.4701    \n",
       "Rheumatoid_arthritis           1.0000      0.0016    0.1527      0.0778    \n",
       "Type_1_diabetes                0.0882      0.0176    0.0309      0.0647    \n",
       "Autoimmune_vitiligo            0.0174      0.0692    0.0537      0.1049    \n",
       "Basophil_count                 0.0855      0.0227    0.0469      0.2531    \n",
       "Systemic_lupus_erythematosus   1.0000      0.6840    1.0000      0.4555    \n",
       "Gout                           0.2681      0.3609    1.0000      1.0000    \n",
       "Atopic_dermatitis              0.3339      0.3899    1.0000      1.0000    \n",
       "Primary_sclerosing_cholangitis 1.0000      1.0000    1.0000      0.1014    \n",
       "Selective_IgA_deficiency       1.0000      1.0000    1.0000      1.0000    \n",
       "                               mem_cd8_t tReg   adaptive_NK cyto_nk cMono \n",
       "Monocyte_count                 0.4006    0.1589 1.0000      0.8299  0.0608\n",
       "Eosinophil_count               0.1918    0.0996 1.0000      0.3803  0.6232\n",
       "Lymphocyte_count               0.0184    0.0045 1.0000      0.3924  0.1559\n",
       "Asthma_child_onset             0.0168    0.0648 1.0000      0.1925  0.0623\n",
       "Crohns_disease                 0.2014    0.1921 1.0000      0.1889  0.0067\n",
       "Neutrophil_count               1.0000    1.0000 1.0000      0.0040  0.0024\n",
       "Ulcerative_colitis             0.0072    1.0000 1.0000      0.4174  0.0008\n",
       "Rheumatoid_arthritis           0.0009    1.0000 1.0000      0.3131  0.2218\n",
       "Type_1_diabetes                0.4345    0.1604 1.0000      0.1164  0.1091\n",
       "Autoimmune_vitiligo            0.0286    0.0132 0.0752      0.4254  0.0637\n",
       "Basophil_count                 1.0000    1.0000 1.0000      0.0386  0.0084\n",
       "Systemic_lupus_erythematosus   0.2419    1.0000 0.0863      0.0183  0.0924\n",
       "Gout                           1.0000    1.0000 1.0000      1.0000  0.1471\n",
       "Atopic_dermatitis              1.0000    0.0406 1.0000      1.0000  0.0482\n",
       "Primary_sclerosing_cholangitis 1.0000    1.0000 1.0000      1.0000  0.0550\n",
       "Selective_IgA_deficiency       1.0000    1.0000 1.0000      1.0000  0.2562\n",
       "                               ncMono iMono  cDC    mem_b  naive_b mkc   \n",
       "Monocyte_count                 0.2257 1.0000 0.1998 0.2468 0.5385  0.0598\n",
       "Eosinophil_count               0.5694 1.0000 1.0000 1.0000 0.2468  1.0000\n",
       "Lymphocyte_count               0.0023 1.0000 0.0157 0.0098 0.0127  0.0732\n",
       "Asthma_child_onset             0.2723 1.0000 0.0705 0.0057 0.5357  1.0000\n",
       "Crohns_disease                 0.1599 0.0906 1.0000 1.0000 0.6009  1.0000\n",
       "Neutrophil_count               0.0627 0.0193 1.0000 1.0000 1.0000  1.0000\n",
       "Ulcerative_colitis             0.0871 0.0367 1.0000 0.0252 1.0000  1.0000\n",
       "Rheumatoid_arthritis           0.3391 1.0000 1.0000 0.1427 1.0000  1.0000\n",
       "Type_1_diabetes                0.2861 0.1356 1.0000 1.0000 0.0996  1.0000\n",
       "Autoimmune_vitiligo            1.0000 0.0269 1.0000 1.0000 0.4641  1.0000\n",
       "Basophil_count                 1.0000 1.0000 1.0000 1.0000 1.0000  1.0000\n",
       "Systemic_lupus_erythematosus   0.1887 1.0000 1.0000 0.1462 0.2142  1.0000\n",
       "Gout                           1.0000 1.0000 1.0000 1.0000 1.0000  1.0000\n",
       "Atopic_dermatitis              0.0001 1.0000 1.0000 1.0000 0.1940  1.0000\n",
       "Primary_sclerosing_cholangitis 1.0000 1.0000 1.0000 1.0000 1.0000  1.0000\n",
       "Selective_IgA_deficiency       1.0000 1.0000 1.0000 1.0000 1.0000  1.0000"
      ]
     },
     "metadata": {},
     "output_type": "display_data"
    }
   ],
   "source": [
    "as.matrix(pv[traits,micro])"
   ]
  },
  {
   "cell_type": "code",
   "execution_count": null,
   "metadata": {},
   "outputs": [],
   "source": []
  }
 ],
 "metadata": {
  "kernelspec": {
   "display_name": "R 4.1",
   "language": "R",
   "name": "ir41"
  },
  "language_info": {
   "codemirror_mode": "r",
   "file_extension": ".r",
   "mimetype": "text/x-r-source",
   "name": "R",
   "pygments_lexer": "r",
   "version": "4.1.1"
  }
 },
 "nbformat": 4,
 "nbformat_minor": 4
}
