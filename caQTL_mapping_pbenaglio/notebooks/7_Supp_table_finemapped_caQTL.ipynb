{
 "cells": [
  {
   "cell_type": "code",
   "execution_count": 110,
   "id": "5cbed2ea",
   "metadata": {},
   "outputs": [],
   "source": [
    "library(stringr)\n",
    "library(scales)\n",
    "library(RColorBrewer)"
   ]
  },
  {
   "cell_type": "code",
   "execution_count": 111,
   "id": "ef643fd4",
   "metadata": {},
   "outputs": [],
   "source": [
    "traits = c( 'Asthma_child_onset.99credset.PPA.bed',\n",
    "            'Atopic_dermatitis.99credset.PPA.bed',\n",
    "            'Autoimmune_vitiligo.99credset.PPA.bed',\n",
    "            'Basophil_count.99credset.PPA.bed',\n",
    "            'Crohns_disease.99credset.PPA.bed',\n",
    "            'Eosinophil_count.99credset.PPA.bed',\n",
    "            'Gout.99credset.PPA.bed',\n",
    "            'Lymphocyte_count.99credset.PPA.bed',\n",
    "            'Monocyte_count.99credset.PPA.bed',\n",
    "            'Neutrophil_count.99credset.PPA.bed',\n",
    "            'Primary_sclerosing_cholangitis.99credset.PPA.bed',\n",
    "            'Rheumatoid_arthritis.99credset.PPA.bed',\n",
    "            'Selective_IgA_deficiency.99credset.PPA.bed',\n",
    "            'Systemic_lupus_erythematosus.99credset.PPA.bed',\n",
    "            'Type_1_diabetes.99credset.PPA.bed',\n",
    "            'Ulcerative_colitis.99credset.PPA.bed')"
   ]
  },
  {
   "cell_type": "code",
   "execution_count": 112,
   "id": "18e3913c",
   "metadata": {},
   "outputs": [],
   "source": [
    "fmdir = '/nfs/lab/projects/pbmc_snATAC/data/credible_sets/'"
   ]
  },
  {
   "cell_type": "code",
   "execution_count": 113,
   "id": "389e3acc",
   "metadata": {},
   "outputs": [],
   "source": [
    "alltraits = data.frame()\n",
    "for (i in 1: length(traits)){\n",
    "\n",
    "fm = read.table(paste0(fmdir, traits[i] ))[,4:7]\n",
    "colnames(fm) = c(\"varID\", \"Locus\", \"LNBF\", \"PPA\")\n",
    " fm$Trait =  str_split_fixed(traits[i], \"\\\\.\", 2)[,1]\n",
    " alltraits = rbind(alltraits, fm)\n",
    "    }\n",
    "    "
   ]
  },
  {
   "cell_type": "code",
   "execution_count": 114,
   "id": "339c8f5d",
   "metadata": {},
   "outputs": [],
   "source": [
    "caqdir = '/nfs/lab/projects/pbmc_snATAC/analysis_v2/summarized_caqtls/run3/'\n",
    "files  = list.files(caqdir)[grepl ('_caqtl_sumstats_run3.tsv', list.files(caqdir))] \n",
    "files = files[!(files %in% c('cd4_t_caqtl_sumstats_run3.tsv', 'cd8_t_caqtl_sumstats_run3.tsv', \"bulk_caqtl_sumstats_run3.tsv\"))]\n",
    "cells  = gsub( '_caqtl_sumstats_run3.tsv', \"\" , files)"
   ]
  },
  {
   "cell_type": "code",
   "execution_count": 115,
   "id": "09db8432",
   "metadata": {},
   "outputs": [],
   "source": [
    "colkeep = c('Feature','varID', 'rsID', 'P_value', 'Q_value' ,'Effect_size' ,'cell', \"exclude\" )"
   ]
  },
  {
   "cell_type": "code",
   "execution_count": 116,
   "id": "23e50450",
   "metadata": {},
   "outputs": [],
   "source": [
    "M= data.frame()\n",
    "for (y in 1:length(files)){\n",
    "\n",
    "sms = read.table(paste0(caqdir, files[y]), header=T)\n",
    "sss = subset(sms, Is_peak_caQTL==T )\n",
    "sss = sss[order(sss$Q_value),]\n",
    "ag  = aggregate(Q_value~Feature, sss, min)\n",
    "mm  = merge (sss, ag, by= colnames(ag))\n",
    "mm$cell = cells[y]\n",
    "M    = rbind(M, mm[,colkeep])\n",
    "}"
   ]
  },
  {
   "cell_type": "code",
   "execution_count": 117,
   "id": "d667d016",
   "metadata": {},
   "outputs": [],
   "source": [
    "allcaq = subset(alltraits,varID %in% c(substring(M$varID,4), as.character(M$rsID)) ) \n",
    "## this is only bc the t1d from tony had rsids"
   ]
  },
  {
   "cell_type": "code",
   "execution_count": 118,
   "id": "74f592a1",
   "metadata": {},
   "outputs": [],
   "source": [
    "allcaq = subset(allcaq, PPA >0.01)"
   ]
  },
  {
   "cell_type": "code",
   "execution_count": 119,
   "id": "629e9a4a",
   "metadata": {},
   "outputs": [],
   "source": [
    "M$varID= substring(M$varID,4)"
   ]
  },
  {
   "cell_type": "code",
   "execution_count": 120,
   "id": "4999028b",
   "metadata": {},
   "outputs": [],
   "source": [
    "mm    = merge(allcaq, M, by=\"varID\")\n",
    "mmt1d = merge( M, allcaq, by.y=\"varID\", by.x=\"rsID\")\n",
    "\n",
    "mm = rbind (mm, mmt1d)\n",
    "mm = mm[!duplicated(mm),]"
   ]
  },
  {
   "cell_type": "code",
   "execution_count": 121,
   "id": "318a8529",
   "metadata": {},
   "outputs": [],
   "source": [
    "bed = str_split_fixed(mm$Feature, \":|-\", 3)"
   ]
  },
  {
   "cell_type": "code",
   "execution_count": 122,
   "id": "7963ddff",
   "metadata": {},
   "outputs": [],
   "source": [
    "bed= bed[!duplicated(bed),]"
   ]
  },
  {
   "cell_type": "code",
   "execution_count": 123,
   "id": "014065e2",
   "metadata": {},
   "outputs": [],
   "source": [
    "setwd(\"/nfs/lab/projects/pbmc_snATAC/analysis_v2/\")"
   ]
  },
  {
   "cell_type": "code",
   "execution_count": 124,
   "id": "5f015ab0",
   "metadata": {},
   "outputs": [],
   "source": [
    "write.table(bed, \"summarized_caqtls/finemapped_variants.bed\", quote=F, sep=\"\\t\", row.names=F, col.names=F)"
   ]
  },
  {
   "cell_type": "code",
   "execution_count": 126,
   "id": "d4c15f9e",
   "metadata": {},
   "outputs": [],
   "source": [
    "system(\"sort -k 1,1 -k2,2n summarized_caqtls/finemapped_variants.bed > summarized_caqtls/finemapped_variants.sorted.bed\")\n",
    "system('bedtools closest -a summarized_caqtls/finemapped_variants.sorted.bed -b /nfs/lab/publicdata/gencode_v19/gencode.v19.1kb_all_possible_transcripts.sorted.bed -d > summarized_caqtls/clostest_gene.bed')"
   ]
  },
  {
   "cell_type": "code",
   "execution_count": 127,
   "id": "b99f5de5",
   "metadata": {},
   "outputs": [],
   "source": [
    "cg = read.table(\"summarized_caqtls/clostest_gene.bed\")\n",
    "cg$Feature = paste0(cg[,1], \":\",cg[,2], \"-\",cg[,3] )\n",
    "cg = cg[order(cg$V8),]\n",
    "cg = cg [!duplicated(cg[,7:9]),7:9]\n",
    "cg$ClosestGene_Distance = paste(cg[,1], cg[,2], sep=\"_\")\n",
    "ag= aggregate(ClosestGene_Distance~Feature, cg, paste, collapse=\";\")"
   ]
  },
  {
   "cell_type": "code",
   "execution_count": 128,
   "id": "58bb2565",
   "metadata": {},
   "outputs": [],
   "source": [
    "mm = merge(mm, ag, by=\"Feature\")"
   ]
  },
  {
   "cell_type": "code",
   "execution_count": 129,
   "id": "81058b8e",
   "metadata": {},
   "outputs": [],
   "source": [
    "map = read.table(\"summarized_caqtls/Promoter_associated_caQTLs.tsv\", header=T)\n",
    "\n",
    "clrs = read.table(\"peaks/color_scheme.tsv\")\n",
    "clrs = rbind(clrs, matrix( c('orange2', 'b','tan4','nk','#7FC97F','mono', 'magenta4', \"t\"), ncol=2, byrow=T))\n",
    "colcol  = data.frame(celltypes = clrs$V2, \n",
    "                     group= c('mono', 'mono', 'mono', \"mono\",\"b\", \"b\", \"nk\", \"nk\",\n",
    "                               't','t','t','t','t','t','mkc','pDC', 'plasma','b','nk','mono','t'))"
   ]
  },
  {
   "cell_type": "code",
   "execution_count": 130,
   "id": "965b7dba",
   "metadata": {},
   "outputs": [],
   "source": [
    "mm$group = colcol$group[match (mm$cell, colcol$celltypes  )]\n",
    "\n",
    "groups = c( 'b', \"mono\", 't',\"nk\")  ### mkc are few and do not overlap any finemapped variant"
   ]
  },
  {
   "cell_type": "code",
   "execution_count": 131,
   "id": "ee41befb",
   "metadata": {},
   "outputs": [],
   "source": [
    "annoq = data.frame()\n",
    "for (gr in groups){\n",
    "\n",
    "test = subset(map, group==gr)\n",
    "    \n",
    "agr  = aggregate(type~feature_gene, test[test$type!=\"EP\",], function(x)  c('P','PP')[max(str_count(x))]  ) ## this is to remove extra P annot\n",
    "test2 = merge(test[test$type!=\"EP\",], agr, by=colnames(agr))\n",
    "test3 = rbind(test2, test[test$type==\"EP\",])\n",
    "                 \n",
    "qt = subset(mm, group==gr)\n",
    "qt = merge(qt, test3, by=c('Feature','group'), all.x=T)\n",
    "annoq = rbind(annoq,qt)                 \n",
    "                 }"
   ]
  },
  {
   "cell_type": "code",
   "execution_count": 132,
   "id": "8bbc2a76",
   "metadata": {},
   "outputs": [],
   "source": [
    "annoq = annoq[order(-annoq$PPA),]"
   ]
  },
  {
   "cell_type": "code",
   "execution_count": 133,
   "id": "7bf00dd3",
   "metadata": {},
   "outputs": [],
   "source": [
    "cols= c(\"Trait\", \"Locus\",  \"varID\", \"rsID\", 'PPA',\"cell\", \"Feature\",'P_value','Q_value','Effect_size','exclude', \"type\", \n",
    "        'ClosestGene_Distance',  'feature_gene', 'coacPeak','coac_gene', 'coaccess' , 'dist')"
   ]
  },
  {
   "cell_type": "code",
   "execution_count": 134,
   "id": "6d0a4839",
   "metadata": {},
   "outputs": [],
   "source": [
    "annoq = annoq[,cols]"
   ]
  },
  {
   "cell_type": "code",
   "execution_count": 135,
   "id": "7f6ebc5a",
   "metadata": {},
   "outputs": [],
   "source": [
    "annoq[is.na(annoq)]<-\".\""
   ]
  },
  {
   "cell_type": "code",
   "execution_count": 139,
   "id": "3a8c60d7",
   "metadata": {},
   "outputs": [],
   "source": [
    "annoq = annoq[annoq$exclude==F,]"
   ]
  },
  {
   "cell_type": "code",
   "execution_count": 141,
   "id": "07bc9091",
   "metadata": {},
   "outputs": [],
   "source": [
    "annoq$is_prom = annoq$type %in% c(\"P\", \"PP\")"
   ]
  },
  {
   "cell_type": "code",
   "execution_count": 142,
   "id": "d469194f",
   "metadata": {},
   "outputs": [],
   "source": [
    "write.csv(annoq , paste0(\"summarized_caqtls/Finemap_Table_caQTLs_extended.csv\"))\n"
   ]
  },
  {
   "cell_type": "code",
   "execution_count": 147,
   "id": "3f5b4891",
   "metadata": {},
   "outputs": [
    {
     "data": {
      "text/html": [
       "0.848002708192282"
      ],
      "text/latex": [
       "0.848002708192282"
      ],
      "text/markdown": [
       "0.848002708192282"
      ],
      "text/plain": [
       "[1] 0.8480027"
      ]
     },
     "metadata": {},
     "output_type": "display_data"
    }
   ],
   "source": [
    "5010/5908"
   ]
  },
  {
   "cell_type": "code",
   "execution_count": 148,
   "id": "91637842",
   "metadata": {},
   "outputs": [
    {
     "data": {
      "text/html": [
       "0.728566009104704"
      ],
      "text/latex": [
       "0.728566009104704"
      ],
      "text/markdown": [
       "0.728566009104704"
      ],
      "text/plain": [
       "[1] 0.728566"
      ]
     },
     "metadata": {},
     "output_type": "display_data"
    }
   ],
   "source": [
    "3841/5272 "
   ]
  },
  {
   "cell_type": "code",
   "execution_count": 149,
   "id": "5ffed380",
   "metadata": {},
   "outputs": [],
   "source": [
    "rmdu =annoq[!duplicated(annoq[,c(\"varID\", \"Trait\", \"type\")]),]"
   ]
  },
  {
   "cell_type": "code",
   "execution_count": 150,
   "id": "9843d359",
   "metadata": {},
   "outputs": [
    {
     "data": {
      "text/html": [
       "<style>\n",
       ".list-inline {list-style: none; margin:0; padding: 0}\n",
       ".list-inline>li {display: inline-block}\n",
       ".list-inline>li:not(:last-child)::after {content: \"\\00b7\"; padding: 0 .5ex}\n",
       "</style>\n",
       "<ol class=list-inline><li>374</li><li>19</li></ol>\n"
      ],
      "text/latex": [
       "\\begin{enumerate*}\n",
       "\\item 374\n",
       "\\item 19\n",
       "\\end{enumerate*}\n"
      ],
      "text/markdown": [
       "1. 374\n",
       "2. 19\n",
       "\n",
       "\n"
      ],
      "text/plain": [
       "[1] 374  19"
      ]
     },
     "metadata": {},
     "output_type": "display_data"
    }
   ],
   "source": [
    "dim(rmdu)"
   ]
  },
  {
   "cell_type": "code",
   "execution_count": 151,
   "id": "74a9db18",
   "metadata": {},
   "outputs": [
    {
     "data": {
      "text/html": [
       "139"
      ],
      "text/latex": [
       "139"
      ],
      "text/markdown": [
       "139"
      ],
      "text/plain": [
       "[1] 139"
      ]
     },
     "metadata": {},
     "output_type": "display_data"
    }
   ],
   "source": [
    "sum(rmdu$type==\".\")"
   ]
  },
  {
   "cell_type": "code",
   "execution_count": 152,
   "id": "01ca5f0a",
   "metadata": {},
   "outputs": [
    {
     "data": {
      "text/html": [
       "235"
      ],
      "text/latex": [
       "235"
      ],
      "text/markdown": [
       "235"
      ],
      "text/plain": [
       "[1] 235"
      ]
     },
     "metadata": {},
     "output_type": "display_data"
    }
   ],
   "source": [
    "374-139"
   ]
  },
  {
   "cell_type": "code",
   "execution_count": null,
   "id": "4352cda1",
   "metadata": {},
   "outputs": [],
   "source": []
  }
 ],
 "metadata": {
  "kernelspec": {
   "display_name": "R 4.1",
   "language": "R",
   "name": "ir41"
  },
  "language_info": {
   "codemirror_mode": "r",
   "file_extension": ".r",
   "mimetype": "text/x-r-source",
   "name": "R",
   "pygments_lexer": "r",
   "version": "4.1.1"
  }
 },
 "nbformat": 4,
 "nbformat_minor": 5
}
