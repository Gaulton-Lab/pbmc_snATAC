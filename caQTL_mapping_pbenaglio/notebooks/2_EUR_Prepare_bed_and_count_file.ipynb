{
 "cells": [
  {
   "cell_type": "markdown",
   "metadata": {},
   "source": [
    "#### 1. Make a combined bed files across all samples and obtain read counts"
   ]
  },
  {
   "cell_type": "code",
   "execution_count": 8,
   "metadata": {},
   "outputs": [],
   "source": [
    "library(parallel)"
   ]
  },
  {
   "cell_type": "code",
   "execution_count": 9,
   "metadata": {},
   "outputs": [],
   "source": [
    "## only 10 European samples\n",
    "ids = c(2:5, 8:10,12:14)"
   ]
  },
  {
   "cell_type": "code",
   "execution_count": 10,
   "metadata": {},
   "outputs": [],
   "source": [
    "sampdir  = '/nfs/lab/projects/pbmc_snATAC/analysis_v2/cell_type_bam/'\n",
    "outdir   = '/nfs/lab/projects/pbmc_snATAC/analysis_v2/rasqual_eur/'\n",
    "bedir    = '/nfs/lab/projects/pbmc_snATAC/analysis_v2/peaks/'"
   ]
  },
  {
   "cell_type": "code",
   "execution_count": 11,
   "metadata": {},
   "outputs": [],
   "source": [
    "saf = paste0(bedir, 'pbmc.sorted.merged.saf')"
   ]
  },
  {
   "cell_type": "code",
   "execution_count": 50,
   "metadata": {},
   "outputs": [],
   "source": [
    "system(paste('python /home/pbenaglio/general_scripts/convert_bed_to_saf.py', \n",
    "              paste0(bedir, 'pbmc.sorted.merged.bare.bed'), saf))"
   ]
  },
  {
   "cell_type": "code",
   "execution_count": 5,
   "metadata": {},
   "outputs": [],
   "source": [
    "featurecounts = function(c, res = \"fine\"){\n",
    "outfolder     = paste(outdir, res, c, sep=\"/\")\n",
    "system(paste('mkdir -p' , outfolder))\n",
    "count_matrix  = paste0(outfolder,\"/\" ,c, '.count_matrix')    \n",
    "bam           = paste0(sampdir, \"PBMC\", ids,\"/\" ,res, '/pbmc', ids, \"_\", c, \".bam\")\n",
    "gi  <-  paste(\"featureCounts -p -T 10 -F SAF --donotsort -a\" , saf, \"-o\",  count_matrix , \n",
    "                paste(bam,collapse=\" \"))\n",
    "system(gi)\n",
    "}\n",
    "\n"
   ]
  },
  {
   "cell_type": "code",
   "execution_count": 52,
   "metadata": {},
   "outputs": [],
   "source": [
    "celltypes = as.character(read.table(paste0(bedir,\"color_scheme.tsv\"))[,2])"
   ]
  },
  {
   "cell_type": "code",
   "execution_count": 53,
   "metadata": {},
   "outputs": [],
   "source": [
    "celltypes = celltypes[1:15]"
   ]
  },
  {
   "cell_type": "code",
   "execution_count": 54,
   "metadata": {},
   "outputs": [
    {
     "data": {
      "text/html": [
       "<style>\n",
       ".list-inline {list-style: none; margin:0; padding: 0}\n",
       ".list-inline>li {display: inline-block}\n",
       ".list-inline>li:not(:last-child)::after {content: \"\\00b7\"; padding: 0 .5ex}\n",
       "</style>\n",
       "<ol class=list-inline><li>'cMono'</li><li>'ncMono'</li><li>'iMono'</li><li>'cDC'</li><li>'mem_b'</li><li>'naive_b'</li><li>'cyto_nk'</li><li>'adaptive_NK'</li><li>'naive_cd8_t'</li><li>'cyto_cd8_t'</li><li>'mem_cd8_t'</li><li>'naive_cd4_t'</li><li>'act_cd4_t'</li><li>'tReg'</li><li>'mkc'</li></ol>\n"
      ],
      "text/latex": [
       "\\begin{enumerate*}\n",
       "\\item 'cMono'\n",
       "\\item 'ncMono'\n",
       "\\item 'iMono'\n",
       "\\item 'cDC'\n",
       "\\item 'mem\\_b'\n",
       "\\item 'naive\\_b'\n",
       "\\item 'cyto\\_nk'\n",
       "\\item 'adaptive\\_NK'\n",
       "\\item 'naive\\_cd8\\_t'\n",
       "\\item 'cyto\\_cd8\\_t'\n",
       "\\item 'mem\\_cd8\\_t'\n",
       "\\item 'naive\\_cd4\\_t'\n",
       "\\item 'act\\_cd4\\_t'\n",
       "\\item 'tReg'\n",
       "\\item 'mkc'\n",
       "\\end{enumerate*}\n"
      ],
      "text/markdown": [
       "1. 'cMono'\n",
       "2. 'ncMono'\n",
       "3. 'iMono'\n",
       "4. 'cDC'\n",
       "5. 'mem_b'\n",
       "6. 'naive_b'\n",
       "7. 'cyto_nk'\n",
       "8. 'adaptive_NK'\n",
       "9. 'naive_cd8_t'\n",
       "10. 'cyto_cd8_t'\n",
       "11. 'mem_cd8_t'\n",
       "12. 'naive_cd4_t'\n",
       "13. 'act_cd4_t'\n",
       "14. 'tReg'\n",
       "15. 'mkc'\n",
       "\n",
       "\n"
      ],
      "text/plain": [
       " [1] \"cMono\"       \"ncMono\"      \"iMono\"       \"cDC\"         \"mem_b\"      \n",
       " [6] \"naive_b\"     \"cyto_nk\"     \"adaptive_NK\" \"naive_cd8_t\" \"cyto_cd8_t\" \n",
       "[11] \"mem_cd8_t\"   \"naive_cd4_t\" \"act_cd4_t\"   \"tReg\"        \"mkc\"        "
      ]
     },
     "metadata": {},
     "output_type": "display_data"
    }
   ],
   "source": [
    "celltypes"
   ]
  },
  {
   "cell_type": "code",
   "execution_count": 55,
   "metadata": {},
   "outputs": [
    {
     "data": {
      "text/html": [
       "<ol>\n",
       "\t<li>0</li>\n",
       "\t<li>0</li>\n",
       "\t<li>0</li>\n",
       "\t<li>0</li>\n",
       "\t<li>0</li>\n",
       "\t<li>0</li>\n",
       "\t<li>0</li>\n",
       "\t<li>0</li>\n",
       "\t<li>0</li>\n",
       "\t<li>0</li>\n",
       "\t<li>0</li>\n",
       "\t<li>0</li>\n",
       "\t<li>0</li>\n",
       "\t<li>0</li>\n",
       "\t<li>0</li>\n",
       "</ol>\n"
      ],
      "text/latex": [
       "\\begin{enumerate}\n",
       "\\item 0\n",
       "\\item 0\n",
       "\\item 0\n",
       "\\item 0\n",
       "\\item 0\n",
       "\\item 0\n",
       "\\item 0\n",
       "\\item 0\n",
       "\\item 0\n",
       "\\item 0\n",
       "\\item 0\n",
       "\\item 0\n",
       "\\item 0\n",
       "\\item 0\n",
       "\\item 0\n",
       "\\end{enumerate}\n"
      ],
      "text/markdown": [
       "1. 0\n",
       "2. 0\n",
       "3. 0\n",
       "4. 0\n",
       "5. 0\n",
       "6. 0\n",
       "7. 0\n",
       "8. 0\n",
       "9. 0\n",
       "10. 0\n",
       "11. 0\n",
       "12. 0\n",
       "13. 0\n",
       "14. 0\n",
       "15. 0\n",
       "\n",
       "\n"
      ],
      "text/plain": [
       "[[1]]\n",
       "[1] 0\n",
       "\n",
       "[[2]]\n",
       "[1] 0\n",
       "\n",
       "[[3]]\n",
       "[1] 0\n",
       "\n",
       "[[4]]\n",
       "[1] 0\n",
       "\n",
       "[[5]]\n",
       "[1] 0\n",
       "\n",
       "[[6]]\n",
       "[1] 0\n",
       "\n",
       "[[7]]\n",
       "[1] 0\n",
       "\n",
       "[[8]]\n",
       "[1] 0\n",
       "\n",
       "[[9]]\n",
       "[1] 0\n",
       "\n",
       "[[10]]\n",
       "[1] 0\n",
       "\n",
       "[[11]]\n",
       "[1] 0\n",
       "\n",
       "[[12]]\n",
       "[1] 0\n",
       "\n",
       "[[13]]\n",
       "[1] 0\n",
       "\n",
       "[[14]]\n",
       "[1] 0\n",
       "\n",
       "[[15]]\n",
       "[1] 0\n"
      ]
     },
     "metadata": {},
     "output_type": "display_data"
    }
   ],
   "source": [
    "mclapply(celltypes,featurecounts, mc.cores = 32 )"
   ]
  },
  {
   "cell_type": "code",
   "execution_count": 56,
   "metadata": {},
   "outputs": [],
   "source": [
    "celltypes = c('b', 'cd4_t', 'cd8_t', 'mono', 'nk' )"
   ]
  },
  {
   "cell_type": "code",
   "execution_count": 57,
   "metadata": {},
   "outputs": [
    {
     "data": {
      "text/html": [
       "<style>\n",
       ".list-inline {list-style: none; margin:0; padding: 0}\n",
       ".list-inline>li {display: inline-block}\n",
       ".list-inline>li:not(:last-child)::after {content: \"\\00b7\"; padding: 0 .5ex}\n",
       "</style>\n",
       "<ol class=list-inline><li>2</li><li>3</li><li>4</li><li>5</li><li>8</li><li>9</li><li>10</li><li>12</li><li>13</li><li>14</li></ol>\n"
      ],
      "text/latex": [
       "\\begin{enumerate*}\n",
       "\\item 2\n",
       "\\item 3\n",
       "\\item 4\n",
       "\\item 5\n",
       "\\item 8\n",
       "\\item 9\n",
       "\\item 10\n",
       "\\item 12\n",
       "\\item 13\n",
       "\\item 14\n",
       "\\end{enumerate*}\n"
      ],
      "text/markdown": [
       "1. 2\n",
       "2. 3\n",
       "3. 4\n",
       "4. 5\n",
       "5. 8\n",
       "6. 9\n",
       "7. 10\n",
       "8. 12\n",
       "9. 13\n",
       "10. 14\n",
       "\n",
       "\n"
      ],
      "text/plain": [
       " [1]  2  3  4  5  8  9 10 12 13 14"
      ]
     },
     "metadata": {},
     "output_type": "display_data"
    }
   ],
   "source": [
    "ids"
   ]
  },
  {
   "cell_type": "code",
   "execution_count": 58,
   "metadata": {},
   "outputs": [
    {
     "data": {
      "text/html": [
       "<ol>\n",
       "\t<li>0</li>\n",
       "\t<li>0</li>\n",
       "\t<li>0</li>\n",
       "\t<li>0</li>\n",
       "\t<li>0</li>\n",
       "</ol>\n"
      ],
      "text/latex": [
       "\\begin{enumerate}\n",
       "\\item 0\n",
       "\\item 0\n",
       "\\item 0\n",
       "\\item 0\n",
       "\\item 0\n",
       "\\end{enumerate}\n"
      ],
      "text/markdown": [
       "1. 0\n",
       "2. 0\n",
       "3. 0\n",
       "4. 0\n",
       "5. 0\n",
       "\n",
       "\n"
      ],
      "text/plain": [
       "[[1]]\n",
       "[1] 0\n",
       "\n",
       "[[2]]\n",
       "[1] 0\n",
       "\n",
       "[[3]]\n",
       "[1] 0\n",
       "\n",
       "[[4]]\n",
       "[1] 0\n",
       "\n",
       "[[5]]\n",
       "[1] 0\n"
      ]
     },
     "metadata": {},
     "output_type": "display_data"
    }
   ],
   "source": [
    "mclapply(celltypes,function(x) featurecounts(x, res=\"broad\"), mc.cores = 32 )"
   ]
  },
  {
   "cell_type": "code",
   "execution_count": 6,
   "metadata": {},
   "outputs": [],
   "source": [
    "celltypes = 't'"
   ]
  },
  {
   "cell_type": "code",
   "execution_count": 7,
   "metadata": {},
   "outputs": [
    {
     "data": {
      "text/html": [
       "<ol>\n",
       "\t<li>0</li>\n",
       "</ol>\n"
      ],
      "text/latex": [
       "\\begin{enumerate}\n",
       "\\item 0\n",
       "\\end{enumerate}\n"
      ],
      "text/markdown": [
       "1. 0\n",
       "\n",
       "\n"
      ],
      "text/plain": [
       "[[1]]\n",
       "[1] 0\n"
      ]
     },
     "metadata": {},
     "output_type": "display_data"
    }
   ],
   "source": [
    "mclapply(celltypes,function(x) featurecounts(x, res=\"broad\"), mc.cores = 32 )"
   ]
  },
  {
   "cell_type": "code",
   "execution_count": 7,
   "metadata": {},
   "outputs": [],
   "source": [
    "### pseudobulk matrix\n",
    "res = \"bulk\"\n",
    "c   =  'bulk'\n",
    "outfolder     = paste(outdir, res, c, sep=\"/\")\n",
    "system(paste('mkdir -p' , outfolder))\n",
    "count_matrix  = paste0(outfolder,\"/\" ,c, '.count_matrix')    \n",
    "bam           = paste0(\"/nfs/lab/projects/pbmc_snATAC/analysis_v2/wasp_peaks/bulk/PBMC\", ids, '/rmdup/PBMC', ids, '.keep.merged.rmdup.bam' )\n",
    "gi  <-  paste(\"featureCounts -p -T 10 -F SAF --donotsort -a\" , saf, \"-o\",  count_matrix , \n",
    "                paste(bam,collapse=\" \"))\n",
    "system(gi)\n",
    "\n",
    "\n"
   ]
  },
  {
   "cell_type": "markdown",
   "metadata": {},
   "source": [
    "#### 2. Filter the read count matrix and use rasqual tools to generate the input files"
   ]
  },
  {
   "cell_type": "code",
   "execution_count": 12,
   "metadata": {},
   "outputs": [],
   "source": [
    "library(\"rasqualTools\")\n",
    "source(\"/nfs/lab/projects/pbmc_snATAC/scripts/rasqual_tools_functions.R\")"
   ]
  },
  {
   "cell_type": "code",
   "execution_count": 10,
   "metadata": {},
   "outputs": [],
   "source": [
    "#res=\"fine\"\n",
    "#celltypes = as.character(read.table(paste0(bedir,\"color_scheme.tsv\"))[,2])[1:15]\n",
    " #res=\"broad\"\n",
    " #celltypes = c('b', 'cd4_t', 'cd8_t', 'mono', 'nk' )\n",
    " res=\"bulk\"\n",
    " celltypes= \"bulk\""
   ]
  },
  {
   "cell_type": "code",
   "execution_count": 13,
   "metadata": {},
   "outputs": [],
   "source": [
    "res = \"broad\"\n",
    "celltypes   =  't'\n"
   ]
  },
  {
   "cell_type": "code",
   "execution_count": 1,
   "metadata": {},
   "outputs": [
    {
     "ename": "ERROR",
     "evalue": "Error in eval(expr, envir, enclos): object 'celltypes' not found\n",
     "output_type": "error",
     "traceback": [
      "Error in eval(expr, envir, enclos): object 'celltypes' not found\nTraceback:\n"
     ]
    }
   ],
   "source": [
    "for (c in celltypes){\n",
    "outfolder     = paste(outdir, res, c, sep=\"/\")\n",
    "cm = read.table(paste0(outfolder, \"/\" ,c, '.count_matrix') , header=T)\n",
    "colnames(cm)[7:ncol(cm)] = paste0(\"PBMC\", ids)\n",
    "\n",
    "### filter for peaks having a minumum of 5 reads on avg per sample\n",
    "cm = cm[rowMeans(cm[,7:ncol(cm)])>= 5, ]\n",
    "\n",
    "fmat           = cm[,7:ncol(cm)]\n",
    "rownames(fmat) = cm[,1]\n",
    "filtbed        = paste0(outfolder, \"/\", c, \".filtered.bed\")\n",
    "write.table(fmat, paste0(outfolder, \"/\", c, \".filtered.count_matrix\"), sep=\"\\t\", quote=F)\n",
    "write.table(cm[,2:4],filtbed, sep=\"\\t\", quote=F, col.names=F, row.names=F)\n",
    "cc     = cm[,2:4]\n",
    "cc[,1] = substring(cc[,1],4)\n",
    "write.table(cc, paste0(outfolder, \"/\", c, \".filtered.nochr.bed\"), sep=\"\\t\", quote=F, col.names=F, row.names=F)\n",
    "\n",
    "system(paste0(\"bedtools slop -i \",  filtbed,  \" -b 10000 -g /nfs/lab/publicdata/human.hg19.genome.bedtools > \",\n",
    "         filtbed, '.10kb'))\n",
    "\n",
    "system(paste0(\"bedtools merge -i \", filtbed, '.10kb > ', filtbed, '.10kb.merged'))\n",
    "\n",
    "fb     = read.table(paste0( filtbed, '.10kb.merged'))\n",
    "fb[,1] = substring(fb[,1],4)\n",
    "write.table(fb, paste0( filtbed, '.10kb.merged.nochr'), sep=\"\\t\", quote=F, col.names=F, row.names=F)\n",
    "\n",
    "#### RAsqualTools\n",
    "\n",
    "saveRasqualMatrices(list(counts = fmat), outfolder, file_suffix = c)\n",
    "\n",
    "size_factors = rasqualCalculateSampleOffsets(fmat, gc_correct = FALSE)\n",
    "saveRasqualMatrices(list(size_factors = size_factors),  outfolder, file_suffix = c)\n",
    "\n",
    "y = paste0(outfolder, \"/counts.\",c, \".txt\" )\n",
    "k = paste0(outfolder, \"/size_factors.\",c, \".txt\" )\n",
    "x = paste0(outfolder, \"/covariates.\",c, \".txt\" )\n",
    "\n",
    "make_covariates (ytxt=y, ktxt=k, outfile=x)\n",
    "\n",
    "txt2bin  (ytxt=y, ktxt=k, xtxt=x)\n",
    "}"
   ]
  },
  {
   "cell_type": "markdown",
   "metadata": {},
   "source": [
    "### Check the PCA"
   ]
  },
  {
   "cell_type": "code",
   "execution_count": 15,
   "metadata": {
    "scrolled": false
   },
   "outputs": [
    {
     "data": {
      "image/png": "[encoded data removed]",
      "text/plain": [
       "Plot with title “t”"
      ]
     },
     "metadata": {
      "image/png": {
       "height": 420,
       "width": 420
      }
     },
     "output_type": "display_data"
    }
   ],
   "source": [
    "par(mfrow=c(3,3), mar =c(3,3,2,1))\n",
    "for (c in celltypes){\n",
    "outfolder     = paste(outdir, res, c, sep=\"/\")\n",
    "pca = read.table(paste0(outfolder, \"/covariates.\",c, \".txt\" ))\n",
    "   \n",
    "plot(pca[,2:3], cex = 3, main = c, col = rainbow(length(ids))) ## col1 is size factor\n",
    "mtext(side = 1:2, text=c(\"PC1\",\"PC2\"), line=2)\n",
    "text(pca[,2:3], labels = ids)\n",
    "#plot(pca[,3:4], cex = 3, main = c) ## col1 is size factor\n",
    "#text(pca[,3:4], labels = ids)\n",
    "#mtext(side = 1:2, text=c(\"PC2\",\"PC3\"), line=2)    \n",
    "}"
   ]
  },
  {
   "cell_type": "markdown",
   "metadata": {},
   "source": [
    "There are some outliers in a few cell types, but it will be corrected as covariates - https://github.com/natsuhiko/rasqual/issues/39"
   ]
  },
  {
   "cell_type": "markdown",
   "metadata": {},
   "source": [
    "## Add 4 PCs from ancestry as covariates (1KG)"
   ]
  },
  {
   "cell_type": "code",
   "execution_count": 16,
   "metadata": {},
   "outputs": [
    {
     "data": {
      "text/html": [
       "'/nfs/lab/projects/pbmc_snATAC/analysis_v2/rasqual_eur/'"
      ],
      "text/latex": [
       "'/nfs/lab/projects/pbmc\\_snATAC/analysis\\_v2/rasqual\\_eur/'"
      ],
      "text/markdown": [
       "'/nfs/lab/projects/pbmc_snATAC/analysis_v2/rasqual_eur/'"
      ],
      "text/plain": [
       "[1] \"/nfs/lab/projects/pbmc_snATAC/analysis_v2/rasqual_eur/\""
      ]
     },
     "metadata": {},
     "output_type": "display_data"
    }
   ],
   "source": [
    "outdir"
   ]
  },
  {
   "cell_type": "code",
   "execution_count": 17,
   "metadata": {},
   "outputs": [],
   "source": [
    "codir = '/nfs/lab/projects/pbmc_snATAC/analysis_v2/rasqual/covariates/'\n",
    "for (c in celltypes){\n",
    "outfolder     = paste(outdir, res, c, sep=\"/\")\n",
    "y = paste0(outfolder, \"/counts.\",c, \".txt\" )\n",
    "k = paste0(outfolder, \"/size_factors.\",c, \".txt\" )\n",
    "x = paste0(outfolder, \"/covariates.\",c, \".txt\" )\n",
    "    \n",
    "make_covariates (ytxt=y, ktxt=k, outfile=x) ###recalculate original ones \n",
    "#newcov = cbind(read.table(x), read.table(paste0(codir, \"4_gt_pcs\")))\n",
    "newcov = cbind(read.table(x),\n",
    "               read.table(paste0(codir, \"age\"))[-c(1,6,13),],\n",
    "               read.table(paste0(codir, \"sex\"))[-c(1,6,13),]*0.1, \n",
    "               read.table(paste0(codir, \"4_gt_pcs\"))[-c(1,6,13),])\n",
    "\n",
    "write.table( newcov, x, col=F,row=F,sep=\"\\t\",quote=F)\n",
    "txt2bin  (ytxt=y, ktxt=k, xtxt=x)\n",
    "}"
   ]
  },
  {
   "cell_type": "markdown",
   "metadata": {},
   "source": [
    "### version without sex and age"
   ]
  },
  {
   "cell_type": "code",
   "execution_count": 22,
   "metadata": {},
   "outputs": [],
   "source": [
    "# res=\"fine\"\n",
    "# celltypes = as.character(read.table(paste0(bedir,\"color_scheme.tsv\"))[,2])[1:15]\n",
    "#  res=\"broad\"\n",
    "#  celltypes = c('b', 'cd4_t', 'cd8_t', 'mono', 'nk' )\n",
    "#  res=\"bulk\"\n",
    "# celltypes= \"bulk\""
   ]
  },
  {
   "cell_type": "code",
   "execution_count": 18,
   "metadata": {},
   "outputs": [],
   "source": [
    "res = \"broad\"\n",
    "celltypes   =  't'\n"
   ]
  },
  {
   "cell_type": "code",
   "execution_count": 19,
   "metadata": {},
   "outputs": [],
   "source": [
    "codir = '/nfs/lab/projects/pbmc_snATAC/analysis_v2/rasqual/covariates/'\n",
    "for (c in celltypes){\n",
    "outfolder     = paste(outdir, res, c, sep=\"/\")\n",
    "y = paste0(outfolder, \"/counts.\",c, \".txt\" )\n",
    "k = paste0(outfolder, \"/size_factors.\",c, \".txt\" )\n",
    "x = paste0(outfolder, \"/covariates2.\",c, \".txt\" )\n",
    "    \n",
    "make_covariates (ytxt=y, ktxt=k, outfile=x) ###recalculate original ones \n",
    "#newcov = cbind(read.table(x), read.table(paste0(codir, \"4_gt_pcs\")))\n",
    "newcov = cbind(read.table(x),\n",
    "               #read.table(paste0(codir, \"age\"))[-c(1,6,13),],\n",
    "               #read.table(paste0(codir, \"sex\"))[-c(1,6,13),]*0.1, \n",
    "               read.table(paste0(codir, \"4_gt_pcs\"))[-c(1,6,13),])\n",
    "\n",
    "write.table( newcov, x, col=F,row=F,sep=\"\\t\",quote=F)\n",
    "txt2bin  (ytxt=y, ktxt=k, xtxt=x)\n",
    "}"
   ]
  },
  {
   "cell_type": "code",
   "execution_count": null,
   "metadata": {},
   "outputs": [],
   "source": []
  }
 ],
 "metadata": {
  "kernelspec": {
   "display_name": "R 4.1",
   "language": "R",
   "name": "ir41"
  },
  "language_info": {
   "codemirror_mode": "r",
   "file_extension": ".r",
   "mimetype": "text/x-r-source",
   "name": "R",
   "pygments_lexer": "r",
   "version": "4.1.1"
  }
 },
 "nbformat": 4,
 "nbformat_minor": 2
}
