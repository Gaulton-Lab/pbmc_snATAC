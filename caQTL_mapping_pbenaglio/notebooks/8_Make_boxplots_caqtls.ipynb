{
 "cells": [
  {
   "cell_type": "code",
   "execution_count": 1,
   "id": "present-rental",
   "metadata": {},
   "outputs": [],
   "source": [
    "suppressPackageStartupMessages(library(stringr))\n",
    "suppressPackageStartupMessages(library(DESeq2))\n",
    "suppressPackageStartupMessages(library(RColorBrewer))\n",
    "suppressPackageStartupMessages(library(limma))\n",
    "suppressPackageStartupMessages(library(beeswarm))\n",
    "suppressPackageStartupMessages(library(tidyr))\n",
    "suppressPackageStartupMessages(library(pheatmap))"
   ]
  },
  {
   "cell_type": "code",
   "execution_count": 2,
   "id": "musical-alfred",
   "metadata": {},
   "outputs": [],
   "source": [
    "homedir = \"/nfs/lab/projects/pbmc_snATAC/analysis_v2\""
   ]
  },
  {
   "cell_type": "code",
   "execution_count": 3,
   "id": "spare-quilt",
   "metadata": {},
   "outputs": [],
   "source": [
    "setwd(homedir)"
   ]
  },
  {
   "cell_type": "code",
   "execution_count": 4,
   "id": "swedish-custody",
   "metadata": {},
   "outputs": [],
   "source": [
    "ids = c(2:5, 8:10,12:14)"
   ]
  },
  {
   "cell_type": "markdown",
   "id": "anonymous-venue",
   "metadata": {},
   "source": [
    "#### Normalize the count table using the Deseq2 functions\n",
    "Note  I am using the full matrix here- not fileterd for minimim coverage and the transform - in rasqual first filtered the matrix and then calculate the size-factors - I should not matter in this case as it is just for visualization purposes- "
   ]
  },
  {
   "cell_type": "code",
   "execution_count": 230,
   "id": "appreciated-split",
   "metadata": {},
   "outputs": [],
   "source": [
    "reso = \"broad\"\n",
    "maindir     = paste0('rasqual_eur/', reso)\n",
    "celltypes   = list.files(maindir)[!grepl(\".txt\", list.files(maindir))]\n"
   ]
  },
  {
   "cell_type": "code",
   "execution_count": 59,
   "id": "prompt-uzbekistan",
   "metadata": {},
   "outputs": [],
   "source": [
    "reso = \"fine\"\n",
    "maindir     = paste0('rasqual_eur/', reso)\n",
    "celltypes   = list.files(maindir)[!grepl(\".txt\", list.files(maindir))]\n"
   ]
  },
  {
   "cell_type": "code",
   "execution_count": 60,
   "id": "ff84ebb5",
   "metadata": {},
   "outputs": [
    {
     "data": {
      "text/html": [
       "<style>\n",
       ".list-inline {list-style: none; margin:0; padding: 0}\n",
       ".list-inline>li {display: inline-block}\n",
       ".list-inline>li:not(:last-child)::after {content: \"\\00b7\"; padding: 0 .5ex}\n",
       "</style>\n",
       "<ol class=list-inline><li>'act_cd4_t'</li><li>'adaptive_NK'</li><li>'cDC'</li><li>'cMono'</li><li>'cyto_cd8_t'</li><li>'cyto_nk'</li><li>'iMono'</li><li>'mem_b'</li><li>'mem_cd8_t'</li><li>'mkc'</li><li>'naive_b'</li><li>'naive_cd4_t'</li><li>'naive_cd8_t'</li><li>'ncMono'</li><li>'tReg'</li></ol>\n"
      ],
      "text/latex": [
       "\\begin{enumerate*}\n",
       "\\item 'act\\_cd4\\_t'\n",
       "\\item 'adaptive\\_NK'\n",
       "\\item 'cDC'\n",
       "\\item 'cMono'\n",
       "\\item 'cyto\\_cd8\\_t'\n",
       "\\item 'cyto\\_nk'\n",
       "\\item 'iMono'\n",
       "\\item 'mem\\_b'\n",
       "\\item 'mem\\_cd8\\_t'\n",
       "\\item 'mkc'\n",
       "\\item 'naive\\_b'\n",
       "\\item 'naive\\_cd4\\_t'\n",
       "\\item 'naive\\_cd8\\_t'\n",
       "\\item 'ncMono'\n",
       "\\item 'tReg'\n",
       "\\end{enumerate*}\n"
      ],
      "text/markdown": [
       "1. 'act_cd4_t'\n",
       "2. 'adaptive_NK'\n",
       "3. 'cDC'\n",
       "4. 'cMono'\n",
       "5. 'cyto_cd8_t'\n",
       "6. 'cyto_nk'\n",
       "7. 'iMono'\n",
       "8. 'mem_b'\n",
       "9. 'mem_cd8_t'\n",
       "10. 'mkc'\n",
       "11. 'naive_b'\n",
       "12. 'naive_cd4_t'\n",
       "13. 'naive_cd8_t'\n",
       "14. 'ncMono'\n",
       "15. 'tReg'\n",
       "\n",
       "\n"
      ],
      "text/plain": [
       " [1] \"act_cd4_t\"   \"adaptive_NK\" \"cDC\"         \"cMono\"       \"cyto_cd8_t\" \n",
       " [6] \"cyto_nk\"     \"iMono\"       \"mem_b\"       \"mem_cd8_t\"   \"mkc\"        \n",
       "[11] \"naive_b\"     \"naive_cd4_t\" \"naive_cd8_t\" \"ncMono\"      \"tReg\"       "
      ]
     },
     "metadata": {},
     "output_type": "display_data"
    }
   ],
   "source": [
    "celltypes"
   ]
  },
  {
   "cell_type": "code",
   "execution_count": 232,
   "id": "frank-second",
   "metadata": {},
   "outputs": [],
   "source": [
    "for (c in celltypes [6]){\n",
    "\n",
    "mat = read.table(paste0(maindir,\"/\", c, \"/\", c, \".count_matrix\"), header=T)\n",
    "colnames(mat)[7:ncol(mat)] = paste0(\"PBMC\", ids)\n",
    "rownames(mat) = mat[,1]\n",
    "mat           = mat[,7:ncol(mat)]\n",
    "#mat_vst = vst(as.matrix(mat), blind=FALSE)\n",
    "mat_rlog = rlog(as.matrix(mat), blind=FALSE)\n",
    "\n",
    "rownames(mat_rlog) = rownames(mat)\n",
    "\n",
    "write.table(mat_rlog, paste0('example_boxplots/', c, \".rlog.count_matrix\"), sep=\"\\t\", quote=F, row.names=T)\n",
    "}"
   ]
  },
  {
   "cell_type": "code",
   "execution_count": 188,
   "id": "auburn-collective",
   "metadata": {},
   "outputs": [
    {
     "name": "stderr",
     "output_type": "stream",
     "text": [
      "-- note: fitType='parametric', but the dispersion trend was not well captured by the\n",
      "   function: y = a/x + b, and a local regression fit was automatically substituted.\n",
      "   specify fitType='local' or 'mean' to avoid this message next time.\n",
      "\n",
      "-- note: fitType='parametric', but the dispersion trend was not well captured by the\n",
      "   function: y = a/x + b, and a local regression fit was automatically substituted.\n",
      "   specify fitType='local' or 'mean' to avoid this message next time.\n",
      "\n",
      "-- note: fitType='parametric', but the dispersion trend was not well captured by the\n",
      "   function: y = a/x + b, and a local regression fit was automatically substituted.\n",
      "   specify fitType='local' or 'mean' to avoid this message next time.\n",
      "\n",
      "-- note: fitType='parametric', but the dispersion trend was not well captured by the\n",
      "   function: y = a/x + b, and a local regression fit was automatically substituted.\n",
      "   specify fitType='local' or 'mean' to avoid this message next time.\n",
      "\n",
      "-- note: fitType='parametric', but the dispersion trend was not well captured by the\n",
      "   function: y = a/x + b, and a local regression fit was automatically substituted.\n",
      "   specify fitType='local' or 'mean' to avoid this message next time.\n",
      "\n"
     ]
    }
   ],
   "source": [
    "reso = \"fine\"\n",
    "maindir     = paste0('rasqual_eur/', reso)\n",
    "celltypes   = list.files(maindir)[!grepl(\".txt\", list.files(maindir))]\n",
    "for (c in celltypes ){\n",
    "\n",
    "mat = read.table(paste0(maindir,\"/\", c, \"/\", c, \".count_matrix\"), header=T)\n",
    "colnames(mat)[7:ncol(mat)] = paste0(\"PBMC\", ids)\n",
    "rownames(mat) = mat[,1]\n",
    "mat           = mat[,7:ncol(mat)]\n",
    "#mat_vst = vst(as.matrix(mat), blind=FALSE)\n",
    "mat_rlog = rlog(as.matrix(mat), blind=FALSE)\n",
    "\n",
    "rownames(mat_rlog) = rownames(mat)\n",
    "\n",
    "write.table(mat_rlog, paste0('example_boxplots/', c, \".rlog.count_matrix\"), sep=\"\\t\", quote=F, row.names=T)\n",
    "}"
   ]
  },
  {
   "cell_type": "code",
   "execution_count": 215,
   "id": "statewide-finland",
   "metadata": {},
   "outputs": [],
   "source": [
    "reso = \"bulk\"\n",
    "maindir     = paste0('rasqual_eur/', reso)\n",
    "celltypes   = list.files(maindir)[!grepl(\".txt\", list.files(maindir))]\n",
    "for (c in celltypes ){\n",
    "\n",
    "mat = read.table(paste0(maindir,\"/\", c, \"/\", c, \".count_matrix\"), header=T)\n",
    "colnames(mat)[7:ncol(mat)] = paste0(\"PBMC\", ids)\n",
    "rownames(mat) = mat[,1]\n",
    "mat           = mat[,7:ncol(mat)]\n",
    "#mat_vst = vst(as.matrix(mat), blind=FALSE)\n",
    "mat_rlog = rlog(as.matrix(mat), blind=FALSE)\n",
    "\n",
    "rownames(mat_rlog) = rownames(mat)\n",
    "\n",
    "write.table(mat_rlog, paste0('example_boxplots/', c, \".rlog.count_matrix\"), sep=\"\\t\", quote=F, row.names=T)\n",
    "}"
   ]
  },
  {
   "cell_type": "markdown",
   "id": "essential-gilbert",
   "metadata": {},
   "source": [
    "#### List of all tested SNPs and genotypes"
   ]
  },
  {
   "cell_type": "code",
   "execution_count": 238,
   "id": "armed-astrology",
   "metadata": {},
   "outputs": [
    {
     "data": {
      "text/html": [],
      "text/latex": [],
      "text/markdown": [],
      "text/plain": [
       "character(0)"
      ]
     },
     "metadata": {},
     "output_type": "display_data"
    }
   ],
   "source": [
    "celltypes"
   ]
  },
  {
   "cell_type": "code",
   "execution_count": 239,
   "id": "together-paste",
   "metadata": {},
   "outputs": [
    {
     "name": "stdout",
     "output_type": "stream",
     "text": [
      "b \n",
      "cd4_t \n",
      "cd8_t \n",
      "mono \n",
      "nk \n",
      "t \n",
      "act_cd4_t \n",
      "adaptive_NK \n",
      "cDC \n",
      "cMono \n",
      "cyto_cd8_t \n",
      "cyto_nk \n",
      "iMono \n",
      "mem_b \n",
      "mem_cd8_t \n",
      "mkc \n",
      "naive_b \n",
      "naive_cd4_t \n",
      "naive_cd8_t \n",
      "ncMono \n",
      "tReg \n",
      "bulk \n"
     ]
    }
   ],
   "source": [
    "for (reso in c( \"broad\", \"fine\", \"bulk\")){\n",
    "\n",
    "maindir     = paste0('rasqual_eur/', reso)\n",
    "celltypes   = list.files(maindir)[!grepl(\".txt\", list.files(maindir))]\n",
    "    \n",
    "for (cell in celltypes) {\n",
    "cat (cell, \"\\n\")\n",
    "    }\n",
    "    }"
   ]
  },
  {
   "cell_type": "code",
   "execution_count": 234,
   "id": "raised-handbook",
   "metadata": {},
   "outputs": [
    {
     "data": {
      "text/html": [
       "<style>\n",
       ".list-inline {list-style: none; margin:0; padding: 0}\n",
       ".list-inline>li {display: inline-block}\n",
       ".list-inline>li:not(:last-child)::after {content: \"\\00b7\"; padding: 0 .5ex}\n",
       "</style>\n",
       "<ol class=list-inline><li>191116</li><li>10</li></ol>\n"
      ],
      "text/latex": [
       "\\begin{enumerate*}\n",
       "\\item 191116\n",
       "\\item 10\n",
       "\\end{enumerate*}\n"
      ],
      "text/markdown": [
       "1. 191116\n",
       "2. 10\n",
       "\n",
       "\n"
      ],
      "text/plain": [
       "[1] 191116     10"
      ]
     },
     "metadata": {},
     "output_type": "display_data"
    }
   ],
   "source": [
    "snps = data.frame()\n",
    "\n",
    "for (reso in c( \"broad\", \"fine\", \"bulk\")){\n",
    "\n",
    "maindir     = paste0('rasqual_eur/', reso)\n",
    "celltypes   = list.files(maindir)[!grepl(\".txt\", list.files(maindir))]\n",
    "    \n",
    "for (cell in celltypes) {\n",
    "\n",
    "setwd(paste(homedir, maindir, cell, \"vcfs_peaksonly\", sep=\"/\"))\n",
    "\n",
    " system(paste0(\"bcftools query -f '%CHROM\\\\t%POS\\\\t%ID\\\\t%REF\\\\t%ALT[\\\\t%GT]\\\\n' \", \n",
    "                \"full.ase.filtered.vcf.gz > full.ase.filtered.genotypes\"))\n",
    "\n",
    "snps_cell = read.table(\"full.ase.filtered.genotypes\", header=F, stringsAsFactors = F)\n",
    "snps = rbind(snps, snps_cell)\n",
    "    }\n",
    "    }\n",
    "\n",
    "setwd(homedir)\n",
    "snps = snps[!duplicated(snps),]\n",
    "\n",
    "snps <- replace(snps, snps == \"/\", \"|\")\n",
    "snps <- replace(snps, snps == \"1|1\", 2)\n",
    "snps <- replace(snps, snps == \"0|1\", 1)\n",
    "snps <- replace(snps, snps == \"1|0\", 1)\n",
    "snps <- replace(snps, snps == \"0|0\", 0)\n",
    "\n",
    "samples = paste0(\"PBMC\",  ids)\n",
    "colnames(snps) = c(\"CHR\", \"POS\", \"ID\", 'REF', 'ALT', samples) \n",
    "\n",
    "genotypes           = as.matrix(snps[,samples])\n",
    "rownames(genotypes) = snps$ID\n",
    "dim(genotypes)"
   ]
  },
  {
   "cell_type": "code",
   "execution_count": 236,
   "id": "diagnostic-italian",
   "metadata": {},
   "outputs": [],
   "source": [
    "write.table(genotypes, \"example_boxplots/All_tested_genotypes.tsv\", sep=\"\\t\", quote=F)"
   ]
  },
  {
   "cell_type": "code",
   "execution_count": 237,
   "id": "thick-hanging",
   "metadata": {},
   "outputs": [],
   "source": [
    "write.table(genotypes, \"anova_interaction/All_tested_genotypes.tsv\", sep=\"\\t\", quote=F)"
   ]
  },
  {
   "cell_type": "markdown",
   "id": "breathing-domain",
   "metadata": {},
   "source": [
    "### Boxplot function"
   ]
  },
  {
   "cell_type": "code",
   "execution_count": 5,
   "id": "coordinate-calculator",
   "metadata": {},
   "outputs": [],
   "source": [
    "clrs = read.table(\"peaks/color_scheme.tsv\")"
   ]
  },
  {
   "cell_type": "code",
   "execution_count": 6,
   "id": "rapid-spanish",
   "metadata": {},
   "outputs": [],
   "source": [
    "clrs = rbind(clrs, matrix( c('orange2', 'b','tan4','nk','#7FC97F','mono', 'magenta4', \"t\"), ncol=2, byrow=T))"
   ]
  },
  {
   "cell_type": "code",
   "execution_count": 49,
   "id": "frank-savings",
   "metadata": {},
   "outputs": [],
   "source": [
    "plot_boxplot = function(peak , snp, cell , zscore=TRUE,suffix=\"\",\n",
    "                        gttab = \"example_boxplots/All_tested_genotypes.tsv\",\n",
    "                        smr_dir='summarized_caqtls', \n",
    "                        tbl_dir = 'example_boxplots', YLIM=NULL ){\n",
    "    \n",
    "   sumtab = paste0(smr_dir,\"/\",cell ,'_caqtl_sumstats',suffix , '.tsv')\n",
    "   counts = paste0(tbl_dir,'/',cell ,'.rlog.count_matrix')\n",
    "    col   = as.character(clrs[,1] [clrs[,2]== cell])\n",
    "    \n",
    "             \n",
    "pip = 'example_boxplots/tmp'              \n",
    "system(paste(\"grep\", peak, sumtab, \">\", pip))\n",
    "                 \n",
    "if(file.size(pip)>0) {  \n",
    "                 rasq = read.table(pip)\n",
    "                  rasq = subset(rasq, grepl(snp,rasq$V2))\n",
    "    \n",
    "if(nrow(rasq)>0) {\n",
    "                 q  = signif(10^(rasq[,\"V10\"]),2)\n",
    "                 rs = rasq$V30  \n",
    "\n",
    "genot = c(paste0(rasq[,5],rasq[,5]), paste0(rasq[,5],rasq[,6]), paste0(rasq[,6],rasq[,6]))\n",
    "names(genot) = c(0,1,2)\n",
    "\n",
    "\n",
    "} else {   \n",
    "    q  = \"NA\"\n",
    "    rs = \"snpnot tested\"\n",
    "    genot = c(0,1,2)\n",
    "    names(genot) = c(0,1,2)\n",
    "} \n",
    "    \n",
    "     \n",
    "    df = t(rbind(read.table(pipe(paste(\"grep\", peak, counts)))[-1],\n",
    "                 read.table(pipe(paste(\"grep\", snp, gttab)))[-1]))\n",
    "\n",
    "    ngt= genot[names(genot) %in% unique(df[,2])]\n",
    "\n",
    "if(zscore == TRUE ){ df[,1] = scale(df[,1]) }\n",
    "    \n",
    "colnames(df) = c('peak_counts','genotype')\n",
    "boxplot(peak_counts~ genotype ,df, las=1, col = col,\n",
    "        outline=F, xlab=NA, xaxt=\"n\" ,yaxt=\"n\", ylim=YLIM)\n",
    "axis(2,tck=-0.1, las=1, cex.axis=0.8, lwd=0.6)\n",
    "axis(1,tick=F, las=2, cex.axis=0.8, lwd=0.6,\n",
    "labels = ngt,  at=1:length(ngt))\n",
    "beeswarm(peak_counts~ genotype ,df, add=T, pch=21, bg=\"white\", cex=0.5)\n",
    "mtext(paste0(\"q=\",q ), cex=0.5)\n",
    "mtext(peak, line=0.5, cex=0.4)  \n",
    "mtext(rs, line=2, cex=0.5, side=1)         \n",
    "\n",
    "    \n",
    "   } else{\n",
    "      \n",
    "    plot.new()\n",
    "  }\n",
    "    \n",
    "            \n",
    "               \n",
    "}"
   ]
  },
  {
   "cell_type": "code",
   "execution_count": null,
   "id": "pharmaceutical-trial",
   "metadata": {},
   "outputs": [],
   "source": [
    "#awk -v OFS=\"\\t\" '{print \"chr\"$1,$2-1,$2}' snp_list > snp_list.bed\n",
    "#bedtools intersect -a snp_list.bed -b ../rasqual/bulk/bulk/bulk.filtered.bed -wa -wb > snp_list.peaks.bed "
   ]
  },
  {
   "cell_type": "markdown",
   "id": "intimate-organ",
   "metadata": {},
   "source": [
    "### Make figures"
   ]
  },
  {
   "cell_type": "code",
   "execution_count": 31,
   "id": "alone-parent",
   "metadata": {},
   "outputs": [],
   "source": [
    "examples = read.table('example_boxplots/snp_list.peaks.bed')\n",
    "\n",
    "examples$snps  = paste0(examples$V1, \":\" , examples$V3,\":\" )\n",
    "examples$peaks = paste0(examples$V4, \":\" , examples$V5 -1 ,\"-\" ,examples$V6) \n",
    "\n",
    "examples$CAT = c('private','private','private','private','divergent', 'divergent', 'coacc', \n",
    "'gwas', 'gwas', 'gwas','gwas','gwas','private','private','private','private','divergent')\n",
    "examples$important = c(F,F,F,F,F,T,F,T,T,T,T,T,F,F,F,F,F)"
   ]
  },
  {
   "cell_type": "code",
   "execution_count": 251,
   "id": "hawaiian-census",
   "metadata": {},
   "outputs": [],
   "source": [
    "imp = subset(examples, important==T)"
   ]
  },
  {
   "cell_type": "code",
   "execution_count": 262,
   "id": "worst-basic",
   "metadata": {},
   "outputs": [],
   "source": [
    "reso        = \"broad\"\n",
    "celltypes   = c(\"bulk\", 'b', 'mono', 't', 'nk')"
   ]
  },
  {
   "cell_type": "code",
   "execution_count": 270,
   "id": "appropriate-exposure",
   "metadata": {},
   "outputs": [
    {
     "data": {
      "text/html": [
       "<strong>png:</strong> 2"
      ],
      "text/latex": [
       "\\textbf{png:} 2"
      ],
      "text/markdown": [
       "**png:** 2"
      ],
      "text/plain": [
       "png \n",
       "  2 "
      ]
     },
     "metadata": {},
     "output_type": "display_data"
    }
   ],
   "source": [
    "pdf(\"figures/Boxplot_divergent.pdf\")\n",
    "par(mfrow=c(6,8), mar = c(2,2,2,2), lwd=0.6)\n",
    "for(x in 1:nrow(imp)){\n",
    "    snp  = imp$snps[x]\n",
    "    peak = imp$peaks[x]\n",
    "#plot.new()\n",
    "for(c in  celltypes){\n",
    "    \n",
    "    plot_boxplot (peak , snp, c,suffix=\"_run3\",  smr_dir='summarized_caqtls/run3', YLIM=c(-2,1.8))\n",
    "    \n",
    "    }\n",
    "    plot.new()\n",
    "    plot.new()\n",
    "    \n",
    "    }\n",
    "\n",
    "dev.off()"
   ]
  },
  {
   "cell_type": "code",
   "execution_count": 305,
   "id": "boolean-earth",
   "metadata": {},
   "outputs": [],
   "source": [
    "anova_results = read.csv(\"anova_interaction/results_anova_broad.csv\", row.names=1)"
   ]
  },
  {
   "cell_type": "code",
   "execution_count": 277,
   "id": "collaborative-cycling",
   "metadata": {},
   "outputs": [],
   "source": [
    "priv = c(\"rs13294415\",\"rs10888395\",\"rs10511304\", \"rs1475159\" )"
   ]
  },
  {
   "cell_type": "code",
   "execution_count": 279,
   "id": "baking-liverpool",
   "metadata": {},
   "outputs": [],
   "source": [
    "private = subset(anova_results, rsID %in% priv)"
   ]
  },
  {
   "cell_type": "code",
   "execution_count": 286,
   "id": "ahead-publicity",
   "metadata": {},
   "outputs": [],
   "source": [
    "ylims =list(c(-2.1, 1.5), c(-1.5, 1.5), c(-1.8, 1.6), c(-1.5,2.2))"
   ]
  },
  {
   "cell_type": "code",
   "execution_count": 287,
   "id": "searching-scientist",
   "metadata": {},
   "outputs": [
    {
     "data": {
      "text/html": [
       "<strong>png:</strong> 2"
      ],
      "text/latex": [
       "\\textbf{png:} 2"
      ],
      "text/markdown": [
       "**png:** 2"
      ],
      "text/plain": [
       "png \n",
       "  2 "
      ]
     },
     "metadata": {},
     "output_type": "display_data"
    }
   ],
   "source": [
    "pdf(\"figures/Boxplot_private.pdf\")\n",
    "par(mfrow=c(6,8), mar = c(2,2,2,2), lwd=0.6)\n",
    "for(x in 1:nrow(private)){\n",
    "    snp  = private$varID[x]\n",
    "    peak = private$Feature[x]\n",
    "    cell_sel = as.character(private$cell[x])\n",
    "#plot.new()\n",
    "for(c in  c(\"bulk\", cell_sel)){\n",
    "    \n",
    "    plot_boxplot (peak , snp, c,suffix=\"_run3\",  smr_dir='summarized_caqtls/run3', YLIM=ylims[[x]])\n",
    "    \n",
    "    }\n",
    "    plot.new()\n",
    "    plot.new()\n",
    "    \n",
    "    }\n",
    "\n",
    "dev.off()"
   ]
  },
  {
   "cell_type": "code",
   "execution_count": 310,
   "id": "stable-liberia",
   "metadata": {},
   "outputs": [],
   "source": [
    "tc = subset(anova_results, private ==FALSE & exclusive==TRUE & aov_qval<0.1 & n_tested_cells==4 )"
   ]
  },
  {
   "cell_type": "code",
   "execution_count": 316,
   "id": "rocky-white",
   "metadata": {},
   "outputs": [
    {
     "data": {
      "text/html": [
       "<strong>png:</strong> 2"
      ],
      "text/latex": [
       "\\textbf{png:} 2"
      ],
      "text/markdown": [
       "**png:** 2"
      ],
      "text/plain": [
       "png \n",
       "  2 "
      ]
     },
     "metadata": {},
     "output_type": "display_data"
    }
   ],
   "source": [
    "pdf(\"figures/Boxplot_new.pdf\")\n",
    "par(mfrow=c(6,8), mar = c(2,2,2,2), lwd=0.6)\n",
    "for(x in 8){\n",
    "    snp  = tc$varID[x]\n",
    "    peak = tc$Feature[x]\n",
    "   \n",
    "#plot.new()\n",
    "for(c in  celltypes){\n",
    "    \n",
    "    plot_boxplot (peak , snp, c,suffix=\"_run3\",  smr_dir='summarized_caqtls/run3', YLIM=c(-2.2, 1.7))\n",
    "    \n",
    "    }\n",
    " \n",
    "    }\n",
    "\n",
    "dev.off()"
   ]
  },
  {
   "cell_type": "markdown",
   "id": "b4af6868",
   "metadata": {},
   "source": [
    "### coaccessible example"
   ]
  },
  {
   "cell_type": "code",
   "execution_count": 8,
   "id": "41f357d0",
   "metadata": {},
   "outputs": [],
   "source": [
    "reso        = \"broad\"\n",
    "celltypes   = c(\"bulk\", 'b', 'mono', 't', 'nk')"
   ]
  },
  {
   "cell_type": "code",
   "execution_count": 27,
   "id": "de143ad0",
   "metadata": {},
   "outputs": [
    {
     "data": {
      "text/html": [
       "<strong>png:</strong> 2"
      ],
      "text/latex": [
       "\\textbf{png:} 2"
      ],
      "text/markdown": [
       "**png:** 2"
      ],
      "text/plain": [
       "png \n",
       "  2 "
      ]
     },
     "metadata": {},
     "output_type": "display_data"
    }
   ],
   "source": [
    "pdf(\"figures/Boxplot_coacc.pdf\")\n",
    "par(mfrow=c(6,8), mar = c(2,2,2,2), lwd=0.6)\n",
    "    c = \"t\"\n",
    "    snp  = 'chr14:95412171'\n",
    "    peak = 'chr14:95235918-95236970'\n",
    "   \n",
    "    plot_boxplot (peak , snp, c,suffix=\"_run3\",  smr_dir='summarized_caqtls/run3', YLIM=c(-2.2, 1.7))\n",
    "    \n",
    "    peak = 'chr14:95411884-95413043'\n",
    "    plot_boxplot (peak , snp, c,suffix=\"_run3\",  smr_dir='summarized_caqtls/run3', YLIM=c(-2.2, 1.7))\n",
    "    dev.off()"
   ]
  },
  {
   "cell_type": "markdown",
   "id": "0461f36b",
   "metadata": {},
   "source": [
    "### gwas examples"
   ]
  },
  {
   "cell_type": "code",
   "execution_count": 37,
   "id": "068e3c4b",
   "metadata": {},
   "outputs": [],
   "source": [
    "gwas = subset(examples, CAT==\"gwas\")"
   ]
  },
  {
   "cell_type": "code",
   "execution_count": 38,
   "id": "c5d54cf9",
   "metadata": {},
   "outputs": [],
   "source": [
    "gwas = gwas [-5,c('snps','peaks')]"
   ]
  },
  {
   "cell_type": "code",
   "execution_count": 40,
   "id": "3f3c3e8e",
   "metadata": {},
   "outputs": [],
   "source": [
    "gwas = rbind(gwas, c('chr5:55444683:','chr5:55254433-55255382' ))"
   ]
  },
  {
   "cell_type": "code",
   "execution_count": 43,
   "id": "91b331e2",
   "metadata": {},
   "outputs": [],
   "source": [
    "cellule = list(  c(\"bulk\", \"t\", \"naive_cd4_t\", \"naive_cd8_t\"), \n",
    "                 c(\"bulk\", 't', 'cyto_cd8_t','b','mono','act_cd4_t','mem_b'),\n",
    "                 c(\"bulk\",'cMono','mem_cd8_t','naive_cd8_t','cDC','act_cd4_t','ncMono','naive_cd4_t','tReg','cyto_cd8_t'),\n",
    "                 c(\"bulk\", \"t\", \"act_cd4_t\"),  c(\"bulk\", \"t\", \"act_cd4_t\"))"
   ]
  },
  {
   "cell_type": "code",
   "execution_count": 46,
   "id": "824205c0",
   "metadata": {},
   "outputs": [
    {
     "data": {
      "text/html": [
       "<strong>png:</strong> 2"
      ],
      "text/latex": [
       "\\textbf{png:} 2"
      ],
      "text/markdown": [
       "**png:** 2"
      ],
      "text/plain": [
       "png \n",
       "  2 "
      ]
     },
     "metadata": {},
     "output_type": "display_data"
    }
   ],
   "source": [
    "pdf(\"figures/Boxplot_gwas_vst.pdf\")\n",
    "par(mfrow=c(6,8), mar = c(2,2,2,2), lwd=0.6)\n",
    "\n",
    "for (i in 1:5){\n",
    "cells_sel = cellule[[i]]\n",
    "    snp  = gwas$snps[i]\n",
    "    peak = gwas$peaks[i]\n",
    "    for(c in cells_sel){\n",
    "    plot_boxplot (peak , snp, c,suffix=\"_run3\",  smr_dir='summarized_caqtls/run3', YLIM=NULL, zscore = FALSE)\n",
    " }\n",
    "}\n",
    "dev.off()"
   ]
  },
  {
   "cell_type": "code",
   "execution_count": 50,
   "id": "03a53ca8",
   "metadata": {},
   "outputs": [
    {
     "data": {
      "text/html": [
       "<strong>png:</strong> 2"
      ],
      "text/latex": [
       "\\textbf{png:} 2"
      ],
      "text/markdown": [
       "**png:** 2"
      ],
      "text/plain": [
       "png \n",
       "  2 "
      ]
     },
     "metadata": {},
     "output_type": "display_data"
    }
   ],
   "source": [
    "pdf(\"figures/Boxplot_gwas_test.pdf\")\n",
    "par(mfrow=c(6,8), mar = c(2,2,2,2), lwd=0.6)\n",
    "\n",
    "for (i in 3){\n",
    "cells_sel = c(\"bulk\", \"t\", \"mono\", \"b\", 'nk')\n",
    "    snp  = gwas$snps[i]\n",
    "    peak = gwas$peaks[i]\n",
    "    for(c in cells_sel){\n",
    "    plot_boxplot (peak , snp, c,suffix=\"_run3\",  smr_dir='summarized_caqtls/run3', YLIM=NULL, zscore = TRUE)\n",
    " }\n",
    "}\n",
    "dev.off()"
   ]
  },
  {
   "cell_type": "code",
   "execution_count": 56,
   "id": "6899d914",
   "metadata": {},
   "outputs": [
    {
     "data": {
      "text/html": [
       "<strong>png:</strong> 2"
      ],
      "text/latex": [
       "\\textbf{png:} 2"
      ],
      "text/markdown": [
       "**png:** 2"
      ],
      "text/plain": [
       "png \n",
       "  2 "
      ]
     },
     "metadata": {},
     "output_type": "display_data"
    }
   ],
   "source": [
    "pdf(\"figures/Boxplot_gwas_new.pdf\")\n",
    "par(mfrow=c(6,8), mar = c(2,2,2,2), lwd=0.6)\n",
    "\n",
    "\n",
    "cells_sel = c(\"bulk\", \"mono\", \"t\", \"b\", 'nk','mem_cd8_t')\n",
    "    snp  = 'chr7:28724374:'\n",
    "    peak = 'chr7:28724213-28725891'\n",
    "    for(c in cells_sel){\n",
    "    plot_boxplot (peak , snp, c,suffix=\"_run3\",  smr_dir='summarized_caqtls/run3', YLIM=NULL, zscore = TRUE)\n",
    "}\n",
    "    snp  = 'chr12:56473808:'\n",
    "    peak = 'chr12:56472735-56474339'\n",
    "    for(c in cells_sel){\n",
    "    plot_boxplot (peak , snp, c,suffix=\"_run3\",  smr_dir='summarized_caqtls/run3', YLIM=NULL, zscore = TRUE)\n",
    "}\n",
    "\n",
    "    snp  = 'chr2:228670476:'\n",
    "    peak = 'chr2:228669766-228670866'\n",
    "    for(c in cells_sel){\n",
    "    plot_boxplot (peak , snp, c,suffix=\"_run3\",  smr_dir='summarized_caqtls/run3', YLIM=NULL, zscore = TRUE)\n",
    "}\n",
    "dev.off()"
   ]
  },
  {
   "cell_type": "code",
   "execution_count": 61,
   "id": "b4d3f27c",
   "metadata": {},
   "outputs": [],
   "source": [
    "cells_sel = c(\"bulk\", \"mono\", \"t\", \"b\", 'nk')"
   ]
  },
  {
   "cell_type": "code",
   "execution_count": 62,
   "id": "415a7224",
   "metadata": {},
   "outputs": [
    {
     "data": {
      "text/html": [
       "<strong>png:</strong> 2"
      ],
      "text/latex": [
       "\\textbf{png:} 2"
      ],
      "text/markdown": [
       "**png:** 2"
      ],
      "text/plain": [
       "png \n",
       "  2 "
      ]
     },
     "metadata": {},
     "output_type": "display_data"
    }
   ],
   "source": [
    "pdf(\"figures/Boxplot_cc20.pdf\")\n",
    "par(mfrow=c(6,8), mar = c(2,2,2,2), lwd=0.6)\n",
    "\n",
    "snp  = 'chr2:228670476:'\n",
    "    peak = 'chr2:228669766-228670866'\n",
    "    for(c in c(cells_sel,celltypes)){\n",
    "    plot_boxplot (peak , snp, c,suffix=\"_run3\",  smr_dir='summarized_caqtls/run3', YLIM=NULL, zscore = TRUE)\n",
    "}\n",
    "dev.off()"
   ]
  },
  {
   "cell_type": "code",
   "execution_count": 73,
   "id": "85b1d59a",
   "metadata": {},
   "outputs": [
    {
     "data": {
      "text/html": [
       "<strong>png:</strong> 2"
      ],
      "text/latex": [
       "\\textbf{png:} 2"
      ],
      "text/markdown": [
       "**png:** 2"
      ],
      "text/plain": [
       "png \n",
       "  2 "
      ]
     },
     "metadata": {},
     "output_type": "display_data"
    }
   ],
   "source": [
    "pdf(\"figures/Boxplot_supp_caqtls.pdf\")\n",
    "par(mfrow=c(6,8), mar = c(2,2,2,2), lwd=0.6)\n",
    "for (i in 13:17){\n",
    "snp  = examples$snps[i]\n",
    "peak = examples$peaks[i]\n",
    "    for(c in c(cells_sel,celltypes)){\n",
    "    plot_boxplot (peak , snp, c,suffix=\"_run3\",  smr_dir='summarized_caqtls/run3', YLIM=NULL, zscore = TRUE)\n",
    "}\n",
    "    }\n",
    "dev.off()"
   ]
  },
  {
   "cell_type": "code",
   "execution_count": 83,
   "id": "6e5c3bdd",
   "metadata": {},
   "outputs": [],
   "source": [
    "ex2 = data.frame(peaks = c('chr12:47643727-47644530', 'chr4:108785014-108785669',\n",
    "                        'chr6:1286253-1286584','chr11:9594342-9595642', \n",
    "                           'chr1:203642938-203643753','chr17:41400227-41401288','chr6:36354187-36356090'),\n",
    "                 snps = c('chr12:47644392:', 'chr4:108785332:','chr6:1286450:',\n",
    "                          'chr11:9594690:','chr1:203643268:','chr17:41401202:','chr6:36355610:'))\n"
   ]
  },
  {
   "cell_type": "code",
   "execution_count": 105,
   "id": "ba4f14eb",
   "metadata": {},
   "outputs": [
    {
     "data": {
      "text/html": [
       "<strong>png:</strong> 2"
      ],
      "text/latex": [
       "\\textbf{png:} 2"
      ],
      "text/markdown": [
       "**png:** 2"
      ],
      "text/plain": [
       "png \n",
       "  2 "
      ]
     },
     "metadata": {},
     "output_type": "display_data"
    }
   ],
   "source": [
    "pdf(\"figures/Boxplot_supp_caqtls3.pdf\")\n",
    "par(mfrow=c(6,8), mar = c(2,2,2,2), lwd=0.6)\n",
    "for (i in 7){\n",
    "snp  = ex2$snps[i]\n",
    "peak = ex2$peaks[i]\n",
    "    for(c in c(cells_sel,celltypes)){\n",
    "    plot_boxplot (peak , snp, c,suffix=\"_run3\",  smr_dir='summarized_caqtls/run3', YLIM=c(-2.2,2.2), zscore = TRUE)\n",
    "}\n",
    "    }\n",
    "dev.off()"
   ]
  },
  {
   "cell_type": "code",
   "execution_count": 91,
   "id": "5e4ec621",
   "metadata": {},
   "outputs": [],
   "source": [
    " ex1 = as.data.frame(matrix(c('chr5:157506340:','chr5:157506084-157506508',\n",
    "                'chr12:47644392:','chr12:47643727-47644530',\n",
    "                'chr6:1286450:', 'chr6:1286253-1286584',\n",
    "                'chr9:108966249:','chr9:108966003-108966777'), ncol=2, byrow=T))\n",
    "ex1$cell = c('naive_b', 'naive_cd4_t', 'cMono','cyto_nk')"
   ]
  },
  {
   "cell_type": "code",
   "execution_count": 103,
   "id": "af15590c",
   "metadata": {},
   "outputs": [],
   "source": [
    "ylims = list(c(-2.2,1.5),c(-1.8,1.8),c(-1,2.2),c(-1.6,1.6))"
   ]
  },
  {
   "cell_type": "code",
   "execution_count": 104,
   "id": "2efdfd30",
   "metadata": {},
   "outputs": [
    {
     "data": {
      "text/html": [
       "<strong>png:</strong> 2"
      ],
      "text/latex": [
       "\\textbf{png:} 2"
      ],
      "text/markdown": [
       "**png:** 2"
      ],
      "text/plain": [
       "png \n",
       "  2 "
      ]
     },
     "metadata": {},
     "output_type": "display_data"
    }
   ],
   "source": [
    "pdf(\"figures/Boxplot_supp_fine.pdf\")\n",
    "par(mfrow=c(6,8), mar = c(2,2,2,2), lwd=0.6)\n",
    "for (i in 1:4){\n",
    "snp  = ex1$V1[i]\n",
    "peak = ex1$V2[i]\n",
    "    for(c in c(\"bulk\",ex1$cell[i])){\n",
    "    plot_boxplot (peak , snp, c,suffix=\"_run3\",  smr_dir='summarized_caqtls/run3', YLIM=ylims[[i]], zscore = TRUE)\n",
    "}\n",
    "    }\n",
    "dev.off()"
   ]
  },
  {
   "cell_type": "code",
   "execution_count": 111,
   "id": "968ed8e8",
   "metadata": {},
   "outputs": [
    {
     "data": {
      "text/html": [
       "<table class=\"dataframe\">\n",
       "<caption>A data.frame: 17 × 10</caption>\n",
       "<thead>\n",
       "\t<tr><th scope=col>V1</th><th scope=col>V2</th><th scope=col>V3</th><th scope=col>V4</th><th scope=col>V5</th><th scope=col>V6</th><th scope=col>snps</th><th scope=col>peaks</th><th scope=col>CAT</th><th scope=col>important</th></tr>\n",
       "\t<tr><th scope=col>&lt;chr&gt;</th><th scope=col>&lt;int&gt;</th><th scope=col>&lt;int&gt;</th><th scope=col>&lt;chr&gt;</th><th scope=col>&lt;int&gt;</th><th scope=col>&lt;int&gt;</th><th scope=col>&lt;chr&gt;</th><th scope=col>&lt;chr&gt;</th><th scope=col>&lt;chr&gt;</th><th scope=col>&lt;lgl&gt;</th></tr>\n",
       "</thead>\n",
       "<tbody>\n",
       "\t<tr><td>chr9 </td><td> 77669151</td><td> 77669152</td><td>chr9 </td><td> 77668569</td><td> 77669180</td><td>chr9:77669152:  </td><td>chr9:77668568-77669180   </td><td>private  </td><td>FALSE</td></tr>\n",
       "\t<tr><td>chr6 </td><td>164141648</td><td>164141649</td><td>chr6 </td><td>164141435</td><td>164141902</td><td>chr6:164141649: </td><td>chr6:164141434-164141902 </td><td>private  </td><td>FALSE</td></tr>\n",
       "\t<tr><td>chr1 </td><td>150762170</td><td>150762171</td><td>chr1 </td><td>150761825</td><td>150762301</td><td>chr1:150762171: </td><td>chr1:150761824-150762301 </td><td>private  </td><td>FALSE</td></tr>\n",
       "\t<tr><td>chr8 </td><td>  2143417</td><td>  2143418</td><td>chr8 </td><td>  2142843</td><td>  2143474</td><td>chr8:2143418:   </td><td>chr8:2142842-2143474     </td><td>private  </td><td>FALSE</td></tr>\n",
       "\t<tr><td>chr12</td><td>113671188</td><td>113671189</td><td>chr12</td><td>113670656</td><td>113671680</td><td>chr12:113671189:</td><td>chr12:113670655-113671680</td><td>divergent</td><td>FALSE</td></tr>\n",
       "\t<tr><td>chr5 </td><td> 54048993</td><td> 54048994</td><td>chr5 </td><td> 54048695</td><td> 54049421</td><td>chr5:54048994:  </td><td>chr5:54048694-54049421   </td><td>divergent</td><td> TRUE</td></tr>\n",
       "\t<tr><td>chr6 </td><td>  7439631</td><td>  7439632</td><td>chr6 </td><td>  7439319</td><td>  7440045</td><td>chr6:7439632:   </td><td>chr6:7439318-7440045     </td><td>coacc    </td><td>FALSE</td></tr>\n",
       "\t<tr><td>chr6 </td><td> 90976767</td><td> 90976768</td><td>chr6 </td><td> 90976485</td><td> 90977421</td><td>chr6:90976768:  </td><td>chr6:90976484-90977421   </td><td>gwas     </td><td> TRUE</td></tr>\n",
       "\t<tr><td>chr11</td><td>118743285</td><td>118743286</td><td>chr11</td><td>118743055</td><td>118743481</td><td>chr11:118743286:</td><td>chr11:118743054-118743481</td><td>gwas     </td><td> TRUE</td></tr>\n",
       "\t<tr><td>chr12</td><td>   740008</td><td>   740009</td><td>chr12</td><td>   739182</td><td>   740753</td><td>chr12:740009:   </td><td>chr12:739181-740753      </td><td>gwas     </td><td> TRUE</td></tr>\n",
       "\t<tr><td>chr5 </td><td> 55444682</td><td> 55444683</td><td>chr5 </td><td> 55443410</td><td> 55444796</td><td>chr5:55444683:  </td><td>chr5:55443409-55444796   </td><td>gwas     </td><td> TRUE</td></tr>\n",
       "\t<tr><td>chr15</td><td> 67442595</td><td> 67442596</td><td>chr15</td><td> 67442334</td><td> 67443185</td><td>chr15:67442596: </td><td>chr15:67442333-67443185  </td><td>gwas     </td><td> TRUE</td></tr>\n",
       "\t<tr><td>chr5 </td><td>157506339</td><td>157506340</td><td>chr5 </td><td>157506085</td><td>157506508</td><td>chr5:157506340: </td><td>chr5:157506084-157506508 </td><td>private  </td><td>FALSE</td></tr>\n",
       "\t<tr><td>chr9 </td><td>108966248</td><td>108966249</td><td>chr9 </td><td>108966004</td><td>108966777</td><td>chr9:108966249: </td><td>chr9:108966003-108966777 </td><td>private  </td><td>FALSE</td></tr>\n",
       "\t<tr><td>chr1 </td><td>153337942</td><td>153337943</td><td>chr1 </td><td>153337748</td><td>153338156</td><td>chr1:153337943: </td><td>chr1:153337747-153338156 </td><td>private  </td><td>FALSE</td></tr>\n",
       "\t<tr><td>chr10</td><td>132883615</td><td>132883616</td><td>chr10</td><td>132883289</td><td>132883922</td><td>chr10:132883616:</td><td>chr10:132883288-132883922</td><td>private  </td><td>FALSE</td></tr>\n",
       "\t<tr><td>chr20</td><td>  4795724</td><td>  4795725</td><td>chr20</td><td>  4794768</td><td>  4795963</td><td>chr20:4795725:  </td><td>chr20:4794767-4795963    </td><td>divergent</td><td>FALSE</td></tr>\n",
       "</tbody>\n",
       "</table>\n"
      ],
      "text/latex": [
       "A data.frame: 17 × 10\n",
       "\\begin{tabular}{llllllllll}\n",
       " V1 & V2 & V3 & V4 & V5 & V6 & snps & peaks & CAT & important\\\\\n",
       " <chr> & <int> & <int> & <chr> & <int> & <int> & <chr> & <chr> & <chr> & <lgl>\\\\\n",
       "\\hline\n",
       "\t chr9  &  77669151 &  77669152 & chr9  &  77668569 &  77669180 & chr9:77669152:   & chr9:77668568-77669180    & private   & FALSE\\\\\n",
       "\t chr6  & 164141648 & 164141649 & chr6  & 164141435 & 164141902 & chr6:164141649:  & chr6:164141434-164141902  & private   & FALSE\\\\\n",
       "\t chr1  & 150762170 & 150762171 & chr1  & 150761825 & 150762301 & chr1:150762171:  & chr1:150761824-150762301  & private   & FALSE\\\\\n",
       "\t chr8  &   2143417 &   2143418 & chr8  &   2142843 &   2143474 & chr8:2143418:    & chr8:2142842-2143474      & private   & FALSE\\\\\n",
       "\t chr12 & 113671188 & 113671189 & chr12 & 113670656 & 113671680 & chr12:113671189: & chr12:113670655-113671680 & divergent & FALSE\\\\\n",
       "\t chr5  &  54048993 &  54048994 & chr5  &  54048695 &  54049421 & chr5:54048994:   & chr5:54048694-54049421    & divergent &  TRUE\\\\\n",
       "\t chr6  &   7439631 &   7439632 & chr6  &   7439319 &   7440045 & chr6:7439632:    & chr6:7439318-7440045      & coacc     & FALSE\\\\\n",
       "\t chr6  &  90976767 &  90976768 & chr6  &  90976485 &  90977421 & chr6:90976768:   & chr6:90976484-90977421    & gwas      &  TRUE\\\\\n",
       "\t chr11 & 118743285 & 118743286 & chr11 & 118743055 & 118743481 & chr11:118743286: & chr11:118743054-118743481 & gwas      &  TRUE\\\\\n",
       "\t chr12 &    740008 &    740009 & chr12 &    739182 &    740753 & chr12:740009:    & chr12:739181-740753       & gwas      &  TRUE\\\\\n",
       "\t chr5  &  55444682 &  55444683 & chr5  &  55443410 &  55444796 & chr5:55444683:   & chr5:55443409-55444796    & gwas      &  TRUE\\\\\n",
       "\t chr15 &  67442595 &  67442596 & chr15 &  67442334 &  67443185 & chr15:67442596:  & chr15:67442333-67443185   & gwas      &  TRUE\\\\\n",
       "\t chr5  & 157506339 & 157506340 & chr5  & 157506085 & 157506508 & chr5:157506340:  & chr5:157506084-157506508  & private   & FALSE\\\\\n",
       "\t chr9  & 108966248 & 108966249 & chr9  & 108966004 & 108966777 & chr9:108966249:  & chr9:108966003-108966777  & private   & FALSE\\\\\n",
       "\t chr1  & 153337942 & 153337943 & chr1  & 153337748 & 153338156 & chr1:153337943:  & chr1:153337747-153338156  & private   & FALSE\\\\\n",
       "\t chr10 & 132883615 & 132883616 & chr10 & 132883289 & 132883922 & chr10:132883616: & chr10:132883288-132883922 & private   & FALSE\\\\\n",
       "\t chr20 &   4795724 &   4795725 & chr20 &   4794768 &   4795963 & chr20:4795725:   & chr20:4794767-4795963     & divergent & FALSE\\\\\n",
       "\\end{tabular}\n"
      ],
      "text/markdown": [
       "\n",
       "A data.frame: 17 × 10\n",
       "\n",
       "| V1 &lt;chr&gt; | V2 &lt;int&gt; | V3 &lt;int&gt; | V4 &lt;chr&gt; | V5 &lt;int&gt; | V6 &lt;int&gt; | snps &lt;chr&gt; | peaks &lt;chr&gt; | CAT &lt;chr&gt; | important &lt;lgl&gt; |\n",
       "|---|---|---|---|---|---|---|---|---|---|\n",
       "| chr9  |  77669151 |  77669152 | chr9  |  77668569 |  77669180 | chr9:77669152:   | chr9:77668568-77669180    | private   | FALSE |\n",
       "| chr6  | 164141648 | 164141649 | chr6  | 164141435 | 164141902 | chr6:164141649:  | chr6:164141434-164141902  | private   | FALSE |\n",
       "| chr1  | 150762170 | 150762171 | chr1  | 150761825 | 150762301 | chr1:150762171:  | chr1:150761824-150762301  | private   | FALSE |\n",
       "| chr8  |   2143417 |   2143418 | chr8  |   2142843 |   2143474 | chr8:2143418:    | chr8:2142842-2143474      | private   | FALSE |\n",
       "| chr12 | 113671188 | 113671189 | chr12 | 113670656 | 113671680 | chr12:113671189: | chr12:113670655-113671680 | divergent | FALSE |\n",
       "| chr5  |  54048993 |  54048994 | chr5  |  54048695 |  54049421 | chr5:54048994:   | chr5:54048694-54049421    | divergent |  TRUE |\n",
       "| chr6  |   7439631 |   7439632 | chr6  |   7439319 |   7440045 | chr6:7439632:    | chr6:7439318-7440045      | coacc     | FALSE |\n",
       "| chr6  |  90976767 |  90976768 | chr6  |  90976485 |  90977421 | chr6:90976768:   | chr6:90976484-90977421    | gwas      |  TRUE |\n",
       "| chr11 | 118743285 | 118743286 | chr11 | 118743055 | 118743481 | chr11:118743286: | chr11:118743054-118743481 | gwas      |  TRUE |\n",
       "| chr12 |    740008 |    740009 | chr12 |    739182 |    740753 | chr12:740009:    | chr12:739181-740753       | gwas      |  TRUE |\n",
       "| chr5  |  55444682 |  55444683 | chr5  |  55443410 |  55444796 | chr5:55444683:   | chr5:55443409-55444796    | gwas      |  TRUE |\n",
       "| chr15 |  67442595 |  67442596 | chr15 |  67442334 |  67443185 | chr15:67442596:  | chr15:67442333-67443185   | gwas      |  TRUE |\n",
       "| chr5  | 157506339 | 157506340 | chr5  | 157506085 | 157506508 | chr5:157506340:  | chr5:157506084-157506508  | private   | FALSE |\n",
       "| chr9  | 108966248 | 108966249 | chr9  | 108966004 | 108966777 | chr9:108966249:  | chr9:108966003-108966777  | private   | FALSE |\n",
       "| chr1  | 153337942 | 153337943 | chr1  | 153337748 | 153338156 | chr1:153337943:  | chr1:153337747-153338156  | private   | FALSE |\n",
       "| chr10 | 132883615 | 132883616 | chr10 | 132883289 | 132883922 | chr10:132883616: | chr10:132883288-132883922 | private   | FALSE |\n",
       "| chr20 |   4795724 |   4795725 | chr20 |   4794768 |   4795963 | chr20:4795725:   | chr20:4794767-4795963     | divergent | FALSE |\n",
       "\n"
      ],
      "text/plain": [
       "   V1    V2        V3        V4    V5        V6        snps            \n",
       "1  chr9   77669151  77669152 chr9   77668569  77669180 chr9:77669152:  \n",
       "2  chr6  164141648 164141649 chr6  164141435 164141902 chr6:164141649: \n",
       "3  chr1  150762170 150762171 chr1  150761825 150762301 chr1:150762171: \n",
       "4  chr8    2143417   2143418 chr8    2142843   2143474 chr8:2143418:   \n",
       "5  chr12 113671188 113671189 chr12 113670656 113671680 chr12:113671189:\n",
       "6  chr5   54048993  54048994 chr5   54048695  54049421 chr5:54048994:  \n",
       "7  chr6    7439631   7439632 chr6    7439319   7440045 chr6:7439632:   \n",
       "8  chr6   90976767  90976768 chr6   90976485  90977421 chr6:90976768:  \n",
       "9  chr11 118743285 118743286 chr11 118743055 118743481 chr11:118743286:\n",
       "10 chr12    740008    740009 chr12    739182    740753 chr12:740009:   \n",
       "11 chr5   55444682  55444683 chr5   55443410  55444796 chr5:55444683:  \n",
       "12 chr15  67442595  67442596 chr15  67442334  67443185 chr15:67442596: \n",
       "13 chr5  157506339 157506340 chr5  157506085 157506508 chr5:157506340: \n",
       "14 chr9  108966248 108966249 chr9  108966004 108966777 chr9:108966249: \n",
       "15 chr1  153337942 153337943 chr1  153337748 153338156 chr1:153337943: \n",
       "16 chr10 132883615 132883616 chr10 132883289 132883922 chr10:132883616:\n",
       "17 chr20   4795724   4795725 chr20   4794768   4795963 chr20:4795725:  \n",
       "   peaks                     CAT       important\n",
       "1  chr9:77668568-77669180    private   FALSE    \n",
       "2  chr6:164141434-164141902  private   FALSE    \n",
       "3  chr1:150761824-150762301  private   FALSE    \n",
       "4  chr8:2142842-2143474      private   FALSE    \n",
       "5  chr12:113670655-113671680 divergent FALSE    \n",
       "6  chr5:54048694-54049421    divergent  TRUE    \n",
       "7  chr6:7439318-7440045      coacc     FALSE    \n",
       "8  chr6:90976484-90977421    gwas       TRUE    \n",
       "9  chr11:118743054-118743481 gwas       TRUE    \n",
       "10 chr12:739181-740753       gwas       TRUE    \n",
       "11 chr5:55443409-55444796    gwas       TRUE    \n",
       "12 chr15:67442333-67443185   gwas       TRUE    \n",
       "13 chr5:157506084-157506508  private   FALSE    \n",
       "14 chr9:108966003-108966777  private   FALSE    \n",
       "15 chr1:153337747-153338156  private   FALSE    \n",
       "16 chr10:132883288-132883922 private   FALSE    \n",
       "17 chr20:4794767-4795963     divergent FALSE    "
      ]
     },
     "metadata": {},
     "output_type": "display_data"
    }
   ],
   "source": [
    "examples"
   ]
  },
  {
   "cell_type": "code",
   "execution_count": 109,
   "id": "d36d2b12",
   "metadata": {},
   "outputs": [
    {
     "name": "stdout",
     "output_type": "stream",
     "text": [
      "chr5:157506340: chr12:47644392: chr6:1286450: chr9:108966249:"
     ]
    }
   ],
   "source": [
    "cat(ex1$V1)"
   ]
  },
  {
   "cell_type": "code",
   "execution_count": 110,
   "id": "0d7c1091",
   "metadata": {},
   "outputs": [
    {
     "data": {
      "text/html": [
       "<style>\n",
       ".list-inline {list-style: none; margin:0; padding: 0}\n",
       ".list-inline>li {display: inline-block}\n",
       ".list-inline>li:not(:last-child)::after {content: \"\\00b7\"; padding: 0 .5ex}\n",
       "</style>\n",
       "<ol class=list-inline><li>'naive_b'</li><li>'naive_cd4_t'</li><li>'cMono'</li><li>'cyto_nk'</li></ol>\n"
      ],
      "text/latex": [
       "\\begin{enumerate*}\n",
       "\\item 'naive\\_b'\n",
       "\\item 'naive\\_cd4\\_t'\n",
       "\\item 'cMono'\n",
       "\\item 'cyto\\_nk'\n",
       "\\end{enumerate*}\n"
      ],
      "text/markdown": [
       "1. 'naive_b'\n",
       "2. 'naive_cd4_t'\n",
       "3. 'cMono'\n",
       "4. 'cyto_nk'\n",
       "\n",
       "\n"
      ],
      "text/plain": [
       "[1] \"naive_b\"     \"naive_cd4_t\" \"cMono\"       \"cyto_nk\"    "
      ]
     },
     "metadata": {},
     "output_type": "display_data"
    }
   ],
   "source": [
    "ex1$cell"
   ]
  },
  {
   "cell_type": "code",
   "execution_count": null,
   "id": "369c0d83",
   "metadata": {},
   "outputs": [],
   "source": []
  }
 ],
 "metadata": {
  "kernelspec": {
   "display_name": "R 4.1",
   "language": "R",
   "name": "ir41"
  },
  "language_info": {
   "codemirror_mode": "r",
   "file_extension": ".r",
   "mimetype": "text/x-r-source",
   "name": "R",
   "pygments_lexer": "r",
   "version": "4.1.1"
  }
 },
 "nbformat": 4,
 "nbformat_minor": 5
}
