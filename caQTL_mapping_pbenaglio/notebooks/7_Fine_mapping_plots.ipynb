{
 "cells": [
  {
   "cell_type": "code",
   "execution_count": 1,
   "id": "524e1bc8",
   "metadata": {},
   "outputs": [],
   "source": [
    "library(stringr)\n",
    "library(scales)\n",
    "library(RColorBrewer)"
   ]
  },
  {
   "cell_type": "markdown",
   "id": "b6590900",
   "metadata": {},
   "source": [
    "### Plot credible sets"
   ]
  },
  {
   "cell_type": "code",
   "execution_count": 2,
   "id": "1cd403e7",
   "metadata": {},
   "outputs": [],
   "source": [
    "traits = c( 'Asthma_child_onset.99credset.PPA.bed',\n",
    "            'Atopic_dermatitis.99credset.PPA.bed',\n",
    "            'Autoimmune_vitiligo.99credset.PPA.bed',\n",
    "            'Basophil_count.99credset.PPA.bed',\n",
    "            'Crohns_disease.99credset.PPA.bed',\n",
    "            'Eosinophil_count.99credset.PPA.bed',\n",
    "            'Gout.99credset.PPA.bed',\n",
    "            'Lymphocyte_count.99credset.PPA.bed',\n",
    "            'Monocyte_count.99credset.PPA.bed',\n",
    "            'Neutrophil_count.99credset.PPA.bed',\n",
    "            'Primary_sclerosing_cholangitis.99credset.PPA.bed',\n",
    "            'Rheumatoid_arthritis.99credset.PPA.bed',\n",
    "            'Selective_IgA_deficiency.99credset.PPA.bed',\n",
    "            'Systemic_lupus_erythematosus.99credset.PPA.bed',\n",
    "            'Type_1_diabetes.99credset.PPA.bed',\n",
    "            'Ulcerative_colitis.99credset.PPA.bed')"
   ]
  },
  {
   "cell_type": "code",
   "execution_count": 3,
   "id": "ee85a6b7",
   "metadata": {},
   "outputs": [],
   "source": [
    "fmdir = '/nfs/lab/projects/pbmc_snATAC/data/credible_sets/'"
   ]
  },
  {
   "cell_type": "code",
   "execution_count": 4,
   "id": "6450612e",
   "metadata": {},
   "outputs": [],
   "source": [
    "figdir = \"/nfs/lab/projects/pbmc_snATAC/analysis_v2/figures/\""
   ]
  },
  {
   "cell_type": "code",
   "execution_count": 5,
   "id": "b99fdcc8",
   "metadata": {},
   "outputs": [],
   "source": [
    "pl = data.frame()\n",
    "\n",
    "df = data.frame()\n",
    "for (i in 1: length(traits)){\n",
    "fm = read.table(paste0(fmdir, traits[i] ))\n",
    "ag = aggregate(V4~V5, fm, length)\n",
    "ag$br = with(ag, cut(V4, breaks = c(1,3,6,21,51,101, max(V4)+1), right=F))\n",
    "pl = rbind(pl, table(ag$br))\n",
    "    ag$trait = i\n",
    "    df = rbind(df,ag )\n",
    "    }"
   ]
  },
  {
   "cell_type": "code",
   "execution_count": 6,
   "id": "478622ad",
   "metadata": {},
   "outputs": [],
   "source": [
    "colnames(pl) = names(table(ag$br))\n",
    "rownames(pl) = str_split_fixed(traits, \"\\\\.\", 2)[,1]\n",
    "totals = rowSums(pl)\n",
    "\n",
    "pct = pl/totals\n",
    "pal = rev(brewer.pal(6, \"Purples\"))\n",
    "\n",
    "mat =as.matrix(t(pl[order(totals),]))\n",
    "tots = totals [order(totals)]\n",
    "leg = c(\"1-2\", \"3-5\",\"6-20\", \"21-50\" , \"51-100\", \"101+\")"
   ]
  },
  {
   "cell_type": "code",
   "execution_count": 7,
   "id": "c86424cf",
   "metadata": {},
   "outputs": [
    {
     "data": {
      "text/html": [
       "<strong>png:</strong> 2"
      ],
      "text/latex": [
       "\\textbf{png:} 2"
      ],
      "text/markdown": [
       "**png:** 2"
      ],
      "text/plain": [
       "png \n",
       "  2 "
      ]
     },
     "metadata": {},
     "output_type": "display_data"
    }
   ],
   "source": [
    "pdf(paste0(figdir,\"Barplot_loci_smaller.pdf\"))\n",
    "par(mar=c(8,12,10,6), xpd = TRUE)\n",
    "bp = barplot(mat, las=1, horiz = T, col=pal, xlim=c(0,200), xlab=\"# loci\")\n",
    "text(tots,bp, labels = tots, pos = 4)\n",
    "legend(\"bottomright\",legend = leg, pch=22, pt.cex = 1.5,\n",
    "       pt.bg = pal, title=\"# variants per locus\")\n",
    "dev.off()"
   ]
  },
  {
   "cell_type": "code",
   "execution_count": 8,
   "id": "61f54809",
   "metadata": {},
   "outputs": [
    {
     "data": {
      "text/html": [
       "1275"
      ],
      "text/latex": [
       "1275"
      ],
      "text/markdown": [
       "1275"
      ],
      "text/plain": [
       "[1] 1275"
      ]
     },
     "metadata": {},
     "output_type": "display_data"
    }
   ],
   "source": [
    "sum(totals)"
   ]
  },
  {
   "cell_type": "code",
   "execution_count": 9,
   "id": "4630c569",
   "metadata": {},
   "outputs": [
    {
     "data": {
      "text/plain": [
       "   Min. 1st Qu.  Median    Mean 3rd Qu.    Max. \n",
       "    1.0     4.0    16.0    41.5    45.0  2159.0 "
      ]
     },
     "metadata": {},
     "output_type": "display_data"
    }
   ],
   "source": [
    "summary(df[,2])"
   ]
  },
  {
   "cell_type": "code",
   "execution_count": 10,
   "id": "6d8268fa",
   "metadata": {},
   "outputs": [
    {
     "data": {
      "text/html": [
       "<table class=\"dataframe\">\n",
       "<caption>A matrix: 6 × 16 of type dbl</caption>\n",
       "<thead>\n",
       "\t<tr><th></th><th scope=col>1</th><th scope=col>2</th><th scope=col>3</th><th scope=col>4</th><th scope=col>5</th><th scope=col>6</th><th scope=col>7</th><th scope=col>8</th><th scope=col>9</th><th scope=col>10</th><th scope=col>11</th><th scope=col>12</th><th scope=col>13</th><th scope=col>14</th><th scope=col>15</th><th scope=col>16</th></tr>\n",
       "</thead>\n",
       "<tbody>\n",
       "\t<tr><th scope=row>Min.</th><td>  1.00000</td><td>  2.0000</td><td>  1.00000</td><td>  1.00000</td><td>  1.00000</td><td>  1.00000</td><td>  1.00000</td><td>  1.00000</td><td>  1.00000</td><td>  1.00000</td><td>  1.00000</td><td>  1.00000</td><td>  3</td><td>  2.00000</td><td>   2.0000</td><td>  1.0000</td></tr>\n",
       "\t<tr><th scope=row>1st Qu.</th><td>  4.00000</td><td> 33.0000</td><td>  7.00000</td><td>  2.00000</td><td> 14.00000</td><td>  3.00000</td><td>  5.00000</td><td>  3.75000</td><td>  2.00000</td><td>  4.00000</td><td>  4.00000</td><td>  3.50000</td><td> 22</td><td>  9.00000</td><td>  25.0000</td><td>  9.0000</td></tr>\n",
       "\t<tr><th scope=row>Median</th><td> 14.00000</td><td> 56.0000</td><td> 18.00000</td><td>  8.00000</td><td> 29.00000</td><td> 12.00000</td><td> 20.50000</td><td> 14.00000</td><td>  6.50000</td><td> 14.00000</td><td> 16.00000</td><td>  9.00000</td><td> 70</td><td> 30.00000</td><td>  66.0000</td><td> 21.0000</td></tr>\n",
       "\t<tr><th scope=row>Mean</th><td> 35.23333</td><td> 81.3913</td><td> 36.54545</td><td> 28.78431</td><td> 53.13913</td><td> 29.18902</td><td> 48.52632</td><td> 30.00676</td><td> 27.83871</td><td> 44.12371</td><td> 36.23529</td><td> 21.02532</td><td> 56</td><td> 60.02439</td><td> 140.8772</td><td> 46.1519</td></tr>\n",
       "\t<tr><th scope=row>3rd Qu.</th><td> 36.75000</td><td> 97.0000</td><td> 56.00000</td><td> 32.50000</td><td> 67.50000</td><td> 33.00000</td><td> 36.00000</td><td> 35.25000</td><td> 22.75000</td><td> 44.00000</td><td> 41.00000</td><td> 27.50000</td><td> 82</td><td> 75.00000</td><td> 162.0000</td><td> 59.0000</td></tr>\n",
       "\t<tr><th scope=row>Max.</th><td>392.00000</td><td>365.0000</td><td>181.00000</td><td>276.00000</td><td>332.00000</td><td>315.00000</td><td>495.00000</td><td>358.00000</td><td>492.00000</td><td>316.00000</td><td>235.00000</td><td>210.00000</td><td>103</td><td>248.00000</td><td>2159.0000</td><td>354.0000</td></tr>\n",
       "</tbody>\n",
       "</table>\n"
      ],
      "text/latex": [
       "A matrix: 6 × 16 of type dbl\n",
       "\\begin{tabular}{r|llllllllllllllll}\n",
       "  & 1 & 2 & 3 & 4 & 5 & 6 & 7 & 8 & 9 & 10 & 11 & 12 & 13 & 14 & 15 & 16\\\\\n",
       "\\hline\n",
       "\tMin. &   1.00000 &   2.0000 &   1.00000 &   1.00000 &   1.00000 &   1.00000 &   1.00000 &   1.00000 &   1.00000 &   1.00000 &   1.00000 &   1.00000 &   3 &   2.00000 &    2.0000 &   1.0000\\\\\n",
       "\t1st Qu. &   4.00000 &  33.0000 &   7.00000 &   2.00000 &  14.00000 &   3.00000 &   5.00000 &   3.75000 &   2.00000 &   4.00000 &   4.00000 &   3.50000 &  22 &   9.00000 &   25.0000 &   9.0000\\\\\n",
       "\tMedian &  14.00000 &  56.0000 &  18.00000 &   8.00000 &  29.00000 &  12.00000 &  20.50000 &  14.00000 &   6.50000 &  14.00000 &  16.00000 &   9.00000 &  70 &  30.00000 &   66.0000 &  21.0000\\\\\n",
       "\tMean &  35.23333 &  81.3913 &  36.54545 &  28.78431 &  53.13913 &  29.18902 &  48.52632 &  30.00676 &  27.83871 &  44.12371 &  36.23529 &  21.02532 &  56 &  60.02439 &  140.8772 &  46.1519\\\\\n",
       "\t3rd Qu. &  36.75000 &  97.0000 &  56.00000 &  32.50000 &  67.50000 &  33.00000 &  36.00000 &  35.25000 &  22.75000 &  44.00000 &  41.00000 &  27.50000 &  82 &  75.00000 &  162.0000 &  59.0000\\\\\n",
       "\tMax. & 392.00000 & 365.0000 & 181.00000 & 276.00000 & 332.00000 & 315.00000 & 495.00000 & 358.00000 & 492.00000 & 316.00000 & 235.00000 & 210.00000 & 103 & 248.00000 & 2159.0000 & 354.0000\\\\\n",
       "\\end{tabular}\n"
      ],
      "text/markdown": [
       "\n",
       "A matrix: 6 × 16 of type dbl\n",
       "\n",
       "| <!--/--> | 1 | 2 | 3 | 4 | 5 | 6 | 7 | 8 | 9 | 10 | 11 | 12 | 13 | 14 | 15 | 16 |\n",
       "|---|---|---|---|---|---|---|---|---|---|---|---|---|---|---|---|---|\n",
       "| Min. |   1.00000 |   2.0000 |   1.00000 |   1.00000 |   1.00000 |   1.00000 |   1.00000 |   1.00000 |   1.00000 |   1.00000 |   1.00000 |   1.00000 |   3 |   2.00000 |    2.0000 |   1.0000 |\n",
       "| 1st Qu. |   4.00000 |  33.0000 |   7.00000 |   2.00000 |  14.00000 |   3.00000 |   5.00000 |   3.75000 |   2.00000 |   4.00000 |   4.00000 |   3.50000 |  22 |   9.00000 |   25.0000 |   9.0000 |\n",
       "| Median |  14.00000 |  56.0000 |  18.00000 |   8.00000 |  29.00000 |  12.00000 |  20.50000 |  14.00000 |   6.50000 |  14.00000 |  16.00000 |   9.00000 |  70 |  30.00000 |   66.0000 |  21.0000 |\n",
       "| Mean |  35.23333 |  81.3913 |  36.54545 |  28.78431 |  53.13913 |  29.18902 |  48.52632 |  30.00676 |  27.83871 |  44.12371 |  36.23529 |  21.02532 |  56 |  60.02439 |  140.8772 |  46.1519 |\n",
       "| 3rd Qu. |  36.75000 |  97.0000 |  56.00000 |  32.50000 |  67.50000 |  33.00000 |  36.00000 |  35.25000 |  22.75000 |  44.00000 |  41.00000 |  27.50000 |  82 |  75.00000 |  162.0000 |  59.0000 |\n",
       "| Max. | 392.00000 | 365.0000 | 181.00000 | 276.00000 | 332.00000 | 315.00000 | 495.00000 | 358.00000 | 492.00000 | 316.00000 | 235.00000 | 210.00000 | 103 | 248.00000 | 2159.0000 | 354.0000 |\n",
       "\n"
      ],
      "text/plain": [
       "        1         2        3         4         5         6         7        \n",
       "Min.      1.00000   2.0000   1.00000   1.00000   1.00000   1.00000   1.00000\n",
       "1st Qu.   4.00000  33.0000   7.00000   2.00000  14.00000   3.00000   5.00000\n",
       "Median   14.00000  56.0000  18.00000   8.00000  29.00000  12.00000  20.50000\n",
       "Mean     35.23333  81.3913  36.54545  28.78431  53.13913  29.18902  48.52632\n",
       "3rd Qu.  36.75000  97.0000  56.00000  32.50000  67.50000  33.00000  36.00000\n",
       "Max.    392.00000 365.0000 181.00000 276.00000 332.00000 315.00000 495.00000\n",
       "        8         9         10        11        12        13  14       \n",
       "Min.      1.00000   1.00000   1.00000   1.00000   1.00000   3   2.00000\n",
       "1st Qu.   3.75000   2.00000   4.00000   4.00000   3.50000  22   9.00000\n",
       "Median   14.00000   6.50000  14.00000  16.00000   9.00000  70  30.00000\n",
       "Mean     30.00676  27.83871  44.12371  36.23529  21.02532  56  60.02439\n",
       "3rd Qu.  35.25000  22.75000  44.00000  41.00000  27.50000  82  75.00000\n",
       "Max.    358.00000 492.00000 316.00000 235.00000 210.00000 103 248.00000\n",
       "        15        16      \n",
       "Min.       2.0000   1.0000\n",
       "1st Qu.   25.0000   9.0000\n",
       "Median    66.0000  21.0000\n",
       "Mean     140.8772  46.1519\n",
       "3rd Qu.  162.0000  59.0000\n",
       "Max.    2159.0000 354.0000"
      ]
     },
     "metadata": {},
     "output_type": "display_data"
    }
   ],
   "source": [
    "ss = split(df, df$trait)\n",
    "sapply (ss, function(x) summary(x[,2]))"
   ]
  },
  {
   "cell_type": "markdown",
   "id": "15d4c980",
   "metadata": {},
   "source": [
    "### caQTLs in credible sets\n",
    "include also variants with the same q-value as the lead-"
   ]
  },
  {
   "cell_type": "code",
   "execution_count": 11,
   "id": "32d1ab43",
   "metadata": {},
   "outputs": [],
   "source": [
    "alltraits = data.frame()\n",
    "for (i in 1: length(totals)){\n",
    "\n",
    "fm = read.table(paste0(fmdir, traits[i] ))[,4:7]\n",
    "colnames(fm) = c(\"varID\", \"Locus\", \"LNBF\", \"PPA\")\n",
    " fm$Trait = paste(sprintf(\"%02d\",rank(totals,ties.method ='first')[i]), str_split_fixed(traits[i], \"\\\\.\", 2)[,1], sep=\"_\")\n",
    " alltraits = rbind(alltraits, fm)\n",
    "    }\n",
    "    "
   ]
  },
  {
   "cell_type": "code",
   "execution_count": 12,
   "id": "47532ba1",
   "metadata": {},
   "outputs": [],
   "source": [
    "caqdir = '/nfs/lab/projects/pbmc_snATAC/analysis_v2/summarized_caqtls/run3/'\n",
    "files  = list.files(caqdir)[grepl ('_caqtl_sumstats_run3.tsv', list.files(caqdir))] \n",
    "files = files[!(files %in% c('cd4_t_caqtl_sumstats_run3.tsv', 'cd8_t_caqtl_sumstats_run3.tsv', \"bulk_caqtl_sumstats_run3.tsv\"))]\n",
    "cells  = gsub( '_caqtl_sumstats_run3.tsv', \"\" , files)"
   ]
  },
  {
   "cell_type": "code",
   "execution_count": 13,
   "id": "cf831fab",
   "metadata": {},
   "outputs": [],
   "source": [
    "colkeep = c('Feature','varID', 'rsID', 'P_value', 'Q_value' ,'Effect_size' ,'cell' )"
   ]
  },
  {
   "cell_type": "code",
   "execution_count": 14,
   "id": "622275fc",
   "metadata": {},
   "outputs": [],
   "source": [
    "M= data.frame()\n",
    "for (y in 1:length(files)){\n",
    "\n",
    "sms = read.table(paste0(caqdir, files[y]), header=T)\n",
    "sss = subset(sms, Is_peak_caQTL==T & exclude==F)\n",
    "sss = sss[order(sss$Q_value),]\n",
    "ag  = aggregate(Q_value~Feature, sss, min)\n",
    "mm  = merge (sss, ag, by= colnames(ag))\n",
    "mm$cell = cells[y]\n",
    "M    = rbind(M, mm[,colkeep])\n",
    "}"
   ]
  },
  {
   "cell_type": "code",
   "execution_count": 15,
   "id": "ef1a2eb8",
   "metadata": {},
   "outputs": [
    {
     "data": {
      "text/html": [
       "<table class=\"dataframe\">\n",
       "<caption>A data.frame: 14 × 7</caption>\n",
       "<thead>\n",
       "\t<tr><th></th><th scope=col>Feature</th><th scope=col>varID</th><th scope=col>rsID</th><th scope=col>P_value</th><th scope=col>Q_value</th><th scope=col>Effect_size</th><th scope=col>cell</th></tr>\n",
       "\t<tr><th></th><th scope=col>&lt;chr&gt;</th><th scope=col>&lt;chr&gt;</th><th scope=col>&lt;chr&gt;</th><th scope=col>&lt;dbl&gt;</th><th scope=col>&lt;dbl&gt;</th><th scope=col>&lt;dbl&gt;</th><th scope=col>&lt;chr&gt;</th></tr>\n",
       "</thead>\n",
       "<tbody>\n",
       "\t<tr><th scope=row>977</th><td>chr12:739181-740753</td><td>chr12:740009:C:G</td><td>rs34038797</td><td>1.239313e-02</td><td>2.478625e-02</td><td>0.234758</td><td>act_cd4_t  </td></tr>\n",
       "\t<tr><th scope=row>4765</th><td>chr12:739181-740753</td><td>chr12:740009:C:G</td><td>rs34038797</td><td>7.802117e-04</td><td>1.560423e-03</td><td>0.302812</td><td>b          </td></tr>\n",
       "\t<tr><th scope=row>6473</th><td>chr12:739181-740753</td><td>chr12:740009:C:G</td><td>rs34038797</td><td>1.137523e-02</td><td>1.137523e-02</td><td>0.288510</td><td>cDC        </td></tr>\n",
       "\t<tr><th scope=row>8659</th><td>chr12:739181-740753</td><td>chr12:740009:C:G</td><td>rs34038797</td><td>7.186429e-06</td><td>3.593214e-05</td><td>0.201709</td><td>cMono      </td></tr>\n",
       "\t<tr><th scope=row>16271</th><td>chr12:739181-740753</td><td>chr12:740009:C:G</td><td>rs34038797</td><td>6.583025e-03</td><td>6.583025e-03</td><td>0.255610</td><td>cyto_cd8_t </td></tr>\n",
       "\t<tr><th scope=row>20544</th><td>chr12:739181-740753</td><td>chr12:740009:C:G</td><td>rs34038797</td><td>2.159517e-03</td><td>2.159517e-03</td><td>0.323118</td><td>mem_b      </td></tr>\n",
       "\t<tr><th scope=row>21147</th><td>chr12:739181-740753</td><td>chr12:740009:C:G</td><td>rs34038797</td><td>1.933345e-02</td><td>1.933345e-02</td><td>0.259200</td><td>mem_cd8_t  </td></tr>\n",
       "\t<tr><th scope=row>24230</th><td>chr12:739181-740753</td><td>chr12:740009:C:G</td><td>rs34038797</td><td>6.838758e-07</td><td>3.419379e-06</td><td>0.192756</td><td>mono       </td></tr>\n",
       "\t<tr><th scope=row>33178</th><td>chr12:739181-740753</td><td>chr12:740009:C:G</td><td>rs34038797</td><td>2.337266e-03</td><td>4.674532e-03</td><td>0.300117</td><td>naive_b    </td></tr>\n",
       "\t<tr><th scope=row>34536</th><td>chr12:739181-740753</td><td>chr12:740009:C:G</td><td>rs34038797</td><td>8.408785e-03</td><td>1.681757e-02</td><td>0.225290</td><td>naive_cd4_t</td></tr>\n",
       "\t<tr><th scope=row>36431</th><td>chr12:739181-740753</td><td>chr12:740009:C:G</td><td>rs34038797</td><td>2.986819e-03</td><td>2.986819e-03</td><td>0.221313</td><td>naive_cd8_t</td></tr>\n",
       "\t<tr><th scope=row>37608</th><td>chr12:739181-740753</td><td>chr12:740009:C:G</td><td>rs34038797</td><td>1.256522e-03</td><td>3.769566e-03</td><td>0.299121</td><td>ncMono     </td></tr>\n",
       "\t<tr><th scope=row>42755</th><td>chr12:739181-740753</td><td>chr12:740009:C:G</td><td>rs34038797</td><td>5.808110e-04</td><td>2.323244e-03</td><td>0.149375</td><td>t          </td></tr>\n",
       "\t<tr><th scope=row>48509</th><td>chr12:739181-740753</td><td>chr12:740009:C:G</td><td>rs34038797</td><td>2.828750e-03</td><td>2.828750e-03</td><td>0.243139</td><td>tReg       </td></tr>\n",
       "</tbody>\n",
       "</table>\n"
      ],
      "text/latex": [
       "A data.frame: 14 × 7\n",
       "\\begin{tabular}{r|lllllll}\n",
       "  & Feature & varID & rsID & P\\_value & Q\\_value & Effect\\_size & cell\\\\\n",
       "  & <chr> & <chr> & <chr> & <dbl> & <dbl> & <dbl> & <chr>\\\\\n",
       "\\hline\n",
       "\t977 & chr12:739181-740753 & chr12:740009:C:G & rs34038797 & 1.239313e-02 & 2.478625e-02 & 0.234758 & act\\_cd4\\_t  \\\\\n",
       "\t4765 & chr12:739181-740753 & chr12:740009:C:G & rs34038797 & 7.802117e-04 & 1.560423e-03 & 0.302812 & b          \\\\\n",
       "\t6473 & chr12:739181-740753 & chr12:740009:C:G & rs34038797 & 1.137523e-02 & 1.137523e-02 & 0.288510 & cDC        \\\\\n",
       "\t8659 & chr12:739181-740753 & chr12:740009:C:G & rs34038797 & 7.186429e-06 & 3.593214e-05 & 0.201709 & cMono      \\\\\n",
       "\t16271 & chr12:739181-740753 & chr12:740009:C:G & rs34038797 & 6.583025e-03 & 6.583025e-03 & 0.255610 & cyto\\_cd8\\_t \\\\\n",
       "\t20544 & chr12:739181-740753 & chr12:740009:C:G & rs34038797 & 2.159517e-03 & 2.159517e-03 & 0.323118 & mem\\_b      \\\\\n",
       "\t21147 & chr12:739181-740753 & chr12:740009:C:G & rs34038797 & 1.933345e-02 & 1.933345e-02 & 0.259200 & mem\\_cd8\\_t  \\\\\n",
       "\t24230 & chr12:739181-740753 & chr12:740009:C:G & rs34038797 & 6.838758e-07 & 3.419379e-06 & 0.192756 & mono       \\\\\n",
       "\t33178 & chr12:739181-740753 & chr12:740009:C:G & rs34038797 & 2.337266e-03 & 4.674532e-03 & 0.300117 & naive\\_b    \\\\\n",
       "\t34536 & chr12:739181-740753 & chr12:740009:C:G & rs34038797 & 8.408785e-03 & 1.681757e-02 & 0.225290 & naive\\_cd4\\_t\\\\\n",
       "\t36431 & chr12:739181-740753 & chr12:740009:C:G & rs34038797 & 2.986819e-03 & 2.986819e-03 & 0.221313 & naive\\_cd8\\_t\\\\\n",
       "\t37608 & chr12:739181-740753 & chr12:740009:C:G & rs34038797 & 1.256522e-03 & 3.769566e-03 & 0.299121 & ncMono     \\\\\n",
       "\t42755 & chr12:739181-740753 & chr12:740009:C:G & rs34038797 & 5.808110e-04 & 2.323244e-03 & 0.149375 & t          \\\\\n",
       "\t48509 & chr12:739181-740753 & chr12:740009:C:G & rs34038797 & 2.828750e-03 & 2.828750e-03 & 0.243139 & tReg       \\\\\n",
       "\\end{tabular}\n"
      ],
      "text/markdown": [
       "\n",
       "A data.frame: 14 × 7\n",
       "\n",
       "| <!--/--> | Feature &lt;chr&gt; | varID &lt;chr&gt; | rsID &lt;chr&gt; | P_value &lt;dbl&gt; | Q_value &lt;dbl&gt; | Effect_size &lt;dbl&gt; | cell &lt;chr&gt; |\n",
       "|---|---|---|---|---|---|---|---|\n",
       "| 977 | chr12:739181-740753 | chr12:740009:C:G | rs34038797 | 1.239313e-02 | 2.478625e-02 | 0.234758 | act_cd4_t   |\n",
       "| 4765 | chr12:739181-740753 | chr12:740009:C:G | rs34038797 | 7.802117e-04 | 1.560423e-03 | 0.302812 | b           |\n",
       "| 6473 | chr12:739181-740753 | chr12:740009:C:G | rs34038797 | 1.137523e-02 | 1.137523e-02 | 0.288510 | cDC         |\n",
       "| 8659 | chr12:739181-740753 | chr12:740009:C:G | rs34038797 | 7.186429e-06 | 3.593214e-05 | 0.201709 | cMono       |\n",
       "| 16271 | chr12:739181-740753 | chr12:740009:C:G | rs34038797 | 6.583025e-03 | 6.583025e-03 | 0.255610 | cyto_cd8_t  |\n",
       "| 20544 | chr12:739181-740753 | chr12:740009:C:G | rs34038797 | 2.159517e-03 | 2.159517e-03 | 0.323118 | mem_b       |\n",
       "| 21147 | chr12:739181-740753 | chr12:740009:C:G | rs34038797 | 1.933345e-02 | 1.933345e-02 | 0.259200 | mem_cd8_t   |\n",
       "| 24230 | chr12:739181-740753 | chr12:740009:C:G | rs34038797 | 6.838758e-07 | 3.419379e-06 | 0.192756 | mono        |\n",
       "| 33178 | chr12:739181-740753 | chr12:740009:C:G | rs34038797 | 2.337266e-03 | 4.674532e-03 | 0.300117 | naive_b     |\n",
       "| 34536 | chr12:739181-740753 | chr12:740009:C:G | rs34038797 | 8.408785e-03 | 1.681757e-02 | 0.225290 | naive_cd4_t |\n",
       "| 36431 | chr12:739181-740753 | chr12:740009:C:G | rs34038797 | 2.986819e-03 | 2.986819e-03 | 0.221313 | naive_cd8_t |\n",
       "| 37608 | chr12:739181-740753 | chr12:740009:C:G | rs34038797 | 1.256522e-03 | 3.769566e-03 | 0.299121 | ncMono      |\n",
       "| 42755 | chr12:739181-740753 | chr12:740009:C:G | rs34038797 | 5.808110e-04 | 2.323244e-03 | 0.149375 | t           |\n",
       "| 48509 | chr12:739181-740753 | chr12:740009:C:G | rs34038797 | 2.828750e-03 | 2.828750e-03 | 0.243139 | tReg        |\n",
       "\n"
      ],
      "text/plain": [
       "      Feature             varID            rsID       P_value      Q_value     \n",
       "977   chr12:739181-740753 chr12:740009:C:G rs34038797 1.239313e-02 2.478625e-02\n",
       "4765  chr12:739181-740753 chr12:740009:C:G rs34038797 7.802117e-04 1.560423e-03\n",
       "6473  chr12:739181-740753 chr12:740009:C:G rs34038797 1.137523e-02 1.137523e-02\n",
       "8659  chr12:739181-740753 chr12:740009:C:G rs34038797 7.186429e-06 3.593214e-05\n",
       "16271 chr12:739181-740753 chr12:740009:C:G rs34038797 6.583025e-03 6.583025e-03\n",
       "20544 chr12:739181-740753 chr12:740009:C:G rs34038797 2.159517e-03 2.159517e-03\n",
       "21147 chr12:739181-740753 chr12:740009:C:G rs34038797 1.933345e-02 1.933345e-02\n",
       "24230 chr12:739181-740753 chr12:740009:C:G rs34038797 6.838758e-07 3.419379e-06\n",
       "33178 chr12:739181-740753 chr12:740009:C:G rs34038797 2.337266e-03 4.674532e-03\n",
       "34536 chr12:739181-740753 chr12:740009:C:G rs34038797 8.408785e-03 1.681757e-02\n",
       "36431 chr12:739181-740753 chr12:740009:C:G rs34038797 2.986819e-03 2.986819e-03\n",
       "37608 chr12:739181-740753 chr12:740009:C:G rs34038797 1.256522e-03 3.769566e-03\n",
       "42755 chr12:739181-740753 chr12:740009:C:G rs34038797 5.808110e-04 2.323244e-03\n",
       "48509 chr12:739181-740753 chr12:740009:C:G rs34038797 2.828750e-03 2.828750e-03\n",
       "      Effect_size cell       \n",
       "977   0.234758    act_cd4_t  \n",
       "4765  0.302812    b          \n",
       "6473  0.288510    cDC        \n",
       "8659  0.201709    cMono      \n",
       "16271 0.255610    cyto_cd8_t \n",
       "20544 0.323118    mem_b      \n",
       "21147 0.259200    mem_cd8_t  \n",
       "24230 0.192756    mono       \n",
       "33178 0.300117    naive_b    \n",
       "34536 0.225290    naive_cd4_t\n",
       "36431 0.221313    naive_cd8_t\n",
       "37608 0.299121    ncMono     \n",
       "42755 0.149375    t          \n",
       "48509 0.243139    tReg       "
      ]
     },
     "metadata": {},
     "output_type": "display_data"
    }
   ],
   "source": [
    "subset(M, rsID==\"rs34038797\")"
   ]
  },
  {
   "cell_type": "code",
   "execution_count": 16,
   "id": "c51f1210",
   "metadata": {},
   "outputs": [],
   "source": [
    "allcaq = subset(alltraits,varID %in% c(substring(M$varID,4), as.character(M$rsID)) ) \n",
    "## this is only bc the t1d from tony had rsids"
   ]
  },
  {
   "cell_type": "code",
   "execution_count": 17,
   "id": "2c025142",
   "metadata": {},
   "outputs": [],
   "source": [
    "agc = aggregate(varID~Trait,allcaq, length )"
   ]
  },
  {
   "cell_type": "code",
   "execution_count": 18,
   "id": "1035d47b",
   "metadata": {},
   "outputs": [
    {
     "data": {
      "text/html": [
       "<strong>png:</strong> 2"
      ],
      "text/latex": [
       "\\textbf{png:} 2"
      ],
      "text/markdown": [
       "**png:** 2"
      ],
      "text/plain": [
       "png \n",
       "  2 "
      ]
     },
     "metadata": {},
     "output_type": "display_data"
    }
   ],
   "source": [
    "pdf(paste0(figdir, \"Finemapped_caQTLs_bxpl_newres.pdf\"))\n",
    "par(mar=c(8,6,10,0), xpd = TRUE, mfrow=c(1,2))\n",
    "#stripchart(PPA~Trait,allcaq , pch=19, las=1, col=alpha(pal[1],0.5))\n",
    "boxplot(PPA~Trait,allcaq , horizontal = T, las=1, col=alpha(pal[1],0.5), pch=16,\n",
    "        outcol= alpha(pal[1],0.5))\n",
    "par(mar=c(8,6,10,0))\n",
    "barplot(agc[,2], horiz=T, names.arg =agc[,2] , las=1)\n",
    "dev.off()"
   ]
  },
  {
   "cell_type": "code",
   "execution_count": 19,
   "id": "374d2d8b",
   "metadata": {},
   "outputs": [
    {
     "data": {
      "text/html": [
       "<table class=\"dataframe\">\n",
       "<caption>A data.frame: 3 × 5</caption>\n",
       "<thead>\n",
       "\t<tr><th></th><th scope=col>varID</th><th scope=col>Locus</th><th scope=col>LNBF</th><th scope=col>PPA</th><th scope=col>Trait</th></tr>\n",
       "\t<tr><th></th><th scope=col>&lt;chr&gt;</th><th scope=col>&lt;chr&gt;</th><th scope=col>&lt;dbl&gt;</th><th scope=col>&lt;dbl&gt;</th><th scope=col>&lt;chr&gt;</th></tr>\n",
       "</thead>\n",
       "<tbody>\n",
       "\t<tr><th scope=row>43134</th><td>rs72928038</td><td>BACH2</td><td>10.544367</td><td>0.07356601</td><td>08_Type_1_diabetes</td></tr>\n",
       "\t<tr><th scope=row>43161</th><td>rs1504215 </td><td>BACH2</td><td> 8.948297</td><td>0.01491121</td><td>08_Type_1_diabetes</td></tr>\n",
       "\t<tr><th scope=row>43165</th><td>rs56297233</td><td>BACH2</td><td>10.158814</td><td>0.05003034</td><td>08_Type_1_diabetes</td></tr>\n",
       "</tbody>\n",
       "</table>\n"
      ],
      "text/latex": [
       "A data.frame: 3 × 5\n",
       "\\begin{tabular}{r|lllll}\n",
       "  & varID & Locus & LNBF & PPA & Trait\\\\\n",
       "  & <chr> & <chr> & <dbl> & <dbl> & <chr>\\\\\n",
       "\\hline\n",
       "\t43134 & rs72928038 & BACH2 & 10.544367 & 0.07356601 & 08\\_Type\\_1\\_diabetes\\\\\n",
       "\t43161 & rs1504215  & BACH2 &  8.948297 & 0.01491121 & 08\\_Type\\_1\\_diabetes\\\\\n",
       "\t43165 & rs56297233 & BACH2 & 10.158814 & 0.05003034 & 08\\_Type\\_1\\_diabetes\\\\\n",
       "\\end{tabular}\n"
      ],
      "text/markdown": [
       "\n",
       "A data.frame: 3 × 5\n",
       "\n",
       "| <!--/--> | varID &lt;chr&gt; | Locus &lt;chr&gt; | LNBF &lt;dbl&gt; | PPA &lt;dbl&gt; | Trait &lt;chr&gt; |\n",
       "|---|---|---|---|---|---|\n",
       "| 43134 | rs72928038 | BACH2 | 10.544367 | 0.07356601 | 08_Type_1_diabetes |\n",
       "| 43161 | rs1504215  | BACH2 |  8.948297 | 0.01491121 | 08_Type_1_diabetes |\n",
       "| 43165 | rs56297233 | BACH2 | 10.158814 | 0.05003034 | 08_Type_1_diabetes |\n",
       "\n"
      ],
      "text/plain": [
       "      varID      Locus LNBF      PPA        Trait             \n",
       "43134 rs72928038 BACH2 10.544367 0.07356601 08_Type_1_diabetes\n",
       "43161 rs1504215  BACH2  8.948297 0.01491121 08_Type_1_diabetes\n",
       "43165 rs56297233 BACH2 10.158814 0.05003034 08_Type_1_diabetes"
      ]
     },
     "metadata": {},
     "output_type": "display_data"
    }
   ],
   "source": [
    "allcaq[allcaq$Locus==\"BACH2\",]"
   ]
  },
  {
   "cell_type": "code",
   "execution_count": 20,
   "id": "e698eb54",
   "metadata": {},
   "outputs": [
    {
     "data": {
      "text/html": [
       "622"
      ],
      "text/latex": [
       "622"
      ],
      "text/markdown": [
       "622"
      ],
      "text/plain": [
       "[1] 622"
      ]
     },
     "metadata": {},
     "output_type": "display_data"
    }
   ],
   "source": [
    "sum(!duplicated(allcaq$varID))"
   ]
  },
  {
   "cell_type": "code",
   "execution_count": 21,
   "id": "99308352",
   "metadata": {},
   "outputs": [
    {
     "data": {
      "text/html": [
       "221"
      ],
      "text/latex": [
       "221"
      ],
      "text/markdown": [
       "221"
      ],
      "text/plain": [
       "[1] 221"
      ]
     },
     "metadata": {},
     "output_type": "display_data"
    }
   ],
   "source": [
    "sum(!duplicated(allcaq$Locus))"
   ]
  },
  {
   "cell_type": "markdown",
   "id": "4247ee94",
   "metadata": {},
   "source": [
    "### Annotate with promoters and coaccessible promoters"
   ]
  },
  {
   "cell_type": "code",
   "execution_count": 22,
   "id": "32d27f7e",
   "metadata": {},
   "outputs": [],
   "source": [
    "setwd(\"/nfs/lab/projects/pbmc_snATAC/analysis_v2/\")\n",
    "\n",
    "map = read.table(\"summarized_caqtls/Promoter_associated_caQTLs.tsv\", header=T)\n",
    "\n",
    "clrs = read.table(\"peaks/color_scheme.tsv\")\n",
    "clrs = rbind(clrs, matrix( c('orange2', 'b','tan4','nk','#7FC97F','mono', 'magenta4', \"t\"), ncol=2, byrow=T))\n",
    "colcol  = data.frame(celltypes = clrs$V2, \n",
    "                     group= c('mono', 'mono', 'mono', \"mono\",\"b\", \"b\", \"nk\", \"nk\",\n",
    "                               't','t','t','t','t','t','mkc','pDC', 'plasma','b','nk','mono','t'))"
   ]
  },
  {
   "cell_type": "code",
   "execution_count": 23,
   "id": "c00f6f2a",
   "metadata": {},
   "outputs": [],
   "source": [
    "M$group = colcol$group[match (M$cell, colcol$celltypes  )]\n",
    "\n",
    "groups = c( 'b', \"mono\", 't',\"nk\")  ### mkc are few and do not overlap any finemapped variant"
   ]
  },
  {
   "cell_type": "code",
   "execution_count": 24,
   "id": "9d59163a",
   "metadata": {},
   "outputs": [],
   "source": [
    "#sum(c(unique(subset(M, cell == \"mkc\")$varID), unique(subset(M, cell == \"mkc\")$rsID)) %in% allcaq$varID)"
   ]
  },
  {
   "cell_type": "code",
   "execution_count": 25,
   "id": "43fce6a7",
   "metadata": {},
   "outputs": [],
   "source": [
    "annoq = data.frame()\n",
    "for (gr in groups){\n",
    "\n",
    "test = subset(map, group==gr)\n",
    "    \n",
    "agr  = aggregate(type~feature_gene, test[test$type!=\"EP\",], function(x)  c('P','PP')[max(str_count(x))]  ) ## this is to remove extra P annot\n",
    "test2 = merge(test[test$type!=\"EP\",], agr, by=colnames(agr))\n",
    "test3 = rbind(test2, test[test$type==\"EP\",])\n",
    "                 \n",
    "qt = subset(M, group==gr)\n",
    "qt = merge(qt, test3, by=c('Feature','group'))\n",
    "annoq = rbind(annoq,qt)                 \n",
    "                 }\n",
    "                 "
   ]
  },
  {
   "cell_type": "code",
   "execution_count": 26,
   "id": "0ff153be",
   "metadata": {},
   "outputs": [],
   "source": [
    "annoq$varID= substring(annoq$varID,4)"
   ]
  },
  {
   "cell_type": "code",
   "execution_count": 27,
   "id": "5206a9b2",
   "metadata": {},
   "outputs": [],
   "source": [
    "allcaq = subset(allcaq, PPA >0.01)"
   ]
  },
  {
   "cell_type": "code",
   "execution_count": 28,
   "id": "b8037885",
   "metadata": {},
   "outputs": [],
   "source": [
    "mm = merge(allcaq, annoq, by=\"varID\")\n",
    "mmt1d = merge( annoq, allcaq, by.y=\"varID\", by.x=\"rsID\")\n",
    "\n",
    "mm = rbind (mm, mmt1d)\n",
    "mm = mm[!duplicated(mm),]"
   ]
  },
  {
   "cell_type": "code",
   "execution_count": 29,
   "id": "4fdad5b1",
   "metadata": {},
   "outputs": [],
   "source": [
    "#subset(mm, rsID=='rs72928038')"
   ]
  },
  {
   "cell_type": "code",
   "execution_count": 30,
   "id": "9905fbfc",
   "metadata": {},
   "outputs": [],
   "source": [
    "#subset(mm, rsID=='rs12365699')"
   ]
  },
  {
   "cell_type": "code",
   "execution_count": 31,
   "id": "5a2487f0",
   "metadata": {},
   "outputs": [],
   "source": [
    "#subset(mm, rsID=='rs7731626')"
   ]
  },
  {
   "cell_type": "code",
   "execution_count": 32,
   "id": "99ae3e4c",
   "metadata": {},
   "outputs": [],
   "source": [
    "#subset(mm, rsID=='rs17293632')"
   ]
  },
  {
   "cell_type": "code",
   "execution_count": 33,
   "id": "97b624d6",
   "metadata": {},
   "outputs": [],
   "source": [
    "#subset(mm,coac_gene==\"SMAD3\" )"
   ]
  },
  {
   "cell_type": "code",
   "execution_count": 34,
   "id": "b300b80b",
   "metadata": {},
   "outputs": [],
   "source": [
    "#subset(mm, rsID=='rs34038797')"
   ]
  },
  {
   "cell_type": "code",
   "execution_count": 35,
   "id": "7f4ab0d9",
   "metadata": {},
   "outputs": [],
   "source": [
    "rmdu =mm[!duplicated(mm[,c(\"varID\", \"Trait\", \"type\")]),]"
   ]
  },
  {
   "cell_type": "code",
   "execution_count": 36,
   "id": "ef38afe6",
   "metadata": {},
   "outputs": [
    {
     "data": {
      "text/html": [
       "<style>\n",
       ".list-inline {list-style: none; margin:0; padding: 0}\n",
       ".list-inline>li {display: inline-block}\n",
       ".list-inline>li:not(:last-child)::after {content: \"\\00b7\"; padding: 0 .5ex}\n",
       "</style>\n",
       "<ol class=list-inline><li>235</li><li>18</li></ol>\n"
      ],
      "text/latex": [
       "\\begin{enumerate*}\n",
       "\\item 235\n",
       "\\item 18\n",
       "\\end{enumerate*}\n"
      ],
      "text/markdown": [
       "1. 235\n",
       "2. 18\n",
       "\n",
       "\n"
      ],
      "text/plain": [
       "[1] 235  18"
      ]
     },
     "metadata": {},
     "output_type": "display_data"
    }
   ],
   "source": [
    "dim(rmdu)"
   ]
  },
  {
   "cell_type": "code",
   "execution_count": 37,
   "id": "31d4d804",
   "metadata": {},
   "outputs": [],
   "source": [
    "#rmdu =mm[!duplicated(mm[,c(\"varID\", \"Trait\")]),]"
   ]
  },
  {
   "cell_type": "code",
   "execution_count": 38,
   "id": "b63de2ce",
   "metadata": {},
   "outputs": [],
   "source": [
    "#dim(rmdu)"
   ]
  },
  {
   "cell_type": "code",
   "execution_count": 39,
   "id": "a02f31bc",
   "metadata": {},
   "outputs": [],
   "source": [
    "TA = table(rmdu$Trait, rmdu$type)"
   ]
  },
  {
   "cell_type": "code",
   "execution_count": 40,
   "id": "db4da30a",
   "metadata": {},
   "outputs": [],
   "source": [
    "extra = unique(alltraits$Trait)[!(unique(alltraits$Trait) %in% rownames(TA))]\n",
    "TA = rbind(rbind(TA, 0),0)\n",
    "rownames(TA)[15:16]=extra\n",
    "TA = TA[order(rownames(TA)),]"
   ]
  },
  {
   "cell_type": "code",
   "execution_count": 41,
   "id": "7b1e66e8",
   "metadata": {},
   "outputs": [],
   "source": [
    "colnames(TA) = c('2_EP','1_P','3_PP')\n",
    "TA = TA[,order(colnames(TA))]"
   ]
  },
  {
   "cell_type": "code",
   "execution_count": 42,
   "id": "285b7105",
   "metadata": {},
   "outputs": [
    {
     "data": {
      "text/html": [
       "<strong>png:</strong> 2"
      ],
      "text/latex": [
       "\\textbf{png:} 2"
      ],
      "text/markdown": [
       "**png:** 2"
      ],
      "text/plain": [
       "png \n",
       "  2 "
      ]
     },
     "metadata": {},
     "output_type": "display_data"
    }
   ],
   "source": [
    "pal2 = brewer.pal(6,'RdYlBu')[c(1:3,5)]\n",
    "pdf(paste0(figdir, \"CAtegory_caQTLs_finemap_newresults.pdf\"))\n",
    "par(mar=c(8,6,10,2), xpd = TRUE, mfrow=c(1,2))\n",
    "plot.new()\n",
    "barplot(t(TA), horiz = T, las=1, col=pal2, xlim=c(0,35))\n",
    "legend(\"bottomright\",legend = colnames(TA), pch=22, pt.cex = 1.8,\n",
    "       pt.bg = pal2, title=\"#caQTLs\\n(PPA>0.01)\", bty=\"n\")\n",
    "dev.off()"
   ]
  },
  {
   "cell_type": "markdown",
   "id": "4aea128e",
   "metadata": {},
   "source": [
    "### GWAS plots"
   ]
  },
  {
   "cell_type": "code",
   "execution_count": 326,
   "id": "39048dea",
   "metadata": {},
   "outputs": [],
   "source": [
    "setwd('/nfs/lab/projects/pbmc_snATAC/analysis_v2/gwas_sumstats')"
   ]
  },
  {
   "cell_type": "code",
   "execution_count": null,
   "id": "a97ee5d5",
   "metadata": {},
   "outputs": [],
   "source": [
    "# loci\n",
    "# chr6   89207850   92324486\n",
    "# chr11   117991786   119494785\n",
    "# chr2 227431691 229908940"
   ]
  },
  {
   "cell_type": "code",
   "execution_count": null,
   "id": "4e1e6c67",
   "metadata": {},
   "outputs": [],
   "source": [
    "# commands:\n",
    "# - bedtools intersect -a /nfs/lab/publicdata/1kg_snps/ALL.wgs.phase3_sites.bed.ids -b loci -wa > loci_snps.bed\n",
    "# - awk -v OFS=\"\\t\" '{print $4}' loci_snps.bed > loci_snps.rsid_list\n",
    "# - zgrep -F -f loci_snps.rsid_list T1D.Aylward_2018_biorxiv.txt.gz > T1D.Aylward_2018.select"
   ]
  },
  {
   "cell_type": "code",
   "execution_count": 262,
   "id": "16c5b87a",
   "metadata": {},
   "outputs": [],
   "source": [
    "t1d  = read.table(\"T1D.Aylward_2018.select\", sep=\"\\t\")\n",
    "ly   = read.table(\"Astle.Cell.2016.lymph.select\", sep=\"\\t\")\n",
    "as   = read.table(\"Ferreira.2019.AJHG.Child_onset_asthma.select\")"
   ]
  },
  {
   "cell_type": "code",
   "execution_count": 357,
   "id": "f8f46f4c",
   "metadata": {},
   "outputs": [],
   "source": [
    "uc   = read.table(\"deLange.NatGenet.2017.Ulcerative_Colitis.select\")"
   ]
  },
  {
   "cell_type": "code",
   "execution_count": 358,
   "id": "4ef424f7",
   "metadata": {},
   "outputs": [],
   "source": [
    "coo  = read.table(\"lociAll_snps.bed\", sep=\"\\t\")\n",
    "colnames(coo) = c( \"chr\", \"start\", \"pos\", 'rsid', 'id')"
   ]
  },
  {
   "cell_type": "code",
   "execution_count": 267,
   "id": "ee40929f",
   "metadata": {},
   "outputs": [],
   "source": [
    "t1d = merge(t1d, coo, by.x=1, by.y=4)\n",
    "t1d = subset(t1d, chr == 6)\n",
    "as = merge(as, coo, by.x=1, by.y=4)\n",
    "as = subset(as, chr == 11)\n",
    "ly = merge(ly, coo, by.x=1, by.y=4)\n",
    "ly = subset(ly, chr == 6)"
   ]
  },
  {
   "cell_type": "code",
   "execution_count": 359,
   "id": "60a9cfab",
   "metadata": {},
   "outputs": [],
   "source": [
    "uc = merge(uc, coo, by.x=1, by.y=4)\n",
    "uc = subset(uc, chr == 2)"
   ]
  },
  {
   "cell_type": "code",
   "execution_count": 366,
   "id": "4aa07534",
   "metadata": {},
   "outputs": [],
   "source": [
    "uc$log10pval = -log10(uc$V9)\n",
    "uc$credset = uc$id %in% alltraits$varID[alltraits$Trait == \"10_Ulcerative_colitis\" & alltraits$Locus==\"2:228670476:C:G\" ]"
   ]
  },
  {
   "cell_type": "code",
   "execution_count": 276,
   "id": "9e921588",
   "metadata": {},
   "outputs": [],
   "source": [
    "t1d$log10pval = -log10(t1d$V9)\n",
    "t1d$credset = t1d$V1 %in% alltraits$varID[alltraits$Trait == \"08_Type_1_diabetes\" & alltraits$Locus==\"BACH2\" ]\n",
    "\n",
    "as$log10pval = -log10(as$V13)\n",
    "as$credset = as$id %in% alltraits$varID[alltraits$Trait == \"13_Asthma_child_onset\" & alltraits$Locus=='11:118743286:G:A']\n",
    "\n",
    "ly$log10pval = -log10(ly$V9)\n",
    "ly$credset = ly$id %in% alltraits$varID[alltraits$Trait == \"14_Lymphocyte_count\"& alltraits$Locus=='6:90976768:G:A']\n",
    "\n",
    "t1d = t1d[order(-t1d$log10pval),]\n",
    "as = as[order(-as$log10pval),]\n",
    "ly = ly[order(-ly$log10pval),]\n",
    "uc = uc[order(-uc$log10pval),]"
   ]
  },
  {
   "cell_type": "code",
   "execution_count": 362,
   "id": "5bffcf39",
   "metadata": {},
   "outputs": [],
   "source": [
    "t1d$caQTL = t1d$id %in% allcaq$varID\n",
    "as$caQTL = as$id %in% allcaq$varID\n",
    "ly$caQTL = ly$id %in% allcaq$varID\n",
    "uc$caQTL = uc$id %in% allcaq$varID"
   ]
  },
  {
   "cell_type": "code",
   "execution_count": 375,
   "id": "bbc015b9",
   "metadata": {},
   "outputs": [
    {
     "data": {
      "text/html": [
       "<strong>png:</strong> 2"
      ],
      "text/latex": [
       "\\textbf{png:} 2"
      ],
      "text/markdown": [
       "**png:** 2"
      ],
      "text/plain": [
       "png \n",
       "  2 "
      ]
     },
     "metadata": {},
     "output_type": "display_data"
    }
   ],
   "source": [
    "pdf(paste0(figdir, \"GWAS_loci_mainfigure.pdf\"))\n",
    "par(mfrow=c(2,2), mar = c(4,4,10,0), las=1)\n",
    "plot(log10pval~V3, t1d, pch=c(19,17)[t1d$caQTL +1], col=alpha(c(\"gray\", \"red\"),0.5)[t1d$credset +1], cex=0.6,\n",
    "    xlim=c(90700000,91200000), main=\"BACH2 - T1D\")\n",
    "\n",
    "plot(log10pval~V3, ly, pch=c(19,17)[ly$caQTL +1], col=alpha(c(\"gray\", \"red\"),0.5)[ly$credset +1], cex=0.6,\n",
    "    xlim=c(90700000,91200000), main=\"BACH2 - Lymphocyte count\")\n",
    "\n",
    "plot(log10pval~V3, as, pch=c(19,17)[as$caQTL +1], col=alpha(c(\"gray\", \"red\"),0.5)[as$credset +1], cex=0.6,\n",
    "  xlim=c(118400000,118900000), main=\"CXCR5 locus- Asthma\")\n",
    "\n",
    "plot(log10pval~V3, uc, pch=c(19,17)[uc$caQTL +1], col=alpha(c(\"gray\", \"red\"),0.5)[uc$credset +1], cex=0.6,\n",
    "     #xlim=c(228563194, 228887101), main=\"CCL20-Ulcerative Colitis\")\n",
    "     xlim=c(227830402,229027101))\n",
    "  #xlim=c(228001852,228793788), main=\"CCL20-Ulcerative Colitis\")\n",
    "dev.off()"
   ]
  },
  {
   "cell_type": "code",
   "execution_count": 296,
   "id": "e4378d23",
   "metadata": {},
   "outputs": [
    {
     "data": {
      "text/html": [
       "<strong>png:</strong> 2"
      ],
      "text/latex": [
       "\\textbf{png:} 2"
      ],
      "text/markdown": [
       "**png:** 2"
      ],
      "text/plain": [
       "png \n",
       "  2 "
      ]
     },
     "metadata": {},
     "output_type": "display_data"
    }
   ],
   "source": [
    "png(paste0(figdir, \"GWAS_bach2.png\"), width = 4, height = 1.6, units = 'in', res = 300)\n",
    "par( pin=c(4,1.6), las=1)\n",
    "plot(log10pval~V3, ly, pch=c(19,17)[ly$caQTL +1], col=alpha(c(\"gray\", \"red\"),0.5)[ly$credset +1], cex=0.6,axes=F,\n",
    "    xlim=c(90700000,91200000))\n",
    "dev.off()"
   ]
  },
  {
   "cell_type": "code",
   "execution_count": 297,
   "id": "65f7a4fe",
   "metadata": {},
   "outputs": [
    {
     "data": {
      "text/html": [
       "<strong>png:</strong> 2"
      ],
      "text/latex": [
       "\\textbf{png:} 2"
      ],
      "text/markdown": [
       "**png:** 2"
      ],
      "text/plain": [
       "png \n",
       "  2 "
      ]
     },
     "metadata": {},
     "output_type": "display_data"
    }
   ],
   "source": [
    "png(paste0(figdir, \"GWAS_CXCR5.png\"), width = 4, height = 1.6, units = 'in', res = 300)\n",
    "par( pin=c(4,1.6), las=1)\n",
    "plot(log10pval~V3, as, pch=c(19,17)[as$caQTL +1], col=alpha(c(\"gray\", \"red\"),0.5)[as$credset +1], cex=0.6,axes=F,\n",
    "  xlim=c(118400000,118900000))\n",
    "dev.off()"
   ]
  },
  {
   "cell_type": "code",
   "execution_count": 376,
   "id": "1f793563",
   "metadata": {},
   "outputs": [
    {
     "data": {
      "text/html": [
       "<strong>png:</strong> 2"
      ],
      "text/latex": [
       "\\textbf{png:} 2"
      ],
      "text/markdown": [
       "**png:** 2"
      ],
      "text/plain": [
       "png \n",
       "  2 "
      ]
     },
     "metadata": {},
     "output_type": "display_data"
    }
   ],
   "source": [
    "png(paste0(figdir, \"GWAS_CCL20.png\"), width = 4, height = 1.6, units = 'in', res = 300)\n",
    "par( pin=c(4,1.6), las=1)\n",
    "plot(log10pval~V3, uc, pch=c(19,17)[uc$caQTL +1], col=alpha(c(\"gray\", \"red\"),0.5)[uc$credset +1], cex=0.6,axes=F,\n",
    "  xlim=c(227830402,229027101))\n",
    "dev.off()"
   ]
  },
  {
   "cell_type": "markdown",
   "id": "7a10b285",
   "metadata": {},
   "source": [
    "### Supptables"
   ]
  },
  {
   "cell_type": "code",
   "execution_count": 45,
   "id": "63f3833f",
   "metadata": {},
   "outputs": [
    {
     "data": {
      "text/html": [
       "'/nfs/lab/projects/pbmc_snATAC/analysis_v2'"
      ],
      "text/latex": [
       "'/nfs/lab/projects/pbmc\\_snATAC/analysis\\_v2'"
      ],
      "text/markdown": [
       "'/nfs/lab/projects/pbmc_snATAC/analysis_v2'"
      ],
      "text/plain": [
       "[1] \"/nfs/lab/projects/pbmc_snATAC/analysis_v2\""
      ]
     },
     "metadata": {},
     "output_type": "display_data"
    }
   ],
   "source": [
    "getwd()"
   ]
  },
  {
   "cell_type": "code",
   "execution_count": 46,
   "id": "d55fe76e",
   "metadata": {},
   "outputs": [],
   "source": [
    "st0 = read.table(\"summarized_caqtls/run3/EUR_caqtl_leads_run3.tsv\", header=T)"
   ]
  },
  {
   "cell_type": "code",
   "execution_count": 47,
   "id": "dec400ec",
   "metadata": {},
   "outputs": [
    {
     "data": {
      "text/html": [
       "<style>\n",
       ".list-inline {list-style: none; margin:0; padding: 0}\n",
       ".list-inline>li {display: inline-block}\n",
       ".list-inline>li:not(:last-child)::after {content: \"\\00b7\"; padding: 0 .5ex}\n",
       "</style>\n",
       "<ol class=list-inline><li>1133379</li><li>32</li></ol>\n"
      ],
      "text/latex": [
       "\\begin{enumerate*}\n",
       "\\item 1133379\n",
       "\\item 32\n",
       "\\end{enumerate*}\n"
      ],
      "text/markdown": [
       "1. 1133379\n",
       "2. 32\n",
       "\n",
       "\n"
      ],
      "text/plain": [
       "[1] 1133379      32"
      ]
     },
     "metadata": {},
     "output_type": "display_data"
    }
   ],
   "source": [
    "dim(st0)"
   ]
  },
  {
   "cell_type": "code",
   "execution_count": 48,
   "id": "f71e993d",
   "metadata": {},
   "outputs": [],
   "source": [
    "st = subset(st0, flag_fdr10==T)"
   ]
  },
  {
   "cell_type": "code",
   "execution_count": 49,
   "id": "a296e87b",
   "metadata": {},
   "outputs": [
    {
     "data": {
      "text/html": [
       "<style>\n",
       ".list-inline {list-style: none; margin:0; padding: 0}\n",
       ".list-inline>li {display: inline-block}\n",
       ".list-inline>li:not(:last-child)::after {content: \"\\00b7\"; padding: 0 .5ex}\n",
       "</style>\n",
       "<ol class=list-inline><li>20094</li><li>32</li></ol>\n"
      ],
      "text/latex": [
       "\\begin{enumerate*}\n",
       "\\item 20094\n",
       "\\item 32\n",
       "\\end{enumerate*}\n"
      ],
      "text/markdown": [
       "1. 20094\n",
       "2. 32\n",
       "\n",
       "\n"
      ],
      "text/plain": [
       "[1] 20094    32"
      ]
     },
     "metadata": {},
     "output_type": "display_data"
    }
   ],
   "source": [
    "dim(st)"
   ]
  },
  {
   "cell_type": "code",
   "execution_count": 50,
   "id": "e0ff2e5b",
   "metadata": {},
   "outputs": [],
   "source": [
    "st = st[order( st$cell,st$P_VAl),]"
   ]
  },
  {
   "cell_type": "code",
   "execution_count": 52,
   "id": "63b777aa",
   "metadata": {},
   "outputs": [],
   "source": [
    "write.csv(st,\"summarized_caqtls/run3/EUR_caqtl_leads_subset.csv\", row.names=F)"
   ]
  },
  {
   "cell_type": "code",
   "execution_count": 53,
   "id": "a52011fa",
   "metadata": {},
   "outputs": [
    {
     "data": {
      "text/html": [
       "<table class=\"dataframe\">\n",
       "<caption>A data.frame: 6 × 32</caption>\n",
       "<thead>\n",
       "\t<tr><th></th><th scope=col>Feature</th><th scope=col>varID</th><th scope=col>Chromosome</th><th scope=col>position</th><th scope=col>Ref</th><th scope=col>Alt</th><th scope=col>Af</th><th scope=col>HWEChi_square</th><th scope=col>IA</th><th scope=col>Log10_qval</th><th scope=col>⋯</th><th scope=col>Convergence_status</th><th scope=col>r2_fSNPs</th><th scope=col>r2_rSNP</th><th scope=col>P_VAl</th><th scope=col>flag_fdr10</th><th scope=col>flag_fdr05</th><th scope=col>flag_fdr01</th><th scope=col>cell</th><th scope=col>exclude</th><th scope=col>rsID</th></tr>\n",
       "\t<tr><th></th><th scope=col>&lt;chr&gt;</th><th scope=col>&lt;chr&gt;</th><th scope=col>&lt;chr&gt;</th><th scope=col>&lt;int&gt;</th><th scope=col>&lt;chr&gt;</th><th scope=col>&lt;chr&gt;</th><th scope=col>&lt;dbl&gt;</th><th scope=col>&lt;dbl&gt;</th><th scope=col>&lt;dbl&gt;</th><th scope=col>&lt;dbl&gt;</th><th scope=col>⋯</th><th scope=col>&lt;int&gt;</th><th scope=col>&lt;dbl&gt;</th><th scope=col>&lt;dbl&gt;</th><th scope=col>&lt;dbl&gt;</th><th scope=col>&lt;lgl&gt;</th><th scope=col>&lt;lgl&gt;</th><th scope=col>&lt;lgl&gt;</th><th scope=col>&lt;chr&gt;</th><th scope=col>&lt;lgl&gt;</th><th scope=col>&lt;chr&gt;</th></tr>\n",
       "</thead>\n",
       "<tbody>\n",
       "\t<tr><th scope=row>322539</th><td>chr10:51502604-51504683 </td><td>chr10:51503178:G:A</td><td>chr10</td><td> 51503178</td><td>G</td><td>A</td><td>0.45</td><td>1.715131</td><td>0.991469</td><td>-19.52688</td><td>⋯</td><td>0</td><td>0.965503</td><td>0.979683</td><td>2.632664e-20</td><td>TRUE</td><td>TRUE</td><td>TRUE</td><td>act_cd4_t</td><td>FALSE</td><td>rs2611475        </td></tr>\n",
       "\t<tr><th scope=row>322540</th><td>chr6:32635924-32636583  </td><td>chr6:32636376:C:G </td><td>chr6 </td><td> 32636376</td><td>C</td><td>G</td><td>0.45</td><td>0.001020</td><td>0.995562</td><td>-16.97326</td><td>⋯</td><td>0</td><td>0.991991</td><td>0.991873</td><td>1.802573e-19</td><td>TRUE</td><td>TRUE</td><td>TRUE</td><td>act_cd4_t</td><td>FALSE</td><td>rs2856698        </td></tr>\n",
       "\t<tr><th scope=row>322541</th><td>chr10:27546208-27546939 </td><td>chr10:27546467:G:C</td><td>chr10</td><td> 27546467</td><td>G</td><td>C</td><td>0.25</td><td>1.111111</td><td>0.990104</td><td>-14.15310</td><td>⋯</td><td>0</td><td>0.951346</td><td>0.978134</td><td>2.454829e-15</td><td>TRUE</td><td>TRUE</td><td>TRUE</td><td>act_cd4_t</td><td>FALSE</td><td>rs2488369        </td></tr>\n",
       "\t<tr><th scope=row>322542</th><td>chr6:43737236-43739826  </td><td>chr6:43737873:G:A </td><td>chr6 </td><td> 43737873</td><td>G</td><td>A</td><td>0.10</td><td>0.123457</td><td>0.994865</td><td>-11.97900</td><td>⋯</td><td>0</td><td>0.991476</td><td>0.983246</td><td>9.541214e-14</td><td>TRUE</td><td>TRUE</td><td>TRUE</td><td>act_cd4_t</td><td>FALSE</td><td>chr6:43737873:G:A</td></tr>\n",
       "\t<tr><th scope=row>322543</th><td>chr6:166672201-166673529</td><td>chr6:166672298:G:A</td><td>chr6 </td><td>166672298</td><td>G</td><td>A</td><td>0.40</td><td>0.277778</td><td>0.989443</td><td>-11.39206</td><td>⋯</td><td>0</td><td>0.983409</td><td>0.982888</td><td>1.928802e-12</td><td>TRUE</td><td>TRUE</td><td>TRUE</td><td>act_cd4_t</td><td>FALSE</td><td>rs911202         </td></tr>\n",
       "\t<tr><th scope=row>322544</th><td>chr7:134831931-134833621</td><td>chr7:134833233:G:A</td><td>chr7 </td><td>134833233</td><td>G</td><td>A</td><td>0.60</td><td>4.444444</td><td>0.998298</td><td>-10.56247</td><td>⋯</td><td>0</td><td>0.987382</td><td>0.981880</td><td>2.272994e-11</td><td>TRUE</td><td>TRUE</td><td>TRUE</td><td>act_cd4_t</td><td>FALSE</td><td>rs3735000        </td></tr>\n",
       "</tbody>\n",
       "</table>\n"
      ],
      "text/latex": [
       "A data.frame: 6 × 32\n",
       "\\begin{tabular}{r|lllllllllllllllllllll}\n",
       "  & Feature & varID & Chromosome & position & Ref & Alt & Af & HWEChi\\_square & IA & Log10\\_qval & ⋯ & Convergence\\_status & r2\\_fSNPs & r2\\_rSNP & P\\_VAl & flag\\_fdr10 & flag\\_fdr05 & flag\\_fdr01 & cell & exclude & rsID\\\\\n",
       "  & <chr> & <chr> & <chr> & <int> & <chr> & <chr> & <dbl> & <dbl> & <dbl> & <dbl> & ⋯ & <int> & <dbl> & <dbl> & <dbl> & <lgl> & <lgl> & <lgl> & <chr> & <lgl> & <chr>\\\\\n",
       "\\hline\n",
       "\t322539 & chr10:51502604-51504683  & chr10:51503178:G:A & chr10 &  51503178 & G & A & 0.45 & 1.715131 & 0.991469 & -19.52688 & ⋯ & 0 & 0.965503 & 0.979683 & 2.632664e-20 & TRUE & TRUE & TRUE & act\\_cd4\\_t & FALSE & rs2611475        \\\\\n",
       "\t322540 & chr6:32635924-32636583   & chr6:32636376:C:G  & chr6  &  32636376 & C & G & 0.45 & 0.001020 & 0.995562 & -16.97326 & ⋯ & 0 & 0.991991 & 0.991873 & 1.802573e-19 & TRUE & TRUE & TRUE & act\\_cd4\\_t & FALSE & rs2856698        \\\\\n",
       "\t322541 & chr10:27546208-27546939  & chr10:27546467:G:C & chr10 &  27546467 & G & C & 0.25 & 1.111111 & 0.990104 & -14.15310 & ⋯ & 0 & 0.951346 & 0.978134 & 2.454829e-15 & TRUE & TRUE & TRUE & act\\_cd4\\_t & FALSE & rs2488369        \\\\\n",
       "\t322542 & chr6:43737236-43739826   & chr6:43737873:G:A  & chr6  &  43737873 & G & A & 0.10 & 0.123457 & 0.994865 & -11.97900 & ⋯ & 0 & 0.991476 & 0.983246 & 9.541214e-14 & TRUE & TRUE & TRUE & act\\_cd4\\_t & FALSE & chr6:43737873:G:A\\\\\n",
       "\t322543 & chr6:166672201-166673529 & chr6:166672298:G:A & chr6  & 166672298 & G & A & 0.40 & 0.277778 & 0.989443 & -11.39206 & ⋯ & 0 & 0.983409 & 0.982888 & 1.928802e-12 & TRUE & TRUE & TRUE & act\\_cd4\\_t & FALSE & rs911202         \\\\\n",
       "\t322544 & chr7:134831931-134833621 & chr7:134833233:G:A & chr7  & 134833233 & G & A & 0.60 & 4.444444 & 0.998298 & -10.56247 & ⋯ & 0 & 0.987382 & 0.981880 & 2.272994e-11 & TRUE & TRUE & TRUE & act\\_cd4\\_t & FALSE & rs3735000        \\\\\n",
       "\\end{tabular}\n"
      ],
      "text/markdown": [
       "\n",
       "A data.frame: 6 × 32\n",
       "\n",
       "| <!--/--> | Feature &lt;chr&gt; | varID &lt;chr&gt; | Chromosome &lt;chr&gt; | position &lt;int&gt; | Ref &lt;chr&gt; | Alt &lt;chr&gt; | Af &lt;dbl&gt; | HWEChi_square &lt;dbl&gt; | IA &lt;dbl&gt; | Log10_qval &lt;dbl&gt; | ⋯ ⋯ | Convergence_status &lt;int&gt; | r2_fSNPs &lt;dbl&gt; | r2_rSNP &lt;dbl&gt; | P_VAl &lt;dbl&gt; | flag_fdr10 &lt;lgl&gt; | flag_fdr05 &lt;lgl&gt; | flag_fdr01 &lt;lgl&gt; | cell &lt;chr&gt; | exclude &lt;lgl&gt; | rsID &lt;chr&gt; |\n",
       "|---|---|---|---|---|---|---|---|---|---|---|---|---|---|---|---|---|---|---|---|---|---|\n",
       "| 322539 | chr10:51502604-51504683  | chr10:51503178:G:A | chr10 |  51503178 | G | A | 0.45 | 1.715131 | 0.991469 | -19.52688 | ⋯ | 0 | 0.965503 | 0.979683 | 2.632664e-20 | TRUE | TRUE | TRUE | act_cd4_t | FALSE | rs2611475         |\n",
       "| 322540 | chr6:32635924-32636583   | chr6:32636376:C:G  | chr6  |  32636376 | C | G | 0.45 | 0.001020 | 0.995562 | -16.97326 | ⋯ | 0 | 0.991991 | 0.991873 | 1.802573e-19 | TRUE | TRUE | TRUE | act_cd4_t | FALSE | rs2856698         |\n",
       "| 322541 | chr10:27546208-27546939  | chr10:27546467:G:C | chr10 |  27546467 | G | C | 0.25 | 1.111111 | 0.990104 | -14.15310 | ⋯ | 0 | 0.951346 | 0.978134 | 2.454829e-15 | TRUE | TRUE | TRUE | act_cd4_t | FALSE | rs2488369         |\n",
       "| 322542 | chr6:43737236-43739826   | chr6:43737873:G:A  | chr6  |  43737873 | G | A | 0.10 | 0.123457 | 0.994865 | -11.97900 | ⋯ | 0 | 0.991476 | 0.983246 | 9.541214e-14 | TRUE | TRUE | TRUE | act_cd4_t | FALSE | chr6:43737873:G:A |\n",
       "| 322543 | chr6:166672201-166673529 | chr6:166672298:G:A | chr6  | 166672298 | G | A | 0.40 | 0.277778 | 0.989443 | -11.39206 | ⋯ | 0 | 0.983409 | 0.982888 | 1.928802e-12 | TRUE | TRUE | TRUE | act_cd4_t | FALSE | rs911202          |\n",
       "| 322544 | chr7:134831931-134833621 | chr7:134833233:G:A | chr7  | 134833233 | G | A | 0.60 | 4.444444 | 0.998298 | -10.56247 | ⋯ | 0 | 0.987382 | 0.981880 | 2.272994e-11 | TRUE | TRUE | TRUE | act_cd4_t | FALSE | rs3735000         |\n",
       "\n"
      ],
      "text/plain": [
       "       Feature                  varID              Chromosome position  Ref Alt\n",
       "322539 chr10:51502604-51504683  chr10:51503178:G:A chr10       51503178 G   A  \n",
       "322540 chr6:32635924-32636583   chr6:32636376:C:G  chr6        32636376 C   G  \n",
       "322541 chr10:27546208-27546939  chr10:27546467:G:C chr10       27546467 G   C  \n",
       "322542 chr6:43737236-43739826   chr6:43737873:G:A  chr6        43737873 G   A  \n",
       "322543 chr6:166672201-166673529 chr6:166672298:G:A chr6       166672298 G   A  \n",
       "322544 chr7:134831931-134833621 chr7:134833233:G:A chr7       134833233 G   A  \n",
       "       Af   HWEChi_square IA       Log10_qval ⋯ Convergence_status r2_fSNPs\n",
       "322539 0.45 1.715131      0.991469 -19.52688  ⋯ 0                  0.965503\n",
       "322540 0.45 0.001020      0.995562 -16.97326  ⋯ 0                  0.991991\n",
       "322541 0.25 1.111111      0.990104 -14.15310  ⋯ 0                  0.951346\n",
       "322542 0.10 0.123457      0.994865 -11.97900  ⋯ 0                  0.991476\n",
       "322543 0.40 0.277778      0.989443 -11.39206  ⋯ 0                  0.983409\n",
       "322544 0.60 4.444444      0.998298 -10.56247  ⋯ 0                  0.987382\n",
       "       r2_rSNP  P_VAl        flag_fdr10 flag_fdr05 flag_fdr01 cell      exclude\n",
       "322539 0.979683 2.632664e-20 TRUE       TRUE       TRUE       act_cd4_t FALSE  \n",
       "322540 0.991873 1.802573e-19 TRUE       TRUE       TRUE       act_cd4_t FALSE  \n",
       "322541 0.978134 2.454829e-15 TRUE       TRUE       TRUE       act_cd4_t FALSE  \n",
       "322542 0.983246 9.541214e-14 TRUE       TRUE       TRUE       act_cd4_t FALSE  \n",
       "322543 0.982888 1.928802e-12 TRUE       TRUE       TRUE       act_cd4_t FALSE  \n",
       "322544 0.981880 2.272994e-11 TRUE       TRUE       TRUE       act_cd4_t FALSE  \n",
       "       rsID             \n",
       "322539 rs2611475        \n",
       "322540 rs2856698        \n",
       "322541 rs2488369        \n",
       "322542 chr6:43737873:G:A\n",
       "322543 rs911202         \n",
       "322544 rs3735000        "
      ]
     },
     "metadata": {},
     "output_type": "display_data"
    }
   ],
   "source": [
    "head(st)"
   ]
  },
  {
   "cell_type": "code",
   "execution_count": 54,
   "id": "aa0a693a",
   "metadata": {},
   "outputs": [
    {
     "data": {
      "text/html": [
       "0.00627052851597492"
      ],
      "text/latex": [
       "0.00627052851597492"
      ],
      "text/markdown": [
       "0.00627052851597492"
      ],
      "text/plain": [
       "[1] 0.006270529"
      ]
     },
     "metadata": {},
     "output_type": "display_data"
    }
   ],
   "source": [
    "sum(st$exclude)/ nrow(st)"
   ]
  },
  {
   "cell_type": "code",
   "execution_count": 393,
   "id": "cd5d608c",
   "metadata": {},
   "outputs": [],
   "source": [
    "st$sig = st$flag_fdr10 & st$exclude==FALSE"
   ]
  },
  {
   "cell_type": "code",
   "execution_count": 398,
   "id": "98508ad1",
   "metadata": {},
   "outputs": [],
   "source": [
    "ag1 = aggregate(sig~cell, st, sum)"
   ]
  },
  {
   "cell_type": "code",
   "execution_count": 399,
   "id": "dea7acac",
   "metadata": {},
   "outputs": [],
   "source": [
    "ag2=aggregate(Feature~cell, st0, length)"
   ]
  },
  {
   "cell_type": "code",
   "execution_count": 401,
   "id": "cf22b6ca",
   "metadata": {},
   "outputs": [],
   "source": [
    "agg = merge (ag1, ag2, by=1)"
   ]
  },
  {
   "cell_type": "code",
   "execution_count": 407,
   "id": "f5c42e78",
   "metadata": {},
   "outputs": [],
   "source": [
    "agg$fract = agg$sig/agg$Feature"
   ]
  },
  {
   "cell_type": "code",
   "execution_count": 409,
   "id": "927e1274",
   "metadata": {},
   "outputs": [
    {
     "data": {
      "text/html": [
       "<table class=\"dataframe\">\n",
       "<caption>A data.frame: 20 × 4</caption>\n",
       "<thead>\n",
       "\t<tr><th></th><th scope=col>cell</th><th scope=col>sig</th><th scope=col>Feature</th><th scope=col>fract</th></tr>\n",
       "\t<tr><th></th><th scope=col>&lt;chr&gt;</th><th scope=col>&lt;int&gt;</th><th scope=col>&lt;int&gt;</th><th scope=col>&lt;dbl&gt;</th></tr>\n",
       "</thead>\n",
       "<tbody>\n",
       "\t<tr><th scope=row>12</th><td>mkc        </td><td>  31</td><td> 11892</td><td>0.002606794</td></tr>\n",
       "\t<tr><th scope=row>9</th><td>iMono      </td><td>  39</td><td> 35454</td><td>0.001100017</td></tr>\n",
       "\t<tr><th scope=row>2</th><td>adaptive_NK</td><td>  40</td><td> 17199</td><td>0.002325717</td></tr>\n",
       "\t<tr><th scope=row>5</th><td>cDC        </td><td>  72</td><td> 24092</td><td>0.002988544</td></tr>\n",
       "\t<tr><th scope=row>20</th><td>tReg       </td><td>  74</td><td> 20769</td><td>0.003563003</td></tr>\n",
       "\t<tr><th scope=row>10</th><td>mem_b      </td><td> 161</td><td> 27930</td><td>0.005764411</td></tr>\n",
       "\t<tr><th scope=row>11</th><td>mem_cd8_t  </td><td> 219</td><td> 28332</td><td>0.007729776</td></tr>\n",
       "\t<tr><th scope=row>16</th><td>naive_cd8_t</td><td> 320</td><td> 37433</td><td>0.008548607</td></tr>\n",
       "\t<tr><th scope=row>14</th><td>naive_b    </td><td> 376</td><td> 35363</td><td>0.010632582</td></tr>\n",
       "\t<tr><th scope=row>17</th><td>ncMono     </td><td> 481</td><td> 54300</td><td>0.008858195</td></tr>\n",
       "\t<tr><th scope=row>7</th><td>cyto_cd8_t </td><td> 600</td><td> 46916</td><td>0.012788814</td></tr>\n",
       "\t<tr><th scope=row>15</th><td>naive_cd4_t</td><td> 622</td><td> 49151</td><td>0.012654880</td></tr>\n",
       "\t<tr><th scope=row>3</th><td>b          </td><td> 646</td><td> 45013</td><td>0.014351410</td></tr>\n",
       "\t<tr><th scope=row>8</th><td>cyto_nk    </td><td> 717</td><td> 48776</td><td>0.014699852</td></tr>\n",
       "\t<tr><th scope=row>18</th><td>nk         </td><td> 807</td><td> 51945</td><td>0.015535663</td></tr>\n",
       "\t<tr><th scope=row>1</th><td>act_cd4_t  </td><td>1295</td><td> 62196</td><td>0.020821275</td></tr>\n",
       "\t<tr><th scope=row>19</th><td>t          </td><td>2039</td><td> 97382</td><td>0.020938161</td></tr>\n",
       "\t<tr><th scope=row>6</th><td>cMono      </td><td>2830</td><td>116192</td><td>0.024356238</td></tr>\n",
       "\t<tr><th scope=row>13</th><td>mono       </td><td>3392</td><td>128198</td><td>0.026459071</td></tr>\n",
       "\t<tr><th scope=row>4</th><td>bulk       </td><td>4606</td><td>194846</td><td>0.023639182</td></tr>\n",
       "</tbody>\n",
       "</table>\n"
      ],
      "text/latex": [
       "A data.frame: 20 × 4\n",
       "\\begin{tabular}{r|llll}\n",
       "  & cell & sig & Feature & fract\\\\\n",
       "  & <chr> & <int> & <int> & <dbl>\\\\\n",
       "\\hline\n",
       "\t12 & mkc         &   31 &  11892 & 0.002606794\\\\\n",
       "\t9 & iMono       &   39 &  35454 & 0.001100017\\\\\n",
       "\t2 & adaptive\\_NK &   40 &  17199 & 0.002325717\\\\\n",
       "\t5 & cDC         &   72 &  24092 & 0.002988544\\\\\n",
       "\t20 & tReg        &   74 &  20769 & 0.003563003\\\\\n",
       "\t10 & mem\\_b       &  161 &  27930 & 0.005764411\\\\\n",
       "\t11 & mem\\_cd8\\_t   &  219 &  28332 & 0.007729776\\\\\n",
       "\t16 & naive\\_cd8\\_t &  320 &  37433 & 0.008548607\\\\\n",
       "\t14 & naive\\_b     &  376 &  35363 & 0.010632582\\\\\n",
       "\t17 & ncMono      &  481 &  54300 & 0.008858195\\\\\n",
       "\t7 & cyto\\_cd8\\_t  &  600 &  46916 & 0.012788814\\\\\n",
       "\t15 & naive\\_cd4\\_t &  622 &  49151 & 0.012654880\\\\\n",
       "\t3 & b           &  646 &  45013 & 0.014351410\\\\\n",
       "\t8 & cyto\\_nk     &  717 &  48776 & 0.014699852\\\\\n",
       "\t18 & nk          &  807 &  51945 & 0.015535663\\\\\n",
       "\t1 & act\\_cd4\\_t   & 1295 &  62196 & 0.020821275\\\\\n",
       "\t19 & t           & 2039 &  97382 & 0.020938161\\\\\n",
       "\t6 & cMono       & 2830 & 116192 & 0.024356238\\\\\n",
       "\t13 & mono        & 3392 & 128198 & 0.026459071\\\\\n",
       "\t4 & bulk        & 4606 & 194846 & 0.023639182\\\\\n",
       "\\end{tabular}\n"
      ],
      "text/markdown": [
       "\n",
       "A data.frame: 20 × 4\n",
       "\n",
       "| <!--/--> | cell &lt;chr&gt; | sig &lt;int&gt; | Feature &lt;int&gt; | fract &lt;dbl&gt; |\n",
       "|---|---|---|---|---|\n",
       "| 12 | mkc         |   31 |  11892 | 0.002606794 |\n",
       "| 9 | iMono       |   39 |  35454 | 0.001100017 |\n",
       "| 2 | adaptive_NK |   40 |  17199 | 0.002325717 |\n",
       "| 5 | cDC         |   72 |  24092 | 0.002988544 |\n",
       "| 20 | tReg        |   74 |  20769 | 0.003563003 |\n",
       "| 10 | mem_b       |  161 |  27930 | 0.005764411 |\n",
       "| 11 | mem_cd8_t   |  219 |  28332 | 0.007729776 |\n",
       "| 16 | naive_cd8_t |  320 |  37433 | 0.008548607 |\n",
       "| 14 | naive_b     |  376 |  35363 | 0.010632582 |\n",
       "| 17 | ncMono      |  481 |  54300 | 0.008858195 |\n",
       "| 7 | cyto_cd8_t  |  600 |  46916 | 0.012788814 |\n",
       "| 15 | naive_cd4_t |  622 |  49151 | 0.012654880 |\n",
       "| 3 | b           |  646 |  45013 | 0.014351410 |\n",
       "| 8 | cyto_nk     |  717 |  48776 | 0.014699852 |\n",
       "| 18 | nk          |  807 |  51945 | 0.015535663 |\n",
       "| 1 | act_cd4_t   | 1295 |  62196 | 0.020821275 |\n",
       "| 19 | t           | 2039 |  97382 | 0.020938161 |\n",
       "| 6 | cMono       | 2830 | 116192 | 0.024356238 |\n",
       "| 13 | mono        | 3392 | 128198 | 0.026459071 |\n",
       "| 4 | bulk        | 4606 | 194846 | 0.023639182 |\n",
       "\n"
      ],
      "text/plain": [
       "   cell        sig  Feature fract      \n",
       "12 mkc           31  11892  0.002606794\n",
       "9  iMono         39  35454  0.001100017\n",
       "2  adaptive_NK   40  17199  0.002325717\n",
       "5  cDC           72  24092  0.002988544\n",
       "20 tReg          74  20769  0.003563003\n",
       "10 mem_b        161  27930  0.005764411\n",
       "11 mem_cd8_t    219  28332  0.007729776\n",
       "16 naive_cd8_t  320  37433  0.008548607\n",
       "14 naive_b      376  35363  0.010632582\n",
       "17 ncMono       481  54300  0.008858195\n",
       "7  cyto_cd8_t   600  46916  0.012788814\n",
       "15 naive_cd4_t  622  49151  0.012654880\n",
       "3  b            646  45013  0.014351410\n",
       "8  cyto_nk      717  48776  0.014699852\n",
       "18 nk           807  51945  0.015535663\n",
       "1  act_cd4_t   1295  62196  0.020821275\n",
       "19 t           2039  97382  0.020938161\n",
       "6  cMono       2830 116192  0.024356238\n",
       "13 mono        3392 128198  0.026459071\n",
       "4  bulk        4606 194846  0.023639182"
      ]
     },
     "metadata": {},
     "output_type": "display_data"
    }
   ],
   "source": [
    "agg[order(agg$sig),]"
   ]
  },
  {
   "cell_type": "code",
   "execution_count": null,
   "id": "2e4d133f",
   "metadata": {},
   "outputs": [],
   "source": []
  }
 ],
 "metadata": {
  "kernelspec": {
   "display_name": "R 4.1",
   "language": "R",
   "name": "ir41"
  },
  "language_info": {
   "codemirror_mode": "r",
   "file_extension": ".r",
   "mimetype": "text/x-r-source",
   "name": "R",
   "pygments_lexer": "r",
   "version": "4.1.1"
  }
 },
 "nbformat": 4,
 "nbformat_minor": 5
}
