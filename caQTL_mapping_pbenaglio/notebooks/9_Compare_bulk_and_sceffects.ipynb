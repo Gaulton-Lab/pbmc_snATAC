{
 "cells": [
  {
   "cell_type": "code",
   "execution_count": 1,
   "id": "b0e11a74",
   "metadata": {},
   "outputs": [],
   "source": [
    "library(data.table)"
   ]
  },
  {
   "cell_type": "code",
   "execution_count": 2,
   "id": "6431ac63",
   "metadata": {},
   "outputs": [],
   "source": [
    "library(tidyr)"
   ]
  },
  {
   "cell_type": "code",
   "execution_count": 3,
   "id": "e8c02112",
   "metadata": {},
   "outputs": [],
   "source": [
    "setwd( '/nfs/lab/projects/pbmc_snATAC/analysis_v2/summarized_caqtls/run3')"
   ]
  },
  {
   "cell_type": "code",
   "execution_count": 4,
   "id": "d5296d8f",
   "metadata": {},
   "outputs": [],
   "source": [
    "qtltot = read.table(\"EUR_caqtl_leads_run3.tsv\", header=T)"
   ]
  },
  {
   "cell_type": "code",
   "execution_count": 6,
   "id": "fc8c1e98",
   "metadata": {},
   "outputs": [
    {
     "data": {
      "text/html": [
       "0"
      ],
      "text/latex": [
       "0"
      ],
      "text/markdown": [
       "0"
      ],
      "text/plain": [
       "[1] 0"
      ]
     },
     "metadata": {},
     "output_type": "display_data"
    }
   ],
   "source": [
    "qtltot$signif = qtltot$flag_fdr10 & qtltot$exclude==FALSE\n",
    "wide = spread(data = qtltot[,c('Feature', 'cell', 'signif')], key=cell, value =signif )\n",
    "\n",
    "qtltot$abseffect = abs(qtltot$Effect_size-0.5)\n",
    "\n",
    "wideEff = spread(data = qtltot[,c('Feature', 'cell', 'abseffect')], key=cell, value =abseffect )\n",
    "\n",
    "sum(wideEff$Feature != wide$Feature)"
   ]
  },
  {
   "cell_type": "code",
   "execution_count": 7,
   "id": "a374ba17",
   "metadata": {},
   "outputs": [],
   "source": [
    "celltypes = c('b','mono','nk','t')\n",
    "\n",
    "colors = read.table('../../peaks/color_scheme.tsv' )\n",
    "\n",
    "colors = rbind(colors, matrix( c('orange2', 'b','tan4','nk','#7FC97F','mono', 'magenta4', \"t\"), ncol=2, byrow=T))\n"
   ]
  },
  {
   "cell_type": "code",
   "execution_count": 13,
   "id": "740fc1d4",
   "metadata": {},
   "outputs": [],
   "source": [
    "### effects in not observed comparing broad and fine cells\n",
    "celltypes2 = c('act_cd4_t', 'adaptive_NK', 'cDC', 'cMono', 'cyto_cd8_t', 'cyto_nk',\n",
    "  'iMono', 'mem_b', 'mem_cd8_t', 'mkc', 'naive_b', 'naive_cd4_t', 'naive_cd8_t', 'ncMono', 'tReg')"
   ]
  },
  {
   "cell_type": "code",
   "execution_count": 22,
   "id": "eb1ed44a",
   "metadata": {},
   "outputs": [
    {
     "data": {
      "text/html": [
       "<strong>png:</strong> 2"
      ],
      "text/latex": [
       "\\textbf{png:} 2"
      ],
      "text/markdown": [
       "**png:** 2"
      ],
      "text/plain": [
       "png \n",
       "  2 "
      ]
     },
     "metadata": {},
     "output_type": "display_data"
    }
   ],
   "source": [
    "pdf(\"../../figures/CompareBulkEffects.pdf\")\n",
    "#options(repr.plot.width=12, repr.plot.height=3)\n",
    "par(mfrow=c(3,4), mar=c(6,4,4,1))\n",
    "a = 'bulk'\n",
    "for (b in celltypes){\n",
    "\n",
    "\n",
    "wsel = wideEff[ rowSums(wide[,c(a,b)], na.rm=T)==2  ,c(a,b)]\n",
    "\n",
    "plot(density(wsel[,1]), main=b, lwd=1.5, ylim=c(0,7))\n",
    "lines(density(wsel[,2]), col=colors$V1[match(b,colors$V2)], lwd=2)\n",
    "w = wilcox.test(wsel[,1], wsel[,2], alternative = 'two.sided', paired=T)$p.value\n",
    "mtext(paste(\"p=\",signif(w,2)))\n",
    "    }\n",
    "dev.off()"
   ]
  },
  {
   "cell_type": "markdown",
   "id": "32e54730",
   "metadata": {},
   "source": [
    "### Do it considering the snp because above was wrong"
   ]
  },
  {
   "cell_type": "code",
   "execution_count": 10,
   "id": "b7556bb1",
   "metadata": {},
   "outputs": [],
   "source": [
    "a = subset(qtltot, cell==\"bulk\" & signif == TRUE)\n",
    "a$feature_snp = paste(a$Feature, a$varID, sep=\"_\")"
   ]
  },
  {
   "cell_type": "code",
   "execution_count": 22,
   "id": "de75a9f7",
   "metadata": {},
   "outputs": [
    {
     "data": {
      "text/html": [
       "<strong>png:</strong> 2"
      ],
      "text/latex": [
       "\\textbf{png:} 2"
      ],
      "text/markdown": [
       "**png:** 2"
      ],
      "text/plain": [
       "png \n",
       "  2 "
      ]
     },
     "metadata": {},
     "output_type": "display_data"
    }
   ],
   "source": [
    "pdf(\"../../figures/CompareBulkEffects_v2.pdf\")\n",
    "#options(repr.plot.width=12, repr.plot.height=3)\n",
    "par(mfrow=c(3,4), mar=c(6,4,4,1))\n",
    "\n",
    "for (c2 in celltypes){\n",
    "\n",
    "\n",
    "b  = fread(paste0(c2, \"_caqtl_sumstats_run3.tsv\"), header=T)\n",
    "\n",
    "\n",
    "b             = subset(b, Is_peak_caQTL==TRUE)\n",
    "b$feature_snp = paste(b$Feature, b$varID, sep=\"_\")\n",
    "b$abseffect   = abs(b$Effect_size-0.5)\n",
    "c             = merge(a,b,by=\"feature_snp\")\n",
    "c             = subset (c, (Effect_size.x>0.5&Effect_size.y>0.5) | (Effect_size.x<0.5&Effect_size.y<0.5))\n",
    "\n",
    "plot(density(c$abseffect.x), main=c2, lwd=1.5, ylim=c(0,7))\n",
    "lines(density(c$abseffect.y), col=colors$V1[match(c2,colors$V2)], lwd=2)\n",
    "w = wilcox.test(c$abseffect.x, c$abseffect.y, alternative = 'two.sided', paired=T)$p.value\n",
    "mtext(paste(\"p=\",signif(w,2)))\n",
    "}\n",
    "dev.off()"
   ]
  },
  {
   "cell_type": "markdown",
   "id": "f189ac74",
   "metadata": {},
   "source": [
    "### QQ-plots"
   ]
  },
  {
   "cell_type": "code",
   "execution_count": 33,
   "id": "d301e291",
   "metadata": {},
   "outputs": [],
   "source": [
    "qqplotf = function(pvalues, title){\n",
    "coaccP = sort(-log(pvalues, 10))\n",
    "set.seed(1)\n",
    "uniP = runif(length(coaccP))\n",
    "uniP = sort(-log10(uniP))\n",
    "\n",
    "plot(uniP, coaccP, pch=20, cex=1, xlab=\"Theoretical -Log10(P)\", ylab=\"-Log10(P) caQTLs\", main =title)\n",
    "abline(0,1)\n",
    "chisq <- qchisq(1-pvalues,1)\n",
    "lgc = median(chisq)/qchisq(0.5,1)\n",
    "    \n",
    "    #median(qchisq(p, df=1, lower.tail=FALSE)) / qchisq(0.5, 1)\n",
    "    mtext(paste(\"Lgc=\", round(lgc,2), \"MedianPval=\", round(median(pvalues),3)),cex = 0.8)  \n",
    "}"
   ]
  },
  {
   "cell_type": "code",
   "execution_count": 24,
   "id": "cbbde08b",
   "metadata": {},
   "outputs": [],
   "source": [
    "celltypes = c('bulk','b','mono','nk','t')\n",
    "celltypes2 = c('act_cd4_t', 'adaptive_NK', 'cDC', 'cMono', 'cyto_cd8_t', \n",
    "               'cyto_nk', 'iMono', 'mem_b', 'mem_cd8_t', 'mkc', \n",
    "               'naive_b', 'naive_cd4_t', 'naive_cd8_t', 'ncMono', 'tReg')"
   ]
  },
  {
   "cell_type": "code",
   "execution_count": 25,
   "id": "dad09f17",
   "metadata": {},
   "outputs": [
    {
     "data": {
      "text/html": [
       "<table class=\"dataframe\">\n",
       "<caption>A data.frame: 6 × 34</caption>\n",
       "<thead>\n",
       "\t<tr><th></th><th scope=col>Feature</th><th scope=col>varID</th><th scope=col>Chromosome</th><th scope=col>position</th><th scope=col>Ref</th><th scope=col>Alt</th><th scope=col>Af</th><th scope=col>HWEChi_square</th><th scope=col>IA</th><th scope=col>Log10_qval</th><th scope=col>⋯</th><th scope=col>r2_rSNP</th><th scope=col>P_VAl</th><th scope=col>flag_fdr10</th><th scope=col>flag_fdr05</th><th scope=col>flag_fdr01</th><th scope=col>cell</th><th scope=col>exclude</th><th scope=col>rsID</th><th scope=col>signif</th><th scope=col>abseffect</th></tr>\n",
       "\t<tr><th></th><th scope=col>&lt;chr&gt;</th><th scope=col>&lt;chr&gt;</th><th scope=col>&lt;chr&gt;</th><th scope=col>&lt;int&gt;</th><th scope=col>&lt;chr&gt;</th><th scope=col>&lt;chr&gt;</th><th scope=col>&lt;dbl&gt;</th><th scope=col>&lt;dbl&gt;</th><th scope=col>&lt;dbl&gt;</th><th scope=col>&lt;dbl&gt;</th><th scope=col>⋯</th><th scope=col>&lt;dbl&gt;</th><th scope=col>&lt;dbl&gt;</th><th scope=col>&lt;lgl&gt;</th><th scope=col>&lt;lgl&gt;</th><th scope=col>&lt;lgl&gt;</th><th scope=col>&lt;chr&gt;</th><th scope=col>&lt;lgl&gt;</th><th scope=col>&lt;chr&gt;</th><th scope=col>&lt;lgl&gt;</th><th scope=col>&lt;dbl&gt;</th></tr>\n",
       "</thead>\n",
       "<tbody>\n",
       "\t<tr><th scope=row>1</th><td>chr7:24758459-24759192 </td><td>chr7:24758818:G:T </td><td>chr7 </td><td>24758818</td><td>G</td><td>T</td><td>0.15</td><td>0.311419</td><td>0.999894</td><td>-14.264826</td><td>⋯</td><td>0.990518</td><td>1.803870e-15</td><td>TRUE</td><td>TRUE</td><td>TRUE</td><td>b</td><td>FALSE</td><td>rs754554  </td><td>TRUE</td><td>0.409767</td></tr>\n",
       "\t<tr><th scope=row>2</th><td>chr13:30945680-30946517</td><td>chr13:30945921:T:C</td><td>chr13</td><td>30945921</td><td>T</td><td>C</td><td>0.60</td><td>0.625000</td><td>0.997466</td><td> -9.569054</td><td>⋯</td><td>0.992241</td><td>6.586914e-11</td><td>TRUE</td><td>TRUE</td><td>TRUE</td><td>b</td><td>FALSE</td><td>rs2149851 </td><td>TRUE</td><td>0.176037</td></tr>\n",
       "\t<tr><th scope=row>3</th><td>chr10:3946733-3947159  </td><td>chr10:3946975:T:G </td><td>chr10</td><td> 3946975</td><td>T</td><td>G</td><td>0.80</td><td>0.625000</td><td>0.960408</td><td> -9.533919</td><td>⋯</td><td>0.937457</td><td>1.044361e-10</td><td>TRUE</td><td>TRUE</td><td>TRUE</td><td>b</td><td>FALSE</td><td>rs10732924</td><td>TRUE</td><td>0.290398</td></tr>\n",
       "\t<tr><th scope=row>4</th><td>chr7:44807689-44808463 </td><td>chr7:44808091:T:G </td><td>chr7 </td><td>44808091</td><td>T</td><td>G</td><td>0.45</td><td>1.715131</td><td>0.998349</td><td> -9.291903</td><td>⋯</td><td>0.990608</td><td>3.364620e-10</td><td>TRUE</td><td>TRUE</td><td>TRUE</td><td>b</td><td>FALSE</td><td>rs1050331 </td><td>TRUE</td><td>0.301672</td></tr>\n",
       "\t<tr><th scope=row>5</th><td>chr12:92341147-92341822</td><td>chr12:92341470:G:C</td><td>chr12</td><td>92341470</td><td>G</td><td>C</td><td>0.65</td><td>2.899408</td><td>0.996683</td><td> -8.863639</td><td>⋯</td><td>0.985398</td><td>1.362139e-09</td><td>TRUE</td><td>TRUE</td><td>TRUE</td><td>b</td><td>FALSE</td><td>rs10777362</td><td>TRUE</td><td>0.270880</td></tr>\n",
       "\t<tr><th scope=row>6</th><td>chr16:84208883-84209949</td><td>chr16:84209049:C:T</td><td>chr16</td><td>84209049</td><td>C</td><td>T</td><td>0.45</td><td>1.715131</td><td>0.999153</td><td> -7.863591</td><td>⋯</td><td>0.990930</td><td>5.737661e-09</td><td>TRUE</td><td>TRUE</td><td>TRUE</td><td>b</td><td>FALSE</td><td>rs12933059</td><td>TRUE</td><td>0.350670</td></tr>\n",
       "</tbody>\n",
       "</table>\n"
      ],
      "text/latex": [
       "A data.frame: 6 × 34\n",
       "\\begin{tabular}{r|lllllllllllllllllllll}\n",
       "  & Feature & varID & Chromosome & position & Ref & Alt & Af & HWEChi\\_square & IA & Log10\\_qval & ⋯ & r2\\_rSNP & P\\_VAl & flag\\_fdr10 & flag\\_fdr05 & flag\\_fdr01 & cell & exclude & rsID & signif & abseffect\\\\\n",
       "  & <chr> & <chr> & <chr> & <int> & <chr> & <chr> & <dbl> & <dbl> & <dbl> & <dbl> & ⋯ & <dbl> & <dbl> & <lgl> & <lgl> & <lgl> & <chr> & <lgl> & <chr> & <lgl> & <dbl>\\\\\n",
       "\\hline\n",
       "\t1 & chr7:24758459-24759192  & chr7:24758818:G:T  & chr7  & 24758818 & G & T & 0.15 & 0.311419 & 0.999894 & -14.264826 & ⋯ & 0.990518 & 1.803870e-15 & TRUE & TRUE & TRUE & b & FALSE & rs754554   & TRUE & 0.409767\\\\\n",
       "\t2 & chr13:30945680-30946517 & chr13:30945921:T:C & chr13 & 30945921 & T & C & 0.60 & 0.625000 & 0.997466 &  -9.569054 & ⋯ & 0.992241 & 6.586914e-11 & TRUE & TRUE & TRUE & b & FALSE & rs2149851  & TRUE & 0.176037\\\\\n",
       "\t3 & chr10:3946733-3947159   & chr10:3946975:T:G  & chr10 &  3946975 & T & G & 0.80 & 0.625000 & 0.960408 &  -9.533919 & ⋯ & 0.937457 & 1.044361e-10 & TRUE & TRUE & TRUE & b & FALSE & rs10732924 & TRUE & 0.290398\\\\\n",
       "\t4 & chr7:44807689-44808463  & chr7:44808091:T:G  & chr7  & 44808091 & T & G & 0.45 & 1.715131 & 0.998349 &  -9.291903 & ⋯ & 0.990608 & 3.364620e-10 & TRUE & TRUE & TRUE & b & FALSE & rs1050331  & TRUE & 0.301672\\\\\n",
       "\t5 & chr12:92341147-92341822 & chr12:92341470:G:C & chr12 & 92341470 & G & C & 0.65 & 2.899408 & 0.996683 &  -8.863639 & ⋯ & 0.985398 & 1.362139e-09 & TRUE & TRUE & TRUE & b & FALSE & rs10777362 & TRUE & 0.270880\\\\\n",
       "\t6 & chr16:84208883-84209949 & chr16:84209049:C:T & chr16 & 84209049 & C & T & 0.45 & 1.715131 & 0.999153 &  -7.863591 & ⋯ & 0.990930 & 5.737661e-09 & TRUE & TRUE & TRUE & b & FALSE & rs12933059 & TRUE & 0.350670\\\\\n",
       "\\end{tabular}\n"
      ],
      "text/markdown": [
       "\n",
       "A data.frame: 6 × 34\n",
       "\n",
       "| <!--/--> | Feature &lt;chr&gt; | varID &lt;chr&gt; | Chromosome &lt;chr&gt; | position &lt;int&gt; | Ref &lt;chr&gt; | Alt &lt;chr&gt; | Af &lt;dbl&gt; | HWEChi_square &lt;dbl&gt; | IA &lt;dbl&gt; | Log10_qval &lt;dbl&gt; | ⋯ ⋯ | r2_rSNP &lt;dbl&gt; | P_VAl &lt;dbl&gt; | flag_fdr10 &lt;lgl&gt; | flag_fdr05 &lt;lgl&gt; | flag_fdr01 &lt;lgl&gt; | cell &lt;chr&gt; | exclude &lt;lgl&gt; | rsID &lt;chr&gt; | signif &lt;lgl&gt; | abseffect &lt;dbl&gt; |\n",
       "|---|---|---|---|---|---|---|---|---|---|---|---|---|---|---|---|---|---|---|---|---|---|\n",
       "| 1 | chr7:24758459-24759192  | chr7:24758818:G:T  | chr7  | 24758818 | G | T | 0.15 | 0.311419 | 0.999894 | -14.264826 | ⋯ | 0.990518 | 1.803870e-15 | TRUE | TRUE | TRUE | b | FALSE | rs754554   | TRUE | 0.409767 |\n",
       "| 2 | chr13:30945680-30946517 | chr13:30945921:T:C | chr13 | 30945921 | T | C | 0.60 | 0.625000 | 0.997466 |  -9.569054 | ⋯ | 0.992241 | 6.586914e-11 | TRUE | TRUE | TRUE | b | FALSE | rs2149851  | TRUE | 0.176037 |\n",
       "| 3 | chr10:3946733-3947159   | chr10:3946975:T:G  | chr10 |  3946975 | T | G | 0.80 | 0.625000 | 0.960408 |  -9.533919 | ⋯ | 0.937457 | 1.044361e-10 | TRUE | TRUE | TRUE | b | FALSE | rs10732924 | TRUE | 0.290398 |\n",
       "| 4 | chr7:44807689-44808463  | chr7:44808091:T:G  | chr7  | 44808091 | T | G | 0.45 | 1.715131 | 0.998349 |  -9.291903 | ⋯ | 0.990608 | 3.364620e-10 | TRUE | TRUE | TRUE | b | FALSE | rs1050331  | TRUE | 0.301672 |\n",
       "| 5 | chr12:92341147-92341822 | chr12:92341470:G:C | chr12 | 92341470 | G | C | 0.65 | 2.899408 | 0.996683 |  -8.863639 | ⋯ | 0.985398 | 1.362139e-09 | TRUE | TRUE | TRUE | b | FALSE | rs10777362 | TRUE | 0.270880 |\n",
       "| 6 | chr16:84208883-84209949 | chr16:84209049:C:T | chr16 | 84209049 | C | T | 0.45 | 1.715131 | 0.999153 |  -7.863591 | ⋯ | 0.990930 | 5.737661e-09 | TRUE | TRUE | TRUE | b | FALSE | rs12933059 | TRUE | 0.350670 |\n",
       "\n"
      ],
      "text/plain": [
       "  Feature                 varID              Chromosome position Ref Alt Af  \n",
       "1 chr7:24758459-24759192  chr7:24758818:G:T  chr7       24758818 G   T   0.15\n",
       "2 chr13:30945680-30946517 chr13:30945921:T:C chr13      30945921 T   C   0.60\n",
       "3 chr10:3946733-3947159   chr10:3946975:T:G  chr10       3946975 T   G   0.80\n",
       "4 chr7:44807689-44808463  chr7:44808091:T:G  chr7       44808091 T   G   0.45\n",
       "5 chr12:92341147-92341822 chr12:92341470:G:C chr12      92341470 G   C   0.65\n",
       "6 chr16:84208883-84209949 chr16:84209049:C:T chr16      84209049 C   T   0.45\n",
       "  HWEChi_square IA       Log10_qval ⋯ r2_rSNP  P_VAl        flag_fdr10\n",
       "1 0.311419      0.999894 -14.264826 ⋯ 0.990518 1.803870e-15 TRUE      \n",
       "2 0.625000      0.997466  -9.569054 ⋯ 0.992241 6.586914e-11 TRUE      \n",
       "3 0.625000      0.960408  -9.533919 ⋯ 0.937457 1.044361e-10 TRUE      \n",
       "4 1.715131      0.998349  -9.291903 ⋯ 0.990608 3.364620e-10 TRUE      \n",
       "5 2.899408      0.996683  -8.863639 ⋯ 0.985398 1.362139e-09 TRUE      \n",
       "6 1.715131      0.999153  -7.863591 ⋯ 0.990930 5.737661e-09 TRUE      \n",
       "  flag_fdr05 flag_fdr01 cell exclude rsID       signif abseffect\n",
       "1 TRUE       TRUE       b    FALSE   rs754554   TRUE   0.409767 \n",
       "2 TRUE       TRUE       b    FALSE   rs2149851  TRUE   0.176037 \n",
       "3 TRUE       TRUE       b    FALSE   rs10732924 TRUE   0.290398 \n",
       "4 TRUE       TRUE       b    FALSE   rs1050331  TRUE   0.301672 \n",
       "5 TRUE       TRUE       b    FALSE   rs10777362 TRUE   0.270880 \n",
       "6 TRUE       TRUE       b    FALSE   rs12933059 TRUE   0.350670 "
      ]
     },
     "metadata": {},
     "output_type": "display_data"
    }
   ],
   "source": [
    "head(qtltot)"
   ]
  },
  {
   "cell_type": "code",
   "execution_count": 35,
   "id": "aebfbf66",
   "metadata": {},
   "outputs": [
    {
     "data": {
      "image/png": "[encoded data removed]",
      "text/plain": [
       "Plot with title “tReg”"
      ]
     },
     "metadata": {
      "image/png": {
       "height": 480,
       "width": 840
      }
     },
     "output_type": "display_data"
    }
   ],
   "source": [
    "options(repr.plot.width=14, repr.plot.height=8)\n",
    "\n",
    "par(mfrow=c(4,5))\n",
    "for (c in c(celltypes,celltypes2)) {\n",
    "    results_lead = subset(qtltot, cell==c)\n",
    "    qqplotf(results_lead$P_VAl, c)\n",
    "    \n",
    "    }\n",
    "#dev.off()"
   ]
  },
  {
   "cell_type": "code",
   "execution_count": 64,
   "id": "e78f9401",
   "metadata": {},
   "outputs": [],
   "source": [
    "results_lead = subset(qtltot, cell==\"t\")"
   ]
  },
  {
   "cell_type": "code",
   "execution_count": 67,
   "id": "eeb2d115",
   "metadata": {},
   "outputs": [
    {
     "data": {
      "text/html": [
       "<table class=\"dataframe\">\n",
       "<caption>A data.frame: 6 × 32</caption>\n",
       "<thead>\n",
       "\t<tr><th></th><th scope=col>Feature</th><th scope=col>varID</th><th scope=col>Chromosome</th><th scope=col>position</th><th scope=col>Ref</th><th scope=col>Alt</th><th scope=col>Af</th><th scope=col>HWEChi_square</th><th scope=col>IA</th><th scope=col>Log10_qval</th><th scope=col>⋯</th><th scope=col>Convergence_status</th><th scope=col>r2_fSNPs</th><th scope=col>r2_rSNP</th><th scope=col>P_VAl</th><th scope=col>flag_fdr10</th><th scope=col>flag_fdr05</th><th scope=col>flag_fdr01</th><th scope=col>cell</th><th scope=col>exclude</th><th scope=col>rsID</th></tr>\n",
       "\t<tr><th></th><th scope=col>&lt;chr&gt;</th><th scope=col>&lt;chr&gt;</th><th scope=col>&lt;chr&gt;</th><th scope=col>&lt;int&gt;</th><th scope=col>&lt;chr&gt;</th><th scope=col>&lt;chr&gt;</th><th scope=col>&lt;dbl&gt;</th><th scope=col>&lt;dbl&gt;</th><th scope=col>&lt;dbl&gt;</th><th scope=col>&lt;dbl&gt;</th><th scope=col>⋯</th><th scope=col>&lt;int&gt;</th><th scope=col>&lt;dbl&gt;</th><th scope=col>&lt;dbl&gt;</th><th scope=col>&lt;dbl&gt;</th><th scope=col>&lt;lgl&gt;</th><th scope=col>&lt;lgl&gt;</th><th scope=col>&lt;lgl&gt;</th><th scope=col>&lt;chr&gt;</th><th scope=col>&lt;lgl&gt;</th><th scope=col>&lt;chr&gt;</th></tr>\n",
       "</thead>\n",
       "<tbody>\n",
       "\t<tr><th scope=row>225157</th><td>chr10:51502604-51504683 </td><td>chr10:51503178:G:A</td><td>chr10</td><td> 51503178</td><td>G</td><td>A</td><td>0.45</td><td>1.715131</td><td>0.991469</td><td>-20.41608</td><td>⋯</td><td>0</td><td>0.967039</td><td>0.979683</td><td>3.174941e-21</td><td>TRUE</td><td>TRUE</td><td>TRUE</td><td>t</td><td>FALSE</td><td>rs2611475        </td></tr>\n",
       "\t<tr><th scope=row>225158</th><td>chr6:166672201-166673529</td><td>chr6:166672966:G:T</td><td>chr6 </td><td>166672966</td><td>G</td><td>T</td><td>0.40</td><td>0.277778</td><td>0.989443</td><td>-20.05267</td><td>⋯</td><td>0</td><td>0.976233</td><td>0.983870</td><td>4.195234e-21</td><td>TRUE</td><td>TRUE</td><td>TRUE</td><td>t</td><td>FALSE</td><td>rs4367351        </td></tr>\n",
       "\t<tr><th scope=row>225159</th><td>chr10:27546208-27546939 </td><td>chr10:27546467:G:C</td><td>chr10</td><td> 27546467</td><td>G</td><td>C</td><td>0.25</td><td>1.111111</td><td>0.990104</td><td>-18.56679</td><td>⋯</td><td>0</td><td>0.952541</td><td>0.978220</td><td>7.747115e-20</td><td>TRUE</td><td>TRUE</td><td>TRUE</td><td>t</td><td>FALSE</td><td>rs2488369        </td></tr>\n",
       "\t<tr><th scope=row>225160</th><td>chr6:32635924-32636583  </td><td>chr6:32636376:C:G </td><td>chr6 </td><td> 32636376</td><td>C</td><td>G</td><td>0.45</td><td>0.001020</td><td>0.995562</td><td>-17.33367</td><td>⋯</td><td>0</td><td>0.991934</td><td>0.991779</td><td>1.957835e-19</td><td>TRUE</td><td>TRUE</td><td>TRUE</td><td>t</td><td>FALSE</td><td>rs2856698        </td></tr>\n",
       "\t<tr><th scope=row>225161</th><td>chr7:134831931-134833621</td><td>chr7:134833233:G:A</td><td>chr7 </td><td>134833233</td><td>G</td><td>A</td><td>0.60</td><td>4.444444</td><td>0.998298</td><td>-13.57669</td><td>⋯</td><td>0</td><td>0.990163</td><td>0.984904</td><td>2.225781e-14</td><td>TRUE</td><td>TRUE</td><td>TRUE</td><td>t</td><td>FALSE</td><td>rs3735000        </td></tr>\n",
       "\t<tr><th scope=row>225162</th><td>chr6:43737236-43739826  </td><td>chr6:43737873:G:A </td><td>chr6 </td><td> 43737873</td><td>G</td><td>A</td><td>0.10</td><td>0.123457</td><td>0.994865</td><td>-12.36474</td><td>⋯</td><td>0</td><td>0.992417</td><td>0.983258</td><td>3.925262e-14</td><td>TRUE</td><td>TRUE</td><td>TRUE</td><td>t</td><td>FALSE</td><td>chr6:43737873:G:A</td></tr>\n",
       "</tbody>\n",
       "</table>\n"
      ],
      "text/latex": [
       "A data.frame: 6 × 32\n",
       "\\begin{tabular}{r|lllllllllllllllllllll}\n",
       "  & Feature & varID & Chromosome & position & Ref & Alt & Af & HWEChi\\_square & IA & Log10\\_qval & ⋯ & Convergence\\_status & r2\\_fSNPs & r2\\_rSNP & P\\_VAl & flag\\_fdr10 & flag\\_fdr05 & flag\\_fdr01 & cell & exclude & rsID\\\\\n",
       "  & <chr> & <chr> & <chr> & <int> & <chr> & <chr> & <dbl> & <dbl> & <dbl> & <dbl> & ⋯ & <int> & <dbl> & <dbl> & <dbl> & <lgl> & <lgl> & <lgl> & <chr> & <lgl> & <chr>\\\\\n",
       "\\hline\n",
       "\t225157 & chr10:51502604-51504683  & chr10:51503178:G:A & chr10 &  51503178 & G & A & 0.45 & 1.715131 & 0.991469 & -20.41608 & ⋯ & 0 & 0.967039 & 0.979683 & 3.174941e-21 & TRUE & TRUE & TRUE & t & FALSE & rs2611475        \\\\\n",
       "\t225158 & chr6:166672201-166673529 & chr6:166672966:G:T & chr6  & 166672966 & G & T & 0.40 & 0.277778 & 0.989443 & -20.05267 & ⋯ & 0 & 0.976233 & 0.983870 & 4.195234e-21 & TRUE & TRUE & TRUE & t & FALSE & rs4367351        \\\\\n",
       "\t225159 & chr10:27546208-27546939  & chr10:27546467:G:C & chr10 &  27546467 & G & C & 0.25 & 1.111111 & 0.990104 & -18.56679 & ⋯ & 0 & 0.952541 & 0.978220 & 7.747115e-20 & TRUE & TRUE & TRUE & t & FALSE & rs2488369        \\\\\n",
       "\t225160 & chr6:32635924-32636583   & chr6:32636376:C:G  & chr6  &  32636376 & C & G & 0.45 & 0.001020 & 0.995562 & -17.33367 & ⋯ & 0 & 0.991934 & 0.991779 & 1.957835e-19 & TRUE & TRUE & TRUE & t & FALSE & rs2856698        \\\\\n",
       "\t225161 & chr7:134831931-134833621 & chr7:134833233:G:A & chr7  & 134833233 & G & A & 0.60 & 4.444444 & 0.998298 & -13.57669 & ⋯ & 0 & 0.990163 & 0.984904 & 2.225781e-14 & TRUE & TRUE & TRUE & t & FALSE & rs3735000        \\\\\n",
       "\t225162 & chr6:43737236-43739826   & chr6:43737873:G:A  & chr6  &  43737873 & G & A & 0.10 & 0.123457 & 0.994865 & -12.36474 & ⋯ & 0 & 0.992417 & 0.983258 & 3.925262e-14 & TRUE & TRUE & TRUE & t & FALSE & chr6:43737873:G:A\\\\\n",
       "\\end{tabular}\n"
      ],
      "text/markdown": [
       "\n",
       "A data.frame: 6 × 32\n",
       "\n",
       "| <!--/--> | Feature &lt;chr&gt; | varID &lt;chr&gt; | Chromosome &lt;chr&gt; | position &lt;int&gt; | Ref &lt;chr&gt; | Alt &lt;chr&gt; | Af &lt;dbl&gt; | HWEChi_square &lt;dbl&gt; | IA &lt;dbl&gt; | Log10_qval &lt;dbl&gt; | ⋯ ⋯ | Convergence_status &lt;int&gt; | r2_fSNPs &lt;dbl&gt; | r2_rSNP &lt;dbl&gt; | P_VAl &lt;dbl&gt; | flag_fdr10 &lt;lgl&gt; | flag_fdr05 &lt;lgl&gt; | flag_fdr01 &lt;lgl&gt; | cell &lt;chr&gt; | exclude &lt;lgl&gt; | rsID &lt;chr&gt; |\n",
       "|---|---|---|---|---|---|---|---|---|---|---|---|---|---|---|---|---|---|---|---|---|---|\n",
       "| 225157 | chr10:51502604-51504683  | chr10:51503178:G:A | chr10 |  51503178 | G | A | 0.45 | 1.715131 | 0.991469 | -20.41608 | ⋯ | 0 | 0.967039 | 0.979683 | 3.174941e-21 | TRUE | TRUE | TRUE | t | FALSE | rs2611475         |\n",
       "| 225158 | chr6:166672201-166673529 | chr6:166672966:G:T | chr6  | 166672966 | G | T | 0.40 | 0.277778 | 0.989443 | -20.05267 | ⋯ | 0 | 0.976233 | 0.983870 | 4.195234e-21 | TRUE | TRUE | TRUE | t | FALSE | rs4367351         |\n",
       "| 225159 | chr10:27546208-27546939  | chr10:27546467:G:C | chr10 |  27546467 | G | C | 0.25 | 1.111111 | 0.990104 | -18.56679 | ⋯ | 0 | 0.952541 | 0.978220 | 7.747115e-20 | TRUE | TRUE | TRUE | t | FALSE | rs2488369         |\n",
       "| 225160 | chr6:32635924-32636583   | chr6:32636376:C:G  | chr6  |  32636376 | C | G | 0.45 | 0.001020 | 0.995562 | -17.33367 | ⋯ | 0 | 0.991934 | 0.991779 | 1.957835e-19 | TRUE | TRUE | TRUE | t | FALSE | rs2856698         |\n",
       "| 225161 | chr7:134831931-134833621 | chr7:134833233:G:A | chr7  | 134833233 | G | A | 0.60 | 4.444444 | 0.998298 | -13.57669 | ⋯ | 0 | 0.990163 | 0.984904 | 2.225781e-14 | TRUE | TRUE | TRUE | t | FALSE | rs3735000         |\n",
       "| 225162 | chr6:43737236-43739826   | chr6:43737873:G:A  | chr6  |  43737873 | G | A | 0.10 | 0.123457 | 0.994865 | -12.36474 | ⋯ | 0 | 0.992417 | 0.983258 | 3.925262e-14 | TRUE | TRUE | TRUE | t | FALSE | chr6:43737873:G:A |\n",
       "\n"
      ],
      "text/plain": [
       "       Feature                  varID              Chromosome position  Ref Alt\n",
       "225157 chr10:51502604-51504683  chr10:51503178:G:A chr10       51503178 G   A  \n",
       "225158 chr6:166672201-166673529 chr6:166672966:G:T chr6       166672966 G   T  \n",
       "225159 chr10:27546208-27546939  chr10:27546467:G:C chr10       27546467 G   C  \n",
       "225160 chr6:32635924-32636583   chr6:32636376:C:G  chr6        32636376 C   G  \n",
       "225161 chr7:134831931-134833621 chr7:134833233:G:A chr7       134833233 G   A  \n",
       "225162 chr6:43737236-43739826   chr6:43737873:G:A  chr6        43737873 G   A  \n",
       "       Af   HWEChi_square IA       Log10_qval ⋯ Convergence_status r2_fSNPs\n",
       "225157 0.45 1.715131      0.991469 -20.41608  ⋯ 0                  0.967039\n",
       "225158 0.40 0.277778      0.989443 -20.05267  ⋯ 0                  0.976233\n",
       "225159 0.25 1.111111      0.990104 -18.56679  ⋯ 0                  0.952541\n",
       "225160 0.45 0.001020      0.995562 -17.33367  ⋯ 0                  0.991934\n",
       "225161 0.60 4.444444      0.998298 -13.57669  ⋯ 0                  0.990163\n",
       "225162 0.10 0.123457      0.994865 -12.36474  ⋯ 0                  0.992417\n",
       "       r2_rSNP  P_VAl        flag_fdr10 flag_fdr05 flag_fdr01 cell exclude\n",
       "225157 0.979683 3.174941e-21 TRUE       TRUE       TRUE       t    FALSE  \n",
       "225158 0.983870 4.195234e-21 TRUE       TRUE       TRUE       t    FALSE  \n",
       "225159 0.978220 7.747115e-20 TRUE       TRUE       TRUE       t    FALSE  \n",
       "225160 0.991779 1.957835e-19 TRUE       TRUE       TRUE       t    FALSE  \n",
       "225161 0.984904 2.225781e-14 TRUE       TRUE       TRUE       t    FALSE  \n",
       "225162 0.983258 3.925262e-14 TRUE       TRUE       TRUE       t    FALSE  \n",
       "       rsID             \n",
       "225157 rs2611475        \n",
       "225158 rs4367351        \n",
       "225159 rs2488369        \n",
       "225160 rs2856698        \n",
       "225161 rs3735000        \n",
       "225162 chr6:43737873:G:A"
      ]
     },
     "metadata": {},
     "output_type": "display_data"
    }
   ],
   "source": [
    "head(results_lead)"
   ]
  },
  {
   "cell_type": "markdown",
   "id": "0b095002",
   "metadata": {},
   "source": [
    "### Compare effects using the subsampled bulk"
   ]
  },
  {
   "cell_type": "code",
   "execution_count": 5,
   "id": "ba2662ec",
   "metadata": {},
   "outputs": [],
   "source": [
    "a = read.table(\"../../rasqual_eur/bulk/bulk025/Results_run2_lead.tsv\", header=T)"
   ]
  },
  {
   "cell_type": "code",
   "execution_count": 17,
   "id": "b2aacef2",
   "metadata": {},
   "outputs": [],
   "source": [
    "a$feature_snp = paste(a$Feature, a$rsID, sep=\"_\")"
   ]
  },
  {
   "cell_type": "code",
   "execution_count": 8,
   "id": "13222f15",
   "metadata": {},
   "outputs": [],
   "source": [
    "a$exclude =  a$Sequencing_mapping_error_rate>0.1 | a$Ref_allele_bias<0.2 | a$Ref_allele_bias>0.8    \n",
    "a = subset(a, flag_fdr10 & exclude==FALSE)"
   ]
  },
  {
   "cell_type": "code",
   "execution_count": 9,
   "id": "08c926df",
   "metadata": {},
   "outputs": [
    {
     "data": {
      "text/html": [
       "<style>\n",
       ".list-inline {list-style: none; margin:0; padding: 0}\n",
       ".list-inline>li {display: inline-block}\n",
       ".list-inline>li:not(:last-child)::after {content: \"\\00b7\"; padding: 0 .5ex}\n",
       "</style>\n",
       "<ol class=list-inline><li>2487</li><li>31</li></ol>\n"
      ],
      "text/latex": [
       "\\begin{enumerate*}\n",
       "\\item 2487\n",
       "\\item 31\n",
       "\\end{enumerate*}\n"
      ],
      "text/markdown": [
       "1. 2487\n",
       "2. 31\n",
       "\n",
       "\n"
      ],
      "text/plain": [
       "[1] 2487   31"
      ]
     },
     "metadata": {},
     "output_type": "display_data"
    }
   ],
   "source": [
    "dim(a)"
   ]
  },
  {
   "cell_type": "code",
   "execution_count": 12,
   "id": "69f11f4a",
   "metadata": {},
   "outputs": [],
   "source": [
    "a$abseffect = abs(a$Effect_size-0.5)\n"
   ]
  },
  {
   "cell_type": "code",
   "execution_count": 10,
   "id": "c170d845",
   "metadata": {},
   "outputs": [],
   "source": [
    "celltypes = c('b','mono','nk','t')\n",
    "\n",
    "colors = read.table('../../peaks/color_scheme.tsv' )\n",
    "\n",
    "colors = rbind(colors, matrix( c('orange2', 'b','tan4','nk','#7FC97F','mono', 'magenta4', \"t\"), ncol=2, byrow=T))\n"
   ]
  },
  {
   "cell_type": "code",
   "execution_count": 18,
   "id": "97e5ca39",
   "metadata": {},
   "outputs": [
    {
     "data": {
      "text/html": [
       "<strong>png:</strong> 2"
      ],
      "text/latex": [
       "\\textbf{png:} 2"
      ],
      "text/markdown": [
       "**png:** 2"
      ],
      "text/plain": [
       "png \n",
       "  2 "
      ]
     },
     "metadata": {},
     "output_type": "display_data"
    }
   ],
   "source": [
    "pdf(\"../../figures/CompareBulkEffects_subsampleBulk.pdf\")\n",
    "#options(repr.plot.width=12, repr.plot.height=3)\n",
    "par(mfrow=c(3,4), mar=c(6,4,4,1))\n",
    "\n",
    "for (c2 in celltypes){\n",
    "\n",
    "\n",
    "b  = fread(paste0(c2, \"_caqtl_sumstats_run3.tsv\"), header=T)\n",
    "\n",
    "\n",
    "b             = subset(b, Is_peak_caQTL==TRUE)\n",
    "b$feature_snp = paste(b$Feature, b$varID, sep=\"_\")\n",
    "b$abseffect   = abs(b$Effect_size-0.5)\n",
    "c             = merge(a,b,by=\"feature_snp\")\n",
    "c             = subset (c, (Effect_size.x>0.5&Effect_size.y>0.5) | (Effect_size.x<0.5&Effect_size.y<0.5))\n",
    "\n",
    "plot(density(c$abseffect.x), main=c2, lwd=1.5, ylim=c(0,7))\n",
    "lines(density(c$abseffect.y), col=colors$V1[match(c2,colors$V2)], lwd=2)\n",
    "w = wilcox.test(c$abseffect.x, c$abseffect.y, alternative = 'two.sided', paired=T)$p.value\n",
    "mtext(paste(\"p=\",signif(w,2)))\n",
    "}\n",
    "dev.off()"
   ]
  },
  {
   "cell_type": "code",
   "execution_count": 21,
   "id": "dbfd849f",
   "metadata": {},
   "outputs": [],
   "source": [
    "library(stringr)"
   ]
  },
  {
   "cell_type": "code",
   "execution_count": 61,
   "id": "98fc15f3",
   "metadata": {},
   "outputs": [],
   "source": [
    "getASE = function (snp,cellt, Maindir){\n",
    "chromosome = limma::strsplit2(snp, \":\")[1]\n",
    "#vcf = paste0(Maindir,cellt,\"/vcfs_peaksonly/\",chromosome ,'.ase.filtered.vcf.gz')\n",
    "vcf = paste0(Maindir,cellt,\"/vcfs_peaksonly/full.ase.filtered.vcf.gz\")\n",
    "tb = read.table(pipe(paste(\"zgrep\", snp,vcf)))\n",
    "ase = str_split_fixed(t(tb[,10:19]), \":\",5)[,5]\n",
    "me = mean(apply(str_split_fixed(ase, \",\",2), 1, function(x) sum(as.numeric(x))))\n",
    "                return(me)\n",
    "}"
   ]
  },
  {
   "cell_type": "code",
   "execution_count": 54,
   "id": "d82b0c3d",
   "metadata": {},
   "outputs": [],
   "source": [
    "bu = sapply( a$rsID,\n",
    "            function(y) getASE(y, \"bulk025\", \"/nfs/lab/projects/pbmc_snATAC/analysis_v2/rasqual_eur/bulk/\"))"
   ]
  },
  {
   "cell_type": "code",
   "execution_count": 55,
   "id": "d125cdca",
   "metadata": {},
   "outputs": [],
   "source": [
    "a$average_cov = bu"
   ]
  },
  {
   "cell_type": "code",
   "execution_count": 63,
   "id": "441ddae0",
   "metadata": {},
   "outputs": [
    {
     "name": "stdout",
     "output_type": "stream",
     "text": [
      "b \n",
      " 24.03359 \t 9.148092mono \n",
      " 15.60634 \t 26.37651nk \n",
      " 22.54402 \t 12.50978t \n",
      " 19.85645 \t 39.39164"
     ]
    },
    {
     "data": {
      "text/html": [
       "<strong>png:</strong> 2"
      ],
      "text/latex": [
       "\\textbf{png:} 2"
      ],
      "text/markdown": [
       "**png:** 2"
      ],
      "text/plain": [
       "png \n",
       "  2 "
      ]
     },
     "metadata": {},
     "output_type": "display_data"
    }
   ],
   "source": [
    "pdf(\"../../figures/CompareBulkEffects_compareCoverage.pdf\")\n",
    "#options(repr.plot.width=12, repr.plot.height=3)\n",
    "par(mfrow=c(3,4), mar=c(6,4,4,1))\n",
    "\n",
    "for (c2 in celltypes){\n",
    "\n",
    "\n",
    "b  = fread(paste0(c2, \"_caqtl_sumstats_run3.tsv\"), header=T)\n",
    "\n",
    "\n",
    "b             = subset(b, Is_peak_caQTL==TRUE)\n",
    "b$feature_snp = paste(b$Feature, b$varID, sep=\"_\")\n",
    "b$abseffect   = abs(b$Effect_size-0.5)\n",
    "c             = merge(a,b,by=\"feature_snp\")\n",
    "c             = subset (c, (Effect_size.x>0.5&Effect_size.y>0.5) | (Effect_size.x<0.5&Effect_size.y<0.5))\n",
    "\n",
    "c$average_covcell =  sapply( c$rsID.x,\n",
    "            function(y) getASE(y, c2, \"/nfs/lab/projects/pbmc_snATAC/analysis_v2/rasqual_eur/broad/\"))   \n",
    "    \n",
    "plot(density(c$average_cov), main=c2, lwd=1.5)\n",
    "lines(density(c$average_covcell), col=colors$V1[match(c2,colors$V2)], lwd=2)\n",
    "w = wilcox.test(c$average_cov, c$average_covcell, alternative = 'two.sided', paired=T)$p.value\n",
    "mtext(paste(\"p=\",signif(w,2)))\n",
    "cat (c2, \"\\n\",mean(c$average_cov),\"\\t\" , mean(c$average_covcell))                            \n",
    "}\n",
    "dev.off()"
   ]
  },
  {
   "cell_type": "code",
   "execution_count": 38,
   "id": "2367cc46",
   "metadata": {},
   "outputs": [
    {
     "data": {
      "text/html": [
       "<table class=\"dataframe\">\n",
       "<caption>A matrix: 2 × 10 of type chr</caption>\n",
       "<tbody>\n",
       "\t<tr><td>7</td><td>4</td><td>6</td><td>1</td><td>0 </td><td>5</td><td>0 </td><td>5</td><td>3 </td><td>20</td></tr>\n",
       "\t<tr><td>0</td><td>8</td><td>5</td><td>4</td><td>21</td><td>0</td><td>20</td><td>9</td><td>17</td><td>0 </td></tr>\n",
       "</tbody>\n",
       "</table>\n"
      ],
      "text/latex": [
       "A matrix: 2 × 10 of type chr\n",
       "\\begin{tabular}{llllllllll}\n",
       "\t 7 & 4 & 6 & 1 & 0  & 5 & 0  & 5 & 3  & 20\\\\\n",
       "\t 0 & 8 & 5 & 4 & 21 & 0 & 20 & 9 & 17 & 0 \\\\\n",
       "\\end{tabular}\n"
      ],
      "text/markdown": [
       "\n",
       "A matrix: 2 × 10 of type chr\n",
       "\n",
       "| 7 | 4 | 6 | 1 | 0  | 5 | 0  | 5 | 3  | 20 |\n",
       "| 0 | 8 | 5 | 4 | 21 | 0 | 20 | 9 | 17 | 0  |\n",
       "\n"
      ],
      "text/plain": [
       "     [,1] [,2] [,3] [,4] [,5] [,6] [,7] [,8] [,9] [,10]\n",
       "[1,] 7    4    6    1    0    5    0    5    3    20   \n",
       "[2,] 0    8    5    4    21   0    20   9    17   0    "
      ]
     },
     "metadata": {},
     "output_type": "display_data"
    }
   ],
   "source": [
    "t(str_split_fixed(bu, \",\",2))"
   ]
  },
  {
   "cell_type": "code",
   "execution_count": 60,
   "id": "b0c92c04",
   "metadata": {},
   "outputs": [
    {
     "data": {
      "text/html": [
       "<table class=\"dataframe\">\n",
       "<caption>A data.frame: 6 × 64</caption>\n",
       "<thead>\n",
       "\t<tr><th></th><th scope=col>feature_snp</th><th scope=col>Feature.x</th><th scope=col>rsID.x</th><th scope=col>Chromosome.x</th><th scope=col>position.x</th><th scope=col>Ref.x</th><th scope=col>Alt.x</th><th scope=col>Af.x</th><th scope=col>HWEChi_square.x</th><th scope=col>IA.x</th><th scope=col>⋯</th><th scope=col>Log_likelihood_H0.y</th><th scope=col>Convergence_status.y</th><th scope=col>r2_fSNPs.y</th><th scope=col>r2_rSNP.y</th><th scope=col>P_value</th><th scope=col>Q_value</th><th scope=col>exclude.y</th><th scope=col>Is_peak_caQTL</th><th scope=col>rsID.y</th><th scope=col>abseffect.y</th></tr>\n",
       "\t<tr><th></th><th scope=col>&lt;chr&gt;</th><th scope=col>&lt;chr&gt;</th><th scope=col>&lt;chr&gt;</th><th scope=col>&lt;chr&gt;</th><th scope=col>&lt;int&gt;</th><th scope=col>&lt;chr&gt;</th><th scope=col>&lt;chr&gt;</th><th scope=col>&lt;dbl&gt;</th><th scope=col>&lt;dbl&gt;</th><th scope=col>&lt;dbl&gt;</th><th scope=col>⋯</th><th scope=col>&lt;dbl&gt;</th><th scope=col>&lt;int&gt;</th><th scope=col>&lt;dbl&gt;</th><th scope=col>&lt;dbl&gt;</th><th scope=col>&lt;dbl&gt;</th><th scope=col>&lt;dbl&gt;</th><th scope=col>&lt;lgl&gt;</th><th scope=col>&lt;lgl&gt;</th><th scope=col>&lt;chr&gt;</th><th scope=col>&lt;dbl&gt;</th></tr>\n",
       "</thead>\n",
       "<tbody>\n",
       "\t<tr><th scope=row>1</th><td>chr1:1108854-1109596_chr1:1109311:G:A      </td><td>chr1:1108854-1109596    </td><td>chr1:1109311:G:A  </td><td>chr1</td><td>  1109311</td><td>G</td><td>A</td><td>0.15</td><td>0.311419</td><td>0.907139</td><td>⋯</td><td> 2.566929</td><td>0</td><td>0.782127</td><td>0.821303</td><td>1.518124e-02</td><td>2.687558e-02</td><td>FALSE</td><td>TRUE</td><td>rs5010606 </td><td>0.165648</td></tr>\n",
       "\t<tr><th scope=row>2</th><td>chr1:158087613-158088194_chr1:158087749:G:T</td><td>chr1:158087613-158088194</td><td>chr1:158087749:G:T</td><td>chr1</td><td>158087749</td><td>G</td><td>T</td><td>0.40</td><td>0.625000</td><td>0.999950</td><td>⋯</td><td> 4.817693</td><td>0</td><td>0.982289</td><td>0.991464</td><td>9.935171e-04</td><td>5.961103e-03</td><td>FALSE</td><td>TRUE</td><td>rs12733819</td><td>0.245690</td></tr>\n",
       "\t<tr><th scope=row>3</th><td>chr1:1608851-1610657_chr1:1610539:A:G      </td><td>chr1:1608851-1610657    </td><td>chr1:1610539:A:G  </td><td>chr1</td><td>  1610539</td><td>A</td><td>G</td><td>0.45</td><td>1.551882</td><td>0.916530</td><td>⋯</td><td> 4.731035</td><td>0</td><td>0.846491</td><td>0.674224</td><td>1.122630e-02</td><td>1.816060e-02</td><td>FALSE</td><td>TRUE</td><td>rs6697550 </td><td>0.175515</td></tr>\n",
       "\t<tr><th scope=row>4</th><td>chr1:165567137-165567928_chr1:165561970:A:C</td><td>chr1:165567137-165567928</td><td>chr1:165561970:A:C</td><td>chr1</td><td>165561970</td><td>A</td><td>C</td><td>0.65</td><td>0.097814</td><td>0.966353</td><td>⋯</td><td>12.622417</td><td>0</td><td>0.991704</td><td>0.953098</td><td>6.220871e-08</td><td>5.598784e-07</td><td>FALSE</td><td>TRUE</td><td>rs2138351 </td><td>0.164291</td></tr>\n",
       "\t<tr><th scope=row>5</th><td>chr1:166893917-166894611_chr1:166894186:G:A</td><td>chr1:166893917-166894611</td><td>chr1:166894186:G:A</td><td>chr1</td><td>166894186</td><td>G</td><td>A</td><td>0.55</td><td>0.001020</td><td>0.995738</td><td>⋯</td><td> 4.780237</td><td>0</td><td>0.991845</td><td>0.991845</td><td>7.731062e-04</td><td>7.731062e-04</td><td>FALSE</td><td>TRUE</td><td>rs6427046 </td><td>0.200293</td></tr>\n",
       "\t<tr><th scope=row>6</th><td>chr1:202148980-202149592_chr1:202149439:A:G</td><td>chr1:202148980-202149592</td><td>chr1:202149439:A:G</td><td>chr1</td><td>202149439</td><td>A</td><td>G</td><td>0.50</td><td>3.600000</td><td>0.974837</td><td>⋯</td><td> 2.083323</td><td>0</td><td>      NA</td><td>0.965394</td><td>3.040281e-02</td><td>3.225338e-02</td><td>FALSE</td><td>TRUE</td><td>rs4511180 </td><td>0.218170</td></tr>\n",
       "</tbody>\n",
       "</table>\n"
      ],
      "text/latex": [
       "A data.frame: 6 × 64\n",
       "\\begin{tabular}{r|lllllllllllllllllllll}\n",
       "  & feature\\_snp & Feature.x & rsID.x & Chromosome.x & position.x & Ref.x & Alt.x & Af.x & HWEChi\\_square.x & IA.x & ⋯ & Log\\_likelihood\\_H0.y & Convergence\\_status.y & r2\\_fSNPs.y & r2\\_rSNP.y & P\\_value & Q\\_value & exclude.y & Is\\_peak\\_caQTL & rsID.y & abseffect.y\\\\\n",
       "  & <chr> & <chr> & <chr> & <chr> & <int> & <chr> & <chr> & <dbl> & <dbl> & <dbl> & ⋯ & <dbl> & <int> & <dbl> & <dbl> & <dbl> & <dbl> & <lgl> & <lgl> & <chr> & <dbl>\\\\\n",
       "\\hline\n",
       "\t1 & chr1:1108854-1109596\\_chr1:1109311:G:A       & chr1:1108854-1109596     & chr1:1109311:G:A   & chr1 &   1109311 & G & A & 0.15 & 0.311419 & 0.907139 & ⋯ &  2.566929 & 0 & 0.782127 & 0.821303 & 1.518124e-02 & 2.687558e-02 & FALSE & TRUE & rs5010606  & 0.165648\\\\\n",
       "\t2 & chr1:158087613-158088194\\_chr1:158087749:G:T & chr1:158087613-158088194 & chr1:158087749:G:T & chr1 & 158087749 & G & T & 0.40 & 0.625000 & 0.999950 & ⋯ &  4.817693 & 0 & 0.982289 & 0.991464 & 9.935171e-04 & 5.961103e-03 & FALSE & TRUE & rs12733819 & 0.245690\\\\\n",
       "\t3 & chr1:1608851-1610657\\_chr1:1610539:A:G       & chr1:1608851-1610657     & chr1:1610539:A:G   & chr1 &   1610539 & A & G & 0.45 & 1.551882 & 0.916530 & ⋯ &  4.731035 & 0 & 0.846491 & 0.674224 & 1.122630e-02 & 1.816060e-02 & FALSE & TRUE & rs6697550  & 0.175515\\\\\n",
       "\t4 & chr1:165567137-165567928\\_chr1:165561970:A:C & chr1:165567137-165567928 & chr1:165561970:A:C & chr1 & 165561970 & A & C & 0.65 & 0.097814 & 0.966353 & ⋯ & 12.622417 & 0 & 0.991704 & 0.953098 & 6.220871e-08 & 5.598784e-07 & FALSE & TRUE & rs2138351  & 0.164291\\\\\n",
       "\t5 & chr1:166893917-166894611\\_chr1:166894186:G:A & chr1:166893917-166894611 & chr1:166894186:G:A & chr1 & 166894186 & G & A & 0.55 & 0.001020 & 0.995738 & ⋯ &  4.780237 & 0 & 0.991845 & 0.991845 & 7.731062e-04 & 7.731062e-04 & FALSE & TRUE & rs6427046  & 0.200293\\\\\n",
       "\t6 & chr1:202148980-202149592\\_chr1:202149439:A:G & chr1:202148980-202149592 & chr1:202149439:A:G & chr1 & 202149439 & A & G & 0.50 & 3.600000 & 0.974837 & ⋯ &  2.083323 & 0 &       NA & 0.965394 & 3.040281e-02 & 3.225338e-02 & FALSE & TRUE & rs4511180  & 0.218170\\\\\n",
       "\\end{tabular}\n"
      ],
      "text/markdown": [
       "\n",
       "A data.frame: 6 × 64\n",
       "\n",
       "| <!--/--> | feature_snp &lt;chr&gt; | Feature.x &lt;chr&gt; | rsID.x &lt;chr&gt; | Chromosome.x &lt;chr&gt; | position.x &lt;int&gt; | Ref.x &lt;chr&gt; | Alt.x &lt;chr&gt; | Af.x &lt;dbl&gt; | HWEChi_square.x &lt;dbl&gt; | IA.x &lt;dbl&gt; | ⋯ ⋯ | Log_likelihood_H0.y &lt;dbl&gt; | Convergence_status.y &lt;int&gt; | r2_fSNPs.y &lt;dbl&gt; | r2_rSNP.y &lt;dbl&gt; | P_value &lt;dbl&gt; | Q_value &lt;dbl&gt; | exclude.y &lt;lgl&gt; | Is_peak_caQTL &lt;lgl&gt; | rsID.y &lt;chr&gt; | abseffect.y &lt;dbl&gt; |\n",
       "|---|---|---|---|---|---|---|---|---|---|---|---|---|---|---|---|---|---|---|---|---|---|\n",
       "| 1 | chr1:1108854-1109596_chr1:1109311:G:A       | chr1:1108854-1109596     | chr1:1109311:G:A   | chr1 |   1109311 | G | A | 0.15 | 0.311419 | 0.907139 | ⋯ |  2.566929 | 0 | 0.782127 | 0.821303 | 1.518124e-02 | 2.687558e-02 | FALSE | TRUE | rs5010606  | 0.165648 |\n",
       "| 2 | chr1:158087613-158088194_chr1:158087749:G:T | chr1:158087613-158088194 | chr1:158087749:G:T | chr1 | 158087749 | G | T | 0.40 | 0.625000 | 0.999950 | ⋯ |  4.817693 | 0 | 0.982289 | 0.991464 | 9.935171e-04 | 5.961103e-03 | FALSE | TRUE | rs12733819 | 0.245690 |\n",
       "| 3 | chr1:1608851-1610657_chr1:1610539:A:G       | chr1:1608851-1610657     | chr1:1610539:A:G   | chr1 |   1610539 | A | G | 0.45 | 1.551882 | 0.916530 | ⋯ |  4.731035 | 0 | 0.846491 | 0.674224 | 1.122630e-02 | 1.816060e-02 | FALSE | TRUE | rs6697550  | 0.175515 |\n",
       "| 4 | chr1:165567137-165567928_chr1:165561970:A:C | chr1:165567137-165567928 | chr1:165561970:A:C | chr1 | 165561970 | A | C | 0.65 | 0.097814 | 0.966353 | ⋯ | 12.622417 | 0 | 0.991704 | 0.953098 | 6.220871e-08 | 5.598784e-07 | FALSE | TRUE | rs2138351  | 0.164291 |\n",
       "| 5 | chr1:166893917-166894611_chr1:166894186:G:A | chr1:166893917-166894611 | chr1:166894186:G:A | chr1 | 166894186 | G | A | 0.55 | 0.001020 | 0.995738 | ⋯ |  4.780237 | 0 | 0.991845 | 0.991845 | 7.731062e-04 | 7.731062e-04 | FALSE | TRUE | rs6427046  | 0.200293 |\n",
       "| 6 | chr1:202148980-202149592_chr1:202149439:A:G | chr1:202148980-202149592 | chr1:202149439:A:G | chr1 | 202149439 | A | G | 0.50 | 3.600000 | 0.974837 | ⋯ |  2.083323 | 0 |       NA | 0.965394 | 3.040281e-02 | 3.225338e-02 | FALSE | TRUE | rs4511180  | 0.218170 |\n",
       "\n"
      ],
      "text/plain": [
       "  feature_snp                                 Feature.x               \n",
       "1 chr1:1108854-1109596_chr1:1109311:G:A       chr1:1108854-1109596    \n",
       "2 chr1:158087613-158088194_chr1:158087749:G:T chr1:158087613-158088194\n",
       "3 chr1:1608851-1610657_chr1:1610539:A:G       chr1:1608851-1610657    \n",
       "4 chr1:165567137-165567928_chr1:165561970:A:C chr1:165567137-165567928\n",
       "5 chr1:166893917-166894611_chr1:166894186:G:A chr1:166893917-166894611\n",
       "6 chr1:202148980-202149592_chr1:202149439:A:G chr1:202148980-202149592\n",
       "  rsID.x             Chromosome.x position.x Ref.x Alt.x Af.x HWEChi_square.x\n",
       "1 chr1:1109311:G:A   chr1           1109311  G     A     0.15 0.311419       \n",
       "2 chr1:158087749:G:T chr1         158087749  G     T     0.40 0.625000       \n",
       "3 chr1:1610539:A:G   chr1           1610539  A     G     0.45 1.551882       \n",
       "4 chr1:165561970:A:C chr1         165561970  A     C     0.65 0.097814       \n",
       "5 chr1:166894186:G:A chr1         166894186  G     A     0.55 0.001020       \n",
       "6 chr1:202149439:A:G chr1         202149439  A     G     0.50 3.600000       \n",
       "  IA.x     ⋯ Log_likelihood_H0.y Convergence_status.y r2_fSNPs.y r2_rSNP.y\n",
       "1 0.907139 ⋯  2.566929           0                    0.782127   0.821303 \n",
       "2 0.999950 ⋯  4.817693           0                    0.982289   0.991464 \n",
       "3 0.916530 ⋯  4.731035           0                    0.846491   0.674224 \n",
       "4 0.966353 ⋯ 12.622417           0                    0.991704   0.953098 \n",
       "5 0.995738 ⋯  4.780237           0                    0.991845   0.991845 \n",
       "6 0.974837 ⋯  2.083323           0                          NA   0.965394 \n",
       "  P_value      Q_value      exclude.y Is_peak_caQTL rsID.y     abseffect.y\n",
       "1 1.518124e-02 2.687558e-02 FALSE     TRUE          rs5010606  0.165648   \n",
       "2 9.935171e-04 5.961103e-03 FALSE     TRUE          rs12733819 0.245690   \n",
       "3 1.122630e-02 1.816060e-02 FALSE     TRUE          rs6697550  0.175515   \n",
       "4 6.220871e-08 5.598784e-07 FALSE     TRUE          rs2138351  0.164291   \n",
       "5 7.731062e-04 7.731062e-04 FALSE     TRUE          rs6427046  0.200293   \n",
       "6 3.040281e-02 3.225338e-02 FALSE     TRUE          rs4511180  0.218170   "
      ]
     },
     "metadata": {},
     "output_type": "display_data"
    }
   ],
   "source": [
    "head(c)"
   ]
  },
  {
   "cell_type": "code",
   "execution_count": null,
   "id": "19ac1d46",
   "metadata": {},
   "outputs": [],
   "source": []
  }
 ],
 "metadata": {
  "kernelspec": {
   "display_name": "R 4.1",
   "language": "R",
   "name": "ir41"
  },
  "language_info": {
   "codemirror_mode": "r",
   "file_extension": ".r",
   "mimetype": "text/x-r-source",
   "name": "R",
   "pygments_lexer": "r",
   "version": "4.1.1"
  }
 },
 "nbformat": 4,
 "nbformat_minor": 5
}
