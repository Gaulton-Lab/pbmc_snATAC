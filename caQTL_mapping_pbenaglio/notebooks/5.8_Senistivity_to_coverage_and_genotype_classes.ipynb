{
 "cells": [
  {
   "cell_type": "markdown",
   "id": "exciting-infection",
   "metadata": {},
   "source": [
    "## Sensitivity of the analysis with respect to the coverage\n",
    "### **Rev1.1** \n",
    "*Perform an analysis to test how sensitive your results are to the number of reads per sample that are required to retain a site in the analysis (currently only 5 reads on average). In the discussion section you state that your high coverage could explain why your \"modest\" sample size detects so many caQTLs. However, another reason could be that many of these are false positives. I agree that you have high coverage per sample, which is great, but to then only require 5 reads on average to retain a site means that many will have poor coverage and this will be detrimental to the allele-specific analysis*"
   ]
  },
  {
   "cell_type": "code",
   "execution_count": 4,
   "id": "adapted-czech",
   "metadata": {},
   "outputs": [],
   "source": [
    "setwd('/nfs/lab/projects/pbmc_snATAC/analysis_v2')\n",
    "\n",
    "library(repr)\n",
    "\n",
    "longf = read.table('summarized_caqtls/run3/EUR_caqtl_leads_run3.tsv', header=T)\n",
    "genotypes = read.table('example_boxplots/All_tested_genotypes.tsv', header=T, row.names=1)\n",
    "\n",
    "longf$exclude = longf$Sequencing_mapping_error_rate>0.1 | longf$Ref_allele_bias<0.2 | longf$Ref_allele_bias>0.8\n",
    "\n",
    "bc = c('b', \"t\",'mono',  'nk')\n",
    "\n",
    "cs =  c(\"bulk\", bc, \n",
    "   as.character(read.table(\"/nfs/lab/projects/pbmc_snATAC/analysis_v2/peaks/color_scheme.tsv\")[1:15,2]))\n",
    "\n",
    "cells = data.frame(celltypes = cs, type = c(\"bulk\", rep(\"broad\", 4), rep(\"fine\", 15)))\n",
    "\n",
    "main      = '/nfs/lab/projects/pbmc_snATAC/analysis_v2/rasqual_eur/'\n"
   ]
  },
  {
   "cell_type": "code",
   "execution_count": 5,
   "id": "interracial-jordan",
   "metadata": {},
   "outputs": [],
   "source": [
    "cellypes_original_order =  as.character(cells[,1]) "
   ]
  },
  {
   "cell_type": "code",
   "execution_count": 6,
   "id": "requested-reason",
   "metadata": {},
   "outputs": [],
   "source": [
    "reorder = c(1,6, 11,16,2,7,12,17,3,8,13,18,4,9,14,19,5,10,15,20)\n",
    "cells = cells[reorder,]"
   ]
  },
  {
   "cell_type": "code",
   "execution_count": 14,
   "id": "legislative-impossible",
   "metadata": {},
   "outputs": [
    {
     "data": {
      "text/html": [
       "<strong>png:</strong> 2"
      ],
      "text/latex": [
       "\\textbf{png:} 2"
      ],
      "text/markdown": [
       "**png:** 2"
      ],
      "text/plain": [
       "png \n",
       "  2 "
      ]
     },
     "metadata": {},
     "output_type": "display_data"
    }
   ],
   "source": [
    "means=data.frame()\n",
    "#options(repr.plot.width=15, repr.plot.height=8)\n",
    "pdf(\"figures/Effect_of_coverage_excluded_large.pdf\", height = 15, width = 10)\n",
    "par(mfcol = c(8,5), mar =c(2,4,3,1))\n",
    "for(i in 1:nrow(cells)){\n",
    "#for(i in 1){\n",
    "ce    =   as.character(cells[i,1])  \n",
    "home  =   paste0(main, as.character(cells[i,2]), \"/\"  )    \n",
    "peaks =   read.table(paste0(home, ce,\"/\",ce, \".count_matrix\" ), header=T, stringsAsFactors = F, row.names = 1)\n",
    "\n",
    "colnames(peaks)[6:15] = colnames(genotypes)\n",
    "res = subset(longf, cell==ce)\n",
    "res_sig = subset(res, flag_fdr10==TRUE & exclude==FALSE)\n",
    "ro = rowMeans(peaks[,6:15])\n",
    "rm  = rowMeans(peaks[as.character(res$Feature),6:15])\n",
    "rms = rowMeans(peaks[as.character(res_sig$Feature)  ,6:15])\n",
    "m =merge(res[,c(\"Feature\", \"varID\")], peaks [,6:15], by.x=1, by.y=\"row.names\")\n",
    "gt = genotypes\n",
    "gt[gt!=1]<-NA\n",
    "m = merge(m, gt, by.x=2, by.y=\"row.names\")    \n",
    "rmh = apply(m[,3:22], 1, function(x) mean(as.numeric(x[1:10]/x[11:20]), na.rm=T))\n",
    "rmsh = apply(m[ m$Feature %in% as.character(res_sig$Feature),3:22], 1, function(x) mean(as.numeric(x[1:10]/x[11:20]), na.rm=T))\n",
    "\n",
    "li = list(ro,rm, rmh,rms, rmsh)\n",
    "\n",
    "\n",
    "boxplot(li, outline=F, col=\"gray30\", ylab=\"avg.coverage\",\n",
    "        names=c(\"all\", \"tested\", \"test.het\", \"signif.\", \"sig.het\"), las=3)\n",
    "text(x=1:5, y= lapply(li, median), \n",
    "     labels = round(as.numeric(lapply(li, median))), col=\"green\", font=2)\n",
    "mtext(ce)\n",
    "se = seq(0,round(max(rms))+10,by=10)\n",
    "hist(rms, xlab=\"Average peak coverage of caQTLs\", main = NA, breaks=se, col =c(\"red\", rep(\"gray\",length(se) )))\n",
    "pct = round(sum(rms<=10)/length(rms),2 )*100\n",
    "mtext( paste0(\"N.lo.cov\\n\" , sum(rms<=10), \" (\",pct , \"%)\"), col=\"red\", line=-4,adj = 1 , cex=0.8)           \n",
    "mtext(\"Avg. coverage caQTLs\", side=1, cex=0.8, line=2)             \n",
    "\n",
    "             \n",
    "means = rbind(means,as.numeric(lapply(li, median)) )            \n",
    "             \n",
    "         }\n",
    "   dev.off()"
   ]
  },
  {
   "cell_type": "code",
   "execution_count": 15,
   "id": "3b2cae5b",
   "metadata": {},
   "outputs": [],
   "source": [
    "colnames(means) = c(\"all\", \"tested\", \"test.het\", \"signif.\", \"sig.het\")\n",
    "rownames (means) = cells[,1]"
   ]
  },
  {
   "cell_type": "code",
   "execution_count": 16,
   "id": "003cdf76",
   "metadata": {},
   "outputs": [
    {
     "data": {
      "text/plain": [
       "   Min. 1st Qu.  Median    Mean 3rd Qu.    Max. \n",
       " 0.7692  1.3446  1.6168  1.6028  1.8257  3.2871 "
      ]
     },
     "metadata": {},
     "output_type": "display_data"
    }
   ],
   "source": [
    "summary(means$signif./means$tested)"
   ]
  },
  {
   "cell_type": "code",
   "execution_count": 10,
   "id": "a1804b8c",
   "metadata": {},
   "outputs": [
    {
     "data": {
      "text/plain": [
       "   Min. 1st Qu.  Median    Mean 3rd Qu.    Max. \n",
       " 0.8696  1.0140  1.0893  1.1540  1.2489  1.6825 "
      ]
     },
     "metadata": {},
     "output_type": "display_data"
    }
   ],
   "source": [
    "summary(means$signif./means$tested)"
   ]
  },
  {
   "cell_type": "markdown",
   "id": "continuous-fields",
   "metadata": {},
   "source": [
    "The figure shows the distrubutions of the **mean coverage** of peaks between the samples in the orignal peak set, the tested peak set (filtered at 5), and the significant caQTL peaks, in either all samples or only heterozygous when indicated. In green the **median** of the distribution. Significant caQTLs (last 2 boxplots) have a higher meedian coverage, as expected so in order to reach higher power. Although we cannot exclude that low coverage peaks might give false positive results, these are not the bulk of our results.  "
   ]
  },
  {
   "cell_type": "markdown",
   "id": "insured-westminster",
   "metadata": {},
   "source": [
    "Note : Increasing the cutoff for mean coverge from 2 to 5 reads had actually a dramamatic effect in increasing (+20%) the number of caQTLs indentified (opposite as the reviewer said), likely because there are fewer test for fdr correction."
   ]
  },
  {
   "cell_type": "markdown",
   "id": "scientific-throw",
   "metadata": {},
   "source": [
    "### **Rev1.2** \n",
    "*Filter out variants with Phi<0.2 or Phi>0.8 as well as Delta>0.1 (RASQUAL QC metrics) to help guard against genotyping error in the ASE analysis*"
   ]
  },
  {
   "cell_type": "code",
   "execution_count": 5,
   "id": "later-telephone",
   "metadata": {},
   "outputs": [],
   "source": [
    "celltypes = as.character(cells[,1])"
   ]
  },
  {
   "cell_type": "code",
   "execution_count": 6,
   "id": "stuck-class",
   "metadata": {},
   "outputs": [],
   "source": [
    "lf_sig = droplevels(subset(longf, flag_fdr10==TRUE & cell %in%celltypes))\n",
    "sp = split(lf_sig, lf_sig$cell)\n",
    "me=sapply(sp, function(x) sum(x$Sequencing_mapping_error_rate>0.1))"
   ]
  },
  {
   "cell_type": "code",
   "execution_count": 7,
   "id": "wicked-efficiency",
   "metadata": {},
   "outputs": [
    {
     "data": {
      "text/html": [
       "<style>\n",
       ".dl-inline {width: auto; margin:0; padding: 0}\n",
       ".dl-inline>dt, .dl-inline>dd {float: none; width: auto; display: inline-block}\n",
       ".dl-inline>dt::after {content: \":\\0020\"; padding-right: .5ex}\n",
       ".dl-inline>dt:not(:first-of-type) {padding-left: .5ex}\n",
       "</style><dl class=dl-inline><dt>act_cd4_t</dt><dd>3</dd><dt>adaptive_NK</dt><dd>0</dd><dt>b</dt><dd>0</dd><dt>bulk</dt><dd>0</dd><dt>cDC</dt><dd>0</dd><dt>cMono</dt><dd>3</dd><dt>cyto_cd8_t</dt><dd>0</dd><dt>cyto_nk</dt><dd>0</dd><dt>iMono</dt><dd>0</dd><dt>mem_b</dt><dd>0</dd><dt>mem_cd8_t</dt><dd>0</dd><dt>mkc</dt><dd>0</dd><dt>mono</dt><dd>3</dd><dt>naive_b</dt><dd>0</dd><dt>naive_cd4_t</dt><dd>0</dd><dt>naive_cd8_t</dt><dd>1</dd><dt>ncMono</dt><dd>0</dd><dt>nk</dt><dd>0</dd><dt>t</dt><dd>2</dd><dt>tReg</dt><dd>0</dd></dl>\n"
      ],
      "text/latex": [
       "\\begin{description*}\n",
       "\\item[act\\textbackslash{}\\_cd4\\textbackslash{}\\_t] 3\n",
       "\\item[adaptive\\textbackslash{}\\_NK] 0\n",
       "\\item[b] 0\n",
       "\\item[bulk] 0\n",
       "\\item[cDC] 0\n",
       "\\item[cMono] 3\n",
       "\\item[cyto\\textbackslash{}\\_cd8\\textbackslash{}\\_t] 0\n",
       "\\item[cyto\\textbackslash{}\\_nk] 0\n",
       "\\item[iMono] 0\n",
       "\\item[mem\\textbackslash{}\\_b] 0\n",
       "\\item[mem\\textbackslash{}\\_cd8\\textbackslash{}\\_t] 0\n",
       "\\item[mkc] 0\n",
       "\\item[mono] 3\n",
       "\\item[naive\\textbackslash{}\\_b] 0\n",
       "\\item[naive\\textbackslash{}\\_cd4\\textbackslash{}\\_t] 0\n",
       "\\item[naive\\textbackslash{}\\_cd8\\textbackslash{}\\_t] 1\n",
       "\\item[ncMono] 0\n",
       "\\item[nk] 0\n",
       "\\item[t] 2\n",
       "\\item[tReg] 0\n",
       "\\end{description*}\n"
      ],
      "text/markdown": [
       "act_cd4_t\n",
       ":   3adaptive_NK\n",
       ":   0b\n",
       ":   0bulk\n",
       ":   0cDC\n",
       ":   0cMono\n",
       ":   3cyto_cd8_t\n",
       ":   0cyto_nk\n",
       ":   0iMono\n",
       ":   0mem_b\n",
       ":   0mem_cd8_t\n",
       ":   0mkc\n",
       ":   0mono\n",
       ":   3naive_b\n",
       ":   0naive_cd4_t\n",
       ":   0naive_cd8_t\n",
       ":   1ncMono\n",
       ":   0nk\n",
       ":   0t\n",
       ":   2tReg\n",
       ":   0\n",
       "\n"
      ],
      "text/plain": [
       "  act_cd4_t adaptive_NK           b        bulk         cDC       cMono \n",
       "          3           0           0           0           0           3 \n",
       " cyto_cd8_t     cyto_nk       iMono       mem_b   mem_cd8_t         mkc \n",
       "          0           0           0           0           0           0 \n",
       "       mono     naive_b naive_cd4_t naive_cd8_t      ncMono          nk \n",
       "          3           0           0           1           0           0 \n",
       "          t        tReg \n",
       "          2           0 "
      ]
     },
     "metadata": {},
     "output_type": "display_data"
    }
   ],
   "source": [
    "me"
   ]
  },
  {
   "cell_type": "code",
   "execution_count": 8,
   "id": "fad9da39",
   "metadata": {},
   "outputs": [],
   "source": [
    "phi=sapply(sp, function(x) sum(x$Ref_allele_bias<0.2 | x$Ref_allele_bias>0.8))"
   ]
  },
  {
   "cell_type": "code",
   "execution_count": 14,
   "id": "e95ef901",
   "metadata": {},
   "outputs": [
    {
     "data": {
      "text/plain": [
       "   Min. 1st Qu.  Median    Mean 3rd Qu.    Max. \n",
       "0.06144 0.43476 0.50000 0.50062 0.56852 0.88487 "
      ]
     },
     "metadata": {},
     "output_type": "display_data"
    }
   ],
   "source": [
    "summary(lf_sig$Ref_allele_bias)"
   ]
  },
  {
   "cell_type": "code",
   "execution_count": 9,
   "id": "a40ad96d",
   "metadata": {},
   "outputs": [
    {
     "data": {
      "text/html": [
       "<style>\n",
       ".dl-inline {width: auto; margin:0; padding: 0}\n",
       ".dl-inline>dt, .dl-inline>dd {float: none; width: auto; display: inline-block}\n",
       ".dl-inline>dt::after {content: \":\\0020\"; padding-right: .5ex}\n",
       ".dl-inline>dt:not(:first-of-type) {padding-left: .5ex}\n",
       "</style><dl class=dl-inline><dt>act_cd4_t</dt><dd>4</dd><dt>adaptive_NK</dt><dd>0</dd><dt>b</dt><dd>2</dd><dt>bulk</dt><dd>41</dd><dt>cDC</dt><dd>0</dd><dt>cMono</dt><dd>16</dd><dt>cyto_cd8_t</dt><dd>3</dd><dt>cyto_nk</dt><dd>5</dd><dt>iMono</dt><dd>1</dd><dt>mem_b</dt><dd>0</dd><dt>mem_cd8_t</dt><dd>0</dd><dt>mkc</dt><dd>0</dd><dt>mono</dt><dd>18</dd><dt>naive_b</dt><dd>1</dd><dt>naive_cd4_t</dt><dd>1</dd><dt>naive_cd8_t</dt><dd>0</dd><dt>ncMono</dt><dd>2</dd><dt>nk</dt><dd>6</dd><dt>t</dt><dd>14</dd><dt>tReg</dt><dd>0</dd></dl>\n"
      ],
      "text/latex": [
       "\\begin{description*}\n",
       "\\item[act\\textbackslash{}\\_cd4\\textbackslash{}\\_t] 4\n",
       "\\item[adaptive\\textbackslash{}\\_NK] 0\n",
       "\\item[b] 2\n",
       "\\item[bulk] 41\n",
       "\\item[cDC] 0\n",
       "\\item[cMono] 16\n",
       "\\item[cyto\\textbackslash{}\\_cd8\\textbackslash{}\\_t] 3\n",
       "\\item[cyto\\textbackslash{}\\_nk] 5\n",
       "\\item[iMono] 1\n",
       "\\item[mem\\textbackslash{}\\_b] 0\n",
       "\\item[mem\\textbackslash{}\\_cd8\\textbackslash{}\\_t] 0\n",
       "\\item[mkc] 0\n",
       "\\item[mono] 18\n",
       "\\item[naive\\textbackslash{}\\_b] 1\n",
       "\\item[naive\\textbackslash{}\\_cd4\\textbackslash{}\\_t] 1\n",
       "\\item[naive\\textbackslash{}\\_cd8\\textbackslash{}\\_t] 0\n",
       "\\item[ncMono] 2\n",
       "\\item[nk] 6\n",
       "\\item[t] 14\n",
       "\\item[tReg] 0\n",
       "\\end{description*}\n"
      ],
      "text/markdown": [
       "act_cd4_t\n",
       ":   4adaptive_NK\n",
       ":   0b\n",
       ":   2bulk\n",
       ":   41cDC\n",
       ":   0cMono\n",
       ":   16cyto_cd8_t\n",
       ":   3cyto_nk\n",
       ":   5iMono\n",
       ":   1mem_b\n",
       ":   0mem_cd8_t\n",
       ":   0mkc\n",
       ":   0mono\n",
       ":   18naive_b\n",
       ":   1naive_cd4_t\n",
       ":   1naive_cd8_t\n",
       ":   0ncMono\n",
       ":   2nk\n",
       ":   6t\n",
       ":   14tReg\n",
       ":   0\n",
       "\n"
      ],
      "text/plain": [
       "  act_cd4_t adaptive_NK           b        bulk         cDC       cMono \n",
       "          4           0           2          41           0          16 \n",
       " cyto_cd8_t     cyto_nk       iMono       mem_b   mem_cd8_t         mkc \n",
       "          3           5           1           0           0           0 \n",
       "       mono     naive_b naive_cd4_t naive_cd8_t      ncMono          nk \n",
       "         18           1           1           0           2           6 \n",
       "          t        tReg \n",
       "         14           0 "
      ]
     },
     "metadata": {},
     "output_type": "display_data"
    }
   ],
   "source": [
    "phi"
   ]
  },
  {
   "cell_type": "code",
   "execution_count": 11,
   "id": "423dda26",
   "metadata": {},
   "outputs": [
    {
     "data": {
      "text/html": [
       "126"
      ],
      "text/latex": [
       "126"
      ],
      "text/markdown": [
       "126"
      ],
      "text/plain": [
       "[1] 126"
      ]
     },
     "metadata": {},
     "output_type": "display_data"
    }
   ],
   "source": [
    "sum(lf_sig$exclude)"
   ]
  },
  {
   "cell_type": "code",
   "execution_count": 12,
   "id": "120e01c3",
   "metadata": {},
   "outputs": [
    {
     "data": {
      "text/html": [
       "<style>\n",
       ".list-inline {list-style: none; margin:0; padding: 0}\n",
       ".list-inline>li {display: inline-block}\n",
       ".list-inline>li:not(:last-child)::after {content: \"\\00b7\"; padding: 0 .5ex}\n",
       "</style>\n",
       "<ol class=list-inline><li>20094</li><li>32</li></ol>\n"
      ],
      "text/latex": [
       "\\begin{enumerate*}\n",
       "\\item 20094\n",
       "\\item 32\n",
       "\\end{enumerate*}\n"
      ],
      "text/markdown": [
       "1. 20094\n",
       "2. 32\n",
       "\n",
       "\n"
      ],
      "text/plain": [
       "[1] 20094    32"
      ]
     },
     "metadata": {},
     "output_type": "display_data"
    }
   ],
   "source": [
    "dim(lf_sig)"
   ]
  },
  {
   "cell_type": "code",
   "execution_count": 13,
   "id": "609a77cf",
   "metadata": {},
   "outputs": [
    {
     "data": {
      "text/html": [
       "0.00627052851597492"
      ],
      "text/latex": [
       "0.00627052851597492"
      ],
      "text/markdown": [
       "0.00627052851597492"
      ],
      "text/plain": [
       "[1] 0.006270529"
      ]
     },
     "metadata": {},
     "output_type": "display_data"
    }
   ],
   "source": [
    "126/20094"
   ]
  },
  {
   "cell_type": "code",
   "execution_count": 15,
   "id": "efb5225a",
   "metadata": {},
   "outputs": [
    {
     "data": {
      "text/html": [
       "8184"
      ],
      "text/latex": [
       "8184"
      ],
      "text/markdown": [
       "8184"
      ],
      "text/plain": [
       "[1] 8184"
      ]
     },
     "metadata": {},
     "output_type": "display_data"
    }
   ],
   "source": [
    "sum(!duplicated(lf_sig$Feature))"
   ]
  },
  {
   "cell_type": "code",
   "execution_count": 16,
   "id": "58fb4c55",
   "metadata": {},
   "outputs": [
    {
     "data": {
      "text/html": [
       "8168"
      ],
      "text/latex": [
       "8168"
      ],
      "text/markdown": [
       "8168"
      ],
      "text/plain": [
       "[1] 8168"
      ]
     },
     "metadata": {},
     "output_type": "display_data"
    }
   ],
   "source": [
    "sum(!duplicated(lf_sig$Feature[lf_sig$exclude==FALSE]))"
   ]
  },
  {
   "cell_type": "code",
   "execution_count": 18,
   "id": "25041f61",
   "metadata": {},
   "outputs": [
    {
     "data": {
      "text/html": [
       "6916"
      ],
      "text/latex": [
       "6916"
      ],
      "text/markdown": [
       "6916"
      ],
      "text/plain": [
       "[1] 6916"
      ]
     },
     "metadata": {},
     "output_type": "display_data"
    }
   ],
   "source": [
    "sum(!duplicated(lf_sig$Feature[lf_sig$cell!=\"bulk\"]))"
   ]
  },
  {
   "cell_type": "code",
   "execution_count": 19,
   "id": "ce89530c",
   "metadata": {},
   "outputs": [
    {
     "data": {
      "text/html": [
       "6901"
      ],
      "text/latex": [
       "6901"
      ],
      "text/markdown": [
       "6901"
      ],
      "text/plain": [
       "[1] 6901"
      ]
     },
     "metadata": {},
     "output_type": "display_data"
    }
   ],
   "source": [
    "sum(!duplicated(lf_sig$Feature[lf_sig$cell!=\"bulk\"  & lf_sig$exclude==FALSE]))"
   ]
  },
  {
   "cell_type": "code",
   "execution_count": 20,
   "id": "74499438",
   "metadata": {},
   "outputs": [
    {
     "data": {
      "text/html": [
       "0.00216888374783109"
      ],
      "text/latex": [
       "0.00216888374783109"
      ],
      "text/markdown": [
       "0.00216888374783109"
      ],
      "text/plain": [
       "[1] 0.002168884"
      ]
     },
     "metadata": {},
     "output_type": "display_data"
    }
   ],
   "source": [
    "1- (6901/6916)"
   ]
  },
  {
   "cell_type": "markdown",
   "id": "familiar-justice",
   "metadata": {},
   "source": [
    "Only few caQTLs had DELTA >0.1, and  phi between 0.2 and 0.8. "
   ]
  },
  {
   "cell_type": "code",
   "execution_count": 79,
   "id": "victorian-philosophy",
   "metadata": {},
   "outputs": [
    {
     "data": {
      "text/html": [
       "<strong>png:</strong> 2"
      ],
      "text/latex": [
       "\\textbf{png:} 2"
      ],
      "text/markdown": [
       "**png:** 2"
      ],
      "text/plain": [
       "png \n",
       "  2 "
      ]
     },
     "metadata": {},
     "output_type": "display_data"
    }
   ],
   "source": [
    "#options(repr.plot.width=12, repr.plot.height=8)\n",
    "pdf(\"figures/effect_size.pdf\")\n",
    "par(mfcol = c(4,5), mar=c(4,2,3,1))\n",
    "for(ce in celltypes){\n",
    "res = subset(longf, cell==ce)\n",
    "res_sig = subset(res, flag_fdr10==TRUE)\n",
    "hist(res_sig$Effect_size, main = ce, xlab=\"Effect (Phi)\", \n",
    "     breaks=seq(0,1,by=0.1), col =c(\"red\", \"red\", rep(\"gray\", 6), \"red\", \"red\"))\n",
    "mtext(paste0(\"n=\", sum(res_sig$Effect_size<0.2 | res_sig$Effect_size>0.8)), col=\"red\", at = 0.7, cex=0.7)\n",
    "mtext(paste0(\"n=\", sum(res_sig$Effect_size>=0.2 & res_sig$Effect_size<=0.8)), col=\"gray20\", at = 0.3, cex=0.7)\n",
    "\n",
    "}\n",
    "dev.off()"
   ]
  },
  {
   "cell_type": "code",
   "execution_count": 2,
   "id": "7d5f17e8",
   "metadata": {},
   "outputs": [
    {
     "data": {
      "image/png": "[encoded data removed]",
      "text/plain": [
       "Plot with title “nk”"
      ]
     },
     "metadata": {
      "image/png": {
       "height": 240,
       "width": 600
      }
     },
     "output_type": "display_data"
    }
   ],
   "source": [
    "options(repr.plot.width=10, repr.plot.height=4)\n",
    "par(mfcol = c(2,4))\n",
    "for(ce in bc){\n",
    "res = subset(longf, cell==ce)\n",
    "res_sig = subset(res, flag_fdr10==TRUE)\n",
    "hist(res_sig$Effect_size, main = ce,  breaks=seq(0,1,by=0.1), xlim=c(0,1))\n",
    "hist(res_sig$Ref_allele_bias, main = ce,  breaks=seq(0,1,by=0.1), xlim=c(0,1))\n",
    "\n",
    "}"
   ]
  },
  {
   "cell_type": "code",
   "execution_count": 75,
   "id": "crazy-insulation",
   "metadata": {},
   "outputs": [
    {
     "name": "stderr",
     "output_type": "stream",
     "text": [
      "Warning message in wilcox.test.default(rms1, rms2):\n",
      "“cannot compute exact p-value with ties”\n",
      "Warning message in wilcox.test.default(rms1, rms2):\n",
      "“cannot compute exact p-value with ties”\n"
     ]
    },
    {
     "data": {
      "text/html": [
       "<strong>png:</strong> 2"
      ],
      "text/latex": [
       "\\textbf{png:} 2"
      ],
      "text/markdown": [
       "**png:** 2"
      ],
      "text/plain": [
       "png \n",
       "  2 "
      ]
     },
     "metadata": {},
     "output_type": "display_data"
    }
   ],
   "source": [
    "#options(repr.plot.width=12, repr.plot.height=8)\n",
    "pdf(\"figures/effect_size_by_coverage.pdf\")\n",
    "par(mfcol = c(4,5), mar =c(2,4,4,1))\n",
    "for(i in 1:nrow(cells)){\n",
    " #for(i in 1){   \n",
    "ce    =   as.character(cells[i,1])  \n",
    "home  =   paste0(main, as.character(cells[i,2]), \"/\"  )    \n",
    "peaks =   read.table(paste0(home, ce,\"/\",ce, \".count_matrix\" ), header=T, stringsAsFactors = F, row.names = 1)\n",
    "\n",
    "colnames(peaks)[6:15] = colnames(genotypes)\n",
    "res = subset(longf, cell==ce)\n",
    "res_sig1 = subset(res, flag_fdr10==TRUE & Effect_size>= 0.2 & Effect_size <= 0.8 )\n",
    "rms1 = rowMeans(peaks[as.character(res_sig1$Feature)  ,6:15])\n",
    "res_sig2 = subset(res, flag_fdr10==TRUE & (Effect_size < 0.2 | Effect_size> 0.8) )\n",
    "rms2 = rowMeans(peaks[as.character(res_sig2$Feature)  ,6:15])\n",
    "\n",
    "li = list(rms1, rms2)\n",
    "boxplot(li, outline=T, col=\"gray30\", names=c(\"mi\", \"hi\"), las=3, \n",
    "        ylab=\"average coverage\", main=ce)\n",
    "#text(x=1:2, y= lapply(li, median), \n",
    "#     labels = round(as.numeric(lapply(li, median))), col=\"green\")\n",
    "\n",
    "if(length(rms1)>3 & length(rms2)>3)   { \n",
    "    mtext (paste(\"p=\",signif(wilcox.test(rms1, rms2)$p.value,2),c(\"\", \"*\")[(wilcox.test(rms1, rms2)$p.value<0.05)+1]),\n",
    "       line=-1.2, cex=0.8)}\n",
    "mtext(round(as.numeric(lapply(li, median))), at =c(1,2), cex=0.8)     \n",
    "             }\n",
    "dev.off()"
   ]
  },
  {
   "cell_type": "markdown",
   "id": "saving-charlotte",
   "metadata": {},
   "source": [
    "Extreme effect do not seem driven by very low coverage"
   ]
  },
  {
   "cell_type": "markdown",
   "id": "municipal-zambia",
   "metadata": {},
   "source": [
    "### **Rev1.3** \n",
    "*Report how many caQTLs are detected at higher FDR of 0.05 and 0.01*"
   ]
  },
  {
   "cell_type": "code",
   "execution_count": 21,
   "id": "unknown-attitude",
   "metadata": {},
   "outputs": [
    {
     "data": {
      "text/html": [
       "<style>\n",
       ".list-inline {list-style: none; margin:0; padding: 0}\n",
       ".list-inline>li {display: inline-block}\n",
       ".list-inline>li:not(:last-child)::after {content: \"\\00b7\"; padding: 0 .5ex}\n",
       "</style>\n",
       "<ol class=list-inline><li>1133379</li><li>32</li></ol>\n"
      ],
      "text/latex": [
       "\\begin{enumerate*}\n",
       "\\item 1133379\n",
       "\\item 32\n",
       "\\end{enumerate*}\n"
      ],
      "text/markdown": [
       "1. 1133379\n",
       "2. 32\n",
       "\n",
       "\n"
      ],
      "text/plain": [
       "[1] 1133379      32"
      ]
     },
     "metadata": {},
     "output_type": "display_data"
    }
   ],
   "source": [
    "dim(longf)"
   ]
  },
  {
   "cell_type": "code",
   "execution_count": 26,
   "id": "e14a149d",
   "metadata": {},
   "outputs": [
    {
     "data": {
      "text/html": [
       "<table class=\"dataframe\">\n",
       "<caption>A data.frame: 6 × 5</caption>\n",
       "<thead>\n",
       "\t<tr><th></th><th scope=col>flag_fdr10</th><th scope=col>flag_fdr05</th><th scope=col>flag_fdr01</th><th scope=col>cell</th><th scope=col>exclude</th></tr>\n",
       "\t<tr><th></th><th scope=col>&lt;lgl&gt;</th><th scope=col>&lt;lgl&gt;</th><th scope=col>&lt;lgl&gt;</th><th scope=col>&lt;chr&gt;</th><th scope=col>&lt;lgl&gt;</th></tr>\n",
       "</thead>\n",
       "<tbody>\n",
       "\t<tr><th scope=row>1</th><td>TRUE</td><td>TRUE</td><td>TRUE</td><td>b</td><td>FALSE</td></tr>\n",
       "\t<tr><th scope=row>2</th><td>TRUE</td><td>TRUE</td><td>TRUE</td><td>b</td><td>FALSE</td></tr>\n",
       "\t<tr><th scope=row>3</th><td>TRUE</td><td>TRUE</td><td>TRUE</td><td>b</td><td>FALSE</td></tr>\n",
       "\t<tr><th scope=row>4</th><td>TRUE</td><td>TRUE</td><td>TRUE</td><td>b</td><td>FALSE</td></tr>\n",
       "\t<tr><th scope=row>5</th><td>TRUE</td><td>TRUE</td><td>TRUE</td><td>b</td><td>FALSE</td></tr>\n",
       "\t<tr><th scope=row>6</th><td>TRUE</td><td>TRUE</td><td>TRUE</td><td>b</td><td>FALSE</td></tr>\n",
       "</tbody>\n",
       "</table>\n"
      ],
      "text/latex": [
       "A data.frame: 6 × 5\n",
       "\\begin{tabular}{r|lllll}\n",
       "  & flag\\_fdr10 & flag\\_fdr05 & flag\\_fdr01 & cell & exclude\\\\\n",
       "  & <lgl> & <lgl> & <lgl> & <chr> & <lgl>\\\\\n",
       "\\hline\n",
       "\t1 & TRUE & TRUE & TRUE & b & FALSE\\\\\n",
       "\t2 & TRUE & TRUE & TRUE & b & FALSE\\\\\n",
       "\t3 & TRUE & TRUE & TRUE & b & FALSE\\\\\n",
       "\t4 & TRUE & TRUE & TRUE & b & FALSE\\\\\n",
       "\t5 & TRUE & TRUE & TRUE & b & FALSE\\\\\n",
       "\t6 & TRUE & TRUE & TRUE & b & FALSE\\\\\n",
       "\\end{tabular}\n"
      ],
      "text/markdown": [
       "\n",
       "A data.frame: 6 × 5\n",
       "\n",
       "| <!--/--> | flag_fdr10 &lt;lgl&gt; | flag_fdr05 &lt;lgl&gt; | flag_fdr01 &lt;lgl&gt; | cell &lt;chr&gt; | exclude &lt;lgl&gt; |\n",
       "|---|---|---|---|---|---|\n",
       "| 1 | TRUE | TRUE | TRUE | b | FALSE |\n",
       "| 2 | TRUE | TRUE | TRUE | b | FALSE |\n",
       "| 3 | TRUE | TRUE | TRUE | b | FALSE |\n",
       "| 4 | TRUE | TRUE | TRUE | b | FALSE |\n",
       "| 5 | TRUE | TRUE | TRUE | b | FALSE |\n",
       "| 6 | TRUE | TRUE | TRUE | b | FALSE |\n",
       "\n"
      ],
      "text/plain": [
       "  flag_fdr10 flag_fdr05 flag_fdr01 cell exclude\n",
       "1 TRUE       TRUE       TRUE       b    FALSE  \n",
       "2 TRUE       TRUE       TRUE       b    FALSE  \n",
       "3 TRUE       TRUE       TRUE       b    FALSE  \n",
       "4 TRUE       TRUE       TRUE       b    FALSE  \n",
       "5 TRUE       TRUE       TRUE       b    FALSE  \n",
       "6 TRUE       TRUE       TRUE       b    FALSE  "
      ]
     },
     "metadata": {},
     "output_type": "display_data"
    }
   ],
   "source": [
    "head(longf[,c(27:29,30,31)])"
   ]
  },
  {
   "cell_type": "code",
   "execution_count": 27,
   "id": "amino-cookbook",
   "metadata": {},
   "outputs": [],
   "source": [
    "ap = apply(longf[,c(27:29,31)], 1, function(x)  x[1:3]*!x[4])\n",
    "ap2 = as.data.frame(t(as.matrix(ap)))\n",
    "ap2$cell= longf$cell"
   ]
  },
  {
   "cell_type": "code",
   "execution_count": 28,
   "id": "radio-headline",
   "metadata": {},
   "outputs": [],
   "source": [
    "ag = aggregate( list(ap2$flag_fdr10,ap2$flag_fdr05,ap2$flag_fdr01), by= list(ap2$cell,ap2$cell,ap2$cell) ,sum)"
   ]
  },
  {
   "cell_type": "code",
   "execution_count": 29,
   "id": "operational-violin",
   "metadata": {},
   "outputs": [],
   "source": [
    "df = ag[,4:6]"
   ]
  },
  {
   "cell_type": "code",
   "execution_count": 30,
   "id": "revised-husband",
   "metadata": {},
   "outputs": [],
   "source": [
    "rownames(df) = ag[,1]"
   ]
  },
  {
   "cell_type": "code",
   "execution_count": 34,
   "id": "612c8236",
   "metadata": {},
   "outputs": [],
   "source": [
    "agg2 = aggregate(Feature~cell, longf, length)"
   ]
  },
  {
   "cell_type": "code",
   "execution_count": 38,
   "id": "3374de9c",
   "metadata": {},
   "outputs": [],
   "source": [
    "df = cbind(df, agg2[,2])"
   ]
  },
  {
   "cell_type": "code",
   "execution_count": 39,
   "id": "cutting-zoning",
   "metadata": {},
   "outputs": [],
   "source": [
    "df = df[cellypes_original_order,]"
   ]
  },
  {
   "cell_type": "code",
   "execution_count": 41,
   "id": "waiting-procedure",
   "metadata": {},
   "outputs": [],
   "source": [
    "colnames(df) = c( 'caQTL_fdr10%',  'caQTL_fdr05%', 'caQTL_fdr01%', \"Tested features\")"
   ]
  },
  {
   "cell_type": "code",
   "execution_count": 42,
   "id": "rural-enlargement",
   "metadata": {},
   "outputs": [
    {
     "data": {
      "text/html": [
       "<table class=\"dataframe\">\n",
       "<caption>A data.frame: 20 × 4</caption>\n",
       "<thead>\n",
       "\t<tr><th></th><th scope=col>caQTL_fdr10%</th><th scope=col>caQTL_fdr05%</th><th scope=col>caQTL_fdr01%</th><th scope=col>Tested features</th></tr>\n",
       "\t<tr><th></th><th scope=col>&lt;int&gt;</th><th scope=col>&lt;int&gt;</th><th scope=col>&lt;int&gt;</th><th scope=col>&lt;int&gt;</th></tr>\n",
       "</thead>\n",
       "<tbody>\n",
       "\t<tr><th scope=row>bulk</th><td>4662</td><td>3028</td><td>1121</td><td>194846</td></tr>\n",
       "\t<tr><th scope=row>b</th><td> 666</td><td> 369</td><td> 156</td><td> 45013</td></tr>\n",
       "\t<tr><th scope=row>t</th><td>2128</td><td>1389</td><td> 464</td><td> 97382</td></tr>\n",
       "\t<tr><th scope=row>mono</th><td>3507</td><td>2135</td><td> 637</td><td>128198</td></tr>\n",
       "\t<tr><th scope=row>nk</th><td> 841</td><td> 501</td><td> 117</td><td> 51945</td></tr>\n",
       "\t<tr><th scope=row>cMono</th><td>2941</td><td>1773</td><td> 571</td><td>116192</td></tr>\n",
       "\t<tr><th scope=row>ncMono</th><td> 486</td><td> 311</td><td> 101</td><td> 54300</td></tr>\n",
       "\t<tr><th scope=row>iMono</th><td>  42</td><td>  22</td><td>  13</td><td> 35454</td></tr>\n",
       "\t<tr><th scope=row>cDC</th><td>  72</td><td>  55</td><td>  36</td><td> 24092</td></tr>\n",
       "\t<tr><th scope=row>mem_b</th><td> 163</td><td> 113</td><td>   7</td><td> 27930</td></tr>\n",
       "\t<tr><th scope=row>naive_b</th><td> 390</td><td> 286</td><td> 113</td><td> 35363</td></tr>\n",
       "\t<tr><th scope=row>cyto_nk</th><td> 741</td><td> 336</td><td> 138</td><td> 48776</td></tr>\n",
       "\t<tr><th scope=row>adaptive_NK</th><td>  41</td><td>  40</td><td>   9</td><td> 17199</td></tr>\n",
       "\t<tr><th scope=row>naive_cd8_t</th><td> 336</td><td> 171</td><td> 101</td><td> 37433</td></tr>\n",
       "\t<tr><th scope=row>cyto_cd8_t</th><td> 622</td><td> 317</td><td> 136</td><td> 46916</td></tr>\n",
       "\t<tr><th scope=row>mem_cd8_t</th><td> 228</td><td> 153</td><td>  63</td><td> 28332</td></tr>\n",
       "\t<tr><th scope=row>naive_cd4_t</th><td> 653</td><td> 390</td><td> 119</td><td> 49151</td></tr>\n",
       "\t<tr><th scope=row>act_cd4_t</th><td>1341</td><td> 848</td><td> 268</td><td> 62196</td></tr>\n",
       "\t<tr><th scope=row>tReg</th><td>  77</td><td>  35</td><td>  13</td><td> 20769</td></tr>\n",
       "\t<tr><th scope=row>mkc</th><td>  31</td><td>  21</td><td>  13</td><td> 11892</td></tr>\n",
       "</tbody>\n",
       "</table>\n"
      ],
      "text/latex": [
       "A data.frame: 20 × 4\n",
       "\\begin{tabular}{r|llll}\n",
       "  & caQTL\\_fdr10\\% & caQTL\\_fdr05\\% & caQTL\\_fdr01\\% & Tested features\\\\\n",
       "  & <int> & <int> & <int> & <int>\\\\\n",
       "\\hline\n",
       "\tbulk & 4662 & 3028 & 1121 & 194846\\\\\n",
       "\tb &  666 &  369 &  156 &  45013\\\\\n",
       "\tt & 2128 & 1389 &  464 &  97382\\\\\n",
       "\tmono & 3507 & 2135 &  637 & 128198\\\\\n",
       "\tnk &  841 &  501 &  117 &  51945\\\\\n",
       "\tcMono & 2941 & 1773 &  571 & 116192\\\\\n",
       "\tncMono &  486 &  311 &  101 &  54300\\\\\n",
       "\tiMono &   42 &   22 &   13 &  35454\\\\\n",
       "\tcDC &   72 &   55 &   36 &  24092\\\\\n",
       "\tmem\\_b &  163 &  113 &    7 &  27930\\\\\n",
       "\tnaive\\_b &  390 &  286 &  113 &  35363\\\\\n",
       "\tcyto\\_nk &  741 &  336 &  138 &  48776\\\\\n",
       "\tadaptive\\_NK &   41 &   40 &    9 &  17199\\\\\n",
       "\tnaive\\_cd8\\_t &  336 &  171 &  101 &  37433\\\\\n",
       "\tcyto\\_cd8\\_t &  622 &  317 &  136 &  46916\\\\\n",
       "\tmem\\_cd8\\_t &  228 &  153 &   63 &  28332\\\\\n",
       "\tnaive\\_cd4\\_t &  653 &  390 &  119 &  49151\\\\\n",
       "\tact\\_cd4\\_t & 1341 &  848 &  268 &  62196\\\\\n",
       "\ttReg &   77 &   35 &   13 &  20769\\\\\n",
       "\tmkc &   31 &   21 &   13 &  11892\\\\\n",
       "\\end{tabular}\n"
      ],
      "text/markdown": [
       "\n",
       "A data.frame: 20 × 4\n",
       "\n",
       "| <!--/--> | caQTL_fdr10% &lt;int&gt; | caQTL_fdr05% &lt;int&gt; | caQTL_fdr01% &lt;int&gt; | Tested features &lt;int&gt; |\n",
       "|---|---|---|---|---|\n",
       "| bulk | 4662 | 3028 | 1121 | 194846 |\n",
       "| b |  666 |  369 |  156 |  45013 |\n",
       "| t | 2128 | 1389 |  464 |  97382 |\n",
       "| mono | 3507 | 2135 |  637 | 128198 |\n",
       "| nk |  841 |  501 |  117 |  51945 |\n",
       "| cMono | 2941 | 1773 |  571 | 116192 |\n",
       "| ncMono |  486 |  311 |  101 |  54300 |\n",
       "| iMono |   42 |   22 |   13 |  35454 |\n",
       "| cDC |   72 |   55 |   36 |  24092 |\n",
       "| mem_b |  163 |  113 |    7 |  27930 |\n",
       "| naive_b |  390 |  286 |  113 |  35363 |\n",
       "| cyto_nk |  741 |  336 |  138 |  48776 |\n",
       "| adaptive_NK |   41 |   40 |    9 |  17199 |\n",
       "| naive_cd8_t |  336 |  171 |  101 |  37433 |\n",
       "| cyto_cd8_t |  622 |  317 |  136 |  46916 |\n",
       "| mem_cd8_t |  228 |  153 |   63 |  28332 |\n",
       "| naive_cd4_t |  653 |  390 |  119 |  49151 |\n",
       "| act_cd4_t | 1341 |  848 |  268 |  62196 |\n",
       "| tReg |   77 |   35 |   13 |  20769 |\n",
       "| mkc |   31 |   21 |   13 |  11892 |\n",
       "\n"
      ],
      "text/plain": [
       "            caQTL_fdr10% caQTL_fdr05% caQTL_fdr01% Tested features\n",
       "bulk        4662         3028         1121         194846         \n",
       "b            666          369          156          45013         \n",
       "t           2128         1389          464          97382         \n",
       "mono        3507         2135          637         128198         \n",
       "nk           841          501          117          51945         \n",
       "cMono       2941         1773          571         116192         \n",
       "ncMono       486          311          101          54300         \n",
       "iMono         42           22           13          35454         \n",
       "cDC           72           55           36          24092         \n",
       "mem_b        163          113            7          27930         \n",
       "naive_b      390          286          113          35363         \n",
       "cyto_nk      741          336          138          48776         \n",
       "adaptive_NK   41           40            9          17199         \n",
       "naive_cd8_t  336          171          101          37433         \n",
       "cyto_cd8_t   622          317          136          46916         \n",
       "mem_cd8_t    228          153           63          28332         \n",
       "naive_cd4_t  653          390          119          49151         \n",
       "act_cd4_t   1341          848          268          62196         \n",
       "tReg          77           35           13          20769         \n",
       "mkc           31           21           13          11892         "
      ]
     },
     "metadata": {},
     "output_type": "display_data"
    }
   ],
   "source": [
    "df"
   ]
  },
  {
   "cell_type": "markdown",
   "id": "dress-pitch",
   "metadata": {},
   "source": [
    "## Sample size bias\n",
    "### Rev3.1\n",
    "Sample size. The study population consists of 10 individuals, of which 2 appear to be from a different ethnic background (see #2). The statistical test used to detect caQTL is implements in RASQUEL, which has a regression step where the total fragment count (Yi) is regressed against the number of alternative SNP alleles (i.e. 0, 1, 2). As reported in the manuscript a filtering step is employed where only SNPs with 2+ individuals carrying heterozygous genotype classes are included. However, this presumably removed most SNPs within a given region? For example, even at MAF = 0.1, under HWE, the average number of het individuals = 1.8, while the common homozygous = 0.1. But most importantly, under this filtering, maf needs to be greater than 0.3 before we would expect to observe a single individual carrying the rare homozygous class, and 0.45 before there are two. Thus, for the vast majority of SNPs tested, the regression model will only have two observed classes, and considerable imbalance between them. The adjusted Yi from that model is thus likely to be biased. This possibly explains the very large number of caQTL detected given the sample size. For example, in LCLs with >2.5x larger sample size, approximately halve the number of caQTLs are detected.\n",
    "The simplest suggestion to resolve this problem is to increase sample size, although I acknowledge the challenges in doing so. In the absence of this, I think it is important that the biases associated with lower sample size (i.e. n of allele class, and inaccurate estimations of means) is deeply evaluated and addressed. One starting point would be to use simulations to best the error rates under a range of true null (i.e. no genetic effects) scenarios. Using a inflation statistic such as lambda from a QQ plot might be a helpful way to demonstrate this. Assuming that you identify an inflation in the test statistic under the null (for some scenarios), then applying this to correct the original tests might help differentiate artifacts from true signals."
   ]
  },
  {
   "cell_type": "markdown",
   "id": "entire-denmark",
   "metadata": {},
   "source": [
    " *QQPlots for 2 and 3 genotypes*"
   ]
  },
  {
   "cell_type": "code",
   "execution_count": 5,
   "id": "sophisticated-segment",
   "metadata": {},
   "outputs": [],
   "source": [
    "library(data.table)"
   ]
  },
  {
   "cell_type": "code",
   "execution_count": 7,
   "id": "ab933ded",
   "metadata": {},
   "outputs": [],
   "source": [
    "setwd('/nfs/lab/projects/pbmc_snATAC/analysis_v2')\n",
    "\n",
    "library(repr)\n",
    "\n",
    "longf = read.table('summarized_caqtls/run3/EUR_caqtl_leads_run3.tsv', header=T)\n",
    "genotypes = read.table('example_boxplots/All_tested_genotypes.tsv', header=T, row.names=1)\n"
   ]
  },
  {
   "cell_type": "code",
   "execution_count": 41,
   "id": "intelligent-canadian",
   "metadata": {},
   "outputs": [],
   "source": [
    "qqplotf = function(pvalues, title, colr =\"black\", add=FALSE){\n",
    "coaccP = sort(-log(pvalues, 10))\n",
    "set.seed(1)\n",
    "uniP = runif(length(coaccP))\n",
    "uniP = sort(-log10(uniP))\n",
    "chisq <- qchisq(1-pvalues,1)\n",
    "lgc = median(chisq)/qchisq(0.5,1)\n",
    "\n",
    "if(add == FALSE){\n",
    "plot(uniP, coaccP, pch=20, cex=0.6, col=colr,\n",
    "     xlab=\"Theoretical -Log10(P)\", ylab=\"-Log10(P) caQTLs\", main =title)\n",
    "abline(0,1)\n",
    "#mtext(paste(\"Lgc=\", round(lgc,2), \"Pm=\", round(median(pvalues),3)))  \n",
    "#mtext(\"-\" , col = colr, adj = 0, cex=2)    \n",
    "    } else if (add == TRUE){\n",
    " points(uniP, coaccP, pch=20, cex=0.6, col=colr)\n",
    "# mtext(paste(\"Lgc=\", round(lgc,2), \"Pm=\", round(median(pvalues),3)), line=-1.5)    \n",
    "# mtext(\"-\" , col = colr, adj = 0, line=-1.5, cex=2)   \n",
    "}\n",
    "               }"
   ]
  },
  {
   "cell_type": "code",
   "execution_count": 9,
   "id": "postal-assets",
   "metadata": {},
   "outputs": [],
   "source": [
    "ngt = sapply(1:nrow(genotypes), function(x) length(table(t(genotypes[x,]))))"
   ]
  },
  {
   "cell_type": "code",
   "execution_count": 10,
   "id": "50708c56",
   "metadata": {},
   "outputs": [
    {
     "data": {
      "text/plain": [
       "ngt\n",
       "     1      2      3 \n",
       "    68 101312  89736 "
      ]
     },
     "metadata": {},
     "output_type": "display_data"
    }
   ],
   "source": [
    "table(ngt)"
   ]
  },
  {
   "cell_type": "code",
   "execution_count": 46,
   "id": "charitable-there",
   "metadata": {},
   "outputs": [
    {
     "data": {
      "text/html": [
       "0.530296051254135"
      ],
      "text/latex": [
       "0.530296051254135"
      ],
      "text/markdown": [
       "0.530296051254135"
      ],
      "text/plain": [
       "[1] 0.5302961"
      ]
     },
     "metadata": {},
     "output_type": "display_data"
    },
    {
     "data": {
      "text/html": [
       "0.469703948745865"
      ],
      "text/latex": [
       "0.469703948745865"
      ],
      "text/markdown": [
       "0.469703948745865"
      ],
      "text/plain": [
       "[1] 0.4697039"
      ]
     },
     "metadata": {},
     "output_type": "display_data"
    }
   ],
   "source": [
    "101312/ (101312+89736)\n",
    "89736/ (101312+89736)"
   ]
  },
  {
   "cell_type": "markdown",
   "id": "portable-calvin",
   "metadata": {},
   "source": [
    "The number of SNPs witth 2 and 3 genotypes are not vastly different --- 13% more SNPs with 2 genotypes, while the reviewer said that 2 genotypes would be the vast majority"
   ]
  },
  {
   "cell_type": "code",
   "execution_count": 12,
   "id": "e450d4ad",
   "metadata": {},
   "outputs": [],
   "source": [
    "cellypes = c('bulk','b','t','mono','nk')"
   ]
  },
  {
   "cell_type": "code",
   "execution_count": 51,
   "id": "graduate-corner",
   "metadata": {},
   "outputs": [],
   "source": [
    "home = \"/nfs/lab/projects/pbmc_snATAC/analysis_v2/rasqual_eur/broad/\""
   ]
  },
  {
   "cell_type": "code",
   "execution_count": 53,
   "id": "sonic-witch",
   "metadata": {},
   "outputs": [],
   "source": [
    "dist_gt = data.frame(\n",
    "zero = rowSums(genotypes==0),\n",
    "one  =  rowSums(genotypes==1),\n",
    "two  = rowSums(genotypes==2)\n",
    ")"
   ]
  },
  {
   "cell_type": "code",
   "execution_count": 54,
   "id": "strong-approach",
   "metadata": {
    "scrolled": false
   },
   "outputs": [],
   "source": [
    "test = as.data.frame(table(dist_gt))"
   ]
  },
  {
   "cell_type": "code",
   "execution_count": 55,
   "id": "blocked-building",
   "metadata": {},
   "outputs": [],
   "source": [
    "test = test[order(test$Freq, decreasing=T),]\n",
    "test = subset(test, Freq!=0)"
   ]
  },
  {
   "cell_type": "code",
   "execution_count": 56,
   "id": "cross-radio",
   "metadata": {},
   "outputs": [],
   "source": [
    "lbs = apply(test[,1:3], 1,paste, collapse =\"|\")\n",
    "ng  = rowSums(test[,1:3]==0)+1"
   ]
  },
  {
   "cell_type": "code",
   "execution_count": 57,
   "id": "allied-marijuana",
   "metadata": {},
   "outputs": [],
   "source": [
    "#options(repr.plot.width=10, repr.plot.height=10)\n",
    "#plot(1:nrow(test), test$Freq, las =2, pch = 16, xlab=\"Rank\", ylab=\"Frequency\", col =ng)\n",
    "#text(1:nrow(test), test$Freq, labels= lbs, pos=4,srt=45 , col=ng)"
   ]
  },
  {
   "cell_type": "code",
   "execution_count": 58,
   "id": "excessive-interpretation",
   "metadata": {},
   "outputs": [
    {
     "data": {
      "text/html": [
       "<table class=\"dataframe\">\n",
       "<caption>A data.frame: 6 × 4</caption>\n",
       "<thead>\n",
       "\t<tr><th></th><th scope=col>zero</th><th scope=col>one</th><th scope=col>two</th><th scope=col>Freq</th></tr>\n",
       "\t<tr><th></th><th scope=col>&lt;fct&gt;</th><th scope=col>&lt;fct&gt;</th><th scope=col>&lt;fct&gt;</th><th scope=col>&lt;int&gt;</th></tr>\n",
       "</thead>\n",
       "<tbody>\n",
       "\t<tr><th scope=row>9</th><td>8</td><td>2</td><td>0</td><td>31516</td></tr>\n",
       "\t<tr><th scope=row>17</th><td>7</td><td>3</td><td>0</td><td>20014</td></tr>\n",
       "\t<tr><th scope=row>25</th><td>6</td><td>4</td><td>0</td><td>13279</td></tr>\n",
       "\t<tr><th scope=row>33</th><td>5</td><td>5</td><td>0</td><td> 8163</td></tr>\n",
       "\t<tr><th scope=row>97</th><td>6</td><td>3</td><td>1</td><td> 7287</td></tr>\n",
       "\t<tr><th scope=row>105</th><td>5</td><td>4</td><td>1</td><td> 7179</td></tr>\n",
       "</tbody>\n",
       "</table>\n"
      ],
      "text/latex": [
       "A data.frame: 6 × 4\n",
       "\\begin{tabular}{r|llll}\n",
       "  & zero & one & two & Freq\\\\\n",
       "  & <fct> & <fct> & <fct> & <int>\\\\\n",
       "\\hline\n",
       "\t9 & 8 & 2 & 0 & 31516\\\\\n",
       "\t17 & 7 & 3 & 0 & 20014\\\\\n",
       "\t25 & 6 & 4 & 0 & 13279\\\\\n",
       "\t33 & 5 & 5 & 0 &  8163\\\\\n",
       "\t97 & 6 & 3 & 1 &  7287\\\\\n",
       "\t105 & 5 & 4 & 1 &  7179\\\\\n",
       "\\end{tabular}\n"
      ],
      "text/markdown": [
       "\n",
       "A data.frame: 6 × 4\n",
       "\n",
       "| <!--/--> | zero &lt;fct&gt; | one &lt;fct&gt; | two &lt;fct&gt; | Freq &lt;int&gt; |\n",
       "|---|---|---|---|---|\n",
       "| 9 | 8 | 2 | 0 | 31516 |\n",
       "| 17 | 7 | 3 | 0 | 20014 |\n",
       "| 25 | 6 | 4 | 0 | 13279 |\n",
       "| 33 | 5 | 5 | 0 |  8163 |\n",
       "| 97 | 6 | 3 | 1 |  7287 |\n",
       "| 105 | 5 | 4 | 1 |  7179 |\n",
       "\n"
      ],
      "text/plain": [
       "    zero one two Freq \n",
       "9   8    2   0   31516\n",
       "17  7    3   0   20014\n",
       "25  6    4   0   13279\n",
       "33  5    5   0    8163\n",
       "97  6    3   1    7287\n",
       "105 5    4   1    7179"
      ]
     },
     "metadata": {},
     "output_type": "display_data"
    }
   ],
   "source": [
    "head(test)"
   ]
  },
  {
   "cell_type": "code",
   "execution_count": 59,
   "id": "identical-miniature",
   "metadata": {},
   "outputs": [],
   "source": [
    "test$lbs1 = lbs\n",
    "test$lbs2 = apply(test[,3:1], 1,paste, collapse =\"|\")\n",
    "mg        = merge(test, test, by.x = 'lbs2', by.y=\"lbs1\")\n",
    "mg        = mg[-1,]\n",
    "mg$tot    = mg$Freq.x+mg$Freq.y\n",
    "mg$lbstot = paste(mg$lbs1, mg$lbs2, sep=\"+\")\n",
    "mg        = mg[order(mg$tot, decreasing = T),]\n",
    "mg        = mg[!duplicated(mg$tot),]"
   ]
  },
  {
   "cell_type": "code",
   "execution_count": 60,
   "id": "configured-stereo",
   "metadata": {},
   "outputs": [
    {
     "data": {
      "text/html": [
       "<strong>png:</strong> 2"
      ],
      "text/latex": [
       "\\textbf{png:} 2"
      ],
      "text/markdown": [
       "**png:** 2"
      ],
      "text/plain": [
       "png \n",
       "  2 "
      ]
     },
     "metadata": {},
     "output_type": "display_data"
    }
   ],
   "source": [
    "#options(repr.plot.width=10, repr.plot.height=5)\n",
    "pdf(\"figures/distribution_genotypes.pdf\")\n",
    "par(mfrow=c(2,1), mar=c(2,2,2,2))\n",
    "barplot( test$Freq, las =2, ylab=\"Frequency\", names.arg = test$lbs1,cex.names=0.8,\n",
    "         col = rowSums(test[,1:3]==0)+1)\n",
    "legend(\"topright\", pch=15, col=2:1, legend=c(\"2GT\", \"3GT\"),cex=1.5)\n",
    "dev.off()"
   ]
  },
  {
   "cell_type": "code",
   "execution_count": 61,
   "id": "mediterranean-housing",
   "metadata": {},
   "outputs": [
    {
     "data": {
      "image/png": "[encoded data removed]",
      "text/plain": [
       "plot without title"
      ]
     },
     "metadata": {
      "image/png": {
       "height": 300,
       "width": 480
      }
     },
     "output_type": "display_data"
    }
   ],
   "source": [
    "options(repr.plot.width=8, repr.plot.height=5)\n",
    "barplot( mg$tot, las =2, ylab=\"Frequency\", names.arg = mg$lbstot,\n",
    "         col = rowSums(mg[,2:4]==0)+1)\n",
    "legend(\"topright\", pch=15, col=2:1, legend=c(\"2GT\", \"3GT\"),cex=1.5)"
   ]
  },
  {
   "cell_type": "code",
   "execution_count": 62,
   "id": "therapeutic-neighborhood",
   "metadata": {},
   "outputs": [],
   "source": [
    "cms = cumsum(mg$tot)"
   ]
  },
  {
   "cell_type": "code",
   "execution_count": 63,
   "id": "electronic-intelligence",
   "metadata": {},
   "outputs": [
    {
     "data": {
      "image/png": "[encoded data removed]",
      "text/plain": [
       "plot without title"
      ]
     },
     "metadata": {
      "image/png": {
       "height": 360,
       "width": 480
      }
     },
     "output_type": "display_data"
    }
   ],
   "source": [
    "options(repr.plot.width=8, repr.plot.height=6)\n",
    "plot(1:nrow(mg), cms, las =2, pch = 16, xlab=\"Rank\", ylab=\"Frequency\", \n",
    "     col = rowSums(mg[,2:4]==0)+1)\n",
    "text(1:nrow(mg), cms, labels= mg$lbstot, pos=4)"
   ]
  },
  {
   "cell_type": "code",
   "execution_count": 64,
   "id": "south-discrimination",
   "metadata": {},
   "outputs": [],
   "source": [
    "lba = apply(dist_gt[,1:3], 1,paste, collapse =\"\")\n",
    "lbb = apply(dist_gt[,3:1], 1,paste, collapse =\"\")\n",
    "unicat = sapply(1:length(lba), function(x) max(as.numeric(lba[x]), as.numeric(lbb[x])))"
   ]
  },
  {
   "cell_type": "code",
   "execution_count": 65,
   "id": "textile-australia",
   "metadata": {},
   "outputs": [
    {
     "data": {
      "text/plain": [
       "unicat\n",
       "  100   181   190   262   271   280   343   352   361   370   424   433   442 \n",
       "   68  1263   508  4010  4852  1720  3061  8860  8002  3657   724  3574  7694 \n",
       "  451   460   523   532   541   550   622   631   640   721   730   820 \n",
       "10248  6996  1424  5074 10383 11373  2754 10033 16999  7780 24189 35870 "
      ]
     },
     "metadata": {},
     "output_type": "display_data"
    }
   ],
   "source": [
    "### a quicker way to do the same things as above\n",
    "table(unicat)"
   ]
  },
  {
   "cell_type": "code",
   "execution_count": 66,
   "id": "solar-lodging",
   "metadata": {},
   "outputs": [],
   "source": [
    "longf$gtcat = unicat[ match(longf$varID,rownames(dist_gt))]"
   ]
  },
  {
   "cell_type": "code",
   "execution_count": 67,
   "id": "signal-dream",
   "metadata": {},
   "outputs": [],
   "source": [
    "longf$two = grepl(0, longf$gtcat)"
   ]
  },
  {
   "cell_type": "code",
   "execution_count": 68,
   "id": "pediatric-mention",
   "metadata": {},
   "outputs": [
    {
     "data": {
      "text/html": [
       "<strong>png:</strong> 2"
      ],
      "text/latex": [
       "\\textbf{png:} 2"
      ],
      "text/markdown": [
       "**png:** 2"
      ],
      "text/plain": [
       "png \n",
       "  2 "
      ]
     },
     "metadata": {},
     "output_type": "display_data"
    }
   ],
   "source": [
    "#options(repr.plot.width=10, repr.plot.height=15)\n",
    "pdf(\"figures/barlots_enrichment_genotypes.pdf\")\n",
    "par (mfrow=c(5,2), mar=c(2,4,3,0))\n",
    "for(ce in cellypes_original_order[1:5]){\n",
    "res  = subset(longf, cell==ce)\n",
    "fish = data.frame()\n",
    "for(cats in na.omit(unique(res$gtcat))){\n",
    "    \n",
    "    tb = table(res$gtcat==cats, (res$flag_fdr10==TRUE & res$exclude==FALSE))\n",
    "     fish = rbind(fish,c(unlist(fisher.test(tb)[c(1,3)]),tb[2,2]))\n",
    "}\n",
    "rownames(fish) = na.omit(as.character(unique(res$gtcat)))\n",
    "colnames(fish) = c(\"pv\", \"or\", \"n\")\n",
    "fish$col = grepl(\"0\", rownames(fish))+1\n",
    "fish = fish[order(fish$or, decreasing=T),]\n",
    "fish = subset(fish, rownames(fish)!=\"100\")\n",
    "\n",
    "bp=barplot( fish$or, las =2, ylab=\"Enrichment in caQTLs\", names.arg = rownames(fish),cex.names = 1,\n",
    "            col = fish$col, cex.axis=1 , main=ce)\n",
    "#legend(\"topright\", pch=15, col=2:1, legend=c(\"2GT\", \"3GT\"))\n",
    "text(x=bp, y=fish$or,  labels= c(\"\",\"*\")[(fish$pv<0.05)+1], cex=2, pos=3)\n",
    "abline(h=1, col=5, lwd=2)\n",
    "barplot( fish$n, las =2, ylab=\"caQTL counts\", , cex.axis=1,cex.names=1,\n",
    "        names.arg = rownames(fish), col = fish$col)\n",
    "}\n",
    "dev.off()"
   ]
  },
  {
   "cell_type": "markdown",
   "id": "related-collapse",
   "metadata": {},
   "source": [
    "We can definitely say that caQTLs tend to have many het ppl and 3 genotypes rather than only 2 genotypes with few hets (most common gt 820 and 730). This is also consistent with the fact that performing the qtl only with pop data and not allelic imbalance does not give significant results (we have to remind that to the reviewers) -as we repoted in the paper. Once again the power is in ASE."
   ]
  },
  {
   "cell_type": "code",
   "execution_count": 69,
   "id": "frequent-accountability",
   "metadata": {},
   "outputs": [],
   "source": [
    "fish = data.frame()\n",
    "for(ce in cellypes_original_order){\n",
    "res  = subset(longf, cell==ce)\n",
    "\n",
    "    \n",
    "    tb = table(!(res$two), (res$flag_fdr10==TRUE & res$exclude==FALSE))\n",
    "     fish = rbind(fish,c(unlist(fisher.test(tb)[c(1,3)]),tb[2,2]))\n",
    "\n",
    "}"
   ]
  },
  {
   "cell_type": "code",
   "execution_count": 70,
   "id": "curious-korean",
   "metadata": {},
   "outputs": [],
   "source": [
    "colnames(fish)=c(\"pval\", \"OR\", \"n\")\n",
    "rownames(fish)=cellypes_original_order"
   ]
  },
  {
   "cell_type": "code",
   "execution_count": 71,
   "id": "psychological-daniel",
   "metadata": {},
   "outputs": [
    {
     "data": {
      "text/html": [
       "<table class=\"dataframe\">\n",
       "<caption>A data.frame: 20 × 3</caption>\n",
       "<thead>\n",
       "\t<tr><th></th><th scope=col>pval</th><th scope=col>OR</th><th scope=col>n</th></tr>\n",
       "\t<tr><th></th><th scope=col>&lt;dbl&gt;</th><th scope=col>&lt;dbl&gt;</th><th scope=col>&lt;dbl&gt;</th></tr>\n",
       "</thead>\n",
       "<tbody>\n",
       "\t<tr><th scope=row>bulk</th><td>1.631987e-02</td><td>1.073958</td><td>2439</td></tr>\n",
       "\t<tr><th scope=row>b</th><td>8.968108e-21</td><td>2.104515</td><td> 424</td></tr>\n",
       "\t<tr><th scope=row>t</th><td>1.032470e-33</td><td>1.704967</td><td>1245</td></tr>\n",
       "\t<tr><th scope=row>mono</th><td>1.097739e-50</td><td>1.674356</td><td>2041</td></tr>\n",
       "\t<tr><th scope=row>nk</th><td>1.079867e-18</td><td>1.860329</td><td> 510</td></tr>\n",
       "\t<tr><th scope=row>cMono</th><td>3.361676e-48</td><td>1.731527</td><td>1742</td></tr>\n",
       "\t<tr><th scope=row>ncMono</th><td>3.247313e-13</td><td>1.963188</td><td> 304</td></tr>\n",
       "\t<tr><th scope=row>iMono</th><td>4.407093e-01</td><td>1.292686</td><td>  22</td></tr>\n",
       "\t<tr><th scope=row>cDC</th><td>4.513325e-06</td><td>3.185871</td><td>  53</td></tr>\n",
       "\t<tr><th scope=row>mem_b</th><td>6.625435e-10</td><td>2.749662</td><td> 114</td></tr>\n",
       "\t<tr><th scope=row>naive_b</th><td>1.221511e-09</td><td>1.876035</td><td> 238</td></tr>\n",
       "\t<tr><th scope=row>cyto_nk</th><td>5.493776e-13</td><td>1.713175</td><td> 435</td></tr>\n",
       "\t<tr><th scope=row>adaptive_NK</th><td>1.578285e-01</td><td>1.616813</td><td>  24</td></tr>\n",
       "\t<tr><th scope=row>naive_cd8_t</th><td>1.417206e-15</td><td>2.467268</td><td> 227</td></tr>\n",
       "\t<tr><th scope=row>cyto_cd8_t</th><td>1.179521e-12</td><td>1.785040</td><td> 367</td></tr>\n",
       "\t<tr><th scope=row>mem_cd8_t</th><td>3.523641e-10</td><td>2.360629</td><td> 153</td></tr>\n",
       "\t<tr><th scope=row>naive_cd4_t</th><td>1.039570e-16</td><td>1.941718</td><td> 402</td></tr>\n",
       "\t<tr><th scope=row>act_cd4_t</th><td>3.978739e-35</td><td>1.997300</td><td> 833</td></tr>\n",
       "\t<tr><th scope=row>tReg</th><td>2.012666e-04</td><td>2.448936</td><td>  52</td></tr>\n",
       "\t<tr><th scope=row>mkc</th><td>2.106353e-04</td><td>4.608941</td><td>  25</td></tr>\n",
       "</tbody>\n",
       "</table>\n"
      ],
      "text/latex": [
       "A data.frame: 20 × 3\n",
       "\\begin{tabular}{r|lll}\n",
       "  & pval & OR & n\\\\\n",
       "  & <dbl> & <dbl> & <dbl>\\\\\n",
       "\\hline\n",
       "\tbulk & 1.631987e-02 & 1.073958 & 2439\\\\\n",
       "\tb & 8.968108e-21 & 2.104515 &  424\\\\\n",
       "\tt & 1.032470e-33 & 1.704967 & 1245\\\\\n",
       "\tmono & 1.097739e-50 & 1.674356 & 2041\\\\\n",
       "\tnk & 1.079867e-18 & 1.860329 &  510\\\\\n",
       "\tcMono & 3.361676e-48 & 1.731527 & 1742\\\\\n",
       "\tncMono & 3.247313e-13 & 1.963188 &  304\\\\\n",
       "\tiMono & 4.407093e-01 & 1.292686 &   22\\\\\n",
       "\tcDC & 4.513325e-06 & 3.185871 &   53\\\\\n",
       "\tmem\\_b & 6.625435e-10 & 2.749662 &  114\\\\\n",
       "\tnaive\\_b & 1.221511e-09 & 1.876035 &  238\\\\\n",
       "\tcyto\\_nk & 5.493776e-13 & 1.713175 &  435\\\\\n",
       "\tadaptive\\_NK & 1.578285e-01 & 1.616813 &   24\\\\\n",
       "\tnaive\\_cd8\\_t & 1.417206e-15 & 2.467268 &  227\\\\\n",
       "\tcyto\\_cd8\\_t & 1.179521e-12 & 1.785040 &  367\\\\\n",
       "\tmem\\_cd8\\_t & 3.523641e-10 & 2.360629 &  153\\\\\n",
       "\tnaive\\_cd4\\_t & 1.039570e-16 & 1.941718 &  402\\\\\n",
       "\tact\\_cd4\\_t & 3.978739e-35 & 1.997300 &  833\\\\\n",
       "\ttReg & 2.012666e-04 & 2.448936 &   52\\\\\n",
       "\tmkc & 2.106353e-04 & 4.608941 &   25\\\\\n",
       "\\end{tabular}\n"
      ],
      "text/markdown": [
       "\n",
       "A data.frame: 20 × 3\n",
       "\n",
       "| <!--/--> | pval &lt;dbl&gt; | OR &lt;dbl&gt; | n &lt;dbl&gt; |\n",
       "|---|---|---|---|\n",
       "| bulk | 1.631987e-02 | 1.073958 | 2439 |\n",
       "| b | 8.968108e-21 | 2.104515 |  424 |\n",
       "| t | 1.032470e-33 | 1.704967 | 1245 |\n",
       "| mono | 1.097739e-50 | 1.674356 | 2041 |\n",
       "| nk | 1.079867e-18 | 1.860329 |  510 |\n",
       "| cMono | 3.361676e-48 | 1.731527 | 1742 |\n",
       "| ncMono | 3.247313e-13 | 1.963188 |  304 |\n",
       "| iMono | 4.407093e-01 | 1.292686 |   22 |\n",
       "| cDC | 4.513325e-06 | 3.185871 |   53 |\n",
       "| mem_b | 6.625435e-10 | 2.749662 |  114 |\n",
       "| naive_b | 1.221511e-09 | 1.876035 |  238 |\n",
       "| cyto_nk | 5.493776e-13 | 1.713175 |  435 |\n",
       "| adaptive_NK | 1.578285e-01 | 1.616813 |   24 |\n",
       "| naive_cd8_t | 1.417206e-15 | 2.467268 |  227 |\n",
       "| cyto_cd8_t | 1.179521e-12 | 1.785040 |  367 |\n",
       "| mem_cd8_t | 3.523641e-10 | 2.360629 |  153 |\n",
       "| naive_cd4_t | 1.039570e-16 | 1.941718 |  402 |\n",
       "| act_cd4_t | 3.978739e-35 | 1.997300 |  833 |\n",
       "| tReg | 2.012666e-04 | 2.448936 |   52 |\n",
       "| mkc | 2.106353e-04 | 4.608941 |   25 |\n",
       "\n"
      ],
      "text/plain": [
       "            pval         OR       n   \n",
       "bulk        1.631987e-02 1.073958 2439\n",
       "b           8.968108e-21 2.104515  424\n",
       "t           1.032470e-33 1.704967 1245\n",
       "mono        1.097739e-50 1.674356 2041\n",
       "nk          1.079867e-18 1.860329  510\n",
       "cMono       3.361676e-48 1.731527 1742\n",
       "ncMono      3.247313e-13 1.963188  304\n",
       "iMono       4.407093e-01 1.292686   22\n",
       "cDC         4.513325e-06 3.185871   53\n",
       "mem_b       6.625435e-10 2.749662  114\n",
       "naive_b     1.221511e-09 1.876035  238\n",
       "cyto_nk     5.493776e-13 1.713175  435\n",
       "adaptive_NK 1.578285e-01 1.616813   24\n",
       "naive_cd8_t 1.417206e-15 2.467268  227\n",
       "cyto_cd8_t  1.179521e-12 1.785040  367\n",
       "mem_cd8_t   3.523641e-10 2.360629  153\n",
       "naive_cd4_t 1.039570e-16 1.941718  402\n",
       "act_cd4_t   3.978739e-35 1.997300  833\n",
       "tReg        2.012666e-04 2.448936   52\n",
       "mkc         2.106353e-04 4.608941   25"
      ]
     },
     "metadata": {},
     "output_type": "display_data"
    }
   ],
   "source": [
    "fish"
   ]
  },
  {
   "cell_type": "markdown",
   "id": "prerequisite-sacramento",
   "metadata": {},
   "source": [
    "overall two genotypes are depleted over 3gt are enriched among QTLs"
   ]
  },
  {
   "cell_type": "code",
   "execution_count": 18,
   "id": "9a6032d8",
   "metadata": {},
   "outputs": [
    {
     "data": {
      "text/html": [
       "157131"
      ],
      "text/latex": [
       "157131"
      ],
      "text/markdown": [
       "157131"
      ],
      "text/plain": [
       "[1] 157131"
      ]
     },
     "metadata": {},
     "output_type": "display_data"
    }
   ],
   "source": [
    "sum(!duplicated(longf$Feature[longf$cell!='bulk']))"
   ]
  },
  {
   "cell_type": "code",
   "execution_count": 32,
   "id": "bb09f018",
   "metadata": {},
   "outputs": [
    {
     "data": {
      "text/html": [
       "6901"
      ],
      "text/latex": [
       "6901"
      ],
      "text/markdown": [
       "6901"
      ],
      "text/plain": [
       "[1] 6901"
      ]
     },
     "metadata": {},
     "output_type": "display_data"
    },
    {
     "data": {
      "text/html": [
       "85"
      ],
      "text/latex": [
       "85"
      ],
      "text/markdown": [
       "85"
      ],
      "text/plain": [
       "[1] 85"
      ]
     },
     "metadata": {},
     "output_type": "display_data"
    }
   ],
   "source": [
    "sum(!duplicated(longf$Feature[longf$cell!='bulk' & longf$flag_fdr10==TRUE & longf$exclude==FALSE]))\n",
    "length(longf$Feature[longf$cell!='bulk' & longf$flag_fdr10==TRUE & longf$exclude==TRUE])"
   ]
  },
  {
   "cell_type": "code",
   "execution_count": 33,
   "id": "888d54c3",
   "metadata": {},
   "outputs": [
    {
     "data": {
      "text/html": [
       "20094"
      ],
      "text/latex": [
       "20094"
      ],
      "text/markdown": [
       "20094"
      ],
      "text/plain": [
       "[1] 20094"
      ]
     },
     "metadata": {},
     "output_type": "display_data"
    },
    {
     "data": {
      "text/html": [
       "126"
      ],
      "text/latex": [
       "126"
      ],
      "text/markdown": [
       "126"
      ],
      "text/plain": [
       "[1] 126"
      ]
     },
     "metadata": {},
     "output_type": "display_data"
    }
   ],
   "source": [
    "length(longf$Feature[  longf$flag_fdr10==TRUE])\n",
    "length(longf$Feature[ longf$flag_fdr10==TRUE & longf$exclude==TRUE])"
   ]
  },
  {
   "cell_type": "code",
   "execution_count": 30,
   "id": "300c2eca",
   "metadata": {},
   "outputs": [
    {
     "data": {
      "text/html": [
       "6916"
      ],
      "text/latex": [
       "6916"
      ],
      "text/markdown": [
       "6916"
      ],
      "text/plain": [
       "[1] 6916"
      ]
     },
     "metadata": {},
     "output_type": "display_data"
    },
    {
     "data": {
      "text/html": [
       "55"
      ],
      "text/latex": [
       "55"
      ],
      "text/markdown": [
       "55"
      ],
      "text/plain": [
       "[1] 55"
      ]
     },
     "metadata": {},
     "output_type": "display_data"
    }
   ],
   "source": [
    "length(unique(longf$Feature[longf$cell!='bulk' & longf$flag_fdr10==TRUE]))\n",
    "length(unique(longf$Feature[longf$cell!='bulk' & longf$flag_fdr10==TRUE & longf$exclude==TRUE]))"
   ]
  },
  {
   "cell_type": "code",
   "execution_count": 29,
   "id": "76caa204",
   "metadata": {},
   "outputs": [
    {
     "data": {
      "text/html": [
       "0.0055227080761484"
      ],
      "text/latex": [
       "0.0055227080761484"
      ],
      "text/markdown": [
       "0.0055227080761484"
      ],
      "text/plain": [
       "[1] 0.005522708"
      ]
     },
     "metadata": {},
     "output_type": "display_data"
    }
   ],
   "source": [
    "85/15391"
   ]
  },
  {
   "cell_type": "code",
   "execution_count": 34,
   "id": "0aa9cb86",
   "metadata": {},
   "outputs": [
    {
     "data": {
      "text/html": [
       "0.00627052851597492"
      ],
      "text/latex": [
       "0.00627052851597492"
      ],
      "text/markdown": [
       "0.00627052851597492"
      ],
      "text/plain": [
       "[1] 0.006270529"
      ]
     },
     "metadata": {},
     "output_type": "display_data"
    }
   ],
   "source": [
    "126/20094"
   ]
  },
  {
   "cell_type": "code",
   "execution_count": 31,
   "id": "f28e76fa",
   "metadata": {},
   "outputs": [
    {
     "data": {
      "text/html": [
       "0.00795257374204743"
      ],
      "text/latex": [
       "0.00795257374204743"
      ],
      "text/markdown": [
       "0.00795257374204743"
      ],
      "text/plain": [
       "[1] 0.007952574"
      ]
     },
     "metadata": {},
     "output_type": "display_data"
    }
   ],
   "source": [
    "55/6916"
   ]
  },
  {
   "cell_type": "code",
   "execution_count": 25,
   "id": "e8b72783",
   "metadata": {},
   "outputs": [
    {
     "data": {
      "text/html": [
       "0.0439187684161623"
      ],
      "text/latex": [
       "0.0439187684161623"
      ],
      "text/markdown": [
       "0.0439187684161623"
      ],
      "text/plain": [
       "[1] 0.04391877"
      ]
     },
     "metadata": {},
     "output_type": "display_data"
    }
   ],
   "source": [
    "6901/ 157131"
   ]
  },
  {
   "cell_type": "code",
   "execution_count": 35,
   "id": "408b5257",
   "metadata": {},
   "outputs": [],
   "source": [
    "subsig = subset(longf,flag_fdr10==T & exclude==F & cell!=\"bulk\" )"
   ]
  },
  {
   "cell_type": "code",
   "execution_count": 40,
   "id": "ee88298c",
   "metadata": {},
   "outputs": [
    {
     "data": {
      "text/html": [
       "805.578947368421"
      ],
      "text/latex": [
       "805.578947368421"
      ],
      "text/markdown": [
       "805.578947368421"
      ],
      "text/plain": [
       "[1] 805.5789"
      ]
     },
     "metadata": {},
     "output_type": "display_data"
    }
   ],
   "source": [
    "mean(table(subsig$cell))"
   ]
  },
  {
   "cell_type": "code",
   "execution_count": 41,
   "id": "a6c63d24",
   "metadata": {},
   "outputs": [
    {
     "data": {
      "text/html": [
       "486"
      ],
      "text/latex": [
       "486"
      ],
      "text/markdown": [
       "486"
      ],
      "text/plain": [
       "[1] 486"
      ]
     },
     "metadata": {},
     "output_type": "display_data"
    }
   ],
   "source": [
    "median(table(subsig$cell))"
   ]
  },
  {
   "cell_type": "code",
   "execution_count": 42,
   "id": "52583897",
   "metadata": {},
   "outputs": [
    {
     "data": {
      "text/plain": [
       "\n",
       "  act_cd4_t adaptive_NK           b         cDC       cMono  cyto_cd8_t \n",
       "       1341          41         666          72        2941         622 \n",
       "    cyto_nk       iMono       mem_b   mem_cd8_t         mkc        mono \n",
       "        741          42         163         228          31        3507 \n",
       "    naive_b naive_cd4_t naive_cd8_t      ncMono          nk           t \n",
       "        390         653         336         486         841        2128 \n",
       "       tReg \n",
       "         77 "
      ]
     },
     "metadata": {},
     "output_type": "display_data"
    }
   ],
   "source": [
    "table(subsig$cell)"
   ]
  },
  {
   "cell_type": "code",
   "execution_count": null,
   "id": "c4ff0e1c",
   "metadata": {},
   "outputs": [],
   "source": []
  }
 ],
 "metadata": {
  "kernelspec": {
   "display_name": "R 4.1",
   "language": "R",
   "name": "ir41"
  },
  "language_info": {
   "codemirror_mode": "r",
   "file_extension": ".r",
   "mimetype": "text/x-r-source",
   "name": "R",
   "pygments_lexer": "r",
   "version": "4.1.1"
  }
 },
 "nbformat": 4,
 "nbformat_minor": 5
}
