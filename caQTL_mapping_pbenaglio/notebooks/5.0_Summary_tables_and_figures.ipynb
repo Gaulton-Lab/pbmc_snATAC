{
 "cells": [
  {
   "cell_type": "code",
   "execution_count": 1,
   "id": "sudden-european",
   "metadata": {},
   "outputs": [],
   "source": [
    "suppressPackageStartupMessages(library(stringr))\n",
    "suppressPackageStartupMessages(library(DESeq2))\n",
    "suppressPackageStartupMessages(library(RColorBrewer))\n",
    "suppressPackageStartupMessages(library(limma))\n",
    "suppressPackageStartupMessages(library(beeswarm))\n",
    "suppressPackageStartupMessages(library(tidyr))\n",
    "suppressPackageStartupMessages(library(pheatmap))\n",
    "suppressPackageStartupMessages(library(data.table))\n"
   ]
  },
  {
   "cell_type": "markdown",
   "id": "acquired-correspondence",
   "metadata": {},
   "source": [
    "#### Create sumstas for both run2 ans run3: \n",
    "run2 includes also  sex and age as covariates"
   ]
  },
  {
   "cell_type": "code",
   "execution_count": 2,
   "id": "single-leather",
   "metadata": {},
   "outputs": [],
   "source": [
    "uniqueids   = readLines('/nfs/lab/publicdata/1kg_snps/ALL.wgs.phase3_sites.uniqueids')\n",
    "rsids       = readLines('/nfs/lab/publicdata/1kg_snps/ALL.wgs.phase3_sites.rsids')\n",
    "uniquechrid = paste0(\"chr\",uniqueids )"
   ]
  },
  {
   "cell_type": "markdown",
   "id": "appointed-plaintiff",
   "metadata": {},
   "source": [
    "### Broad populations"
   ]
  },
  {
   "cell_type": "code",
   "execution_count": 23,
   "id": "southwest-salon",
   "metadata": {},
   "outputs": [],
   "source": [
    "homedir = '/nfs/lab/projects/pbmc_snATAC/analysis_v2/rasqual_eur/broad/'"
   ]
  },
  {
   "cell_type": "code",
   "execution_count": 24,
   "id": "metallic-garden",
   "metadata": {},
   "outputs": [],
   "source": [
    "setwd(homedir)\n",
    "celltypes = c('b','mono','nk','t')"
   ]
  },
  {
   "cell_type": "code",
   "execution_count": 25,
   "id": "lonely-leonard",
   "metadata": {},
   "outputs": [],
   "source": [
    "celltypes_broad = celltypes"
   ]
  },
  {
   "cell_type": "code",
   "execution_count": 26,
   "id": "minor-hamilton",
   "metadata": {},
   "outputs": [],
   "source": [
    "RES = data.frame()\n",
    "for (c in celltypes) {\n",
    "tabname      = paste0(c, \"/Results_run3_lead.tsv\")\n",
    "results      = read.table(tabname, header=T, stringsAsFactors = F)\n",
    "    results$cell = c\n",
    "    RES = rbind(RES, results)\n",
    "    \n",
    "    }"
   ]
  },
  {
   "cell_type": "code",
   "execution_count": 27,
   "id": "loving-combine",
   "metadata": {},
   "outputs": [],
   "source": [
    "RES$exclude = RES$Sequencing_mapping_error_rate>0.1 | RES$Ref_allele_bias<0.2 | RES$Ref_allele_bias>0.8    \n"
   ]
  },
  {
   "cell_type": "code",
   "execution_count": 28,
   "id": "bronze-rubber",
   "metadata": {},
   "outputs": [
    {
     "data": {
      "text/html": [
       "5908"
      ],
      "text/latex": [
       "5908"
      ],
      "text/markdown": [
       "5908"
      ],
      "text/plain": [
       "[1] 5908"
      ]
     },
     "metadata": {},
     "output_type": "display_data"
    }
   ],
   "source": [
    "res_broad = RES\n",
    "\n",
    "sum(!duplicated(res_broad$Feature[res_broad$flag_fdr10 & res_broad$exclude==FALSE]))"
   ]
  },
  {
   "cell_type": "code",
   "execution_count": 29,
   "id": "adjacent-parish",
   "metadata": {},
   "outputs": [],
   "source": [
    "np1 = nv1 = c()\n",
    "for (cc in celltypes){\n",
    "\n",
    "res        =  read.table(paste0( cc, \"/Results_run3_all.tsv\"), header=T, stringsAsFactors = F)\n",
    "res        =  subset(res,res$rsID !=\"SKIPPED\")\n",
    "res$Q_value = 10^res$Log10_qval\n",
    "np1[cc]     = sum(!duplicated(res$Feature))\n",
    "nv1[cc]     = sum(!duplicated(res$rsID))\n",
    "\n",
    "colnames(res)[colnames(res)==\"rsID\"]<- \"varID\"\n",
    "colnames(res)[colnames(res)==\"P_VAl\"]<- \"P_value\"\n",
    "\n",
    "res$exclude = res$Sequencing_mapping_error_rate>0.1 | res$Ref_allele_bias<0.2 | res$Ref_allele_bias>0.8    \n",
    "res$Is_peak_caQTL  = res$Feature %in% RES$Feature[RES$flag_fdr10 & RES$cell==cc ]\n",
    "res$rsID = rsids[match(res$varID,uniquechrid)]\n",
    "res$rsID[is.na(res$rsID)]<-as.character(res$varID[is.na(res$rsID)])\n",
    "\n",
    "write.table(res, paste0(\"/nfs/lab/projects/pbmc_snATAC/analysis_v2/summarized_caqtls/run3/\", cc, \"_caqtl_sumstats_run3.tsv\"), sep=\"\\t\", quote=F, row.names=F)\n",
    "    }"
   ]
  },
  {
   "cell_type": "code",
   "execution_count": 30,
   "id": "approximate-hearts",
   "metadata": {},
   "outputs": [
    {
     "data": {
      "text/html": [
       "<style>\n",
       ".dl-inline {width: auto; margin:0; padding: 0}\n",
       ".dl-inline>dt, .dl-inline>dd {float: none; width: auto; display: inline-block}\n",
       ".dl-inline>dt::after {content: \":\\0020\"; padding-right: .5ex}\n",
       ".dl-inline>dt:not(:first-of-type) {padding-left: .5ex}\n",
       "</style><dl class=dl-inline><dt>b</dt><dd>45013</dd><dt>mono</dt><dd>128198</dd><dt>nk</dt><dd>51945</dd><dt>t</dt><dd>97382</dd></dl>\n"
      ],
      "text/latex": [
       "\\begin{description*}\n",
       "\\item[b] 45013\n",
       "\\item[mono] 128198\n",
       "\\item[nk] 51945\n",
       "\\item[t] 97382\n",
       "\\end{description*}\n"
      ],
      "text/markdown": [
       "b\n",
       ":   45013mono\n",
       ":   128198nk\n",
       ":   51945t\n",
       ":   97382\n",
       "\n"
      ],
      "text/plain": [
       "     b   mono     nk      t \n",
       " 45013 128198  51945  97382 "
      ]
     },
     "metadata": {},
     "output_type": "display_data"
    },
    {
     "data": {
      "text/html": [
       "<style>\n",
       ".dl-inline {width: auto; margin:0; padding: 0}\n",
       ".dl-inline>dt, .dl-inline>dd {float: none; width: auto; display: inline-block}\n",
       ".dl-inline>dt::after {content: \":\\0020\"; padding-right: .5ex}\n",
       ".dl-inline>dt:not(:first-of-type) {padding-left: .5ex}\n",
       "</style><dl class=dl-inline><dt>b</dt><dd>78846</dd><dt>mono</dt><dd>162639</dd><dt>nk</dt><dd>88050</dd><dt>t</dt><dd>134399</dd></dl>\n"
      ],
      "text/latex": [
       "\\begin{description*}\n",
       "\\item[b] 78846\n",
       "\\item[mono] 162639\n",
       "\\item[nk] 88050\n",
       "\\item[t] 134399\n",
       "\\end{description*}\n"
      ],
      "text/markdown": [
       "b\n",
       ":   78846mono\n",
       ":   162639nk\n",
       ":   88050t\n",
       ":   134399\n",
       "\n"
      ],
      "text/plain": [
       "     b   mono     nk      t \n",
       " 78846 162639  88050 134399 "
      ]
     },
     "metadata": {},
     "output_type": "display_data"
    }
   ],
   "source": [
    "np1\n",
    "nv1"
   ]
  },
  {
   "cell_type": "markdown",
   "id": "essential-pattern",
   "metadata": {},
   "source": [
    "### Fine populations"
   ]
  },
  {
   "cell_type": "code",
   "execution_count": 34,
   "id": "mighty-turner",
   "metadata": {},
   "outputs": [],
   "source": [
    "homedir = '/nfs/lab/projects/pbmc_snATAC/analysis_v2/rasqual_eur/fine/'\n",
    "setwd(homedir)\n",
    "celltypes   = list.files(homedir)[!grepl(\".txt\", list.files(homedir))]"
   ]
  },
  {
   "cell_type": "code",
   "execution_count": 35,
   "id": "unlikely-sheffield",
   "metadata": {},
   "outputs": [],
   "source": [
    "celltypes_fine = celltypes"
   ]
  },
  {
   "cell_type": "code",
   "execution_count": 42,
   "id": "747423f7",
   "metadata": {},
   "outputs": [
    {
     "name": "stdout",
     "output_type": "stream",
     "text": [
      "[1] \"act_cd4_t', 'adaptive_NK', 'cDC', 'cMono', 'cyto_cd8_t', 'cyto_nk', 'iMono', 'mem_b', 'mem_cd8_t', 'mkc', 'naive_b', 'naive_cd4_t', 'naive_cd8_t', 'ncMono', 'tReg\"\n"
     ]
    }
   ],
   "source": [
    "print(paste(celltypes_fine, collapse = \"', '\"))"
   ]
  },
  {
   "cell_type": "code",
   "execution_count": 33,
   "id": "cloudy-reading",
   "metadata": {},
   "outputs": [],
   "source": [
    "RES = data.frame()\n",
    "for (c in celltypes) {\n",
    "tabname      = paste0(c, \"/Results_run3_lead.tsv\")\n",
    "results      = read.table(tabname, header=T, stringsAsFactors = F)\n",
    "    results$cell = c\n",
    "    RES = rbind(RES, results)\n",
    "    }"
   ]
  },
  {
   "cell_type": "code",
   "execution_count": 34,
   "id": "serial-kidney",
   "metadata": {},
   "outputs": [],
   "source": [
    "RES$exclude = RES$Sequencing_mapping_error_rate>0.1 | RES$Ref_allele_bias<0.2 | RES$Ref_allele_bias>0.8    "
   ]
  },
  {
   "cell_type": "code",
   "execution_count": 36,
   "id": "looking-visiting",
   "metadata": {},
   "outputs": [
    {
     "data": {
      "text/html": [
       "5272"
      ],
      "text/latex": [
       "5272"
      ],
      "text/markdown": [
       "5272"
      ],
      "text/plain": [
       "[1] 5272"
      ]
     },
     "metadata": {},
     "output_type": "display_data"
    }
   ],
   "source": [
    "res_fine = RES\n",
    "sum(!duplicated(res_fine$Feature[res_fine$flag_fdr10 & res_fine$exclude==FALSE]))"
   ]
  },
  {
   "cell_type": "code",
   "execution_count": 37,
   "id": "wicked-findings",
   "metadata": {},
   "outputs": [],
   "source": [
    "np2 = nv2 = c()\n",
    "for (cc in celltypes){\n",
    "\n",
    "res        =  read.table(paste0( cc, \"/Results_run3_all.tsv\"), header=T, stringsAsFactors = F)\n",
    "res        =  subset(res,res$rsID !=\"SKIPPED\")\n",
    "res$Q_value = 10^res$Log10_qval\n",
    "np2[cc]     = sum(!duplicated(res$Feature))\n",
    "nv2[cc]     = sum(!duplicated(res$rsID))\n",
    "\n",
    "colnames(res)[colnames(res)==\"rsID\"]<- \"varID\"\n",
    "colnames(res)[colnames(res)==\"P_VAl\"]<- \"P_value\"\n",
    "\n",
    "res$exclude = res$Sequencing_mapping_error_rate>0.1 | res$Ref_allele_bias<0.2 | res$Ref_allele_bias>0.8    \n",
    "res$Is_peak_caQTL  = res$Feature %in% RES$Feature[RES$flag_fdr10 & RES$cell==cc  ]\n",
    "res$rsID = rsids[match(res$varID,uniquechrid)]\n",
    "res$rsID[is.na(res$rsID)]<-as.character(res$varID[is.na(res$rsID)])\n",
    "\n",
    "write.table(res, paste0(\"/nfs/lab/projects/pbmc_snATAC/analysis_v2/summarized_caqtls/run3/\", cc, \"_caqtl_sumstats_run3.tsv\"), sep=\"\\t\", quote=F, row.names=F)\n",
    "    }"
   ]
  },
  {
   "cell_type": "code",
   "execution_count": 38,
   "id": "prostate-breeding",
   "metadata": {},
   "outputs": [
    {
     "data": {
      "text/html": [
       "<style>\n",
       ".list-inline {list-style: none; margin:0; padding: 0}\n",
       ".list-inline>li {display: inline-block}\n",
       ".list-inline>li:not(:last-child)::after {content: \"\\00b7\"; padding: 0 .5ex}\n",
       "</style>\n",
       "<ol class=list-inline><li>49396.4736842105</li><li>80029.3684210526</li></ol>\n"
      ],
      "text/latex": [
       "\\begin{enumerate*}\n",
       "\\item 49396.4736842105\n",
       "\\item 80029.3684210526\n",
       "\\end{enumerate*}\n"
      ],
      "text/markdown": [
       "1. 49396.4736842105\n",
       "2. 80029.3684210526\n",
       "\n",
       "\n"
      ],
      "text/plain": [
       "[1] 49396.47 80029.37"
      ]
     },
     "metadata": {},
     "output_type": "display_data"
    }
   ],
   "source": [
    "numb = cbind(c(np1, np2),c( nv1, nv2))\n",
    "colMeans(numb)"
   ]
  },
  {
   "cell_type": "code",
   "execution_count": 39,
   "id": "advised-survival",
   "metadata": {},
   "outputs": [],
   "source": [
    "res_tot = rbind(res_broad, res_fine)"
   ]
  },
  {
   "cell_type": "markdown",
   "id": "painful-infection",
   "metadata": {},
   "source": [
    "### Pseudobulk"
   ]
  },
  {
   "cell_type": "code",
   "execution_count": 40,
   "id": "infrared-dictionary",
   "metadata": {},
   "outputs": [],
   "source": [
    "setwd('/nfs/lab/projects/pbmc_snATAC/analysis_v2/rasqual_eur/bulk/')\n",
    "RES      = read.table(\"bulk/Results_run3_lead.tsv\", header=T, stringsAsFactors = F)\n",
    "RES$cell = 'bulk'"
   ]
  },
  {
   "cell_type": "code",
   "execution_count": 41,
   "id": "racial-webmaster",
   "metadata": {},
   "outputs": [],
   "source": [
    "RES$exclude = RES$Sequencing_mapping_error_rate>0.1 | RES$Ref_allele_bias<0.2 | RES$Ref_allele_bias>0.8    "
   ]
  },
  {
   "cell_type": "code",
   "execution_count": 42,
   "id": "alternative-shadow",
   "metadata": {},
   "outputs": [],
   "source": [
    "cc = \"bulk\"\n",
    "res        =  read.table(paste0( cc, \"/Results_run3_all.tsv\"), header=T, stringsAsFactors = F)\n",
    "res        =  subset(res,res$rsID !=\"SKIPPED\")\n",
    "res$Q_value = 10^res$Log10_qval\n",
    "\n",
    "colnames(res)[colnames(res)==\"rsID\"]<- \"varID\"\n",
    "colnames(res)[colnames(res)==\"P_VAl\"]<- \"P_value\"\n",
    "\n",
    "res$exclude = res$Sequencing_mapping_error_rate>0.1 | res$Ref_allele_bias<0.2 | res$Ref_allele_bias>0.8    \n",
    "res$Is_peak_caQTL  = res$Feature %in% RES$Feature[RES$flag_fdr10 & RES$cell==cc  ]\n",
    "res$rsID = rsids[match(res$varID,uniquechrid)]\n",
    "res$rsID[is.na(res$rsID)]<-as.character(res$varID[is.na(res$rsID)])\n",
    "\n",
    "write.table(res, paste0(\"/nfs/lab/projects/pbmc_snATAC/analysis_v2/summarized_caqtls/run3/\", cc, \"_caqtl_sumstats_run3.tsv\"), sep=\"\\t\", quote=F, row.names=F)\n"
   ]
  },
  {
   "cell_type": "code",
   "execution_count": 43,
   "id": "uniform-wireless",
   "metadata": {},
   "outputs": [
    {
     "data": {
      "text/html": [
       "4662"
      ],
      "text/latex": [
       "4662"
      ],
      "text/markdown": [
       "4662"
      ],
      "text/plain": [
       "[1] 4662"
      ]
     },
     "metadata": {},
     "output_type": "display_data"
    }
   ],
   "source": [
    "sum(!duplicated(RES$Feature[RES$flag_fdr10 & RES$exclude==FALSE]))"
   ]
  },
  {
   "cell_type": "markdown",
   "id": "educated-simulation",
   "metadata": {},
   "source": [
    "### Total"
   ]
  },
  {
   "cell_type": "code",
   "execution_count": 44,
   "id": "engaging-couple",
   "metadata": {},
   "outputs": [],
   "source": [
    "res_tot = rbind(res_tot, RES)"
   ]
  },
  {
   "cell_type": "code",
   "execution_count": 46,
   "id": "lined-majority",
   "metadata": {},
   "outputs": [],
   "source": [
    "colnames(res_tot)[colnames(res_tot)==\"rsID\"]<- \"varID\"\n",
    "res_tot$rsID = rsids[match(res_tot$varID,uniquechrid)]\n",
    "res_tot$rsID[is.na(res_tot$rsID)]<-as.character(res_tot$varID[is.na(res_tot$rsID)])"
   ]
  },
  {
   "cell_type": "code",
   "execution_count": 47,
   "id": "consolidated-newton",
   "metadata": {},
   "outputs": [],
   "source": [
    "setwd(\"/nfs/lab/projects/pbmc_snATAC/analysis_v2/summarized_caqtls/run3\")"
   ]
  },
  {
   "cell_type": "code",
   "execution_count": 48,
   "id": "copyrighted-honey",
   "metadata": {},
   "outputs": [],
   "source": [
    "write.table(res_tot, \"EUR_caqtl_leads_run3.tsv\", sep=\"\\t\", quote=F, row.names=F)"
   ]
  },
  {
   "cell_type": "code",
   "execution_count": 49,
   "id": "mental-spending",
   "metadata": {},
   "outputs": [
    {
     "data": {
      "text/plain": [
       "\n",
       "  act_cd4_t adaptive_NK           b        bulk         cDC       cMono \n",
       "      62196       17199       45013      194846       24092      116192 \n",
       " cyto_cd8_t     cyto_nk       iMono       mem_b   mem_cd8_t         mkc \n",
       "      46916       48776       35454       27930       28332       11892 \n",
       "       mono     naive_b naive_cd4_t naive_cd8_t      ncMono          nk \n",
       "     128198       35363       49151       37433       54300       51945 \n",
       "          t        tReg \n",
       "      97382       20769 "
      ]
     },
     "metadata": {},
     "output_type": "display_data"
    }
   ],
   "source": [
    "table(res_tot$cell)"
   ]
  },
  {
   "cell_type": "code",
   "execution_count": 50,
   "id": "tribal-hello",
   "metadata": {},
   "outputs": [
    {
     "data": {
      "text/plain": [
       "   Min. 1st Qu.  Median    Mean 3rd Qu.    Max. \n",
       "  1.000   2.000   3.000   4.563   6.000 133.000 "
      ]
     },
     "metadata": {},
     "output_type": "display_data"
    }
   ],
   "source": [
    "summary(res_tot$No_tested_SNPs)"
   ]
  },
  {
   "cell_type": "code",
   "execution_count": 51,
   "id": "active-yeast",
   "metadata": {},
   "outputs": [
    {
     "data": {
      "text/plain": [
       "   Min. 1st Qu.  Median    Mean 3rd Qu.    Max. \n",
       "  1.000   2.000   3.000   4.469   6.000 133.000 "
      ]
     },
     "metadata": {},
     "output_type": "display_data"
    }
   ],
   "source": [
    "summary(res_tot$No_tested_SNPs[res_tot$cell!=\"bulk\"])"
   ]
  },
  {
   "cell_type": "markdown",
   "id": "mysterious-parks",
   "metadata": {},
   "source": [
    "### check examples"
   ]
  },
  {
   "cell_type": "code",
   "execution_count": 52,
   "id": "located-patrick",
   "metadata": {},
   "outputs": [],
   "source": [
    "examples = read.table('../../example_boxplots/snp_list.peaks.bed')\n",
    "\n",
    "examples$snps  = paste0(examples$V1, \":\" , examples$V3,\":\" )\n",
    "examples$peaks = paste0(examples$V4, \":\" , examples$V5 -1 ,\"-\" ,examples$V6) \n",
    "\n",
    "examples$CAT = c('private','private','private','private','divergent', 'divergent', 'coacc', \n",
    "'gwas', 'gwas', 'gwas','gwas','gwas','private','private','private','private','divergent')\n",
    "examples$important = c(F,F,F,F,F,T,F,T,T,T,T,T,F,F,F,F,F)"
   ]
  },
  {
   "cell_type": "code",
   "execution_count": 53,
   "id": "pretty-sister",
   "metadata": {},
   "outputs": [],
   "source": [
    "exm = merge(examples[,7:10],res_tot[,c('Feature', 'rsID','P_VAl','flag_fdr10','cell')], by.x= 2, by.y=1, all.x=T)"
   ]
  },
  {
   "cell_type": "code",
   "execution_count": 54,
   "id": "flush-berry",
   "metadata": {},
   "outputs": [],
   "source": [
    "exm = merge(examples[,7:10],res_tot[,c('Feature', 'rsID','P_VAl','flag_fdr10','cell', 'exclude')], by.x= 2, by.y=1, all.x=T)"
   ]
  },
  {
   "cell_type": "code",
   "execution_count": 55,
   "id": "correct-india",
   "metadata": {},
   "outputs": [],
   "source": [
    "exm$qtl_cell = exm$cell\n",
    "exm$qtl_cell[exm$flag_fdr10==FALSE | exm$exclude==TRUE] <- \".\""
   ]
  },
  {
   "cell_type": "code",
   "execution_count": 56,
   "id": "critical-range",
   "metadata": {},
   "outputs": [],
   "source": [
    "ag = aggregate(qtl_cell~peaks, exm, paste, collapse=\",\")"
   ]
  },
  {
   "cell_type": "code",
   "execution_count": 57,
   "id": "celtic-representative",
   "metadata": {},
   "outputs": [],
   "source": [
    "agm = merge(examples[,7:10], ag, by.x=2, by.y=1)"
   ]
  },
  {
   "cell_type": "code",
   "execution_count": 58,
   "id": "loved-hampshire",
   "metadata": {},
   "outputs": [],
   "source": [
    "agm = agm[order(-agm$important,agm$CAT ),]"
   ]
  },
  {
   "cell_type": "code",
   "execution_count": 60,
   "id": "heated-tribe",
   "metadata": {},
   "outputs": [],
   "source": [
    "res_sig = subset(res_tot, flag_fdr10==T & exclude==FALSE)"
   ]
  },
  {
   "cell_type": "code",
   "execution_count": 61,
   "id": "found-jacksonville",
   "metadata": {},
   "outputs": [
    {
     "data": {
      "text/html": [
       "8168"
      ],
      "text/latex": [
       "8168"
      ],
      "text/markdown": [
       "8168"
      ],
      "text/plain": [
       "[1] 8168"
      ]
     },
     "metadata": {},
     "output_type": "display_data"
    }
   ],
   "source": [
    "sum(!duplicated(res_sig$Feature))"
   ]
  },
  {
   "cell_type": "code",
   "execution_count": 62,
   "id": "smooth-popularity",
   "metadata": {},
   "outputs": [
    {
     "data": {
      "text/html": [
       "6901"
      ],
      "text/latex": [
       "6901"
      ],
      "text/markdown": [
       "6901"
      ],
      "text/plain": [
       "[1] 6901"
      ]
     },
     "metadata": {},
     "output_type": "display_data"
    }
   ],
   "source": [
    "sum(!duplicated(res_sig$Feature[res_sig$cell!=\"bulk\"]))"
   ]
  },
  {
   "cell_type": "markdown",
   "id": "bearing-journalism",
   "metadata": {},
   "source": [
    "### Number of qtls vs cell number"
   ]
  },
  {
   "cell_type": "code",
   "execution_count": 63,
   "id": "smart-packaging",
   "metadata": {},
   "outputs": [],
   "source": [
    "clrs = read.table(\"/nfs/lab/projects/pbmc_snATAC/analysis_v2/peaks/color_scheme.tsv\")\n",
    "\n",
    "#clrs = rbind(clrs, matrix( c('#FF7F00', 'b','#A65628','nk','#A6D854','mono', '#756BB1', \"t\"), ncol=2, byrow=T))\n",
    "clrs = rbind(clrs, matrix( c('orange2', 'b','tan4','nk','#7FC97F','mono', 'magenta4', \"t\"), ncol=2, byrow=T))\n",
    "\n",
    "\n",
    "celln = read.table(\"/nfs/lab/projects/pbmc_snATAC/analysis_v2/peaks/pbmc1-15_clusterLabels.txt\", \n",
    "                   row.names=1, sep=\"\\t\", header=T)  \n",
    "\n",
    "fine = table(celln$sample, celln$fine_populations)\n",
    "fine = fine [ -c(1,6,11), ]\n",
    "fine_sum = colSums(fine)\n",
    "broad = table(celln$sample, celln$broad_populations_2)\n",
    "broad = broad [ -c(1,6,11), ]\n",
    "broad_sum = colSums(broad)"
   ]
  },
  {
   "cell_type": "code",
   "execution_count": 64,
   "id": "therapeutic-halifax",
   "metadata": {},
   "outputs": [],
   "source": [
    "dt = data.frame(cell_number = c(fine_sum,broad_sum ), celltypes= c(names(fine_sum) , names(broad_sum)))\n",
    "dt = merge(dt, clrs, by=2)\n",
    "qtls= as.data.frame(table(res_sig$cell))\n",
    "dt = merge(dt, qtls, by=1 )\n",
    "dt = dt[!duplicated(dt),]\n",
    "dt$broad = FALSE\n",
    "dt$broad[dt$celltypes %in% c('b','mono','nk','t')] = TRUE"
   ]
  },
  {
   "cell_type": "code",
   "execution_count": 65,
   "id": "respective-amino",
   "metadata": {},
   "outputs": [
    {
     "data": {
      "text/html": [
       "<table class=\"dataframe\">\n",
       "<caption>A data.frame: 19 × 5</caption>\n",
       "<thead>\n",
       "\t<tr><th></th><th scope=col>celltypes</th><th scope=col>cell_number</th><th scope=col>V1</th><th scope=col>Freq</th><th scope=col>broad</th></tr>\n",
       "\t<tr><th></th><th scope=col>&lt;chr&gt;</th><th scope=col>&lt;dbl&gt;</th><th scope=col>&lt;chr&gt;</th><th scope=col>&lt;int&gt;</th><th scope=col>&lt;lgl&gt;</th></tr>\n",
       "</thead>\n",
       "<tbody>\n",
       "\t<tr><th scope=row>1</th><td>act_cd4_t  </td><td>12103</td><td>#F781BF      </td><td>1341</td><td>FALSE</td></tr>\n",
       "\t<tr><th scope=row>2</th><td>adaptive_NK</td><td>  732</td><td>#F1E2CC      </td><td>  41</td><td>FALSE</td></tr>\n",
       "\t<tr><th scope=row>3</th><td>b          </td><td> 4720</td><td>orange2      </td><td> 666</td><td> TRUE</td></tr>\n",
       "\t<tr><th scope=row>4</th><td>cDC        </td><td>  709</td><td>darkcyan     </td><td>  72</td><td>FALSE</td></tr>\n",
       "\t<tr><th scope=row>5</th><td>cMono      </td><td>17505</td><td>darkseagreen2</td><td>2941</td><td>FALSE</td></tr>\n",
       "\t<tr><th scope=row>6</th><td>cyto_cd8_t </td><td> 5939</td><td>#1F78B4      </td><td> 622</td><td>FALSE</td></tr>\n",
       "\t<tr><th scope=row>7</th><td>cyto_nk    </td><td> 6338</td><td>#A65628      </td><td> 741</td><td>FALSE</td></tr>\n",
       "\t<tr><th scope=row>8</th><td>iMono      </td><td> 2121</td><td>green4       </td><td>  42</td><td>FALSE</td></tr>\n",
       "\t<tr><th scope=row>9</th><td>mem_b      </td><td> 1480</td><td>#FF7F00      </td><td> 163</td><td>FALSE</td></tr>\n",
       "\t<tr><th scope=row>10</th><td>mem_cd8_t  </td><td> 2109</td><td>deepskyblue2 </td><td> 228</td><td>FALSE</td></tr>\n",
       "\t<tr><th scope=row>11</th><td>mkc        </td><td>  859</td><td>#BC80BD      </td><td>  31</td><td>FALSE</td></tr>\n",
       "\t<tr><th scope=row>13</th><td>mono       </td><td>24067</td><td>#7FC97F      </td><td>3507</td><td> TRUE</td></tr>\n",
       "\t<tr><th scope=row>14</th><td>naive_b    </td><td> 3240</td><td>#FDC086      </td><td> 390</td><td>FALSE</td></tr>\n",
       "\t<tr><th scope=row>15</th><td>naive_cd4_t</td><td> 9921</td><td>#E7298A      </td><td> 653</td><td>FALSE</td></tr>\n",
       "\t<tr><th scope=row>16</th><td>naive_cd8_t</td><td> 4543</td><td>#B3CDE3      </td><td> 336</td><td>FALSE</td></tr>\n",
       "\t<tr><th scope=row>17</th><td>ncMono     </td><td> 3732</td><td>#A6D854      </td><td> 486</td><td>FALSE</td></tr>\n",
       "\t<tr><th scope=row>18</th><td>nk         </td><td> 7070</td><td>tan4         </td><td> 841</td><td> TRUE</td></tr>\n",
       "\t<tr><th scope=row>19</th><td>t          </td><td>36262</td><td>magenta4     </td><td>2128</td><td> TRUE</td></tr>\n",
       "\t<tr><th scope=row>20</th><td>tReg       </td><td> 1647</td><td>red          </td><td>  77</td><td>FALSE</td></tr>\n",
       "</tbody>\n",
       "</table>\n"
      ],
      "text/latex": [
       "A data.frame: 19 × 5\n",
       "\\begin{tabular}{r|lllll}\n",
       "  & celltypes & cell\\_number & V1 & Freq & broad\\\\\n",
       "  & <chr> & <dbl> & <chr> & <int> & <lgl>\\\\\n",
       "\\hline\n",
       "\t1 & act\\_cd4\\_t   & 12103 & \\#F781BF       & 1341 & FALSE\\\\\n",
       "\t2 & adaptive\\_NK &   732 & \\#F1E2CC       &   41 & FALSE\\\\\n",
       "\t3 & b           &  4720 & orange2       &  666 &  TRUE\\\\\n",
       "\t4 & cDC         &   709 & darkcyan      &   72 & FALSE\\\\\n",
       "\t5 & cMono       & 17505 & darkseagreen2 & 2941 & FALSE\\\\\n",
       "\t6 & cyto\\_cd8\\_t  &  5939 & \\#1F78B4       &  622 & FALSE\\\\\n",
       "\t7 & cyto\\_nk     &  6338 & \\#A65628       &  741 & FALSE\\\\\n",
       "\t8 & iMono       &  2121 & green4        &   42 & FALSE\\\\\n",
       "\t9 & mem\\_b       &  1480 & \\#FF7F00       &  163 & FALSE\\\\\n",
       "\t10 & mem\\_cd8\\_t   &  2109 & deepskyblue2  &  228 & FALSE\\\\\n",
       "\t11 & mkc         &   859 & \\#BC80BD       &   31 & FALSE\\\\\n",
       "\t13 & mono        & 24067 & \\#7FC97F       & 3507 &  TRUE\\\\\n",
       "\t14 & naive\\_b     &  3240 & \\#FDC086       &  390 & FALSE\\\\\n",
       "\t15 & naive\\_cd4\\_t &  9921 & \\#E7298A       &  653 & FALSE\\\\\n",
       "\t16 & naive\\_cd8\\_t &  4543 & \\#B3CDE3       &  336 & FALSE\\\\\n",
       "\t17 & ncMono      &  3732 & \\#A6D854       &  486 & FALSE\\\\\n",
       "\t18 & nk          &  7070 & tan4          &  841 &  TRUE\\\\\n",
       "\t19 & t           & 36262 & magenta4      & 2128 &  TRUE\\\\\n",
       "\t20 & tReg        &  1647 & red           &   77 & FALSE\\\\\n",
       "\\end{tabular}\n"
      ],
      "text/markdown": [
       "\n",
       "A data.frame: 19 × 5\n",
       "\n",
       "| <!--/--> | celltypes &lt;chr&gt; | cell_number &lt;dbl&gt; | V1 &lt;chr&gt; | Freq &lt;int&gt; | broad &lt;lgl&gt; |\n",
       "|---|---|---|---|---|---|\n",
       "| 1 | act_cd4_t   | 12103 | #F781BF       | 1341 | FALSE |\n",
       "| 2 | adaptive_NK |   732 | #F1E2CC       |   41 | FALSE |\n",
       "| 3 | b           |  4720 | orange2       |  666 |  TRUE |\n",
       "| 4 | cDC         |   709 | darkcyan      |   72 | FALSE |\n",
       "| 5 | cMono       | 17505 | darkseagreen2 | 2941 | FALSE |\n",
       "| 6 | cyto_cd8_t  |  5939 | #1F78B4       |  622 | FALSE |\n",
       "| 7 | cyto_nk     |  6338 | #A65628       |  741 | FALSE |\n",
       "| 8 | iMono       |  2121 | green4        |   42 | FALSE |\n",
       "| 9 | mem_b       |  1480 | #FF7F00       |  163 | FALSE |\n",
       "| 10 | mem_cd8_t   |  2109 | deepskyblue2  |  228 | FALSE |\n",
       "| 11 | mkc         |   859 | #BC80BD       |   31 | FALSE |\n",
       "| 13 | mono        | 24067 | #7FC97F       | 3507 |  TRUE |\n",
       "| 14 | naive_b     |  3240 | #FDC086       |  390 | FALSE |\n",
       "| 15 | naive_cd4_t |  9921 | #E7298A       |  653 | FALSE |\n",
       "| 16 | naive_cd8_t |  4543 | #B3CDE3       |  336 | FALSE |\n",
       "| 17 | ncMono      |  3732 | #A6D854       |  486 | FALSE |\n",
       "| 18 | nk          |  7070 | tan4          |  841 |  TRUE |\n",
       "| 19 | t           | 36262 | magenta4      | 2128 |  TRUE |\n",
       "| 20 | tReg        |  1647 | red           |   77 | FALSE |\n",
       "\n"
      ],
      "text/plain": [
       "   celltypes   cell_number V1            Freq broad\n",
       "1  act_cd4_t   12103       #F781BF       1341 FALSE\n",
       "2  adaptive_NK   732       #F1E2CC         41 FALSE\n",
       "3  b            4720       orange2        666  TRUE\n",
       "4  cDC           709       darkcyan        72 FALSE\n",
       "5  cMono       17505       darkseagreen2 2941 FALSE\n",
       "6  cyto_cd8_t   5939       #1F78B4        622 FALSE\n",
       "7  cyto_nk      6338       #A65628        741 FALSE\n",
       "8  iMono        2121       green4          42 FALSE\n",
       "9  mem_b        1480       #FF7F00        163 FALSE\n",
       "10 mem_cd8_t    2109       deepskyblue2   228 FALSE\n",
       "11 mkc           859       #BC80BD         31 FALSE\n",
       "13 mono        24067       #7FC97F       3507  TRUE\n",
       "14 naive_b      3240       #FDC086        390 FALSE\n",
       "15 naive_cd4_t  9921       #E7298A        653 FALSE\n",
       "16 naive_cd8_t  4543       #B3CDE3        336 FALSE\n",
       "17 ncMono       3732       #A6D854        486 FALSE\n",
       "18 nk           7070       tan4           841  TRUE\n",
       "19 t           36262       magenta4      2128  TRUE\n",
       "20 tReg         1647       red             77 FALSE"
      ]
     },
     "metadata": {},
     "output_type": "display_data"
    }
   ],
   "source": [
    "dt"
   ]
  },
  {
   "cell_type": "code",
   "execution_count": 66,
   "id": "surrounded-pierre",
   "metadata": {},
   "outputs": [
    {
     "data": {
      "text/html": [
       "<strong>png:</strong> 2"
      ],
      "text/latex": [
       "\\textbf{png:} 2"
      ],
      "text/markdown": [
       "**png:** 2"
      ],
      "text/plain": [
       "png \n",
       "  2 "
      ]
     },
     "metadata": {},
     "output_type": "display_data"
    }
   ],
   "source": [
    "pdf(\"../../figures/Cell_numbers_vsqtls.pdf\")\n",
    "par(mfrow=c(1,2), pin=c(2,3))\n",
    "plot(Freq~cell_number, dt, pch=c(21,24)[dt$broad+1], cex=1.5, bg = as.character(V1), \n",
    "     xlab = \"#cells\", ylab = \"# caQTLs\", las=1 , cex.axis=0.8)\n",
    "\n",
    "plot.new()\n",
    "legend(\"center\", legend =clrs[,2], y.intersp = 0.75,\n",
    "       pch=c(rep(21,17 ),rep(24,4)), cex=1.2, pt.bg=as.character(clrs[,1]) )\n",
    "dev.off()"
   ]
  },
  {
   "cell_type": "markdown",
   "id": "modular-arabic",
   "metadata": {},
   "source": [
    "### Correlation of covariates"
   ]
  },
  {
   "cell_type": "code",
   "execution_count": 70,
   "id": "valuable-marijuana",
   "metadata": {},
   "outputs": [],
   "source": [
    "library(pheatmap)"
   ]
  },
  {
   "cell_type": "code",
   "execution_count": 245,
   "id": "representative-discount",
   "metadata": {},
   "outputs": [],
   "source": [
    "setwd('/nfs/lab/projects/pbmc_snATAC/analysis_v2/figures/')"
   ]
  },
  {
   "cell_type": "code",
   "execution_count": 246,
   "id": "banner-ecuador",
   "metadata": {},
   "outputs": [],
   "source": [
    "dir.create(\"correlation_covariates\")"
   ]
  },
  {
   "cell_type": "code",
   "execution_count": 200,
   "id": "completed-wholesale",
   "metadata": {},
   "outputs": [],
   "source": [
    "dir  = \"/nfs/lab/projects/pbmc_snATAC/analysis_v2/rasqual_eur/\""
   ]
  },
  {
   "cell_type": "code",
   "execution_count": 254,
   "id": "finnish-problem",
   "metadata": {},
   "outputs": [],
   "source": [
    "for (reso in c( 'broad',  'fine', 'bulk')){\n",
    "homedir = paste0(dir, reso)\n",
    "celltypes   = list.files(homedir)[!grepl(\".txt\", list.files(homedir))]\n",
    "    for (cell in celltypes){\n",
    "\n",
    "outfile  = paste0('correlation_covariates/corr_',cell, \".pdf\" )\n",
    "cov      = read.table(paste0(dir, reso, \"/\", cell, \"/covariates.\", cell , \".txt\"))\n",
    "n        = ncol(cov)\n",
    "known    = c(\"sizefact\" ,\"age\", \"sex\", \"PC1\", \"PC2\", 'PC3', 'PC4')\n",
    "colnames(cov)[c(1,(n-5):n)]<-known \n",
    "unknown  = colnames(cov)[(2:(n-6))]\n",
    "co       = cor(cov)\n",
    "co       = co[known ,unknown]\n",
    "\n",
    "numb     = round(co,2)\n",
    "numb[numb<0.1]<- \"\"\n",
    "\n",
    "pheatmap(co, display_numbers = numb, cluster_rows = F, cellwidth = 30,cellheight = 15,main = cell,\n",
    "         cluster_cols = F,fontsize_number = 8, \n",
    "         file =outfile )\n",
    "}\n",
    "}"
   ]
  },
  {
   "cell_type": "code",
   "execution_count": 244,
   "id": "opponent-curve",
   "metadata": {},
   "outputs": [
    {
     "data": {
      "text/html": [
       "'/nfs/lab/projects/pbmc_snATAC/analysis_v2/rasqual_eur/bulk'"
      ],
      "text/latex": [
       "'/nfs/lab/projects/pbmc\\_snATAC/analysis\\_v2/rasqual\\_eur/bulk'"
      ],
      "text/markdown": [
       "'/nfs/lab/projects/pbmc_snATAC/analysis_v2/rasqual_eur/bulk'"
      ],
      "text/plain": [
       "[1] \"/nfs/lab/projects/pbmc_snATAC/analysis_v2/rasqual_eur/bulk\""
      ]
     },
     "metadata": {},
     "output_type": "display_data"
    }
   ],
   "source": [
    "getwd()"
   ]
  },
  {
   "cell_type": "markdown",
   "id": "representative-samba",
   "metadata": {},
   "source": [
    "### Venn diagram "
   ]
  },
  {
   "cell_type": "code",
   "execution_count": 71,
   "id": "caroline-logan",
   "metadata": {},
   "outputs": [],
   "source": [
    "res_tot$signif = res_tot$flag_fdr10 & res_tot$exclude==FALSE\n",
    "\n",
    "wide = spread(data = res_tot[,c('Feature', 'cell', 'signif')], key=cell, value =signif )"
   ]
  },
  {
   "cell_type": "code",
   "execution_count": 73,
   "id": "uniform-nickname",
   "metadata": {},
   "outputs": [],
   "source": [
    "v = vennCounts (data.frame(fine=rowSums(wide[,celltypes_fine],na.rm=T)>0,\n",
    "                 broad=rowSums(wide[,celltypes_broad],na.rm=T)>0,\n",
    "                          bulk=wide[,\"bulk\"] ) )\n",
    "\n",
    "palette = c(brewer.pal( 6, \"Paired\")[c(2,6)], \"gray\")\n"
   ]
  },
  {
   "cell_type": "code",
   "execution_count": 74,
   "id": "bored-hardware",
   "metadata": {},
   "outputs": [
    {
     "data": {
      "image/png": "[encoded data removed]",
      "text/plain": [
       "plot without title"
      ]
     },
     "metadata": {
      "image/png": {
       "height": 420,
       "width": 420
      }
     },
     "output_type": "display_data"
    }
   ],
   "source": [
    "vennDiagram(v,circle.col = palette, lwd=2,  cex=1.2)"
   ]
  },
  {
   "cell_type": "code",
   "execution_count": 75,
   "id": "african-hunter",
   "metadata": {},
   "outputs": [],
   "source": [
    "allcells =c(\"mono\",\"t\", \"b\", \"nk\" , celltypes)"
   ]
  },
  {
   "cell_type": "code",
   "execution_count": 76,
   "id": "alone-change",
   "metadata": {},
   "outputs": [],
   "source": [
    "pl =data.frame(sapply(allcells, function(c) data.frame( not_bulk=sum(rowSums(subset(wide[,c('bulk',c)], wide[,c]==T),na.rm=T )==1),\n",
    "                                                    bulk=sum(rowSums(subset(wide[,c('bulk',c)], wide[,c]==T),na.rm=T )==2))))\n",
    "p = matrix(unlist(pl), nrow=2)\n",
    "colnames(p) = colnames(pl)\n",
    "p = p[,order(-colSums(p))]"
   ]
  },
  {
   "cell_type": "code",
   "execution_count": 77,
   "id": "authentic-nation",
   "metadata": {},
   "outputs": [],
   "source": [
    "nms = colnames(p)\n",
    "colnames(p)= NULL"
   ]
  },
  {
   "cell_type": "code",
   "execution_count": 78,
   "id": "located-provider",
   "metadata": {},
   "outputs": [],
   "source": [
    "tab = rowSums(wide[,celltypes],na.rm=T)\n",
    "tab[tab>=6] = '6+'\n",
    "b_micro=table(tab)[-1]\n",
    "b_macro=table(rowSums(wide[,c(\"mono\",\"t\", \"b\", \"nk\")],na.rm=T))[-1]"
   ]
  },
  {
   "cell_type": "code",
   "execution_count": 79,
   "id": "varied-raising",
   "metadata": {},
   "outputs": [
    {
     "data": {
      "text/html": [
       "'/nfs/lab/projects/pbmc_snATAC/analysis_v2/summarized_caqtls/run3'"
      ],
      "text/latex": [
       "'/nfs/lab/projects/pbmc\\_snATAC/analysis\\_v2/summarized\\_caqtls/run3'"
      ],
      "text/markdown": [
       "'/nfs/lab/projects/pbmc_snATAC/analysis_v2/summarized_caqtls/run3'"
      ],
      "text/plain": [
       "[1] \"/nfs/lab/projects/pbmc_snATAC/analysis_v2/summarized_caqtls/run3\""
      ]
     },
     "metadata": {},
     "output_type": "display_data"
    }
   ],
   "source": [
    "getwd()"
   ]
  },
  {
   "cell_type": "code",
   "execution_count": 80,
   "id": "sensitive-infrared",
   "metadata": {},
   "outputs": [
    {
     "data": {
      "text/html": [
       "<strong>png:</strong> 2"
      ],
      "text/latex": [
       "\\textbf{png:} 2"
      ],
      "text/markdown": [
       "**png:** 2"
      ],
      "text/plain": [
       "png \n",
       "  2 "
      ]
     },
     "metadata": {},
     "output_type": "display_data"
    }
   ],
   "source": [
    "pdf(\"/nfs/lab/projects/pbmc_snATAC/analysis_v2/figures/Summaries_forFig2_new.pdf\")\n",
    "par(xpd = TRUE)\n",
    "layout(m =matrix(c(1,2,2,3,4,5,6,6,6), ncol=3, byrow = T))\n",
    "vennDiagram(v,circle.col = palette, lwd=2,  cex=1.1)\n",
    "par(mar=c(4,4,4,6))\n",
    "\n",
    "bp<-barplot(p, col = palette[c(1,3)],las=2,\n",
    "        legend.text = c(\"not bulk\", \"bulk\"), ylab=\"#caQTLs\", ylim=c(0,3500))\n",
    "text(x=bp,y=0, adj = 1, labels=nms, srt = 45)\n",
    "\n",
    "plot.new()\n",
    "par(mar=c(4,4,4,4))\n",
    "bp=barplot(b_micro,  las=1, ylab=\"#caQTLs\", xlab=\"# cell types\", ylim=c(0,4500) , col = palette[1])\n",
    "text(x=bp,y=b_micro, labels=b_micro,pos = 3)\n",
    "\n",
    "\n",
    "bp=barplot(b_macro,  las=1, ylab=\"#caQTLs\", xlab=\"# cell types\", ylim=c(0,5000) , col = palette[2])\n",
    "text(x=bp,y=b_macro, labels=b_macro,pos = 3)\n",
    "dev.off()"
   ]
  },
  {
   "cell_type": "markdown",
   "id": "hearing-serial",
   "metadata": {},
   "source": [
    "### Effect size correlations"
   ]
  },
  {
   "cell_type": "markdown",
   "id": "express-edwards",
   "metadata": {},
   "source": [
    "manually do the pairwise calculations - select peak-snp that was caQTL in at least one of the two cells, remove duplicate peaks by keeping best snp of the first cell (in the second round - lower tri will be the second cells)"
   ]
  },
  {
   "cell_type": "code",
   "execution_count": 81,
   "id": "tight-passport",
   "metadata": {},
   "outputs": [],
   "source": [
    "celltypes_sel = c('bulk', celltypes_fine)\n",
    "l =length(celltypes_sel)"
   ]
  },
  {
   "cell_type": "code",
   "execution_count": 82,
   "id": "comparative-fifty",
   "metadata": {},
   "outputs": [],
   "source": [
    "cormat = matrix(NA, ncol=l , nrow=l)\n",
    "rownames(cormat)= colnames(cormat) = celltypes_sel"
   ]
  },
  {
   "cell_type": "code",
   "execution_count": 83,
   "id": "hindu-jersey",
   "metadata": {},
   "outputs": [],
   "source": [
    "dir = '/nfs/lab/projects/pbmc_snATAC/analysis_v2/summarized_caqtls/run3'"
   ]
  },
  {
   "cell_type": "code",
   "execution_count": 84,
   "id": "integrated-rochester",
   "metadata": {},
   "outputs": [],
   "source": [
    "setwd(dir)"
   ]
  },
  {
   "cell_type": "code",
   "execution_count": 85,
   "id": "arranged-nickel",
   "metadata": {},
   "outputs": [],
   "source": [
    "res_tot$feature_snp = paste(res_tot$Feature, res_tot$varID, sep=\"_\")\n",
    "wideFDR = spread(data = res_tot[,c('feature_snp', 'cell', 'signif')], key=cell, value =signif )"
   ]
  },
  {
   "cell_type": "code",
   "execution_count": 86,
   "id": "clear-computer",
   "metadata": {},
   "outputs": [],
   "source": [
    "col = colorRampPalette(brewer.pal(9, \"Purples\"))(20)\n",
    "#col = colorRampPalette(brewer.pal(9, \"Blues\"))(20)"
   ]
  },
  {
   "cell_type": "code",
   "execution_count": 87,
   "id": "outstanding-probe",
   "metadata": {},
   "outputs": [],
   "source": [
    "group = c(as.character(clrs[18:21,1]), \"white\",'#BC80BD')\n",
    "names(group) = c(as.character(clrs[18:21,2]), \"bulk\", 'mkc')\n",
    "colcol        = data.frame(group= c(\"bulk\", \"t\" ,'nk', 'mono', 'mono', 't','nk','mono','b','t','mkc','b','t','t','mono','t'))\n",
    "rownames(colcol) = colnames(cormat)"
   ]
  },
  {
   "cell_type": "code",
   "execution_count": 88,
   "id": "swedish-domestic",
   "metadata": {},
   "outputs": [],
   "source": [
    "colist = list(group=group)"
   ]
  },
  {
   "cell_type": "markdown",
   "id": "white-roman",
   "metadata": {},
   "source": [
    "use the minumum p value instead"
   ]
  },
  {
   "cell_type": "code",
   "execution_count": 89,
   "id": "original-fellowship",
   "metadata": {},
   "outputs": [],
   "source": [
    "for(c1 in celltypes_sel){\n",
    "    for(c2 in celltypes_sel){\n",
    "\n",
    "\n",
    "a = fread(paste0(c1, \"_caqtl_sumstats_run3.tsv\"), header=T)\n",
    "b = fread(paste0(c2, \"_caqtl_sumstats_run3.tsv\"), header=T)\n",
    "\n",
    "a$feature_snp = paste(a$Feature, a$varID, sep=\"_\")\n",
    "b$feature_snp = paste(b$Feature, b$varID, sep=\"_\")\n",
    "\n",
    "m = merge(a[,c('feature_snp',\"Feature\",\"P_value\" ,'Effect_size')] , b[,c('feature_snp','Effect_size',\"P_value\")], by=\"feature_snp\")\n",
    "\n",
    "sig = unique(na.omit(c(wideFDR$feature_snp[wideFDR[,c1]==TRUE], \n",
    "                       wideFDR$feature_snp[wideFDR[,c2]==TRUE] )))\n",
    "\n",
    "m      = subset(m, feature_snp %in% sig)\n",
    "m$minP = apply(m[,c(\"P_value.x\", \"P_value.y\")],1,min)\n",
    "m      = m[order(m$minP),]\n",
    "m      = m [!duplicated(m$Feature),]\n",
    "\n",
    "cormat[c1,c2] = suppressWarnings(cor.test(m$Effect_size.x, m$Effect_size.y, method = \"spearman\")$estimate)\n",
    "        }\n",
    "    }"
   ]
  },
  {
   "cell_type": "code",
   "execution_count": 90,
   "id": "obvious-secretary",
   "metadata": {},
   "outputs": [],
   "source": [
    "write.csv(cormat, \"corr_effects_mirror.csv\")"
   ]
  },
  {
   "cell_type": "code",
   "execution_count": 91,
   "id": "civilian-bullet",
   "metadata": {},
   "outputs": [],
   "source": [
    "cormat_nob = cormat[-1,-1]"
   ]
  },
  {
   "cell_type": "code",
   "execution_count": 92,
   "id": "interstate-opening",
   "metadata": {},
   "outputs": [],
   "source": [
    "pheatmap(cormat_nob, col=col, cellwidth = 10, cellheight = 10, annotation_col=colcol , annotation_colors =colist ,\n",
    "         angle_col = 45,, annotation_row=colcol,\n",
    "      file = \"/nfs/lab/projects/pbmc_snATAC/analysis_v2/figures/heatmap_corr_effects_fig2.pdf\"\n",
    "          ,breaks = seq(0,1,0.05)\n",
    "        )"
   ]
  },
  {
   "cell_type": "code",
   "execution_count": 93,
   "id": "wrapped-pricing",
   "metadata": {},
   "outputs": [
    {
     "data": {
      "text/plain": [
       "   Min. 1st Qu.  Median    Mean 3rd Qu.    Max. \n",
       " 0.4322  0.5623  0.6156  0.6492  0.7253  1.0000 "
      ]
     },
     "metadata": {},
     "output_type": "display_data"
    }
   ],
   "source": [
    "summary(cormat[upper.tri(cormat_nob)]) "
   ]
  },
  {
   "cell_type": "code",
   "execution_count": null,
   "id": "1441b2a3",
   "metadata": {},
   "outputs": [],
   "source": [
    "3841/5908"
   ]
  },
  {
   "cell_type": "markdown",
   "id": "ab48b9a8",
   "metadata": {},
   "source": [
    "### How many independent SNPs are caQTLs?"
   ]
  },
  {
   "cell_type": "code",
   "execution_count": 1,
   "id": "0c6f148a",
   "metadata": {},
   "outputs": [],
   "source": [
    "setwd(\"/nfs/lab/projects/pbmc_snATAC/analysis_v2/summarized_caqtls/run3\")"
   ]
  },
  {
   "cell_type": "code",
   "execution_count": 2,
   "id": "b0f660a7",
   "metadata": {},
   "outputs": [],
   "source": [
    "qtltot = read.csv(\"EUR_caqtl_leads_subset.csv\")"
   ]
  },
  {
   "cell_type": "code",
   "execution_count": 3,
   "id": "179fada6",
   "metadata": {},
   "outputs": [],
   "source": [
    "sc = subset(qtltot, cell!=\"bulk\")"
   ]
  },
  {
   "cell_type": "code",
   "execution_count": 7,
   "id": "bb3c4bb4",
   "metadata": {},
   "outputs": [],
   "source": [
    "inp= data.frame(SNP=unique(substring(sc$varID,4)) , P=0.5)\n",
    "\n",
    "dim(inp)\n",
    "\n",
    "write.table(inp, \"lead_snps\", quote=F, row.names=F)"
   ]
  },
  {
   "cell_type": "code",
   "execution_count": null,
   "id": "3dc71ff1",
   "metadata": {},
   "outputs": [],
   "source": [
    "### on gatsby\n",
    "plink \\\n",
    "--bfile /nfs/lab/1KGP/1KGP_ALL.merged \\\n",
    "--keep /nfs/lab/1KGP/1KGP.EUR.samples \\\n",
    "--exclude /nfs/lab/1KGP/1KGP_ALL.merged.dupvars \\\n",
    "--clump lead_snps \\\n",
    "--clump-field P \\\n",
    "--clump-r2 0.2 \\\n",
    "--clump-kb 250 \\\n",
    "--clump-p1 1 \\\n",
    "--clump-p2 1 \\\n",
    "--out leads_clumped\n",
    "\n"
   ]
  },
  {
   "cell_type": "code",
   "execution_count": 11,
   "id": "62f0f056",
   "metadata": {},
   "outputs": [],
   "source": [
    "clumped = read.table('leads_clumped.clumped', header=T)"
   ]
  },
  {
   "cell_type": "code",
   "execution_count": 12,
   "id": "636a4375",
   "metadata": {},
   "outputs": [
    {
     "data": {
      "text/html": [
       "<style>\n",
       ".list-inline {list-style: none; margin:0; padding: 0}\n",
       ".list-inline>li {display: inline-block}\n",
       ".list-inline>li:not(:last-child)::after {content: \"\\00b7\"; padding: 0 .5ex}\n",
       "</style>\n",
       "<ol class=list-inline><li>5829</li><li>12</li></ol>\n"
      ],
      "text/latex": [
       "\\begin{enumerate*}\n",
       "\\item 5829\n",
       "\\item 12\n",
       "\\end{enumerate*}\n"
      ],
      "text/markdown": [
       "1. 5829\n",
       "2. 12\n",
       "\n",
       "\n"
      ],
      "text/plain": [
       "[1] 5829   12"
      ]
     },
     "metadata": {},
     "output_type": "display_data"
    }
   ],
   "source": [
    "dim(clumped)"
   ]
  },
  {
   "cell_type": "code",
   "execution_count": 13,
   "id": "3a5cf4a3",
   "metadata": {},
   "outputs": [
    {
     "data": {
      "text/html": [
       "6916"
      ],
      "text/latex": [
       "6916"
      ],
      "text/markdown": [
       "6916"
      ],
      "text/plain": [
       "[1] 6916"
      ]
     },
     "metadata": {},
     "output_type": "display_data"
    }
   ],
   "source": [
    "sum(!duplicated(sc$Feature))"
   ]
  },
  {
   "cell_type": "code",
   "execution_count": 14,
   "id": "31fe438d",
   "metadata": {},
   "outputs": [
    {
     "data": {
      "text/html": [
       "5687"
      ],
      "text/latex": [
       "5687"
      ],
      "text/markdown": [
       "5687"
      ],
      "text/plain": [
       "[1] 5687"
      ]
     },
     "metadata": {},
     "output_type": "display_data"
    }
   ],
   "source": [
    "sum(!duplicated(sc$Feature[sc$varID %in% paste0(\"chr\", clumped$SNP)]))"
   ]
  },
  {
   "cell_type": "code",
   "execution_count": 24,
   "id": "0efe266e",
   "metadata": {},
   "outputs": [],
   "source": [
    "##Only bulk"
   ]
  },
  {
   "cell_type": "code",
   "execution_count": 15,
   "id": "0e7fc88b",
   "metadata": {},
   "outputs": [],
   "source": [
    "bu = subset(qtltot, cell==\"bulk\")"
   ]
  },
  {
   "cell_type": "code",
   "execution_count": 16,
   "id": "f0af784b",
   "metadata": {},
   "outputs": [],
   "source": [
    "write.table(data.frame(SNP=unique(substring(bu$varID,4)) , P=0.5), \"lead_snps\", quote=F, row.names=F)"
   ]
  },
  {
   "cell_type": "code",
   "execution_count": 17,
   "id": "4095560c",
   "metadata": {},
   "outputs": [],
   "source": [
    "clumped = read.table('leads_clumped.clumped', header=T)"
   ]
  },
  {
   "cell_type": "code",
   "execution_count": 18,
   "id": "1ced8e9c",
   "metadata": {},
   "outputs": [
    {
     "data": {
      "text/html": [
       "4703"
      ],
      "text/latex": [
       "4703"
      ],
      "text/markdown": [
       "4703"
      ],
      "text/plain": [
       "[1] 4703"
      ]
     },
     "metadata": {},
     "output_type": "display_data"
    }
   ],
   "source": [
    "sum(!duplicated(bu$Feature))"
   ]
  },
  {
   "cell_type": "code",
   "execution_count": 19,
   "id": "05b62e15",
   "metadata": {},
   "outputs": [
    {
     "data": {
      "text/html": [
       "4075"
      ],
      "text/latex": [
       "4075"
      ],
      "text/markdown": [
       "4075"
      ],
      "text/plain": [
       "[1] 4075"
      ]
     },
     "metadata": {},
     "output_type": "display_data"
    }
   ],
   "source": [
    "sum(!duplicated(bu$Feature[bu$varID %in% paste0(\"chr\", clumped$SNP)]))"
   ]
  },
  {
   "cell_type": "code",
   "execution_count": null,
   "id": "5c68acd2",
   "metadata": {},
   "outputs": [],
   "source": []
  }
 ],
 "metadata": {
  "kernelspec": {
   "display_name": "R 4.1",
   "language": "R",
   "name": "ir41"
  },
  "language_info": {
   "codemirror_mode": "r",
   "file_extension": ".r",
   "mimetype": "text/x-r-source",
   "name": "R",
   "pygments_lexer": "r",
   "version": "4.1.1"
  }
 },
 "nbformat": 4,
 "nbformat_minor": 5
}
