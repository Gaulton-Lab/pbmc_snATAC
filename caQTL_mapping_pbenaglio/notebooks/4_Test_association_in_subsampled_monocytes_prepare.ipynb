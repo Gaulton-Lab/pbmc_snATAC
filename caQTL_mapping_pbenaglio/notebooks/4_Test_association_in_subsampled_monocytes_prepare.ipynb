{
 "cells": [
  {
   "cell_type": "code",
   "execution_count": 1,
   "id": "79599fce",
   "metadata": {},
   "outputs": [],
   "source": [
    "library(stringr)\n",
    "library(RColorBrewer)\n",
    "library(parallel)"
   ]
  },
  {
   "cell_type": "code",
   "execution_count": 2,
   "id": "b2c58b4d",
   "metadata": {},
   "outputs": [],
   "source": [
    "setwd(\"/nfs/lab/projects/pbmc_snATAC/analysis_v2\")"
   ]
  },
  {
   "cell_type": "code",
   "execution_count": 4,
   "id": "be9b0dec",
   "metadata": {},
   "outputs": [],
   "source": [
    "bcs = read.table('peaks/pbmc1-15_clusterLabels.txt', header=T, sep=\"\\t\")"
   ]
  },
  {
   "cell_type": "code",
   "execution_count": 7,
   "id": "a1027648",
   "metadata": {},
   "outputs": [],
   "source": [
    "tabsum = table(bcs$fine_populations, bcs$sample)"
   ]
  },
  {
   "cell_type": "code",
   "execution_count": 11,
   "id": "e5c8f239",
   "metadata": {},
   "outputs": [],
   "source": [
    "ids = c(2:5, 8:10,12:14) "
   ]
  },
  {
   "cell_type": "code",
   "execution_count": 14,
   "id": "0e103522",
   "metadata": {},
   "outputs": [],
   "source": [
    "tabsum = tabsum[,paste0(\"pbmc\", ids)]"
   ]
  },
  {
   "cell_type": "code",
   "execution_count": 15,
   "id": "c9e3c54b",
   "metadata": {},
   "outputs": [
    {
     "data": {
      "text/plain": [
       "             \n",
       "              pbmc2 pbmc3 pbmc4 pbmc5 pbmc8 pbmc9 pbmc10 pbmc12 pbmc13 pbmc14\n",
       "  act_cd4_t     636   820  1177   929  1770  1346    920   1290   2140   1075\n",
       "  adaptive_NK   146    72    42    26    71    25     48    147     75     80\n",
       "  cDC            87    50    34    27   130    43     27     59    146    106\n",
       "  cMono        2919  1633   960   917  2037  1522   2127   1377   1224   2789\n",
       "  cyto_cd8_t    479   483   316   367   850   478    743   1165    713    345\n",
       "  cyto_nk       761  1090   321   408   354   408    342    783    522   1349\n",
       "  iMono         154   342    69    43    65    60     36     80   1041    231\n",
       "  mem_b          71    73   162    49   194   177    152    140    296    166\n",
       "  mem_cd8_t     149    98   193   135   584   151    137    409    201     52\n",
       "  mkc           219    70    20     8    62    42     53     63    197    125\n",
       "  naive_b       299   322   324    90   284   347    307    369    361    537\n",
       "  naive_cd4_t   218   375   398   623  1084  1336    805   1379   3248    455\n",
       "  naive_cd8_t   128   212   296   157   508   796    440    502   1387    117\n",
       "  ncMono        507   426   136   202   286   256    191    203    774    751\n",
       "  pDC            45    27    12     5    47    14     17     31     70     34\n",
       "  plasma          4    10     9     1     9    35     17     12     23      6\n",
       "  tReg           72   146   128    78   227   185    113    104    420    174"
      ]
     },
     "metadata": {},
     "output_type": "display_data"
    }
   ],
   "source": [
    "tabsum"
   ]
  },
  {
   "cell_type": "code",
   "execution_count": 82,
   "id": "09755d94",
   "metadata": {},
   "outputs": [
    {
     "data": {
      "text/html": [
       "17505"
      ],
      "text/latex": [
       "17505"
      ],
      "text/markdown": [
       "17505"
      ],
      "text/plain": [
       "[1] 17505"
      ]
     },
     "metadata": {},
     "output_type": "display_data"
    },
    {
     "data": {
      "text/html": [
       "1750.5"
      ],
      "text/latex": [
       "1750.5"
      ],
      "text/markdown": [
       "1750.5"
      ],
      "text/plain": [
       "[1] 1750.5"
      ]
     },
     "metadata": {},
     "output_type": "display_data"
    }
   ],
   "source": [
    "sum(tabsum[\"cMono\",])\n",
    "mean(tabsum[\"cMono\",])"
   ]
  },
  {
   "cell_type": "code",
   "execution_count": 83,
   "id": "f3d4246b",
   "metadata": {},
   "outputs": [
    {
     "data": {
      "text/html": [
       "<style>\n",
       ".dl-inline {width: auto; margin:0; padding: 0}\n",
       ".dl-inline>dt, .dl-inline>dd {float: none; width: auto; display: inline-block}\n",
       ".dl-inline>dt::after {content: \":\\0020\"; padding-right: .5ex}\n",
       ".dl-inline>dt:not(:first-of-type) {padding-left: .5ex}\n",
       "</style><dl class=dl-inline><dt>plasma</dt><dd>12.6</dd><dt>pDC</dt><dd>30.2</dd><dt>cDC</dt><dd>70.9</dd><dt>adaptive_NK</dt><dd>73.2</dd><dt>mkc</dt><dd>85.9</dd><dt>mem_b</dt><dd>148</dd><dt>tReg</dt><dd>164.7</dd><dt>mem_cd8_t</dt><dd>210.9</dd><dt>iMono</dt><dd>212.1</dd><dt>naive_b</dt><dd>324</dd><dt>ncMono</dt><dd>373.2</dd><dt>naive_cd8_t</dt><dd>454.3</dd><dt>cyto_cd8_t</dt><dd>593.9</dd><dt>cyto_nk</dt><dd>633.8</dd><dt>naive_cd4_t</dt><dd>992.1</dd><dt>act_cd4_t</dt><dd>1210.3</dd><dt>cMono</dt><dd>1750.5</dd></dl>\n"
      ],
      "text/latex": [
       "\\begin{description*}\n",
       "\\item[plasma] 12.6\n",
       "\\item[pDC] 30.2\n",
       "\\item[cDC] 70.9\n",
       "\\item[adaptive\\textbackslash{}\\_NK] 73.2\n",
       "\\item[mkc] 85.9\n",
       "\\item[mem\\textbackslash{}\\_b] 148\n",
       "\\item[tReg] 164.7\n",
       "\\item[mem\\textbackslash{}\\_cd8\\textbackslash{}\\_t] 210.9\n",
       "\\item[iMono] 212.1\n",
       "\\item[naive\\textbackslash{}\\_b] 324\n",
       "\\item[ncMono] 373.2\n",
       "\\item[naive\\textbackslash{}\\_cd8\\textbackslash{}\\_t] 454.3\n",
       "\\item[cyto\\textbackslash{}\\_cd8\\textbackslash{}\\_t] 593.9\n",
       "\\item[cyto\\textbackslash{}\\_nk] 633.8\n",
       "\\item[naive\\textbackslash{}\\_cd4\\textbackslash{}\\_t] 992.1\n",
       "\\item[act\\textbackslash{}\\_cd4\\textbackslash{}\\_t] 1210.3\n",
       "\\item[cMono] 1750.5\n",
       "\\end{description*}\n"
      ],
      "text/markdown": [
       "plasma\n",
       ":   12.6pDC\n",
       ":   30.2cDC\n",
       ":   70.9adaptive_NK\n",
       ":   73.2mkc\n",
       ":   85.9mem_b\n",
       ":   148tReg\n",
       ":   164.7mem_cd8_t\n",
       ":   210.9iMono\n",
       ":   212.1naive_b\n",
       ":   324ncMono\n",
       ":   373.2naive_cd8_t\n",
       ":   454.3cyto_cd8_t\n",
       ":   593.9cyto_nk\n",
       ":   633.8naive_cd4_t\n",
       ":   992.1act_cd4_t\n",
       ":   1210.3cMono\n",
       ":   1750.5\n",
       "\n"
      ],
      "text/plain": [
       "     plasma         pDC         cDC adaptive_NK         mkc       mem_b \n",
       "       12.6        30.2        70.9        73.2        85.9       148.0 \n",
       "       tReg   mem_cd8_t       iMono     naive_b      ncMono naive_cd8_t \n",
       "      164.7       210.9       212.1       324.0       373.2       454.3 \n",
       " cyto_cd8_t     cyto_nk naive_cd4_t   act_cd4_t       cMono \n",
       "      593.9       633.8       992.1      1210.3      1750.5 "
      ]
     },
     "metadata": {},
     "output_type": "display_data"
    }
   ],
   "source": [
    "sort(rowMeans(tabsum))"
   ]
  },
  {
   "cell_type": "code",
   "execution_count": 86,
   "id": "fd944ff1",
   "metadata": {},
   "outputs": [],
   "source": [
    "tabsum = table(bcs$broad_populations_2, bcs$sample)"
   ]
  },
  {
   "cell_type": "code",
   "execution_count": 88,
   "id": "c1708feb",
   "metadata": {},
   "outputs": [
    {
     "data": {
      "text/html": [
       "<style>\n",
       ".dl-inline {width: auto; margin:0; padding: 0}\n",
       ".dl-inline>dt, .dl-inline>dd {float: none; width: auto; display: inline-block}\n",
       ".dl-inline>dt::after {content: \":\\0020\"; padding-right: .5ex}\n",
       ".dl-inline>dt:not(:first-of-type) {padding-left: .5ex}\n",
       "</style><dl class=dl-inline><dt>plasma</dt><dd>12.8461538461538</dd><dt>pDC</dt><dd>29.2307692307692</dd><dt>mkc</dt><dd>86.1538461538462</dd><dt>b</dt><dd>563.384615384615</dd><dt>nk</dt><dd>728.230769230769</dd><dt>mono</dt><dd>2382.76923076923</dd><dt>t</dt><dd>3582.15384615385</dd></dl>\n"
      ],
      "text/latex": [
       "\\begin{description*}\n",
       "\\item[plasma] 12.8461538461538\n",
       "\\item[pDC] 29.2307692307692\n",
       "\\item[mkc] 86.1538461538462\n",
       "\\item[b] 563.384615384615\n",
       "\\item[nk] 728.230769230769\n",
       "\\item[mono] 2382.76923076923\n",
       "\\item[t] 3582.15384615385\n",
       "\\end{description*}\n"
      ],
      "text/markdown": [
       "plasma\n",
       ":   12.8461538461538pDC\n",
       ":   29.2307692307692mkc\n",
       ":   86.1538461538462b\n",
       ":   563.384615384615nk\n",
       ":   728.230769230769mono\n",
       ":   2382.76923076923t\n",
       ":   3582.15384615385\n",
       "\n"
      ],
      "text/plain": [
       "    plasma        pDC        mkc          b         nk       mono          t \n",
       "  12.84615   29.23077   86.15385  563.38462  728.23077 2382.76923 3582.15385 "
      ]
     },
     "metadata": {},
     "output_type": "display_data"
    }
   ],
   "source": [
    "sort(rowMeans(tabsum))"
   ]
  },
  {
   "cell_type": "code",
   "execution_count": 17,
   "id": "c7279508",
   "metadata": {},
   "outputs": [],
   "source": [
    "thresh = c(10,25,50,100,250,500,1000,2000)"
   ]
  },
  {
   "cell_type": "code",
   "execution_count": 42,
   "id": "345ef738",
   "metadata": {},
   "outputs": [],
   "source": [
    "make_cluster_bam = function(s, thresholds, sampdir, outdir) {\n",
    "    \n",
    "     sample_id      = paste0(\"pbmc\",s)\n",
    "     samp_outdir    = paste0( outdir,  '/PBMC', s, '/subsample_test')\n",
    "     system(paste('mkdir -p', samp_outdir))\n",
    "     setwd(samp_outdir)\n",
    "     bam            = paste0(sampdir, \"/PBMC\", s, '/final/PBMC', s, '.merged.rmdup.final.bam' )\n",
    "     system(paste(\"samtools view -H\", bam ,\"> SAM_header\"))\n",
    "     barcodes       = bcs$barcode[bcs$sample==sample_id & bcs$fine_populations=='cMono']\n",
    "    \n",
    "    for (celln in thresholds) {\n",
    "        \n",
    "       if (celln > length(barcodes)){\n",
    "        barcodes_subset = sample(barcodes, celln, replace=T)\n",
    "            } else {\n",
    "        barcodes_subset = sample(barcodes, celln, replace=F)    \n",
    "        }\n",
    "        filename = paste0(\"sub\", celln)\n",
    "        writeLines(barcodes_subset, filename)\n",
    "        system(paste('samtools view', bam , '| LC_ALL=C grep -F -f', filename , '> filtered_SAM_body'))\n",
    "        system(\"cat SAM_header filtered_SAM_body > filtered.sam\")\n",
    "        system(paste0(\"samtools view -b filtered.sam > \", sample_id, \"_\",filename, \".bam\"))\n",
    "        system('rm filtered.sam filtered_SAM_body')\n",
    "        system(paste0(\"samtools index \", sample_id, \"_\",filename, \".bam\"))\n",
    "}\n",
    "\n",
    "     \n",
    "}"
   ]
  },
  {
   "cell_type": "code",
   "execution_count": 43,
   "id": "78cac813",
   "metadata": {},
   "outputs": [
    {
     "data": {
      "text/html": [
       "<ol>\n",
       "\t<li>NULL</li>\n",
       "\t<li>NULL</li>\n",
       "\t<li>NULL</li>\n",
       "\t<li>NULL</li>\n",
       "\t<li>NULL</li>\n",
       "\t<li>NULL</li>\n",
       "\t<li>NULL</li>\n",
       "\t<li>NULL</li>\n",
       "\t<li>NULL</li>\n",
       "\t<li>NULL</li>\n",
       "</ol>\n"
      ],
      "text/latex": [
       "\\begin{enumerate}\n",
       "\\item NULL\n",
       "\\item NULL\n",
       "\\item NULL\n",
       "\\item NULL\n",
       "\\item NULL\n",
       "\\item NULL\n",
       "\\item NULL\n",
       "\\item NULL\n",
       "\\item NULL\n",
       "\\item NULL\n",
       "\\end{enumerate}\n"
      ],
      "text/markdown": [
       "1. NULL\n",
       "2. NULL\n",
       "3. NULL\n",
       "4. NULL\n",
       "5. NULL\n",
       "6. NULL\n",
       "7. NULL\n",
       "8. NULL\n",
       "9. NULL\n",
       "10. NULL\n",
       "\n",
       "\n"
      ],
      "text/plain": [
       "[[1]]\n",
       "NULL\n",
       "\n",
       "[[2]]\n",
       "NULL\n",
       "\n",
       "[[3]]\n",
       "NULL\n",
       "\n",
       "[[4]]\n",
       "NULL\n",
       "\n",
       "[[5]]\n",
       "NULL\n",
       "\n",
       "[[6]]\n",
       "NULL\n",
       "\n",
       "[[7]]\n",
       "NULL\n",
       "\n",
       "[[8]]\n",
       "NULL\n",
       "\n",
       "[[9]]\n",
       "NULL\n",
       "\n",
       "[[10]]\n",
       "NULL\n"
      ]
     },
     "metadata": {},
     "output_type": "display_data"
    }
   ],
   "source": [
    "sampdir = \"/nfs/lab/projects/pbmc_snATAC/analysis_v2/wasp_peaks/singlecell/\"\n",
    "outdir  = \"/nfs/lab/projects/pbmc_snATAC/analysis_v2/cell_type_bam/\"\n",
    "mclapply(ids, function(x) make_cluster_bam(s=x, thresholds=thresh[2:8], sampdir=sampdir ,outdir=outdir) , mc.cores = 24)  "
   ]
  },
  {
   "cell_type": "markdown",
   "id": "22d24f4e",
   "metadata": {},
   "source": [
    "## Feature Counts matrices"
   ]
  },
  {
   "cell_type": "code",
   "execution_count": 44,
   "id": "ed33efac",
   "metadata": {},
   "outputs": [],
   "source": [
    "sampdir  = '/nfs/lab/projects/pbmc_snATAC/analysis_v2/cell_type_bam/'\n",
    "outdir   = '/nfs/lab/projects/pbmc_snATAC/analysis_v2/rasqual/'\n",
    "bedir    = '/nfs/lab/projects/pbmc_snATAC/analysis_v2/peaks/'"
   ]
  },
  {
   "cell_type": "code",
   "execution_count": 45,
   "id": "46277d48",
   "metadata": {},
   "outputs": [],
   "source": [
    "saf = paste0(bedir, 'pbmc.sorted.merged.saf')"
   ]
  },
  {
   "cell_type": "code",
   "execution_count": 46,
   "id": "c0c3d439",
   "metadata": {},
   "outputs": [],
   "source": [
    "featurecounts = function(c, res = \"subsample_test\"){\n",
    "outfolder     = paste(outdir, res, c, sep=\"/\")\n",
    "system(paste('mkdir -p' , outfolder))\n",
    "count_matrix  = paste0(outfolder,\"/\" ,c, '.count_matrix')    \n",
    "bam           = paste0(sampdir, \"PBMC\", ids,\"/\" ,res, '/pbmc', ids, \"_\", c, \".bam\")\n",
    "gi  <-  paste(\"featureCounts -p -T 10 -F SAF --donotsort -a\" , saf, \"-o\",  count_matrix , \n",
    "                paste(bam,collapse=\" \"))\n",
    "system(gi)\n",
    "}\n"
   ]
  },
  {
   "cell_type": "code",
   "execution_count": 48,
   "id": "bd6892e2",
   "metadata": {},
   "outputs": [],
   "source": [
    "subsets =paste0(\"sub\", thresh)"
   ]
  },
  {
   "cell_type": "code",
   "execution_count": 49,
   "id": "d3ab4f01",
   "metadata": {},
   "outputs": [
    {
     "data": {
      "text/html": [
       "<ol>\n",
       "\t<li>0</li>\n",
       "\t<li>0</li>\n",
       "\t<li>0</li>\n",
       "\t<li>0</li>\n",
       "\t<li>0</li>\n",
       "\t<li>0</li>\n",
       "\t<li>0</li>\n",
       "\t<li>0</li>\n",
       "</ol>\n"
      ],
      "text/latex": [
       "\\begin{enumerate}\n",
       "\\item 0\n",
       "\\item 0\n",
       "\\item 0\n",
       "\\item 0\n",
       "\\item 0\n",
       "\\item 0\n",
       "\\item 0\n",
       "\\item 0\n",
       "\\end{enumerate}\n"
      ],
      "text/markdown": [
       "1. 0\n",
       "2. 0\n",
       "3. 0\n",
       "4. 0\n",
       "5. 0\n",
       "6. 0\n",
       "7. 0\n",
       "8. 0\n",
       "\n",
       "\n"
      ],
      "text/plain": [
       "[[1]]\n",
       "[1] 0\n",
       "\n",
       "[[2]]\n",
       "[1] 0\n",
       "\n",
       "[[3]]\n",
       "[1] 0\n",
       "\n",
       "[[4]]\n",
       "[1] 0\n",
       "\n",
       "[[5]]\n",
       "[1] 0\n",
       "\n",
       "[[6]]\n",
       "[1] 0\n",
       "\n",
       "[[7]]\n",
       "[1] 0\n",
       "\n",
       "[[8]]\n",
       "[1] 0\n"
      ]
     },
     "metadata": {},
     "output_type": "display_data"
    }
   ],
   "source": [
    "mclapply(subsets,featurecounts, mc.cores = 32 )"
   ]
  },
  {
   "cell_type": "code",
   "execution_count": 50,
   "id": "692ccafb",
   "metadata": {},
   "outputs": [],
   "source": [
    "library(\"rasqualTools\")\n",
    "source(\"/nfs/lab/projects/pbmc_snATAC/scripts/rasqual_tools_functions.R\")"
   ]
  },
  {
   "cell_type": "code",
   "execution_count": 55,
   "id": "13431142",
   "metadata": {},
   "outputs": [],
   "source": [
    "res = \"subsample_test\"\n",
    "celltypes   =  paste0(\"sub\", thresh)\n"
   ]
  },
  {
   "cell_type": "code",
   "execution_count": 60,
   "id": "19b6fa1a",
   "metadata": {},
   "outputs": [
    {
     "name": "stdout",
     "output_type": "stream",
     "text": [
      "[1] \"/nfs/lab/projects/pbmc_snATAC/analysis_v2/rasqual//subsample_test/sub10/counts.sub10.txt\"\n",
      "[1] \"/nfs/lab/projects/pbmc_snATAC/analysis_v2/rasqual//subsample_test/sub10/size_factors.sub10.txt\"\n",
      "[1] \"/nfs/lab/projects/pbmc_snATAC/analysis_v2/rasqual//subsample_test/sub25/counts.sub25.txt\"\n",
      "[1] \"/nfs/lab/projects/pbmc_snATAC/analysis_v2/rasqual//subsample_test/sub25/size_factors.sub25.txt\"\n",
      "[1] \"/nfs/lab/projects/pbmc_snATAC/analysis_v2/rasqual//subsample_test/sub50/counts.sub50.txt\"\n",
      "[1] \"/nfs/lab/projects/pbmc_snATAC/analysis_v2/rasqual//subsample_test/sub50/size_factors.sub50.txt\"\n",
      "[1] \"/nfs/lab/projects/pbmc_snATAC/analysis_v2/rasqual//subsample_test/sub100/counts.sub100.txt\"\n",
      "[1] \"/nfs/lab/projects/pbmc_snATAC/analysis_v2/rasqual//subsample_test/sub100/size_factors.sub100.txt\"\n",
      "[1] \"/nfs/lab/projects/pbmc_snATAC/analysis_v2/rasqual//subsample_test/sub250/counts.sub250.txt\"\n",
      "[1] \"/nfs/lab/projects/pbmc_snATAC/analysis_v2/rasqual//subsample_test/sub250/size_factors.sub250.txt\"\n",
      "[1] \"/nfs/lab/projects/pbmc_snATAC/analysis_v2/rasqual//subsample_test/sub500/counts.sub500.txt\"\n",
      "[1] \"/nfs/lab/projects/pbmc_snATAC/analysis_v2/rasqual//subsample_test/sub500/size_factors.sub500.txt\"\n",
      "[1] \"/nfs/lab/projects/pbmc_snATAC/analysis_v2/rasqual//subsample_test/sub1000/counts.sub1000.txt\"\n",
      "[1] \"/nfs/lab/projects/pbmc_snATAC/analysis_v2/rasqual//subsample_test/sub1000/size_factors.sub1000.txt\"\n",
      "[1] \"/nfs/lab/projects/pbmc_snATAC/analysis_v2/rasqual//subsample_test/sub2000/counts.sub2000.txt\"\n",
      "[1] \"/nfs/lab/projects/pbmc_snATAC/analysis_v2/rasqual//subsample_test/sub2000/size_factors.sub2000.txt\"\n"
     ]
    }
   ],
   "source": [
    "for (c in celltypes){\n",
    "outfolder     = paste(outdir, res, c, sep=\"/\")\n",
    "cm = read.table(paste0(outfolder, \"/\" ,c, '.count_matrix') , header=T)\n",
    "colnames(cm)[7:ncol(cm)] = paste0(\"PBMC\", ids)\n",
    "\n",
    "### filter for peaks having a minumum of 5 reads on avg per sample\n",
    "cm = cm[rowMeans(cm[,7:ncol(cm)])>= 5, ]\n",
    "\n",
    "fmat           = cm[,7:ncol(cm)]\n",
    "rownames(fmat) = cm[,1]\n",
    "filtbed        = paste0(outfolder, \"/\", c, \".filtered.bed\")\n",
    "write.table(fmat, paste0(outfolder, \"/\", c, \".filtered.count_matrix\"), sep=\"\\t\", quote=F)\n",
    "write.table(cm[,2:4],filtbed, sep=\"\\t\", quote=F, col.names=F, row.names=F)\n",
    "cc     = cm[,2:4]\n",
    "cc[,1] = substring(cc[,1],4)\n",
    "write.table(cc, paste0(outfolder, \"/\", c, \".filtered.nochr.bed\"), sep=\"\\t\", quote=F, col.names=F, row.names=F)\n",
    "\n",
    "system(paste0(\"bedtools slop -i \",  filtbed,  \" -b 10000 -g /nfs/lab/publicdata/human.hg19.genome.bedtools > \",\n",
    "         filtbed, '.10kb'))\n",
    "\n",
    "system(paste0(\"bedtools merge -i \", filtbed, '.10kb > ', filtbed, '.10kb.merged'))\n",
    "\n",
    "fb     = read.table(paste0( filtbed, '.10kb.merged'))\n",
    "fb[,1] = substring(fb[,1],4)\n",
    "write.table(fb, paste0( filtbed, '.10kb.merged.nochr'), sep=\"\\t\", quote=F, col.names=F, row.names=F)\n",
    "\n",
    "#### RAsqualTools\n",
    "\n",
    "saveRasqualMatrices(list(counts = fmat), outfolder, file_suffix = c)\n",
    "\n",
    "size_factors = rasqualCalculateSampleOffsets(fmat, gc_correct = FALSE)\n",
    "saveRasqualMatrices(list(size_factors = size_factors),  outfolder, file_suffix = c)\n",
    "\n",
    "y = paste0(outfolder, \"/counts.\",c, \".txt\" )\n",
    "k = paste0(outfolder, \"/size_factors.\",c, \".txt\" )\n",
    "x = paste0(outfolder, \"/covariates.\",c, \".txt\" )\n",
    "\n",
    "make_covariates (ytxt=y, ktxt=k, outfile=x)\n",
    "\n",
    "txt2bin  (ytxt=y, ktxt=k, xtxt=x)\n",
    "}"
   ]
  },
  {
   "cell_type": "code",
   "execution_count": 61,
   "id": "b0491c6d",
   "metadata": {},
   "outputs": [
    {
     "data": {
      "image/png": "[encoded data removed]",
      "text/plain": [
       "Plot with title “sub2000”"
      ]
     },
     "metadata": {
      "image/png": {
       "height": 420,
       "width": 420
      }
     },
     "output_type": "display_data"
    }
   ],
   "source": [
    "par(mfrow=c(3,3), mar =c(3,3,2,1))\n",
    "for (c in celltypes){\n",
    "outfolder     = paste(outdir, res, c, sep=\"/\")\n",
    "pca = read.table(paste0(outfolder, \"/covariates.\",c, \".txt\" ))\n",
    "   \n",
    "plot(pca[,2:3], cex = 3, main = c, col = rainbow(13)) ## col1 is size factor\n",
    "mtext(side = 1:2, text=c(\"PC1\",\"PC2\"), line=2)\n",
    "text(pca[,2:3], labels = ids)\n",
    "#plot(pca[,3:4], cex = 3, main = c) ## col1 is size factor\n",
    "#text(pca[,3:4], labels = ids)\n",
    "#mtext(side = 1:2, text=c(\"PC2\",\"PC3\"), line=2)    \n",
    "}"
   ]
  },
  {
   "cell_type": "markdown",
   "id": "f9526cda",
   "metadata": {},
   "source": [
    "Add genotype PCs"
   ]
  },
  {
   "cell_type": "code",
   "execution_count": 63,
   "id": "612b29ed",
   "metadata": {},
   "outputs": [],
   "source": [
    "codir = '/nfs/lab/projects/pbmc_snATAC/analysis_v2/rasqual/covariates/'\n",
    "for (c in celltypes){\n",
    "outfolder     = paste(outdir, res, c, sep=\"/\")\n",
    "y = paste0(outfolder, \"/counts.\",c, \".txt\" )\n",
    "k = paste0(outfolder, \"/size_factors.\",c, \".txt\" )\n",
    "x = paste0(outfolder, \"/covariates.\",c, \".txt\" )\n",
    "\n",
    "    \n",
    "make_covariates (ytxt=y, ktxt=k, outfile=x) ###recalculate original ones \n",
    "#newcov = cbind(read.table(x), read.table(paste0(codir, \"4_gt_pcs\")))\n",
    "newcov = cbind(read.table(x),#read.table(paste0(codir, \"age\")),\n",
    "               #read.table(paste0(codir, \"sex\"))*0.1, \n",
    "               read.table(paste0(codir, \"4_gt_pcs\"))[-c(1,6,13),])\n",
    "\n",
    "write.table( newcov, x, col=F,row=F,sep=\"\\t\",quote=F)\n",
    "txt2bin  (ytxt=y, ktxt=k, xtxt=x)\n",
    "}"
   ]
  },
  {
   "cell_type": "markdown",
   "id": "0ba927e7",
   "metadata": {},
   "source": [
    "### Prepare VCF Files"
   ]
  },
  {
   "cell_type": "markdown",
   "id": "96bce9d0",
   "metadata": {},
   "source": [
    "1.FIlter original vcf files for just  snps in peaks, samples of interest, imputation quality, heterozygous genotype and removing indels"
   ]
  },
  {
   "cell_type": "code",
   "execution_count": 64,
   "id": "c47bf898",
   "metadata": {},
   "outputs": [],
   "source": [
    "reso    = res\n",
    "vcf_dir  = '/nfs/lab/projects/pbmc_snATAC/pipeline/snp_array/final_vcfs/'\n",
    "homedir  = '/nfs/lab/projects/pbmc_snATAC/analysis_v2/rasqual/'\n",
    "sampdir  = '/nfs/lab/projects/pbmc_snATAC/analysis_v2/cell_type_bam/'\n",
    "samples  = paste0(\"PBMC\", ids)"
   ]
  },
  {
   "cell_type": "code",
   "execution_count": 72,
   "id": "3abedf92",
   "metadata": {},
   "outputs": [
    {
     "data": {
      "text/html": [
       "<style>\n",
       ".list-inline {list-style: none; margin:0; padding: 0}\n",
       ".list-inline>li {display: inline-block}\n",
       ".list-inline>li:not(:last-child)::after {content: \"\\00b7\"; padding: 0 .5ex}\n",
       "</style>\n",
       "<ol class=list-inline><li>'PBMC2'</li><li>'PBMC3'</li><li>'PBMC4'</li><li>'PBMC5'</li><li>'PBMC8'</li><li>'PBMC9'</li><li>'PBMC10'</li><li>'PBMC12'</li><li>'PBMC13'</li><li>'PBMC14'</li></ol>\n"
      ],
      "text/latex": [
       "\\begin{enumerate*}\n",
       "\\item 'PBMC2'\n",
       "\\item 'PBMC3'\n",
       "\\item 'PBMC4'\n",
       "\\item 'PBMC5'\n",
       "\\item 'PBMC8'\n",
       "\\item 'PBMC9'\n",
       "\\item 'PBMC10'\n",
       "\\item 'PBMC12'\n",
       "\\item 'PBMC13'\n",
       "\\item 'PBMC14'\n",
       "\\end{enumerate*}\n"
      ],
      "text/markdown": [
       "1. 'PBMC2'\n",
       "2. 'PBMC3'\n",
       "3. 'PBMC4'\n",
       "4. 'PBMC5'\n",
       "5. 'PBMC8'\n",
       "6. 'PBMC9'\n",
       "7. 'PBMC10'\n",
       "8. 'PBMC12'\n",
       "9. 'PBMC13'\n",
       "10. 'PBMC14'\n",
       "\n",
       "\n"
      ],
      "text/plain": [
       " [1] \"PBMC2\"  \"PBMC3\"  \"PBMC4\"  \"PBMC5\"  \"PBMC8\"  \"PBMC9\"  \"PBMC10\" \"PBMC12\"\n",
       " [9] \"PBMC13\" \"PBMC14\""
      ]
     },
     "metadata": {},
     "output_type": "display_data"
    }
   ],
   "source": [
    "samples"
   ]
  },
  {
   "cell_type": "code",
   "execution_count": 75,
   "id": "9d82693b",
   "metadata": {},
   "outputs": [],
   "source": [
    "filter_vcf = function(cell) {\n",
    "        \n",
    "    for (n in 1:22) {\n",
    "\n",
    "    vcf    = paste0(vcf_dir, \"/chr\",n ,'.PBMC.topmed.hg19.final.vcf.gz')\n",
    "    outdir = paste(homedir, reso, cell, \"vcfs_peaksonly\", sep=\"/\")    \n",
    "    system(paste(\"mkdir -p \",outdir  ) )   \n",
    "    outvcf = paste0(outdir, \"/chr\",n ,'.filt.vcf')\n",
    "    bed    = paste0(homedir, reso, \"/\",cell, \"/\" , cell, '.filtered.bed')\n",
    "        \n",
    "    system(paste('bcftools view', vcf ,\n",
    "    '-R' , bed, '-s', paste(samples, collapse=\",\"),\n",
    "    \"-i \\'INFO/R2[0]>0.7\\' | bcftools view -g het --types snps -o\" , outvcf))\n",
    "}\n",
    "    }"
   ]
  },
  {
   "cell_type": "code",
   "execution_count": 76,
   "id": "de3e9a5c",
   "metadata": {},
   "outputs": [
    {
     "data": {
      "text/html": [
       "<ol>\n",
       "\t<li>NULL</li>\n",
       "\t<li>NULL</li>\n",
       "\t<li>NULL</li>\n",
       "\t<li>NULL</li>\n",
       "\t<li>NULL</li>\n",
       "\t<li>NULL</li>\n",
       "\t<li>NULL</li>\n",
       "\t<li>NULL</li>\n",
       "</ol>\n"
      ],
      "text/latex": [
       "\\begin{enumerate}\n",
       "\\item NULL\n",
       "\\item NULL\n",
       "\\item NULL\n",
       "\\item NULL\n",
       "\\item NULL\n",
       "\\item NULL\n",
       "\\item NULL\n",
       "\\item NULL\n",
       "\\end{enumerate}\n"
      ],
      "text/markdown": [
       "1. NULL\n",
       "2. NULL\n",
       "3. NULL\n",
       "4. NULL\n",
       "5. NULL\n",
       "6. NULL\n",
       "7. NULL\n",
       "8. NULL\n",
       "\n",
       "\n"
      ],
      "text/plain": [
       "[[1]]\n",
       "NULL\n",
       "\n",
       "[[2]]\n",
       "NULL\n",
       "\n",
       "[[3]]\n",
       "NULL\n",
       "\n",
       "[[4]]\n",
       "NULL\n",
       "\n",
       "[[5]]\n",
       "NULL\n",
       "\n",
       "[[6]]\n",
       "NULL\n",
       "\n",
       "[[7]]\n",
       "NULL\n",
       "\n",
       "[[8]]\n",
       "NULL\n"
      ]
     },
     "metadata": {},
     "output_type": "display_data"
    }
   ],
   "source": [
    "mclapply(celltypes, function(x) filter_vcf(x) , mc.cores = 34)"
   ]
  },
  {
   "cell_type": "code",
   "execution_count": 77,
   "id": "5a67c80b",
   "metadata": {},
   "outputs": [],
   "source": [
    "for (cell in celltypes) {\n",
    "setwd(paste(homedir, reso, cell, \"vcfs_peaksonly\", sep=\"/\"))\n",
    "system(\"bcftools concat chr1.filt.vcf chr2.filt.vcf chr3.filt.vcf chr4.filt.vcf chr5.filt.vcf chr6.filt.vcf chr7.filt.vcf chr8.filt.vcf chr9.filt.vcf chr10.filt.vcf chr11.filt.vcf chr12.filt.vcf chr13.filt.vcf chr14.filt.vcf chr15.filt.vcf chr16.filt.vcf chr17.filt.vcf chr18.filt.vcf chr19.filt.vcf chr20.filt.vcf chr21.filt.vcf chr22.filt.vcf -Oz -o full.chr.vcf.gz\")\n",
    "#system(\"awk \\'{if($0 !~ /^#/) print \\\"chr\\\"$0; else print $0}\\' full.vcf > full.chr.vcf\")\n",
    "#system('bgzip full.chr.vcf -f')\n",
    "system('tabix full.chr.vcf.gz -f')\n",
    "    }"
   ]
  },
  {
   "cell_type": "code",
   "execution_count": 78,
   "id": "f8a4e365",
   "metadata": {},
   "outputs": [],
   "source": [
    "for (cell in celltypes){\n",
    "new_vcf_dir = paste0(homedir, reso,\"/\" ,cell, \"/vcfs_peaksonly\" )    \n",
    "bam = paste0(sampdir, \"PBMC\", ids,\"/\", reso, '/pbmc', ids, \"_\", cell, \".bam\")\n",
    "writeLines(bam, paste(new_vcf_dir, 'bam.list.txt', sep=\"/\"))\n",
    "    }"
   ]
  },
  {
   "cell_type": "code",
   "execution_count": 79,
   "id": "e90846ec",
   "metadata": {},
   "outputs": [],
   "source": [
    "rasqual_ase = function (cell, reso){\n",
    "setwd(paste0(homedir, reso,\"/\" ,cell, \"/vcfs_peaksonly\" )  )\n",
    "system(\"rm full.ase*\")   ## remove older files \n",
    "system('bash /nfs/lab/paola/rasqual/src/ASVCF/createASVCF.sh paired_end bam.list.txt full.chr.vcf.gz full.ase.vcf.gz atac')\n",
    "system('bcftools view full.ase.vcf.gz -i \\'COUNT(GT=\\\"het\\\")>1\\' -Oz -o full.ase.filtered.vcf.gz')\n",
    "system('tabix full.ase.filtered.vcf.gz -f')\n",
    "    }"
   ]
  },
  {
   "cell_type": "code",
   "execution_count": 80,
   "id": "34d3ee55",
   "metadata": {},
   "outputs": [
    {
     "data": {
      "text/html": [
       "<ol>\n",
       "\t<li>0</li>\n",
       "\t<li>0</li>\n",
       "\t<li>0</li>\n",
       "\t<li>0</li>\n",
       "\t<li>0</li>\n",
       "\t<li>0</li>\n",
       "\t<li>0</li>\n",
       "\t<li>0</li>\n",
       "</ol>\n"
      ],
      "text/latex": [
       "\\begin{enumerate}\n",
       "\\item 0\n",
       "\\item 0\n",
       "\\item 0\n",
       "\\item 0\n",
       "\\item 0\n",
       "\\item 0\n",
       "\\item 0\n",
       "\\item 0\n",
       "\\end{enumerate}\n"
      ],
      "text/markdown": [
       "1. 0\n",
       "2. 0\n",
       "3. 0\n",
       "4. 0\n",
       "5. 0\n",
       "6. 0\n",
       "7. 0\n",
       "8. 0\n",
       "\n",
       "\n"
      ],
      "text/plain": [
       "[[1]]\n",
       "[1] 0\n",
       "\n",
       "[[2]]\n",
       "[1] 0\n",
       "\n",
       "[[3]]\n",
       "[1] 0\n",
       "\n",
       "[[4]]\n",
       "[1] 0\n",
       "\n",
       "[[5]]\n",
       "[1] 0\n",
       "\n",
       "[[6]]\n",
       "[1] 0\n",
       "\n",
       "[[7]]\n",
       "[1] 0\n",
       "\n",
       "[[8]]\n",
       "[1] 0\n"
      ]
     },
     "metadata": {},
     "output_type": "display_data"
    }
   ],
   "source": [
    "mclapply(celltypes, function (x) rasqual_ase(cell=x, reso=reso),mc.cores = 24)"
   ]
  },
  {
   "cell_type": "code",
   "execution_count": null,
   "id": "be9d9231",
   "metadata": {},
   "outputs": [],
   "source": []
  }
 ],
 "metadata": {
  "kernelspec": {
   "display_name": "R 4.1",
   "language": "R",
   "name": "ir41"
  },
  "language_info": {
   "codemirror_mode": "r",
   "file_extension": ".r",
   "mimetype": "text/x-r-source",
   "name": "R",
   "pygments_lexer": "r",
   "version": "4.1.1"
  }
 },
 "nbformat": 4,
 "nbformat_minor": 5
}
