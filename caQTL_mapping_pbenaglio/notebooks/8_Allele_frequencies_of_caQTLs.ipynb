{
 "cells": [
  {
   "cell_type": "code",
   "execution_count": 1,
   "id": "53934f7d",
   "metadata": {},
   "outputs": [],
   "source": [
    "library(stringr)"
   ]
  },
  {
   "cell_type": "code",
   "execution_count": 2,
   "id": "f9f59c1f",
   "metadata": {},
   "outputs": [],
   "source": [
    "suppressPackageStartupMessages(library(vioplot))"
   ]
  },
  {
   "cell_type": "code",
   "execution_count": 3,
   "id": "4560c8eb",
   "metadata": {},
   "outputs": [],
   "source": [
    "setwd('/nfs/lab/projects/pbmc_snATAC/analysis_v2/allele_freq')"
   ]
  },
  {
   "cell_type": "code",
   "execution_count": 4,
   "id": "2e932da1",
   "metadata": {},
   "outputs": [],
   "source": [
    "vtested = read.table(\"../example_boxplots/All_tested_genotypes.tsv\", header=T)"
   ]
  },
  {
   "cell_type": "code",
   "execution_count": 5,
   "id": "06e568ba",
   "metadata": {},
   "outputs": [],
   "source": [
    "vlist = substring(rownames(vtested),4)"
   ]
  },
  {
   "cell_type": "code",
   "execution_count": 6,
   "id": "c6aaf4dc",
   "metadata": {},
   "outputs": [],
   "source": [
    "writeLines(vlist, \"List_of_tested_variants\")"
   ]
  },
  {
   "cell_type": "code",
   "execution_count": null,
   "id": "0a04f560",
   "metadata": {},
   "outputs": [],
   "source": [
    "#gatsby\n",
    "# plink \\\n",
    "# --bfile /nfs/lab/1KGP/1KGP_ALL.merged \\\n",
    "# --keep /nfs/lab/1KGP/1KGP.EUR.samples \\\n",
    "# --exclude /nfs/lab/1KGP/1KGP_ALL.merged.dupvars \\\n",
    "# --freq \\\n",
    "# --extract List_of_tested_variants \n"
   ]
  },
  {
   "cell_type": "code",
   "execution_count": 109,
   "id": "e59aa357",
   "metadata": {},
   "outputs": [],
   "source": [
    "traits = c( 'Asthma_child_onset.99credset.PPA.bed',\n",
    "            'Atopic_dermatitis.99credset.PPA.bed',\n",
    "            'Autoimmune_vitiligo.99credset.PPA.bed',\n",
    "            'Basophil_count.99credset.PPA.bed',\n",
    "            'Crohns_disease.99credset.PPA.bed',\n",
    "            'Eosinophil_count.99credset.PPA.bed',\n",
    "            'Gout.99credset.PPA.bed',\n",
    "            'Lymphocyte_count.99credset.PPA.bed',\n",
    "            'Monocyte_count.99credset.PPA.bed',\n",
    "            'Neutrophil_count.99credset.PPA.bed',\n",
    "            'Primary_sclerosing_cholangitis.99credset.PPA.bed',\n",
    "            'Rheumatoid_arthritis.99credset.PPA.bed',\n",
    "            'Selective_IgA_deficiency.99credset.PPA.bed',\n",
    "            'Systemic_lupus_erythematosus.99credset.PPA.bed',\n",
    "           'Type_1_diabetes.99credset.PPA.bed',\n",
    "            'Ulcerative_colitis.99credset.PPA.bed')"
   ]
  },
  {
   "cell_type": "code",
   "execution_count": 110,
   "id": "3446d0cf",
   "metadata": {},
   "outputs": [],
   "source": [
    "fmdir = '/nfs/lab/projects/pbmc_snATAC/data/credible_sets/'"
   ]
  },
  {
   "cell_type": "code",
   "execution_count": 111,
   "id": "ce06be9e",
   "metadata": {},
   "outputs": [],
   "source": [
    "alltraits = data.frame()\n",
    "for (i in 1: length(traits)){\n",
    "\n",
    "fm = read.table(paste0(fmdir, traits[i] ))\n",
    "colnames(fm) = c(\"chr\", \"start\", \"stop\", \"varID\", \"Locus\", \"LNBF\", \"PPA\")\n",
    " fm$Trait =  str_split_fixed(traits[i], \"\\\\.\", 2)[,1]\n",
    " alltraits = rbind(alltraits, fm)\n",
    "    }\n",
    "    "
   ]
  },
  {
   "cell_type": "code",
   "execution_count": 112,
   "id": "a98a70ce",
   "metadata": {},
   "outputs": [],
   "source": [
    "fmlist = unique(alltraits$varID)"
   ]
  },
  {
   "cell_type": "code",
   "execution_count": 113,
   "id": "7caeb2b8",
   "metadata": {},
   "outputs": [],
   "source": [
    "writeLines(fmlist, \"List_of_finemapped_variants\")"
   ]
  },
  {
   "cell_type": "code",
   "execution_count": null,
   "id": "fad3b94c",
   "metadata": {},
   "outputs": [],
   "source": [
    "#gatsby\n",
    "# plink \\\n",
    "# --bfile /nfs/lab/1KGP/1KGP_ALL.merged \\\n",
    "# --keep /nfs/lab/1KGP/1KGP.EUR.samples \\\n",
    "# --exclude /nfs/lab/1KGP/1KGP_ALL.merged.dupvars \\\n",
    "# --freq \\\n",
    "# --extract List_of_finemapped_variants \\\n",
    "# --out finemapped"
   ]
  },
  {
   "cell_type": "code",
   "execution_count": 134,
   "id": "cdaf9e9b",
   "metadata": {},
   "outputs": [],
   "source": [
    "t1dss = read.table('t1d_vars')\n",
    "\n",
    "t1dss$varID = with(t1dss, paste(V2,V3,V5,V4, sep=\":\"))\n",
    "\n",
    "writeLines(t1dss$varID, \"t1d_finemapped_variants\")"
   ]
  },
  {
   "cell_type": "code",
   "execution_count": null,
   "id": "a97d8434",
   "metadata": {},
   "outputs": [],
   "source": [
    "# plink \\\n",
    "# --bfile /nfs/lab/1KGP/1KGP_ALL.merged \\\n",
    "# --keep /nfs/lab/1KGP/1KGP.EUR.samples \\\n",
    "# --exclude /nfs/lab/1KGP/1KGP_ALL.merged.dupvars \\\n",
    "# --freq \\\n",
    "# --extract t1d_finemapped_variants \\\n",
    "# --out t1d_finemapped"
   ]
  },
  {
   "cell_type": "code",
   "execution_count": 145,
   "id": "6ba449ee",
   "metadata": {},
   "outputs": [],
   "source": [
    "nmli = setNames(t1dss$varID, nm = t1dss$V1)\n",
    "alltraits$varID[alltraits$varID %in% names(nmli) ] <- nmli[alltraits$varID[alltraits$varID %in% names(nmli) ]]\n",
    "sum(grepl (\"rs\", alltraits$varID))"
   ]
  },
  {
   "cell_type": "code",
   "execution_count": 156,
   "id": "38cc2c48",
   "metadata": {},
   "outputs": [],
   "source": [
    "fmlist = unique(alltraits$varID)"
   ]
  },
  {
   "cell_type": "code",
   "execution_count": 191,
   "id": "d6f47fe6",
   "metadata": {},
   "outputs": [],
   "source": [
    "write.table(alltraits[,1:4], \"finemapped_variants.bed\", sep=\"\\t\", quote=F, row.names=F, col.names=F)"
   ]
  },
  {
   "cell_type": "code",
   "execution_count": 192,
   "id": "42c177b2",
   "metadata": {},
   "outputs": [],
   "source": [
    "system( 'bedtools intersect -a finemapped_variants.bed -b /nfs/lab/projects/pbmc_snATAC/geo_submission/snATAC_merged_celltypes_peaks.bed -wa -wb > finemapped_variants_intersectpeaks.bed')"
   ]
  },
  {
   "cell_type": "code",
   "execution_count": 195,
   "id": "0ea91e1c",
   "metadata": {},
   "outputs": [],
   "source": [
    "inpeaks = read.table('finemapped_variants_intersectpeaks.bed') "
   ]
  },
  {
   "cell_type": "code",
   "execution_count": 197,
   "id": "896a2791",
   "metadata": {},
   "outputs": [],
   "source": [
    "fm_inpeaks = unique(inpeaks$V4)"
   ]
  },
  {
   "cell_type": "code",
   "execution_count": 198,
   "id": "2cc606d9",
   "metadata": {},
   "outputs": [
    {
     "data": {
      "text/html": [
       "191116"
      ],
      "text/latex": [
       "191116"
      ],
      "text/markdown": [
       "191116"
      ],
      "text/plain": [
       "[1] 191116"
      ]
     },
     "metadata": {},
     "output_type": "display_data"
    },
    {
     "data": {
      "text/html": [
       "45911"
      ],
      "text/latex": [
       "45911"
      ],
      "text/markdown": [
       "45911"
      ],
      "text/plain": [
       "[1] 45911"
      ]
     },
     "metadata": {},
     "output_type": "display_data"
    },
    {
     "data": {
      "text/html": [
       "4925"
      ],
      "text/latex": [
       "4925"
      ],
      "text/markdown": [
       "4925"
      ],
      "text/plain": [
       "[1] 4925"
      ]
     },
     "metadata": {},
     "output_type": "display_data"
    },
    {
     "data": {
      "text/html": [
       "3655"
      ],
      "text/latex": [
       "3655"
      ],
      "text/markdown": [
       "3655"
      ],
      "text/plain": [
       "[1] 3655"
      ]
     },
     "metadata": {},
     "output_type": "display_data"
    }
   ],
   "source": [
    "length(vlist)\n",
    "length(fmlist)\n",
    "length(fm_inpeaks)\n",
    "sum(vlist %in% fmlist)"
   ]
  },
  {
   "cell_type": "code",
   "execution_count": null,
   "id": "1199b944",
   "metadata": {},
   "outputs": [],
   "source": [
    "##  4925 out of 45911 variants in the 99% credible sets were in a PBMC peak\n",
    "##  3655 out of these 4925 SNPs were tested in our snATAC"
   ]
  },
  {
   "cell_type": "code",
   "execution_count": 10,
   "id": "00eb62d7",
   "metadata": {},
   "outputs": [],
   "source": [
    "caqdir = '/nfs/lab/projects/pbmc_snATAC/analysis_v2/summarized_caqtls/run3/'\n",
    "files  = list.files(caqdir)[grepl ('_caqtl_sumstats_run3.tsv', list.files(caqdir))] \n",
    "files = files[!(files %in% c('cd4_t_caqtl_sumstats_run3.tsv', 'cd8_t_caqtl_sumstats_run3.tsv', \"bulk_caqtl_sumstats_run3.tsv\"))]\n",
    "cells  = gsub( '_caqtl_sumstats_run3.tsv', \"\" , files)"
   ]
  },
  {
   "cell_type": "code",
   "execution_count": 11,
   "id": "aa410de3",
   "metadata": {},
   "outputs": [],
   "source": [
    "colkeep = c('Feature','varID', 'rsID', 'P_value', 'Q_value' ,'Effect_size' ,'cell', \"exclude\" )"
   ]
  },
  {
   "cell_type": "code",
   "execution_count": 12,
   "id": "9c385c02",
   "metadata": {},
   "outputs": [],
   "source": [
    "M= data.frame()\n",
    "for (y in 1:length(files)){\n",
    "\n",
    "sms = read.table(paste0(caqdir, files[y]), header=T)\n",
    "sss = subset(sms, Is_peak_caQTL==T )\n",
    "sss = sss[order(sss$Q_value),]\n",
    "ag  = aggregate(Q_value~Feature, sss, min)\n",
    "mm  = merge (sss, ag, by= colnames(ag))\n",
    "mm$cell = cells[y]\n",
    "M    = rbind(M, mm[,colkeep])\n",
    "}"
   ]
  },
  {
   "cell_type": "code",
   "execution_count": 13,
   "id": "12253171",
   "metadata": {},
   "outputs": [],
   "source": [
    "### Lead variants: all variants with the min qvalue per feature"
   ]
  },
  {
   "cell_type": "code",
   "execution_count": 167,
   "id": "e03fa93c",
   "metadata": {},
   "outputs": [],
   "source": [
    "df = data.frame(tested = vlist, caQTl = paste0(\"chr\", vlist) %in% M$varID , finemapped = vlist %in% fmlist  )"
   ]
  },
  {
   "cell_type": "code",
   "execution_count": 168,
   "id": "e6b86cd1",
   "metadata": {},
   "outputs": [
    {
     "data": {
      "text/plain": [
       "       \n",
       "         FALSE   TRUE\n",
       "  FALSE 166615   3050\n",
       "  TRUE   20846    605"
      ]
     },
     "metadata": {},
     "output_type": "display_data"
    }
   ],
   "source": [
    "table(df$caQTl, df$finemapped)"
   ]
  },
  {
   "cell_type": "code",
   "execution_count": 169,
   "id": "a5e543d8",
   "metadata": {},
   "outputs": [
    {
     "data": {
      "text/plain": [
       "\n",
       "\tFisher's Exact Test for Count Data\n",
       "\n",
       "data:  table(df$caQTl, df$finemapped)\n",
       "p-value < 2.2e-16\n",
       "alternative hypothesis: true odds ratio is not equal to 1\n",
       "95 percent confidence interval:\n",
       " 1.448874 1.732627\n",
       "sample estimates:\n",
       "odds ratio \n",
       "  1.585415 \n"
      ]
     },
     "metadata": {},
     "output_type": "display_data"
    }
   ],
   "source": [
    "fisher.test(table(df$caQTl, df$finemapped))"
   ]
  },
  {
   "cell_type": "code",
   "execution_count": 170,
   "id": "a4ea4e4e",
   "metadata": {},
   "outputs": [],
   "source": [
    "af1 = read.table(\"plink.frq\", header=T)"
   ]
  },
  {
   "cell_type": "code",
   "execution_count": 171,
   "id": "4c4c38be",
   "metadata": {},
   "outputs": [],
   "source": [
    "df = merge(df, af1, by.x=\"tested\", by.y=\"SNP\")"
   ]
  },
  {
   "cell_type": "code",
   "execution_count": 19,
   "id": "295b8505",
   "metadata": {},
   "outputs": [],
   "source": [
    "af2 = read.table(\"finemapped.frq\", header=T)\n",
    "af2 = rbind( af2, read.table(\"t1d_finemapped.frq\", header=T))"
   ]
  },
  {
   "cell_type": "code",
   "execution_count": 175,
   "id": "0ab8ff30",
   "metadata": {},
   "outputs": [],
   "source": [
    "af2 = af2[!duplicated(af2$SNP),]"
   ]
  },
  {
   "cell_type": "code",
   "execution_count": 176,
   "id": "636acb15",
   "metadata": {},
   "outputs": [],
   "source": [
    "aflist = list(af2$MAF, df$MAF, df$MAF[df$caQTl], df$MAF[df$finemapped], df$MAF[df$caQTl &df$finemapped])"
   ]
  },
  {
   "cell_type": "code",
   "execution_count": 177,
   "id": "af40c053",
   "metadata": {},
   "outputs": [],
   "source": [
    "names(aflist)<-c(\"finemapped\", \"tested QTL\", \"signif QTL\", \n",
    "                                                      \"tested & finemapped\", \"caQTL & finemapped\")"
   ]
  },
  {
   "cell_type": "code",
   "execution_count": 202,
   "id": "9875104e",
   "metadata": {},
   "outputs": [
    {
     "data": {
      "image/png": "[encoded data removed]",
      "text/plain": [
       "Plot with title “”"
      ]
     },
     "metadata": {
      "image/png": {
       "height": 300,
       "width": 360
      }
     },
     "output_type": "display_data"
    }
   ],
   "source": [
    "par(mfrow=c(1,2), mar = c(10,4,4,0))\n",
    "vioplot(aflist, las=2, col=\"#69b3a2\")\n",
    "mtext(round(sapply(aflist, median),2), at =1:5)\n",
    "boxplot(aflist, las=2, col=\"#69b3a2\")\n",
    "mtext(round(sapply(aflist, median),2), at =1:5)"
   ]
  },
  {
   "cell_type": "code",
   "execution_count": 179,
   "id": "a327b15c",
   "metadata": {},
   "outputs": [
    {
     "data": {
      "text/html": [
       "<style>\n",
       ".dl-inline {width: auto; margin:0; padding: 0}\n",
       ".dl-inline>dt, .dl-inline>dd {float: none; width: auto; display: inline-block}\n",
       ".dl-inline>dt::after {content: \":\\0020\"; padding-right: .5ex}\n",
       ".dl-inline>dt:not(:first-of-type) {padding-left: .5ex}\n",
       "</style><dl class=dl-inline><dt>finemapped</dt><dd>0.28</dd><dt>tested QTL</dt><dd>0.25</dd><dt>signif QTL</dt><dd>0.29</dd><dt>tested &amp; finemapped</dt><dd>0.31</dd><dt>caQTL &amp; finemapped</dt><dd>0.32</dd></dl>\n"
      ],
      "text/latex": [
       "\\begin{description*}\n",
       "\\item[finemapped] 0.28\n",
       "\\item[tested QTL] 0.25\n",
       "\\item[signif QTL] 0.29\n",
       "\\item[tested \\textbackslash{}\\& finemapped] 0.31\n",
       "\\item[caQTL \\textbackslash{}\\& finemapped] 0.32\n",
       "\\end{description*}\n"
      ],
      "text/markdown": [
       "finemapped\n",
       ":   0.28tested QTL\n",
       ":   0.25signif QTL\n",
       ":   0.29tested &amp;amp; finemapped\n",
       ":   0.31caQTL &amp;amp; finemapped\n",
       ":   0.32\n",
       "\n"
      ],
      "text/plain": [
       "         finemapped          tested QTL          signif QTL tested & finemapped \n",
       "               0.28                0.25                0.29                0.31 \n",
       " caQTL & finemapped \n",
       "               0.32 "
      ]
     },
     "metadata": {},
     "output_type": "display_data"
    }
   ],
   "source": [
    "round(sapply(aflist, median),2)"
   ]
  },
  {
   "cell_type": "code",
   "execution_count": 180,
   "id": "ecb4f2b8",
   "metadata": {},
   "outputs": [],
   "source": [
    "df$MAFgroup = cut(df$MAF, breaks = 5)"
   ]
  },
  {
   "cell_type": "code",
   "execution_count": 181,
   "id": "8eb678bf",
   "metadata": {},
   "outputs": [],
   "source": [
    "tb = table(df$MAFgroup, df$caQTl)"
   ]
  },
  {
   "cell_type": "code",
   "execution_count": 182,
   "id": "c00fd071",
   "metadata": {},
   "outputs": [],
   "source": [
    "prp = t(tb)/colSums(tb)"
   ]
  },
  {
   "cell_type": "code",
   "execution_count": 184,
   "id": "6f2071ef",
   "metadata": {},
   "outputs": [],
   "source": [
    "colnames(prp)=c(\"0-0.1\", \"0.1-0.2\", \"0.2-0.3\", \"0.3-0.4\", \"0.4-0.5\")"
   ]
  },
  {
   "cell_type": "code",
   "execution_count": 185,
   "id": "c168504c",
   "metadata": {},
   "outputs": [
    {
     "data": {
      "image/png": "[encoded data removed]",
      "text/plain": [
       "plot without title"
      ]
     },
     "metadata": {
      "image/png": {
       "height": 300,
       "width": 360
      }
     },
     "output_type": "display_data"
    }
   ],
   "source": [
    "options(repr.plot.width=6, repr.plot.height=5)\n",
    "barplot(prp, beside = T, col =c(\"gray\", \"#69b3a2\"),las=1, space = c(0,0.5),\n",
    "        ylim = c(0,0.25), ylab=\"Proportion SNPs\", xlab=\"EUR MAF\")\n",
    "legend(\"topleft\", fill = c(\"gray\", \"#69b3a2\"), legend = c(\"Tested\", \"caQTLs\"), bty=\"n\", \n",
    "       cex=1.3,x.intersp = 0.2,y.intersp = 1.2)"
   ]
  },
  {
   "cell_type": "code",
   "execution_count": 186,
   "id": "26aec239",
   "metadata": {},
   "outputs": [
    {
     "data": {
      "text/html": [
       "<style>\n",
       ".list-inline {list-style: none; margin:0; padding: 0}\n",
       ".list-inline>li {display: inline-block}\n",
       ".list-inline>li:not(:last-child)::after {content: \"\\00b7\"; padding: 0 .5ex}\n",
       "</style>\n",
       "<ol class=list-inline><li>189852</li><li>9</li></ol>\n"
      ],
      "text/latex": [
       "\\begin{enumerate*}\n",
       "\\item 189852\n",
       "\\item 9\n",
       "\\end{enumerate*}\n"
      ],
      "text/markdown": [
       "1. 189852\n",
       "2. 9\n",
       "\n",
       "\n"
      ],
      "text/plain": [
       "[1] 189852      9"
      ]
     },
     "metadata": {},
     "output_type": "display_data"
    }
   ],
   "source": [
    "dim(df)"
   ]
  },
  {
   "cell_type": "code",
   "execution_count": 203,
   "id": "ca86b918",
   "metadata": {},
   "outputs": [
    {
     "data": {
      "text/html": [
       "<style>\n",
       ".list-inline {list-style: none; margin:0; padding: 0}\n",
       ".list-inline>li {display: inline-block}\n",
       ".list-inline>li:not(:last-child)::after {content: \"\\00b7\"; padding: 0 .5ex}\n",
       "</style>\n",
       "<ol class=list-inline><li>'1:8526142:G:A'</li><li>'1:8537289:G:A'</li><li>'1:8556545:A:G'</li><li>'1:8557320:C:G'</li><li>'1:8557691:A:C'</li><li>'1:8569871:A:T'</li></ol>\n"
      ],
      "text/latex": [
       "\\begin{enumerate*}\n",
       "\\item '1:8526142:G:A'\n",
       "\\item '1:8537289:G:A'\n",
       "\\item '1:8556545:A:G'\n",
       "\\item '1:8557320:C:G'\n",
       "\\item '1:8557691:A:C'\n",
       "\\item '1:8569871:A:T'\n",
       "\\end{enumerate*}\n"
      ],
      "text/markdown": [
       "1. '1:8526142:G:A'\n",
       "2. '1:8537289:G:A'\n",
       "3. '1:8556545:A:G'\n",
       "4. '1:8557320:C:G'\n",
       "5. '1:8557691:A:C'\n",
       "6. '1:8569871:A:T'\n",
       "\n",
       "\n"
      ],
      "text/plain": [
       "[1] \"1:8526142:G:A\" \"1:8537289:G:A\" \"1:8556545:A:G\" \"1:8557320:C:G\"\n",
       "[5] \"1:8557691:A:C\" \"1:8569871:A:T\""
      ]
     },
     "metadata": {},
     "output_type": "display_data"
    }
   ],
   "source": [
    "head(fm_inpeaks)"
   ]
  },
  {
   "cell_type": "code",
   "execution_count": 204,
   "id": "772a46d2",
   "metadata": {},
   "outputs": [],
   "source": [
    "inP = subset(af2, SNP %in% fm_inpeaks)"
   ]
  },
  {
   "cell_type": "code",
   "execution_count": 211,
   "id": "73992f84",
   "metadata": {},
   "outputs": [],
   "source": [
    "inP$MAFgroup = cut(inP$MAF, breaks = c(0,0.1,0.2,0.3,0.4,0.5))"
   ]
  },
  {
   "cell_type": "code",
   "execution_count": 214,
   "id": "7d273a3f",
   "metadata": {},
   "outputs": [],
   "source": [
    "inP$tested  = inP$SNP %in% vlist"
   ]
  },
  {
   "cell_type": "code",
   "execution_count": 220,
   "id": "71a3586b",
   "metadata": {},
   "outputs": [],
   "source": [
    "bp = t(table(inP$MAFgroup,inP$tested==FALSE))"
   ]
  },
  {
   "cell_type": "code",
   "execution_count": 233,
   "id": "8c249ff1",
   "metadata": {},
   "outputs": [
    {
     "data": {
      "text/html": [
       "'/nfs/lab/projects/pbmc_snATAC/analysis_v2/allele_freq'"
      ],
      "text/latex": [
       "'/nfs/lab/projects/pbmc\\_snATAC/analysis\\_v2/allele\\_freq'"
      ],
      "text/markdown": [
       "'/nfs/lab/projects/pbmc_snATAC/analysis_v2/allele_freq'"
      ],
      "text/plain": [
       "[1] \"/nfs/lab/projects/pbmc_snATAC/analysis_v2/allele_freq\""
      ]
     },
     "metadata": {},
     "output_type": "display_data"
    }
   ],
   "source": [
    "getwd()"
   ]
  },
  {
   "cell_type": "code",
   "execution_count": 237,
   "id": "8f147bf4",
   "metadata": {},
   "outputs": [
    {
     "data": {
      "text/html": [
       "<strong>png:</strong> 2"
      ],
      "text/latex": [
       "\\textbf{png:} 2"
      ],
      "text/markdown": [
       "**png:** 2"
      ],
      "text/plain": [
       "png \n",
       "  2 "
      ]
     },
     "metadata": {},
     "output_type": "display_data"
    }
   ],
   "source": [
    "pdf(\"../figures/allelefreq_finemapped.pdf\")\n",
    "par(pin = c(5,3))\n",
    "pp<-barplot(bp, col =c(\"orange\", \"gray\"),las=1, \n",
    "        ylim = c(0,1200), ylab=\"# finemapped SNPs in PBMC cCREs\", xlab=\"EUR MAF\")\n",
    "legend(\"topleft\", fill = c( \"orange\", \"gray\"), legend = c(\"Tested\", \"Not tested\"), bty=\"n\", \n",
    "       cex=1.3,x.intersp = 0.2,y.intersp = 1.2)\n",
    "text(x=pp,y=bp[1,], labels = round(bp[1,]/colSums(bp),2), pos = 3)\n",
    "dev.off()"
   ]
  },
  {
   "cell_type": "code",
   "execution_count": 228,
   "id": "afab0c2c",
   "metadata": {},
   "outputs": [
    {
     "data": {
      "text/html": [
       "<style>\n",
       ".dl-inline {width: auto; margin:0; padding: 0}\n",
       ".dl-inline>dt, .dl-inline>dd {float: none; width: auto; display: inline-block}\n",
       ".dl-inline>dt::after {content: \":\\0020\"; padding-right: .5ex}\n",
       ".dl-inline>dt:not(:first-of-type) {padding-left: .5ex}\n",
       "</style><dl class=dl-inline><dt>(0,0.1]</dt><dd>0.32</dd><dt>(0.1,0.2]</dt><dd>0.72</dd><dt>(0.2,0.3]</dt><dd>0.87</dd><dt>(0.3,0.4]</dt><dd>0.9</dd><dt>(0.4,0.5]</dt><dd>0.89</dd></dl>\n"
      ],
      "text/latex": [
       "\\begin{description*}\n",
       "\\item[(0,0.1\\{{]}\\}] 0.32\n",
       "\\item[(0.1,0.2\\{{]}\\}] 0.72\n",
       "\\item[(0.2,0.3\\{{]}\\}] 0.87\n",
       "\\item[(0.3,0.4\\{{]}\\}] 0.9\n",
       "\\item[(0.4,0.5\\{{]}\\}] 0.89\n",
       "\\end{description*}\n"
      ],
      "text/markdown": [
       "(0,0.1]\n",
       ":   0.32(0.1,0.2]\n",
       ":   0.72(0.2,0.3]\n",
       ":   0.87(0.3,0.4]\n",
       ":   0.9(0.4,0.5]\n",
       ":   0.89\n",
       "\n"
      ],
      "text/plain": [
       "  (0,0.1] (0.1,0.2] (0.2,0.3] (0.3,0.4] (0.4,0.5] \n",
       "     0.32      0.72      0.87      0.90      0.89 "
      ]
     },
     "metadata": {},
     "output_type": "display_data"
    }
   ],
   "source": [
    "round(bp[1,]/colSums(bp),2)"
   ]
  },
  {
   "cell_type": "code",
   "execution_count": 227,
   "id": "1256f564",
   "metadata": {},
   "outputs": [
    {
     "data": {
      "text/plain": [
       "       \n",
       "        (0,0.1] (0.1,0.2] (0.2,0.3] (0.3,0.4] (0.4,0.5]\n",
       "  FALSE     177       621       955      1051       848\n",
       "  TRUE      373       238       137       121       106"
      ]
     },
     "metadata": {},
     "output_type": "display_data"
    }
   ],
   "source": [
    "bp"
   ]
  },
  {
   "cell_type": "code",
   "execution_count": 29,
   "id": "c8b4b3f6",
   "metadata": {},
   "outputs": [],
   "source": [
    "longf = read.table('../summarized_caqtls/run3/EUR_caqtl_leads_run3.tsv', header=T)\n",
    "\n",
    "longf$exclude = longf$Sequencing_mapping_error_rate>0.1 | longf$Ref_allele_bias<0.2 | longf$Ref_allele_bias>0.8\n"
   ]
  },
  {
   "cell_type": "code",
   "execution_count": 31,
   "id": "9f832df2",
   "metadata": {},
   "outputs": [],
   "source": [
    "df$varID = paste0( \"chr\" , df$tested)"
   ]
  },
  {
   "cell_type": "code",
   "execution_count": 32,
   "id": "e93e849a",
   "metadata": {},
   "outputs": [],
   "source": [
    "longf = merge(longf, df[,c ('varID','MAF')], by=\"varID\")"
   ]
  },
  {
   "cell_type": "code",
   "execution_count": 33,
   "id": "3bc750ca",
   "metadata": {},
   "outputs": [],
   "source": [
    "longf= longf[order(longf$P_VAl),]"
   ]
  },
  {
   "cell_type": "code",
   "execution_count": 34,
   "id": "9c5621a2",
   "metadata": {},
   "outputs": [],
   "source": [
    "longfsub = subset(longf, !duplicated(longf$Feature))"
   ]
  },
  {
   "cell_type": "code",
   "execution_count": 36,
   "id": "55ea0e72",
   "metadata": {},
   "outputs": [
    {
     "data": {
      "image/png": "[encoded data removed]",
      "text/plain": [
       "Plot with title “Histogram of longfsub$MAF[longfsub$flag_fdr10 == T & longfsub$exclude == F]”"
      ]
     },
     "metadata": {
      "image/png": {
       "height": 300,
       "width": 600
      }
     },
     "output_type": "display_data"
    }
   ],
   "source": [
    "options(repr.plot.width=10, repr.plot.height=5)\n",
    "par(mfrow=c(1,2))\n",
    "hist(longfsub$MAF, breaks=5)\n",
    "hist(longfsub$MAF[longfsub$flag_fdr10==T & longfsub$exclude==F], breaks=5)"
   ]
  },
  {
   "cell_type": "code",
   "execution_count": 48,
   "id": "92bad62b",
   "metadata": {},
   "outputs": [
    {
     "data": {
      "text/html": [
       "<style>\n",
       ".list-inline {list-style: none; margin:0; padding: 0}\n",
       ".list-inline>li {display: inline-block}\n",
       ".list-inline>li:not(:last-child)::after {content: \"\\00b7\"; padding: 0 .5ex}\n",
       "</style>\n",
       "<ol class=list-inline><li>79585</li><li>30</li></ol>\n"
      ],
      "text/latex": [
       "\\begin{enumerate*}\n",
       "\\item 79585\n",
       "\\item 30\n",
       "\\end{enumerate*}\n"
      ],
      "text/markdown": [
       "1. 79585\n",
       "2. 30\n",
       "\n",
       "\n"
      ],
      "text/plain": [
       "[1] 79585    30"
      ]
     },
     "metadata": {},
     "output_type": "display_data"
    }
   ],
   "source": [
    "dim(sms)"
   ]
  },
  {
   "cell_type": "code",
   "execution_count": null,
   "id": "63a6c38c",
   "metadata": {},
   "outputs": [],
   "source": [
    "sms = read.table(paste0(caqdir, files[y]), header=T)\n"
   ]
  },
  {
   "cell_type": "code",
   "execution_count": 49,
   "id": "83fa6f6d",
   "metadata": {},
   "outputs": [],
   "source": [
    "bed = str_split_fixed(sms$Feature, \":|-\", 3)\n",
    "\n",
    "mid = as.numeric(bed[,2]) + ((as.numeric(bed[,3])-as.numeric(bed[,2]))/2)\n",
    "\n",
    "tb = data.frame(midpoint = round(mid), snppsos = sms$position)\n",
    "\n",
    "tb$dist = tb$snppsos - tb$midpoint"
   ]
  },
  {
   "cell_type": "code",
   "execution_count": 50,
   "id": "3785afc7",
   "metadata": {},
   "outputs": [
    {
     "data": {
      "image/png": "[encoded data removed]",
      "text/plain": [
       "Plot with title “Histogram of tb$dist”"
      ]
     },
     "metadata": {
      "image/png": {
       "height": 300,
       "width": 600
      }
     },
     "output_type": "display_data"
    }
   ],
   "source": [
    "hist(tb$dist)"
   ]
  },
  {
   "cell_type": "code",
   "execution_count": 110,
   "id": "7f3d51b4",
   "metadata": {},
   "outputs": [],
   "source": [
    "dist_gt = data.frame(\n",
    "zero = rowSums(vtested==0),\n",
    "one  =  rowSums(vtested==1),\n",
    "two  = rowSums(vtested==2)\n",
    ")\n",
    "\n",
    "lba = apply(dist_gt[,1:3], 1,paste, collapse =\"|\")\n",
    "lbb = apply(dist_gt[,3:1], 1,paste, collapse =\"|\")\n",
    "#unicat = sapply(1:length(lba), function(x) max(as.numeric(lba[x]), as.numeric(lbb[x])))\n",
    "\n",
    "unicat = sapply(1:length(lba), function(x) sort(c(lba[x], lbb[x]))[1])"
   ]
  },
  {
   "cell_type": "code",
   "execution_count": 112,
   "id": "cc70108c",
   "metadata": {},
   "outputs": [],
   "source": [
    "longf$class= unicat[longf$varID]"
   ]
  },
  {
   "cell_type": "code",
   "execution_count": 140,
   "id": "43c01ffe",
   "metadata": {},
   "outputs": [
    {
     "data": {
      "image/png": "[encoded data removed]",
      "text/plain": [
       "Plot with title “nk”"
      ]
     },
     "metadata": {
      "image/png": {
       "height": 180,
       "width": 600
      }
     },
     "output_type": "display_data"
    }
   ],
   "source": [
    "options(repr.plot.width=10, repr.plot.height=3)\n",
    "par(mfrow=c(1,4))\n",
    "for(c in c( \"t\", \"mono\", \"b\", \"nk\")){\n",
    "        #   unique(longf$cell)[-c(1,2,4,6,9,15,16,18,17)])){\n",
    "het2 = subset(longf, flag_fdr10==TRUE & exclude==FALSE & class==\"0|2|8\" & cell == c)\n",
    "\n",
    "geno2 = subset(vtested, rownames(vtested) %in% het2$varID)\n",
    "barplot(colSums(geno2==1), main =c, las=2, col =c(rep(\"gray\", 7), rep(\"#69b3a2\", 3)))\n",
    "abline(h=median(colSums(geno2==1)))\n",
    "}"
   ]
  },
  {
   "cell_type": "code",
   "execution_count": null,
   "id": "a93279bf",
   "metadata": {},
   "outputs": [],
   "source": []
  }
 ],
 "metadata": {
  "kernelspec": {
   "display_name": "R 4.1",
   "language": "R",
   "name": "ir41"
  },
  "language_info": {
   "codemirror_mode": "r",
   "file_extension": ".r",
   "mimetype": "text/x-r-source",
   "name": "R",
   "pygments_lexer": "r",
   "version": "4.1.1"
  }
 },
 "nbformat": 4,
 "nbformat_minor": 5
}
