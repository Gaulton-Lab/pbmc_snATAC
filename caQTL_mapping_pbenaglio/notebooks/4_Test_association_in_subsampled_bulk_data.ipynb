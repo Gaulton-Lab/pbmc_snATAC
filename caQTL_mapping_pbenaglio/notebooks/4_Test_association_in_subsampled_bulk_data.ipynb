{
 "cells": [
  {
   "attachments": {},
   "cell_type": "markdown",
   "id": "a043abce",
   "metadata": {},
   "source": [
    "To assess the impact of sequencing depth on caQTL identification, the WASP-filtered ‘bulk’ alignments were subsampled to 25% of depth using ‘samtools view -s 0.25’ and caQTL analysis was repeated. \n",
    "### Subsample bam files"
   ]
  },
  {
   "cell_type": "code",
   "execution_count": 1,
   "id": "189cd83f",
   "metadata": {},
   "outputs": [],
   "source": [
    "library(parallel)"
   ]
  },
  {
   "cell_type": "code",
   "execution_count": 2,
   "id": "189dfd2a",
   "metadata": {},
   "outputs": [],
   "source": [
    "ids = c(2:5, 8:10,12:14) "
   ]
  },
  {
   "cell_type": "code",
   "execution_count": 3,
   "id": "5e15fb76",
   "metadata": {},
   "outputs": [],
   "source": [
    "sampdir = '/nfs/lab/projects/pbmc_snATAC/analysis_v2/wasp_peaks/bulk/'"
   ]
  },
  {
   "cell_type": "code",
   "execution_count": 4,
   "id": "3c0d58a0",
   "metadata": {},
   "outputs": [],
   "source": [
    "outdir = '/nfs/lab/projects/pbmc_snATAC/analysis_v2/subsample_bulk/'"
   ]
  },
  {
   "cell_type": "code",
   "execution_count": 5,
   "id": "d4d1ddfe",
   "metadata": {},
   "outputs": [],
   "source": [
    "subset_bam = function(s) {\n",
    "    \n",
    "sample      = paste0(\"pbmc\",s)\n",
    "bam_in      = paste0(sampdir, \"/PBMC\", s, '/rmdup/PBMC', s, '.keep.merged.rmdup.bam' )\n",
    "bam_out     = paste0(outdir, sample,'.wasped.sub025.bam' )\n",
    "cmd = paste(\"samtools view -s 0.25 -b\", bam_in ,'>', bam_out)\n",
    "system(cmd)\n",
    "    }"
   ]
  },
  {
   "cell_type": "code",
   "execution_count": 7,
   "id": "aeecc708",
   "metadata": {},
   "outputs": [
    {
     "data": {
      "text/html": [
       "<ol>\n",
       "\t<li>0</li>\n",
       "\t<li>0</li>\n",
       "\t<li>0</li>\n",
       "\t<li>0</li>\n",
       "\t<li>0</li>\n",
       "\t<li>0</li>\n",
       "\t<li>0</li>\n",
       "\t<li>0</li>\n",
       "\t<li>0</li>\n",
       "\t<li>0</li>\n",
       "</ol>\n"
      ],
      "text/latex": [
       "\\begin{enumerate}\n",
       "\\item 0\n",
       "\\item 0\n",
       "\\item 0\n",
       "\\item 0\n",
       "\\item 0\n",
       "\\item 0\n",
       "\\item 0\n",
       "\\item 0\n",
       "\\item 0\n",
       "\\item 0\n",
       "\\end{enumerate}\n"
      ],
      "text/markdown": [
       "1. 0\n",
       "2. 0\n",
       "3. 0\n",
       "4. 0\n",
       "5. 0\n",
       "6. 0\n",
       "7. 0\n",
       "8. 0\n",
       "9. 0\n",
       "10. 0\n",
       "\n",
       "\n"
      ],
      "text/plain": [
       "[[1]]\n",
       "[1] 0\n",
       "\n",
       "[[2]]\n",
       "[1] 0\n",
       "\n",
       "[[3]]\n",
       "[1] 0\n",
       "\n",
       "[[4]]\n",
       "[1] 0\n",
       "\n",
       "[[5]]\n",
       "[1] 0\n",
       "\n",
       "[[6]]\n",
       "[1] 0\n",
       "\n",
       "[[7]]\n",
       "[1] 0\n",
       "\n",
       "[[8]]\n",
       "[1] 0\n",
       "\n",
       "[[9]]\n",
       "[1] 0\n",
       "\n",
       "[[10]]\n",
       "[1] 0\n"
      ]
     },
     "metadata": {},
     "output_type": "display_data"
    }
   ],
   "source": [
    "mclapply(ids, subset_bam, mc.cores=24)"
   ]
  },
  {
   "cell_type": "code",
   "execution_count": 39,
   "id": "f4d244e2",
   "metadata": {},
   "outputs": [],
   "source": [
    "sort_and_index = function(s){\n",
    "sample      = paste0(\"pbmc\",s)\n",
    "outdir         = '/nfs/lab/projects/pbmc_snATAC/analysis_v2/subsample_bulk/'\n",
    "bam_out        = paste0(outdir, sample,'.wasped.sub025.bam' )\n",
    "sorted_bam     = paste0(outdir, sample,'.wasped.sub025.sorted.bam' )    \n",
    "system(paste('samtools', 'sort', '-m', '2G', '-@', '3', '-o', sorted_bam, bam_out)) \n",
    "system(paste(\"samtools index\", sorted_bam))\n",
    "}"
   ]
  },
  {
   "cell_type": "code",
   "execution_count": null,
   "id": "e35a098e",
   "metadata": {},
   "outputs": [],
   "source": [
    "mclapply(ids, sort_and_index, mc.cores=30)"
   ]
  },
  {
   "cell_type": "markdown",
   "id": "eea807c7",
   "metadata": {},
   "source": [
    "### Prepare count matrix"
   ]
  },
  {
   "cell_type": "code",
   "execution_count": 5,
   "id": "39162632",
   "metadata": {},
   "outputs": [],
   "source": [
    "sampdir  = '/nfs/lab/projects/pbmc_snATAC/analysis_v2/subsample_bulk/'\n",
    "outdir   = '/nfs/lab/projects/pbmc_snATAC/analysis_v2/rasqual_eur/'\n",
    "bedir    = '/nfs/lab/projects/pbmc_snATAC/analysis_v2/peaks/'"
   ]
  },
  {
   "cell_type": "code",
   "execution_count": 9,
   "id": "1424e7d8",
   "metadata": {},
   "outputs": [],
   "source": [
    "saf = paste0(bedir, 'pbmc.sorted.merged.saf')"
   ]
  },
  {
   "cell_type": "code",
   "execution_count": 10,
   "id": "777445c7",
   "metadata": {},
   "outputs": [],
   "source": [
    "### pseudobulk matrix\n",
    "res = \"bulk\"\n",
    "c   =  'bulk025'\n",
    "outfolder     = paste(outdir, res, c, sep=\"/\")\n",
    "system(paste('mkdir -p' , outfolder))\n",
    "count_matrix  = paste0(outfolder,\"/\" ,c, '.count_matrix')    \n",
    "bam           = paste0(\"/nfs/lab/projects/pbmc_snATAC/analysis_v2/subsample_bulk/pbmc\", ids, '.wasped.sub025.bam' )\n",
    "gi  <-  paste(\"featureCounts -p -T 10 -F SAF --donotsort -a\" , saf, \"-o\",  count_matrix , \n",
    "                paste(bam,collapse=\" \"))\n",
    "\n"
   ]
  },
  {
   "cell_type": "code",
   "execution_count": 11,
   "id": "885e1086",
   "metadata": {},
   "outputs": [],
   "source": [
    "system(gi)"
   ]
  },
  {
   "cell_type": "code",
   "execution_count": 6,
   "id": "16b2586d",
   "metadata": {},
   "outputs": [],
   "source": [
    "library(\"rasqualTools\")\n",
    "source(\"/nfs/lab/projects/pbmc_snATAC/scripts/rasqual_tools_functions.R\")"
   ]
  },
  {
   "cell_type": "code",
   "execution_count": 14,
   "id": "82235bb6",
   "metadata": {},
   "outputs": [
    {
     "name": "stdout",
     "output_type": "stream",
     "text": [
      "[1] \"/nfs/lab/projects/pbmc_snATAC/analysis_v2/rasqual_eur//bulk/bulk025/counts.bulk025.txt\"\n",
      "[1] \"/nfs/lab/projects/pbmc_snATAC/analysis_v2/rasqual_eur//bulk/bulk025/size_factors.bulk025.txt\"\n"
     ]
    }
   ],
   "source": [
    "\n",
    "outfolder     = paste(outdir, res, c, sep=\"/\")\n",
    "cm = read.table(paste0(outfolder, \"/\" ,c, '.count_matrix') , header=T)\n",
    "colnames(cm)[7:ncol(cm)] = paste0(\"PBMC\", ids)\n",
    "\n",
    "### filter for peaks having a minumum of 5 reads on avg per sample\n",
    "cm = cm[rowMeans(cm[,7:ncol(cm)])>= 5, ]\n",
    "\n",
    "fmat           = cm[,7:ncol(cm)]\n",
    "rownames(fmat) = cm[,1]\n",
    "filtbed        = paste0(outfolder, \"/\", c, \".filtered.bed\")\n",
    "write.table(fmat, paste0(outfolder, \"/\", c, \".filtered.count_matrix\"), sep=\"\\t\", quote=F)\n",
    "write.table(cm[,2:4],filtbed, sep=\"\\t\", quote=F, col.names=F, row.names=F)\n",
    "cc     = cm[,2:4]\n",
    "cc[,1] = substring(cc[,1],4)\n",
    "write.table(cc, paste0(outfolder, \"/\", c, \".filtered.nochr.bed\"), sep=\"\\t\", quote=F, col.names=F, row.names=F)\n",
    "\n",
    "system(paste0(\"bedtools slop -i \",  filtbed,  \" -b 10000 -g /nfs/lab/publicdata/human.hg19.genome.bedtools > \",\n",
    "         filtbed, '.10kb'))\n",
    "\n",
    "system(paste0(\"bedtools merge -i \", filtbed, '.10kb > ', filtbed, '.10kb.merged'))\n",
    "\n",
    "fb     = read.table(paste0( filtbed, '.10kb.merged'))\n",
    "fb[,1] = substring(fb[,1],4)\n",
    "write.table(fb, paste0( filtbed, '.10kb.merged.nochr'), sep=\"\\t\", quote=F, col.names=F, row.names=F)\n",
    "\n",
    "#### RAsqualTools\n",
    "\n",
    "saveRasqualMatrices(list(counts = fmat), outfolder, file_suffix = c)\n",
    "\n",
    "size_factors = rasqualCalculateSampleOffsets(fmat, gc_correct = FALSE)\n",
    "saveRasqualMatrices(list(size_factors = size_factors),  outfolder, file_suffix = c)\n",
    "\n",
    "y = paste0(outfolder, \"/counts.\",c, \".txt\" )\n",
    "k = paste0(outfolder, \"/size_factors.\",c, \".txt\" )\n",
    "x = paste0(outfolder, \"/covariates.\",c, \".txt\" )\n",
    "\n",
    "make_covariates (ytxt=y, ktxt=k, outfile=x)\n",
    "\n",
    "txt2bin  (ytxt=y, ktxt=k, xtxt=x)\n"
   ]
  },
  {
   "cell_type": "code",
   "execution_count": 15,
   "id": "444748ab",
   "metadata": {},
   "outputs": [
    {
     "data": {
      "image/png": "[encoded data removed]",
      "text/plain": [
       "Plot with title “bulk025”"
      ]
     },
     "metadata": {
      "image/png": {
       "height": 420,
       "width": 420
      }
     },
     "output_type": "display_data"
    }
   ],
   "source": [
    "\n",
    "outfolder     = paste(outdir, res, c, sep=\"/\")\n",
    "pca = read.table(paste0(outfolder, \"/covariates.\",c, \".txt\" ))\n",
    "   \n",
    "plot(pca[,2:3], cex = 3, main = c, col = rainbow(length(ids))) ## col1 is size factor\n",
    "mtext(side = 1:2, text=c(\"PC1\",\"PC2\"), line=2)\n",
    "text(pca[,2:3], labels = ids)\n",
    "#plot(pca[,3:4], cex = 3, main = c) ## col1 is size factor\n",
    "#text(pca[,3:4], labels = ids)\n",
    "#mtext(side = 1:2, text=c(\"PC2\",\"PC3\"), line=2)    \n"
   ]
  },
  {
   "cell_type": "code",
   "execution_count": 16,
   "id": "ec3897c3",
   "metadata": {},
   "outputs": [],
   "source": [
    "codir = '/nfs/lab/projects/pbmc_snATAC/analysis_v2/rasqual/covariates/'\n",
    "\n",
    "outfolder     = paste(outdir, res, c, sep=\"/\")\n",
    "y = paste0(outfolder, \"/counts.\",c, \".txt\" )\n",
    "k = paste0(outfolder, \"/size_factors.\",c, \".txt\" )\n",
    "x = paste0(outfolder, \"/covariates2.\",c, \".txt\" )\n",
    "    \n",
    "make_covariates (ytxt=y, ktxt=k, outfile=x) ###recalculate original ones \n",
    "#newcov = cbind(read.table(x), read.table(paste0(codir, \"4_gt_pcs\")))\n",
    "newcov = cbind(read.table(x),\n",
    "               #read.table(paste0(codir, \"age\"))[-c(1,6,13),],\n",
    "               #read.table(paste0(codir, \"sex\"))[-c(1,6,13),]*0.1, \n",
    "               read.table(paste0(codir, \"4_gt_pcs\"))[-c(1,6,13),])\n",
    "\n",
    "write.table( newcov, x, col=F,row=F,sep=\"\\t\",quote=F)\n",
    "txt2bin  (ytxt=y, ktxt=k, xtxt=x)\n"
   ]
  },
  {
   "cell_type": "markdown",
   "id": "1a8e6630",
   "metadata": {},
   "source": [
    "### Make vcf file"
   ]
  },
  {
   "cell_type": "code",
   "execution_count": 7,
   "id": "af60157c",
   "metadata": {},
   "outputs": [],
   "source": [
    "vcf_dir = '/nfs/lab/projects/pbmc_snATAC/pipeline/snp_array/final_vcfs/'"
   ]
  },
  {
   "cell_type": "code",
   "execution_count": 8,
   "id": "7926d960",
   "metadata": {},
   "outputs": [],
   "source": [
    "homedir = '/nfs/lab/projects/pbmc_snATAC/analysis_v2/rasqual_eur/'"
   ]
  },
  {
   "cell_type": "code",
   "execution_count": 46,
   "id": "d85185ef",
   "metadata": {},
   "outputs": [],
   "source": [
    "filter_vcf = function(cell) {\n",
    "        \n",
    "    for (n in 1:22) {\n",
    "\n",
    "    vcf    = paste0(vcf_dir, \"/chr\",n ,'.PBMC.topmed.hg19.final.vcf.gz')\n",
    "    outdir = paste(homedir, reso, cell, \"vcfs_peaksonly\", sep=\"/\")    \n",
    "    system(paste(\"mkdir -p \",outdir  ) )   \n",
    "    outvcf = paste0(outdir, \"/chr\",n ,'.filt.vcf.gz')\n",
    "    bed    = paste0(homedir, reso, \"/\",cell, \"/\" , cell, '.filtered.bed')\n",
    "        \n",
    "    system(paste('bcftools view', vcf ,\n",
    "    '-R' , bed, \n",
    "    '-s PBMC2,PBMC3,PBMC4,PBMC5,PBMC8,PBMC9,PBMC10,PBMC12,PBMC13,PBMC14',\n",
    "    '--types snps' ,         \n",
    "    \"-i \\'INFO/R2[0]>0.7\\' | bcftools view -i \\'COUNT(GT=\\\"het\\\")>1\\' -Oz -o\", outvcf))\n",
    "        \n",
    "        \n",
    "}\n",
    "    }"
   ]
  },
  {
   "cell_type": "code",
   "execution_count": 47,
   "id": "bf871c66",
   "metadata": {},
   "outputs": [],
   "source": [
    "reso      = \"bulk\"\n",
    "cell      = 'bulk025'"
   ]
  },
  {
   "cell_type": "code",
   "execution_count": 48,
   "id": "aaad4a85",
   "metadata": {},
   "outputs": [
    {
     "data": {
      "text/html": [
       "<ol>\n",
       "\t<li>NULL</li>\n",
       "</ol>\n"
      ],
      "text/latex": [
       "\\begin{enumerate}\n",
       "\\item NULL\n",
       "\\end{enumerate}\n"
      ],
      "text/markdown": [
       "1. NULL\n",
       "\n",
       "\n"
      ],
      "text/plain": [
       "[[1]]\n",
       "NULL\n"
      ]
     },
     "metadata": {},
     "output_type": "display_data"
    }
   ],
   "source": [
    "mclapply(cell, function(x) filter_vcf(x) , mc.cores = 20)"
   ]
  },
  {
   "cell_type": "code",
   "execution_count": 49,
   "id": "1743ba47",
   "metadata": {},
   "outputs": [],
   "source": [
    "new_vcf_dir = paste0(homedir, reso,\"/\" ,cell, \"/vcfs_peaksonly\" )    \n",
    "sampdir     = \"/nfs/lab/projects/pbmc_snATAC/analysis_v2/subsample_bulk\"\n",
    "\n",
    "sorted_bam= paste0(sampdir, \"/pbmc\", ids, '.wasped.sub025.sorted.bam' )\n",
    "\n",
    "writeLines(sorted_bam, paste(new_vcf_dir, 'bam.list.txt', sep=\"/\"))"
   ]
  },
  {
   "cell_type": "code",
   "execution_count": 50,
   "id": "554b8449",
   "metadata": {},
   "outputs": [],
   "source": [
    "rasqual_ase = function (cell, reso, chr){\n",
    "setwd(paste0(homedir, reso,\"/\" ,cell, \"/vcfs_peaksonly\" )  )\n",
    "outfile = paste0( \"chr\",chr, '.ase.filtered.vcf.gz')   \n",
    "system(paste0('tabix chr', chr, '.filt.vcf.gz -f' ))     \n",
    "system(paste0('bash /nfs/lab/paola/rasqual/src/ASVCF/createASVCF.sh paired_end bam.list.txt chr',chr,\n",
    "              '.filt.vcf.gz chr', chr, '.ase.filtered.vcf.gz atac'))\n",
    "system(paste('tabix', outfile, '-f'))\n",
    "    }"
   ]
  },
  {
   "cell_type": "code",
   "execution_count": 51,
   "id": "975f87b5",
   "metadata": {},
   "outputs": [
    {
     "data": {
      "text/html": [
       "<ol>\n",
       "\t<li>0</li>\n",
       "\t<li>0</li>\n",
       "\t<li>0</li>\n",
       "\t<li>0</li>\n",
       "\t<li>0</li>\n",
       "\t<li>0</li>\n",
       "\t<li>0</li>\n",
       "\t<li>0</li>\n",
       "\t<li>0</li>\n",
       "\t<li>0</li>\n",
       "\t<li>0</li>\n",
       "\t<li>0</li>\n",
       "\t<li>0</li>\n",
       "\t<li>0</li>\n",
       "\t<li>0</li>\n",
       "\t<li>0</li>\n",
       "\t<li>0</li>\n",
       "\t<li>0</li>\n",
       "\t<li>0</li>\n",
       "\t<li>0</li>\n",
       "\t<li>0</li>\n",
       "\t<li>0</li>\n",
       "</ol>\n"
      ],
      "text/latex": [
       "\\begin{enumerate}\n",
       "\\item 0\n",
       "\\item 0\n",
       "\\item 0\n",
       "\\item 0\n",
       "\\item 0\n",
       "\\item 0\n",
       "\\item 0\n",
       "\\item 0\n",
       "\\item 0\n",
       "\\item 0\n",
       "\\item 0\n",
       "\\item 0\n",
       "\\item 0\n",
       "\\item 0\n",
       "\\item 0\n",
       "\\item 0\n",
       "\\item 0\n",
       "\\item 0\n",
       "\\item 0\n",
       "\\item 0\n",
       "\\item 0\n",
       "\\item 0\n",
       "\\end{enumerate}\n"
      ],
      "text/markdown": [
       "1. 0\n",
       "2. 0\n",
       "3. 0\n",
       "4. 0\n",
       "5. 0\n",
       "6. 0\n",
       "7. 0\n",
       "8. 0\n",
       "9. 0\n",
       "10. 0\n",
       "11. 0\n",
       "12. 0\n",
       "13. 0\n",
       "14. 0\n",
       "15. 0\n",
       "16. 0\n",
       "17. 0\n",
       "18. 0\n",
       "19. 0\n",
       "20. 0\n",
       "21. 0\n",
       "22. 0\n",
       "\n",
       "\n"
      ],
      "text/plain": [
       "[[1]]\n",
       "[1] 0\n",
       "\n",
       "[[2]]\n",
       "[1] 0\n",
       "\n",
       "[[3]]\n",
       "[1] 0\n",
       "\n",
       "[[4]]\n",
       "[1] 0\n",
       "\n",
       "[[5]]\n",
       "[1] 0\n",
       "\n",
       "[[6]]\n",
       "[1] 0\n",
       "\n",
       "[[7]]\n",
       "[1] 0\n",
       "\n",
       "[[8]]\n",
       "[1] 0\n",
       "\n",
       "[[9]]\n",
       "[1] 0\n",
       "\n",
       "[[10]]\n",
       "[1] 0\n",
       "\n",
       "[[11]]\n",
       "[1] 0\n",
       "\n",
       "[[12]]\n",
       "[1] 0\n",
       "\n",
       "[[13]]\n",
       "[1] 0\n",
       "\n",
       "[[14]]\n",
       "[1] 0\n",
       "\n",
       "[[15]]\n",
       "[1] 0\n",
       "\n",
       "[[16]]\n",
       "[1] 0\n",
       "\n",
       "[[17]]\n",
       "[1] 0\n",
       "\n",
       "[[18]]\n",
       "[1] 0\n",
       "\n",
       "[[19]]\n",
       "[1] 0\n",
       "\n",
       "[[20]]\n",
       "[1] 0\n",
       "\n",
       "[[21]]\n",
       "[1] 0\n",
       "\n",
       "[[22]]\n",
       "[1] 0\n"
      ]
     },
     "metadata": {},
     "output_type": "display_data"
    }
   ],
   "source": [
    "mclapply(1:22, function (x) rasqual_ase(cell='bulk025', reso=reso,chr=x ),mc.cores = 22)"
   ]
  },
  {
   "cell_type": "code",
   "execution_count": 52,
   "id": "a5ddfb5c",
   "metadata": {},
   "outputs": [],
   "source": [
    "vcflist = paste(paste0( \"chr\",1:22, '.ase.filtered.vcf.gz') , collapse = \" \")"
   ]
  },
  {
   "cell_type": "code",
   "execution_count": 53,
   "id": "bd59574d",
   "metadata": {},
   "outputs": [],
   "source": [
    "\n",
    "setwd(paste(homedir, reso, cell, \"vcfs_peaksonly\", sep=\"/\"))\n",
    "system(paste(\"bcftools concat\", vcflist,  \"-Oz -o full.ase.filtered.vcf.gz\"))\n",
    "#system(\"awk \\'{if($0 !~ /^#/) print \\\"chr\\\"$0; else print $0}\\' full.vcf > full.chr.vcf\")\n",
    "#system('bgzip full.chr.vcf -f')\n",
    "system('tabix full.ase.filtered.vcf.gz -f')\n",
    "    "
   ]
  },
  {
   "cell_type": "code",
   "execution_count": 54,
   "id": "6f28cbcd",
   "metadata": {},
   "outputs": [
    {
     "data": {
      "text/html": [
       "'/nfs/lab/projects/pbmc_snATAC/analysis_v2/rasqual_eur/'"
      ],
      "text/latex": [
       "'/nfs/lab/projects/pbmc\\_snATAC/analysis\\_v2/rasqual\\_eur/'"
      ],
      "text/markdown": [
       "'/nfs/lab/projects/pbmc_snATAC/analysis_v2/rasqual_eur/'"
      ],
      "text/plain": [
       "[1] \"/nfs/lab/projects/pbmc_snATAC/analysis_v2/rasqual_eur/\""
      ]
     },
     "metadata": {},
     "output_type": "display_data"
    }
   ],
   "source": [
    "homedir\n"
   ]
  },
  {
   "cell_type": "markdown",
   "id": "f008e727",
   "metadata": {},
   "source": [
    "### Repeat the analysis on the 10 kb window (not only peaks)"
   ]
  },
  {
   "cell_type": "code",
   "execution_count": 8,
   "id": "c2d27e6d",
   "metadata": {},
   "outputs": [],
   "source": [
    "filter_vcf = function(cell) {\n",
    "        \n",
    "    for (n in 1:22) {\n",
    "\n",
    "    vcf    = paste0(vcf_dir, \"/chr\",n ,'.PBMC.topmed.hg19.final.vcf.gz')\n",
    "    outdir = paste(homedir, reso, cell, \"vcfs_peaks10kb\", sep=\"/\")    \n",
    "    system(paste(\"mkdir -p \",outdir  ) )   \n",
    "    outvcf = paste0(outdir, \"/chr\",n ,'.filt.vcf.gz')\n",
    "    bed    = paste0(homedir, reso, \"/\",cell, \"/\" , cell, '.filtered.bed.10kb.merged')\n",
    "        \n",
    "    system(paste('bcftools view', vcf ,\n",
    "    '-R' , bed, \n",
    "    '-s PBMC2,PBMC3,PBMC4,PBMC5,PBMC8,PBMC9,PBMC10,PBMC12,PBMC13,PBMC14',\n",
    "    '--types snps' ,         \n",
    "    \"-i \\'INFO/R2[0]>0.7\\' | bcftools view -i \\'COUNT(GT=\\\"het\\\")>1\\' -Oz -o\", outvcf))\n",
    "        \n",
    "        \n",
    "}\n",
    "    }"
   ]
  },
  {
   "cell_type": "code",
   "execution_count": 9,
   "id": "f01e9461",
   "metadata": {},
   "outputs": [],
   "source": [
    "reso      = \"bulk\"\n",
    "cell      = 'bulk025'"
   ]
  },
  {
   "cell_type": "code",
   "execution_count": 10,
   "id": "00c38bc3",
   "metadata": {},
   "outputs": [
    {
     "data": {
      "text/html": [
       "<ol>\n",
       "\t<li>NULL</li>\n",
       "</ol>\n"
      ],
      "text/latex": [
       "\\begin{enumerate}\n",
       "\\item NULL\n",
       "\\end{enumerate}\n"
      ],
      "text/markdown": [
       "1. NULL\n",
       "\n",
       "\n"
      ],
      "text/plain": [
       "[[1]]\n",
       "NULL\n"
      ]
     },
     "metadata": {},
     "output_type": "display_data"
    }
   ],
   "source": [
    "mclapply(cell, function(x) filter_vcf(x) , mc.cores = 20)"
   ]
  },
  {
   "cell_type": "code",
   "execution_count": 11,
   "id": "03f6391b",
   "metadata": {},
   "outputs": [],
   "source": [
    "new_vcf_dir = paste0(homedir, reso,\"/\" ,cell, \"/vcfs_peaks10kb\" )    \n",
    "sampdir     = \"/nfs/lab/projects/pbmc_snATAC/analysis_v2/subsample_bulk\"\n",
    "\n",
    "sorted_bam= paste0(sampdir, \"/pbmc\", ids, '.wasped.sub025.sorted.bam' )\n",
    "\n",
    "writeLines(sorted_bam, paste(new_vcf_dir, 'bam.list.txt', sep=\"/\"))"
   ]
  },
  {
   "cell_type": "code",
   "execution_count": 12,
   "id": "bb0dd62b",
   "metadata": {},
   "outputs": [],
   "source": [
    "rasqual_ase = function (cell, reso, chr){\n",
    "setwd(paste0(homedir, reso,\"/\" ,cell, \"/vcfs_peaks10kb\" )  )\n",
    "outfile = paste0( \"chr\",chr, '.ase.filtered.vcf.gz')   \n",
    "system(paste0('tabix chr', chr, '.filt.vcf.gz -f' ))     \n",
    "system(paste0('bash /nfs/lab/paola/rasqual/src/ASVCF/createASVCF.sh paired_end bam.list.txt chr',chr,\n",
    "              '.filt.vcf.gz chr', chr, '.ase.filtered.vcf.gz atac'))\n",
    "system(paste('tabix', outfile, '-f'))\n",
    "    }"
   ]
  },
  {
   "cell_type": "code",
   "execution_count": 13,
   "id": "cf0db3f0",
   "metadata": {},
   "outputs": [
    {
     "data": {
      "text/html": [
       "<ol>\n",
       "\t<li>0</li>\n",
       "\t<li>0</li>\n",
       "\t<li>0</li>\n",
       "\t<li>0</li>\n",
       "\t<li>0</li>\n",
       "\t<li>0</li>\n",
       "\t<li>0</li>\n",
       "\t<li>0</li>\n",
       "\t<li>0</li>\n",
       "\t<li>0</li>\n",
       "\t<li>0</li>\n",
       "\t<li>0</li>\n",
       "\t<li>0</li>\n",
       "\t<li>0</li>\n",
       "\t<li>0</li>\n",
       "\t<li>0</li>\n",
       "\t<li>0</li>\n",
       "\t<li>0</li>\n",
       "\t<li>0</li>\n",
       "\t<li>0</li>\n",
       "\t<li>0</li>\n",
       "\t<li>0</li>\n",
       "</ol>\n"
      ],
      "text/latex": [
       "\\begin{enumerate}\n",
       "\\item 0\n",
       "\\item 0\n",
       "\\item 0\n",
       "\\item 0\n",
       "\\item 0\n",
       "\\item 0\n",
       "\\item 0\n",
       "\\item 0\n",
       "\\item 0\n",
       "\\item 0\n",
       "\\item 0\n",
       "\\item 0\n",
       "\\item 0\n",
       "\\item 0\n",
       "\\item 0\n",
       "\\item 0\n",
       "\\item 0\n",
       "\\item 0\n",
       "\\item 0\n",
       "\\item 0\n",
       "\\item 0\n",
       "\\item 0\n",
       "\\end{enumerate}\n"
      ],
      "text/markdown": [
       "1. 0\n",
       "2. 0\n",
       "3. 0\n",
       "4. 0\n",
       "5. 0\n",
       "6. 0\n",
       "7. 0\n",
       "8. 0\n",
       "9. 0\n",
       "10. 0\n",
       "11. 0\n",
       "12. 0\n",
       "13. 0\n",
       "14. 0\n",
       "15. 0\n",
       "16. 0\n",
       "17. 0\n",
       "18. 0\n",
       "19. 0\n",
       "20. 0\n",
       "21. 0\n",
       "22. 0\n",
       "\n",
       "\n"
      ],
      "text/plain": [
       "[[1]]\n",
       "[1] 0\n",
       "\n",
       "[[2]]\n",
       "[1] 0\n",
       "\n",
       "[[3]]\n",
       "[1] 0\n",
       "\n",
       "[[4]]\n",
       "[1] 0\n",
       "\n",
       "[[5]]\n",
       "[1] 0\n",
       "\n",
       "[[6]]\n",
       "[1] 0\n",
       "\n",
       "[[7]]\n",
       "[1] 0\n",
       "\n",
       "[[8]]\n",
       "[1] 0\n",
       "\n",
       "[[9]]\n",
       "[1] 0\n",
       "\n",
       "[[10]]\n",
       "[1] 0\n",
       "\n",
       "[[11]]\n",
       "[1] 0\n",
       "\n",
       "[[12]]\n",
       "[1] 0\n",
       "\n",
       "[[13]]\n",
       "[1] 0\n",
       "\n",
       "[[14]]\n",
       "[1] 0\n",
       "\n",
       "[[15]]\n",
       "[1] 0\n",
       "\n",
       "[[16]]\n",
       "[1] 0\n",
       "\n",
       "[[17]]\n",
       "[1] 0\n",
       "\n",
       "[[18]]\n",
       "[1] 0\n",
       "\n",
       "[[19]]\n",
       "[1] 0\n",
       "\n",
       "[[20]]\n",
       "[1] 0\n",
       "\n",
       "[[21]]\n",
       "[1] 0\n",
       "\n",
       "[[22]]\n",
       "[1] 0\n"
      ]
     },
     "metadata": {},
     "output_type": "display_data"
    }
   ],
   "source": [
    "mclapply(1:22, function (x) rasqual_ase(cell='bulk025', reso=reso,chr=x ),mc.cores = 22)"
   ]
  },
  {
   "cell_type": "code",
   "execution_count": 15,
   "id": "68723a02",
   "metadata": {},
   "outputs": [],
   "source": [
    "vcflist = paste(paste0( \"chr\",1:22, '.ase.filtered.vcf.gz') , collapse = \" \")\n",
    "\n",
    "setwd(paste(homedir, reso, cell, \"vcfs_peaks10kb\", sep=\"/\"))\n",
    "system(paste(\"bcftools concat\", vcflist,  \"-Oz -o full.ase.filtered.vcf.gz\"))\n",
    "#system(\"awk \\'{if($0 !~ /^#/) print \\\"chr\\\"$0; else print $0}\\' full.vcf > full.chr.vcf\")\n",
    "#system('bgzip full.chr.vcf -f')\n",
    "system('tabix full.ase.filtered.vcf.gz -f')\n",
    " "
   ]
  },
  {
   "cell_type": "markdown",
   "id": "27fad3d8",
   "metadata": {},
   "source": [
    "### Repeat the analysis on the 50 kb window (not only peaks)"
   ]
  },
  {
   "cell_type": "code",
   "execution_count": 20,
   "id": "d60b1b0f",
   "metadata": {},
   "outputs": [],
   "source": [
    "outfolder     = paste(homedir, reso, cell, sep=\"/\")  "
   ]
  },
  {
   "cell_type": "code",
   "execution_count": 24,
   "id": "03fdf1d9",
   "metadata": {},
   "outputs": [],
   "source": [
    "filtbed        = paste0(outfolder, \"/\", cell, \".filtered.bed\")\n",
    "system(paste0(\"bedtools slop -i \",  filtbed,  \" -b 50000 -g /nfs/lab/publicdata/human.hg19.genome.bedtools > \",\n",
    "         filtbed, '.50kb'))\n",
    "system(paste0(\"bedtools merge -i \", filtbed, '.50kb > ', filtbed, '.50kb.merged'))\n"
   ]
  },
  {
   "cell_type": "code",
   "execution_count": 25,
   "id": "ab04fc84",
   "metadata": {},
   "outputs": [],
   "source": [
    "filter_vcf = function(cell) {\n",
    "        \n",
    "    for (n in 1:22) {\n",
    "\n",
    "    vcf    = paste0(vcf_dir, \"/chr\",n ,'.PBMC.topmed.hg19.final.vcf.gz')\n",
    "    outdir = paste(homedir, reso, cell, \"vcfs_peaks50kb\", sep=\"/\")    \n",
    "    system(paste(\"mkdir -p \",outdir  ) )   \n",
    "    outvcf = paste0(outdir, \"/chr\",n ,'.filt.vcf.gz')\n",
    "    bed    = paste0(homedir, reso, \"/\",cell, \"/\" , cell, '.filtered.bed.50kb.merged')\n",
    "        \n",
    "    system(paste('bcftools view', vcf ,\n",
    "    '-R' , bed, \n",
    "    '-s PBMC2,PBMC3,PBMC4,PBMC5,PBMC8,PBMC9,PBMC10,PBMC12,PBMC13,PBMC14',\n",
    "    '--types snps' ,         \n",
    "    \"-i \\'INFO/R2[0]>0.7\\' | bcftools view -i \\'COUNT(GT=\\\"het\\\")>1\\' -Oz -o\", outvcf))\n",
    "        \n",
    "        \n",
    "}\n",
    "    }"
   ]
  },
  {
   "cell_type": "code",
   "execution_count": 26,
   "id": "f3f91882",
   "metadata": {},
   "outputs": [
    {
     "data": {
      "text/html": [
       "<ol>\n",
       "\t<li>NULL</li>\n",
       "</ol>\n"
      ],
      "text/latex": [
       "\\begin{enumerate}\n",
       "\\item NULL\n",
       "\\end{enumerate}\n"
      ],
      "text/markdown": [
       "1. NULL\n",
       "\n",
       "\n"
      ],
      "text/plain": [
       "[[1]]\n",
       "NULL\n"
      ]
     },
     "metadata": {},
     "output_type": "display_data"
    }
   ],
   "source": [
    "mclapply(cell, function(x) filter_vcf(x) , mc.cores = 20)"
   ]
  },
  {
   "cell_type": "code",
   "execution_count": 27,
   "id": "cb0b4ec3",
   "metadata": {},
   "outputs": [],
   "source": [
    "new_vcf_dir = paste0(homedir, reso,\"/\" ,cell, \"/vcfs_peaks50kb\" )    \n",
    "sampdir     = \"/nfs/lab/projects/pbmc_snATAC/analysis_v2/subsample_bulk\"\n",
    "\n",
    "sorted_bam= paste0(sampdir, \"/pbmc\", ids, '.wasped.sub025.sorted.bam' )\n",
    "\n",
    "writeLines(sorted_bam, paste(new_vcf_dir, 'bam.list.txt', sep=\"/\"))"
   ]
  },
  {
   "cell_type": "code",
   "execution_count": 28,
   "id": "5b376c3e",
   "metadata": {},
   "outputs": [],
   "source": [
    "rasqual_ase = function (cell, reso, chr){\n",
    "setwd(paste0(homedir, reso,\"/\" ,cell, \"/vcfs_peaks50kb\" )  )\n",
    "outfile = paste0( \"chr\",chr, '.ase.filtered.vcf.gz')   \n",
    "system(paste0('tabix chr', chr, '.filt.vcf.gz -f' ))     \n",
    "system(paste0('bash /nfs/lab/paola/rasqual/src/ASVCF/createASVCF.sh paired_end bam.list.txt chr',chr,\n",
    "              '.filt.vcf.gz chr', chr, '.ase.filtered.vcf.gz atac'))\n",
    "system(paste('tabix', outfile, '-f'))\n",
    "    }"
   ]
  },
  {
   "cell_type": "code",
   "execution_count": 29,
   "id": "4cecfec5",
   "metadata": {},
   "outputs": [
    {
     "data": {
      "text/html": [
       "<ol>\n",
       "\t<li>0</li>\n",
       "\t<li>0</li>\n",
       "\t<li>0</li>\n",
       "\t<li>0</li>\n",
       "\t<li>0</li>\n",
       "\t<li>0</li>\n",
       "\t<li>0</li>\n",
       "\t<li>0</li>\n",
       "\t<li>0</li>\n",
       "\t<li>0</li>\n",
       "\t<li>0</li>\n",
       "\t<li>0</li>\n",
       "\t<li>0</li>\n",
       "\t<li>0</li>\n",
       "\t<li>0</li>\n",
       "\t<li>0</li>\n",
       "\t<li>0</li>\n",
       "\t<li>0</li>\n",
       "\t<li>0</li>\n",
       "\t<li>0</li>\n",
       "\t<li>0</li>\n",
       "\t<li>0</li>\n",
       "</ol>\n"
      ],
      "text/latex": [
       "\\begin{enumerate}\n",
       "\\item 0\n",
       "\\item 0\n",
       "\\item 0\n",
       "\\item 0\n",
       "\\item 0\n",
       "\\item 0\n",
       "\\item 0\n",
       "\\item 0\n",
       "\\item 0\n",
       "\\item 0\n",
       "\\item 0\n",
       "\\item 0\n",
       "\\item 0\n",
       "\\item 0\n",
       "\\item 0\n",
       "\\item 0\n",
       "\\item 0\n",
       "\\item 0\n",
       "\\item 0\n",
       "\\item 0\n",
       "\\item 0\n",
       "\\item 0\n",
       "\\end{enumerate}\n"
      ],
      "text/markdown": [
       "1. 0\n",
       "2. 0\n",
       "3. 0\n",
       "4. 0\n",
       "5. 0\n",
       "6. 0\n",
       "7. 0\n",
       "8. 0\n",
       "9. 0\n",
       "10. 0\n",
       "11. 0\n",
       "12. 0\n",
       "13. 0\n",
       "14. 0\n",
       "15. 0\n",
       "16. 0\n",
       "17. 0\n",
       "18. 0\n",
       "19. 0\n",
       "20. 0\n",
       "21. 0\n",
       "22. 0\n",
       "\n",
       "\n"
      ],
      "text/plain": [
       "[[1]]\n",
       "[1] 0\n",
       "\n",
       "[[2]]\n",
       "[1] 0\n",
       "\n",
       "[[3]]\n",
       "[1] 0\n",
       "\n",
       "[[4]]\n",
       "[1] 0\n",
       "\n",
       "[[5]]\n",
       "[1] 0\n",
       "\n",
       "[[6]]\n",
       "[1] 0\n",
       "\n",
       "[[7]]\n",
       "[1] 0\n",
       "\n",
       "[[8]]\n",
       "[1] 0\n",
       "\n",
       "[[9]]\n",
       "[1] 0\n",
       "\n",
       "[[10]]\n",
       "[1] 0\n",
       "\n",
       "[[11]]\n",
       "[1] 0\n",
       "\n",
       "[[12]]\n",
       "[1] 0\n",
       "\n",
       "[[13]]\n",
       "[1] 0\n",
       "\n",
       "[[14]]\n",
       "[1] 0\n",
       "\n",
       "[[15]]\n",
       "[1] 0\n",
       "\n",
       "[[16]]\n",
       "[1] 0\n",
       "\n",
       "[[17]]\n",
       "[1] 0\n",
       "\n",
       "[[18]]\n",
       "[1] 0\n",
       "\n",
       "[[19]]\n",
       "[1] 0\n",
       "\n",
       "[[20]]\n",
       "[1] 0\n",
       "\n",
       "[[21]]\n",
       "[1] 0\n",
       "\n",
       "[[22]]\n",
       "[1] 0\n"
      ]
     },
     "metadata": {},
     "output_type": "display_data"
    }
   ],
   "source": [
    "mclapply(1:22, function (x) rasqual_ase(cell='bulk025', reso=reso,chr=x ),mc.cores = 22)"
   ]
  },
  {
   "cell_type": "code",
   "execution_count": 30,
   "id": "2d5e4073",
   "metadata": {},
   "outputs": [],
   "source": [
    "vcflist = paste(paste0( \"chr\",1:22, '.ase.filtered.vcf.gz') , collapse = \" \")\n",
    "\n",
    "setwd(paste(homedir, reso, cell, \"vcfs_peaks50kb\", sep=\"/\"))\n",
    "system(paste(\"bcftools concat\", vcflist,  \"-Oz -o full.ase.filtered.vcf.gz\"))\n",
    "#system(\"awk \\'{if($0 !~ /^#/) print \\\"chr\\\"$0; else print $0}\\' full.vcf > full.chr.vcf\")\n",
    "#system('bgzip full.chr.vcf -f')\n",
    "system('tabix full.ase.filtered.vcf.gz -f')\n"
   ]
  },
  {
   "cell_type": "markdown",
   "id": "3f465b63",
   "metadata": {},
   "source": [
    "### Count how many SNPs are filered that are less than 2 hets"
   ]
  },
  {
   "cell_type": "code",
   "execution_count": 10,
   "id": "9f91ab3c",
   "metadata": {},
   "outputs": [],
   "source": [
    "reso      = \"bulk\"\n",
    "cell      = 'bulk'"
   ]
  },
  {
   "cell_type": "code",
   "execution_count": 13,
   "id": "bd36ed4b",
   "metadata": {},
   "outputs": [],
   "source": [
    "homedir = '/nfs/lab/projects/pbmc_snATAC/analysis_v2/test_countvar/'\n",
    "dir.create(homedir)"
   ]
  },
  {
   "cell_type": "code",
   "execution_count": 19,
   "id": "0d941ea3",
   "metadata": {},
   "outputs": [],
   "source": [
    "    for (n in 1:22) {\n",
    "\n",
    "    vcf    = paste0(vcf_dir, \"/chr\",n ,'.PBMC.topmed.hg19.final.vcf.gz')\n",
    "    outvcf  = paste0(homedir, \"/chr\",n ,'.filt1.vcf.gz')\n",
    "    outsnps = paste0(homedir, \"/chr\",n ,'.filt1.snps')\n",
    "    bed      = paste0('/nfs/lab/projects/pbmc_snATAC/analysis_v2/rasqual_eur/', reso, \"/\",cell, \"/\" , cell, '.filtered.bed')\n",
    "        \n",
    "    system(paste('bcftools view', vcf ,\n",
    "    '-R' , bed, \n",
    "    '-s PBMC2,PBMC3,PBMC4,PBMC5,PBMC8,PBMC9,PBMC10,PBMC12,PBMC13,PBMC14',\n",
    "    '--types snps' ,         \n",
    "    \"-i \\'INFO/R2[0]>0.7\\' -Oz -o\", outvcf))\n",
    "    \n",
    "    system(paste(\"bcftools query -f '%CHROM\\\\t%POS\\\\t%ID\\\\n'\", outvcf, \">\", outsnps))   \n",
    "    \n",
    "    outsnps2 = paste0(homedir, \"/chr\",n ,'.filt2.snps')\n",
    "        \n",
    "   system(paste('bcftools view', outvcf,\n",
    "                \"-i \\'COUNT(GT=\\\"het\\\")>0\\' | bcftools query -f '%CHROM\\\\t%POS\\\\t%ID\\\\n' >\", outsnps2))\n",
    "    \n",
    "    outsnps3 = paste0(homedir, \"/chr\",n ,'.filt3.snps')\n",
    "        \n",
    "   system(paste('bcftools view', outvcf,\n",
    "                \"-i \\'COUNT(GT=\\\"het\\\")>1\\' | bcftools query -f '%CHROM\\\\t%POS\\\\t%ID\\\\n' >\", outsnps3))\n",
    "       \n",
    "        \n",
    "        }\n",
    "\n",
    "        \n",
    "           "
   ]
  },
  {
   "cell_type": "code",
   "execution_count": 16,
   "id": "09cce87e",
   "metadata": {},
   "outputs": [],
   "source": [
    " 377070 # SNPS in peaks R20.7\n",
    "\n",
    " 308460 # SNPs in peaks R20.7 with at least 1 het\n",
    "\n",
    " 215925 # SNPs in peaks R20.7 with at least 2 het"
   ]
  },
  {
   "cell_type": "code",
   "execution_count": 18,
   "id": "ea0c1881",
   "metadata": {},
   "outputs": [
    {
     "data": {
      "text/html": [
       "0.572639032540377"
      ],
      "text/latex": [
       "0.572639032540377"
      ],
      "text/markdown": [
       "0.572639032540377"
      ],
      "text/plain": [
       "[1] 0.572639"
      ]
     },
     "metadata": {},
     "output_type": "display_data"
    }
   ],
   "source": [
    "215925/377070"
   ]
  },
  {
   "cell_type": "code",
   "execution_count": 21,
   "id": "375a9de1",
   "metadata": {},
   "outputs": [
    {
     "data": {
      "text/html": [
       "0.700009725734293"
      ],
      "text/latex": [
       "0.700009725734293"
      ],
      "text/markdown": [
       "0.700009725734293"
      ],
      "text/plain": [
       "[1] 0.7000097"
      ]
     },
     "metadata": {},
     "output_type": "display_data"
    }
   ],
   "source": [
    "215925/308460"
   ]
  },
  {
   "cell_type": "code",
   "execution_count": null,
   "id": "1c7c6a2e",
   "metadata": {},
   "outputs": [],
   "source": []
  }
 ],
 "metadata": {
  "kernelspec": {
   "display_name": "R 4.1",
   "language": "R",
   "name": "ir41"
  },
  "language_info": {
   "codemirror_mode": "r",
   "file_extension": ".r",
   "mimetype": "text/x-r-source",
   "name": "R",
   "pygments_lexer": "r",
   "version": "4.1.1"
  }
 },
 "nbformat": 4,
 "nbformat_minor": 5
}
