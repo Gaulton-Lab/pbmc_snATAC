{
 "cells": [
  {
   "cell_type": "code",
   "execution_count": 1,
   "metadata": {},
   "outputs": [],
   "source": [
    "library(parallel)\n",
    "library(stringr)"
   ]
  },
  {
   "cell_type": "code",
   "execution_count": 2,
   "metadata": {},
   "outputs": [],
   "source": [
    "vcf_dir = '/nfs/lab/projects/pbmc_snATAC/pipeline/snp_array/final_vcfs/'"
   ]
  },
  {
   "cell_type": "code",
   "execution_count": 3,
   "metadata": {},
   "outputs": [],
   "source": [
    "homedir = '/nfs/lab/projects/pbmc_snATAC/analysis_v2/rasqual/'"
   ]
  },
  {
   "cell_type": "code",
   "execution_count": 4,
   "metadata": {},
   "outputs": [],
   "source": [
    "samples = paste0(\"PBMC\", c(1:6, 8:10,12:15))"
   ]
  },
  {
   "cell_type": "markdown",
   "metadata": {},
   "source": [
    "### FIlter original vcf files for just  snps in peaks, samples of interest, imputation quality and heterozygous genotype and remove indels"
   ]
  },
  {
   "cell_type": "code",
   "execution_count": 28,
   "metadata": {},
   "outputs": [],
   "source": [
    "filter_vcf = function(cell) {\n",
    "        \n",
    "    for (n in 1:22) {\n",
    "\n",
    "    vcf    = paste0(vcf_dir, \"/chr\",n ,'.PBMC.topmed.hg19.final.vcf.gz')\n",
    "    outdir = paste(homedir, reso, cell, \"vcfs_peaksonly\", sep=\"/\")    \n",
    "    system(paste(\"mkdir -p \",outdir  ) )   \n",
    "    outvcf = paste0(outdir, \"/chr\",n ,'.filt.vcf')\n",
    "    bed    = paste0(homedir, reso, \"/\",cell, \"/\" , cell, '.filtered.bed')\n",
    "        \n",
    "    system(paste('bcftools view', vcf ,\n",
    "    '-R' , bed, \n",
    "    \"-i \\'INFO/R2[0]>0.7\\' | bcftools view -g het --types snps -o\" , outvcf))\n",
    "}\n",
    "    }"
   ]
  },
  {
   "cell_type": "code",
   "execution_count": 5,
   "metadata": {},
   "outputs": [],
   "source": [
    "reso      = \"bulk\"\n",
    "celltypes = \"bulk\"\n",
    "cell= 'bulk'"
   ]
  },
  {
   "cell_type": "code",
   "execution_count": 6,
   "metadata": {},
   "outputs": [],
   "source": [
    "ids = c(1:6, 8:10,12:15)"
   ]
  },
  {
   "cell_type": "code",
   "execution_count": 33,
   "metadata": {},
   "outputs": [
    {
     "data": {
      "text/html": [
       "<ol>\n",
       "\t<li>NULL</li>\n",
       "</ol>\n"
      ],
      "text/latex": [
       "\\begin{enumerate}\n",
       "\\item NULL\n",
       "\\end{enumerate}\n"
      ],
      "text/markdown": [
       "1. NULL\n",
       "\n",
       "\n"
      ],
      "text/plain": [
       "[[1]]\n",
       "NULL\n"
      ]
     },
     "metadata": {},
     "output_type": "display_data"
    }
   ],
   "source": [
    "mclapply(celltypes, function(x) filter_vcf(x) , mc.cores = 32)"
   ]
  },
  {
   "cell_type": "code",
   "execution_count": 7,
   "metadata": {},
   "outputs": [],
   "source": [
    "# for Bulk: use the file created by removing duplicate reads on a \"bulk-basis\"(as opposed to bc)\n",
    "new_vcf_dir = paste0(homedir, reso,\"/\" ,cell, \"/vcfs_peaksonly\" )    \n",
    "sampdir     = \"/nfs/lab/projects/pbmc_snATAC/analysis_v2/wasp_peaks/bulk\"\n",
    "bam         = paste0(sampdir, \"/PBMC\", ids, '/rmdup/PBMC', ids, '.keep.merged.rmdup.bam' )\n",
    "\n",
    "\n",
    "sorted_bam= paste0(sampdir, \"/PBMC\", ids, '/rmdup/PBMC', ids, '.keep.merged.sorted.rmdup.bam' )\n",
    "\n",
    "writeLines(sorted_bam, paste(new_vcf_dir, 'bam.list.txt', sep=\"/\"))"
   ]
  },
  {
   "cell_type": "code",
   "execution_count": 19,
   "metadata": {},
   "outputs": [],
   "source": [
    "# ## sort and Index the bam files\n",
    "sort_and_index = function(b){\n",
    "    system(paste0(\"cd \", sampdir,\"/PBMC\", ids[b], \"/rmdup\"))\n",
    "    system(paste('samtools', 'sort', '-m', '2G', '-@', '3', '-o', sorted_bam[b], bam[b])) \n",
    "    system(paste(\"samtools index\", sorted_bam[b]))\n",
    "}"
   ]
  },
  {
   "cell_type": "code",
   "execution_count": 20,
   "metadata": {},
   "outputs": [
    {
     "data": {
      "text/html": [
       "<ol>\n",
       "\t<li>0</li>\n",
       "\t<li>0</li>\n",
       "\t<li>0</li>\n",
       "\t<li>0</li>\n",
       "\t<li>0</li>\n",
       "\t<li>0</li>\n",
       "\t<li>0</li>\n",
       "\t<li>0</li>\n",
       "\t<li>0</li>\n",
       "\t<li>0</li>\n",
       "\t<li>0</li>\n",
       "\t<li>0</li>\n",
       "\t<li>0</li>\n",
       "</ol>\n"
      ],
      "text/latex": [
       "\\begin{enumerate}\n",
       "\\item 0\n",
       "\\item 0\n",
       "\\item 0\n",
       "\\item 0\n",
       "\\item 0\n",
       "\\item 0\n",
       "\\item 0\n",
       "\\item 0\n",
       "\\item 0\n",
       "\\item 0\n",
       "\\item 0\n",
       "\\item 0\n",
       "\\item 0\n",
       "\\end{enumerate}\n"
      ],
      "text/markdown": [
       "1. 0\n",
       "2. 0\n",
       "3. 0\n",
       "4. 0\n",
       "5. 0\n",
       "6. 0\n",
       "7. 0\n",
       "8. 0\n",
       "9. 0\n",
       "10. 0\n",
       "11. 0\n",
       "12. 0\n",
       "13. 0\n",
       "\n",
       "\n"
      ],
      "text/plain": [
       "[[1]]\n",
       "[1] 0\n",
       "\n",
       "[[2]]\n",
       "[1] 0\n",
       "\n",
       "[[3]]\n",
       "[1] 0\n",
       "\n",
       "[[4]]\n",
       "[1] 0\n",
       "\n",
       "[[5]]\n",
       "[1] 0\n",
       "\n",
       "[[6]]\n",
       "[1] 0\n",
       "\n",
       "[[7]]\n",
       "[1] 0\n",
       "\n",
       "[[8]]\n",
       "[1] 0\n",
       "\n",
       "[[9]]\n",
       "[1] 0\n",
       "\n",
       "[[10]]\n",
       "[1] 0\n",
       "\n",
       "[[11]]\n",
       "[1] 0\n",
       "\n",
       "[[12]]\n",
       "[1] 0\n",
       "\n",
       "[[13]]\n",
       "[1] 0\n"
      ]
     },
     "metadata": {},
     "output_type": "display_data"
    }
   ],
   "source": [
    "mclapply(1:13, function (x) sort_and_index(x),mc.cores = 48)"
   ]
  },
  {
   "cell_type": "code",
   "execution_count": 12,
   "metadata": {},
   "outputs": [],
   "source": [
    "rasqual_ase = function (cell, reso, chr){\n",
    "setwd(paste0(homedir, reso,\"/\" ,cell, \"/vcfs_peaksonly\" )  )\n",
    "outfile = paste0( \"chr\",chr, '.ase.filtered.vcf.gz')   \n",
    "system(\"rm full.ase*\")   ## remove older files \n",
    "system(paste0('bgzip chr', chr, '.filt.vcf -f' )) \n",
    "system(paste0('tabix chr', chr, '.filt.vcf.gz -f' ))     \n",
    "system(paste0('sh $RASQUALDIR/src/ASVCF/createASVCF.sh paired_end bam.list.txt chr',chr,\n",
    "              '.filt.vcf.gz chr', chr, '.ase.vcf.gz atac'))\n",
    "system(paste0('/home/pbenaglio/bin/bcftools view chr', \n",
    "              chr, '.ase.vcf.gz -i \\'COUNT(GT=\\\"het\\\")>1\\' -Oz -o ', outfile))\n",
    "system(paste('tabix', outfile, '-f'))\n",
    "    }"
   ]
  },
  {
   "cell_type": "code",
   "execution_count": 13,
   "metadata": {},
   "outputs": [
    {
     "data": {
      "text/html": [
       "<ol>\n",
       "\t<li>0</li>\n",
       "\t<li>0</li>\n",
       "\t<li>0</li>\n",
       "\t<li>0</li>\n",
       "\t<li>0</li>\n",
       "\t<li>0</li>\n",
       "\t<li>0</li>\n",
       "\t<li>0</li>\n",
       "\t<li>0</li>\n",
       "\t<li>0</li>\n",
       "\t<li>0</li>\n",
       "\t<li>0</li>\n",
       "\t<li>0</li>\n",
       "\t<li>0</li>\n",
       "\t<li>0</li>\n",
       "\t<li>0</li>\n",
       "\t<li>0</li>\n",
       "\t<li>0</li>\n",
       "\t<li>0</li>\n",
       "\t<li>0</li>\n",
       "\t<li>0</li>\n",
       "\t<li>0</li>\n",
       "</ol>\n"
      ],
      "text/latex": [
       "\\begin{enumerate}\n",
       "\\item 0\n",
       "\\item 0\n",
       "\\item 0\n",
       "\\item 0\n",
       "\\item 0\n",
       "\\item 0\n",
       "\\item 0\n",
       "\\item 0\n",
       "\\item 0\n",
       "\\item 0\n",
       "\\item 0\n",
       "\\item 0\n",
       "\\item 0\n",
       "\\item 0\n",
       "\\item 0\n",
       "\\item 0\n",
       "\\item 0\n",
       "\\item 0\n",
       "\\item 0\n",
       "\\item 0\n",
       "\\item 0\n",
       "\\item 0\n",
       "\\end{enumerate}\n"
      ],
      "text/markdown": [
       "1. 0\n",
       "2. 0\n",
       "3. 0\n",
       "4. 0\n",
       "5. 0\n",
       "6. 0\n",
       "7. 0\n",
       "8. 0\n",
       "9. 0\n",
       "10. 0\n",
       "11. 0\n",
       "12. 0\n",
       "13. 0\n",
       "14. 0\n",
       "15. 0\n",
       "16. 0\n",
       "17. 0\n",
       "18. 0\n",
       "19. 0\n",
       "20. 0\n",
       "21. 0\n",
       "22. 0\n",
       "\n",
       "\n"
      ],
      "text/plain": [
       "[[1]]\n",
       "[1] 0\n",
       "\n",
       "[[2]]\n",
       "[1] 0\n",
       "\n",
       "[[3]]\n",
       "[1] 0\n",
       "\n",
       "[[4]]\n",
       "[1] 0\n",
       "\n",
       "[[5]]\n",
       "[1] 0\n",
       "\n",
       "[[6]]\n",
       "[1] 0\n",
       "\n",
       "[[7]]\n",
       "[1] 0\n",
       "\n",
       "[[8]]\n",
       "[1] 0\n",
       "\n",
       "[[9]]\n",
       "[1] 0\n",
       "\n",
       "[[10]]\n",
       "[1] 0\n",
       "\n",
       "[[11]]\n",
       "[1] 0\n",
       "\n",
       "[[12]]\n",
       "[1] 0\n",
       "\n",
       "[[13]]\n",
       "[1] 0\n",
       "\n",
       "[[14]]\n",
       "[1] 0\n",
       "\n",
       "[[15]]\n",
       "[1] 0\n",
       "\n",
       "[[16]]\n",
       "[1] 0\n",
       "\n",
       "[[17]]\n",
       "[1] 0\n",
       "\n",
       "[[18]]\n",
       "[1] 0\n",
       "\n",
       "[[19]]\n",
       "[1] 0\n",
       "\n",
       "[[20]]\n",
       "[1] 0\n",
       "\n",
       "[[21]]\n",
       "[1] 0\n",
       "\n",
       "[[22]]\n",
       "[1] 0\n"
      ]
     },
     "metadata": {},
     "output_type": "display_data"
    }
   ],
   "source": [
    "mclapply(1:22, function (x) rasqual_ase(cell='bulk', reso=reso,chr=x ),mc.cores = 40)"
   ]
  },
  {
   "cell_type": "code",
   "execution_count": 17,
   "metadata": {},
   "outputs": [],
   "source": [
    "chromosomeASE= paste(paste0( \"chr\",1:22, '.ase.filtered.vcf.gz') , collapse=\" \")"
   ]
  },
  {
   "cell_type": "code",
   "execution_count": 18,
   "metadata": {},
   "outputs": [],
   "source": [
    "setwd(paste(homedir, reso, cell, \"vcfs_peaksonly\", sep=\"/\"))\n",
    "system(paste(\"bcftools concat\", chromosomeASE, \"-Oz -o full.ase.filtered.vcf.gz\"))\n",
    "system('tabix full.ase.filtered.vcf.gz -f')\n",
    "    "
   ]
  },
  {
   "cell_type": "code",
   "execution_count": 19,
   "metadata": {},
   "outputs": [],
   "source": [
    "for (cell in celltypes){\n",
    "setwd(paste0(homedir,reso ,\"/\", cell, \"/vcfs_peaksonly\"))\n",
    "system( \"zgrep \\'#\\' full.ase.filtered.vcf.gz > header\") \n",
    "test = read.table('full.ase.filtered.vcf.gz')\n",
    "for(n in 1:2){\n",
    "for( i in 10:22){\n",
    "tabs  = str_split_fixed(test[,i], \"\\\\:\", 5)\n",
    "ac    = tabs[tabs[,1]==\"0|1\" | tabs[,1]==\"1|0\", 5]\n",
    "acs   = str_split(ac,\",\")\n",
    "acsp  = t(sapply(acs, sample))\n",
    "acsp  = apply(acsp, 1, str_flatten, collapse=\",\")\n",
    "tabs2 = tabs\n",
    "tabs2[tabs2[,1]==\"0|1\" | tabs2[,1]==\"1|0\", 5] <- acsp\n",
    "\n",
    "tt    =  apply(tabs2, 1, str_flatten, collapse=\":\")\n",
    "   \n",
    "    if (i ==10){\n",
    "        TT = tt  }else{\n",
    "        TT = cbind(TT,tt)}\n",
    "    }\n",
    "\n",
    "europ = c(2,3,4,5,7,8,9,10,11,12)\n",
    "shuff = sample(europ)\n",
    "\n",
    "if(n==1) {\n",
    "    perm =  c(6, shuff[1:4], 13, shuff[5:10],1)\n",
    "} else if(n==2) {\n",
    "    perm =  c(13, shuff[1:4], 1, shuff[5:10],6)}\n",
    "    \n",
    "TT = TT[,perm]\n",
    "testp = cbind(test[,1:9], TT)\n",
    "\n",
    "outfile = paste0(\"full.ase.filtered.allelic.perm\",n)\n",
    "setwd(paste0(homedir,reso ,\"/\", cell, \"/vcfs_peaksonly\"))\n",
    "write.table(testp, outfile, col.names=F, row.names=F, quote=F, sep=\"\\t\" )\n",
    "system(paste0('cat header ', outfile, ' > ', outfile, '.vcf'))\n",
    "system(paste0('bgzip ', outfile, '.vcf -f'))\n",
    "system(paste0('tabix ', outfile, '.vcf.gz -f'))\n",
    "system(paste(\"rm\", outfile))    \n",
    "    }\n",
    "    }"
   ]
  },
  {
   "cell_type": "code",
   "execution_count": 32,
   "metadata": {},
   "outputs": [
    {
     "data": {
      "text/html": [
       "<table class=\"dataframe\">\n",
       "<caption>A matrix: 6 × 5 of type chr</caption>\n",
       "<tbody>\n",
       "\t<tr><td>0|0</td><td>0    </td><td>1,0,0            </td><td>0,0        </td><td>0,0</td></tr>\n",
       "\t<tr><td>1|1</td><td>1.932</td><td>0.001,0.066,0.933</td><td>0.961,0.971</td><td>0,0</td></tr>\n",
       "\t<tr><td>0|0</td><td>0    </td><td>1,0,0            </td><td>0,0        </td><td>0,0</td></tr>\n",
       "\t<tr><td>0|0</td><td>0    </td><td>1,0,0            </td><td>0,0        </td><td>0,0</td></tr>\n",
       "\t<tr><td>0|0</td><td>0    </td><td>1,0,0            </td><td>0,0        </td><td>0,0</td></tr>\n",
       "\t<tr><td>0|0</td><td>0.001</td><td>0.999,0.001,0    </td><td>0,0.001    </td><td>0,0</td></tr>\n",
       "</tbody>\n",
       "</table>\n"
      ],
      "text/latex": [
       "A matrix: 6 × 5 of type chr\n",
       "\\begin{tabular}{lllll}\n",
       "\t 0\\textbar{}0 & 0     & 1,0,0             & 0,0         & 0,0\\\\\n",
       "\t 1\\textbar{}1 & 1.932 & 0.001,0.066,0.933 & 0.961,0.971 & 0,0\\\\\n",
       "\t 0\\textbar{}0 & 0     & 1,0,0             & 0,0         & 0,0\\\\\n",
       "\t 0\\textbar{}0 & 0     & 1,0,0             & 0,0         & 0,0\\\\\n",
       "\t 0\\textbar{}0 & 0     & 1,0,0             & 0,0         & 0,0\\\\\n",
       "\t 0\\textbar{}0 & 0.001 & 0.999,0.001,0     & 0,0.001     & 0,0\\\\\n",
       "\\end{tabular}\n"
      ],
      "text/markdown": [
       "\n",
       "A matrix: 6 × 5 of type chr\n",
       "\n",
       "| 0|0 | 0     | 1,0,0             | 0,0         | 0,0 |\n",
       "| 1|1 | 1.932 | 0.001,0.066,0.933 | 0.961,0.971 | 0,0 |\n",
       "| 0|0 | 0     | 1,0,0             | 0,0         | 0,0 |\n",
       "| 0|0 | 0     | 1,0,0             | 0,0         | 0,0 |\n",
       "| 0|0 | 0     | 1,0,0             | 0,0         | 0,0 |\n",
       "| 0|0 | 0.001 | 0.999,0.001,0     | 0,0.001     | 0,0 |\n",
       "\n"
      ],
      "text/plain": [
       "     [,1] [,2]  [,3]              [,4]        [,5]\n",
       "[1,] 0|0  0     1,0,0             0,0         0,0 \n",
       "[2,] 1|1  1.932 0.001,0.066,0.933 0.961,0.971 0,0 \n",
       "[3,] 0|0  0     1,0,0             0,0         0,0 \n",
       "[4,] 0|0  0     1,0,0             0,0         0,0 \n",
       "[5,] 0|0  0     1,0,0             0,0         0,0 \n",
       "[6,] 0|0  0.001 0.999,0.001,0     0,0.001     0,0 "
      ]
     },
     "metadata": {},
     "output_type": "display_data"
    }
   ],
   "source": [
    "head(tabs)"
   ]
  },
  {
   "cell_type": "code",
   "execution_count": null,
   "metadata": {},
   "outputs": [],
   "source": []
  }
 ],
 "metadata": {
  "kernelspec": {
   "display_name": "R 4.1",
   "language": "R",
   "name": "ir41"
  },
  "language_info": {
   "codemirror_mode": "r",
   "file_extension": ".r",
   "mimetype": "text/x-r-source",
   "name": "R",
   "pygments_lexer": "r",
   "version": "4.1.1"
  }
 },
 "nbformat": 4,
 "nbformat_minor": 2
}
