{
 "cells": [
  {
   "cell_type": "code",
   "execution_count": 1,
   "metadata": {},
   "outputs": [],
   "source": [
    "suppressPackageStartupMessages(library(dplyr))\n",
    "suppressPackageStartupMessages(library(rasqualTools))\n",
    "suppressPackageStartupMessages(library(stringr))\n",
    "suppressPackageStartupMessages(library(parallel))"
   ]
  },
  {
   "cell_type": "code",
   "execution_count": 2,
   "metadata": {},
   "outputs": [],
   "source": [
    "coln = c('Feature','rsID','Chromosome','position','Ref' ,'Alt' ,'Af','HWEChi_square' ,'IA','Log10_qval','Chi_square',\n",
    "        'Effect_size','Sequencing_mapping_error_rate','Ref_allele_bias' ,'Overdispersion','SNPid_within_region',\n",
    "        'No_fSNPs','No_tested_SNPs','No_iterations_for_H0','No_iterations_for_H1',\"ties\",'Log_likelihood_H0',\n",
    "        'Convergence_status','r2_fSNPs','r2_rSNP')"
   ]
  },
  {
   "cell_type": "code",
   "execution_count": 3,
   "metadata": {},
   "outputs": [],
   "source": [
    "rasqual_caQTL = function(x, snp_counts, counts, offsets, covariates,  vcf=vcf_file, outdir, outlogdir,\n",
    "                         nsamples=10, lead=TRUE, permut=FALSE) \n",
    "{\n",
    "region  = paste0(snp_counts$chromosome_name[x], \":\",snp_counts$range_start[x] ,\"-\",snp_counts$range_end[x])\n",
    "outfile = paste0(outdir, \"/\",  snp_counts$gene_id[x])   \n",
    "outlog    = paste0(outlogdir,\"/\",  snp_counts$gene_id[x], \".log\")\n",
    "    \n",
    "system(paste(\"tabix\",  vcf, region, \"| $RASQUALDIR/bin/rasqual\", \n",
    "'-y', counts,\n",
    "'-k', offsets,\n",
    "'-x', covariates,\n",
    "\"-n\", nsamples,             \n",
    "'-j', indexes[x] ,\n",
    "'-l', snp_counts$cis_snp_count[x] ,\n",
    "'-m', snp_counts$feature_snp_count[x] , \n",
    "'-s', snp_counts$exon_starts[x],\n",
    "'-e', snp_counts$exon_ends[x] , \n",
    "'-f', snp_counts$gene_id[x],\n",
    " c(\"\",\"-t\" )  [(lead==TRUE) +1]   ,\n",
    " c(\"\",\"-r\" )  [(permut==TRUE) +1]   ,\n",
    "#'--min-coverage-depth 6',\n",
    " '--population-only',\n",
    "'>', outfile, \"2>\", outlog))\n",
    "    \n",
    "}"
   ]
  },
  {
   "cell_type": "code",
   "execution_count": 14,
   "metadata": {},
   "outputs": [],
   "source": [
    "###### set parmetes here ######\n",
    "maindir     = '/nfs/lab/projects/pbmc_snATAC/analysis_v2/rasqual_eur/fine/'\n",
    "celltypes   = list.files(maindir)[!grepl(\".txt\", list.files(maindir))]\n",
    "P           =  TRUE ## permutation?  \n",
    "folder_name = 'pop1_perm2_lead'\n",
    "L           =  TRUE ## report only lead?\n",
    "nsamples    = 10\n",
    "####################################\n",
    "\n",
    "setwd(maindir)"
   ]
  },
  {
   "cell_type": "code",
   "execution_count": 30,
   "metadata": {},
   "outputs": [
    {
     "name": "stdout",
     "output_type": "stream",
     "text": [
      "act_cd4_t' , 'adaptive_NK' , 'cDC' , 'cMono' , 'cyto_cd8_t' , 'cyto_nk' , 'iMono' , 'mem_b' , 'mem_cd8_t' , 'mkc' , 'naive_b' , 'naive_cd4_t' , 'naive_cd8_t' , 'ncMono' , 'tReg"
     ]
    }
   ],
   "source": [
    "cat(paste(celltypes , collapse=\"' , '\"))"
   ]
  },
  {
   "cell_type": "code",
   "execution_count": 16,
   "metadata": {},
   "outputs": [
    {
     "name": "stdout",
     "output_type": "stream",
     "text": [
      "act_cd4_t \n",
      "0 \n",
      "adaptive_NK \n",
      "0 \n",
      "cDC \n",
      "0 \n",
      "cMono \n",
      "0 \n",
      "cyto_cd8_t \n",
      "0 \n",
      "cyto_nk \n",
      "0 \n",
      "iMono \n",
      "0 \n",
      "mem_b \n",
      "0 \n",
      "mem_cd8_t \n",
      "0 \n",
      "mkc \n",
      "0 \n",
      "naive_b \n",
      "0 \n",
      "naive_cd4_t \n",
      "0 \n",
      "naive_cd8_t \n",
      "0 \n",
      "ncMono \n",
      "0 \n",
      "tReg \n",
      "0 \n"
     ]
    }
   ],
   "source": [
    "for (c in celltypes){\n",
    "\n",
    "cat (c, \"\\n\")\n",
    "counts      = paste0( c, \"/counts.\",c, \".bin\" )\n",
    "offsets     = paste0( c, \"/size_factors.\",c, \".bin\" )\n",
    "#covariates  = paste0( c, \"/covariates.\",c, \".bin\" )\n",
    "covariates  = paste0( c, \"/covariates2.\",c, \".bin\" )\n",
    "\n",
    "inp = read.table(paste0( c, \"/counts.\",c, \".txt\" ), row.names=1)\n",
    "cm  = read.table(paste0( c,\"/\",c, \".count_matrix\" ), header=T, stringsAsFactors = F)\n",
    "\n",
    "peak_data = cm[,c(1,2,5,3,4)]\n",
    "peak_data$Strand = as.integer(1)\n",
    "colnames(peak_data) =  c('gene_id','chr','strand','exon_starts','exon_ends')\n",
    "peak_data$exon_starts = as.character(peak_data$exon_starts)\n",
    "peak_data$exon_ends = as.character(peak_data$exon_ends)\n",
    "\n",
    "vcf_dir = paste0(c, '/vcfs_peaksonly/' )\n",
    "    \n",
    "system(paste0(\"bcftools query -f '%CHROM\\\\t%POS\\\\t%ID\\\\n' \", \n",
    "              vcf_dir,  \"full.ase.filtered.vcf.gz > \",  vcf_dir, 'full.ase.filtered.snps'))\n",
    "   \n",
    "snps2           = read.table(paste0(vcf_dir, \"full.ase.filtered.snps\"))\n",
    "colnames(snps2) = c('chr','pos','snp_id')\n",
    "    \n",
    "snp_counts2 = countSnpsOverlapingExons(peak_data, snps2, cis_window = 10000)\n",
    "snp_counts2 = subset(snp_counts2, feature_snp_count>0 |  cis_snp_count> 0)\n",
    "snp_counts_sub = subset(snp_counts2, gene_id %in% rownames(inp))\n",
    "\n",
    "indexes =  match ( snp_counts_sub$gene_id,rownames(inp))\n",
    "\n",
    "cat(sum(rownames(inp[indexes,])!= snp_counts_sub$gene_id), \"\\n\")\n",
    "\n",
    "sp = split(snp_counts_sub, snp_counts_sub$chromosome_name)\n",
    "\n",
    "for ( n in 1:22){\n",
    "\n",
    "chrom  = paste0(\"chr\", n)\n",
    "outdir = paste( c, folder_name , chrom, sep =\"/\")\n",
    "system(paste('mkdir -p', outdir))\n",
    "outlogdir = paste0(outdir, \"/logs\")\n",
    "system(paste(\"mkdir\",outlogdir ))\n",
    "    \n",
    "snp_counts_use = sp[[chrom]]\n",
    "indexes        =  match ( snp_counts_use$gene_id,rownames(inp))\n",
    "\n",
    "vcf_file = paste0(vcf_dir,  'full.ase.filtered.vcf.gz' )\n",
    "    \n",
    "\n",
    "mclapply(1:nrow(snp_counts_use), function(x) rasqual_caQTL(x, snp_counts_use, counts, offsets, covariates, \n",
    "                                                           nsamples=nsamples, \n",
    "                                                           vcf=vcf_file, outdir=outdir, outlogdir=outlogdir ,\n",
    "                                                           lead=L, permut=P) , mc.cores = 40 )\n",
    "         }\n",
    "    \n",
    "    }"
   ]
  },
  {
   "cell_type": "code",
   "execution_count": 17,
   "metadata": {},
   "outputs": [],
   "source": [
    "for (c in celltypes){\n",
    "    logdir = paste0( c, \"/\",folder_name , \"_logs\")\n",
    "    dir.create(logdir)\n",
    "for ( n in 1:22){\n",
    "        chrom  = paste0(\"chr\", n)\n",
    "        outdir = paste( c, folder_name , chrom, \"logs\",sep =\"/\")\n",
    "        files = na.omit(list.files(outdir)[sapply(paste(outdir, list.files(outdir),sep=\"/\"), file.size) >0])\n",
    " if(length(files)>0) {      \n",
    "    error_files= paste(outdir, files, sep=\"/\")\n",
    "     for (err in error_files){\n",
    "     system(paste(\"mv\", err, logdir))\n",
    "    }\n",
    "     }\n",
    "    system(paste(\"rm -r\",outdir ))\n",
    "    \n",
    "            }\n",
    "    \n",
    "    }"
   ]
  },
  {
   "cell_type": "code",
   "execution_count": 18,
   "metadata": {},
   "outputs": [
    {
     "name": "stdout",
     "output_type": "stream",
     "text": [
      "act_cd4_t \n",
      "adaptive_NK \n",
      "cDC \n",
      "cMono \n",
      "cyto_cd8_t \n",
      "cyto_nk \n",
      "iMono \n",
      "mem_b \n",
      "mem_cd8_t \n",
      "mkc \n",
      "naive_b \n",
      "naive_cd4_t \n",
      "naive_cd8_t \n",
      "ncMono \n",
      "tReg \n"
     ]
    }
   ],
   "source": [
    "compile_results = function(n,folder_name,outdir ){\n",
    "  \t    chrom  = paste0(\"chr\", n)\n",
    "        outdir = paste( c, folder_name , chrom, sep =\"/\")\n",
    "        system(paste0(\"cat \", outdir,  \"/* > \", c , \"/\", folder_name,\".results_chr\", n))\n",
    "    }\n",
    "\n",
    "\n",
    "for (c in celltypes){\n",
    "    cat (c, \"\\n\")\n",
    "    tabname = paste0(c, \"/Results_\", folder_name, \".tsv\")\n",
    "    \n",
    "        \n",
    " mclapply (1:22, function(x) compile_results(n=x,folder_name=folder_name,outdir=outdir))\n",
    "         \n",
    "        system(paste0(\"cat \", c , \"/\", folder_name,\".results_chr* > \", tabname))\n",
    "        system(paste0(\"rm \", c , \"/\", folder_name,\".results_chr*\"))\n",
    "         results           = read.table(tabname, fill=T)\n",
    "         colnames(results) = coln\n",
    "         results           = subset(results,results$rsID !=\"SKIPPED\")\n",
    "         results$P_VAl     = pchisq(results[,11], 1, lower=F)\n",
    "         write.table(results, tabname, sep=\"\\t\", quote=F)\n",
    "\n",
    "}\n"
   ]
  },
  {
   "cell_type": "code",
   "execution_count": 47,
   "metadata": {},
   "outputs": [
    {
     "data": {
      "text/html": [
       "'t'"
      ],
      "text/latex": [
       "'t'"
      ],
      "text/markdown": [
       "'t'"
      ],
      "text/plain": [
       "[1] \"t\""
      ]
     },
     "metadata": {},
     "output_type": "display_data"
    }
   ],
   "source": [
    "c"
   ]
  },
  {
   "cell_type": "code",
   "execution_count": 48,
   "metadata": {},
   "outputs": [],
   "source": [
    "# for (c in celltypes){\n",
    "#     for ( n in 1:22){\n",
    "#         chrom  = paste0(\"chr\", n)\n",
    "#         outdir = paste( c, folder_name , chrom, sep =\"/\")         \n",
    "#         system(paste0(\"rm -r \", outdir))\n",
    "        \n",
    "#             }\n",
    "#     system(paste0(\"rm -r \", c, \"/\", folder_name))\n",
    "#  }"
   ]
  },
  {
   "cell_type": "markdown",
   "metadata": {},
   "source": [
    "### Calculte empirical q-value from the permutations.\n",
    "see: https://github.com/natsuhiko/rasqual/issues/21"
   ]
  },
  {
   "cell_type": "code",
   "execution_count": 19,
   "metadata": {},
   "outputs": [],
   "source": [
    "# q1 : real lead Q-value vector for all peaks from RASQUAL\n",
    "# q0 : permutated Q-value vector\n",
    "# alpha : FDR threshold\n",
    "# This function returns the P-value threshold corresponding to FDR=alpha.\n",
    "getFDR <-\n",
    "function(q1, q0, alpha=0.1, z=NULL, subset=NULL){\n",
    "\tif(is.null(z)){\n",
    "\t\ta=0\n",
    "\t\tfor(itr in 1:10){\n",
    "\t\t\ta=getFDR(q1,q0,alpha,rev(a+0:100/100^itr),subset)\n",
    "\t\t}\n",
    "\t\ta\n",
    "\t}else{\n",
    "\t\tif(!is.null(subset)){\n",
    "\t\t\tq1=q1[subset]\n",
    "\t\t\tq0=q0[subset]\n",
    "\t\t}\n",
    "\t\tq1=q1[!is.na(q1)]\n",
    "\t\tq0=q0[!is.na(q0)]\n",
    "\t\tx=NULL;\n",
    "\t\tfor(i in z){\n",
    "\t\t\tx=c(x,sum(q0<i)/length(q0)/(sum(q1<i)/length(q1)))\n",
    "\t\t};\n",
    "\t\tmax(c(0,z[x<alpha]),na.rm=T)\n",
    "\t}\n",
    "}\n"
   ]
  },
  {
   "cell_type": "code",
   "execution_count": 20,
   "metadata": {},
   "outputs": [],
   "source": [
    "df = data.frame()\n",
    "for (c in celltypes) {\n",
    "results       = read.table(paste0(c, \"/Results_pop1_all.tsv\"), header=T, stringsAsFactors = F)\n",
    "random        = read.table(paste0(c, \"/Results_pop1_perm1_lead.tsv\"), header=T, stringsAsFactors = F)\n",
    "random2       = read.table(paste0(c, \"/Results_pop1_perm2_lead.tsv\"), header=T, stringsAsFactors = F)\n",
    "results       = results[order(results$P_VAl),]\n",
    "results_lead  = results[!duplicated(results$Feature),]\n",
    "    \n",
    "thresh10      = getFDR(10^(results_lead$Log10_qval), 10^(c(random$Log10_qval,random2$Log10_qval )), 0.1) \n",
    "thresh05       = getFDR(10^(results_lead$Log10_qval), 10^(c(random$Log10_qval,random2$Log10_qval )), 0.05) \n",
    "thresh01       = getFDR(10^(results_lead$Log10_qval), 10^(c(random$Log10_qval,random2$Log10_qval )), 0.01) \n",
    "\n",
    "results_lead$flag_fdr10 = 10^(results_lead$Log10_qval) < thresh10\n",
    "results_lead$flag_fdr05 = 10^(results_lead$Log10_qval) < thresh05\n",
    "results_lead$flag_fdr01 = 10^(results_lead$Log10_qval) < thresh01\n",
    "df = rbind(df, c(thresh10, sum(results_lead$flag_fdr10, na.rm=T) , \n",
    "                   thresh05, sum(results_lead$flag_fdr05, na.rm=T),\n",
    "                   thresh01, sum(results_lead$flag_fdr01, na.rm=T)))\n",
    "\n",
    "write.table(results_lead, paste0(c, \"/Results_pop1_lead.tsv\"),sep=\"\\t\", quote=F, row.names=F)    \n",
    "\n",
    "}\n",
    "rownames(df) = celltypes\n",
    "colnames(df) = c('pval_fdr10%', 'caQTL_fdr10%', 'pval_fdr05%', 'caQTL_fdr05%','pval_fdr01%', 'caQTL_fdr01%')"
   ]
  },
  {
   "cell_type": "code",
   "execution_count": 21,
   "metadata": {},
   "outputs": [
    {
     "data": {
      "text/html": [
       "<table class=\"dataframe\">\n",
       "<caption>A data.frame: 15 × 6</caption>\n",
       "<thead>\n",
       "\t<tr><th></th><th scope=col>pval_fdr10%</th><th scope=col>caQTL_fdr10%</th><th scope=col>pval_fdr05%</th><th scope=col>caQTL_fdr05%</th><th scope=col>pval_fdr01%</th><th scope=col>caQTL_fdr01%</th></tr>\n",
       "\t<tr><th></th><th scope=col>&lt;dbl&gt;</th><th scope=col>&lt;dbl&gt;</th><th scope=col>&lt;dbl&gt;</th><th scope=col>&lt;dbl&gt;</th><th scope=col>&lt;dbl&gt;</th><th scope=col>&lt;dbl&gt;</th></tr>\n",
       "</thead>\n",
       "<tbody>\n",
       "\t<tr><th scope=row>act_cd4_t</th><td>0.008488637</td><td> 25</td><td>0.005688999</td><td> 14</td><td>0.003891944</td><td> 9</td></tr>\n",
       "\t<tr><th scope=row>adaptive_NK</th><td>0.024994342</td><td>  3</td><td>0.024994342</td><td>  3</td><td>0.024994342</td><td> 3</td></tr>\n",
       "\t<tr><th scope=row>cDC</th><td>0.000000000</td><td>  0</td><td>0.000000000</td><td>  0</td><td>0.000000000</td><td> 0</td></tr>\n",
       "\t<tr><th scope=row>cMono</th><td>0.055304614</td><td>471</td><td>0.034203946</td><td>278</td><td>0.006831011</td><td>28</td></tr>\n",
       "\t<tr><th scope=row>cyto_cd8_t</th><td>0.029500534</td><td> 45</td><td>0.022422843</td><td> 33</td><td>0.004532480</td><td> 2</td></tr>\n",
       "\t<tr><th scope=row>cyto_nk</th><td>0.012226120</td><td> 11</td><td>0.009261248</td><td>  5</td><td>0.009261248</td><td> 5</td></tr>\n",
       "\t<tr><th scope=row>iMono</th><td>0.062805119</td><td> 29</td><td>0.044281565</td><td> 16</td><td>0.037919727</td><td>10</td></tr>\n",
       "\t<tr><th scope=row>mem_b</th><td>0.054069574</td><td> 46</td><td>0.019542065</td><td> 11</td><td>0.014927323</td><td> 5</td></tr>\n",
       "\t<tr><th scope=row>mem_cd8_t</th><td>0.038154121</td><td> 33</td><td>0.017315161</td><td> 10</td><td>0.017315161</td><td>10</td></tr>\n",
       "\t<tr><th scope=row>mkc</th><td>0.007597526</td><td>  4</td><td>0.007597526</td><td>  4</td><td>0.007597526</td><td> 4</td></tr>\n",
       "\t<tr><th scope=row>naive_b</th><td>0.058646905</td><td> 85</td><td>0.036265164</td><td> 45</td><td>0.015796199</td><td>17</td></tr>\n",
       "\t<tr><th scope=row>naive_cd4_t</th><td>0.037341733</td><td> 73</td><td>0.020049772</td><td> 27</td><td>0.011143888</td><td>13</td></tr>\n",
       "\t<tr><th scope=row>naive_cd8_t</th><td>0.018024236</td><td> 23</td><td>0.002122576</td><td>  1</td><td>0.002122576</td><td> 1</td></tr>\n",
       "\t<tr><th scope=row>ncMono</th><td>0.042472168</td><td> 27</td><td>0.039591181</td><td> 25</td><td>0.014945167</td><td> 5</td></tr>\n",
       "\t<tr><th scope=row>tReg</th><td>0.039429903</td><td> 13</td><td>0.006862354</td><td>  1</td><td>0.006862354</td><td> 1</td></tr>\n",
       "</tbody>\n",
       "</table>\n"
      ],
      "text/latex": [
       "A data.frame: 15 × 6\n",
       "\\begin{tabular}{r|llllll}\n",
       "  & pval\\_fdr10\\% & caQTL\\_fdr10\\% & pval\\_fdr05\\% & caQTL\\_fdr05\\% & pval\\_fdr01\\% & caQTL\\_fdr01\\%\\\\\n",
       "  & <dbl> & <dbl> & <dbl> & <dbl> & <dbl> & <dbl>\\\\\n",
       "\\hline\n",
       "\tact\\_cd4\\_t & 0.008488637 &  25 & 0.005688999 &  14 & 0.003891944 &  9\\\\\n",
       "\tadaptive\\_NK & 0.024994342 &   3 & 0.024994342 &   3 & 0.024994342 &  3\\\\\n",
       "\tcDC & 0.000000000 &   0 & 0.000000000 &   0 & 0.000000000 &  0\\\\\n",
       "\tcMono & 0.055304614 & 471 & 0.034203946 & 278 & 0.006831011 & 28\\\\\n",
       "\tcyto\\_cd8\\_t & 0.029500534 &  45 & 0.022422843 &  33 & 0.004532480 &  2\\\\\n",
       "\tcyto\\_nk & 0.012226120 &  11 & 0.009261248 &   5 & 0.009261248 &  5\\\\\n",
       "\tiMono & 0.062805119 &  29 & 0.044281565 &  16 & 0.037919727 & 10\\\\\n",
       "\tmem\\_b & 0.054069574 &  46 & 0.019542065 &  11 & 0.014927323 &  5\\\\\n",
       "\tmem\\_cd8\\_t & 0.038154121 &  33 & 0.017315161 &  10 & 0.017315161 & 10\\\\\n",
       "\tmkc & 0.007597526 &   4 & 0.007597526 &   4 & 0.007597526 &  4\\\\\n",
       "\tnaive\\_b & 0.058646905 &  85 & 0.036265164 &  45 & 0.015796199 & 17\\\\\n",
       "\tnaive\\_cd4\\_t & 0.037341733 &  73 & 0.020049772 &  27 & 0.011143888 & 13\\\\\n",
       "\tnaive\\_cd8\\_t & 0.018024236 &  23 & 0.002122576 &   1 & 0.002122576 &  1\\\\\n",
       "\tncMono & 0.042472168 &  27 & 0.039591181 &  25 & 0.014945167 &  5\\\\\n",
       "\ttReg & 0.039429903 &  13 & 0.006862354 &   1 & 0.006862354 &  1\\\\\n",
       "\\end{tabular}\n"
      ],
      "text/markdown": [
       "\n",
       "A data.frame: 15 × 6\n",
       "\n",
       "| <!--/--> | pval_fdr10% &lt;dbl&gt; | caQTL_fdr10% &lt;dbl&gt; | pval_fdr05% &lt;dbl&gt; | caQTL_fdr05% &lt;dbl&gt; | pval_fdr01% &lt;dbl&gt; | caQTL_fdr01% &lt;dbl&gt; |\n",
       "|---|---|---|---|---|---|---|\n",
       "| act_cd4_t | 0.008488637 |  25 | 0.005688999 |  14 | 0.003891944 |  9 |\n",
       "| adaptive_NK | 0.024994342 |   3 | 0.024994342 |   3 | 0.024994342 |  3 |\n",
       "| cDC | 0.000000000 |   0 | 0.000000000 |   0 | 0.000000000 |  0 |\n",
       "| cMono | 0.055304614 | 471 | 0.034203946 | 278 | 0.006831011 | 28 |\n",
       "| cyto_cd8_t | 0.029500534 |  45 | 0.022422843 |  33 | 0.004532480 |  2 |\n",
       "| cyto_nk | 0.012226120 |  11 | 0.009261248 |   5 | 0.009261248 |  5 |\n",
       "| iMono | 0.062805119 |  29 | 0.044281565 |  16 | 0.037919727 | 10 |\n",
       "| mem_b | 0.054069574 |  46 | 0.019542065 |  11 | 0.014927323 |  5 |\n",
       "| mem_cd8_t | 0.038154121 |  33 | 0.017315161 |  10 | 0.017315161 | 10 |\n",
       "| mkc | 0.007597526 |   4 | 0.007597526 |   4 | 0.007597526 |  4 |\n",
       "| naive_b | 0.058646905 |  85 | 0.036265164 |  45 | 0.015796199 | 17 |\n",
       "| naive_cd4_t | 0.037341733 |  73 | 0.020049772 |  27 | 0.011143888 | 13 |\n",
       "| naive_cd8_t | 0.018024236 |  23 | 0.002122576 |   1 | 0.002122576 |  1 |\n",
       "| ncMono | 0.042472168 |  27 | 0.039591181 |  25 | 0.014945167 |  5 |\n",
       "| tReg | 0.039429903 |  13 | 0.006862354 |   1 | 0.006862354 |  1 |\n",
       "\n"
      ],
      "text/plain": [
       "            pval_fdr10% caQTL_fdr10% pval_fdr05% caQTL_fdr05% pval_fdr01%\n",
       "act_cd4_t   0.008488637  25          0.005688999  14          0.003891944\n",
       "adaptive_NK 0.024994342   3          0.024994342   3          0.024994342\n",
       "cDC         0.000000000   0          0.000000000   0          0.000000000\n",
       "cMono       0.055304614 471          0.034203946 278          0.006831011\n",
       "cyto_cd8_t  0.029500534  45          0.022422843  33          0.004532480\n",
       "cyto_nk     0.012226120  11          0.009261248   5          0.009261248\n",
       "iMono       0.062805119  29          0.044281565  16          0.037919727\n",
       "mem_b       0.054069574  46          0.019542065  11          0.014927323\n",
       "mem_cd8_t   0.038154121  33          0.017315161  10          0.017315161\n",
       "mkc         0.007597526   4          0.007597526   4          0.007597526\n",
       "naive_b     0.058646905  85          0.036265164  45          0.015796199\n",
       "naive_cd4_t 0.037341733  73          0.020049772  27          0.011143888\n",
       "naive_cd8_t 0.018024236  23          0.002122576   1          0.002122576\n",
       "ncMono      0.042472168  27          0.039591181  25          0.014945167\n",
       "tReg        0.039429903  13          0.006862354   1          0.006862354\n",
       "            caQTL_fdr01%\n",
       "act_cd4_t    9          \n",
       "adaptive_NK  3          \n",
       "cDC          0          \n",
       "cMono       28          \n",
       "cyto_cd8_t   2          \n",
       "cyto_nk      5          \n",
       "iMono       10          \n",
       "mem_b        5          \n",
       "mem_cd8_t   10          \n",
       "mkc          4          \n",
       "naive_b     17          \n",
       "naive_cd4_t 13          \n",
       "naive_cd8_t  1          \n",
       "ncMono       5          \n",
       "tReg         1          "
      ]
     },
     "metadata": {},
     "output_type": "display_data"
    }
   ],
   "source": [
    "df"
   ]
  },
  {
   "cell_type": "code",
   "execution_count": 119,
   "metadata": {},
   "outputs": [],
   "source": [
    "#write.table(df, \"Summary_run3.txt\", quote=F)"
   ]
  },
  {
   "cell_type": "code",
   "execution_count": 69,
   "metadata": {},
   "outputs": [
    {
     "data": {
      "text/html": [
       "0"
      ],
      "text/latex": [
       "0"
      ],
      "text/markdown": [
       "0"
      ],
      "text/plain": [
       "[1] 0"
      ]
     },
     "metadata": {},
     "output_type": "display_data"
    }
   ],
   "source": [
    "sum(results_lead$No_fSNPs)"
   ]
  },
  {
   "cell_type": "code",
   "execution_count": null,
   "metadata": {},
   "outputs": [],
   "source": []
  }
 ],
 "metadata": {
  "kernelspec": {
   "display_name": "R 4.1",
   "language": "R",
   "name": "ir41"
  },
  "language_info": {
   "codemirror_mode": "r",
   "file_extension": ".r",
   "mimetype": "text/x-r-source",
   "name": "R",
   "pygments_lexer": "r",
   "version": "4.1.1"
  }
 },
 "nbformat": 4,
 "nbformat_minor": 2
}
