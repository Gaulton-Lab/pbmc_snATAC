{
 "cells": [
  {
   "cell_type": "code",
   "execution_count": 1,
   "metadata": {},
   "outputs": [],
   "source": [
    "suppressPackageStartupMessages(library(dplyr))\n",
    "suppressPackageStartupMessages(library(rasqualTools))\n",
    "suppressPackageStartupMessages(library(stringr))\n",
    "suppressPackageStartupMessages(library(parallel))"
   ]
  },
  {
   "cell_type": "code",
   "execution_count": 2,
   "metadata": {},
   "outputs": [],
   "source": [
    "coln = c('Feature','rsID','Chromosome','position','Ref' ,'Alt' ,'Af','HWEChi_square' ,'IA','Log10_qval','Chi_square',\n",
    "        'Effect_size','Sequencing_mapping_error_rate','Ref_allele_bias' ,'Overdispersion','SNPid_within_region',\n",
    "        'No_fSNPs','No_tested_SNPs','No_iterations_for_H0','No_iterations_for_H1',\"ties\",'Log_likelihood_H0',\n",
    "        'Convergence_status','r2_fSNPs','r2_rSNP')"
   ]
  },
  {
   "cell_type": "code",
   "execution_count": 122,
   "metadata": {},
   "outputs": [],
   "source": [
    "rasqual_caQTL = function(x, snp_counts, counts, offsets, covariates,  vcf=vcf_file, outdir, outlogdir,\n",
    "                         nsamples=10, lead=TRUE, permut=FALSE) \n",
    "{\n",
    "region  = paste0(snp_counts$chromosome_name[x], \":\",snp_counts$range_start[x] ,\"-\",snp_counts$range_end[x])\n",
    "outfile = paste0(outdir, \"/\",  snp_counts$gene_id[x])   \n",
    "outlog    = paste0(outlogdir,\"/\",  snp_counts$gene_id[x], \".log\")\n",
    "    \n",
    "system(paste(\"tabix\",  vcf, region, \"| $RASQUALDIR/bin/rasqual\", \n",
    "'-y', counts,\n",
    "'-k', offsets,\n",
    "'-x', covariates,\n",
    "\"-n\", nsamples,             \n",
    "'-j', indexes[x] ,\n",
    "'-l', snp_counts$cis_snp_count[x] ,\n",
    "'-m', snp_counts$feature_snp_count[x] , \n",
    "'-s', snp_counts$exon_starts[x],\n",
    "'-e', snp_counts$exon_ends[x] , \n",
    "'-f', snp_counts$gene_id[x],            \n",
    " c(\"\",\"-t\" )  [(lead==TRUE) +1]   ,\n",
    " c(\"\",\"-r\" )  [(permut==TRUE) +1]   ,\n",
    "#'--min-coverage-depth 6',\n",
    "             '--population-only',\n",
    "'>', outfile, \"2>\", outlog))\n",
    "    \n",
    "}"
   ]
  },
  {
   "cell_type": "code",
   "execution_count": 133,
   "metadata": {},
   "outputs": [],
   "source": [
    "###### set parmetes here ######\n",
    "maindir     = '/nfs/lab/projects/pbmc_snATAC/analysis_v2/rasqual/subsample_test/'\n",
    "celltypes   = list.files(maindir)[!grepl(\".txt\", list.files(maindir))]\n",
    "P           =  TRUE ## permutation?  \n",
    "folder_name = 'run3_lead_poponly_perm2'\n",
    "L           =  TRUE ## report only lead?\n",
    "nsamples    = 10\n",
    "####################################\n",
    "\n",
    "setwd(maindir)"
   ]
  },
  {
   "cell_type": "code",
   "execution_count": 134,
   "metadata": {},
   "outputs": [
    {
     "data": {
      "text/html": [
       "<style>\n",
       ".list-inline {list-style: none; margin:0; padding: 0}\n",
       ".list-inline>li {display: inline-block}\n",
       ".list-inline>li:not(:last-child)::after {content: \"\\00b7\"; padding: 0 .5ex}\n",
       "</style>\n",
       "<ol class=list-inline><li>'sub10'</li><li>'sub100'</li><li>'sub1000'</li><li>'sub2000'</li><li>'sub25'</li><li>'sub250'</li><li>'sub50'</li><li>'sub500'</li></ol>\n"
      ],
      "text/latex": [
       "\\begin{enumerate*}\n",
       "\\item 'sub10'\n",
       "\\item 'sub100'\n",
       "\\item 'sub1000'\n",
       "\\item 'sub2000'\n",
       "\\item 'sub25'\n",
       "\\item 'sub250'\n",
       "\\item 'sub50'\n",
       "\\item 'sub500'\n",
       "\\end{enumerate*}\n"
      ],
      "text/markdown": [
       "1. 'sub10'\n",
       "2. 'sub100'\n",
       "3. 'sub1000'\n",
       "4. 'sub2000'\n",
       "5. 'sub25'\n",
       "6. 'sub250'\n",
       "7. 'sub50'\n",
       "8. 'sub500'\n",
       "\n",
       "\n"
      ],
      "text/plain": [
       "[1] \"sub10\"   \"sub100\"  \"sub1000\" \"sub2000\" \"sub25\"   \"sub250\"  \"sub50\"  \n",
       "[8] \"sub500\" "
      ]
     },
     "metadata": {},
     "output_type": "display_data"
    }
   ],
   "source": [
    "celltypes "
   ]
  },
  {
   "cell_type": "code",
   "execution_count": 135,
   "metadata": {},
   "outputs": [
    {
     "name": "stdout",
     "output_type": "stream",
     "text": [
      "sub10 \n",
      "0 \n",
      "sub100 \n",
      "0 \n",
      "sub1000 \n",
      "0 \n",
      "sub2000 \n",
      "0 \n",
      "sub25 \n",
      "0 \n",
      "sub250 \n",
      "0 \n",
      "sub50 \n",
      "0 \n",
      "sub500 \n",
      "0 \n"
     ]
    }
   ],
   "source": [
    "for (c in celltypes){\n",
    "\n",
    "cat (c, \"\\n\")\n",
    "counts      = paste0( c, \"/counts.\",c, \".bin\" )\n",
    "offsets     = paste0( c, \"/size_factors.\",c, \".bin\" )\n",
    "covariates  = paste0( c, \"/covariates.\",c, \".bin\" )\n",
    "\n",
    "\n",
    "inp = read.table(paste0( c, \"/counts.\",c, \".txt\" ), row.names=1)\n",
    "cm  = read.table(paste0( c,\"/\",c, \".count_matrix\" ), header=T, stringsAsFactors = F)\n",
    "\n",
    "peak_data = cm[,c(1,2,5,3,4)]\n",
    "peak_data$Strand = as.integer(1)\n",
    "colnames(peak_data) =  c('gene_id','chr','strand','exon_starts','exon_ends')\n",
    "peak_data$exon_starts = as.character(peak_data$exon_starts)\n",
    "peak_data$exon_ends = as.character(peak_data$exon_ends)\n",
    "\n",
    "vcf_dir = paste0(c, '/vcfs_peaksonly/' )\n",
    "\n",
    "    \n",
    "system(paste0(\"bcftools query -f '%CHROM\\\\t%POS\\\\t%ID\\\\n' \", \n",
    "              vcf_dir,  \"full.ase.filtered.vcf.gz > \",  vcf_dir, 'full.ase.filtered.snps'))\n",
    "   \n",
    "snps2           = read.table(paste0(vcf_dir, \"full.ase.filtered.snps\"))\n",
    "colnames(snps2) = c('chr','pos','snp_id')\n",
    "    \n",
    "snp_counts2 = countSnpsOverlapingExons(peak_data, snps2, cis_window = 10000)\n",
    "snp_counts2 = subset(snp_counts2, feature_snp_count>0 |  cis_snp_count> 0)\n",
    "snp_counts_sub = subset(snp_counts2, gene_id %in% rownames(inp))\n",
    "\n",
    "indexes =  match ( snp_counts_sub$gene_id,rownames(inp))\n",
    "\n",
    "cat(sum(rownames(inp[indexes,])!= snp_counts_sub$gene_id), \"\\n\")\n",
    "\n",
    "sp = split(snp_counts_sub, snp_counts_sub$chromosome_name)\n",
    "\n",
    "for ( n in 1:22){\n",
    "\n",
    "chrom  = paste0(\"chr\", n)\n",
    "outdir = paste( c, folder_name , chrom, sep =\"/\")\n",
    "system(paste('mkdir -p', outdir))\n",
    "outlogdir = paste0(outdir, \"/logs\")\n",
    "system(paste(\"mkdir\",outlogdir ))\n",
    "    \n",
    "snp_counts_use = sp[[chrom]]\n",
    "indexes        =  match ( snp_counts_use$gene_id,rownames(inp))\n",
    "\n",
    "vcf_file = paste0(vcf_dir,  'full.ase.filtered.vcf.gz' )\n",
    "    \n",
    "\n",
    "mclapply(1:nrow(snp_counts_use), function(x) rasqual_caQTL(x, snp_counts_use, counts, offsets, covariates, \n",
    "                                                           nsamples=nsamples, \n",
    "                                                           vcf=vcf_file, outdir=outdir, outlogdir=outlogdir ,\n",
    "                                                           lead=L, permut=P) , mc.cores = 32 )\n",
    "         }\n",
    "    \n",
    "    }"
   ]
  },
  {
   "cell_type": "code",
   "execution_count": 136,
   "metadata": {},
   "outputs": [],
   "source": [
    "# for (c in celltypes){\n",
    "#     logdir = paste0( c, \"/\",folder_name , \"_logs\")\n",
    "#     dir.create(logdir)\n",
    "# for ( n in 1:22){\n",
    "#         chrom  = paste0(\"chr\", n)\n",
    "#         outdir = paste( c, folder_name , chrom, \"logs\",sep =\"/\")\n",
    "#         files = na.omit(list.files(outdir)[sapply(paste(outdir, list.files(outdir),sep=\"/\"), file.size) >0])\n",
    "#  if(length(files)>0) {      \n",
    "#     error_files= paste(outdir, files, sep=\"/\")\n",
    "#      for (err in error_files){\n",
    "#      system(paste(\"mv\", err, logdir))\n",
    "#     }\n",
    "#      }\n",
    "#     system(paste(\"rm -r\",outdir ))\n",
    "    \n",
    "#             }\n",
    "    \n",
    "#     }"
   ]
  },
  {
   "cell_type": "code",
   "execution_count": null,
   "metadata": {},
   "outputs": [],
   "source": [
    "compile_results = function(n,folder_name,outdir ){\n",
    "  \t    chrom  = paste0(\"chr\", n)\n",
    "        outdir = paste( c, folder_name , chrom, sep =\"/\")\n",
    "        system(paste0(\"cat \", outdir,  \"/* > \", c , \"/\", folder_name,\".results_chr\", n))\n",
    "    }\n",
    "\n",
    "\n",
    "for (c in celltypes){\n",
    "    cat (c, \"\\n\")\n",
    "    tabname = paste0(c, \"/Results_\", folder_name, \".tsv\")\n",
    "    \n",
    "        \n",
    " mclapply (1:22, function(x) compile_results(n=x,folder_name=folder_name,outdir=outdir))\n",
    "         \n",
    "        system(paste0(\"cat \", c , \"/\", folder_name,\".results_chr* > \", tabname))\n",
    "        system(paste0(\"rm \", c , \"/\", folder_name,\".results_chr*\"))\n",
    "         results           = read.table(tabname, fill=T)\n",
    "         colnames(results) = coln\n",
    "         results           = subset(results,results$rsID !=\"SKIPPED\")\n",
    "         results$P_VAl     = pchisq(results[,11], 1, lower=F)\n",
    "         write.table(results, tabname, sep=\"\\t\", quote=F)\n",
    "\n",
    "}\n"
   ]
  },
  {
   "cell_type": "code",
   "execution_count": 48,
   "metadata": {},
   "outputs": [],
   "source": [
    "# for (c in celltypes){\n",
    "#     for ( n in 1:22){\n",
    "#         chrom  = paste0(\"chr\", n)\n",
    "#         outdir = paste( c, folder_name , chrom, sep =\"/\")         \n",
    "#         system(paste0(\"rm -r \", outdir))\n",
    "        \n",
    "#             }\n",
    "#     system(paste0(\"rm -r \", c, \"/\", folder_name))\n",
    "#  }"
   ]
  },
  {
   "cell_type": "markdown",
   "metadata": {},
   "source": [
    "### Calculte empirical q-value from the permutations.\n",
    "see: https://github.com/natsuhiko/rasqual/issues/21"
   ]
  },
  {
   "cell_type": "code",
   "execution_count": 48,
   "metadata": {},
   "outputs": [],
   "source": [
    "# q1 : real lead Q-value vector for all peaks from RASQUAL\n",
    "# q0 : permutated Q-value vector\n",
    "# alpha : FDR threshold\n",
    "# This function returns the P-value threshold corresponding to FDR=alpha.\n",
    "getFDR <-\n",
    "function(q1, q0, alpha=0.1, z=NULL, subset=NULL){\n",
    "\tif(is.null(z)){\n",
    "\t\ta=0\n",
    "\t\tfor(itr in 1:10){\n",
    "\t\t\ta=getFDR(q1,q0,alpha,rev(a+0:100/100^itr),subset)\n",
    "\t\t}\n",
    "\t\ta\n",
    "\t}else{\n",
    "\t\tif(!is.null(subset)){\n",
    "\t\t\tq1=q1[subset]\n",
    "\t\t\tq0=q0[subset]\n",
    "\t\t}\n",
    "\t\tq1=q1[!is.na(q1)]\n",
    "\t\tq0=q0[!is.na(q0)]\n",
    "\t\tx=NULL;\n",
    "\t\tfor(i in z){\n",
    "\t\t\tx=c(x,sum(q0<i)/length(q0)/(sum(q1<i)/length(q1)))\n",
    "\t\t};\n",
    "\t\tmax(c(0,z[x<alpha]),na.rm=T)\n",
    "\t}\n",
    "}\n"
   ]
  },
  {
   "cell_type": "code",
   "execution_count": 49,
   "metadata": {},
   "outputs": [
    {
     "data": {
      "text/html": [
       "<style>\n",
       ".list-inline {list-style: none; margin:0; padding: 0}\n",
       ".list-inline>li {display: inline-block}\n",
       ".list-inline>li:not(:last-child)::after {content: \"\\00b7\"; padding: 0 .5ex}\n",
       "</style>\n",
       "<ol class=list-inline><li>'sub10'</li><li>'sub100'</li><li>'sub1000'</li><li>'sub2000'</li><li>'sub25'</li><li>'sub250'</li><li>'sub50'</li><li>'sub500'</li></ol>\n"
      ],
      "text/latex": [
       "\\begin{enumerate*}\n",
       "\\item 'sub10'\n",
       "\\item 'sub100'\n",
       "\\item 'sub1000'\n",
       "\\item 'sub2000'\n",
       "\\item 'sub25'\n",
       "\\item 'sub250'\n",
       "\\item 'sub50'\n",
       "\\item 'sub500'\n",
       "\\end{enumerate*}\n"
      ],
      "text/markdown": [
       "1. 'sub10'\n",
       "2. 'sub100'\n",
       "3. 'sub1000'\n",
       "4. 'sub2000'\n",
       "5. 'sub25'\n",
       "6. 'sub250'\n",
       "7. 'sub50'\n",
       "8. 'sub500'\n",
       "\n",
       "\n"
      ],
      "text/plain": [
       "[1] \"sub10\"   \"sub100\"  \"sub1000\" \"sub2000\" \"sub25\"   \"sub250\"  \"sub50\"  \n",
       "[8] \"sub500\" "
      ]
     },
     "metadata": {},
     "output_type": "display_data"
    }
   ],
   "source": [
    "celltypes"
   ]
  },
  {
   "cell_type": "code",
   "execution_count": 138,
   "metadata": {},
   "outputs": [],
   "source": [
    "df = data.frame()\n",
    "for (c in celltypes) {\n",
    "results       = read.table(paste0(c, \"/Results_run3_lead_poponly.tsv\"), header=T, stringsAsFactors = F)\n",
    "random        = read.table(paste0(c, \"/Results_run3_lead_poponly_perm1.tsv\"), header=T, stringsAsFactors = F)\n",
    "random2       = read.table(paste0(c, \"/Results_run3_lead_poponly_perm2.tsv\"), header=T, stringsAsFactors = F)\n",
    "results       = results[order(results$P_VAl),]\n",
    "results_lead  = results[!duplicated(results$Feature),]\n",
    "    \n",
    "thresh10      = getFDR(10^(results_lead$Log10_qval), 10^(c(random$Log10_qval,random2$Log10_qval )), 0.1) \n",
    "thresh05       = getFDR(10^(results_lead$Log10_qval), 10^(c(random$Log10_qval,random2$Log10_qval )), 0.05) \n",
    "thresh01       = getFDR(10^(results_lead$Log10_qval), 10^(c(random$Log10_qval,random2$Log10_qval )), 0.01) \n",
    "\n",
    "results_lead$flag_fdr10 = 10^(results_lead$Log10_qval) < thresh10\n",
    "results_lead$flag_fdr05 = 10^(results_lead$Log10_qval) < thresh05\n",
    "results_lead$flag_fdr01 = 10^(results_lead$Log10_qval) < thresh01\n",
    "results_lead$exclude = results_lead$Sequencing_mapping_error_rate>0.1 | results_lead$Ref_allele_bias<0.2 | results_lead$Ref_allele_bias>0.8\n",
    "     \n",
    "    \n",
    "df = rbind(df, c(thresh10, sum(results_lead$flag_fdr10 & results_lead$exclude ==FALSE, na.rm=T) , \n",
    "                   thresh05, sum(results_lead$flag_fdr05 & results_lead$exclude ==FALSE, na.rm=T),\n",
    "                   thresh01, sum(results_lead$flag_fdr01 & results_lead$exclude ==FALSE, na.rm=T), nrow(results_lead)))\n",
    "\n",
    "write.table(results_lead, paste0(c, \"/Results_run3_lead.tsv\"),sep=\"\\t\", quote=F, row.names=F)    \n",
    "\n",
    "}\n",
    "rownames(df) = celltypes\n",
    "colnames(df) = c('pval_fdr10%', 'caQTL_fdr10%', 'pval_fdr05%', 'caQTL_fdr05%','pval_fdr01%', 'caQTL_fdr01%', \"tested_features\")\n"
   ]
  },
  {
   "cell_type": "code",
   "execution_count": 139,
   "metadata": {},
   "outputs": [
    {
     "data": {
      "text/html": [
       "<table class=\"dataframe\">\n",
       "<caption>A data.frame: 8 × 7</caption>\n",
       "<thead>\n",
       "\t<tr><th></th><th scope=col>pval_fdr10%</th><th scope=col>caQTL_fdr10%</th><th scope=col>pval_fdr05%</th><th scope=col>caQTL_fdr05%</th><th scope=col>pval_fdr01%</th><th scope=col>caQTL_fdr01%</th><th scope=col>tested_features</th></tr>\n",
       "\t<tr><th></th><th scope=col>&lt;dbl&gt;</th><th scope=col>&lt;dbl&gt;</th><th scope=col>&lt;dbl&gt;</th><th scope=col>&lt;dbl&gt;</th><th scope=col>&lt;dbl&gt;</th><th scope=col>&lt;dbl&gt;</th><th scope=col>&lt;dbl&gt;</th></tr>\n",
       "</thead>\n",
       "<tbody>\n",
       "\t<tr><th scope=row>sub10</th><td>0.00000000</td><td>  0</td><td>0.000000000</td><td> 0</td><td>0.000000000</td><td> 0</td><td>  1863</td></tr>\n",
       "\t<tr><th scope=row>sub100</th><td>0.04495276</td><td> 13</td><td>0.041390177</td><td>12</td><td>0.028133694</td><td> 7</td><td> 27389</td></tr>\n",
       "\t<tr><th scope=row>sub1000</th><td>0.03854436</td><td>179</td><td>0.002948469</td><td> 3</td><td>0.002948469</td><td> 3</td><td> 91357</td></tr>\n",
       "\t<tr><th scope=row>sub2000</th><td>0.03955140</td><td>323</td><td>0.009556896</td><td>60</td><td>0.003484777</td><td>12</td><td>107388</td></tr>\n",
       "\t<tr><th scope=row>sub25</th><td>0.00000000</td><td>  0</td><td>0.000000000</td><td> 0</td><td>0.000000000</td><td> 0</td><td>  8975</td></tr>\n",
       "\t<tr><th scope=row>sub250</th><td>0.05925347</td><td> 67</td><td>0.000000000</td><td> 0</td><td>0.000000000</td><td> 0</td><td> 49070</td></tr>\n",
       "\t<tr><th scope=row>sub50</th><td>0.00000000</td><td>  0</td><td>0.000000000</td><td> 0</td><td>0.000000000</td><td> 0</td><td> 15921</td></tr>\n",
       "\t<tr><th scope=row>sub500</th><td>0.03620624</td><td> 63</td><td>0.027093418</td><td>38</td><td>0.012445795</td><td>13</td><td> 69523</td></tr>\n",
       "</tbody>\n",
       "</table>\n"
      ],
      "text/latex": [
       "A data.frame: 8 × 7\n",
       "\\begin{tabular}{r|lllllll}\n",
       "  & pval\\_fdr10\\% & caQTL\\_fdr10\\% & pval\\_fdr05\\% & caQTL\\_fdr05\\% & pval\\_fdr01\\% & caQTL\\_fdr01\\% & tested\\_features\\\\\n",
       "  & <dbl> & <dbl> & <dbl> & <dbl> & <dbl> & <dbl> & <dbl>\\\\\n",
       "\\hline\n",
       "\tsub10 & 0.00000000 &   0 & 0.000000000 &  0 & 0.000000000 &  0 &   1863\\\\\n",
       "\tsub100 & 0.04495276 &  13 & 0.041390177 & 12 & 0.028133694 &  7 &  27389\\\\\n",
       "\tsub1000 & 0.03854436 & 179 & 0.002948469 &  3 & 0.002948469 &  3 &  91357\\\\\n",
       "\tsub2000 & 0.03955140 & 323 & 0.009556896 & 60 & 0.003484777 & 12 & 107388\\\\\n",
       "\tsub25 & 0.00000000 &   0 & 0.000000000 &  0 & 0.000000000 &  0 &   8975\\\\\n",
       "\tsub250 & 0.05925347 &  67 & 0.000000000 &  0 & 0.000000000 &  0 &  49070\\\\\n",
       "\tsub50 & 0.00000000 &   0 & 0.000000000 &  0 & 0.000000000 &  0 &  15921\\\\\n",
       "\tsub500 & 0.03620624 &  63 & 0.027093418 & 38 & 0.012445795 & 13 &  69523\\\\\n",
       "\\end{tabular}\n"
      ],
      "text/markdown": [
       "\n",
       "A data.frame: 8 × 7\n",
       "\n",
       "| <!--/--> | pval_fdr10% &lt;dbl&gt; | caQTL_fdr10% &lt;dbl&gt; | pval_fdr05% &lt;dbl&gt; | caQTL_fdr05% &lt;dbl&gt; | pval_fdr01% &lt;dbl&gt; | caQTL_fdr01% &lt;dbl&gt; | tested_features &lt;dbl&gt; |\n",
       "|---|---|---|---|---|---|---|---|\n",
       "| sub10 | 0.00000000 |   0 | 0.000000000 |  0 | 0.000000000 |  0 |   1863 |\n",
       "| sub100 | 0.04495276 |  13 | 0.041390177 | 12 | 0.028133694 |  7 |  27389 |\n",
       "| sub1000 | 0.03854436 | 179 | 0.002948469 |  3 | 0.002948469 |  3 |  91357 |\n",
       "| sub2000 | 0.03955140 | 323 | 0.009556896 | 60 | 0.003484777 | 12 | 107388 |\n",
       "| sub25 | 0.00000000 |   0 | 0.000000000 |  0 | 0.000000000 |  0 |   8975 |\n",
       "| sub250 | 0.05925347 |  67 | 0.000000000 |  0 | 0.000000000 |  0 |  49070 |\n",
       "| sub50 | 0.00000000 |   0 | 0.000000000 |  0 | 0.000000000 |  0 |  15921 |\n",
       "| sub500 | 0.03620624 |  63 | 0.027093418 | 38 | 0.012445795 | 13 |  69523 |\n",
       "\n"
      ],
      "text/plain": [
       "        pval_fdr10% caQTL_fdr10% pval_fdr05% caQTL_fdr05% pval_fdr01%\n",
       "sub10   0.00000000    0          0.000000000  0           0.000000000\n",
       "sub100  0.04495276   13          0.041390177 12           0.028133694\n",
       "sub1000 0.03854436  179          0.002948469  3           0.002948469\n",
       "sub2000 0.03955140  323          0.009556896 60           0.003484777\n",
       "sub25   0.00000000    0          0.000000000  0           0.000000000\n",
       "sub250  0.05925347   67          0.000000000  0           0.000000000\n",
       "sub50   0.00000000    0          0.000000000  0           0.000000000\n",
       "sub500  0.03620624   63          0.027093418 38           0.012445795\n",
       "        caQTL_fdr01% tested_features\n",
       "sub10    0             1863         \n",
       "sub100   7            27389         \n",
       "sub1000  3            91357         \n",
       "sub2000 12           107388         \n",
       "sub25    0             8975         \n",
       "sub250   0            49070         \n",
       "sub50    0            15921         \n",
       "sub500  13            69523         "
      ]
     },
     "metadata": {},
     "output_type": "display_data"
    }
   ],
   "source": [
    "df"
   ]
  },
  {
   "cell_type": "code",
   "execution_count": 61,
   "metadata": {},
   "outputs": [],
   "source": [
    "#plot(as.numeric(substring(celltypes,4)), df[,2])"
   ]
  },
  {
   "cell_type": "code",
   "execution_count": null,
   "metadata": {},
   "outputs": [],
   "source": [
    "long"
   ]
  },
  {
   "cell_type": "code",
   "execution_count": 62,
   "metadata": {},
   "outputs": [],
   "source": [
    "qqplotf = function(pvalues, title){\n",
    "coaccP = sort(-log(pvalues, 10))\n",
    "set.seed(1)\n",
    "uniP = runif(length(coaccP))\n",
    "uniP = sort(-log10(uniP))\n",
    "\n",
    "plot(uniP, coaccP, pch=20, cex=1, xlab=\"Theoretical -Log10(P)\", ylab=\"-Log10(P) caQTLs\", main =title)\n",
    "abline(0,1)\n",
    "chisq <- qchisq(1-pvalues,1)\n",
    "lgc = median(chisq)/qchisq(0.5,1)\n",
    "    \n",
    "    #median(qchisq(p, df=1, lower.tail=FALSE)) / qchisq(0.5, 1)\n",
    "    mtext(paste(\"Lgc=\", round(lgc,2), \"MedianPval=\", round(median(pvalues),3)))  \n",
    "}"
   ]
  },
  {
   "cell_type": "code",
   "execution_count": 65,
   "metadata": {
    "scrolled": false
   },
   "outputs": [
    {
     "data": {
      "image/png": "[encoded data removed]",
      "text/plain": [
       "Plot with title “sub2000”"
      ]
     },
     "metadata": {
      "image/png": {
       "height": 420,
       "width": 720
      }
     },
     "output_type": "display_data"
    }
   ],
   "source": [
    "options(repr.plot.width=12, repr.plot.height=7)\n",
    "par(mfcol=c(2,4))\n",
    "for (c in celltypes[order(as.numeric(substring(celltypes,4)))]) {\n",
    "results_lead       = read.table(paste0(c, \"/Results_run1_lead.tsv\"), header=T, stringsAsFactors = F)\n",
    "random             = read.table(paste0(c, \"/Results_run2_perm1_lead.tsv\"), header=T, stringsAsFactors = F)\n",
    " \n",
    "p1 = sort(-results_lead[,10])\n",
    "p2 = sort(-random[,10])\n",
    "plot(p2, p1, pch=20, cex=1, xlab=\"Permuted Log10(qval)\", ylab=\"Log10(Q) caQTLs\", main=c)\n",
    "abline(0,1)\n",
    "    results_lead$cell =c\n",
    "   #res= rbind(res,results_lead )\n",
    "    \n",
    "   # qqplotf(results_lead$P_VAl, c)\n",
    "    \n",
    "    }"
   ]
  },
  {
   "cell_type": "code",
   "execution_count": 66,
   "metadata": {},
   "outputs": [],
   "source": [
    "res_tot = data.frame()\n",
    "for (c in celltypes) {\n",
    "results_lead       = read.table(paste0(c, \"/Results_run1_lead.tsv\"), header=T, stringsAsFactors = F)\n",
    "    results_lead$cell = c\n",
    "res_tot = rbind(res_tot, results_lead)\n",
    "    }"
   ]
  },
  {
   "cell_type": "code",
   "execution_count": 76,
   "metadata": {},
   "outputs": [],
   "source": [
    "mono = read.table(paste0('/nfs/lab/projects/pbmc_snATAC/analysis_v2/rasqual_eur/fine/cMono', \"/Results_run3_lead.tsv\"), header=T, stringsAsFactors = F)\n",
    "mono$exclude = mono$Sequencing_mapping_error_rate>0.1 | mono$Ref_allele_bias<0.2 | mono$Ref_allele_bias>0.8\n",
    "mono $cell =\"cMono\"\n",
    "res_tot = rbind(res_tot, mono)"
   ]
  },
  {
   "cell_type": "code",
   "execution_count": 80,
   "metadata": {},
   "outputs": [],
   "source": [
    "library(tidyr)"
   ]
  },
  {
   "cell_type": "code",
   "execution_count": 110,
   "metadata": {},
   "outputs": [],
   "source": [
    "res_tot$signif = res_tot$flag_fdr10 & res_tot$exclude==FALSE\n"
   ]
  },
  {
   "cell_type": "code",
   "execution_count": 111,
   "metadata": {},
   "outputs": [],
   "source": [
    "wide = spread(data = res_tot[,c('Feature', 'cell', 'signif')], key=cell, value =signif )"
   ]
  },
  {
   "cell_type": "code",
   "execution_count": 112,
   "metadata": {},
   "outputs": [
    {
     "data": {
      "text/html": [
       "<table class=\"dataframe\">\n",
       "<caption>A data.frame: 6 × 10</caption>\n",
       "<thead>\n",
       "\t<tr><th></th><th scope=col>Feature</th><th scope=col>cMono</th><th scope=col>sub10</th><th scope=col>sub100</th><th scope=col>sub1000</th><th scope=col>sub2000</th><th scope=col>sub25</th><th scope=col>sub250</th><th scope=col>sub50</th><th scope=col>sub500</th></tr>\n",
       "\t<tr><th></th><th scope=col>&lt;chr&gt;</th><th scope=col>&lt;lgl&gt;</th><th scope=col>&lt;lgl&gt;</th><th scope=col>&lt;lgl&gt;</th><th scope=col>&lt;lgl&gt;</th><th scope=col>&lt;lgl&gt;</th><th scope=col>&lt;lgl&gt;</th><th scope=col>&lt;lgl&gt;</th><th scope=col>&lt;lgl&gt;</th><th scope=col>&lt;lgl&gt;</th></tr>\n",
       "</thead>\n",
       "<tbody>\n",
       "\t<tr><th scope=row>1</th><td>chr1:100151120-100151684</td><td>FALSE</td><td>NA</td><td>NA</td><td>FALSE</td><td>FALSE</td><td>NA</td><td>   NA</td><td>NA</td><td>FALSE</td></tr>\n",
       "\t<tr><th scope=row>2</th><td>chr1:100165577-100166150</td><td>FALSE</td><td>NA</td><td>NA</td><td>FALSE</td><td>FALSE</td><td>NA</td><td>FALSE</td><td>NA</td><td>FALSE</td></tr>\n",
       "\t<tr><th scope=row>3</th><td>chr1:100169885-100170157</td><td>FALSE</td><td>NA</td><td>NA</td><td>FALSE</td><td>FALSE</td><td>NA</td><td>   NA</td><td>NA</td><td>   NA</td></tr>\n",
       "\t<tr><th scope=row>4</th><td>chr1:100173116-100173470</td><td>FALSE</td><td>NA</td><td>NA</td><td>FALSE</td><td>FALSE</td><td>NA</td><td>FALSE</td><td>NA</td><td>FALSE</td></tr>\n",
       "\t<tr><th scope=row>5</th><td>chr1:100191587-100191938</td><td>FALSE</td><td>NA</td><td>NA</td><td>   NA</td><td>FALSE</td><td>NA</td><td>   NA</td><td>NA</td><td>   NA</td></tr>\n",
       "\t<tr><th scope=row>6</th><td>chr1:100193227-100193607</td><td>FALSE</td><td>NA</td><td>NA</td><td>   NA</td><td>FALSE</td><td>NA</td><td>   NA</td><td>NA</td><td>   NA</td></tr>\n",
       "</tbody>\n",
       "</table>\n"
      ],
      "text/latex": [
       "A data.frame: 6 × 10\n",
       "\\begin{tabular}{r|llllllllll}\n",
       "  & Feature & cMono & sub10 & sub100 & sub1000 & sub2000 & sub25 & sub250 & sub50 & sub500\\\\\n",
       "  & <chr> & <lgl> & <lgl> & <lgl> & <lgl> & <lgl> & <lgl> & <lgl> & <lgl> & <lgl>\\\\\n",
       "\\hline\n",
       "\t1 & chr1:100151120-100151684 & FALSE & NA & NA & FALSE & FALSE & NA &    NA & NA & FALSE\\\\\n",
       "\t2 & chr1:100165577-100166150 & FALSE & NA & NA & FALSE & FALSE & NA & FALSE & NA & FALSE\\\\\n",
       "\t3 & chr1:100169885-100170157 & FALSE & NA & NA & FALSE & FALSE & NA &    NA & NA &    NA\\\\\n",
       "\t4 & chr1:100173116-100173470 & FALSE & NA & NA & FALSE & FALSE & NA & FALSE & NA & FALSE\\\\\n",
       "\t5 & chr1:100191587-100191938 & FALSE & NA & NA &    NA & FALSE & NA &    NA & NA &    NA\\\\\n",
       "\t6 & chr1:100193227-100193607 & FALSE & NA & NA &    NA & FALSE & NA &    NA & NA &    NA\\\\\n",
       "\\end{tabular}\n"
      ],
      "text/markdown": [
       "\n",
       "A data.frame: 6 × 10\n",
       "\n",
       "| <!--/--> | Feature &lt;chr&gt; | cMono &lt;lgl&gt; | sub10 &lt;lgl&gt; | sub100 &lt;lgl&gt; | sub1000 &lt;lgl&gt; | sub2000 &lt;lgl&gt; | sub25 &lt;lgl&gt; | sub250 &lt;lgl&gt; | sub50 &lt;lgl&gt; | sub500 &lt;lgl&gt; |\n",
       "|---|---|---|---|---|---|---|---|---|---|---|\n",
       "| 1 | chr1:100151120-100151684 | FALSE | NA | NA | FALSE | FALSE | NA |    NA | NA | FALSE |\n",
       "| 2 | chr1:100165577-100166150 | FALSE | NA | NA | FALSE | FALSE | NA | FALSE | NA | FALSE |\n",
       "| 3 | chr1:100169885-100170157 | FALSE | NA | NA | FALSE | FALSE | NA |    NA | NA |    NA |\n",
       "| 4 | chr1:100173116-100173470 | FALSE | NA | NA | FALSE | FALSE | NA | FALSE | NA | FALSE |\n",
       "| 5 | chr1:100191587-100191938 | FALSE | NA | NA |    NA | FALSE | NA |    NA | NA |    NA |\n",
       "| 6 | chr1:100193227-100193607 | FALSE | NA | NA |    NA | FALSE | NA |    NA | NA |    NA |\n",
       "\n"
      ],
      "text/plain": [
       "  Feature                  cMono sub10 sub100 sub1000 sub2000 sub25 sub250\n",
       "1 chr1:100151120-100151684 FALSE NA    NA     FALSE   FALSE   NA       NA \n",
       "2 chr1:100165577-100166150 FALSE NA    NA     FALSE   FALSE   NA    FALSE \n",
       "3 chr1:100169885-100170157 FALSE NA    NA     FALSE   FALSE   NA       NA \n",
       "4 chr1:100173116-100173470 FALSE NA    NA     FALSE   FALSE   NA    FALSE \n",
       "5 chr1:100191587-100191938 FALSE NA    NA        NA   FALSE   NA       NA \n",
       "6 chr1:100193227-100193607 FALSE NA    NA        NA   FALSE   NA       NA \n",
       "  sub50 sub500\n",
       "1 NA    FALSE \n",
       "2 NA    FALSE \n",
       "3 NA       NA \n",
       "4 NA    FALSE \n",
       "5 NA       NA \n",
       "6 NA       NA "
      ]
     },
     "metadata": {},
     "output_type": "display_data"
    }
   ],
   "source": [
    "head(wide)"
   ]
  },
  {
   "cell_type": "code",
   "execution_count": 113,
   "metadata": {},
   "outputs": [],
   "source": [
    "sigM = subset(wide, cMono==TRUE)"
   ]
  },
  {
   "cell_type": "code",
   "execution_count": 114,
   "metadata": {},
   "outputs": [
    {
     "data": {
      "text/html": [
       "2941"
      ],
      "text/latex": [
       "2941"
      ],
      "text/markdown": [
       "2941"
      ],
      "text/plain": [
       "[1] 2941"
      ]
     },
     "metadata": {},
     "output_type": "display_data"
    }
   ],
   "source": [
    "nrow(sigM)"
   ]
  },
  {
   "cell_type": "code",
   "execution_count": 115,
   "metadata": {},
   "outputs": [],
   "source": [
    "pct = setNames(rep(NA,8),celltypes)\n",
    "for (c in celltypes){\n",
    "    \n",
    "    c1 =subset(wide, wide[,c]==TRUE)\n",
    "    pct[c]   <- sum(c1[,\"cMono\"], na.rm=T)/sum( c1[,c])\n",
    "}"
   ]
  },
  {
   "cell_type": "code",
   "execution_count": 116,
   "metadata": {},
   "outputs": [
    {
     "data": {
      "text/html": [
       "<style>\n",
       ".dl-inline {width: auto; margin:0; padding: 0}\n",
       ".dl-inline>dt, .dl-inline>dd {float: none; width: auto; display: inline-block}\n",
       ".dl-inline>dt::after {content: \":\\0020\"; padding-right: .5ex}\n",
       ".dl-inline>dt:not(:first-of-type) {padding-left: .5ex}\n",
       "</style><dl class=dl-inline><dt>sub10</dt><dd>0</dd><dt>sub100</dt><dd>0.815217391304348</dd><dt>sub1000</dt><dd>0.815911730545877</dd><dt>sub2000</dt><dd>0.83668430335097</dd><dt>sub25</dt><dd>1</dd><dt>sub250</dt><dd>0.855</dd><dt>sub50</dt><dd>0.625</dd><dt>sub500</dt><dd>0.824509803921569</dd></dl>\n"
      ],
      "text/latex": [
       "\\begin{description*}\n",
       "\\item[sub10] 0\n",
       "\\item[sub100] 0.815217391304348\n",
       "\\item[sub1000] 0.815911730545877\n",
       "\\item[sub2000] 0.83668430335097\n",
       "\\item[sub25] 1\n",
       "\\item[sub250] 0.855\n",
       "\\item[sub50] 0.625\n",
       "\\item[sub500] 0.824509803921569\n",
       "\\end{description*}\n"
      ],
      "text/markdown": [
       "sub10\n",
       ":   0sub100\n",
       ":   0.815217391304348sub1000\n",
       ":   0.815911730545877sub2000\n",
       ":   0.83668430335097sub25\n",
       ":   1sub250\n",
       ":   0.855sub50\n",
       ":   0.625sub500\n",
       ":   0.824509803921569\n",
       "\n"
      ],
      "text/plain": [
       "    sub10    sub100   sub1000   sub2000     sub25    sub250     sub50    sub500 \n",
       "0.0000000 0.8152174 0.8159117 0.8366843 1.0000000 0.8550000 0.6250000 0.8245098 "
      ]
     },
     "metadata": {},
     "output_type": "display_data"
    }
   ],
   "source": [
    "pct"
   ]
  },
  {
   "cell_type": "code",
   "execution_count": 95,
   "metadata": {},
   "outputs": [],
   "source": [
    "#res_tot$signif5 = res_tot$flag_fdr05 & res_tot$exclude==FALSE\n"
   ]
  },
  {
   "cell_type": "code",
   "execution_count": 101,
   "metadata": {},
   "outputs": [],
   "source": [
    "#wide5 = spread(data = res_tot[,c('Feature', 'cell', 'signif5')], key=cell, value =signif5 )"
   ]
  },
  {
   "cell_type": "code",
   "execution_count": 102,
   "metadata": {},
   "outputs": [],
   "source": [
    "# pct = setNames(rep(NA,8),celltypes)\n",
    "# for (c in celltypes){\n",
    "    \n",
    "#     c1 =subset(wide5, wide5[,c]==TRUE)\n",
    "#     pct[c]   <- sum(c1[,\"cMono\"], na.rm=T)/sum( c1[,c])\n",
    "# }"
   ]
  },
  {
   "cell_type": "code",
   "execution_count": 103,
   "metadata": {},
   "outputs": [
    {
     "data": {
      "text/html": [
       "<style>\n",
       ".dl-inline {width: auto; margin:0; padding: 0}\n",
       ".dl-inline>dt, .dl-inline>dd {float: none; width: auto; display: inline-block}\n",
       ".dl-inline>dt::after {content: \":\\0020\"; padding-right: .5ex}\n",
       ".dl-inline>dt:not(:first-of-type) {padding-left: .5ex}\n",
       "</style><dl class=dl-inline><dt>sub10</dt><dd>0</dd><dt>sub100</dt><dd>0.770491803278688</dd><dt>sub1000</dt><dd>0.793072014585232</dd><dt>sub2000</dt><dd>0.804905239687848</dd><dt>sub25</dt><dd>0.5</dd><dt>sub250</dt><dd>0.873563218390805</dd><dt>sub50</dt><dd>0.714285714285714</dd><dt>sub500</dt><dd>0.839622641509434</dd></dl>\n"
      ],
      "text/latex": [
       "\\begin{description*}\n",
       "\\item[sub10] 0\n",
       "\\item[sub100] 0.770491803278688\n",
       "\\item[sub1000] 0.793072014585232\n",
       "\\item[sub2000] 0.804905239687848\n",
       "\\item[sub25] 0.5\n",
       "\\item[sub250] 0.873563218390805\n",
       "\\item[sub50] 0.714285714285714\n",
       "\\item[sub500] 0.839622641509434\n",
       "\\end{description*}\n"
      ],
      "text/markdown": [
       "sub10\n",
       ":   0sub100\n",
       ":   0.770491803278688sub1000\n",
       ":   0.793072014585232sub2000\n",
       ":   0.804905239687848sub25\n",
       ":   0.5sub250\n",
       ":   0.873563218390805sub50\n",
       ":   0.714285714285714sub500\n",
       ":   0.839622641509434\n",
       "\n"
      ],
      "text/plain": [
       "    sub10    sub100   sub1000   sub2000     sub25    sub250     sub50    sub500 \n",
       "0.0000000 0.7704918 0.7930720 0.8049052 0.5000000 0.8735632 0.7142857 0.8396226 "
      ]
     },
     "metadata": {},
     "output_type": "display_data"
    }
   ],
   "source": [
    "pct"
   ]
  },
  {
   "cell_type": "code",
   "execution_count": 117,
   "metadata": {},
   "outputs": [],
   "source": [
    "df$no_cells = as.numeric(substring(celltypes,4))\n",
    "df$recall = pct"
   ]
  },
  {
   "cell_type": "code",
   "execution_count": 119,
   "metadata": {},
   "outputs": [],
   "source": [
    "df = df[order(df$no_cells),]"
   ]
  },
  {
   "cell_type": "code",
   "execution_count": null,
   "metadata": {},
   "outputs": [],
   "source": []
  }
 ],
 "metadata": {
  "kernelspec": {
   "display_name": "R 4.1",
   "language": "R",
   "name": "ir41"
  },
  "language_info": {
   "codemirror_mode": "r",
   "file_extension": ".r",
   "mimetype": "text/x-r-source",
   "name": "R",
   "pygments_lexer": "r",
   "version": "4.1.1"
  }
 },
 "nbformat": 4,
 "nbformat_minor": 2
}
