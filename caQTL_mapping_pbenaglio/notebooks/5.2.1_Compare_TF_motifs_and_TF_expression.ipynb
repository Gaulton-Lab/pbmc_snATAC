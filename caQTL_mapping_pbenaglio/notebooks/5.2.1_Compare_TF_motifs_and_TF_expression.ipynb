{
 "cells": [
  {
   "cell_type": "code",
   "execution_count": 15,
   "id": "77035052",
   "metadata": {},
   "outputs": [],
   "source": [
    "library(stringr)\n",
    "library('pheatmap')\n",
    "library('RColorBrewer')\n",
    "\n",
    "setwd('/nfs/lab/projects/pbmc_snATAC/analysis_v2/motifbreak_enrichment')\n",
    "nms =read.table(\"scrna_gene_ranks/clusters_rank_genes_names.txt\", header=T, row.names=1, sep=\"\\t\")\n",
    "geneinfo = read.table('/nfs/lab/publicdata/gencode_v19/gene_info.tsv', header=T)\n",
    "\n",
    "dict = setNames(object = geneinfo$gene_name, nm = str_split_fixed(geneinfo$gene_id, \"\\\\.\",2)[,1])\n",
    "genetab = apply(nms,2,function(x) dict[x])\n",
    "\n",
    "lfc  = read.table(\"scrna_gene_ranks/clusters_rank_genes_logfoldchanges.txt\", header=T, sep=\"\\t\")\n",
    "pv   = read.table(\"scrna_gene_ranks/clusters_rank_genes_pvals.txt\", header=T, sep=\"\\t\")\n",
    "padj = read.table(\"scrna_gene_ranks/clusters_rank_genes_pvals_adj.txt\", header=T, sep=\"\\t\")\n",
    "\n",
    "colnames(genetab)[2]<-\"t\"\n",
    "colnames(padj)[2]<-\"t\"\n",
    "colnames(lfc)[2]<-\"t\"\n",
    "\n",
    "tfs=rev(readLines(\"tf_list_plot\"))\n",
    "\n",
    "rankMat = matrix(NA, ncol = 4, nrow = length(tfs))\n",
    "colnames(rankMat) = c( 'b',  'mono', 'nk', 't')\n",
    "rownames(rankMat) = tfs\n",
    "rankMat2 = rankMat\n",
    "ft = list()\n",
    "cellspec = list()\n",
    "for( cellt in c( 'b',  'mono', 'nk', 't')){\n",
    "\n",
    "bino =read.csv(sprintf(\"summary_tables/%s.binotest_motifs.csv\",cellt))\n",
    "bino = merge (bino, data.frame(X= genetab[,cellt], padj_gene= padj[,cellt], logFC = lfc[,cellt]), by=\"X\", all.x=T)\n",
    "bino=bino[order(bino$fdr),]\n",
    "write.csv(bino,sprintf(\"summary_tables/%s.compare_rna.csv\",cellt), row.names=F)\n",
    "ft[[cellt]]<-fisher.test(table(bino$fdr<0.05, bino$padj_gene<0.05& bino$logFC>0))[c('p.value','estimate' )]\n",
    "binos = subset(bino, fdr<0.05)\n",
    "df = data.frame(motif = rank(binos$fdr), gene=rank(-binos$logFC) )\n",
    "df$gene[binos$padj_gene >0.05 & binos$logFC <0 ]<-NA\n",
    "rownames(df)= binos$X\n",
    "\n",
    "\n",
    "pheatmap(df, cluster_rows = F, cluster_cols = F,cellwidth = 10, cellheight = 10,\n",
    "         file=paste0(cellt, \".compare_gene_exp.pdf\"),\n",
    "         col=rev(colorRampPalette( brewer.pal(9, \"YlGnBu\") )(26)))\n",
    "  \n",
    "    \n",
    "    rankMat[,cellt] =  bino$padj_gene[match(tfs, bino$X )] \n",
    "    rankMat2[,cellt] =  bino$logFC[match(tfs, bino$X )] \n",
    "    \n",
    "    cellspec [[cellt]]<-subset(binos, padj_gene<0.05 & logFC>1)$X\n",
    "    \n",
    "    }"
   ]
  },
  {
   "cell_type": "code",
   "execution_count": 2,
   "id": "211c6c4f",
   "metadata": {},
   "outputs": [
    {
     "data": {
      "text/html": [
       "<dl>\n",
       "\t<dt>$b</dt>\n",
       "\t\t<dd><dl>\n",
       "\t<dt>$p.value</dt>\n",
       "\t\t<dd>0.255430559951349</dd>\n",
       "\t<dt>$estimate</dt>\n",
       "\t\t<dd><strong>odds ratio:</strong> 2.28546467219348</dd>\n",
       "</dl>\n",
       "</dd>\n",
       "\t<dt>$mono</dt>\n",
       "\t\t<dd><dl>\n",
       "\t<dt>$p.value</dt>\n",
       "\t\t<dd>4.56546682868937e-05</dd>\n",
       "\t<dt>$estimate</dt>\n",
       "\t\t<dd><strong>odds ratio:</strong> 2.83924795514353</dd>\n",
       "</dl>\n",
       "</dd>\n",
       "\t<dt>$nk</dt>\n",
       "\t\t<dd><dl>\n",
       "\t<dt>$p.value</dt>\n",
       "\t\t<dd>0.0120933486228123</dd>\n",
       "\t<dt>$estimate</dt>\n",
       "\t\t<dd><strong>odds ratio:</strong> 4.63717543823667</dd>\n",
       "</dl>\n",
       "</dd>\n",
       "\t<dt>$t</dt>\n",
       "\t\t<dd><dl>\n",
       "\t<dt>$p.value</dt>\n",
       "\t\t<dd>0.450856061279591</dd>\n",
       "\t<dt>$estimate</dt>\n",
       "\t\t<dd><strong>odds ratio:</strong> 0.522889508733997</dd>\n",
       "</dl>\n",
       "</dd>\n",
       "</dl>\n"
      ],
      "text/latex": [
       "\\begin{description}\n",
       "\\item[\\$b] \\begin{description}\n",
       "\\item[\\$p.value] 0.255430559951349\n",
       "\\item[\\$estimate] \\textbf{odds ratio:} 2.28546467219348\n",
       "\\end{description}\n",
       "\n",
       "\\item[\\$mono] \\begin{description}\n",
       "\\item[\\$p.value] 4.56546682868937e-05\n",
       "\\item[\\$estimate] \\textbf{odds ratio:} 2.83924795514353\n",
       "\\end{description}\n",
       "\n",
       "\\item[\\$nk] \\begin{description}\n",
       "\\item[\\$p.value] 0.0120933486228123\n",
       "\\item[\\$estimate] \\textbf{odds ratio:} 4.63717543823667\n",
       "\\end{description}\n",
       "\n",
       "\\item[\\$t] \\begin{description}\n",
       "\\item[\\$p.value] 0.450856061279591\n",
       "\\item[\\$estimate] \\textbf{odds ratio:} 0.522889508733997\n",
       "\\end{description}\n",
       "\n",
       "\\end{description}\n"
      ],
      "text/markdown": [
       "$b\n",
       ":   $p.value\n",
       ":   0.255430559951349\n",
       "$estimate\n",
       ":   **odds ratio:** 2.28546467219348\n",
       "\n",
       "\n",
       "\n",
       "$mono\n",
       ":   $p.value\n",
       ":   4.56546682868937e-05\n",
       "$estimate\n",
       ":   **odds ratio:** 2.83924795514353\n",
       "\n",
       "\n",
       "\n",
       "$nk\n",
       ":   $p.value\n",
       ":   0.0120933486228123\n",
       "$estimate\n",
       ":   **odds ratio:** 4.63717543823667\n",
       "\n",
       "\n",
       "\n",
       "$t\n",
       ":   $p.value\n",
       ":   0.450856061279591\n",
       "$estimate\n",
       ":   **odds ratio:** 0.522889508733997\n",
       "\n",
       "\n",
       "\n",
       "\n",
       "\n"
      ],
      "text/plain": [
       "$b\n",
       "$b$p.value\n",
       "[1] 0.2554306\n",
       "\n",
       "$b$estimate\n",
       "odds ratio \n",
       "  2.285465 \n",
       "\n",
       "\n",
       "$mono\n",
       "$mono$p.value\n",
       "[1] 4.565467e-05\n",
       "\n",
       "$mono$estimate\n",
       "odds ratio \n",
       "  2.839248 \n",
       "\n",
       "\n",
       "$nk\n",
       "$nk$p.value\n",
       "[1] 0.01209335\n",
       "\n",
       "$nk$estimate\n",
       "odds ratio \n",
       "  4.637175 \n",
       "\n",
       "\n",
       "$t\n",
       "$t$p.value\n",
       "[1] 0.4508561\n",
       "\n",
       "$t$estimate\n",
       "odds ratio \n",
       " 0.5228895 \n",
       "\n"
      ]
     },
     "metadata": {},
     "output_type": "display_data"
    }
   ],
   "source": [
    "ft"
   ]
  },
  {
   "cell_type": "code",
   "execution_count": 3,
   "id": "9b4b3d00",
   "metadata": {},
   "outputs": [
    {
     "data": {
      "text/html": [
       "<dl>\n",
       "\t<dt>$b</dt>\n",
       "\t\t<dd>'SPIB, IRF4'</dd>\n",
       "\t<dt>$mono</dt>\n",
       "\t\t<dd>'ETV6, SPI1, ETV7, FLI1, JUND, GABPA, CEBPA, FOS, ETS2, CEBPB, CEBPD, FOSB, FOSL1, FOSL2, CEBPG, IRF1, STAT2, NFE2, IRF2, MAFG, IRF8, ETV5, ELK3, CREB5, IRF5, ATF7, CEBPE, STAT1, JDP2, BACH1, MAFK, USF1'</dd>\n",
       "\t<dt>$nk</dt>\n",
       "\t\t<dd>'RUNX3, TBX21'</dd>\n",
       "\t<dt>$t</dt>\n",
       "\t\t<dd>'ETS1, RUNX2, RUNX3'</dd>\n",
       "</dl>\n"
      ],
      "text/latex": [
       "\\begin{description}\n",
       "\\item[\\$b] 'SPIB, IRF4'\n",
       "\\item[\\$mono] 'ETV6, SPI1, ETV7, FLI1, JUND, GABPA, CEBPA, FOS, ETS2, CEBPB, CEBPD, FOSB, FOSL1, FOSL2, CEBPG, IRF1, STAT2, NFE2, IRF2, MAFG, IRF8, ETV5, ELK3, CREB5, IRF5, ATF7, CEBPE, STAT1, JDP2, BACH1, MAFK, USF1'\n",
       "\\item[\\$nk] 'RUNX3, TBX21'\n",
       "\\item[\\$t] 'ETS1, RUNX2, RUNX3'\n",
       "\\end{description}\n"
      ],
      "text/markdown": [
       "$b\n",
       ":   'SPIB, IRF4'\n",
       "$mono\n",
       ":   'ETV6, SPI1, ETV7, FLI1, JUND, GABPA, CEBPA, FOS, ETS2, CEBPB, CEBPD, FOSB, FOSL1, FOSL2, CEBPG, IRF1, STAT2, NFE2, IRF2, MAFG, IRF8, ETV5, ELK3, CREB5, IRF5, ATF7, CEBPE, STAT1, JDP2, BACH1, MAFK, USF1'\n",
       "$nk\n",
       ":   'RUNX3, TBX21'\n",
       "$t\n",
       ":   'ETS1, RUNX2, RUNX3'\n",
       "\n",
       "\n"
      ],
      "text/plain": [
       "$b\n",
       "[1] \"SPIB, IRF4\"\n",
       "\n",
       "$mono\n",
       "[1] \"ETV6, SPI1, ETV7, FLI1, JUND, GABPA, CEBPA, FOS, ETS2, CEBPB, CEBPD, FOSB, FOSL1, FOSL2, CEBPG, IRF1, STAT2, NFE2, IRF2, MAFG, IRF8, ETV5, ELK3, CREB5, IRF5, ATF7, CEBPE, STAT1, JDP2, BACH1, MAFK, USF1\"\n",
       "\n",
       "$nk\n",
       "[1] \"RUNX3, TBX21\"\n",
       "\n",
       "$t\n",
       "[1] \"ETS1, RUNX2, RUNX3\"\n"
      ]
     },
     "metadata": {},
     "output_type": "display_data"
    }
   ],
   "source": [
    "lapply(cellspec, paste, collapse=\", \")"
   ]
  },
  {
   "cell_type": "code",
   "execution_count": 4,
   "id": "11a4afa8",
   "metadata": {},
   "outputs": [],
   "source": [
    "foldchangeranks = apply(rankMat2,2,function(x) rank(-x))"
   ]
  },
  {
   "cell_type": "code",
   "execution_count": 5,
   "id": "a698c60a",
   "metadata": {},
   "outputs": [],
   "source": [
    "foldchangeranks[rankMat>0.1]<-NA"
   ]
  },
  {
   "cell_type": "code",
   "execution_count": 6,
   "id": "7cb84be0",
   "metadata": {},
   "outputs": [
    {
     "data": {
      "image/png": "[encoded data removed]",
      "text/plain": [
       "plot without title"
      ]
     },
     "metadata": {
      "image/png": {
       "height": 420,
       "width": 420
      }
     },
     "output_type": "display_data"
    }
   ],
   "source": [
    "pheatmap (foldchangeranks,cluster_rows = F, cluster_cols = F,cellwidth = 10, cellheight = 10,\n",
    "          gaps_row = c(10,20,30),\n",
    "#file =\"../figures/pheatmap_motifs_manual.pdf\",\n",
    "          col=rev(colorRampPalette( brewer.pal(9, \"YlGnBu\") )(40)))"
   ]
  },
  {
   "cell_type": "code",
   "execution_count": 13,
   "id": "90a6a8a7",
   "metadata": {},
   "outputs": [],
   "source": [
    "bindo=bino[,]\n",
    "for( cellt in c( 'b',  'mono', 'nk', 't')){\n",
    "bino =read.csv(sprintf(\"summary_tables/%s.compare_rna.csv\",cellt))\n",
    "bindo = cbind( bindo, bino)\n",
    "    }"
   ]
  },
  {
   "cell_type": "code",
   "execution_count": 14,
   "id": "ca07fc8f",
   "metadata": {},
   "outputs": [],
   "source": [
    "write.csv(bindo[,-(1:9)], \"all_tab.csv\")"
   ]
  },
  {
   "cell_type": "code",
   "execution_count": 6,
   "id": "43673303",
   "metadata": {},
   "outputs": [
    {
     "data": {
      "text/html": [
       "'/nfs/lab/projects/pbmc_snATAC/analysis_v2/motifbreak_enrichment'"
      ],
      "text/latex": [
       "'/nfs/lab/projects/pbmc\\_snATAC/analysis\\_v2/motifbreak\\_enrichment'"
      ],
      "text/markdown": [
       "'/nfs/lab/projects/pbmc_snATAC/analysis_v2/motifbreak_enrichment'"
      ],
      "text/plain": [
       "[1] \"/nfs/lab/projects/pbmc_snATAC/analysis_v2/motifbreak_enrichment\""
      ]
     },
     "metadata": {},
     "output_type": "display_data"
    }
   ],
   "source": [
    "getwd()"
   ]
  },
  {
   "cell_type": "code",
   "execution_count": null,
   "id": "87ba20be",
   "metadata": {},
   "outputs": [],
   "source": []
  }
 ],
 "metadata": {
  "kernelspec": {
   "display_name": "R 4.1",
   "language": "R",
   "name": "ir41"
  },
  "language_info": {
   "codemirror_mode": "r",
   "file_extension": ".r",
   "mimetype": "text/x-r-source",
   "name": "R",
   "pygments_lexer": "r",
   "version": "4.1.1"
  }
 },
 "nbformat": 4,
 "nbformat_minor": 5
}
