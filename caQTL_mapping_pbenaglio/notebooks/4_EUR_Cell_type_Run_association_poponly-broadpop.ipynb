{
 "cells": [
  {
   "cell_type": "code",
   "execution_count": 1,
   "metadata": {},
   "outputs": [],
   "source": [
    "suppressPackageStartupMessages(library(dplyr))\n",
    "suppressPackageStartupMessages(library(rasqualTools))\n",
    "suppressPackageStartupMessages(library(stringr))\n",
    "suppressPackageStartupMessages(library(parallel))"
   ]
  },
  {
   "cell_type": "code",
   "execution_count": 2,
   "metadata": {},
   "outputs": [],
   "source": [
    "coln = c('Feature','rsID','Chromosome','position','Ref' ,'Alt' ,'Af','HWEChi_square' ,'IA','Log10_qval','Chi_square',\n",
    "        'Effect_size','Sequencing_mapping_error_rate','Ref_allele_bias' ,'Overdispersion','SNPid_within_region',\n",
    "        'No_fSNPs','No_tested_SNPs','No_iterations_for_H0','No_iterations_for_H1',\"ties\",'Log_likelihood_H0',\n",
    "        'Convergence_status','r2_fSNPs','r2_rSNP')"
   ]
  },
  {
   "cell_type": "code",
   "execution_count": 3,
   "metadata": {},
   "outputs": [],
   "source": [
    "rasqual_caQTL = function(x, snp_counts, counts, offsets, covariates,  vcf=vcf_file, outdir, outlogdir,\n",
    "                         nsamples=10, lead=TRUE, permut=FALSE) \n",
    "{\n",
    "region  = paste0(snp_counts$chromosome_name[x], \":\",snp_counts$range_start[x] ,\"-\",snp_counts$range_end[x])\n",
    "outfile = paste0(outdir, \"/\",  snp_counts$gene_id[x])   \n",
    "outlog    = paste0(outlogdir,\"/\",  snp_counts$gene_id[x], \".log\")\n",
    "    \n",
    "system(paste(\"tabix\",  vcf, region, \"| $RASQUALDIR/bin/rasqual\", \n",
    "'-y', counts,\n",
    "'-k', offsets,\n",
    "'-x', covariates,\n",
    "\"-n\", nsamples,             \n",
    "'-j', indexes[x] ,\n",
    "'-l', snp_counts$cis_snp_count[x] ,\n",
    "'-m', snp_counts$feature_snp_count[x] , \n",
    "'-s', snp_counts$exon_starts[x],\n",
    "'-e', snp_counts$exon_ends[x] , \n",
    "'-f', snp_counts$gene_id[x],\n",
    " c(\"\",\"-t\" )  [(lead==TRUE) +1]   ,\n",
    " c(\"\",\"-r\" )  [(permut==TRUE) +1]   ,\n",
    "#'--min-coverage-depth 6',\n",
    " '--population-only',\n",
    "'>', outfile, \"2>\", outlog))\n",
    "    \n",
    "}"
   ]
  },
  {
   "cell_type": "code",
   "execution_count": 15,
   "metadata": {},
   "outputs": [],
   "source": [
    "###### set parmetes here ######\n",
    "maindir     = '/nfs/lab/projects/pbmc_snATAC/analysis_v2/rasqual_eur/broad/'\n",
    "celltypes   = list.files(maindir)[!grepl(\".txt\", list.files(maindir))]\n",
    "P           =  TRUE ## permutation?  ## not necessary with the new vcf files\n",
    "folder_name = 'pop1_perm2_lead'\n",
    "L           =  TRUE ## report only lead?\n",
    "nsamples    = 10\n",
    "####################################\n",
    "\n",
    "setwd(maindir)"
   ]
  },
  {
   "cell_type": "code",
   "execution_count": 16,
   "metadata": {},
   "outputs": [],
   "source": [
    "celltypes = c('b', 'mono', 'nk', 't')"
   ]
  },
  {
   "cell_type": "code",
   "execution_count": 17,
   "metadata": {},
   "outputs": [
    {
     "name": "stdout",
     "output_type": "stream",
     "text": [
      "b \n",
      "0 \n",
      "mono \n",
      "0 \n",
      "nk \n",
      "0 \n",
      "t \n",
      "0 \n"
     ]
    }
   ],
   "source": [
    "for (c in celltypes){\n",
    "\n",
    "cat (c, \"\\n\")\n",
    "counts      = paste0( c, \"/counts.\",c, \".bin\" )\n",
    "offsets     = paste0( c, \"/size_factors.\",c, \".bin\" )\n",
    "#covariates  = paste0( c, \"/covariates.\",c, \".bin\" )\n",
    "covariates  = paste0( c, \"/covariates2.\",c, \".bin\" )\n",
    "\n",
    "inp = read.table(paste0( c, \"/counts.\",c, \".txt\" ), row.names=1)\n",
    "cm  = read.table(paste0( c,\"/\",c, \".count_matrix\" ), header=T, stringsAsFactors = F)\n",
    "\n",
    "peak_data = cm[,c(1,2,5,3,4)]\n",
    "peak_data$Strand = as.integer(1)\n",
    "colnames(peak_data) =  c('gene_id','chr','strand','exon_starts','exon_ends')\n",
    "peak_data$exon_starts = as.character(peak_data$exon_starts)\n",
    "peak_data$exon_ends = as.character(peak_data$exon_ends)\n",
    "\n",
    "vcf_dir = paste0(c, '/vcfs_peaksonly/' )\n",
    "    \n",
    "system(paste0(\"bcftools query -f '%CHROM\\\\t%POS\\\\t%ID\\\\n' \", \n",
    "              vcf_dir,  \"full.ase.filtered.vcf.gz > \",  vcf_dir, 'full.ase.filtered.snps'))\n",
    "   \n",
    "snps2           = read.table(paste0(vcf_dir, \"full.ase.filtered.snps\"))\n",
    "colnames(snps2) = c('chr','pos','snp_id')\n",
    "    \n",
    "snp_counts2 = countSnpsOverlapingExons(peak_data, snps2, cis_window = 10000)\n",
    "snp_counts2 = subset(snp_counts2, feature_snp_count>0 |  cis_snp_count> 0)\n",
    "snp_counts_sub = subset(snp_counts2, gene_id %in% rownames(inp))\n",
    "\n",
    "indexes =  match ( snp_counts_sub$gene_id,rownames(inp))\n",
    "\n",
    "cat(sum(rownames(inp[indexes,])!= snp_counts_sub$gene_id), \"\\n\")\n",
    "\n",
    "sp = split(snp_counts_sub, snp_counts_sub$chromosome_name)\n",
    "\n",
    "for ( n in 1:22){\n",
    "\n",
    "chrom  = paste0(\"chr\", n)\n",
    "outdir = paste( c, folder_name , chrom, sep =\"/\")\n",
    "system(paste('mkdir -p', outdir))\n",
    "outlogdir = paste0(outdir, \"/logs\")\n",
    "system(paste(\"mkdir\",outlogdir ))\n",
    "    \n",
    "snp_counts_use = sp[[chrom]]\n",
    "indexes        =  match ( snp_counts_use$gene_id,rownames(inp))\n",
    "\n",
    "vcf_file = paste0(vcf_dir,  'full.ase.filtered.vcf.gz' )\n",
    "    \n",
    "\n",
    "mclapply(1:nrow(snp_counts_use), function(x) rasqual_caQTL(x, snp_counts_use, counts, offsets, covariates, \n",
    "                                                           nsamples=nsamples, \n",
    "                                                           vcf=vcf_file, outdir=outdir, outlogdir=outlogdir ,\n",
    "                                                           lead=L, permut=P) , mc.cores = 40 )\n",
    "         }\n",
    "    \n",
    "    }"
   ]
  },
  {
   "cell_type": "code",
   "execution_count": 18,
   "metadata": {},
   "outputs": [],
   "source": [
    "for (c in celltypes){\n",
    "    logdir = paste0( c, \"/\",folder_name , \"_logs\")\n",
    "    dir.create(logdir)\n",
    "for ( n in 1:22){\n",
    "        chrom  = paste0(\"chr\", n)\n",
    "        outdir = paste( c, folder_name , chrom, \"logs\",sep =\"/\")\n",
    "        files = na.omit(list.files(outdir)[sapply(paste(outdir, list.files(outdir),sep=\"/\"), file.size) >0])\n",
    " if(length(files)>0) {      \n",
    "    error_files= paste(outdir, files, sep=\"/\")\n",
    "     for (err in error_files){\n",
    "     system(paste(\"mv\", err, logdir))\n",
    "    }\n",
    "     }\n",
    "    system(paste(\"rm -r\",outdir ))\n",
    "    \n",
    "            }\n",
    "    \n",
    "    }"
   ]
  },
  {
   "cell_type": "code",
   "execution_count": null,
   "metadata": {},
   "outputs": [
    {
     "name": "stdout",
     "output_type": "stream",
     "text": [
      "b \n",
      "mono \n",
      "nk \n",
      "t \n"
     ]
    }
   ],
   "source": [
    "compile_results = function(n,folder_name,outdir ){\n",
    "  \t    chrom  = paste0(\"chr\", n)\n",
    "        outdir = paste( c, folder_name , chrom, sep =\"/\")\n",
    "        system(paste0(\"cat \", outdir,  \"/* > \", c , \"/\", folder_name,\".results_chr\", n))\n",
    "    }\n",
    "\n",
    "\n",
    "for (c in celltypes){\n",
    "    cat (c, \"\\n\")\n",
    "    tabname = paste0(c, \"/Results_\", folder_name, \".tsv\")\n",
    "    \n",
    "        \n",
    " mclapply (1:22, function(x) compile_results(n=x,folder_name=folder_name,outdir=outdir))\n",
    "         \n",
    "        system(paste0(\"cat \", c , \"/\", folder_name,\".results_chr* > \", tabname))\n",
    "        system(paste0(\"rm \", c , \"/\", folder_name,\".results_chr*\"))\n",
    "         results           = read.table(tabname, fill=T)\n",
    "         colnames(results) = coln\n",
    "         results           = subset(results,results$rsID !=\"SKIPPED\")\n",
    "         results$P_VAl     = pchisq(results[,11], 1, lower=F)\n",
    "         write.table(results, tabname, sep=\"\\t\", quote=F)\n",
    "\n",
    "}\n"
   ]
  },
  {
   "cell_type": "code",
   "execution_count": 20,
   "metadata": {},
   "outputs": [
    {
     "data": {
      "text/html": [
       "'t'"
      ],
      "text/latex": [
       "'t'"
      ],
      "text/markdown": [
       "'t'"
      ],
      "text/plain": [
       "[1] \"t\""
      ]
     },
     "metadata": {},
     "output_type": "display_data"
    }
   ],
   "source": [
    "c"
   ]
  },
  {
   "cell_type": "code",
   "execution_count": 48,
   "metadata": {},
   "outputs": [],
   "source": [
    "# for (c in celltypes){\n",
    "#     for ( n in 1:22){\n",
    "#         chrom  = paste0(\"chr\", n)\n",
    "#         outdir = paste( c, folder_name , chrom, sep =\"/\")         \n",
    "#         system(paste0(\"rm -r \", outdir))\n",
    "        \n",
    "#             }\n",
    "#     system(paste0(\"rm -r \", c, \"/\", folder_name))\n",
    "#  }"
   ]
  },
  {
   "cell_type": "markdown",
   "metadata": {},
   "source": [
    "### Calculte empirical q-value from the permutations.\n",
    "see: https://github.com/natsuhiko/rasqual/issues/21"
   ]
  },
  {
   "cell_type": "code",
   "execution_count": 21,
   "metadata": {},
   "outputs": [],
   "source": [
    "# q1 : real lead Q-value vector for all peaks from RASQUAL\n",
    "# q0 : permutated Q-value vector\n",
    "# alpha : FDR threshold\n",
    "# This function returns the P-value threshold corresponding to FDR=alpha.\n",
    "getFDR <-\n",
    "function(q1, q0, alpha=0.1, z=NULL, subset=NULL){\n",
    "\tif(is.null(z)){\n",
    "\t\ta=0\n",
    "\t\tfor(itr in 1:10){\n",
    "\t\t\ta=getFDR(q1,q0,alpha,rev(a+0:100/100^itr),subset)\n",
    "\t\t}\n",
    "\t\ta\n",
    "\t}else{\n",
    "\t\tif(!is.null(subset)){\n",
    "\t\t\tq1=q1[subset]\n",
    "\t\t\tq0=q0[subset]\n",
    "\t\t}\n",
    "\t\tq1=q1[!is.na(q1)]\n",
    "\t\tq0=q0[!is.na(q0)]\n",
    "\t\tx=NULL;\n",
    "\t\tfor(i in z){\n",
    "\t\t\tx=c(x,sum(q0<i)/length(q0)/(sum(q1<i)/length(q1)))\n",
    "\t\t};\n",
    "\t\tmax(c(0,z[x<alpha]),na.rm=T)\n",
    "\t}\n",
    "}\n"
   ]
  },
  {
   "cell_type": "code",
   "execution_count": 22,
   "metadata": {},
   "outputs": [
    {
     "data": {
      "text/html": [
       "<style>\n",
       ".list-inline {list-style: none; margin:0; padding: 0}\n",
       ".list-inline>li {display: inline-block}\n",
       ".list-inline>li:not(:last-child)::after {content: \"\\00b7\"; padding: 0 .5ex}\n",
       "</style>\n",
       "<ol class=list-inline><li>'b'</li><li>'mono'</li><li>'nk'</li><li>'t'</li></ol>\n"
      ],
      "text/latex": [
       "\\begin{enumerate*}\n",
       "\\item 'b'\n",
       "\\item 'mono'\n",
       "\\item 'nk'\n",
       "\\item 't'\n",
       "\\end{enumerate*}\n"
      ],
      "text/markdown": [
       "1. 'b'\n",
       "2. 'mono'\n",
       "3. 'nk'\n",
       "4. 't'\n",
       "\n",
       "\n"
      ],
      "text/plain": [
       "[1] \"b\"    \"mono\" \"nk\"   \"t\"   "
      ]
     },
     "metadata": {},
     "output_type": "display_data"
    }
   ],
   "source": [
    "celltypes"
   ]
  },
  {
   "cell_type": "code",
   "execution_count": 23,
   "metadata": {},
   "outputs": [],
   "source": [
    "df = data.frame()\n",
    "for (c in celltypes) {\n",
    "results       = read.table(paste0(c, \"/Results_pop1_all.tsv\"), header=T, stringsAsFactors = F)\n",
    "random        = read.table(paste0(c, \"/Results_pop1_perm1_lead.tsv\"), header=T, stringsAsFactors = F)\n",
    "random2       = read.table(paste0(c, \"/Results_pop1_perm2_lead.tsv\"), header=T, stringsAsFactors = F)\n",
    "results       = results[order(results$P_VAl),]\n",
    "results_lead  = results[!duplicated(results$Feature),]\n",
    "    \n",
    "thresh10      = getFDR(10^(results_lead$Log10_qval), 10^(c(random$Log10_qval,random2$Log10_qval )), 0.1) \n",
    "thresh05       = getFDR(10^(results_lead$Log10_qval), 10^(c(random$Log10_qval,random2$Log10_qval )), 0.05) \n",
    "thresh01       = getFDR(10^(results_lead$Log10_qval), 10^(c(random$Log10_qval,random2$Log10_qval )), 0.01) \n",
    "\n",
    "results_lead$flag_fdr10 = 10^(results_lead$Log10_qval) < thresh10\n",
    "results_lead$flag_fdr05 = 10^(results_lead$Log10_qval) < thresh05\n",
    "results_lead$flag_fdr01 = 10^(results_lead$Log10_qval) < thresh01\n",
    "df = rbind(df, c(thresh10, sum(results_lead$flag_fdr10, na.rm=T) , \n",
    "                   thresh05, sum(results_lead$flag_fdr05, na.rm=T),\n",
    "                   thresh01, sum(results_lead$flag_fdr01, na.rm=T)))\n",
    "\n",
    "write.table(results_lead, paste0(c, \"/Results_pop1_lead.tsv\"),sep=\"\\t\", quote=F, row.names=F)    \n",
    "\n",
    "}\n",
    "rownames(df) = celltypes\n",
    "colnames(df) = c('pval_fdr10%', 'caQTL_fdr10%', 'pval_fdr05%', 'caQTL_fdr05%','pval_fdr01%', 'caQTL_fdr01%')"
   ]
  },
  {
   "cell_type": "code",
   "execution_count": 24,
   "metadata": {},
   "outputs": [
    {
     "data": {
      "text/html": [
       "<table class=\"dataframe\">\n",
       "<caption>A data.frame: 4 × 6</caption>\n",
       "<thead>\n",
       "\t<tr><th></th><th scope=col>pval_fdr10%</th><th scope=col>caQTL_fdr10%</th><th scope=col>pval_fdr05%</th><th scope=col>caQTL_fdr05%</th><th scope=col>pval_fdr01%</th><th scope=col>caQTL_fdr01%</th></tr>\n",
       "\t<tr><th></th><th scope=col>&lt;dbl&gt;</th><th scope=col>&lt;dbl&gt;</th><th scope=col>&lt;dbl&gt;</th><th scope=col>&lt;dbl&gt;</th><th scope=col>&lt;dbl&gt;</th><th scope=col>&lt;dbl&gt;</th></tr>\n",
       "</thead>\n",
       "<tbody>\n",
       "\t<tr><th scope=row>b</th><td>0.04530466</td><td>110</td><td>0.007913403</td><td>  8</td><td>0.007913403</td><td> 8</td></tr>\n",
       "\t<tr><th scope=row>mono</th><td>0.05061130</td><td>404</td><td>0.023053811</td><td>147</td><td>0.006436870</td><td>19</td></tr>\n",
       "\t<tr><th scope=row>nk</th><td>0.01363976</td><td> 17</td><td>0.009861591</td><td> 11</td><td>0.005301452</td><td> 2</td></tr>\n",
       "\t<tr><th scope=row>t</th><td>0.01207348</td><td> 52</td><td>0.008923991</td><td> 33</td><td>0.002886449</td><td> 5</td></tr>\n",
       "</tbody>\n",
       "</table>\n"
      ],
      "text/latex": [
       "A data.frame: 4 × 6\n",
       "\\begin{tabular}{r|llllll}\n",
       "  & pval\\_fdr10\\% & caQTL\\_fdr10\\% & pval\\_fdr05\\% & caQTL\\_fdr05\\% & pval\\_fdr01\\% & caQTL\\_fdr01\\%\\\\\n",
       "  & <dbl> & <dbl> & <dbl> & <dbl> & <dbl> & <dbl>\\\\\n",
       "\\hline\n",
       "\tb & 0.04530466 & 110 & 0.007913403 &   8 & 0.007913403 &  8\\\\\n",
       "\tmono & 0.05061130 & 404 & 0.023053811 & 147 & 0.006436870 & 19\\\\\n",
       "\tnk & 0.01363976 &  17 & 0.009861591 &  11 & 0.005301452 &  2\\\\\n",
       "\tt & 0.01207348 &  52 & 0.008923991 &  33 & 0.002886449 &  5\\\\\n",
       "\\end{tabular}\n"
      ],
      "text/markdown": [
       "\n",
       "A data.frame: 4 × 6\n",
       "\n",
       "| <!--/--> | pval_fdr10% &lt;dbl&gt; | caQTL_fdr10% &lt;dbl&gt; | pval_fdr05% &lt;dbl&gt; | caQTL_fdr05% &lt;dbl&gt; | pval_fdr01% &lt;dbl&gt; | caQTL_fdr01% &lt;dbl&gt; |\n",
       "|---|---|---|---|---|---|---|\n",
       "| b | 0.04530466 | 110 | 0.007913403 |   8 | 0.007913403 |  8 |\n",
       "| mono | 0.05061130 | 404 | 0.023053811 | 147 | 0.006436870 | 19 |\n",
       "| nk | 0.01363976 |  17 | 0.009861591 |  11 | 0.005301452 |  2 |\n",
       "| t | 0.01207348 |  52 | 0.008923991 |  33 | 0.002886449 |  5 |\n",
       "\n"
      ],
      "text/plain": [
       "     pval_fdr10% caQTL_fdr10% pval_fdr05% caQTL_fdr05% pval_fdr01% caQTL_fdr01%\n",
       "b    0.04530466  110          0.007913403   8          0.007913403  8          \n",
       "mono 0.05061130  404          0.023053811 147          0.006436870 19          \n",
       "nk   0.01363976   17          0.009861591  11          0.005301452  2          \n",
       "t    0.01207348   52          0.008923991  33          0.002886449  5          "
      ]
     },
     "metadata": {},
     "output_type": "display_data"
    }
   ],
   "source": [
    "df"
   ]
  },
  {
   "cell_type": "code",
   "execution_count": 119,
   "metadata": {},
   "outputs": [],
   "source": [
    "#write.table(df, \"Summary_run3.txt\", quote=F)"
   ]
  },
  {
   "cell_type": "code",
   "execution_count": 69,
   "metadata": {},
   "outputs": [
    {
     "data": {
      "text/html": [
       "0"
      ],
      "text/latex": [
       "0"
      ],
      "text/markdown": [
       "0"
      ],
      "text/plain": [
       "[1] 0"
      ]
     },
     "metadata": {},
     "output_type": "display_data"
    }
   ],
   "source": [
    "sum(results_lead$No_fSNPs)"
   ]
  },
  {
   "cell_type": "code",
   "execution_count": null,
   "metadata": {},
   "outputs": [],
   "source": []
  }
 ],
 "metadata": {
  "kernelspec": {
   "display_name": "R 4.1",
   "language": "R",
   "name": "ir41"
  },
  "language_info": {
   "codemirror_mode": "r",
   "file_extension": ".r",
   "mimetype": "text/x-r-source",
   "name": "R",
   "pygments_lexer": "r",
   "version": "4.1.1"
  }
 },
 "nbformat": 4,
 "nbformat_minor": 2
}
