{
 "cells": [
  {
   "cell_type": "code",
   "execution_count": 1,
   "id": "incorrect-worst",
   "metadata": {},
   "outputs": [],
   "source": [
    "library(scales)\n",
    "library(stringr)\n",
    "library(RColorBrewer)"
   ]
  },
  {
   "cell_type": "markdown",
   "id": "thick-clock",
   "metadata": {},
   "source": [
    "### LCLs caQTLs from rasqual paper"
   ]
  },
  {
   "cell_type": "code",
   "execution_count": 2,
   "id": "municipal-reliance",
   "metadata": {},
   "outputs": [],
   "source": [
    "caqt = read.table(\"/nfs/lab/projects/pbmc_snATAC/data/publicdata/rasqual_paper/rasqual_atac_1M\")"
   ]
  },
  {
   "cell_type": "code",
   "execution_count": 3,
   "id": "painted-raise",
   "metadata": {},
   "outputs": [],
   "source": [
    "colnames(caqt) = c('Feature','rsID','Chromosome','position','Ref' ,'Alt' ,'Af','HWEChi_square' ,'IA','Log10_qval','Chi_square',\n",
    "        'Effect_size','Sequencing_mapping_error_rate','Ref_allele_bias' ,'Overdispersion','SNPid_within_region',\n",
    "        'No_fSNPs','No_tested_SNPs','No_iterations_for_H0','No_iterations_for_H1',\"ties\",'Log_likelihood_H0',\n",
    "        'Convergence_status','r2_fSNPs','r2_rSNP')"
   ]
  },
  {
   "cell_type": "code",
   "execution_count": 4,
   "id": "announced-andorra",
   "metadata": {},
   "outputs": [],
   "source": [
    "caqt$P_VAl = pchisq(caqt[,11], 1, lower=F)\n",
    "\n",
    "caqt$id = paste0(\"chr\" ,caqt$Chromosome,\":\", caqt$position,\":\", caqt$Ref,\":\", caqt$Alt)\n",
    "caq = readLines(\"/nfs/lab/projects/pbmc_snATAC/data/publicdata/rasqual_paper/pid.fdr10.txt\")\n",
    "caqt$fdr_10 = caqt$Feature %in% caq"
   ]
  },
  {
   "cell_type": "code",
   "execution_count": 5,
   "id": "contrary-reasoning",
   "metadata": {},
   "outputs": [],
   "source": [
    "celltypes = c('bulk', 'mono', 't', 'nk', 'b')"
   ]
  },
  {
   "cell_type": "code",
   "execution_count": 6,
   "id": "known-caution",
   "metadata": {},
   "outputs": [],
   "source": [
    "dir = '/nfs/lab/projects/pbmc_snATAC/analysis_v2/compare_lcls/'"
   ]
  },
  {
   "cell_type": "code",
   "execution_count": 7,
   "id": "comparable-giving",
   "metadata": {},
   "outputs": [],
   "source": [
    "summarydir = '/nfs/lab/projects/pbmc_snATAC/analysis_v2/summarized_caqtls/run3/'"
   ]
  },
  {
   "cell_type": "code",
   "execution_count": 8,
   "id": "appreciated-fluid",
   "metadata": {},
   "outputs": [],
   "source": [
    "longf = read.table(paste0(summarydir, \"EUR_caqtl_leads_run3.tsv\"), header=T)"
   ]
  },
  {
   "cell_type": "code",
   "execution_count": 9,
   "id": "fitted-nightmare",
   "metadata": {},
   "outputs": [
    {
     "data": {
      "text/html": [
       "<strong>png:</strong> 2"
      ],
      "text/latex": [
       "\\textbf{png:} 2"
      ],
      "text/markdown": [
       "**png:** 2"
      ],
      "text/plain": [
       "png \n",
       "  2 "
      ]
     },
     "metadata": {},
     "output_type": "display_data"
    }
   ],
   "source": [
    "fimatall=data.frame()\n",
    "#options(repr.plot.width=11, repr.plot.height=6)\n",
    "pdf(\"/nfs/lab/projects/pbmc_snATAC/analysis_v2/figures/compare_lcl.pdf\")\n",
    "par(mfrow=c(3,3), mar=c(2,4,4,2))\n",
    "\n",
    "for (c in celltypes) {\n",
    "\n",
    "tabname       = paste0(summarydir ,c, \"_caqtl_sumstats_run3.tsv\")\n",
    "res_all       = read.table(tabname, header=T, stringsAsFactors = F)\n",
    "res           = subset(longf, cell==c )\n",
    "res_all$flag_fdr10 = res_all$Feature %in% res$Feature[res$flag_fdr10==TRUE & res$exclude==FALSE]\n",
    "out           = paste0(dir,  c, \"_intersected.bed\") \n",
    "\n",
    "# res$chrom = as.numeric(substring(res$Chromosome, 4))\n",
    "# coo = str_split_fixed(res$Feature, \"\\\\:\",2)[,2]\n",
    "# coo = str_split_fixed(coo, \"\\\\-\",2)\n",
    "# a   = paste0(dir, c, \"_tested_peaks.bed\")\n",
    "# write.table(cbind(res$chrom, coo),a , sep=\"\\t\", quote=F, col.names=F, row.names=F)\n",
    "# b   = '/nfs/lab/projects/pbmc_snATAC/data/publicdata/rasqual_paper/peaks.bed'\n",
    "#    system(paste(\"bedtools intersect -a\", a, '-b' , b,  \"-wo >\", out))\n",
    "                \n",
    "\n",
    "inter      = read.table(out)\n",
    "inter$peak = paste0(\"chr\", inter[,1], \":\", inter[,2], \"-\", inter[,3])\n",
    "res_int    = merge( res_all, inter[,c('V7', \"peak\")], by.x=1, by.y=2)\n",
    "res_int$paperqtl = res_int$V7 %in% caq\n",
    "res_int_uni = subset(res_int, !duplicated(res_int$Feature))\n",
    "\n",
    "fimat = unlist(c(fisher.test(table(res_int_uni$flag_fdr10, res_int_uni$paperqtl))[c(1,3)],\n",
    "          table(res_int_uni$flag_fdr10, res_int_uni$paperqtl)))\n",
    "              \n",
    "fimatall = rbind(fimatall, fimat)\n",
    "     \n",
    "\n",
    "mm1 = merge(res_int[,c('varID', 'V7', 'flag_fdr10','Effect_size' , \"P_value\")],\n",
    "               caqt[,c(\"id\", 'Feature', 'fdr_10', 'Effect_size')], by=1:2)\n",
    "\n",
    "mm1$cat1 = apply(mm1, 1, function(x) paste0(as.numeric(x['fdr_10']==T), as.numeric(x['flag_fdr10']==T)))\n",
    "mm1 = mm1[order(mm1$P_value),]\n",
    "mm1 = subset(mm1, !duplicated(mm1$V7))\n",
    "\n",
    "mms = subset(mm1, cat1!=\"00\")\n",
    "disc = sum((mms$Effect_size.x>0.5 & mms$Effect_size.y<0.5) | (mms$Effect_size.x<0.5 & mms$Effect_size.y>0.5))\n",
    "conc = round(1- (disc /nrow(mms)),2)*100\n",
    "#col3 = alpha(c( \"red\",\"purple\",\"black\"), 0.7)\n",
    "#col3 = alpha(c( \"red\",rainbow(25)[16],\"black\"), 0.7)\n",
    "#col3 = alpha(c( brewer.pal(9, \"Purples\")[8],'gray',\"black\"), 0.7)\n",
    "\n",
    "col3 = alpha(c(  \"darkorchid4\",'gray60',\"black\"), 0.7)\n",
    "plot(mms$Effect_size.x, mms$Effect_size.y, pch=19, cex = 0.7, col = col3[as.numeric(as.factor(mms$cat1))],\n",
    "     ylab = \"LCLs caQTL effect\", xlab= paste(c, \"snATAC-caQTLs effect\"))\n",
    " rect(0,0,0.5,0.5, col = alpha ('gray', 0.2))\n",
    " rect(0.5,0.5,1,1, col = alpha ('gray', 0.2))\n",
    "mtext(paste0( \" \",conc, \"% concord.\"), line=-1.5, adj=0, cex=0.7)\n",
    "mtext(paste0(nrow(mms), \" caQTLs/ \", nrow(mm1), \" total sites\"), line=2, cex=0.7)\n",
    "legend('bottom', pch = 19, col=col3, legend = paste( c(c,\"LCLs\", \"both\" ), table(mms$cat1), sep=\"=\"),\n",
    "       text.width = 0.18, cex=1.3,\n",
    "       inset=c(0,1), xpd=T, horiz=TRUE, bty=\"n\")\n",
    "                 \n",
    "                 \n",
    "\n",
    "\n",
    "}\n",
    "dev.off()"
   ]
  },
  {
   "cell_type": "code",
   "execution_count": 10,
   "id": "fantastic-backing",
   "metadata": {},
   "outputs": [],
   "source": [
    "rownames(fimatall) = celltypes\n",
    "colnames(fimatall) = c(\"pv\", \"or\", 1:4)"
   ]
  },
  {
   "cell_type": "code",
   "execution_count": 11,
   "id": "developing-diagram",
   "metadata": {},
   "outputs": [
    {
     "data": {
      "text/html": [
       "<table class=\"dataframe\">\n",
       "<caption>A data.frame: 5 × 6</caption>\n",
       "<thead>\n",
       "\t<tr><th></th><th scope=col>pv</th><th scope=col>or</th><th scope=col>1</th><th scope=col>2</th><th scope=col>3</th><th scope=col>4</th></tr>\n",
       "\t<tr><th></th><th scope=col>&lt;dbl&gt;</th><th scope=col>&lt;dbl&gt;</th><th scope=col>&lt;dbl&gt;</th><th scope=col>&lt;dbl&gt;</th><th scope=col>&lt;dbl&gt;</th><th scope=col>&lt;dbl&gt;</th></tr>\n",
       "</thead>\n",
       "<tbody>\n",
       "\t<tr><th scope=row>bulk</th><td> 0.000000e+00</td><td>15.71482</td><td>62552</td><td>1401</td><td>1537</td><td>541</td></tr>\n",
       "\t<tr><th scope=row>mono</th><td>1.525503e-189</td><td>12.99160</td><td>48259</td><td> 976</td><td>1153</td><td>303</td></tr>\n",
       "\t<tr><th scope=row>t</th><td>2.001525e-229</td><td>16.12184</td><td>45333</td><td> 889</td><td>1050</td><td>332</td></tr>\n",
       "\t<tr><th scope=row>nk</th><td>2.927821e-110</td><td>16.72270</td><td>32048</td><td> 360</td><td> 809</td><td>152</td></tr>\n",
       "\t<tr><th scope=row>b</th><td>2.024295e-206</td><td>28.48255</td><td>34370</td><td> 307</td><td> 927</td><td>236</td></tr>\n",
       "</tbody>\n",
       "</table>\n"
      ],
      "text/latex": [
       "A data.frame: 5 × 6\n",
       "\\begin{tabular}{r|llllll}\n",
       "  & pv & or & 1 & 2 & 3 & 4\\\\\n",
       "  & <dbl> & <dbl> & <dbl> & <dbl> & <dbl> & <dbl>\\\\\n",
       "\\hline\n",
       "\tbulk &  0.000000e+00 & 15.71482 & 62552 & 1401 & 1537 & 541\\\\\n",
       "\tmono & 1.525503e-189 & 12.99160 & 48259 &  976 & 1153 & 303\\\\\n",
       "\tt & 2.001525e-229 & 16.12184 & 45333 &  889 & 1050 & 332\\\\\n",
       "\tnk & 2.927821e-110 & 16.72270 & 32048 &  360 &  809 & 152\\\\\n",
       "\tb & 2.024295e-206 & 28.48255 & 34370 &  307 &  927 & 236\\\\\n",
       "\\end{tabular}\n"
      ],
      "text/markdown": [
       "\n",
       "A data.frame: 5 × 6\n",
       "\n",
       "| <!--/--> | pv &lt;dbl&gt; | or &lt;dbl&gt; | 1 &lt;dbl&gt; | 2 &lt;dbl&gt; | 3 &lt;dbl&gt; | 4 &lt;dbl&gt; |\n",
       "|---|---|---|---|---|---|---|\n",
       "| bulk |  0.000000e+00 | 15.71482 | 62552 | 1401 | 1537 | 541 |\n",
       "| mono | 1.525503e-189 | 12.99160 | 48259 |  976 | 1153 | 303 |\n",
       "| t | 2.001525e-229 | 16.12184 | 45333 |  889 | 1050 | 332 |\n",
       "| nk | 2.927821e-110 | 16.72270 | 32048 |  360 |  809 | 152 |\n",
       "| b | 2.024295e-206 | 28.48255 | 34370 |  307 |  927 | 236 |\n",
       "\n"
      ],
      "text/plain": [
       "     pv            or       1     2    3    4  \n",
       "bulk  0.000000e+00 15.71482 62552 1401 1537 541\n",
       "mono 1.525503e-189 12.99160 48259  976 1153 303\n",
       "t    2.001525e-229 16.12184 45333  889 1050 332\n",
       "nk   2.927821e-110 16.72270 32048  360  809 152\n",
       "b    2.024295e-206 28.48255 34370  307  927 236"
      ]
     },
     "metadata": {},
     "output_type": "display_data"
    }
   ],
   "source": [
    "fimatall"
   ]
  },
  {
   "cell_type": "code",
   "execution_count": 12,
   "id": "4471a6c6",
   "metadata": {},
   "outputs": [
    {
     "data": {
      "text/html": [
       "0.278578784757981"
      ],
      "text/latex": [
       "0.278578784757981"
      ],
      "text/markdown": [
       "0.278578784757981"
      ],
      "text/plain": [
       "[1] 0.2785788"
      ]
     },
     "metadata": {},
     "output_type": "display_data"
    }
   ],
   "source": [
    "541/ (541+1401)"
   ]
  },
  {
   "cell_type": "code",
   "execution_count": 21,
   "id": "fc5460a9",
   "metadata": {},
   "outputs": [
    {
     "data": {
      "text/html": [
       "1942"
      ],
      "text/latex": [
       "1942"
      ],
      "text/markdown": [
       "1942"
      ],
      "text/plain": [
       "[1] 1942"
      ]
     },
     "metadata": {},
     "output_type": "display_data"
    }
   ],
   "source": [
    "541+1401"
   ]
  },
  {
   "cell_type": "code",
   "execution_count": 11,
   "id": "2d53f19f",
   "metadata": {},
   "outputs": [
    {
     "data": {
      "text/html": [
       "0.272916666666667"
      ],
      "text/latex": [
       "0.272916666666667"
      ],
      "text/markdown": [
       "0.272916666666667"
      ],
      "text/plain": [
       "[1] 0.2729167"
      ]
     },
     "metadata": {},
     "output_type": "display_data"
    }
   ],
   "source": [
    "524/ 1920"
   ]
  },
  {
   "cell_type": "markdown",
   "id": "figured-resolution",
   "metadata": {},
   "source": [
    "### Compare Bluebprint"
   ]
  },
  {
   "cell_type": "code",
   "execution_count": 13,
   "id": "novel-palestinian",
   "metadata": {},
   "outputs": [],
   "source": [
    "setwd('/nfs/lab/projects/pbmc_snATAC/data/publicdata/blueprint_qtls/')"
   ]
  },
  {
   "cell_type": "code",
   "execution_count": 14,
   "id": "early-advice",
   "metadata": {},
   "outputs": [],
   "source": [
    "cc = c('varID', 'snpId', 'phenotypeID', 'p.value', 'beta', 'Bonfe.p', 'FDR', 'alt.AF')\n",
    "\n",
    "h3k_mono = read.table('mono.H3K27ac_peak_WASP_CHT_all_Jun28.sub.txt')\n",
    "\n",
    "gene_mono = read.table('mono.gene_WASP_CHT_all_Jun28.sub.txt')\n",
    "\n",
    "h3k_tcel = read.table('tcel.H3K27ac_peak_WASP_CHT_all_Jun28.sub.txt')\n",
    "\n",
    "gene_tcel = read.table('tcel.gene_WASP_CHT_all_Jun28.sub.txt')\n",
    "\n",
    "li = list (h3k_mono,gene_mono,h3k_tcel,gene_tcel)"
   ]
  },
  {
   "cell_type": "code",
   "execution_count": 15,
   "id": "sunrise-appearance",
   "metadata": {},
   "outputs": [],
   "source": [
    "celltypes_macro = c('mono', 't')"
   ]
  },
  {
   "cell_type": "code",
   "execution_count": 16,
   "id": "purple-malta",
   "metadata": {},
   "outputs": [],
   "source": [
    "PC = OR = PV = matrix(NA, ncol = 4, nrow = 2)\n",
    "\n",
    "for (b in 1:4){\n",
    "bpr = li[[b]]\n",
    "colnames(bpr) = cc\n",
    "bpr$varID = paste0(\"chr\",gsub(\"_\", \":\", bpr$varID))\n",
    "\n",
    "for( c in 1:2) {\n",
    "cl =  celltypes_macro[c]\n",
    "sub = subset(longf, cell ==cl)\n",
    "sub = subset(sub, varID %in% bpr$varID)\n",
    "sub$test1 = sub$varID %in% bpr$varID[bpr$FDR<0.1]  ## their threshold was 5%\n",
    "pct = sum(sub$test1)/nrow(sub)\n",
    "\n",
    "m = merge(bpr,sub, by.y=\"varID\", by.x=\"varID\" )\n",
    "tb = table(m$flag_fdr10 & m$exclude==FALSE, m$FDR<0.1)\n",
    "\n",
    "PC[c,b] = pct\n",
    "OR[c,b] = fisher.test(tb)$estimate\n",
    "PV[c,b] = fisher.test(tb)$p.value\n",
    "    }\n",
    "    }"
   ]
  },
  {
   "cell_type": "code",
   "execution_count": 17,
   "id": "driven-strengthening",
   "metadata": {},
   "outputs": [],
   "source": [
    "rownames(PC) = rownames(OR) = rownames(PV) = celltypes_macro\n",
    "colnames(PC) = colnames(OR) = colnames(PV) = c('H3K27ac.mono','eQTL.mono','H3K27ac.tcel','eQTL.tcel')"
   ]
  },
  {
   "cell_type": "code",
   "execution_count": 18,
   "id": "unlikely-fusion",
   "metadata": {},
   "outputs": [
    {
     "data": {
      "text/html": [
       "<table class=\"dataframe\">\n",
       "<caption>A matrix: 2 × 4 of type dbl</caption>\n",
       "<thead>\n",
       "\t<tr><th></th><th scope=col>H3K27ac.mono</th><th scope=col>eQTL.mono</th><th scope=col>H3K27ac.tcel</th><th scope=col>eQTL.tcel</th></tr>\n",
       "</thead>\n",
       "<tbody>\n",
       "\t<tr><th scope=row>mono</th><td>2.262146</td><td>1.243598</td><td>1.542288</td><td>1.150429</td></tr>\n",
       "\t<tr><th scope=row>t</th><td>1.649647</td><td>1.194598</td><td>3.094242</td><td>1.374615</td></tr>\n",
       "</tbody>\n",
       "</table>\n"
      ],
      "text/latex": [
       "A matrix: 2 × 4 of type dbl\n",
       "\\begin{tabular}{r|llll}\n",
       "  & H3K27ac.mono & eQTL.mono & H3K27ac.tcel & eQTL.tcel\\\\\n",
       "\\hline\n",
       "\tmono & 2.262146 & 1.243598 & 1.542288 & 1.150429\\\\\n",
       "\tt & 1.649647 & 1.194598 & 3.094242 & 1.374615\\\\\n",
       "\\end{tabular}\n"
      ],
      "text/markdown": [
       "\n",
       "A matrix: 2 × 4 of type dbl\n",
       "\n",
       "| <!--/--> | H3K27ac.mono | eQTL.mono | H3K27ac.tcel | eQTL.tcel |\n",
       "|---|---|---|---|---|\n",
       "| mono | 2.262146 | 1.243598 | 1.542288 | 1.150429 |\n",
       "| t | 1.649647 | 1.194598 | 3.094242 | 1.374615 |\n",
       "\n"
      ],
      "text/plain": [
       "     H3K27ac.mono eQTL.mono H3K27ac.tcel eQTL.tcel\n",
       "mono 2.262146     1.243598  1.542288     1.150429 \n",
       "t    1.649647     1.194598  3.094242     1.374615 "
      ]
     },
     "metadata": {},
     "output_type": "display_data"
    }
   ],
   "source": [
    "OR"
   ]
  },
  {
   "cell_type": "code",
   "execution_count": 19,
   "id": "arctic-controversy",
   "metadata": {},
   "outputs": [
    {
     "data": {
      "text/html": [
       "<table class=\"dataframe\">\n",
       "<caption>A matrix: 2 × 4 of type dbl</caption>\n",
       "<thead>\n",
       "\t<tr><th></th><th scope=col>H3K27ac.mono</th><th scope=col>eQTL.mono</th><th scope=col>H3K27ac.tcel</th><th scope=col>eQTL.tcel</th></tr>\n",
       "</thead>\n",
       "<tbody>\n",
       "\t<tr><th scope=row>mono</th><td>1.891995e-119</td><td>1.565590e-20</td><td> 4.372042e-15</td><td>7.479878e-08</td></tr>\n",
       "\t<tr><th scope=row>t</th><td> 2.130746e-22</td><td>9.343541e-10</td><td>5.998643e-117</td><td>6.118169e-28</td></tr>\n",
       "</tbody>\n",
       "</table>\n"
      ],
      "text/latex": [
       "A matrix: 2 × 4 of type dbl\n",
       "\\begin{tabular}{r|llll}\n",
       "  & H3K27ac.mono & eQTL.mono & H3K27ac.tcel & eQTL.tcel\\\\\n",
       "\\hline\n",
       "\tmono & 1.891995e-119 & 1.565590e-20 &  4.372042e-15 & 7.479878e-08\\\\\n",
       "\tt &  2.130746e-22 & 9.343541e-10 & 5.998643e-117 & 6.118169e-28\\\\\n",
       "\\end{tabular}\n"
      ],
      "text/markdown": [
       "\n",
       "A matrix: 2 × 4 of type dbl\n",
       "\n",
       "| <!--/--> | H3K27ac.mono | eQTL.mono | H3K27ac.tcel | eQTL.tcel |\n",
       "|---|---|---|---|---|\n",
       "| mono | 1.891995e-119 | 1.565590e-20 |  4.372042e-15 | 7.479878e-08 |\n",
       "| t |  2.130746e-22 | 9.343541e-10 | 5.998643e-117 | 6.118169e-28 |\n",
       "\n"
      ],
      "text/plain": [
       "     H3K27ac.mono  eQTL.mono    H3K27ac.tcel  eQTL.tcel   \n",
       "mono 1.891995e-119 1.565590e-20  4.372042e-15 7.479878e-08\n",
       "t     2.130746e-22 9.343541e-10 5.998643e-117 6.118169e-28"
      ]
     },
     "metadata": {},
     "output_type": "display_data"
    }
   ],
   "source": [
    "PV"
   ]
  },
  {
   "cell_type": "code",
   "execution_count": 20,
   "id": "placed-exhaust",
   "metadata": {},
   "outputs": [
    {
     "data": {
      "text/html": [
       "<strong>png:</strong> 2"
      ],
      "text/latex": [
       "\\textbf{png:} 2"
      ],
      "text/markdown": [
       "**png:** 2"
      ],
      "text/plain": [
       "png \n",
       "  2 "
      ]
     },
     "metadata": {},
     "output_type": "display_data"
    }
   ],
   "source": [
    "pdf(\"/nfs/lab/projects/pbmc_snATAC/analysis_v2/figures/Compare_with_Blueprint.pdf\")\n",
    "par(xpd = TRUE)\n",
    "#layout(matrix(c(1,1,3,2,2,4,5,5,5), ncol=3, byrow=T))\n",
    "par(mfcol=c(2,2))\n",
    "\n",
    "nms =  celltypes_macro\n",
    "rownames(PC) = NULL\n",
    "\n",
    "par(pin=c(0.8,1))\n",
    "\n",
    "bp<-barplot(t(OR[,c(1,3)]), beside=T,  col = c('gray', \"black\"),\n",
    "            ylab=\"Odds ratio\", space = c(0.1,0.4), ylim=c(0,3), las=1)\n",
    "bp<-barplot(t(OR[,c(2,4)]), beside=T,  col = c('gray', \"black\"),\n",
    "            ylab=\"Odds ratio\", space = c(0.1,0.4), ylim=c(0,1.5), las=1)\n",
    "dev.off()"
   ]
  },
  {
   "cell_type": "code",
   "execution_count": null,
   "id": "worth-characteristic",
   "metadata": {},
   "outputs": [],
   "source": []
  }
 ],
 "metadata": {
  "kernelspec": {
   "display_name": "R 4.1",
   "language": "R",
   "name": "ir41"
  },
  "language_info": {
   "codemirror_mode": "r",
   "file_extension": ".r",
   "mimetype": "text/x-r-source",
   "name": "R",
   "pygments_lexer": "r",
   "version": "4.1.1"
  }
 },
 "nbformat": 4,
 "nbformat_minor": 5
}
