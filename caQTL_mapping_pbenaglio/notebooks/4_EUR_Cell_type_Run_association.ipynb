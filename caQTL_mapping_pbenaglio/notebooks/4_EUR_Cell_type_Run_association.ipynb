{
 "cells": [
  {
   "cell_type": "code",
   "execution_count": 1,
   "metadata": {},
   "outputs": [],
   "source": [
    "suppressPackageStartupMessages(library(dplyr))\n",
    "suppressPackageStartupMessages(library(rasqualTools))\n",
    "suppressPackageStartupMessages(library(stringr))\n",
    "suppressPackageStartupMessages(library(parallel))"
   ]
  },
  {
   "cell_type": "code",
   "execution_count": 2,
   "metadata": {},
   "outputs": [],
   "source": [
    "coln = c('Feature','rsID','Chromosome','position','Ref' ,'Alt' ,'Af','HWEChi_square' ,'IA','Log10_qval','Chi_square',\n",
    "        'Effect_size','Sequencing_mapping_error_rate','Ref_allele_bias' ,'Overdispersion','SNPid_within_region',\n",
    "        'No_fSNPs','No_tested_SNPs','No_iterations_for_H0','No_iterations_for_H1',\"ties\",'Log_likelihood_H0',\n",
    "        'Convergence_status','r2_fSNPs','r2_rSNP')"
   ]
  },
  {
   "cell_type": "code",
   "execution_count": 67,
   "metadata": {},
   "outputs": [],
   "source": [
    "rasqual_caQTL = function(x, snp_counts, counts, offsets, covariates,  vcf=vcf_file, outdir, outlogdir,\n",
    "                         nsamples=10, lead=TRUE, permut=FALSE) \n",
    "{\n",
    "region  = paste0(snp_counts$chromosome_name[x], \":\",snp_counts$range_start[x] ,\"-\",snp_counts$range_end[x])\n",
    "outfile = paste0(outdir, \"/\",  snp_counts$gene_id[x])   \n",
    "outlog    = paste0(outlogdir,\"/\",  snp_counts$gene_id[x], \".log\")\n",
    "    \n",
    "system(paste(\"tabix\",  vcf, region, \"| $RASQUALDIR/bin/rasqual\", \n",
    "'-y', counts,\n",
    "'-k', offsets,\n",
    "'-x', covariates,\n",
    "\"-n\", nsamples,             \n",
    "'-j', indexes[x] ,\n",
    "'-l', snp_counts$cis_snp_count[x] ,\n",
    "'-m', snp_counts$feature_snp_count[x] , \n",
    "'-s', snp_counts$exon_starts[x],\n",
    "'-e', snp_counts$exon_ends[x] , \n",
    "'-f', snp_counts$gene_id[x],            \n",
    " c(\"\",\"-t\" )  [(lead==TRUE) +1]   ,\n",
    " c(\"\",\"-r\" )  [(permut==TRUE) +1]   ,\n",
    "#'--min-coverage-depth 6',\n",
    "'>', outfile, \"2>\", outlog))\n",
    "    \n",
    "}"
   ]
  },
  {
   "cell_type": "code",
   "execution_count": 2,
   "metadata": {},
   "outputs": [],
   "source": [
    "###### set parmetes here ######\n",
    "maindir     = '/nfs/lab/projects/pbmc_snATAC/analysis_v2/rasqual_eur/bulk/'\n",
    "celltypes   = list.files(maindir)[!grepl(\".txt\", list.files(maindir))]\n",
    "P           =  TRUE ## permutation?  ## not necessary with the new vcf files\n",
    "folder_name = 'run4_perm2_lead'\n",
    "L           =  TRUE ## report only lead?\n",
    "nsamples    = 10\n",
    "####################################\n",
    "\n",
    "setwd(maindir)"
   ]
  },
  {
   "cell_type": "code",
   "execution_count": 79,
   "metadata": {},
   "outputs": [],
   "source": [
    "celltypes ='bulk025'"
   ]
  },
  {
   "cell_type": "code",
   "execution_count": 80,
   "metadata": {},
   "outputs": [
    {
     "name": "stdout",
     "output_type": "stream",
     "text": [
      "bulk025 \n",
      "0 \n"
     ]
    }
   ],
   "source": [
    "for (c in celltypes){\n",
    "\n",
    "cat (c, \"\\n\")\n",
    "counts      = paste0( c, \"/counts.\",c, \".bin\" )\n",
    "offsets     = paste0( c, \"/size_factors.\",c, \".bin\" )\n",
    "#covariates  = paste0( c, \"/covariates.\",c, \".bin\" )\n",
    "covariates  = paste0( c, \"/covariates2.\",c, \".bin\" )\n",
    "\n",
    "inp = read.table(paste0( c, \"/counts.\",c, \".txt\" ), row.names=1)\n",
    "cm  = read.table(paste0( c,\"/\",c, \".count_matrix\" ), header=T, stringsAsFactors = F)\n",
    "\n",
    "peak_data = cm[,c(1,2,5,3,4)]\n",
    "peak_data$Strand = as.integer(1)\n",
    "colnames(peak_data) =  c('gene_id','chr','strand','exon_starts','exon_ends')\n",
    "peak_data$exon_starts = as.character(peak_data$exon_starts)\n",
    "peak_data$exon_ends = as.character(peak_data$exon_ends)\n",
    "\n",
    "#vcf_dir = paste0(c, '/vcfs_peaksonly/' )\n",
    "#vcf_dir = paste0(c, '/vcfs_peaks10kb/' )\n",
    " vcf_dir = paste0(c, '/vcfs_peaks50kb/' )  \n",
    "    \n",
    "system(paste0(\"bcftools query -f '%CHROM\\\\t%POS\\\\t%ID\\\\n' \", \n",
    "              vcf_dir,  \"full.ase.filtered.vcf.gz > \",  vcf_dir, 'full.ase.filtered.snps'))\n",
    "   \n",
    "snps2           = read.table(paste0(vcf_dir, \"full.ase.filtered.snps\"))\n",
    "colnames(snps2) = c('chr','pos','snp_id')\n",
    "    \n",
    "snp_counts2 = countSnpsOverlapingExons(peak_data, snps2, cis_window = 50000)\n",
    "snp_counts2 = subset(snp_counts2, feature_snp_count>0 |  cis_snp_count> 0)\n",
    "snp_counts_sub = subset(snp_counts2, gene_id %in% rownames(inp))\n",
    "\n",
    "indexes =  match ( snp_counts_sub$gene_id,rownames(inp))\n",
    "\n",
    "cat(sum(rownames(inp[indexes,])!= snp_counts_sub$gene_id), \"\\n\")\n",
    "\n",
    "sp = split(snp_counts_sub, snp_counts_sub$chromosome_name)\n",
    "\n",
    "for ( n in 1:22){\n",
    "\n",
    "chrom  = paste0(\"chr\", n)\n",
    "outdir = paste( c, folder_name , chrom, sep =\"/\")\n",
    "system(paste('mkdir -p', outdir))\n",
    "outlogdir = paste0(outdir, \"/logs\")\n",
    "system(paste(\"mkdir\",outlogdir ))\n",
    "    \n",
    "snp_counts_use = sp[[chrom]]\n",
    "indexes        =  match ( snp_counts_use$gene_id,rownames(inp))\n",
    "\n",
    "vcf_file = paste0(vcf_dir,  'full.ase.filtered.vcf.gz' )\n",
    "    \n",
    "\n",
    "mclapply(1:nrow(snp_counts_use), function(x) rasqual_caQTL(x, snp_counts_use, counts, offsets, covariates, \n",
    "                                                           nsamples=nsamples, \n",
    "                                                           vcf=vcf_file, outdir=outdir, outlogdir=outlogdir ,\n",
    "                                                           lead=L, permut=P) , mc.cores = 16 )\n",
    "         }\n",
    "    \n",
    "    }"
   ]
  },
  {
   "cell_type": "code",
   "execution_count": 81,
   "metadata": {},
   "outputs": [],
   "source": [
    "for (c in celltypes){\n",
    "    logdir = paste0( c, \"/\",folder_name , \"_logs\")\n",
    "    dir.create(logdir)\n",
    "for ( n in 1:22){\n",
    "        chrom  = paste0(\"chr\", n)\n",
    "        outdir = paste( c, folder_name , chrom, \"logs\",sep =\"/\")\n",
    "        files = na.omit(list.files(outdir)[sapply(paste(outdir, list.files(outdir),sep=\"/\"), file.size) >0])\n",
    " if(length(files)>0) {      \n",
    "    error_files= paste(outdir, files, sep=\"/\")\n",
    "     for (err in error_files){\n",
    "     system(paste(\"mv\", err, logdir))\n",
    "    }\n",
    "     }\n",
    "    system(paste(\"rm -r\",outdir ))\n",
    "    \n",
    "            }\n",
    "    \n",
    "    }"
   ]
  },
  {
   "cell_type": "code",
   "execution_count": 82,
   "metadata": {},
   "outputs": [
    {
     "name": "stdout",
     "output_type": "stream",
     "text": [
      "bulk025 \n"
     ]
    }
   ],
   "source": [
    "compile_results = function(n,folder_name,outdir ){\n",
    "  \t    chrom  = paste0(\"chr\", n)\n",
    "        outdir = paste( c, folder_name , chrom, sep =\"/\")\n",
    "        system(paste0(\"cat \", outdir,  \"/* > \", c , \"/\", folder_name,\".results_chr\", n))\n",
    "    }\n",
    "\n",
    "\n",
    "for (c in celltypes){\n",
    "    cat (c, \"\\n\")\n",
    "    tabname = paste0(c, \"/Results_\", folder_name, \".tsv\")\n",
    "    \n",
    "        \n",
    " mclapply (1:22, function(x) compile_results(n=x,folder_name=folder_name,outdir=outdir))\n",
    "         \n",
    "        system(paste0(\"cat \", c , \"/\", folder_name,\".results_chr* > \", tabname))\n",
    "        system(paste0(\"rm \", c , \"/\", folder_name,\".results_chr*\"))\n",
    "         results           = read.table(tabname, fill=T)\n",
    "         colnames(results) = coln\n",
    "         results           = subset(results,results$rsID !=\"SKIPPED\")\n",
    "         results$P_VAl     = pchisq(results[,11], 1, lower=F)\n",
    "         write.table(results, tabname, sep=\"\\t\", quote=F)\n",
    "\n",
    "}\n"
   ]
  },
  {
   "cell_type": "code",
   "execution_count": 48,
   "metadata": {},
   "outputs": [],
   "source": [
    "# for (c in celltypes){\n",
    "#     for ( n in 1:22){\n",
    "#         chrom  = paste0(\"chr\", n)\n",
    "#         outdir = paste( c, folder_name , chrom, sep =\"/\")         \n",
    "#         system(paste0(\"rm -r \", outdir))\n",
    "        \n",
    "#             }\n",
    "#     system(paste0(\"rm -r \", c, \"/\", folder_name))\n",
    "#  }"
   ]
  },
  {
   "cell_type": "markdown",
   "metadata": {},
   "source": [
    "### Calculte empirical q-value from the permutations.\n",
    "see: https://github.com/natsuhiko/rasqual/issues/21"
   ]
  },
  {
   "cell_type": "code",
   "execution_count": 86,
   "metadata": {},
   "outputs": [],
   "source": [
    "# q1 : real lead Q-value vector for all peaks from RASQUAL\n",
    "# q0 : permutated Q-value vector\n",
    "# alpha : FDR threshold\n",
    "# This function returns the P-value threshold corresponding to FDR=alpha.\n",
    "getFDR <-\n",
    "function(q1, q0, alpha=0.1, z=NULL, subset=NULL){\n",
    "\tif(is.null(z)){\n",
    "\t\ta=0\n",
    "\t\tfor(itr in 1:10){\n",
    "\t\t\ta=getFDR(q1,q0,alpha,rev(a+0:100/100^itr),subset)\n",
    "\t\t}\n",
    "\t\ta\n",
    "\t}else{\n",
    "\t\tif(!is.null(subset)){\n",
    "\t\t\tq1=q1[subset]\n",
    "\t\t\tq0=q0[subset]\n",
    "\t\t}\n",
    "\t\tq1=q1[!is.na(q1)]\n",
    "\t\tq0=q0[!is.na(q0)]\n",
    "\t\tx=NULL;\n",
    "\t\tfor(i in z){\n",
    "\t\t\tx=c(x,sum(q0<i)/length(q0)/(sum(q1<i)/length(q1)))\n",
    "\t\t};\n",
    "\t\tmax(c(0,z[x<alpha]),na.rm=T)\n",
    "\t}\n",
    "}\n"
   ]
  },
  {
   "cell_type": "code",
   "execution_count": 83,
   "metadata": {},
   "outputs": [],
   "source": [
    "celltypes = c( \"bulk025\")"
   ]
  },
  {
   "cell_type": "code",
   "execution_count": 87,
   "metadata": {},
   "outputs": [],
   "source": [
    "df = data.frame()\n",
    "for (c in celltypes) {\n",
    "results       = read.table(paste0(c, \"/Results_run4_all.tsv\"), header=T, stringsAsFactors = F)\n",
    "random        = read.table(paste0(c, \"/Results_run4_perm1_lead.tsv\"), header=T, stringsAsFactors = F)\n",
    "random2       = read.table(paste0(c, \"/Results_run4_perm2_lead.tsv\"), header=T, stringsAsFactors = F)\n",
    "results       = results[order(results$P_VAl),]\n",
    "results_lead  = results[!duplicated(results$Feature),]\n",
    "    \n",
    "thresh10      = getFDR(10^(results_lead$Log10_qval), 10^(c(random$Log10_qval,random2$Log10_qval )), 0.1) \n",
    "thresh05       = getFDR(10^(results_lead$Log10_qval), 10^(c(random$Log10_qval,random2$Log10_qval )), 0.05) \n",
    "thresh01       = getFDR(10^(results_lead$Log10_qval), 10^(c(random$Log10_qval,random2$Log10_qval )), 0.01) \n",
    "\n",
    "results_lead$flag_fdr10 = 10^(results_lead$Log10_qval) < thresh10\n",
    "results_lead$flag_fdr05 = 10^(results_lead$Log10_qval) < thresh05\n",
    "results_lead$flag_fdr01 = 10^(results_lead$Log10_qval) < thresh01\n",
    "df = rbind(df, c(thresh10, sum(results_lead$flag_fdr10, na.rm=T) , \n",
    "                   thresh05, sum(results_lead$flag_fdr05, na.rm=T),\n",
    "                   thresh01, sum(results_lead$flag_fdr01, na.rm=T), nrow(results_lead)))\n",
    "\n",
    "write.table(results_lead, paste0(c, \"/Results_run4_lead.tsv\"),sep=\"\\t\", quote=F, row.names=F)    \n",
    "\n",
    "}\n",
    "rownames(df) = celltypes\n",
    "colnames(df) = c('pval_fdr10%', 'caQTL_fdr10%', 'pval_fdr05%', 'caQTL_fdr05%','pval_fdr01%', 'caQTL_fdr01%', \"tested_features\")\n"
   ]
  },
  {
   "cell_type": "code",
   "execution_count": 93,
   "metadata": {},
   "outputs": [
    {
     "data": {
      "text/html": [
       "0.00816525435200476"
      ],
      "text/latex": [
       "0.00816525435200476"
      ],
      "text/markdown": [
       "0.00816525435200476"
      ],
      "text/plain": [
       "[1] 0.008165254"
      ]
     },
     "metadata": {},
     "output_type": "display_data"
    }
   ],
   "source": [
    "1508/184685"
   ]
  },
  {
   "cell_type": "code",
   "execution_count": 88,
   "metadata": {},
   "outputs": [
    {
     "data": {
      "text/html": [
       "<table class=\"dataframe\">\n",
       "<caption>A data.frame: 1 × 7</caption>\n",
       "<thead>\n",
       "\t<tr><th></th><th scope=col>pval_fdr10%</th><th scope=col>caQTL_fdr10%</th><th scope=col>pval_fdr05%</th><th scope=col>caQTL_fdr05%</th><th scope=col>pval_fdr01%</th><th scope=col>caQTL_fdr01%</th><th scope=col>tested_features</th></tr>\n",
       "\t<tr><th></th><th scope=col>&lt;dbl&gt;</th><th scope=col>&lt;dbl&gt;</th><th scope=col>&lt;dbl&gt;</th><th scope=col>&lt;dbl&gt;</th><th scope=col>&lt;dbl&gt;</th><th scope=col>&lt;dbl&gt;</th><th scope=col>&lt;dbl&gt;</th></tr>\n",
       "</thead>\n",
       "<tbody>\n",
       "\t<tr><th scope=row>bulk025</th><td>0.08170918</td><td>1659</td><td>0.02582871</td><td>930</td><td>0.001260623</td><td>310</td><td>184685</td></tr>\n",
       "</tbody>\n",
       "</table>\n"
      ],
      "text/latex": [
       "A data.frame: 1 × 7\n",
       "\\begin{tabular}{r|lllllll}\n",
       "  & pval\\_fdr10\\% & caQTL\\_fdr10\\% & pval\\_fdr05\\% & caQTL\\_fdr05\\% & pval\\_fdr01\\% & caQTL\\_fdr01\\% & tested\\_features\\\\\n",
       "  & <dbl> & <dbl> & <dbl> & <dbl> & <dbl> & <dbl> & <dbl>\\\\\n",
       "\\hline\n",
       "\tbulk025 & 0.08170918 & 1659 & 0.02582871 & 930 & 0.001260623 & 310 & 184685\\\\\n",
       "\\end{tabular}\n"
      ],
      "text/markdown": [
       "\n",
       "A data.frame: 1 × 7\n",
       "\n",
       "| <!--/--> | pval_fdr10% &lt;dbl&gt; | caQTL_fdr10% &lt;dbl&gt; | pval_fdr05% &lt;dbl&gt; | caQTL_fdr05% &lt;dbl&gt; | pval_fdr01% &lt;dbl&gt; | caQTL_fdr01% &lt;dbl&gt; | tested_features &lt;dbl&gt; |\n",
       "|---|---|---|---|---|---|---|---|\n",
       "| bulk025 | 0.08170918 | 1659 | 0.02582871 | 930 | 0.001260623 | 310 | 184685 |\n",
       "\n"
      ],
      "text/plain": [
       "        pval_fdr10% caQTL_fdr10% pval_fdr05% caQTL_fdr05% pval_fdr01%\n",
       "bulk025 0.08170918  1659         0.02582871  930          0.001260623\n",
       "        caQTL_fdr01% tested_features\n",
       "bulk025 310          184685         "
      ]
     },
     "metadata": {},
     "output_type": "display_data"
    }
   ],
   "source": [
    "df"
   ]
  },
  {
   "cell_type": "code",
   "execution_count": 23,
   "metadata": {},
   "outputs": [
    {
     "data": {
      "text/html": [
       "<table class=\"dataframe\">\n",
       "<caption>A data.frame: 2 × 7</caption>\n",
       "<thead>\n",
       "\t<tr><th></th><th scope=col>pval_fdr10%</th><th scope=col>caQTL_fdr10%</th><th scope=col>pval_fdr05%</th><th scope=col>caQTL_fdr05%</th><th scope=col>pval_fdr01%</th><th scope=col>caQTL_fdr01%</th><th scope=col>tested_features</th></tr>\n",
       "\t<tr><th></th><th scope=col>&lt;dbl&gt;</th><th scope=col>&lt;dbl&gt;</th><th scope=col>&lt;dbl&gt;</th><th scope=col>&lt;dbl&gt;</th><th scope=col>&lt;dbl&gt;</th><th scope=col>&lt;dbl&gt;</th><th scope=col>&lt;dbl&gt;</th></tr>\n",
       "</thead>\n",
       "<tbody>\n",
       "\t<tr><th scope=row>bulk</th><td>0.05609727</td><td>4703</td><td>0.02096063</td><td>3056</td><td>0.001107148</td><td>1127</td><td>194846</td></tr>\n",
       "\t<tr><th scope=row>bulk025</th><td>0.07140142</td><td>2503</td><td>0.03240365</td><td>1656</td><td>0.004535618</td><td> 708</td><td>155652</td></tr>\n",
       "</tbody>\n",
       "</table>\n"
      ],
      "text/latex": [
       "A data.frame: 2 × 7\n",
       "\\begin{tabular}{r|lllllll}\n",
       "  & pval\\_fdr10\\% & caQTL\\_fdr10\\% & pval\\_fdr05\\% & caQTL\\_fdr05\\% & pval\\_fdr01\\% & caQTL\\_fdr01\\% & tested\\_features\\\\\n",
       "  & <dbl> & <dbl> & <dbl> & <dbl> & <dbl> & <dbl> & <dbl>\\\\\n",
       "\\hline\n",
       "\tbulk & 0.05609727 & 4703 & 0.02096063 & 3056 & 0.001107148 & 1127 & 194846\\\\\n",
       "\tbulk025 & 0.07140142 & 2503 & 0.03240365 & 1656 & 0.004535618 &  708 & 155652\\\\\n",
       "\\end{tabular}\n"
      ],
      "text/markdown": [
       "\n",
       "A data.frame: 2 × 7\n",
       "\n",
       "| <!--/--> | pval_fdr10% &lt;dbl&gt; | caQTL_fdr10% &lt;dbl&gt; | pval_fdr05% &lt;dbl&gt; | caQTL_fdr05% &lt;dbl&gt; | pval_fdr01% &lt;dbl&gt; | caQTL_fdr01% &lt;dbl&gt; | tested_features &lt;dbl&gt; |\n",
       "|---|---|---|---|---|---|---|---|\n",
       "| bulk | 0.05609727 | 4703 | 0.02096063 | 3056 | 0.001107148 | 1127 | 194846 |\n",
       "| bulk025 | 0.07140142 | 2503 | 0.03240365 | 1656 | 0.004535618 |  708 | 155652 |\n",
       "\n"
      ],
      "text/plain": [
       "        pval_fdr10% caQTL_fdr10% pval_fdr05% caQTL_fdr05% pval_fdr01%\n",
       "bulk    0.05609727  4703         0.02096063  3056         0.001107148\n",
       "bulk025 0.07140142  2503         0.03240365  1656         0.004535618\n",
       "        caQTL_fdr01% tested_features\n",
       "bulk    1127         194846         \n",
       "bulk025  708         155652         "
      ]
     },
     "metadata": {},
     "output_type": "display_data"
    }
   ],
   "source": [
    "df"
   ]
  },
  {
   "cell_type": "code",
   "execution_count": 91,
   "metadata": {},
   "outputs": [
    {
     "data": {
      "text/html": [
       "0.481241032027506"
      ],
      "text/latex": [
       "0.481241032027506"
      ],
      "text/markdown": [
       "0.481241032027506"
      ],
      "text/plain": [
       "[1] 0.481241"
      ]
     },
     "metadata": {},
     "output_type": "display_data"
    },
    {
     "data": {
      "text/html": [
       "0.498345832092482"
      ],
      "text/latex": [
       "0.498345832092482"
      ],
      "text/markdown": [
       "0.498345832092482"
      ],
      "text/plain": [
       "[1] 0.4983458"
      ]
     },
     "metadata": {},
     "output_type": "display_data"
    }
   ],
   "source": [
    "mm = merge(snp_counts_sub[,c(1,8,9)], results_lead[,c('Feature', 'No_fSNPs','No_tested_SNPs')], by=1)\n",
    "\n",
    "sum(mm[,2]==0)/nrow(mm)\n",
    "sum(mm[,4]==0)/nrow(mm)\n"
   ]
  },
  {
   "cell_type": "code",
   "execution_count": 89,
   "metadata": {},
   "outputs": [],
   "source": [
    "sc = subset(results_lead, flag_fdr10==T)"
   ]
  },
  {
   "cell_type": "code",
   "execution_count": 73,
   "metadata": {},
   "outputs": [],
   "source": [
    "sc = subset(res2, flag_fdr10==T)"
   ]
  },
  {
   "cell_type": "code",
   "execution_count": 90,
   "metadata": {},
   "outputs": [
    {
     "data": {
      "text/html": [
       "<style>\n",
       ".list-inline {list-style: none; margin:0; padding: 0}\n",
       ".list-inline>li {display: inline-block}\n",
       ".list-inline>li:not(:last-child)::after {content: \"\\00b7\"; padding: 0 .5ex}\n",
       "</style>\n",
       "<ol class=list-inline><li>1647</li><li>2</li></ol>\n"
      ],
      "text/latex": [
       "\\begin{enumerate*}\n",
       "\\item 1647\n",
       "\\item 2\n",
       "\\end{enumerate*}\n"
      ],
      "text/markdown": [
       "1. 1647\n",
       "2. 2\n",
       "\n",
       "\n"
      ],
      "text/plain": [
       "[1] 1647    2"
      ]
     },
     "metadata": {},
     "output_type": "display_data"
    }
   ],
   "source": [
    "inp= data.frame(SNP=unique(substring(sc$rsID,4)) , P=0.5)\n",
    "dim(inp)\n",
    "write.table(inp, paste0(c,\"/lead_snps_run4\"), quote=F, row.names=F)"
   ]
  },
  {
   "cell_type": "code",
   "execution_count": 68,
   "metadata": {},
   "outputs": [
    {
     "data": {
      "text/html": [
       "'bulk025'"
      ],
      "text/latex": [
       "'bulk025'"
      ],
      "text/markdown": [
       "'bulk025'"
      ],
      "text/plain": [
       "[1] \"bulk025\""
      ]
     },
     "metadata": {},
     "output_type": "display_data"
    }
   ],
   "source": [
    "c"
   ]
  },
  {
   "cell_type": "code",
   "execution_count": null,
   "metadata": {},
   "outputs": [],
   "source": [
    "# ### on gatsby\n",
    "# plink \\\n",
    "# --bfile /nfs/lab/1KGP/1KGP_ALL.merged \\\n",
    "# --keep /nfs/lab/1KGP/1KGP.EUR.samples \\\n",
    "# --exclude /nfs/lab/1KGP/1KGP_ALL.merged.dupvars \\\n",
    "# --clump lead_snps_run4 \\\n",
    "# --clump-field P \\\n",
    "# --clump-r2 0.2 \\\n",
    "# --clump-kb 250 \\\n",
    "# --clump-p1 1 \\\n",
    "# --clump-p2 1 \\\n",
    "# --out lead_snps_run4_clumped\n"
   ]
  },
  {
   "cell_type": "code",
   "execution_count": 57,
   "metadata": {},
   "outputs": [
    {
     "data": {
      "text/html": [
       "'/nfs/lab/projects/pbmc_snATAC/analysis_v2/rasqual_eur/bulk'"
      ],
      "text/latex": [
       "'/nfs/lab/projects/pbmc\\_snATAC/analysis\\_v2/rasqual\\_eur/bulk'"
      ],
      "text/markdown": [
       "'/nfs/lab/projects/pbmc_snATAC/analysis_v2/rasqual_eur/bulk'"
      ],
      "text/plain": [
       "[1] \"/nfs/lab/projects/pbmc_snATAC/analysis_v2/rasqual_eur/bulk\""
      ]
     },
     "metadata": {},
     "output_type": "display_data"
    }
   ],
   "source": [
    "getwd()"
   ]
  },
  {
   "cell_type": "code",
   "execution_count": 70,
   "metadata": {},
   "outputs": [
    {
     "data": {
      "text/html": [
       "<style>\n",
       ".list-inline {list-style: none; margin:0; padding: 0}\n",
       ".list-inline>li {display: inline-block}\n",
       ".list-inline>li:not(:last-child)::after {content: \"\\00b7\"; padding: 0 .5ex}\n",
       "</style>\n",
       "<ol class=list-inline><li>1906</li><li>12</li></ol>\n"
      ],
      "text/latex": [
       "\\begin{enumerate*}\n",
       "\\item 1906\n",
       "\\item 12\n",
       "\\end{enumerate*}\n"
      ],
      "text/markdown": [
       "1. 1906\n",
       "2. 12\n",
       "\n",
       "\n"
      ],
      "text/plain": [
       "[1] 1906   12"
      ]
     },
     "metadata": {},
     "output_type": "display_data"
    },
    {
     "data": {
      "text/html": [
       "2141"
      ],
      "text/latex": [
       "2141"
      ],
      "text/markdown": [
       "2141"
      ],
      "text/plain": [
       "[1] 2141"
      ]
     },
     "metadata": {},
     "output_type": "display_data"
    },
    {
     "data": {
      "text/html": [
       "1920"
      ],
      "text/latex": [
       "1920"
      ],
      "text/markdown": [
       "1920"
      ],
      "text/plain": [
       "[1] 1920"
      ]
     },
     "metadata": {},
     "output_type": "display_data"
    }
   ],
   "source": [
    "clumped = read.table( paste0(c,'/lead_snps_run3_clumped.clumped'), header=T)\n",
    "dim(clumped)\n",
    "sum(!duplicated(sc$Feature))\n",
    "sum(!duplicated(sc$Feature[sc$rsID %in% paste0(\"chr\", clumped$SNP)]))"
   ]
  },
  {
   "cell_type": "code",
   "execution_count": 75,
   "metadata": {},
   "outputs": [
    {
     "data": {
      "text/html": [
       "<style>\n",
       ".list-inline {list-style: none; margin:0; padding: 0}\n",
       ".list-inline>li {display: inline-block}\n",
       ".list-inline>li:not(:last-child)::after {content: \"\\00b7\"; padding: 0 .5ex}\n",
       "</style>\n",
       "<ol class=list-inline><li>2217</li><li>12</li></ol>\n"
      ],
      "text/latex": [
       "\\begin{enumerate*}\n",
       "\\item 2217\n",
       "\\item 12\n",
       "\\end{enumerate*}\n"
      ],
      "text/markdown": [
       "1. 2217\n",
       "2. 12\n",
       "\n",
       "\n"
      ],
      "text/plain": [
       "[1] 2217   12"
      ]
     },
     "metadata": {},
     "output_type": "display_data"
    },
    {
     "data": {
      "text/html": [
       "2503"
      ],
      "text/latex": [
       "2503"
      ],
      "text/markdown": [
       "2503"
      ],
      "text/plain": [
       "[1] 2503"
      ]
     },
     "metadata": {},
     "output_type": "display_data"
    },
    {
     "data": {
      "text/html": [
       "2241"
      ],
      "text/latex": [
       "2241"
      ],
      "text/markdown": [
       "2241"
      ],
      "text/plain": [
       "[1] 2241"
      ]
     },
     "metadata": {},
     "output_type": "display_data"
    }
   ],
   "source": [
    "clumped = read.table( paste0(c,'/lead_snps_run2_clumped.clumped'), header=T)\n",
    "dim(clumped)\n",
    "sum(!duplicated(sc$Feature))\n",
    "sum(!duplicated(sc$Feature[sc$rsID %in% paste0(\"chr\", clumped$SNP)]))"
   ]
  },
  {
   "cell_type": "code",
   "execution_count": 92,
   "metadata": {},
   "outputs": [
    {
     "data": {
      "text/html": [
       "<style>\n",
       ".list-inline {list-style: none; margin:0; padding: 0}\n",
       ".list-inline>li {display: inline-block}\n",
       ".list-inline>li:not(:last-child)::after {content: \"\\00b7\"; padding: 0 .5ex}\n",
       "</style>\n",
       "<ol class=list-inline><li>1501</li><li>12</li></ol>\n"
      ],
      "text/latex": [
       "\\begin{enumerate*}\n",
       "\\item 1501\n",
       "\\item 12\n",
       "\\end{enumerate*}\n"
      ],
      "text/markdown": [
       "1. 1501\n",
       "2. 12\n",
       "\n",
       "\n"
      ],
      "text/plain": [
       "[1] 1501   12"
      ]
     },
     "metadata": {},
     "output_type": "display_data"
    },
    {
     "data": {
      "text/html": [
       "1659"
      ],
      "text/latex": [
       "1659"
      ],
      "text/markdown": [
       "1659"
      ],
      "text/plain": [
       "[1] 1659"
      ]
     },
     "metadata": {},
     "output_type": "display_data"
    },
    {
     "data": {
      "text/html": [
       "1508"
      ],
      "text/latex": [
       "1508"
      ],
      "text/markdown": [
       "1508"
      ],
      "text/plain": [
       "[1] 1508"
      ]
     },
     "metadata": {},
     "output_type": "display_data"
    }
   ],
   "source": [
    "clumped = read.table( paste0(c,'/lead_snps_run4_clumped.clumped'), header=T)\n",
    "dim(clumped)\n",
    "sum(!duplicated(sc$Feature))\n",
    "sum(!duplicated(sc$Feature[sc$rsID %in% paste0(\"chr\", clumped$SNP)]))"
   ]
  },
  {
   "cell_type": "code",
   "execution_count": 119,
   "metadata": {},
   "outputs": [],
   "source": [
    "#write.table(df, \"Summary_run3.txt\", quote=F)"
   ]
  },
  {
   "cell_type": "code",
   "execution_count": 5,
   "metadata": {},
   "outputs": [],
   "source": [
    "celltypes = c( 'b', 'mono','nk','t')"
   ]
  },
  {
   "cell_type": "code",
   "execution_count": 9,
   "metadata": {},
   "outputs": [],
   "source": [
    "qqplotf = function(pvalues, title){\n",
    "coaccP = sort(-log(pvalues, 10))\n",
    "set.seed(1)\n",
    "uniP = runif(length(coaccP))\n",
    "uniP = sort(-log10(uniP))\n",
    "\n",
    "plot(uniP, coaccP, pch=20, cex=1, xlab=\"Theoretical -Log10(P)\", ylab=\"-Log10(P) caQTLs\", main =title)\n",
    "abline(0,1)\n",
    "chisq <- qchisq(1-pvalues,1)\n",
    "lgc = median(chisq)/qchisq(0.5,1)\n",
    "    \n",
    "    #median(qchisq(p, df=1, lower.tail=FALSE)) / qchisq(0.5, 1)\n",
    "    mtext(paste(\"Lgc=\", round(lgc,2), \"MedianPval=\", round(median(pvalues),3)))  \n",
    "}"
   ]
  },
  {
   "cell_type": "code",
   "execution_count": 10,
   "metadata": {
    "scrolled": false
   },
   "outputs": [
    {
     "data": {
      "image/png": "[encoded data removed]",
      "text/plain": [
       "Plot with title “t”"
      ]
     },
     "metadata": {
      "image/png": {
       "height": 420,
       "width": 720
      }
     },
     "output_type": "display_data"
    }
   ],
   "source": [
    "options(repr.plot.width=12, repr.plot.height=7)\n",
    "par(mfcol=c(2,4))\n",
    "for (c in celltypes) {\n",
    "results_lead       = read.table(paste0(c, \"/Results_run3_lead.tsv\"), header=T, stringsAsFactors = F)\n",
    "random             = read.table(paste0(c, \"/Results_run3_perm1_lead.tsv\"), header=T, stringsAsFactors = F)\n",
    " \n",
    "p1 = sort(-results_lead[,10])\n",
    "p2 = sort(-random[,10])\n",
    "plot(p2, p1, pch=20, cex=1, xlab=\"Permuted Log10(qval)\", ylab=\"Log10(Q) caQTLs\", main=c)\n",
    "abline(0,1)\n",
    "    results_lead$cell =c\n",
    "   #res= rbind(res,results_lead )\n",
    "    \n",
    "    qqplotf(results_lead$P_VAl, c)\n",
    "    \n",
    "    }"
   ]
  },
  {
   "cell_type": "code",
   "execution_count": 94,
   "metadata": {},
   "outputs": [],
   "source": [
    "buori = read.table(paste0(\"bulk\", \"/Results_run3_lead.tsv\"), header=T, stringsAsFactors = F)"
   ]
  },
  {
   "cell_type": "code",
   "execution_count": 95,
   "metadata": {},
   "outputs": [],
   "source": [
    "busub = read.table(paste0(\"bulk025\", \"/Results_run2_lead.tsv\"), header=T, stringsAsFactors = F)"
   ]
  },
  {
   "cell_type": "code",
   "execution_count": 96,
   "metadata": {},
   "outputs": [
    {
     "data": {
      "text/html": [
       "2503"
      ],
      "text/latex": [
       "2503"
      ],
      "text/markdown": [
       "2503"
      ],
      "text/plain": [
       "[1] 2503"
      ]
     },
     "metadata": {},
     "output_type": "display_data"
    }
   ],
   "source": [
    "sum(busub$flag_fdr10)"
   ]
  },
  {
   "cell_type": "code",
   "execution_count": 97,
   "metadata": {},
   "outputs": [
    {
     "data": {
      "text/html": [
       "2111"
      ],
      "text/latex": [
       "2111"
      ],
      "text/markdown": [
       "2111"
      ],
      "text/plain": [
       "[1] 2111"
      ]
     },
     "metadata": {},
     "output_type": "display_data"
    }
   ],
   "source": [
    "sum(busub$Feature[busub$flag_fdr10] %in% buori$Feature[buori$flag_fdr10])"
   ]
  },
  {
   "cell_type": "code",
   "execution_count": 98,
   "metadata": {},
   "outputs": [
    {
     "data": {
      "text/html": [
       "4703"
      ],
      "text/latex": [
       "4703"
      ],
      "text/markdown": [
       "4703"
      ],
      "text/plain": [
       "[1] 4703"
      ]
     },
     "metadata": {},
     "output_type": "display_data"
    }
   ],
   "source": [
    "sum(buori$flag_fdr10)"
   ]
  },
  {
   "cell_type": "code",
   "execution_count": 99,
   "metadata": {},
   "outputs": [
    {
     "data": {
      "text/html": [
       "0.448862428237295"
      ],
      "text/latex": [
       "0.448862428237295"
      ],
      "text/markdown": [
       "0.448862428237295"
      ],
      "text/plain": [
       "[1] 0.4488624"
      ]
     },
     "metadata": {},
     "output_type": "display_data"
    }
   ],
   "source": [
    "2111/4703"
   ]
  },
  {
   "cell_type": "code",
   "execution_count": 100,
   "metadata": {},
   "outputs": [
    {
     "data": {
      "text/html": [
       "0.532213480756964"
      ],
      "text/latex": [
       "0.532213480756964"
      ],
      "text/markdown": [
       "0.532213480756964"
      ],
      "text/plain": [
       "[1] 0.5322135"
      ]
     },
     "metadata": {},
     "output_type": "display_data"
    }
   ],
   "source": [
    "2503/4703"
   ]
  },
  {
   "cell_type": "code",
   "execution_count": 3,
   "metadata": {},
   "outputs": [],
   "source": [
    "busub50 = read.table(paste0(\"bulk025\", \"/Results_run4_lead.tsv\"), header=T, stringsAsFactors = F)"
   ]
  },
  {
   "cell_type": "code",
   "execution_count": 4,
   "metadata": {},
   "outputs": [],
   "source": [
    "busub10 = read.table(paste0(\"bulk025\", \"/Results_run3_lead.tsv\"), header=T, stringsAsFactors = F)"
   ]
  },
  {
   "cell_type": "code",
   "execution_count": 109,
   "metadata": {},
   "outputs": [],
   "source": [
    "m =merge(busub, busub50, by= \"Feature\", all=T)"
   ]
  },
  {
   "cell_type": "code",
   "execution_count": 114,
   "metadata": {},
   "outputs": [
    {
     "data": {
      "text/plain": [
       "       \n",
       "         FALSE   TRUE\n",
       "  FALSE 152999    144\n",
       "  TRUE     988   1508"
      ]
     },
     "metadata": {},
     "output_type": "display_data"
    }
   ],
   "source": [
    "table(m$flag_fdr10.x, m$flag_fdr10.y)"
   ]
  },
  {
   "cell_type": "code",
   "execution_count": 115,
   "metadata": {},
   "outputs": [
    {
     "data": {
      "text/plain": [
       "       \n",
       "         FALSE   TRUE\n",
       "  FALSE 153987   1652\n",
       "  TRUE   29039      7"
      ]
     },
     "metadata": {},
     "output_type": "display_data"
    }
   ],
   "source": [
    "table(is.na(m$flag_fdr10.x), m$flag_fdr10.y)"
   ]
  },
  {
   "cell_type": "code",
   "execution_count": 113,
   "metadata": {},
   "outputs": [
    {
     "data": {
      "image/png": "[encoded data removed]",
      "text/plain": [
       "Plot with title “density.default(x = na.omit(m$Effect_size.x))”"
      ]
     },
     "metadata": {
      "image/png": {
       "height": 420,
       "width": 420
      }
     },
     "output_type": "display_data"
    }
   ],
   "source": [
    "par(pin=c(3,3))\n",
    "plot(density(na.omit(m$Effect_size.x)), lwd=2)\n",
    "lines(density(na.omit(m$Effect_size.y)), lwd=1.5, col=\"blue\")\n"
   ]
  },
  {
   "cell_type": "code",
   "execution_count": 117,
   "metadata": {},
   "outputs": [],
   "source": [
    "distToPeak = function(RES){\n",
    "bed = str_split_fixed(RES$Feature, \":|-\", 3)\n",
    "mid = as.numeric(bed[,2]) + ((as.numeric(bed[,3])-as.numeric(bed[,2]))/2)\n",
    "tb = data.frame(midpoint = round(mid), snppsos = RES$position)\n",
    "tb$dist = tb$snppsos - tb$midpoint\n",
    "return(tb)\n",
    "    \n",
    "    }"
   ]
  },
  {
   "cell_type": "code",
   "execution_count": 118,
   "metadata": {},
   "outputs": [],
   "source": [
    "tb_ori = distToPeak(busub)\n",
    "tb_10 = distToPeak(busub10)\n",
    "tb_50 = distToPeak(busub50)"
   ]
  },
  {
   "cell_type": "code",
   "execution_count": 119,
   "metadata": {},
   "outputs": [
    {
     "data": {
      "image/png": "[encoded data removed]",
      "text/plain": [
       "Plot with title “All peaks 50kb window”"
      ]
     },
     "metadata": {
      "image/png": {
       "height": 240,
       "width": 720
      }
     },
     "output_type": "display_data"
    }
   ],
   "source": [
    "options(repr.plot.width=12, repr.plot.height=4)\n",
    "par(mfrow=c(1,3))\n",
    "hist(tb_ori$dist, xlab= \"lead snp distance from peak\", main = \"All peaks 10kbpeaks\")\n",
    "hist(tb_10$dist, xlab= \"lead snp distance from peak\", main = \"All peaks 10kb window\")\n",
    "hist(tb_50$dist, xlab= \"lead snp distance from peak\", main = \"All peaks 50kb window\")\n"
   ]
  },
  {
   "cell_type": "code",
   "execution_count": 120,
   "metadata": {},
   "outputs": [
    {
     "data": {
      "image/png": "[encoded data removed]",
      "text/plain": [
       "Plot with title “QTL peaks 50kb window”"
      ]
     },
     "metadata": {
      "image/png": {
       "height": 240,
       "width": 720
      }
     },
     "output_type": "display_data"
    }
   ],
   "source": [
    "options(repr.plot.width=12, repr.plot.height=4)\n",
    "par(mfrow=c(1,3))\n",
    "hist(tb_ori$dist[busub$flag_fdr10==T], xlab= \"lead snp distance from peak\", main = \"QTL peaks 10kbpeaks\")\n",
    "hist(tb_10$dist[busub10$flag_fdr10==T], xlab= \"lead snp distance from peak\", main = \"QTL peaks 10kb window\")\n",
    "hist(tb_50$dist[busub50$flag_fdr10==T], xlab= \"lead snp distance from peak\", main = \"QTL peaks 50kb window\")\n"
   ]
  },
  {
   "cell_type": "markdown",
   "metadata": {},
   "source": [
    "## QQPLOTS"
   ]
  },
  {
   "cell_type": "code",
   "execution_count": null,
   "metadata": {},
   "outputs": [],
   "source": [
    "busub50 = read.table(paste0(\"bulk025\", \"/Results_run4_lead.tsv\"), header=T, stringsAsFactors = F)\n",
    "busub10 = read.table(paste0(\"bulk025\", \"/Results_run3_lead.tsv\"), header=T, stringsAsFactors = F)"
   ]
  },
  {
   "cell_type": "code",
   "execution_count": 11,
   "metadata": {},
   "outputs": [],
   "source": [
    "commfeat = Reduce(intersect, list(busub50$Feature,busub10$Feature))"
   ]
  },
  {
   "cell_type": "code",
   "execution_count": 13,
   "metadata": {},
   "outputs": [],
   "source": [
    "busub50 = subset(busub50, Feature %in% commfeat)\n",
    "busub10 = subset(busub10, Feature %in% commfeat)"
   ]
  },
  {
   "cell_type": "code",
   "execution_count": 15,
   "metadata": {},
   "outputs": [],
   "source": [
    "qqplotf = function(pvalues1, pvalues2, title){\n",
    "coaccP = sort(-log(pvalues1, 10))\n",
    "set.seed(1)\n",
    "uniP = runif(length(coaccP))\n",
    "uniP = sort(-log10(uniP))\n",
    "\n",
    "plot(uniP, coaccP, pch=20, cex=0.75, xlab=\"Theoretical -Log10(P)\", ylab=\"-Log10(P) caQTLs\", main =title)\n",
    "abline(0,1)\n",
    "chisq <- qchisq(1-pvalues1,1)\n",
    "lgc = median(chisq)/qchisq(0.5,1)\n",
    "    \n",
    "    #median(qchisq(p, df=1, lower.tail=FALSE)) / qchisq(0.5, 1)\n",
    "    mtext(paste(\"Lgc 50kb=\", round(lgc,2)),cex = 0.8, line=-1, adj=0)  \n",
    "    \n",
    " coaccP = sort(-log(pvalues2, 10))\n",
    "\n",
    "uniP = runif(length(coaccP))\n",
    "uniP = sort(-log10(uniP))\n",
    "\n",
    "points(uniP, coaccP, pch=20, cex=0.75, col=\"green3\")\n",
    "\n",
    "chisq <- qchisq(1-pvalues2,1)\n",
    "lgc = median(chisq)/qchisq(0.5,1)\n",
    "    \n",
    "    #median(qchisq(p, df=1, lower.tail=FALSE)) / qchisq(0.5, 1)\n",
    "   mtext(paste(\"Lgc 10kb=\", round(lgc,2)),cex = 0.8, col=\"green3\", line=-2, adj=0)  \n",
    "     \n",
    "}"
   ]
  },
  {
   "cell_type": "code",
   "execution_count": 16,
   "metadata": {},
   "outputs": [
    {
     "data": {
      "image/png": "[encoded data removed]",
      "text/plain": [
       "Plot with title “window size”"
      ]
     },
     "metadata": {
      "image/png": {
       "height": 300,
       "width": 300
      }
     },
     "output_type": "display_data"
    }
   ],
   "source": [
    "options(repr.plot.width=5, repr.plot.height=5)\n",
    "\n",
    "qqplotf(busub50$P_VAl,busub10$P_VAl, \"window size\")\n"
   ]
  },
  {
   "cell_type": "code",
   "execution_count": 22,
   "metadata": {},
   "outputs": [
    {
     "data": {
      "image/png": "[encoded data removed]",
      "text/plain": [
       "Plot with title “window size”"
      ]
     },
     "metadata": {
      "image/png": {
       "height": 300,
       "width": 300
      }
     },
     "output_type": "display_data"
    }
   ],
   "source": [
    "random50 = read.table(paste0(\"bulk025\", \"/Results_run4_perm1_lead.tsv\"), header=T, stringsAsFactors = F)\n",
    "random10 = read.table(paste0(\"bulk025\", \"/Results_run3_perm1.tsv\"), header=T, stringsAsFactors = F)\n",
    "\n",
    "random50 = subset(random50, Feature %in% commfeat ) \n",
    "random10 = subset(random10, Feature %in% commfeat ) \n",
    "    \n",
    "  \n",
    "p1 = sort(-busub50[,10])\n",
    "p2 = sort(-random50[,10])                       \n",
    "plot(p2, p1, pch=20, cex=0.75, xlab=\"Permuted Log10(qval)\", ylab=\"Log10(Q) caQTLs\", main=\"window size\")\n",
    "\n",
    "p1 = sort(-busub10[,10])\n",
    "p2 = sort(-random10[,10])   \n",
    "points(p2, p1, pch=20, cex=0.75, col=\"green3\")\n",
    "\n",
    "abline(0,1)\n"
   ]
  }
 ],
 "metadata": {
  "kernelspec": {
   "display_name": "R 4.1",
   "language": "R",
   "name": "ir41"
  },
  "language_info": {
   "codemirror_mode": "r",
   "file_extension": ".r",
   "mimetype": "text/x-r-source",
   "name": "R",
   "pygments_lexer": "r",
   "version": "4.1.1"
  }
 },
 "nbformat": 4,
 "nbformat_minor": 2
}
