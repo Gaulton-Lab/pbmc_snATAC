{
 "cells": [
  {
   "cell_type": "code",
   "execution_count": 1,
   "metadata": {},
   "outputs": [],
   "source": [
    "suppressPackageStartupMessages(library(dplyr))\n",
    "suppressPackageStartupMessages(library(rasqualTools))\n",
    "suppressPackageStartupMessages(library(stringr))\n",
    "suppressPackageStartupMessages(library(parallel))"
   ]
  },
  {
   "cell_type": "code",
   "execution_count": 2,
   "metadata": {},
   "outputs": [],
   "source": [
    "coln = c('Feature','rsID','Chromosome','position','Ref' ,'Alt' ,'Af','HWEChi_square' ,'IA','Log10_qval','Chi_square',\n",
    "        'Effect_size','Sequencing_mapping_error_rate','Ref_allele_bias' ,'Overdispersion','SNPid_within_region',\n",
    "        'No_fSNPs','No_tested_SNPs','No_iterations_for_H0','No_iterations_for_H1',\"ties\",'Log_likelihood_H0',\n",
    "        'Convergence_status','r2_fSNPs','r2_rSNP')"
   ]
  },
  {
   "cell_type": "code",
   "execution_count": 3,
   "metadata": {},
   "outputs": [],
   "source": [
    "rasqual_caQTL_coacc = function(x, snp_counts, counts, offsets, covariates,  vcf=vcf_file, outdir, outlogdir,\n",
    "                         nsamples=10, lead=TRUE, permut=FALSE) \n",
    "{\n",
    "region  = paste0(snp_counts$Chromosome[x], \":\",snp_counts$position[x]-1 ,\"-\",snp_counts$position[x])\n",
    "outfile = paste0(outdir, \"/\",  snp_counts$coacPeak[x])   \n",
    "outlog  = paste0(outlogdir,\"/\",  snp_counts$coacPeak[x], \".log\")\n",
    "ss      = str_split_fixed( str_split_fixed(snp_counts$coacPeak[1], \":\", 2)[,2], \"-\",2)\n",
    "    \n",
    "system(paste(\"tabix\",  vcf, region, \"| $RASQUALDIR/bin/rasqual\", \n",
    "'-y', counts,\n",
    "'-k', offsets,\n",
    "'-x', covariates,\n",
    "\"-n\", nsamples,             \n",
    "'-j', indexes[x] ,\n",
    "'-l', 1 ,\n",
    "'-m', 0 , \n",
    "'-s', as.numeric(ss[1]) +1,\n",
    "'-e', as.numeric(ss[2]) , \n",
    "'-f', snp_counts$coacPeak[x],\n",
    " c(\"\",\"-t\" )  [(lead==TRUE) +1]   ,\n",
    " c(\"\",\"-r\" )  [(permut==TRUE) +1]   ,\n",
    "#'--min-coverage-depth 6',\n",
    "'>', outfile, \"2>\", outlog))\n",
    "    \n",
    "}"
   ]
  },
  {
   "cell_type": "code",
   "execution_count": 4,
   "metadata": {},
   "outputs": [],
   "source": [
    "setwd('/nfs/lab/projects/pbmc_snATAC/analysis_v2/')"
   ]
  },
  {
   "cell_type": "code",
   "execution_count": 5,
   "metadata": {},
   "outputs": [],
   "source": [
    "allqtls = read.table (\"summarized_caqtls/run3/EUR_caqtl_leads_run3.tsv\", header=T)\n",
    "allqtls = subset(allqtls, flag_fdr10==TRUE & exclude==FALSE)"
   ]
  },
  {
   "cell_type": "code",
   "execution_count": 6,
   "metadata": {},
   "outputs": [],
   "source": [
    "#coacc = read.table( \"run_cicero_paola/final_conns/coaccessible.matrix\", header=T)\n",
    "coacc = read.table( \"run_cicero_paola/final_conns/coaccessible.matrix4s\", header=T)"
   ]
  },
  {
   "cell_type": "code",
   "execution_count": 8,
   "metadata": {},
   "outputs": [],
   "source": [
    "celltypes = c('b','mono','nk','t')"
   ]
  },
  {
   "cell_type": "code",
   "execution_count": 9,
   "metadata": {},
   "outputs": [
    {
     "data": {
      "text/html": [
       "<style>\n",
       ".dl-inline {width: auto; margin:0; padding: 0}\n",
       ".dl-inline>dt, .dl-inline>dd {float: none; width: auto; display: inline-block}\n",
       ".dl-inline>dt::after {content: \":\\0020\"; padding-right: .5ex}\n",
       ".dl-inline>dt:not(:first-of-type) {padding-left: .5ex}\n",
       "</style><dl class=dl-inline><dt>b</dt><dd>158935</dd><dt>mono</dt><dd>254692</dd><dt>nk</dt><dd>152213</dd><dt>t</dt><dd>327048</dd></dl>\n"
      ],
      "text/latex": [
       "\\begin{description*}\n",
       "\\item[b] 158935\n",
       "\\item[mono] 254692\n",
       "\\item[nk] 152213\n",
       "\\item[t] 327048\n",
       "\\end{description*}\n"
      ],
      "text/markdown": [
       "b\n",
       ":   158935mono\n",
       ":   254692nk\n",
       ":   152213t\n",
       ":   327048\n",
       "\n"
      ],
      "text/plain": [
       "     b   mono     nk      t \n",
       "158935 254692 152213 327048 "
      ]
     },
     "metadata": {},
     "output_type": "display_data"
    }
   ],
   "source": [
    "colSums(!is.na(coacc[,celltypes]))"
   ]
  },
  {
   "cell_type": "code",
   "execution_count": 46,
   "metadata": {},
   "outputs": [],
   "source": [
    "###### set parmetes here ######\n",
    "maindir     = '/nfs/lab/projects/pbmc_snATAC/analysis_v2/rasqual_eur/broad/'\n",
    "#celltypes   = list.files(maindir)[!grepl(\".txt\", list.files(maindir))]\n",
    "P           =  FALSE ## permutation?  ## not necessary with the new vcf files\n",
    "folder_name = 'coacc_run1_all'\n",
    "L           =  FALSE ## report only lead?\n",
    "nsamples    = 10\n",
    "####################################\n",
    "\n",
    "setwd(maindir)"
   ]
  },
  {
   "cell_type": "code",
   "execution_count": 47,
   "metadata": {},
   "outputs": [
    {
     "name": "stderr",
     "output_type": "stream",
     "text": [
      "Warning message in dir.create(outdir):\n",
      "“'b/coaccessible_qtls/coacc_run1_all' already exists”\n",
      "Warning message in dir.create(outdir):\n",
      "“'mono/coaccessible_qtls/coacc_run1_all' already exists”\n",
      "Warning message in dir.create(outdir):\n",
      "“'nk/coaccessible_qtls/coacc_run1_all' already exists”\n",
      "Warning message in dir.create(outdir):\n",
      "“'t/coaccessible_qtls/coacc_run1_all' already exists”\n"
     ]
    }
   ],
   "source": [
    "for (c in celltypes ){\n",
    "    \n",
    "## 1) Select caQTL to test\n",
    "results = subset(allqtls, cell==c)\n",
    "results$peak = gsub( \":|-\",  \"_\", results$Feature)\n",
    "\n",
    "## 2) Pair with the coaccessible peak\n",
    "cic = coacc[!is.na(coacc[,c]), c('Peak1','Peak2', c)]\n",
    "#caca = cic[apply(cic[,1:2], 1, function(x)  sum(x %in% results$peak)==2 ),]\n",
    "cic = cic[apply(cic[,1:2], 1, function(x)  sum(x %in% results$peak)==1 ),]\n",
    "cic$Feature = unlist(apply(cic[,1:2], 1, function(x)  x [x %in% results$peak]))\n",
    "cic$coacPeak = unlist(apply(cic[,1:2], 1, function(x)  x [!(x %in% results$peak)]))\n",
    "cic = cic[!duplicated(cic),]                         \n",
    "\n",
    "fe = str_split_fixed(cic$Feature,\"_\",3)\n",
    "co = str_split_fixed(cic$coacPeak,\"_\",3)\n",
    "tab = data.frame(Feature = paste0(fe[,1],\":\" ,fe[,2],\"-\",fe[,3]), \n",
    "                 coacPeak = paste0(co[,1],\":\" ,co[,2],\"-\",co[,3]), coaccess = cic[,c], \n",
    "                 dist =abs(as.numeric(fe[,3]) - as.numeric(co[,3])) )\n",
    "\n",
    "inp  = read.table(paste0( c, \"/counts.\",c, \".txt\" ), row.names=1)\n",
    "\n",
    "tab = subset(tab, coacPeak %in% rownames(inp))\n",
    "tab = merge(tab, results, by=\"Feature\")\n",
    "\n",
    "indexes =  match ( tab$coacPeak,rownames(inp))\n",
    "\n",
    "vcf_dir  = paste0(c, '/vcfs_peaksonly/' )\n",
    "vcf_file = paste0(vcf_dir,  'full.ase.filtered.vcf.gz' )\n",
    "\n",
    "\n",
    "counts      = paste0( c, \"/counts.\",c, \".bin\" )\n",
    "offsets     = paste0( c, \"/size_factors.\",c, \".bin\" )\n",
    "covariates  = paste0( c, \"/covariates2.\",c, \".bin\" )\n",
    "\n",
    "out_dir = paste0(c,\"/coaccessible_qtls/\")\n",
    "# dir.create(out_dir)\n",
    "outdir = paste0(out_dir, folder_name)\n",
    " dir.create(outdir)\n",
    "outlogdir = paste0(outdir, \"/logs\")\n",
    "dir.create(outlogdir)\n",
    "write.table(tab, paste0(out_dir,   \"Tested_coaccessible_sites4s.txt\") , row.names=F, sep=\"\\t\", quote=F)\n",
    "\n",
    "\n",
    "mclapply(1:nrow(tab), function(x) rasqual_caQTL_coacc(x, tab, counts, offsets, covariates, nsamples=nsamples, \n",
    "                                                vcf=vcf_file, outdir=outdir, outlogdir=outlogdir , \n",
    "                                                      lead=L, permut=P), mc.cores = 40)\n",
    "}\n"
   ]
  },
  {
   "cell_type": "code",
   "execution_count": 48,
   "metadata": {},
   "outputs": [
    {
     "name": "stdout",
     "output_type": "stream",
     "text": [
      "b \n",
      "mono \n",
      "nk \n",
      "t \n"
     ]
    }
   ],
   "source": [
    "for (c in celltypes){\n",
    "    cat (c, \"\\n\")\n",
    "    outer_dir = paste0(c,\"/coaccessible_qtls/\")\n",
    "    outdir    = paste0(outer_dir, folder_name)\n",
    "    tabname   = paste0(outer_dir, \"/Results_\", folder_name, \".tsv\")\n",
    "    \n",
    "        \n",
    "        system(paste0(\"cat \", outdir,  \"/* > \", tabname))\n",
    "        \n",
    "         results           = read.table(tabname, fill=T)\n",
    "         colnames(results) = coln\n",
    "         results           = subset(results,results$rsID !=\"SKIPPED\")\n",
    "         results$P_VAl     = pchisq(results[,11], 1, lower=F)\n",
    "         write.table(results, tabname, sep=\"\\t\", quote=F)\n",
    "\n",
    "}\n"
   ]
  },
  {
   "cell_type": "code",
   "execution_count": 49,
   "metadata": {},
   "outputs": [
    {
     "name": "stderr",
     "output_type": "stream",
     "text": [
      "Warning message in dir.create(logdir):\n",
      "“'b/coaccessible_qtls/coacc_run1_all_logs' already exists”\n",
      "Warning message in dir.create(logdir):\n",
      "“'mono/coaccessible_qtls/coacc_run1_all_logs' already exists”\n",
      "Warning message in dir.create(logdir):\n",
      "“'nk/coaccessible_qtls/coacc_run1_all_logs' already exists”\n",
      "Warning message in dir.create(logdir):\n",
      "“'t/coaccessible_qtls/coacc_run1_all_logs' already exists”\n"
     ]
    }
   ],
   "source": [
    "for (c in celltypes){\n",
    "    out_dir = paste0(c,\"/coaccessible_qtls/\")\n",
    "    logdir  = paste0( out_dir, folder_name , \"_logs\")\n",
    "    dir.create(logdir)\n",
    "    outdir = paste0(out_dir, folder_name)\n",
    "    outlogdir = paste0(outdir, \"/logs\")\n",
    "\n",
    "        files = na.omit(list.files(outlogdir)[sapply(paste(outlogdir, list.files(outlogdir),sep=\"/\"), file.size) >0])\n",
    " if(length(files)>0) {      \n",
    "    error_files= paste(outlogdir, files, sep=\"/\")\n",
    "     for (err in error_files){\n",
    "     system(paste(\"mv\", err, logdir))\n",
    "    }\n",
    "     }\n",
    "    system(paste(\"rm -r\",outlogdir ))\n",
    "    \n",
    "            }\n",
    "    \n",
    "    "
   ]
  },
  {
   "cell_type": "code",
   "execution_count": 36,
   "metadata": {},
   "outputs": [
    {
     "data": {
      "text/html": [
       "'t'"
      ],
      "text/latex": [
       "'t'"
      ],
      "text/markdown": [
       "'t'"
      ],
      "text/plain": [
       "[1] \"t\""
      ]
     },
     "metadata": {},
     "output_type": "display_data"
    }
   ],
   "source": [
    "c"
   ]
  },
  {
   "cell_type": "code",
   "execution_count": 48,
   "metadata": {},
   "outputs": [],
   "source": [
    "# for (c in celltypes){\n",
    "#     for ( n in 1:22){\n",
    "#         chrom  = paste0(\"chr\", n)\n",
    "#         outdir = paste( c, folder_name , chrom, sep =\"/\")         \n",
    "#         system(paste0(\"rm -r \", outdir))\n",
    "        \n",
    "#             }\n",
    "#     system(paste0(\"rm -r \", c, \"/\", folder_name))\n",
    "#  }"
   ]
  },
  {
   "cell_type": "markdown",
   "metadata": {},
   "source": [
    "### Calculte empirical q-value from the permutations.\n",
    "see: https://github.com/natsuhiko/rasqual/issues/21"
   ]
  },
  {
   "cell_type": "code",
   "execution_count": 37,
   "metadata": {},
   "outputs": [],
   "source": [
    "# q1 : real lead Q-value vector for all peaks from RASQUAL\n",
    "# q0 : permutated Q-value vector\n",
    "# alpha : FDR threshold\n",
    "# This function returns the P-value threshold corresponding to FDR=alpha.\n",
    "getFDR <-\n",
    "function(q1, q0, alpha=0.1, z=NULL, subset=NULL){\n",
    "\tif(is.null(z)){\n",
    "\t\ta=0\n",
    "\t\tfor(itr in 1:10){\n",
    "\t\t\ta=getFDR(q1,q0,alpha,rev(a+0:100/100^itr),subset)\n",
    "\t\t}\n",
    "\t\ta\n",
    "\t}else{\n",
    "\t\tif(!is.null(subset)){\n",
    "\t\t\tq1=q1[subset]\n",
    "\t\t\tq0=q0[subset]\n",
    "\t\t}\n",
    "\t\tq1=q1[!is.na(q1)]\n",
    "\t\tq0=q0[!is.na(q0)]\n",
    "\t\tx=NULL;\n",
    "\t\tfor(i in z){\n",
    "\t\t\tx=c(x,sum(q0<i)/length(q0)/(sum(q1<i)/length(q1)))\n",
    "\t\t};\n",
    "\t\tmax(c(0,z[x<alpha]),na.rm=T)\n",
    "\t}\n",
    "}\n"
   ]
  },
  {
   "cell_type": "code",
   "execution_count": 50,
   "metadata": {},
   "outputs": [],
   "source": [
    "df = data.frame()\n",
    "for (c in celltypes) {\n",
    "results       = read.table(paste0(c, \"/coaccessible_qtls/Results_coacc_run1_all.tsv\"), header=T, stringsAsFactors = F, fill=T)\n",
    "random        = read.table(paste0(c, \"/coaccessible_qtls/Results_coacc_perm1_lead.tsv\"), header=T, stringsAsFactors = F, fill=T)\n",
    "random2       = read.table(paste0(c, \"/coaccessible_qtls/Results_coacc_perm2_lead.tsv\"), header=T, stringsAsFactors = F, fill=T)\n",
    "results       = results[order(results$P_VAl),]\n",
    "results_lead  = results[!duplicated(results$Feature),]\n",
    " \n",
    "    \n",
    "orig_res = read.table(paste0(c, \"/coaccessible_qtls/Tested_coaccessible_sites4s.txt\"), header=T)\n",
    "results_lead = subset(results_lead, Feature %in% orig_res$coacPeak)\n",
    "    \n",
    "    \n",
    "thresh10      = getFDR(10^(results_lead$Log10_qval), 10^(c(random$Log10_qval,random2$Log10_qval )), 0.1) \n",
    "thresh05       = getFDR(10^(results_lead$Log10_qval), 10^(c(random$Log10_qval,random2$Log10_qval )), 0.05) \n",
    "thresh20       = getFDR(10^(results_lead$Log10_qval), 10^(c(random$Log10_qval,random2$Log10_qval )), 0.20) \n",
    "\n",
    "results_lead$flag_fdr10 = 10^(results_lead$Log10_qval) < thresh10\n",
    "results_lead$flag_fdr05 = 10^(results_lead$Log10_qval) < thresh05\n",
    "results_lead$flag_fdr20 = 10^(results_lead$Log10_qval) < thresh20\n",
    "df = rbind(df, c(thresh10, sum(results_lead$flag_fdr10, na.rm=T) , \n",
    "                   thresh05, sum(results_lead$flag_fdr05, na.rm=T),\n",
    "                   thresh20, sum(results_lead$flag_fdr20, na.rm=T)))\n",
    "\n",
    "write.table(results_lead, paste0(c, \"/coaccessible_qtls/Results_coacc_run1_4s.tsv\"),sep=\"\\t\", quote=F, row.names=F)    \n",
    "\n",
    "}\n",
    "rownames(df) = celltypes\n",
    "colnames(df) = c('pval_fdr10%', 'caQTL_fdr10%', 'pval_fdr05%', 'caQTL_fdr05%','pval_fdr20%', 'caQTL_fdr20%')"
   ]
  },
  {
   "cell_type": "code",
   "execution_count": 51,
   "metadata": {},
   "outputs": [
    {
     "data": {
      "text/html": [
       "<table class=\"dataframe\">\n",
       "<caption>A data.frame: 4 × 6</caption>\n",
       "<thead>\n",
       "\t<tr><th></th><th scope=col>pval_fdr10%</th><th scope=col>caQTL_fdr10%</th><th scope=col>pval_fdr05%</th><th scope=col>caQTL_fdr05%</th><th scope=col>pval_fdr20%</th><th scope=col>caQTL_fdr20%</th></tr>\n",
       "\t<tr><th></th><th scope=col>&lt;dbl&gt;</th><th scope=col>&lt;dbl&gt;</th><th scope=col>&lt;dbl&gt;</th><th scope=col>&lt;dbl&gt;</th><th scope=col>&lt;dbl&gt;</th><th scope=col>&lt;dbl&gt;</th></tr>\n",
       "</thead>\n",
       "<tbody>\n",
       "\t<tr><th scope=row>b</th><td>0.000000000</td><td> 0</td><td>0.000000000</td><td> 0</td><td>0.03879057</td><td> 5</td></tr>\n",
       "\t<tr><th scope=row>mono</th><td>0.000000000</td><td> 0</td><td>0.000000000</td><td> 0</td><td>0.00000000</td><td> 0</td></tr>\n",
       "\t<tr><th scope=row>nk</th><td>0.037471138</td><td>16</td><td>0.025473011</td><td>10</td><td>0.04900932</td><td>25</td></tr>\n",
       "\t<tr><th scope=row>t</th><td>0.003643791</td><td> 2</td><td>0.003643791</td><td> 2</td><td>0.02111833</td><td>54</td></tr>\n",
       "</tbody>\n",
       "</table>\n"
      ],
      "text/latex": [
       "A data.frame: 4 × 6\n",
       "\\begin{tabular}{r|llllll}\n",
       "  & pval\\_fdr10\\% & caQTL\\_fdr10\\% & pval\\_fdr05\\% & caQTL\\_fdr05\\% & pval\\_fdr20\\% & caQTL\\_fdr20\\%\\\\\n",
       "  & <dbl> & <dbl> & <dbl> & <dbl> & <dbl> & <dbl>\\\\\n",
       "\\hline\n",
       "\tb & 0.000000000 &  0 & 0.000000000 &  0 & 0.03879057 &  5\\\\\n",
       "\tmono & 0.000000000 &  0 & 0.000000000 &  0 & 0.00000000 &  0\\\\\n",
       "\tnk & 0.037471138 & 16 & 0.025473011 & 10 & 0.04900932 & 25\\\\\n",
       "\tt & 0.003643791 &  2 & 0.003643791 &  2 & 0.02111833 & 54\\\\\n",
       "\\end{tabular}\n"
      ],
      "text/markdown": [
       "\n",
       "A data.frame: 4 × 6\n",
       "\n",
       "| <!--/--> | pval_fdr10% &lt;dbl&gt; | caQTL_fdr10% &lt;dbl&gt; | pval_fdr05% &lt;dbl&gt; | caQTL_fdr05% &lt;dbl&gt; | pval_fdr20% &lt;dbl&gt; | caQTL_fdr20% &lt;dbl&gt; |\n",
       "|---|---|---|---|---|---|---|\n",
       "| b | 0.000000000 |  0 | 0.000000000 |  0 | 0.03879057 |  5 |\n",
       "| mono | 0.000000000 |  0 | 0.000000000 |  0 | 0.00000000 |  0 |\n",
       "| nk | 0.037471138 | 16 | 0.025473011 | 10 | 0.04900932 | 25 |\n",
       "| t | 0.003643791 |  2 | 0.003643791 |  2 | 0.02111833 | 54 |\n",
       "\n"
      ],
      "text/plain": [
       "     pval_fdr10% caQTL_fdr10% pval_fdr05% caQTL_fdr05% pval_fdr20% caQTL_fdr20%\n",
       "b    0.000000000  0           0.000000000  0           0.03879057   5          \n",
       "mono 0.000000000  0           0.000000000  0           0.00000000   0          \n",
       "nk   0.037471138 16           0.025473011 10           0.04900932  25          \n",
       "t    0.003643791  2           0.003643791  2           0.02111833  54          "
      ]
     },
     "metadata": {},
     "output_type": "display_data"
    }
   ],
   "source": [
    "head(df)"
   ]
  },
  {
   "cell_type": "markdown",
   "metadata": {},
   "source": [
    "### Plot correlation"
   ]
  },
  {
   "cell_type": "code",
   "execution_count": 52,
   "metadata": {},
   "outputs": [],
   "source": [
    "library(scales)"
   ]
  },
  {
   "cell_type": "code",
   "execution_count": 53,
   "metadata": {},
   "outputs": [],
   "source": [
    "annot = read.table(\"/nfs/lab/projects/pbmc_snATAC/analysis_v2/run_cicero_paola/final_conns/peak_filtered.annotated.coaccessible.matrix\", header=T)"
   ]
  },
  {
   "cell_type": "code",
   "execution_count": 54,
   "metadata": {},
   "outputs": [],
   "source": [
    "loops = paste(annot [,1], annot[,2], sep=\"_\")"
   ]
  },
  {
   "cell_type": "code",
   "execution_count": 55,
   "metadata": {},
   "outputs": [],
   "source": [
    "annot$loops = loops"
   ]
  },
  {
   "cell_type": "code",
   "execution_count": 56,
   "metadata": {},
   "outputs": [
    {
     "data": {
      "text/html": [
       "<style>\n",
       ".list-inline {list-style: none; margin:0; padding: 0}\n",
       ".list-inline>li {display: inline-block}\n",
       ".list-inline>li:not(:last-child)::after {content: \"\\00b7\"; padding: 0 .5ex}\n",
       "</style>\n",
       "<ol class=list-inline><li>'b'</li><li>'mono'</li><li>'nk'</li><li>'t'</li></ol>\n"
      ],
      "text/latex": [
       "\\begin{enumerate*}\n",
       "\\item 'b'\n",
       "\\item 'mono'\n",
       "\\item 'nk'\n",
       "\\item 't'\n",
       "\\end{enumerate*}\n"
      ],
      "text/markdown": [
       "1. 'b'\n",
       "2. 'mono'\n",
       "3. 'nk'\n",
       "4. 't'\n",
       "\n",
       "\n"
      ],
      "text/plain": [
       "[1] \"b\"    \"mono\" \"nk\"   \"t\"   "
      ]
     },
     "metadata": {},
     "output_type": "display_data"
    }
   ],
   "source": [
    "celltypes"
   ]
  },
  {
   "cell_type": "code",
   "execution_count": 73,
   "metadata": {},
   "outputs": [
    {
     "data": {
      "text/html": [
       "<table class=\"dataframe\">\n",
       "<caption>A data.frame: 6 × 13</caption>\n",
       "<thead>\n",
       "\t<tr><th></th><th scope=col>coacPeak</th><th scope=col>varID</th><th scope=col>Feature</th><th scope=col>Effect_size.x</th><th scope=col>coaccess</th><th scope=col>rsID</th><th scope=col>dist</th><th scope=col>peak</th><th scope=col>Effect_size.y</th><th scope=col>P_VAl</th><th scope=col>flag_fdr20</th><th scope=col>loops</th><th scope=col>cell</th></tr>\n",
       "\t<tr><th></th><th scope=col>&lt;chr&gt;</th><th scope=col>&lt;chr&gt;</th><th scope=col>&lt;chr&gt;</th><th scope=col>&lt;dbl&gt;</th><th scope=col>&lt;dbl&gt;</th><th scope=col>&lt;chr&gt;</th><th scope=col>&lt;int&gt;</th><th scope=col>&lt;chr&gt;</th><th scope=col>&lt;dbl&gt;</th><th scope=col>&lt;dbl&gt;</th><th scope=col>&lt;lgl&gt;</th><th scope=col>&lt;chr&gt;</th><th scope=col>&lt;chr&gt;</th></tr>\n",
       "</thead>\n",
       "<tbody>\n",
       "\t<tr><th scope=row>11287</th><td>chr5:180259518-180259962 </td><td>chr5:180046209:C:T </td><td>chr5:180045837-180046502 </td><td>0.605030</td><td>0.13776666</td><td>rs446003  </td><td>213460</td><td>chr5_180045837_180046502 </td><td>0.643434</td><td>0.001607354</td><td>TRUE</td><td>chr5_180045837_180046502_chr5_180259518_180259962  </td><td>t</td></tr>\n",
       "\t<tr><th scope=row>2472</th><td>chr11:85491836-85493072  </td><td>chr11:85460909:G:C </td><td>chr11:85467369-85467794  </td><td>0.421823</td><td>0.20504717</td><td>rs613973  </td><td> 25278</td><td>chr11_85467369_85467794  </td><td>0.343554</td><td>0.005214914</td><td>TRUE</td><td>chr11_85467369_85467794_chr11_85491836_85493072    </td><td>t</td></tr>\n",
       "\t<tr><th scope=row>3700</th><td>chr14:32396406-32397082  </td><td>chr14:32414145:C:A </td><td>chr14:32413489-32414663  </td><td>0.752060</td><td>0.18365939</td><td>rs1278926 </td><td> 17581</td><td>chr14_32413489_32414663  </td><td>0.743535</td><td>0.006790374</td><td>TRUE</td><td>chr14_32396406_32397082_chr14_32413489_32414663    </td><td>t</td></tr>\n",
       "\t<tr><th scope=row>1198</th><td>chr10:126377332-126378010</td><td>chr10:126840928:A:G</td><td>chr10:126848835-126850448</td><td>0.613832</td><td>0.36744513</td><td>rs1693658 </td><td>472438</td><td>chr10_126848835_126850448</td><td>0.601313</td><td>0.007971481</td><td>TRUE</td><td>chr10_126377332_126378010_chr10_126848835_126850448</td><td>t</td></tr>\n",
       "\t<tr><th scope=row>12777</th><td>chr7:12428587-12429088   </td><td>chr7:12443688:A:G  </td><td>chr7:12442949-12444072   </td><td>0.724666</td><td>0.10732220</td><td>rs17443848</td><td> 14984</td><td>chr7_12442949_12444072   </td><td>0.644399</td><td>0.009422707</td><td>TRUE</td><td>chr7_12428587_12429088_chr7_12442949_12444072      </td><td>t</td></tr>\n",
       "\t<tr><th scope=row>8599</th><td>chr20:25241431-25242210  </td><td>chr20:25849068:C:G </td><td>chr20:25840471-25840819  </td><td>0.658942</td><td>0.05345598</td><td>rs3949256 </td><td>598609</td><td>chr20_25840471_25840819  </td><td>0.367492</td><td>0.009499438</td><td>TRUE</td><td>chr20_25241431_25242210_chr20_25840471_25840819    </td><td>t</td></tr>\n",
       "</tbody>\n",
       "</table>\n"
      ],
      "text/latex": [
       "A data.frame: 6 × 13\n",
       "\\begin{tabular}{r|lllllllllllll}\n",
       "  & coacPeak & varID & Feature & Effect\\_size.x & coaccess & rsID & dist & peak & Effect\\_size.y & P\\_VAl & flag\\_fdr20 & loops & cell\\\\\n",
       "  & <chr> & <chr> & <chr> & <dbl> & <dbl> & <chr> & <int> & <chr> & <dbl> & <dbl> & <lgl> & <chr> & <chr>\\\\\n",
       "\\hline\n",
       "\t11287 & chr5:180259518-180259962  & chr5:180046209:C:T  & chr5:180045837-180046502  & 0.605030 & 0.13776666 & rs446003   & 213460 & chr5\\_180045837\\_180046502  & 0.643434 & 0.001607354 & TRUE & chr5\\_180045837\\_180046502\\_chr5\\_180259518\\_180259962   & t\\\\\n",
       "\t2472 & chr11:85491836-85493072   & chr11:85460909:G:C  & chr11:85467369-85467794   & 0.421823 & 0.20504717 & rs613973   &  25278 & chr11\\_85467369\\_85467794   & 0.343554 & 0.005214914 & TRUE & chr11\\_85467369\\_85467794\\_chr11\\_85491836\\_85493072     & t\\\\\n",
       "\t3700 & chr14:32396406-32397082   & chr14:32414145:C:A  & chr14:32413489-32414663   & 0.752060 & 0.18365939 & rs1278926  &  17581 & chr14\\_32413489\\_32414663   & 0.743535 & 0.006790374 & TRUE & chr14\\_32396406\\_32397082\\_chr14\\_32413489\\_32414663     & t\\\\\n",
       "\t1198 & chr10:126377332-126378010 & chr10:126840928:A:G & chr10:126848835-126850448 & 0.613832 & 0.36744513 & rs1693658  & 472438 & chr10\\_126848835\\_126850448 & 0.601313 & 0.007971481 & TRUE & chr10\\_126377332\\_126378010\\_chr10\\_126848835\\_126850448 & t\\\\\n",
       "\t12777 & chr7:12428587-12429088    & chr7:12443688:A:G   & chr7:12442949-12444072    & 0.724666 & 0.10732220 & rs17443848 &  14984 & chr7\\_12442949\\_12444072    & 0.644399 & 0.009422707 & TRUE & chr7\\_12428587\\_12429088\\_chr7\\_12442949\\_12444072       & t\\\\\n",
       "\t8599 & chr20:25241431-25242210   & chr20:25849068:C:G  & chr20:25840471-25840819   & 0.658942 & 0.05345598 & rs3949256  & 598609 & chr20\\_25840471\\_25840819   & 0.367492 & 0.009499438 & TRUE & chr20\\_25241431\\_25242210\\_chr20\\_25840471\\_25840819     & t\\\\\n",
       "\\end{tabular}\n"
      ],
      "text/markdown": [
       "\n",
       "A data.frame: 6 × 13\n",
       "\n",
       "| <!--/--> | coacPeak &lt;chr&gt; | varID &lt;chr&gt; | Feature &lt;chr&gt; | Effect_size.x &lt;dbl&gt; | coaccess &lt;dbl&gt; | rsID &lt;chr&gt; | dist &lt;int&gt; | peak &lt;chr&gt; | Effect_size.y &lt;dbl&gt; | P_VAl &lt;dbl&gt; | flag_fdr20 &lt;lgl&gt; | loops &lt;chr&gt; | cell &lt;chr&gt; |\n",
       "|---|---|---|---|---|---|---|---|---|---|---|---|---|---|\n",
       "| 11287 | chr5:180259518-180259962  | chr5:180046209:C:T  | chr5:180045837-180046502  | 0.605030 | 0.13776666 | rs446003   | 213460 | chr5_180045837_180046502  | 0.643434 | 0.001607354 | TRUE | chr5_180045837_180046502_chr5_180259518_180259962   | t |\n",
       "| 2472 | chr11:85491836-85493072   | chr11:85460909:G:C  | chr11:85467369-85467794   | 0.421823 | 0.20504717 | rs613973   |  25278 | chr11_85467369_85467794   | 0.343554 | 0.005214914 | TRUE | chr11_85467369_85467794_chr11_85491836_85493072     | t |\n",
       "| 3700 | chr14:32396406-32397082   | chr14:32414145:C:A  | chr14:32413489-32414663   | 0.752060 | 0.18365939 | rs1278926  |  17581 | chr14_32413489_32414663   | 0.743535 | 0.006790374 | TRUE | chr14_32396406_32397082_chr14_32413489_32414663     | t |\n",
       "| 1198 | chr10:126377332-126378010 | chr10:126840928:A:G | chr10:126848835-126850448 | 0.613832 | 0.36744513 | rs1693658  | 472438 | chr10_126848835_126850448 | 0.601313 | 0.007971481 | TRUE | chr10_126377332_126378010_chr10_126848835_126850448 | t |\n",
       "| 12777 | chr7:12428587-12429088    | chr7:12443688:A:G   | chr7:12442949-12444072    | 0.724666 | 0.10732220 | rs17443848 |  14984 | chr7_12442949_12444072    | 0.644399 | 0.009422707 | TRUE | chr7_12428587_12429088_chr7_12442949_12444072       | t |\n",
       "| 8599 | chr20:25241431-25242210   | chr20:25849068:C:G  | chr20:25840471-25840819   | 0.658942 | 0.05345598 | rs3949256  | 598609 | chr20_25840471_25840819   | 0.367492 | 0.009499438 | TRUE | chr20_25241431_25242210_chr20_25840471_25840819     | t |\n",
       "\n"
      ],
      "text/plain": [
       "      coacPeak                  varID               Feature                  \n",
       "11287 chr5:180259518-180259962  chr5:180046209:C:T  chr5:180045837-180046502 \n",
       "2472  chr11:85491836-85493072   chr11:85460909:G:C  chr11:85467369-85467794  \n",
       "3700  chr14:32396406-32397082   chr14:32414145:C:A  chr14:32413489-32414663  \n",
       "1198  chr10:126377332-126378010 chr10:126840928:A:G chr10:126848835-126850448\n",
       "12777 chr7:12428587-12429088    chr7:12443688:A:G   chr7:12442949-12444072   \n",
       "8599  chr20:25241431-25242210   chr20:25849068:C:G  chr20:25840471-25840819  \n",
       "      Effect_size.x coaccess   rsID       dist   peak                     \n",
       "11287 0.605030      0.13776666 rs446003   213460 chr5_180045837_180046502 \n",
       "2472  0.421823      0.20504717 rs613973    25278 chr11_85467369_85467794  \n",
       "3700  0.752060      0.18365939 rs1278926   17581 chr14_32413489_32414663  \n",
       "1198  0.613832      0.36744513 rs1693658  472438 chr10_126848835_126850448\n",
       "12777 0.724666      0.10732220 rs17443848  14984 chr7_12442949_12444072   \n",
       "8599  0.658942      0.05345598 rs3949256  598609 chr20_25840471_25840819  \n",
       "      Effect_size.y P_VAl       flag_fdr20\n",
       "11287 0.643434      0.001607354 TRUE      \n",
       "2472  0.343554      0.005214914 TRUE      \n",
       "3700  0.743535      0.006790374 TRUE      \n",
       "1198  0.601313      0.007971481 TRUE      \n",
       "12777 0.644399      0.009422707 TRUE      \n",
       "8599  0.367492      0.009499438 TRUE      \n",
       "      loops                                               cell\n",
       "11287 chr5_180045837_180046502_chr5_180259518_180259962   t   \n",
       "2472  chr11_85467369_85467794_chr11_85491836_85493072     t   \n",
       "3700  chr14_32396406_32397082_chr14_32413489_32414663     t   \n",
       "1198  chr10_126377332_126378010_chr10_126848835_126850448 t   \n",
       "12777 chr7_12428587_12429088_chr7_12442949_12444072       t   \n",
       "8599  chr20_25241431_25242210_chr20_25840471_25840819     t   "
      ]
     },
     "metadata": {},
     "output_type": "display_data"
    }
   ],
   "source": [
    "head(m)"
   ]
  },
  {
   "cell_type": "code",
   "execution_count": 78,
   "metadata": {},
   "outputs": [
    {
     "name": "stdout",
     "output_type": "stream",
     "text": [
      "b   1712 \n",
      "mono   4752 \n",
      "nk   2222 \n",
      "t   6272 \n"
     ]
    },
    {
     "data": {
      "text/html": [
       "<strong>png:</strong> 2"
      ],
      "text/latex": [
       "\\textbf{png:} 2"
      ],
      "text/markdown": [
       "**png:** 2"
      ],
      "text/plain": [
       "png \n",
       "  2 "
      ]
     },
     "metadata": {},
     "output_type": "display_data"
    }
   ],
   "source": [
    "signif = data.frame()\n",
    "pdf(\"../../figures/Correlation_coacc_qtls_4s.pdf\")\n",
    "par(mfrow=c(2,2), mar =c(6,4,4,6))\n",
    "for (c in celltypes){\n",
    "coac_res = read.table(paste0(c, \"/coaccessible_qtls/Results_coacc_run1_4s.tsv\"), header=T)\n",
    "\n",
    "orig_res = read.table(paste0(c, \"/coaccessible_qtls/Tested_coaccessible_sites4s.txt\"), header=T)\n",
    "\n",
    "m = merge(orig_res[,c('coacPeak','varID','Feature', 'Effect_size', 'coaccess', 'rsID', \"dist\", \"peak\")],\n",
    "         coac_res[,c('Feature', 'rsID', 'Effect_size', 'P_VAl','flag_fdr20')], by=1:2)\n",
    "\n",
    "m    = m[order(m$P_VAl),]\n",
    "#m    = m[order(-m$coaccess),]\n",
    "\n",
    "#m = subset(m,coaccess>0.2 )    \n",
    "    \n",
    "## filter for PP and CP\n",
    "df   = paste( gsub(\":|-\", \"_\", m$coacPeak) , gsub(\":|-\", \"_\", m$Feature), sep=\"_\")\n",
    "ddf  = str_split_fixed(df, \"_\", 6 )\n",
    "test = t(apply(ddf[,c(2,3,5,6)], 1, function(x) sort(as.numeric(x))))\n",
    "lp   = paste(ddf[,1], test[,1], test[,2], ddf[,1], test[,3], test[,4], sep=\"_\")\n",
    "m$loops = lp\n",
    "m       = m[lp %in% loops,]\n",
    "#m       = merge(m, annot, by=\"loops\")\n",
    "#m = m[m$peak != apply(m[,c('prom_side', 'Peak1', 'Peak2')],1 ,function(x) x[2:3][(x[1]==\"B\")+1]),]\n",
    "               \n",
    "               \n",
    "m$cell = c\n",
    "  cat (c,\" \", nrow(m), \"\\n\")             \n",
    "signif = rbind(signif, subset(m,flag_fdr20==TRUE ))\n",
    "\n",
    "msub = subset(m , !duplicated(m$Feature))\n",
    "\n",
    "co = cor.test(msub$Effect_size.x, msub$Effect_size.y, method=\"pearson\")$estimate\n",
    "\n",
    "plot(Effect_size.y~Effect_size.x, msub, main =c, cex=0.8, xlim=c(0.1, 0.9),\n",
    "     pch = 19, col=alpha('#756bb1',0.5), xlab = \"Effect size caQTL peak\", \n",
    "     ylab =\"Effect size coacc. peak\")\n",
    "abline(h=0.5, v=0.5)\n",
    "abline(lm(Effect_size.y~Effect_size.x, msub), lwd=2)\n",
    "mtext(paste(\"r=\", round(co,2), \"n=\", nrow(msub)))\n",
    "}\n",
    "dev.off()"
   ]
  },
  {
   "cell_type": "code",
   "execution_count": 58,
   "metadata": {},
   "outputs": [],
   "source": [
    "signif_uni = subset(signif , !duplicated(signif$Feature))"
   ]
  },
  {
   "cell_type": "code",
   "execution_count": 79,
   "metadata": {},
   "outputs": [
    {
     "data": {
      "text/html": [
       "<style>\n",
       ".list-inline {list-style: none; margin:0; padding: 0}\n",
       ".list-inline>li {display: inline-block}\n",
       ".list-inline>li:not(:last-child)::after {content: \"\\00b7\"; padding: 0 .5ex}\n",
       "</style>\n",
       "<ol class=list-inline><li>19</li><li>13</li></ol>\n"
      ],
      "text/latex": [
       "\\begin{enumerate*}\n",
       "\\item 19\n",
       "\\item 13\n",
       "\\end{enumerate*}\n"
      ],
      "text/markdown": [
       "1. 19\n",
       "2. 13\n",
       "\n",
       "\n"
      ],
      "text/plain": [
       "[1] 19 13"
      ]
     },
     "metadata": {},
     "output_type": "display_data"
    }
   ],
   "source": [
    "dim(signif_uni)"
   ]
  },
  {
   "cell_type": "code",
   "execution_count": 59,
   "metadata": {},
   "outputs": [
    {
     "data": {
      "image/png": "[encoded data removed]",
      "text/plain": [
       "Plot with title “t”"
      ]
     },
     "metadata": {
      "image/png": {
       "height": 420,
       "width": 420
      }
     },
     "output_type": "display_data"
    }
   ],
   "source": [
    "plot(Effect_size.y~Effect_size.x, signif_uni, main =c, cex=0.8,\n",
    "     pch = 19, col=alpha('#756bb1',0.5), xlab = \"Effect size caQTL peak\", \n",
    "     ylab =\"Effect size coacc. peak\")\n"
   ]
  },
  {
   "cell_type": "code",
   "execution_count": 75,
   "metadata": {},
   "outputs": [
    {
     "data": {
      "text/html": [
       "<strong>png:</strong> 2"
      ],
      "text/latex": [
       "\\textbf{png:} 2"
      ],
      "text/markdown": [
       "**png:** 2"
      ],
      "text/plain": [
       "png \n",
       "  2 "
      ]
     },
     "metadata": {},
     "output_type": "display_data"
    }
   ],
   "source": [
    "pdf(\"../../figures/Correlation_coacc_qtls_coaccess_thresholds_4ss.pdf\")\n",
    "par(mfrow=c(4,5), mar=c(3,2,3,1))\n",
    "for (c in celltypes){\n",
    "coac_res = read.table(paste0(c, \"/coaccessible_qtls/Results_coacc_run1_4s.tsv\"), header=T)\n",
    "\n",
    "orig_res = read.table(paste0(c, \"/coaccessible_qtls/Tested_coaccessible_sites4s.txt\"), header=T)\n",
    "\n",
    "m = merge(orig_res[,c('coacPeak','varID','Feature', 'Effect_size', 'coaccess', 'rsID', \"dist\")],\n",
    "         coac_res[,c('Feature', 'rsID', 'Effect_size', 'P_VAl','flag_fdr20')], by=1:2)\n",
    "\n",
    "m    = m[order(m$P_VAl),]\n",
    "m    = m[order(-m$coaccess),]\n",
    "\n",
    "## filter for PP and CP\n",
    "df   = paste( gsub(\":|-\", \"_\", m$coacPeak) , gsub(\":|-\", \"_\", m$Feature), sep=\"_\")\n",
    "ddf  = str_split_fixed(df, \"_\", 6 )\n",
    "test = t(apply(ddf[,c(2,3,5,6)], 1, function(x) sort(as.numeric(x))))\n",
    "lp   = paste(ddf[,1], test[,1], test[,2], ddf[,1], test[,3], test[,4], sep=\"_\")\n",
    "m$loops = lp\n",
    "msub    = m[lp %in% loops,]\n",
    "\n",
    "msub$cell = c\n",
    "\n",
    "#msub$dist_quantiles = cut(msub$dist/1000, breaks=c(10,50,100, 200, 350, 1000))\n",
    "msub$dist_quantiles = cut(msub$coaccess, breaks=c(0.05,0.1,0.2, 0.3, 0.4, 1))\n",
    "\n",
    "sp = split(msub, msub$dist_quantiles)\n",
    "\n",
    "\n",
    "for (j in 1:5){\n",
    "mdist = sp[[j]]\n",
    "mdist  = subset(mdist , !duplicated(mdist$Feature))\n",
    "co = cor.test(mdist$Effect_size.x, mdist$Effect_size.y, method=\"pearson\")$estimate\n",
    "\n",
    "plot(Effect_size.y~Effect_size.x, mdist, main =mdist[1,'dist_quantiles'], cex=0.8,\n",
    "     pch = 19, col=alpha('#756bb1',0.5), xlab = \"Effect size caQTL peak\",  xlim=c(0.15, 0.85),\n",
    "     ylab =\"Effect size coacc. peak\")\n",
    "abline(h=0.5, v=0.5)\n",
    "abline(lm(Effect_size.y~Effect_size.x, mdist), lwd=2)\n",
    "mtext(paste(\"r=\", round(co,2), \"n=\", nrow(mdist)), cex = 0.75)\n",
    "}\n",
    "               }\n",
    "dev.off()"
   ]
  },
  {
   "cell_type": "code",
   "execution_count": 61,
   "metadata": {},
   "outputs": [],
   "source": [
    "signif       = merge(signif, annot, by=\"loops\")\n",
    "signif = signif[signif$peak != apply(signif[,c('prom_side', 'Peak1', 'Peak2')],1 ,function(x) x[2:3][(x[1]==\"B\")+1]),]\n"
   ]
  },
  {
   "cell_type": "code",
   "execution_count": null,
   "metadata": {},
   "outputs": [],
   "source": []
  }
 ],
 "metadata": {
  "kernelspec": {
   "display_name": "R 4.1",
   "language": "R",
   "name": "ir41"
  },
  "language_info": {
   "codemirror_mode": "r",
   "file_extension": ".r",
   "mimetype": "text/x-r-source",
   "name": "R",
   "pygments_lexer": "r",
   "version": "4.1.1"
  }
 },
 "nbformat": 4,
 "nbformat_minor": 2
}
