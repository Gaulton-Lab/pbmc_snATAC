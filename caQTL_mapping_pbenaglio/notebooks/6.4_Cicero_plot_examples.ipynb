{
 "cells": [
  {
   "cell_type": "code",
   "execution_count": 1,
   "id": "8747d3e0",
   "metadata": {},
   "outputs": [],
   "source": [
    "suppressPackageStartupMessages(library(cicero))\n",
    "suppressPackageStartupMessages(library(stringr))\n",
    "suppressPackageStartupMessages(library(data.table))\n",
    "suppressPackageStartupMessages(library(parallel))"
   ]
  },
  {
   "cell_type": "code",
   "execution_count": 3,
   "id": "200ea515",
   "metadata": {},
   "outputs": [],
   "source": [
    "setwd('/nfs/lab/projects/pbmc_snATAC/analysis_v2/run_cicero_paola')"
   ]
  },
  {
   "cell_type": "code",
   "execution_count": 4,
   "id": "6ac5247d",
   "metadata": {},
   "outputs": [],
   "source": [
    "gene_annotation <- read.table('gencode.v19.cicero_gene_annotation.txt', header=T, stringsAsFactors=FALSE)\n",
    "gene_annotation <- gene_annotation[gene_annotation[['feature']]=='protein_coding',]"
   ]
  },
  {
   "cell_type": "code",
   "execution_count": 22,
   "id": "c14f4794",
   "metadata": {},
   "outputs": [],
   "source": [
    "filtmat = read.table(\"final_conns/annotated.coaccessible.matrix4s\", header=T)"
   ]
  },
  {
   "cell_type": "code",
   "execution_count": 23,
   "id": "6ebbfb6b",
   "metadata": {},
   "outputs": [],
   "source": [
    "cp = subset(filtmat,type==\"CP\")"
   ]
  },
  {
   "cell_type": "code",
   "execution_count": 24,
   "id": "162f7fba",
   "metadata": {},
   "outputs": [],
   "source": [
    "connst = cp[,c('Peak1', 'Peak2', 't')]\n",
    "#connst = filtmat[,c('Peak1', 'Peak2', 't')]\n",
    "colnames(connst)[3]= \"coaccess\"\n",
    "connst = connst[complete.cases(connst),]"
   ]
  },
  {
   "cell_type": "code",
   "execution_count": 27,
   "id": "2baa3440",
   "metadata": {},
   "outputs": [
    {
     "data": {
      "text/html": [
       "<strong>png:</strong> 2"
      ],
      "text/latex": [
       "\\textbf{png:} 2"
      ],
      "text/markdown": [
       "**png:** 2"
      ],
      "text/plain": [
       "png \n",
       "  2 "
      ]
     },
     "metadata": {},
     "output_type": "display_data"
    }
   ],
   "source": [
    "pdf(\"Example_GSC.pdf\")\n",
    "plot_connections(connst, 'chr14', 95216075 ,95432916, \n",
    "                 connection_color = \"red\",\n",
    "                 viewpoint =  'chr14:95411884-95413043',\n",
    "                gene_model = gene_annotation, \n",
    "                coaccess_cutoff = 0.05, alpha_by_coaccess = TRUE,\n",
    "                connection_width = 2, \n",
    "                collapseTranscripts = \"longest\" )\n",
    "dev.off()"
   ]
  },
  {
   "cell_type": "code",
   "execution_count": null,
   "id": "1ad5118e",
   "metadata": {},
   "outputs": [],
   "source": [
    "chr6:90,038,953-91,077,831"
   ]
  },
  {
   "cell_type": "code",
   "execution_count": 39,
   "id": "2e0a3105",
   "metadata": {},
   "outputs": [
    {
     "data": {
      "text/html": [
       "<strong>png:</strong> 2"
      ],
      "text/latex": [
       "\\textbf{png:} 2"
      ],
      "text/markdown": [
       "**png:** 2"
      ],
      "text/plain": [
       "png \n",
       "  2 "
      ]
     },
     "metadata": {},
     "output_type": "display_data"
    }
   ],
   "source": [
    "pdf(\"Example_BACH2.pdf\")\n",
    "plot_connections(connst, \"chr6\", 90700000,91200000,\n",
    "                 connection_color = \"red\",\n",
    "                 viewpoint =  'chr6_90976592_90977416',\n",
    "                gene_model = gene_annotation, \n",
    "                coaccess_cutoff = 0.05, alpha_by_coaccess = TRUE,\n",
    "                connection_width = 2, \n",
    "                collapseTranscripts = \"longest\" )\n",
    "dev.off()"
   ]
  },
  {
   "cell_type": "code",
   "execution_count": 40,
   "id": "c17ecbae",
   "metadata": {},
   "outputs": [
    {
     "data": {
      "text/html": [
       "<strong>png:</strong> 2"
      ],
      "text/latex": [
       "\\textbf{png:} 2"
      ],
      "text/markdown": [
       "**png:** 2"
      ],
      "text/plain": [
       "png \n",
       "  2 "
      ]
     },
     "metadata": {},
     "output_type": "display_data"
    }
   ],
   "source": [
    "pdf(\"Example_CXCR5.pdf\")\n",
    "plot_connections(connst, \"chr11\", 118400000,118900000,\n",
    "                 connection_color = \"red\",\n",
    "                 viewpoint =  'chr11_118743054_118743481',\n",
    "                gene_model = gene_annotation, \n",
    "                coaccess_cutoff = 0.05, alpha_by_coaccess = TRUE,\n",
    "                connection_width = 2, \n",
    "                collapseTranscripts = \"longest\" )\n",
    "dev.off()"
   ]
  },
  {
   "cell_type": "code",
   "execution_count": 37,
   "id": "58db945b",
   "metadata": {},
   "outputs": [],
   "source": [
    "connsb = cp[,c('Peak1', 'Peak2', 'b')]\n",
    "colnames(connsb)[3]= \"coaccess\"\n",
    "connsb = connsb[complete.cases(connsb),]"
   ]
  },
  {
   "cell_type": "code",
   "execution_count": 43,
   "id": "3b4c3886",
   "metadata": {},
   "outputs": [],
   "source": [
    "connsm = cp[,c('Peak1', 'Peak2', 'mono')]\n",
    "colnames(connsm)[3]= \"coaccess\"\n",
    "connsm = connsm[complete.cases(connsm),]"
   ]
  },
  {
   "cell_type": "code",
   "execution_count": 45,
   "id": "f920d26f",
   "metadata": {},
   "outputs": [],
   "source": [
    "connsn = cp[,c('Peak1', 'Peak2', 'nk')]\n",
    "colnames(connsn)[3]= \"coaccess\"\n",
    "connsn = connsn[complete.cases(connsn),]"
   ]
  },
  {
   "cell_type": "code",
   "execution_count": 48,
   "id": "c5c86321",
   "metadata": {},
   "outputs": [
    {
     "data": {
      "text/html": [
       "<strong>png:</strong> 2"
      ],
      "text/latex": [
       "\\textbf{png:} 2"
      ],
      "text/markdown": [
       "**png:** 2"
      ],
      "text/plain": [
       "png \n",
       "  2 "
      ]
     },
     "metadata": {},
     "output_type": "display_data"
    }
   ],
   "source": [
    "pdf(\"Example_NINJ2.pdf\")\n",
    "plot_connections(connst, \"chr12\", 295800,1138400, comparison_connection_color = \"red\",\n",
    "                 connection_color = \"red\",\n",
    "                 viewpoint =  'chr12_739181_740753',\n",
    "                 comparison_track = connsm,\n",
    "                gene_model = gene_annotation, \n",
    "                coaccess_cutoff = 0.05, alpha_by_coaccess = TRUE,\n",
    "                connection_width = 2, \n",
    "                collapseTranscripts = \"longest\" )\n",
    "dev.off()"
   ]
  },
  {
   "cell_type": "code",
   "execution_count": 54,
   "id": "170e48e3",
   "metadata": {},
   "outputs": [
    {
     "data": {
      "text/html": [
       "<strong>png:</strong> 2"
      ],
      "text/latex": [
       "\\textbf{png:} 2"
      ],
      "text/markdown": [
       "**png:** 2"
      ],
      "text/plain": [
       "png \n",
       "  2 "
      ]
     },
     "metadata": {},
     "output_type": "display_data"
    }
   ],
   "source": [
    "pdf(\"Example_cc20.pdf\")\n",
    "plot_connections(connst, \"chr2\", 227830402,229027101, #comparison_connection_color = \"red\",\n",
    "                 connection_color = \"red\",\n",
    "                 viewpoint =  'chr2_228669766_228670866',\n",
    "                # comparison_track = connsm,\n",
    "                gene_model = gene_annotation, \n",
    "                coaccess_cutoff = 0.05, alpha_by_coaccess = TRUE,\n",
    "                connection_width = 2, \n",
    "                collapseTranscripts = \"longest\" )\n",
    "dev.off()"
   ]
  },
  {
   "cell_type": "code",
   "execution_count": null,
   "id": "c13faf13",
   "metadata": {},
   "outputs": [],
   "source": []
  }
 ],
 "metadata": {
  "kernelspec": {
   "display_name": "R 4.1",
   "language": "R",
   "name": "ir41"
  },
  "language_info": {
   "codemirror_mode": "r",
   "file_extension": ".r",
   "mimetype": "text/x-r-source",
   "name": "R",
   "pygments_lexer": "r",
   "version": "4.1.1"
  }
 },
 "nbformat": 4,
 "nbformat_minor": 5
}
