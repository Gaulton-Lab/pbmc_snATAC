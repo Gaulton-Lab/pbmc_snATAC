{
 "cells": [
  {
   "cell_type": "code",
   "execution_count": 3,
   "id": "74ad8faf",
   "metadata": {},
   "outputs": [],
   "source": [
    "maindir     = '/nfs/lab/projects/pbmc_snATAC/analysis_v2/rasqual/subsample_test/'\n",
    "setwd(maindir)"
   ]
  },
  {
   "cell_type": "code",
   "execution_count": 1,
   "id": "c7f394e6",
   "metadata": {},
   "outputs": [],
   "source": [
    "library(tidyr)"
   ]
  },
  {
   "cell_type": "code",
   "execution_count": 2,
   "id": "6ac8b705",
   "metadata": {},
   "outputs": [],
   "source": [
    "cellnumber = c(10,25,50,100,250,500,1000,2000)"
   ]
  },
  {
   "cell_type": "code",
   "execution_count": 4,
   "id": "81ad2c6f",
   "metadata": {},
   "outputs": [],
   "source": [
    "celltypes = paste0(\"sub\", c(10,25,50,100,250,500,1000,2000))"
   ]
  },
  {
   "cell_type": "code",
   "execution_count": 5,
   "id": "2c3c2927",
   "metadata": {},
   "outputs": [],
   "source": [
    "res_tot = data.frame()\n",
    "for (c in celltypes) {\n",
    "results_lead       = read.table(paste0(c, \"/Results_run1_lead.tsv\"), header=T, stringsAsFactors = F)\n",
    "    results_lead$cell = c\n",
    "res_tot = rbind(res_tot, results_lead)\n",
    "    }"
   ]
  },
  {
   "cell_type": "code",
   "execution_count": 6,
   "id": "468ea157",
   "metadata": {},
   "outputs": [],
   "source": [
    "mono = read.table(paste0('/nfs/lab/projects/pbmc_snATAC/analysis_v2/rasqual_eur/fine/cMono', \"/Results_run3_lead.tsv\"), header=T, stringsAsFactors = F)\n",
    "mono$exclude = mono$Sequencing_mapping_error_rate>0.1 | mono$Ref_allele_bias<0.2 | mono$Ref_allele_bias>0.8\n",
    "mono $cell =\"cMono\"\n",
    "res_tot = rbind(res_tot, mono)"
   ]
  },
  {
   "cell_type": "code",
   "execution_count": 7,
   "id": "f633b37c",
   "metadata": {},
   "outputs": [],
   "source": [
    "res_tot$signif = res_tot$flag_fdr10 & res_tot$exclude==FALSE\n"
   ]
  },
  {
   "cell_type": "code",
   "execution_count": 8,
   "id": "21c26241",
   "metadata": {},
   "outputs": [],
   "source": [
    "wide = spread(data = res_tot[,c('Feature', 'cell', 'signif')], key=cell, value =signif )"
   ]
  },
  {
   "cell_type": "code",
   "execution_count": 9,
   "id": "c8700545",
   "metadata": {},
   "outputs": [],
   "source": [
    "pct = setNames(rep(NA,8),celltypes)\n",
    "numb = setNames(rep(NA,8),celltypes)\n",
    "for (c in celltypes){\n",
    "    \n",
    "    c1 =subset(wide, wide[,c]==TRUE)\n",
    "    pct[c]   <- sum(c1[,\"cMono\"], na.rm=T)/sum( c1[,c])\n",
    "    numb[c]     <- sum( c1[,c]) \n",
    "}"
   ]
  },
  {
   "cell_type": "code",
   "execution_count": 10,
   "id": "b735a490",
   "metadata": {},
   "outputs": [
    {
     "data": {
      "text/html": [
       "<style>\n",
       ".dl-inline {width: auto; margin:0; padding: 0}\n",
       ".dl-inline>dt, .dl-inline>dd {float: none; width: auto; display: inline-block}\n",
       ".dl-inline>dt::after {content: \":\\0020\"; padding-right: .5ex}\n",
       ".dl-inline>dt:not(:first-of-type) {padding-left: .5ex}\n",
       "</style><dl class=dl-inline><dt>sub10</dt><dd>0</dd><dt>sub25</dt><dd>1</dd><dt>sub50</dt><dd>0.625</dd><dt>sub100</dt><dd>0.815217391304348</dd><dt>sub250</dt><dd>0.855</dd><dt>sub500</dt><dd>0.824509803921569</dd><dt>sub1000</dt><dd>0.815911730545877</dd><dt>sub2000</dt><dd>0.83668430335097</dd></dl>\n"
      ],
      "text/latex": [
       "\\begin{description*}\n",
       "\\item[sub10] 0\n",
       "\\item[sub25] 1\n",
       "\\item[sub50] 0.625\n",
       "\\item[sub100] 0.815217391304348\n",
       "\\item[sub250] 0.855\n",
       "\\item[sub500] 0.824509803921569\n",
       "\\item[sub1000] 0.815911730545877\n",
       "\\item[sub2000] 0.83668430335097\n",
       "\\end{description*}\n"
      ],
      "text/markdown": [
       "sub10\n",
       ":   0sub25\n",
       ":   1sub50\n",
       ":   0.625sub100\n",
       ":   0.815217391304348sub250\n",
       ":   0.855sub500\n",
       ":   0.824509803921569sub1000\n",
       ":   0.815911730545877sub2000\n",
       ":   0.83668430335097\n",
       "\n"
      ],
      "text/plain": [
       "    sub10     sub25     sub50    sub100    sub250    sub500   sub1000   sub2000 \n",
       "0.0000000 1.0000000 0.6250000 0.8152174 0.8550000 0.8245098 0.8159117 0.8366843 "
      ]
     },
     "metadata": {},
     "output_type": "display_data"
    }
   ],
   "source": [
    "pct"
   ]
  },
  {
   "cell_type": "code",
   "execution_count": 11,
   "id": "bb2d2b7d",
   "metadata": {},
   "outputs": [],
   "source": [
    "df = data.frame(no_cells=cellnumber, caQTLs_fdr10 = numb, recall_original = pct )"
   ]
  },
  {
   "cell_type": "code",
   "execution_count": 12,
   "id": "62981ef1",
   "metadata": {},
   "outputs": [
    {
     "data": {
      "image/png": "[encoded data removed]",
      "text/plain": [
       "plot without title"
      ]
     },
     "metadata": {
      "image/png": {
       "height": 420,
       "width": 420
      }
     },
     "output_type": "display_data"
    }
   ],
   "source": [
    "par(mfrow=c(2,1), mar = c(4,4,1,4))\n",
    "plot(df[,1:2], pch= 20, cex=1.5)\n",
    "plot(df[,c(1,3)], pch=20, cex=1.5 )"
   ]
  },
  {
   "cell_type": "code",
   "execution_count": 14,
   "id": "c70bc53d",
   "metadata": {},
   "outputs": [],
   "source": [
    "library(qvalue)\n",
    "library(data.table)"
   ]
  },
  {
   "cell_type": "code",
   "execution_count": 16,
   "id": "334638ed",
   "metadata": {},
   "outputs": [],
   "source": [
    "pi = setNames(rep(NA,8),celltypes)\n",
    "\n",
    "for(ce in celltypes){\n",
    "res = subset(res_tot, cell==ce & flag_fdr10==TRUE & exclude==FALSE)\n",
    "qt  = res[,c('Feature', \"rsID\")]\n",
    "    if (nrow(qt)>1){\n",
    "    \n",
    "        res2 =  merge(qt, mono, by=c('Feature','rsID')) \n",
    "         if(nrow(res2)>1){\n",
    "            pv2 = c(na.omit(res2$P_VAl), 1) #### escamotage\n",
    "           if(length(pv2)>1){\n",
    "            qobj <- qvalue(pv2)\n",
    "        pi[ce] =  1 - qobj$pi0\n",
    "            }\n",
    "    }\n",
    "}\n",
    "    }\n",
    "    \n",
    "    "
   ]
  },
  {
   "cell_type": "code",
   "execution_count": 18,
   "id": "4c3e47e8",
   "metadata": {},
   "outputs": [
    {
     "data": {
      "text/html": [
       "<style>\n",
       ".dl-inline {width: auto; margin:0; padding: 0}\n",
       ".dl-inline>dt, .dl-inline>dd {float: none; width: auto; display: inline-block}\n",
       ".dl-inline>dt::after {content: \":\\0020\"; padding-right: .5ex}\n",
       ".dl-inline>dt:not(:first-of-type) {padding-left: .5ex}\n",
       "</style><dl class=dl-inline><dt>sub10</dt><dd>&lt;NA&gt;</dd><dt>sub25</dt><dd>&lt;NA&gt;</dd><dt>sub50</dt><dd>0</dd><dt>sub100</dt><dd>0.676622269767339</dd><dt>sub250</dt><dd>0.942107523089949</dd><dt>sub500</dt><dd>0.978912958874426</dd><dt>sub1000</dt><dd>0.987555410494152</dd><dt>sub2000</dt><dd>0.995291168896302</dd></dl>\n"
      ],
      "text/latex": [
       "\\begin{description*}\n",
       "\\item[sub10] <NA>\n",
       "\\item[sub25] <NA>\n",
       "\\item[sub50] 0\n",
       "\\item[sub100] 0.676622269767339\n",
       "\\item[sub250] 0.942107523089949\n",
       "\\item[sub500] 0.978912958874426\n",
       "\\item[sub1000] 0.987555410494152\n",
       "\\item[sub2000] 0.995291168896302\n",
       "\\end{description*}\n"
      ],
      "text/markdown": [
       "sub10\n",
       ":   &lt;NA&gt;sub25\n",
       ":   &lt;NA&gt;sub50\n",
       ":   0sub100\n",
       ":   0.676622269767339sub250\n",
       ":   0.942107523089949sub500\n",
       ":   0.978912958874426sub1000\n",
       ":   0.987555410494152sub2000\n",
       ":   0.995291168896302\n",
       "\n"
      ],
      "text/plain": [
       "    sub10     sub25     sub50    sub100    sub250    sub500   sub1000   sub2000 \n",
       "       NA        NA 0.0000000 0.6766223 0.9421075 0.9789130 0.9875554 0.9952912 "
      ]
     },
     "metadata": {},
     "output_type": "display_data"
    }
   ],
   "source": [
    "pi"
   ]
  },
  {
   "cell_type": "code",
   "execution_count": 19,
   "id": "cdcfd30d",
   "metadata": {},
   "outputs": [],
   "source": [
    "pi = setNames(rep(NA,8),celltypes)\n",
    "\n",
    "for(ce in celltypes){\n",
    "res = subset(res_tot, cell==ce & flag_fdr10==TRUE & exclude==FALSE)\n",
    "qt  = res[,c('Feature', \"rsID\")]\n",
    "    if (nrow(qt)>1){\n",
    "    \n",
    "        res2 =  merge(qt, mono, by=c('Feature')) \n",
    "         if(nrow(res2)>1){\n",
    "            pv2 = c(na.omit(res2$P_VAl), 1) #### escamotage\n",
    "           if(length(pv2)>1){\n",
    "            qobj <- qvalue(pv2)\n",
    "        pi[ce] =  1 - qobj$pi0\n",
    "            }\n",
    "    }\n",
    "}\n",
    "    }\n",
    "  "
   ]
  },
  {
   "cell_type": "code",
   "execution_count": 20,
   "id": "16dccb1c",
   "metadata": {},
   "outputs": [
    {
     "data": {
      "text/html": [
       "<style>\n",
       ".dl-inline {width: auto; margin:0; padding: 0}\n",
       ".dl-inline>dt, .dl-inline>dd {float: none; width: auto; display: inline-block}\n",
       ".dl-inline>dt::after {content: \":\\0020\"; padding-right: .5ex}\n",
       ".dl-inline>dt:not(:first-of-type) {padding-left: .5ex}\n",
       "</style><dl class=dl-inline><dt>sub10</dt><dd>&lt;NA&gt;</dd><dt>sub25</dt><dd>0</dd><dt>sub50</dt><dd>0</dd><dt>sub100</dt><dd>0.877486463037568</dd><dt>sub250</dt><dd>0.96998320817769</dd><dt>sub500</dt><dd>0.989321084820906</dd><dt>sub1000</dt><dd>0.993061430878811</dd><dt>sub2000</dt><dd>0.996584871016339</dd></dl>\n"
      ],
      "text/latex": [
       "\\begin{description*}\n",
       "\\item[sub10] <NA>\n",
       "\\item[sub25] 0\n",
       "\\item[sub50] 0\n",
       "\\item[sub100] 0.877486463037568\n",
       "\\item[sub250] 0.96998320817769\n",
       "\\item[sub500] 0.989321084820906\n",
       "\\item[sub1000] 0.993061430878811\n",
       "\\item[sub2000] 0.996584871016339\n",
       "\\end{description*}\n"
      ],
      "text/markdown": [
       "sub10\n",
       ":   &lt;NA&gt;sub25\n",
       ":   0sub50\n",
       ":   0sub100\n",
       ":   0.877486463037568sub250\n",
       ":   0.96998320817769sub500\n",
       ":   0.989321084820906sub1000\n",
       ":   0.993061430878811sub2000\n",
       ":   0.996584871016339\n",
       "\n"
      ],
      "text/plain": [
       "    sub10     sub25     sub50    sub100    sub250    sub500   sub1000   sub2000 \n",
       "       NA 0.0000000 0.0000000 0.8774865 0.9699832 0.9893211 0.9930614 0.9965849 "
      ]
     },
     "metadata": {},
     "output_type": "display_data"
    }
   ],
   "source": [
    "pi"
   ]
  },
  {
   "cell_type": "code",
   "execution_count": 22,
   "id": "e80ed71d",
   "metadata": {},
   "outputs": [],
   "source": [
    "df$pi_orig<-pi"
   ]
  },
  {
   "cell_type": "code",
   "execution_count": 23,
   "id": "93f0319c",
   "metadata": {},
   "outputs": [
    {
     "data": {
      "text/html": [
       "<table class=\"dataframe\">\n",
       "<caption>A data.frame: 8 × 4</caption>\n",
       "<thead>\n",
       "\t<tr><th></th><th scope=col>no_cells</th><th scope=col>caQTLs_fdr10</th><th scope=col>recall_original</th><th scope=col>pi_orig</th></tr>\n",
       "\t<tr><th></th><th scope=col>&lt;dbl&gt;</th><th scope=col>&lt;int&gt;</th><th scope=col>&lt;dbl&gt;</th><th scope=col>&lt;dbl&gt;</th></tr>\n",
       "</thead>\n",
       "<tbody>\n",
       "\t<tr><th scope=row>sub10</th><td>  10</td><td>   1</td><td>0.0000000</td><td>       NA</td></tr>\n",
       "\t<tr><th scope=row>sub25</th><td>  25</td><td>   2</td><td>1.0000000</td><td>0.0000000</td></tr>\n",
       "\t<tr><th scope=row>sub50</th><td>  50</td><td>   8</td><td>0.6250000</td><td>0.0000000</td></tr>\n",
       "\t<tr><th scope=row>sub100</th><td> 100</td><td>  92</td><td>0.8152174</td><td>0.8774865</td></tr>\n",
       "\t<tr><th scope=row>sub250</th><td> 250</td><td> 400</td><td>0.8550000</td><td>0.9699832</td></tr>\n",
       "\t<tr><th scope=row>sub500</th><td> 500</td><td>1020</td><td>0.8245098</td><td>0.9893211</td></tr>\n",
       "\t<tr><th scope=row>sub1000</th><td>1000</td><td>1722</td><td>0.8159117</td><td>0.9930614</td></tr>\n",
       "\t<tr><th scope=row>sub2000</th><td>2000</td><td>2835</td><td>0.8366843</td><td>0.9965849</td></tr>\n",
       "</tbody>\n",
       "</table>\n"
      ],
      "text/latex": [
       "A data.frame: 8 × 4\n",
       "\\begin{tabular}{r|llll}\n",
       "  & no\\_cells & caQTLs\\_fdr10 & recall\\_original & pi\\_orig\\\\\n",
       "  & <dbl> & <int> & <dbl> & <dbl>\\\\\n",
       "\\hline\n",
       "\tsub10 &   10 &    1 & 0.0000000 &        NA\\\\\n",
       "\tsub25 &   25 &    2 & 1.0000000 & 0.0000000\\\\\n",
       "\tsub50 &   50 &    8 & 0.6250000 & 0.0000000\\\\\n",
       "\tsub100 &  100 &   92 & 0.8152174 & 0.8774865\\\\\n",
       "\tsub250 &  250 &  400 & 0.8550000 & 0.9699832\\\\\n",
       "\tsub500 &  500 & 1020 & 0.8245098 & 0.9893211\\\\\n",
       "\tsub1000 & 1000 & 1722 & 0.8159117 & 0.9930614\\\\\n",
       "\tsub2000 & 2000 & 2835 & 0.8366843 & 0.9965849\\\\\n",
       "\\end{tabular}\n"
      ],
      "text/markdown": [
       "\n",
       "A data.frame: 8 × 4\n",
       "\n",
       "| <!--/--> | no_cells &lt;dbl&gt; | caQTLs_fdr10 &lt;int&gt; | recall_original &lt;dbl&gt; | pi_orig &lt;dbl&gt; |\n",
       "|---|---|---|---|---|\n",
       "| sub10 |   10 |    1 | 0.0000000 |        NA |\n",
       "| sub25 |   25 |    2 | 1.0000000 | 0.0000000 |\n",
       "| sub50 |   50 |    8 | 0.6250000 | 0.0000000 |\n",
       "| sub100 |  100 |   92 | 0.8152174 | 0.8774865 |\n",
       "| sub250 |  250 |  400 | 0.8550000 | 0.9699832 |\n",
       "| sub500 |  500 | 1020 | 0.8245098 | 0.9893211 |\n",
       "| sub1000 | 1000 | 1722 | 0.8159117 | 0.9930614 |\n",
       "| sub2000 | 2000 | 2835 | 0.8366843 | 0.9965849 |\n",
       "\n"
      ],
      "text/plain": [
       "        no_cells caQTLs_fdr10 recall_original pi_orig  \n",
       "sub10     10        1         0.0000000              NA\n",
       "sub25     25        2         1.0000000       0.0000000\n",
       "sub50     50        8         0.6250000       0.0000000\n",
       "sub100   100       92         0.8152174       0.8774865\n",
       "sub250   250      400         0.8550000       0.9699832\n",
       "sub500   500     1020         0.8245098       0.9893211\n",
       "sub1000 1000     1722         0.8159117       0.9930614\n",
       "sub2000 2000     2835         0.8366843       0.9965849"
      ]
     },
     "metadata": {},
     "output_type": "display_data"
    }
   ],
   "source": [
    "df"
   ]
  },
  {
   "cell_type": "markdown",
   "id": "d9ad1fef",
   "metadata": {},
   "source": [
    "## Compare with the poplonly analysis"
   ]
  },
  {
   "cell_type": "code",
   "execution_count": 99,
   "id": "6ad3c0e1",
   "metadata": {},
   "outputs": [],
   "source": [
    "res_totp = data.frame()\n",
    "for (c in celltypes) {\n",
    "results_lead       = read.table(paste0(c, \"/Results_run3_lead.tsv\"), header=T, stringsAsFactors = F)\n",
    "    results_lead$cell = c\n",
    "res_totp = rbind(res_totp, results_lead)\n",
    "    }"
   ]
  },
  {
   "cell_type": "code",
   "execution_count": 100,
   "id": "b002867e",
   "metadata": {},
   "outputs": [],
   "source": [
    "# mono = read.table('/nfs/lab/projects/pbmc_snATAC/analysis_v2/rasqual_eur/fine/cMono/Results_pop1_lead.tsv', header=T, stringsAsFactors = F)\n",
    "# mono$exclude = mono$Sequencing_mapping_error_rate>0.1 | mono$Ref_allele_bias<0.2 | mono$Ref_allele_bias>0.8\n",
    "# mono $cell =\"cMono\"\n",
    " res_totp = rbind(res_totp, mono)"
   ]
  },
  {
   "cell_type": "code",
   "execution_count": 101,
   "id": "848e58a1",
   "metadata": {},
   "outputs": [],
   "source": [
    "res_totp$signif = res_totp$flag_fdr10 & res_totp$exclude==FALSE\n"
   ]
  },
  {
   "cell_type": "code",
   "execution_count": 102,
   "id": "2cddc290",
   "metadata": {},
   "outputs": [],
   "source": [
    "widep = spread(data = res_totp[,c('Feature', 'cell', 'signif')], key=cell, value =signif )"
   ]
  },
  {
   "cell_type": "code",
   "execution_count": 103,
   "id": "9c9b061b",
   "metadata": {},
   "outputs": [],
   "source": [
    "pct = setNames(rep(NA,8),celltypes)\n",
    "numb = setNames(rep(NA,8),celltypes)\n",
    "for (c in celltypes){\n",
    "    \n",
    "    c1 =subset(widep, widep[,c]==TRUE)\n",
    "    pct[c]   <- sum(c1[,\"cMono\"], na.rm=T)/sum( c1[,c])\n",
    "    numb[c]     <- sum( c1[,c]) \n",
    "}"
   ]
  },
  {
   "cell_type": "code",
   "execution_count": 104,
   "id": "e549642c",
   "metadata": {},
   "outputs": [],
   "source": [
    "dfp = data.frame(no_cells=cellnumber, caQTLs_fdr10 = numb, recall_original = pct )"
   ]
  },
  {
   "cell_type": "code",
   "execution_count": 105,
   "id": "e56a15f4",
   "metadata": {},
   "outputs": [
    {
     "data": {
      "text/html": [
       "<table class=\"dataframe\">\n",
       "<caption>A data.frame: 8 × 3</caption>\n",
       "<thead>\n",
       "\t<tr><th></th><th scope=col>no_cells</th><th scope=col>caQTLs_fdr10</th><th scope=col>recall_original</th></tr>\n",
       "\t<tr><th></th><th scope=col>&lt;dbl&gt;</th><th scope=col>&lt;int&gt;</th><th scope=col>&lt;dbl&gt;</th></tr>\n",
       "</thead>\n",
       "<tbody>\n",
       "\t<tr><th scope=row>sub10</th><td>  10</td><td>  0</td><td>      NaN</td></tr>\n",
       "\t<tr><th scope=row>sub25</th><td>  25</td><td>  0</td><td>      NaN</td></tr>\n",
       "\t<tr><th scope=row>sub50</th><td>  50</td><td>  0</td><td>      NaN</td></tr>\n",
       "\t<tr><th scope=row>sub100</th><td> 100</td><td> 13</td><td>0.9230769</td></tr>\n",
       "\t<tr><th scope=row>sub250</th><td> 250</td><td> 67</td><td>0.8656716</td></tr>\n",
       "\t<tr><th scope=row>sub500</th><td> 500</td><td> 63</td><td>0.8730159</td></tr>\n",
       "\t<tr><th scope=row>sub1000</th><td>1000</td><td>179</td><td>0.8659218</td></tr>\n",
       "\t<tr><th scope=row>sub2000</th><td>2000</td><td>323</td><td>0.9318885</td></tr>\n",
       "</tbody>\n",
       "</table>\n"
      ],
      "text/latex": [
       "A data.frame: 8 × 3\n",
       "\\begin{tabular}{r|lll}\n",
       "  & no\\_cells & caQTLs\\_fdr10 & recall\\_original\\\\\n",
       "  & <dbl> & <int> & <dbl>\\\\\n",
       "\\hline\n",
       "\tsub10 &   10 &   0 &       NaN\\\\\n",
       "\tsub25 &   25 &   0 &       NaN\\\\\n",
       "\tsub50 &   50 &   0 &       NaN\\\\\n",
       "\tsub100 &  100 &  13 & 0.9230769\\\\\n",
       "\tsub250 &  250 &  67 & 0.8656716\\\\\n",
       "\tsub500 &  500 &  63 & 0.8730159\\\\\n",
       "\tsub1000 & 1000 & 179 & 0.8659218\\\\\n",
       "\tsub2000 & 2000 & 323 & 0.9318885\\\\\n",
       "\\end{tabular}\n"
      ],
      "text/markdown": [
       "\n",
       "A data.frame: 8 × 3\n",
       "\n",
       "| <!--/--> | no_cells &lt;dbl&gt; | caQTLs_fdr10 &lt;int&gt; | recall_original &lt;dbl&gt; |\n",
       "|---|---|---|---|\n",
       "| sub10 |   10 |   0 |       NaN |\n",
       "| sub25 |   25 |   0 |       NaN |\n",
       "| sub50 |   50 |   0 |       NaN |\n",
       "| sub100 |  100 |  13 | 0.9230769 |\n",
       "| sub250 |  250 |  67 | 0.8656716 |\n",
       "| sub500 |  500 |  63 | 0.8730159 |\n",
       "| sub1000 | 1000 | 179 | 0.8659218 |\n",
       "| sub2000 | 2000 | 323 | 0.9318885 |\n",
       "\n"
      ],
      "text/plain": [
       "        no_cells caQTLs_fdr10 recall_original\n",
       "sub10     10       0                NaN      \n",
       "sub25     25       0                NaN      \n",
       "sub50     50       0                NaN      \n",
       "sub100   100      13          0.9230769      \n",
       "sub250   250      67          0.8656716      \n",
       "sub500   500      63          0.8730159      \n",
       "sub1000 1000     179          0.8659218      \n",
       "sub2000 2000     323          0.9318885      "
      ]
     },
     "metadata": {},
     "output_type": "display_data"
    }
   ],
   "source": [
    "dfp"
   ]
  }
 ],
 "metadata": {
  "kernelspec": {
   "display_name": "R 4.1",
   "language": "R",
   "name": "ir41"
  },
  "language_info": {
   "codemirror_mode": "r",
   "file_extension": ".r",
   "mimetype": "text/x-r-source",
   "name": "R",
   "pygments_lexer": "r",
   "version": "4.1.1"
  }
 },
 "nbformat": 4,
 "nbformat_minor": 5
}
