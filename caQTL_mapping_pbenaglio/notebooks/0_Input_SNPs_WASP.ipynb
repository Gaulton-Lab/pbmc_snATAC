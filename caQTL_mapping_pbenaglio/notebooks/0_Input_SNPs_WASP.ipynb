{
 "cells": [
  {
   "cell_type": "code",
   "execution_count": 1,
   "metadata": {},
   "outputs": [],
   "source": [
    "library(parallel)\n",
    "library(stringr)"
   ]
  },
  {
   "cell_type": "code",
   "execution_count": 2,
   "metadata": {},
   "outputs": [],
   "source": [
    "vcf_dir = '/nfs/lab/projects/pbmc_snATAC/pipeline/snp_array/final_vcfs/'"
   ]
  },
  {
   "cell_type": "code",
   "execution_count": 3,
   "metadata": {},
   "outputs": [],
   "source": [
    "outdir = '/nfs/lab/projects/pbmc_snATAC/analysis_v2/wasp_peaks/filtered_vcfs'"
   ]
  },
  {
   "cell_type": "code",
   "execution_count": 15,
   "metadata": {},
   "outputs": [],
   "source": [
    "bed     =  '/nfs/lab/projects/pbmc_snATAC/analysis_v2/peaks/pbmc.sorted.100pad.merged.bed'"
   ]
  },
  {
   "cell_type": "markdown",
   "metadata": {},
   "source": [
    "### FIlter original vcf files for just  snps in peaks, imputation quality and heterozygous genotype and remove indels"
   ]
  },
  {
   "cell_type": "code",
   "execution_count": 5,
   "metadata": {},
   "outputs": [],
   "source": [
    "    for (n in 1:22) {\n",
    "\n",
    "    vcf    = paste0(vcf_dir, \"/chr\",n ,'.PBMC.topmed.hg19.final.vcf.gz')\n",
    "      \n",
    "    outvcf = paste0(outdir, \"/chr\",n ,'.filt.vcf.gz')\n",
    "    system(paste('bcftools view', vcf ,\n",
    "    '-R' , bed, \n",
    "    \"-i \\'INFO/R2[0]>0.7\\' | bcftools view --types snps -g het -Oz -o\" , outvcf))\n",
    " \n",
    "        system(paste(\"tabix\", outvcf))\n",
    "    }"
   ]
  },
  {
   "cell_type": "code",
   "execution_count": 16,
   "metadata": {},
   "outputs": [],
   "source": [
    "#### actually keep the indels\n",
    " for (n in 1:22) {\n",
    "\n",
    "    vcf    = paste0(vcf_dir, \"/chr\",n ,'.PBMC.topmed.hg19.final.vcf.gz')\n",
    "      \n",
    "    outvcf = paste0(outdir, \"/chr\",n ,'.filt.vcf.gz')\n",
    "    system(paste('bcftools view', vcf ,\n",
    "    '-R' , bed, \n",
    "    \"-i \\'INFO/R2[0]>0.7\\' | bcftools view -g het -Oz -o\" , outvcf))\n",
    " \n",
    "        system(paste(\"tabix\", outvcf))\n",
    "    }\n"
   ]
  },
  {
   "cell_type": "code",
   "execution_count": 9,
   "metadata": {},
   "outputs": [],
   "source": [
    "ids = c(1,3:6, 8:10,12:15)"
   ]
  },
  {
   "cell_type": "code",
   "execution_count": 47,
   "metadata": {},
   "outputs": [],
   "source": [
    "for (n in ids) {\n",
    "    from   = paste0('/nfs/lab/projects/pbmc_snATAC/analysis_v2/wasp_peaks/PBMC', n, '/sc_bams')\n",
    "    newdir = paste0('/nfs/lab/projects/pbmc_snATAC/analysis_v2/wasp_peaks/singlecell/PBMC', n)\n",
    "    system(paste(\"mkdir\", newdir))\n",
    "   \n",
    "    system(paste(\"mv\", from, newdir))\n",
    "    \n",
    "    }"
   ]
  },
  {
   "cell_type": "code",
   "execution_count": 48,
   "metadata": {},
   "outputs": [],
   "source": [
    "dir = '/nfs/lab/projects/pbmc_snATAC/analysis_v2/wasp_peaks/bulk/PBMC3'"
   ]
  },
  {
   "cell_type": "code",
   "execution_count": 53,
   "metadata": {},
   "outputs": [],
   "source": [
    "tab = data.frame()\n",
    "for(n in 1:22){\n",
    "tab1 = read.table(paste0(dir, \"/snps/chr\", n, \".snps.txt.gz\"))\n",
    "tab1$chr = n    \n",
    "tab = rbind(tab, tab1)\n",
    "}"
   ]
  },
  {
   "cell_type": "code",
   "execution_count": 54,
   "metadata": {},
   "outputs": [
    {
     "data": {
      "text/html": [
       "<style>\n",
       ".list-inline {list-style: none; margin:0; padding: 0}\n",
       ".list-inline>li {display: inline-block}\n",
       ".list-inline>li:not(:last-child)::after {content: \"\\00b7\"; padding: 0 .5ex}\n",
       "</style>\n",
       "<ol class=list-inline><li>500044</li><li>4</li></ol>\n"
      ],
      "text/latex": [
       "\\begin{enumerate*}\n",
       "\\item 500044\n",
       "\\item 4\n",
       "\\end{enumerate*}\n"
      ],
      "text/markdown": [
       "1. 500044\n",
       "2. 4\n",
       "\n",
       "\n"
      ],
      "text/plain": [
       "[1] 500044      4"
      ]
     },
     "metadata": {},
     "output_type": "display_data"
    }
   ],
   "source": [
    "dim(tab)"
   ]
  },
  {
   "cell_type": "code",
   "execution_count": 57,
   "metadata": {},
   "outputs": [],
   "source": [
    "tab$size = apply(tab, 1, function(x) max(nchar(x[2]), nchar(x[3])))"
   ]
  },
  {
   "cell_type": "code",
   "execution_count": 59,
   "metadata": {},
   "outputs": [],
   "source": [
    "varlength = table(tab$size)"
   ]
  },
  {
   "cell_type": "code",
   "execution_count": 63,
   "metadata": {},
   "outputs": [
    {
     "data": {
      "text/plain": [
       "\n",
       "     1      2      3      4      5      6      7      8      9     10     11 \n",
       "468342  17547   4851   2780   2865    924    533    313    309    239    214 \n",
       "    12     13     14     15     16     17     18     19     20     21     22 \n",
       "   165    188     92    111     88     88     57     66     55     43     33 \n",
       "    23     24     25     26     27     28     29     30     31     32     33 \n",
       "    36     18     16     15      8     17      8      8      1      5      3 \n",
       "    37     38     40 \n",
       "     2      1      3 "
      ]
     },
     "metadata": {},
     "output_type": "display_data"
    }
   ],
   "source": [
    "varlength"
   ]
  },
  {
   "cell_type": "code",
   "execution_count": 62,
   "metadata": {},
   "outputs": [
    {
     "data": {
      "text/html": [
       "0.0633984209389574"
      ],
      "text/latex": [
       "0.0633984209389574"
      ],
      "text/markdown": [
       "0.0633984209389574"
      ],
      "text/plain": [
       "[1] 0.06339842"
      ]
     },
     "metadata": {},
     "output_type": "display_data"
    }
   ],
   "source": [
    "1-sum((varlength[1])/sum(varlength))"
   ]
  },
  {
   "cell_type": "code",
   "execution_count": 65,
   "metadata": {},
   "outputs": [
    {
     "data": {
      "text/html": [
       "31702"
      ],
      "text/latex": [
       "31702"
      ],
      "text/markdown": [
       "31702"
      ],
      "text/plain": [
       "[1] 31702"
      ]
     },
     "metadata": {},
     "output_type": "display_data"
    }
   ],
   "source": [
    "sum(varlength[2:(length(varlength))])"
   ]
  },
  {
   "cell_type": "code",
   "execution_count": 66,
   "metadata": {},
   "outputs": [],
   "source": [
    "tab$SNP = paste(tab$chr, tab$V1,tab$V2,tab$V3, sep=\":\")"
   ]
  },
  {
   "cell_type": "code",
   "execution_count": 67,
   "metadata": {},
   "outputs": [
    {
     "data": {
      "text/html": [
       "<table class=\"dataframe\">\n",
       "<caption>A data.frame: 6 × 6</caption>\n",
       "<thead>\n",
       "\t<tr><th></th><th scope=col>V1</th><th scope=col>V2</th><th scope=col>V3</th><th scope=col>chr</th><th scope=col>size</th><th scope=col>SNP</th></tr>\n",
       "\t<tr><th></th><th scope=col>&lt;int&gt;</th><th scope=col>&lt;fct&gt;</th><th scope=col>&lt;fct&gt;</th><th scope=col>&lt;int&gt;</th><th scope=col>&lt;int&gt;</th><th scope=col>&lt;chr&gt;</th></tr>\n",
       "</thead>\n",
       "<tbody>\n",
       "\t<tr><th scope=row>1</th><td>714277</td><td>C </td><td>A</td><td>1</td><td>1</td><td>1:714277:C:A </td></tr>\n",
       "\t<tr><th scope=row>2</th><td>751756</td><td>T </td><td>C</td><td>1</td><td>1</td><td>1:751756:T:C </td></tr>\n",
       "\t<tr><th scope=row>3</th><td>752509</td><td>CA</td><td>C</td><td>1</td><td>2</td><td>1:752509:CA:C</td></tr>\n",
       "\t<tr><th scope=row>4</th><td>777122</td><td>A </td><td>T</td><td>1</td><td>1</td><td>1:777122:A:T </td></tr>\n",
       "\t<tr><th scope=row>5</th><td>777232</td><td>C </td><td>T</td><td>1</td><td>1</td><td>1:777232:C:T </td></tr>\n",
       "\t<tr><th scope=row>6</th><td>779322</td><td>A </td><td>G</td><td>1</td><td>1</td><td>1:779322:A:G </td></tr>\n",
       "</tbody>\n",
       "</table>\n"
      ],
      "text/latex": [
       "A data.frame: 6 × 6\n",
       "\\begin{tabular}{r|llllll}\n",
       "  & V1 & V2 & V3 & chr & size & SNP\\\\\n",
       "  & <int> & <fct> & <fct> & <int> & <int> & <chr>\\\\\n",
       "\\hline\n",
       "\t1 & 714277 & C  & A & 1 & 1 & 1:714277:C:A \\\\\n",
       "\t2 & 751756 & T  & C & 1 & 1 & 1:751756:T:C \\\\\n",
       "\t3 & 752509 & CA & C & 1 & 2 & 1:752509:CA:C\\\\\n",
       "\t4 & 777122 & A  & T & 1 & 1 & 1:777122:A:T \\\\\n",
       "\t5 & 777232 & C  & T & 1 & 1 & 1:777232:C:T \\\\\n",
       "\t6 & 779322 & A  & G & 1 & 1 & 1:779322:A:G \\\\\n",
       "\\end{tabular}\n"
      ],
      "text/markdown": [
       "\n",
       "A data.frame: 6 × 6\n",
       "\n",
       "| <!--/--> | V1 &lt;int&gt; | V2 &lt;fct&gt; | V3 &lt;fct&gt; | chr &lt;int&gt; | size &lt;int&gt; | SNP &lt;chr&gt; |\n",
       "|---|---|---|---|---|---|---|\n",
       "| 1 | 714277 | C  | A | 1 | 1 | 1:714277:C:A  |\n",
       "| 2 | 751756 | T  | C | 1 | 1 | 1:751756:T:C  |\n",
       "| 3 | 752509 | CA | C | 1 | 2 | 1:752509:CA:C |\n",
       "| 4 | 777122 | A  | T | 1 | 1 | 1:777122:A:T  |\n",
       "| 5 | 777232 | C  | T | 1 | 1 | 1:777232:C:T  |\n",
       "| 6 | 779322 | A  | G | 1 | 1 | 1:779322:A:G  |\n",
       "\n"
      ],
      "text/plain": [
       "  V1     V2 V3 chr size SNP          \n",
       "1 714277 C  A  1   1    1:714277:C:A \n",
       "2 751756 T  C  1   1    1:751756:T:C \n",
       "3 752509 CA C  1   2    1:752509:CA:C\n",
       "4 777122 A  T  1   1    1:777122:A:T \n",
       "5 777232 C  T  1   1    1:777232:C:T \n",
       "6 779322 A  G  1   1    1:779322:A:G "
      ]
     },
     "metadata": {},
     "output_type": "display_data"
    }
   ],
   "source": [
    "head(tab)"
   ]
  },
  {
   "cell_type": "code",
   "execution_count": 68,
   "metadata": {},
   "outputs": [],
   "source": [
    "bed = data.frame(tab$chr, tab$V1-1, tab$V1, tab$SNP)"
   ]
  },
  {
   "cell_type": "code",
   "execution_count": 70,
   "metadata": {},
   "outputs": [],
   "source": [
    "bed =subset(bed, tab$size>1)"
   ]
  },
  {
   "cell_type": "code",
   "execution_count": 71,
   "metadata": {},
   "outputs": [
    {
     "data": {
      "text/html": [
       "<style>\n",
       ".list-inline {list-style: none; margin:0; padding: 0}\n",
       ".list-inline>li {display: inline-block}\n",
       ".list-inline>li:not(:last-child)::after {content: \"\\00b7\"; padding: 0 .5ex}\n",
       "</style>\n",
       "<ol class=list-inline><li>31702</li><li>4</li></ol>\n"
      ],
      "text/latex": [
       "\\begin{enumerate*}\n",
       "\\item 31702\n",
       "\\item 4\n",
       "\\end{enumerate*}\n"
      ],
      "text/markdown": [
       "1. 31702\n",
       "2. 4\n",
       "\n",
       "\n"
      ],
      "text/plain": [
       "[1] 31702     4"
      ]
     },
     "metadata": {},
     "output_type": "display_data"
    }
   ],
   "source": [
    "dim(bed)"
   ]
  },
  {
   "cell_type": "code",
   "execution_count": 73,
   "metadata": {},
   "outputs": [],
   "source": [
    "write.table(bed, '/nfs/lab/projects/pbmc_snATAC/analysis_v2/example_boxplots/indels.bed', sep=\"\\t\", quote=F, \n",
    "            col.names=F, row.names=F)"
   ]
  },
  {
   "cell_type": "code",
   "execution_count": 74,
   "metadata": {},
   "outputs": [],
   "source": [
    "examp = read.table('/nfs/lab/projects/pbmc_snATAC/analysis_v2/example_boxplots/snp_list')"
   ]
  },
  {
   "cell_type": "code",
   "execution_count": 76,
   "metadata": {},
   "outputs": [],
   "source": [
    "ex_bed = data.frame(examp[,1], examp[,2]-10000, examp[,2]+10000, paste(examp[,1], examp[,2], sep=\":\"))"
   ]
  },
  {
   "cell_type": "code",
   "execution_count": 79,
   "metadata": {},
   "outputs": [],
   "source": [
    "write.table(ex_bed, '/nfs/lab/projects/pbmc_snATAC/analysis_v2/example_boxplots/snp_list_10kb.bed', sep=\"\\t\", quote=F, \n",
    "            col.names=F, row.names=F)"
   ]
  },
  {
   "cell_type": "code",
   "execution_count": null,
   "metadata": {},
   "outputs": [],
   "source": [
    "bedtools intersect -a snp_list_10kb.bed -b indels.bed -wa -wo > indels_at_snps.bed"
   ]
  }
 ],
 "metadata": {
  "kernelspec": {
   "display_name": "R",
   "language": "R",
   "name": "ir"
  },
  "language_info": {
   "codemirror_mode": "r",
   "file_extension": ".r",
   "mimetype": "text/x-r-source",
   "name": "R",
   "pygments_lexer": "r",
   "version": "3.6.0"
  }
 },
 "nbformat": 4,
 "nbformat_minor": 2
}
